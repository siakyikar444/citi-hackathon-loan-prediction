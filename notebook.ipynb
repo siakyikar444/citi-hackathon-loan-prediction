{
 "cells": [
  {
   "cell_type": "markdown",
   "source": "",
   "metadata": {
    "cell_id": "b1f574dfb78d43f5a73a3916db29ef16",
    "tags": [],
    "deepnote_cell_type": "markdown",
    "deepnote_cell_height": 46
   }
  },
  {
   "cell_type": "markdown",
   "source": "## To-Do\n- Train Data\n    - Need to replace rows with 3+ in dependents column\n    - Need to decide how to clean the null values for all columns\n- Test Data\n    - Need to replace rows with 3+ in dependents column\n    - Need to decide how to clean the null values for all columns\n\n\n- Create powerpoint slides\n    - Not more than 3-4 slides\n    - Raw Data -> Data Cleaning / Manipulation (1 slide?)\n    - Data Exploration  (1 slide?)\n    - ML Model / Constraints (1 slide?)\n    - Insights and Conclusion (1 slide?)",
   "metadata": {
    "cell_id": "c01d7205ab5f46c7aef5d916942b5351",
    "tags": [],
    "deepnote_cell_type": "markdown",
    "deepnote_cell_height": 452
   }
  },
  {
   "cell_type": "code",
   "source": "import pandas as pd\nimport seaborn as sns\nimport numpy as np\nimport matplotlib.pyplot as plt",
   "metadata": {
    "cell_id": "a7cb66c2edb54615b294278a9d50f942",
    "tags": [],
    "deepnote_to_be_reexecuted": false,
    "source_hash": "2248421b",
    "execution_start": 1659448507617,
    "execution_millis": 5525,
    "deepnote_cell_type": "code",
    "deepnote_cell_height": 130
   },
   "outputs": [],
   "execution_count": null
  },
  {
   "cell_type": "code",
   "source": "df = pd.read_csv(\"train.csv\")\ndf.head()",
   "metadata": {
    "cell_id": "6ec328ce14c1413fbb4866bb9fa0e101",
    "tags": [],
    "deepnote_to_be_reexecuted": false,
    "source_hash": "fd59a075",
    "execution_start": 1659448513142,
    "execution_millis": 159,
    "deepnote_cell_type": "code",
    "deepnote_cell_height": 423
   },
   "outputs": [
    {
     "output_type": "execute_result",
     "execution_count": 2,
     "data": {
      "application/vnd.deepnote.dataframe.v3+json": {
       "column_count": 13,
       "row_count": 5,
       "columns": [
        {
         "name": "Loan_ID",
         "dtype": "object",
         "stats": {
          "unique_count": 5,
          "nan_count": 0,
          "categories": [
           {
            "name": "LP001002",
            "count": 1
           },
           {
            "name": "LP001003",
            "count": 1
           },
           {
            "name": "3 others",
            "count": 3
           }
          ]
         }
        },
        {
         "name": "Gender",
         "dtype": "object",
         "stats": {
          "unique_count": 1,
          "nan_count": 0,
          "categories": [
           {
            "name": "Male",
            "count": 5
           }
          ]
         }
        },
        {
         "name": "Married",
         "dtype": "object",
         "stats": {
          "unique_count": 2,
          "nan_count": 0,
          "categories": [
           {
            "name": "Yes",
            "count": 3
           },
           {
            "name": "No",
            "count": 2
           }
          ]
         }
        },
        {
         "name": "Dependents",
         "dtype": "object",
         "stats": {
          "unique_count": 2,
          "nan_count": 0,
          "categories": [
           {
            "name": "0",
            "count": 4
           },
           {
            "name": "1",
            "count": 1
           }
          ]
         }
        },
        {
         "name": "Education",
         "dtype": "object",
         "stats": {
          "unique_count": 2,
          "nan_count": 0,
          "categories": [
           {
            "name": "Graduate",
            "count": 4
           },
           {
            "name": "Not Graduate",
            "count": 1
           }
          ]
         }
        },
        {
         "name": "Self_Employed",
         "dtype": "object",
         "stats": {
          "unique_count": 2,
          "nan_count": 0,
          "categories": [
           {
            "name": "No",
            "count": 4
           },
           {
            "name": "Yes",
            "count": 1
           }
          ]
         }
        },
        {
         "name": "ApplicantIncome",
         "dtype": "int64",
         "stats": {
          "unique_count": 5,
          "nan_count": 0,
          "min": "2583",
          "max": "6000",
          "histogram": [
           {
            "bin_start": 2583,
            "bin_end": 2924.7,
            "count": 1
           },
           {
            "bin_start": 2924.7,
            "bin_end": 3266.4,
            "count": 1
           },
           {
            "bin_start": 3266.4,
            "bin_end": 3608.1,
            "count": 0
           },
           {
            "bin_start": 3608.1,
            "bin_end": 3949.8,
            "count": 0
           },
           {
            "bin_start": 3949.8,
            "bin_end": 4291.5,
            "count": 0
           },
           {
            "bin_start": 4291.5,
            "bin_end": 4633.2,
            "count": 1
           },
           {
            "bin_start": 4633.2,
            "bin_end": 4974.9,
            "count": 0
           },
           {
            "bin_start": 4974.9,
            "bin_end": 5316.6,
            "count": 0
           },
           {
            "bin_start": 5316.6,
            "bin_end": 5658.299999999999,
            "count": 0
           },
           {
            "bin_start": 5658.299999999999,
            "bin_end": 6000,
            "count": 2
           }
          ]
         }
        },
        {
         "name": "CoapplicantIncome",
         "dtype": "float64",
         "stats": {
          "unique_count": 3,
          "nan_count": 0,
          "min": "0.0",
          "max": "2358.0",
          "histogram": [
           {
            "bin_start": 0,
            "bin_end": 235.8,
            "count": 3
           },
           {
            "bin_start": 235.8,
            "bin_end": 471.6,
            "count": 0
           },
           {
            "bin_start": 471.6,
            "bin_end": 707.4000000000001,
            "count": 0
           },
           {
            "bin_start": 707.4000000000001,
            "bin_end": 943.2,
            "count": 0
           },
           {
            "bin_start": 943.2,
            "bin_end": 1179,
            "count": 0
           },
           {
            "bin_start": 1179,
            "bin_end": 1414.8000000000002,
            "count": 0
           },
           {
            "bin_start": 1414.8000000000002,
            "bin_end": 1650.6000000000001,
            "count": 1
           },
           {
            "bin_start": 1650.6000000000001,
            "bin_end": 1886.4,
            "count": 0
           },
           {
            "bin_start": 1886.4,
            "bin_end": 2122.2000000000003,
            "count": 0
           },
           {
            "bin_start": 2122.2000000000003,
            "bin_end": 2358,
            "count": 1
           }
          ]
         }
        },
        {
         "name": "LoanAmount",
         "dtype": "float64",
         "stats": {
          "unique_count": 4,
          "nan_count": 1,
          "min": "66.0",
          "max": "141.0",
          "histogram": [
           {
            "bin_start": 66,
            "bin_end": 73.5,
            "count": 1
           },
           {
            "bin_start": 73.5,
            "bin_end": 81,
            "count": 0
           },
           {
            "bin_start": 81,
            "bin_end": 88.5,
            "count": 0
           },
           {
            "bin_start": 88.5,
            "bin_end": 96,
            "count": 0
           },
           {
            "bin_start": 96,
            "bin_end": 103.5,
            "count": 0
           },
           {
            "bin_start": 103.5,
            "bin_end": 111,
            "count": 0
           },
           {
            "bin_start": 111,
            "bin_end": 118.5,
            "count": 0
           },
           {
            "bin_start": 118.5,
            "bin_end": 126,
            "count": 1
           },
           {
            "bin_start": 126,
            "bin_end": 133.5,
            "count": 1
           },
           {
            "bin_start": 133.5,
            "bin_end": 141,
            "count": 1
           }
          ]
         }
        },
        {
         "name": "Loan_Amount_Term",
         "dtype": "float64",
         "stats": {
          "unique_count": 1,
          "nan_count": 0,
          "min": "360.0",
          "max": "360.0",
          "histogram": [
           {
            "bin_start": 359.5,
            "bin_end": 359.6,
            "count": 0
           },
           {
            "bin_start": 359.6,
            "bin_end": 359.7,
            "count": 0
           },
           {
            "bin_start": 359.7,
            "bin_end": 359.8,
            "count": 0
           },
           {
            "bin_start": 359.8,
            "bin_end": 359.9,
            "count": 0
           },
           {
            "bin_start": 359.9,
            "bin_end": 360,
            "count": 0
           },
           {
            "bin_start": 360,
            "bin_end": 360.1,
            "count": 5
           },
           {
            "bin_start": 360.1,
            "bin_end": 360.2,
            "count": 0
           },
           {
            "bin_start": 360.2,
            "bin_end": 360.3,
            "count": 0
           },
           {
            "bin_start": 360.3,
            "bin_end": 360.4,
            "count": 0
           },
           {
            "bin_start": 360.4,
            "bin_end": 360.5,
            "count": 0
           }
          ]
         }
        },
        {
         "name": "Credit_History",
         "dtype": "float64",
         "stats": {
          "unique_count": 1,
          "nan_count": 0,
          "min": "1.0",
          "max": "1.0",
          "histogram": [
           {
            "bin_start": 0.5,
            "bin_end": 0.6,
            "count": 0
           },
           {
            "bin_start": 0.6,
            "bin_end": 0.7,
            "count": 0
           },
           {
            "bin_start": 0.7,
            "bin_end": 0.8,
            "count": 0
           },
           {
            "bin_start": 0.8,
            "bin_end": 0.9,
            "count": 0
           },
           {
            "bin_start": 0.9,
            "bin_end": 1,
            "count": 0
           },
           {
            "bin_start": 1,
            "bin_end": 1.1,
            "count": 5
           },
           {
            "bin_start": 1.1,
            "bin_end": 1.2000000000000002,
            "count": 0
           },
           {
            "bin_start": 1.2000000000000002,
            "bin_end": 1.3,
            "count": 0
           },
           {
            "bin_start": 1.3,
            "bin_end": 1.4,
            "count": 0
           },
           {
            "bin_start": 1.4,
            "bin_end": 1.5,
            "count": 0
           }
          ]
         }
        },
        {
         "name": "Property_Area",
         "dtype": "object",
         "stats": {
          "unique_count": 2,
          "nan_count": 0,
          "categories": [
           {
            "name": "Urban",
            "count": 4
           },
           {
            "name": "Rural",
            "count": 1
           }
          ]
         }
        },
        {
         "name": "Loan_Status",
         "dtype": "object",
         "stats": {
          "unique_count": 2,
          "nan_count": 0,
          "categories": [
           {
            "name": "Y",
            "count": 4
           },
           {
            "name": "N",
            "count": 1
           }
          ]
         }
        },
        {
         "name": "_deepnote_index_column",
         "dtype": "int64"
        }
       ],
       "rows": [
        {
         "Loan_ID": "LP001002",
         "Gender": "Male",
         "Married": "No",
         "Dependents": "0",
         "Education": "Graduate",
         "Self_Employed": "No",
         "ApplicantIncome": 5849,
         "CoapplicantIncome": 0,
         "LoanAmount": "nan",
         "Loan_Amount_Term": 360,
         "Credit_History": 1,
         "Property_Area": "Urban",
         "Loan_Status": "Y",
         "_deepnote_index_column": 0
        },
        {
         "Loan_ID": "LP001003",
         "Gender": "Male",
         "Married": "Yes",
         "Dependents": "1",
         "Education": "Graduate",
         "Self_Employed": "No",
         "ApplicantIncome": 4583,
         "CoapplicantIncome": 1508,
         "LoanAmount": 128,
         "Loan_Amount_Term": 360,
         "Credit_History": 1,
         "Property_Area": "Rural",
         "Loan_Status": "N",
         "_deepnote_index_column": 1
        },
        {
         "Loan_ID": "LP001005",
         "Gender": "Male",
         "Married": "Yes",
         "Dependents": "0",
         "Education": "Graduate",
         "Self_Employed": "Yes",
         "ApplicantIncome": 3000,
         "CoapplicantIncome": 0,
         "LoanAmount": 66,
         "Loan_Amount_Term": 360,
         "Credit_History": 1,
         "Property_Area": "Urban",
         "Loan_Status": "Y",
         "_deepnote_index_column": 2
        },
        {
         "Loan_ID": "LP001006",
         "Gender": "Male",
         "Married": "Yes",
         "Dependents": "0",
         "Education": "Not Graduate",
         "Self_Employed": "No",
         "ApplicantIncome": 2583,
         "CoapplicantIncome": 2358,
         "LoanAmount": 120,
         "Loan_Amount_Term": 360,
         "Credit_History": 1,
         "Property_Area": "Urban",
         "Loan_Status": "Y",
         "_deepnote_index_column": 3
        },
        {
         "Loan_ID": "LP001008",
         "Gender": "Male",
         "Married": "No",
         "Dependents": "0",
         "Education": "Graduate",
         "Self_Employed": "No",
         "ApplicantIncome": 6000,
         "CoapplicantIncome": 0,
         "LoanAmount": 141,
         "Loan_Amount_Term": 360,
         "Credit_History": 1,
         "Property_Area": "Urban",
         "Loan_Status": "Y",
         "_deepnote_index_column": 4
        }
       ]
      },
      "text/plain": "    Loan_ID Gender Married Dependents     Education Self_Employed  \\\n0  LP001002   Male      No          0      Graduate            No   \n1  LP001003   Male     Yes          1      Graduate            No   \n2  LP001005   Male     Yes          0      Graduate           Yes   \n3  LP001006   Male     Yes          0  Not Graduate            No   \n4  LP001008   Male      No          0      Graduate            No   \n\n   ApplicantIncome  CoapplicantIncome  LoanAmount  Loan_Amount_Term  \\\n0             5849                0.0         NaN             360.0   \n1             4583             1508.0       128.0             360.0   \n2             3000                0.0        66.0             360.0   \n3             2583             2358.0       120.0             360.0   \n4             6000                0.0       141.0             360.0   \n\n   Credit_History Property_Area Loan_Status  \n0             1.0         Urban           Y  \n1             1.0         Rural           N  \n2             1.0         Urban           Y  \n3             1.0         Urban           Y  \n4             1.0         Urban           Y  ",
      "text/html": "<div>\n<style scoped>\n    .dataframe tbody tr th:only-of-type {\n        vertical-align: middle;\n    }\n\n    .dataframe tbody tr th {\n        vertical-align: top;\n    }\n\n    .dataframe thead th {\n        text-align: right;\n    }\n</style>\n<table border=\"1\" class=\"dataframe\">\n  <thead>\n    <tr style=\"text-align: right;\">\n      <th></th>\n      <th>Loan_ID</th>\n      <th>Gender</th>\n      <th>Married</th>\n      <th>Dependents</th>\n      <th>Education</th>\n      <th>Self_Employed</th>\n      <th>ApplicantIncome</th>\n      <th>CoapplicantIncome</th>\n      <th>LoanAmount</th>\n      <th>Loan_Amount_Term</th>\n      <th>Credit_History</th>\n      <th>Property_Area</th>\n      <th>Loan_Status</th>\n    </tr>\n  </thead>\n  <tbody>\n    <tr>\n      <th>0</th>\n      <td>LP001002</td>\n      <td>Male</td>\n      <td>No</td>\n      <td>0</td>\n      <td>Graduate</td>\n      <td>No</td>\n      <td>5849</td>\n      <td>0.0</td>\n      <td>NaN</td>\n      <td>360.0</td>\n      <td>1.0</td>\n      <td>Urban</td>\n      <td>Y</td>\n    </tr>\n    <tr>\n      <th>1</th>\n      <td>LP001003</td>\n      <td>Male</td>\n      <td>Yes</td>\n      <td>1</td>\n      <td>Graduate</td>\n      <td>No</td>\n      <td>4583</td>\n      <td>1508.0</td>\n      <td>128.0</td>\n      <td>360.0</td>\n      <td>1.0</td>\n      <td>Rural</td>\n      <td>N</td>\n    </tr>\n    <tr>\n      <th>2</th>\n      <td>LP001005</td>\n      <td>Male</td>\n      <td>Yes</td>\n      <td>0</td>\n      <td>Graduate</td>\n      <td>Yes</td>\n      <td>3000</td>\n      <td>0.0</td>\n      <td>66.0</td>\n      <td>360.0</td>\n      <td>1.0</td>\n      <td>Urban</td>\n      <td>Y</td>\n    </tr>\n    <tr>\n      <th>3</th>\n      <td>LP001006</td>\n      <td>Male</td>\n      <td>Yes</td>\n      <td>0</td>\n      <td>Not Graduate</td>\n      <td>No</td>\n      <td>2583</td>\n      <td>2358.0</td>\n      <td>120.0</td>\n      <td>360.0</td>\n      <td>1.0</td>\n      <td>Urban</td>\n      <td>Y</td>\n    </tr>\n    <tr>\n      <th>4</th>\n      <td>LP001008</td>\n      <td>Male</td>\n      <td>No</td>\n      <td>0</td>\n      <td>Graduate</td>\n      <td>No</td>\n      <td>6000</td>\n      <td>0.0</td>\n      <td>141.0</td>\n      <td>360.0</td>\n      <td>1.0</td>\n      <td>Urban</td>\n      <td>Y</td>\n    </tr>\n  </tbody>\n</table>\n</div>"
     },
     "metadata": {}
    }
   ],
   "execution_count": null
  },
  {
   "cell_type": "code",
   "source": " # Change Loan status from Y & N to 1 & 0\ndf['Loan_Status'] = df['Loan_Status'].replace({'N': 0, 'Y': 1})",
   "metadata": {
    "cell_id": "2eafbb429cd1491fb835dac533e75bb2",
    "tags": [],
    "deepnote_to_be_reexecuted": false,
    "source_hash": "3dde5706",
    "execution_start": 1659448513307,
    "execution_millis": 10,
    "deepnote_cell_type": "code",
    "deepnote_cell_height": 94
   },
   "outputs": [],
   "execution_count": null
  },
  {
   "cell_type": "code",
   "source": "df.head()",
   "metadata": {
    "cell_id": "84a22ddc0feb4e619b888cf13cb5cce0",
    "tags": [],
    "deepnote_to_be_reexecuted": false,
    "source_hash": "c085b6ba",
    "execution_start": 1659448513331,
    "execution_millis": 138,
    "deepnote_cell_type": "code",
    "deepnote_cell_height": 405
   },
   "outputs": [
    {
     "output_type": "execute_result",
     "execution_count": 4,
     "data": {
      "application/vnd.deepnote.dataframe.v3+json": {
       "column_count": 13,
       "row_count": 5,
       "columns": [
        {
         "name": "Loan_ID",
         "dtype": "object",
         "stats": {
          "unique_count": 5,
          "nan_count": 0,
          "categories": [
           {
            "name": "LP001002",
            "count": 1
           },
           {
            "name": "LP001003",
            "count": 1
           },
           {
            "name": "3 others",
            "count": 3
           }
          ]
         }
        },
        {
         "name": "Gender",
         "dtype": "object",
         "stats": {
          "unique_count": 1,
          "nan_count": 0,
          "categories": [
           {
            "name": "Male",
            "count": 5
           }
          ]
         }
        },
        {
         "name": "Married",
         "dtype": "object",
         "stats": {
          "unique_count": 2,
          "nan_count": 0,
          "categories": [
           {
            "name": "Yes",
            "count": 3
           },
           {
            "name": "No",
            "count": 2
           }
          ]
         }
        },
        {
         "name": "Dependents",
         "dtype": "object",
         "stats": {
          "unique_count": 2,
          "nan_count": 0,
          "categories": [
           {
            "name": "0",
            "count": 4
           },
           {
            "name": "1",
            "count": 1
           }
          ]
         }
        },
        {
         "name": "Education",
         "dtype": "object",
         "stats": {
          "unique_count": 2,
          "nan_count": 0,
          "categories": [
           {
            "name": "Graduate",
            "count": 4
           },
           {
            "name": "Not Graduate",
            "count": 1
           }
          ]
         }
        },
        {
         "name": "Self_Employed",
         "dtype": "object",
         "stats": {
          "unique_count": 2,
          "nan_count": 0,
          "categories": [
           {
            "name": "No",
            "count": 4
           },
           {
            "name": "Yes",
            "count": 1
           }
          ]
         }
        },
        {
         "name": "ApplicantIncome",
         "dtype": "int64",
         "stats": {
          "unique_count": 5,
          "nan_count": 0,
          "min": "2583",
          "max": "6000",
          "histogram": [
           {
            "bin_start": 2583,
            "bin_end": 2924.7,
            "count": 1
           },
           {
            "bin_start": 2924.7,
            "bin_end": 3266.4,
            "count": 1
           },
           {
            "bin_start": 3266.4,
            "bin_end": 3608.1,
            "count": 0
           },
           {
            "bin_start": 3608.1,
            "bin_end": 3949.8,
            "count": 0
           },
           {
            "bin_start": 3949.8,
            "bin_end": 4291.5,
            "count": 0
           },
           {
            "bin_start": 4291.5,
            "bin_end": 4633.2,
            "count": 1
           },
           {
            "bin_start": 4633.2,
            "bin_end": 4974.9,
            "count": 0
           },
           {
            "bin_start": 4974.9,
            "bin_end": 5316.6,
            "count": 0
           },
           {
            "bin_start": 5316.6,
            "bin_end": 5658.299999999999,
            "count": 0
           },
           {
            "bin_start": 5658.299999999999,
            "bin_end": 6000,
            "count": 2
           }
          ]
         }
        },
        {
         "name": "CoapplicantIncome",
         "dtype": "float64",
         "stats": {
          "unique_count": 3,
          "nan_count": 0,
          "min": "0.0",
          "max": "2358.0",
          "histogram": [
           {
            "bin_start": 0,
            "bin_end": 235.8,
            "count": 3
           },
           {
            "bin_start": 235.8,
            "bin_end": 471.6,
            "count": 0
           },
           {
            "bin_start": 471.6,
            "bin_end": 707.4000000000001,
            "count": 0
           },
           {
            "bin_start": 707.4000000000001,
            "bin_end": 943.2,
            "count": 0
           },
           {
            "bin_start": 943.2,
            "bin_end": 1179,
            "count": 0
           },
           {
            "bin_start": 1179,
            "bin_end": 1414.8000000000002,
            "count": 0
           },
           {
            "bin_start": 1414.8000000000002,
            "bin_end": 1650.6000000000001,
            "count": 1
           },
           {
            "bin_start": 1650.6000000000001,
            "bin_end": 1886.4,
            "count": 0
           },
           {
            "bin_start": 1886.4,
            "bin_end": 2122.2000000000003,
            "count": 0
           },
           {
            "bin_start": 2122.2000000000003,
            "bin_end": 2358,
            "count": 1
           }
          ]
         }
        },
        {
         "name": "LoanAmount",
         "dtype": "float64",
         "stats": {
          "unique_count": 4,
          "nan_count": 1,
          "min": "66.0",
          "max": "141.0",
          "histogram": [
           {
            "bin_start": 66,
            "bin_end": 73.5,
            "count": 1
           },
           {
            "bin_start": 73.5,
            "bin_end": 81,
            "count": 0
           },
           {
            "bin_start": 81,
            "bin_end": 88.5,
            "count": 0
           },
           {
            "bin_start": 88.5,
            "bin_end": 96,
            "count": 0
           },
           {
            "bin_start": 96,
            "bin_end": 103.5,
            "count": 0
           },
           {
            "bin_start": 103.5,
            "bin_end": 111,
            "count": 0
           },
           {
            "bin_start": 111,
            "bin_end": 118.5,
            "count": 0
           },
           {
            "bin_start": 118.5,
            "bin_end": 126,
            "count": 1
           },
           {
            "bin_start": 126,
            "bin_end": 133.5,
            "count": 1
           },
           {
            "bin_start": 133.5,
            "bin_end": 141,
            "count": 1
           }
          ]
         }
        },
        {
         "name": "Loan_Amount_Term",
         "dtype": "float64",
         "stats": {
          "unique_count": 1,
          "nan_count": 0,
          "min": "360.0",
          "max": "360.0",
          "histogram": [
           {
            "bin_start": 359.5,
            "bin_end": 359.6,
            "count": 0
           },
           {
            "bin_start": 359.6,
            "bin_end": 359.7,
            "count": 0
           },
           {
            "bin_start": 359.7,
            "bin_end": 359.8,
            "count": 0
           },
           {
            "bin_start": 359.8,
            "bin_end": 359.9,
            "count": 0
           },
           {
            "bin_start": 359.9,
            "bin_end": 360,
            "count": 0
           },
           {
            "bin_start": 360,
            "bin_end": 360.1,
            "count": 5
           },
           {
            "bin_start": 360.1,
            "bin_end": 360.2,
            "count": 0
           },
           {
            "bin_start": 360.2,
            "bin_end": 360.3,
            "count": 0
           },
           {
            "bin_start": 360.3,
            "bin_end": 360.4,
            "count": 0
           },
           {
            "bin_start": 360.4,
            "bin_end": 360.5,
            "count": 0
           }
          ]
         }
        },
        {
         "name": "Credit_History",
         "dtype": "float64",
         "stats": {
          "unique_count": 1,
          "nan_count": 0,
          "min": "1.0",
          "max": "1.0",
          "histogram": [
           {
            "bin_start": 0.5,
            "bin_end": 0.6,
            "count": 0
           },
           {
            "bin_start": 0.6,
            "bin_end": 0.7,
            "count": 0
           },
           {
            "bin_start": 0.7,
            "bin_end": 0.8,
            "count": 0
           },
           {
            "bin_start": 0.8,
            "bin_end": 0.9,
            "count": 0
           },
           {
            "bin_start": 0.9,
            "bin_end": 1,
            "count": 0
           },
           {
            "bin_start": 1,
            "bin_end": 1.1,
            "count": 5
           },
           {
            "bin_start": 1.1,
            "bin_end": 1.2000000000000002,
            "count": 0
           },
           {
            "bin_start": 1.2000000000000002,
            "bin_end": 1.3,
            "count": 0
           },
           {
            "bin_start": 1.3,
            "bin_end": 1.4,
            "count": 0
           },
           {
            "bin_start": 1.4,
            "bin_end": 1.5,
            "count": 0
           }
          ]
         }
        },
        {
         "name": "Property_Area",
         "dtype": "object",
         "stats": {
          "unique_count": 2,
          "nan_count": 0,
          "categories": [
           {
            "name": "Urban",
            "count": 4
           },
           {
            "name": "Rural",
            "count": 1
           }
          ]
         }
        },
        {
         "name": "Loan_Status",
         "dtype": "int64",
         "stats": {
          "unique_count": 2,
          "nan_count": 0,
          "min": "0",
          "max": "1",
          "histogram": [
           {
            "bin_start": 0,
            "bin_end": 0.1,
            "count": 1
           },
           {
            "bin_start": 0.1,
            "bin_end": 0.2,
            "count": 0
           },
           {
            "bin_start": 0.2,
            "bin_end": 0.30000000000000004,
            "count": 0
           },
           {
            "bin_start": 0.30000000000000004,
            "bin_end": 0.4,
            "count": 0
           },
           {
            "bin_start": 0.4,
            "bin_end": 0.5,
            "count": 0
           },
           {
            "bin_start": 0.5,
            "bin_end": 0.6000000000000001,
            "count": 0
           },
           {
            "bin_start": 0.6000000000000001,
            "bin_end": 0.7000000000000001,
            "count": 0
           },
           {
            "bin_start": 0.7000000000000001,
            "bin_end": 0.8,
            "count": 0
           },
           {
            "bin_start": 0.8,
            "bin_end": 0.9,
            "count": 0
           },
           {
            "bin_start": 0.9,
            "bin_end": 1,
            "count": 4
           }
          ]
         }
        },
        {
         "name": "_deepnote_index_column",
         "dtype": "int64"
        }
       ],
       "rows": [
        {
         "Loan_ID": "LP001002",
         "Gender": "Male",
         "Married": "No",
         "Dependents": "0",
         "Education": "Graduate",
         "Self_Employed": "No",
         "ApplicantIncome": 5849,
         "CoapplicantIncome": 0,
         "LoanAmount": "nan",
         "Loan_Amount_Term": 360,
         "Credit_History": 1,
         "Property_Area": "Urban",
         "Loan_Status": 1,
         "_deepnote_index_column": 0
        },
        {
         "Loan_ID": "LP001003",
         "Gender": "Male",
         "Married": "Yes",
         "Dependents": "1",
         "Education": "Graduate",
         "Self_Employed": "No",
         "ApplicantIncome": 4583,
         "CoapplicantIncome": 1508,
         "LoanAmount": 128,
         "Loan_Amount_Term": 360,
         "Credit_History": 1,
         "Property_Area": "Rural",
         "Loan_Status": 0,
         "_deepnote_index_column": 1
        },
        {
         "Loan_ID": "LP001005",
         "Gender": "Male",
         "Married": "Yes",
         "Dependents": "0",
         "Education": "Graduate",
         "Self_Employed": "Yes",
         "ApplicantIncome": 3000,
         "CoapplicantIncome": 0,
         "LoanAmount": 66,
         "Loan_Amount_Term": 360,
         "Credit_History": 1,
         "Property_Area": "Urban",
         "Loan_Status": 1,
         "_deepnote_index_column": 2
        },
        {
         "Loan_ID": "LP001006",
         "Gender": "Male",
         "Married": "Yes",
         "Dependents": "0",
         "Education": "Not Graduate",
         "Self_Employed": "No",
         "ApplicantIncome": 2583,
         "CoapplicantIncome": 2358,
         "LoanAmount": 120,
         "Loan_Amount_Term": 360,
         "Credit_History": 1,
         "Property_Area": "Urban",
         "Loan_Status": 1,
         "_deepnote_index_column": 3
        },
        {
         "Loan_ID": "LP001008",
         "Gender": "Male",
         "Married": "No",
         "Dependents": "0",
         "Education": "Graduate",
         "Self_Employed": "No",
         "ApplicantIncome": 6000,
         "CoapplicantIncome": 0,
         "LoanAmount": 141,
         "Loan_Amount_Term": 360,
         "Credit_History": 1,
         "Property_Area": "Urban",
         "Loan_Status": 1,
         "_deepnote_index_column": 4
        }
       ]
      },
      "text/plain": "    Loan_ID Gender Married Dependents     Education Self_Employed  \\\n0  LP001002   Male      No          0      Graduate            No   \n1  LP001003   Male     Yes          1      Graduate            No   \n2  LP001005   Male     Yes          0      Graduate           Yes   \n3  LP001006   Male     Yes          0  Not Graduate            No   \n4  LP001008   Male      No          0      Graduate            No   \n\n   ApplicantIncome  CoapplicantIncome  LoanAmount  Loan_Amount_Term  \\\n0             5849                0.0         NaN             360.0   \n1             4583             1508.0       128.0             360.0   \n2             3000                0.0        66.0             360.0   \n3             2583             2358.0       120.0             360.0   \n4             6000                0.0       141.0             360.0   \n\n   Credit_History Property_Area  Loan_Status  \n0             1.0         Urban            1  \n1             1.0         Rural            0  \n2             1.0         Urban            1  \n3             1.0         Urban            1  \n4             1.0         Urban            1  ",
      "text/html": "<div>\n<style scoped>\n    .dataframe tbody tr th:only-of-type {\n        vertical-align: middle;\n    }\n\n    .dataframe tbody tr th {\n        vertical-align: top;\n    }\n\n    .dataframe thead th {\n        text-align: right;\n    }\n</style>\n<table border=\"1\" class=\"dataframe\">\n  <thead>\n    <tr style=\"text-align: right;\">\n      <th></th>\n      <th>Loan_ID</th>\n      <th>Gender</th>\n      <th>Married</th>\n      <th>Dependents</th>\n      <th>Education</th>\n      <th>Self_Employed</th>\n      <th>ApplicantIncome</th>\n      <th>CoapplicantIncome</th>\n      <th>LoanAmount</th>\n      <th>Loan_Amount_Term</th>\n      <th>Credit_History</th>\n      <th>Property_Area</th>\n      <th>Loan_Status</th>\n    </tr>\n  </thead>\n  <tbody>\n    <tr>\n      <th>0</th>\n      <td>LP001002</td>\n      <td>Male</td>\n      <td>No</td>\n      <td>0</td>\n      <td>Graduate</td>\n      <td>No</td>\n      <td>5849</td>\n      <td>0.0</td>\n      <td>NaN</td>\n      <td>360.0</td>\n      <td>1.0</td>\n      <td>Urban</td>\n      <td>1</td>\n    </tr>\n    <tr>\n      <th>1</th>\n      <td>LP001003</td>\n      <td>Male</td>\n      <td>Yes</td>\n      <td>1</td>\n      <td>Graduate</td>\n      <td>No</td>\n      <td>4583</td>\n      <td>1508.0</td>\n      <td>128.0</td>\n      <td>360.0</td>\n      <td>1.0</td>\n      <td>Rural</td>\n      <td>0</td>\n    </tr>\n    <tr>\n      <th>2</th>\n      <td>LP001005</td>\n      <td>Male</td>\n      <td>Yes</td>\n      <td>0</td>\n      <td>Graduate</td>\n      <td>Yes</td>\n      <td>3000</td>\n      <td>0.0</td>\n      <td>66.0</td>\n      <td>360.0</td>\n      <td>1.0</td>\n      <td>Urban</td>\n      <td>1</td>\n    </tr>\n    <tr>\n      <th>3</th>\n      <td>LP001006</td>\n      <td>Male</td>\n      <td>Yes</td>\n      <td>0</td>\n      <td>Not Graduate</td>\n      <td>No</td>\n      <td>2583</td>\n      <td>2358.0</td>\n      <td>120.0</td>\n      <td>360.0</td>\n      <td>1.0</td>\n      <td>Urban</td>\n      <td>1</td>\n    </tr>\n    <tr>\n      <th>4</th>\n      <td>LP001008</td>\n      <td>Male</td>\n      <td>No</td>\n      <td>0</td>\n      <td>Graduate</td>\n      <td>No</td>\n      <td>6000</td>\n      <td>0.0</td>\n      <td>141.0</td>\n      <td>360.0</td>\n      <td>1.0</td>\n      <td>Urban</td>\n      <td>1</td>\n    </tr>\n  </tbody>\n</table>\n</div>"
     },
     "metadata": {}
    }
   ],
   "execution_count": null
  },
  {
   "cell_type": "markdown",
   "source": "# Exploratory Data Analysis",
   "metadata": {
    "is_collapsed": false,
    "cell_id": "cdc609676371435a867c5bfc3b734217",
    "tags": [],
    "formattedRanges": [],
    "deepnote_cell_type": "text-cell-h1"
   }
  },
  {
   "cell_type": "code",
   "source": "df.isnull().sum()\n\n#columns with missing cells",
   "metadata": {
    "cell_id": "d15a2403c219454ba153387a3e0c473e",
    "tags": [],
    "deepnote_to_be_reexecuted": false,
    "source_hash": "59ff271d",
    "execution_start": 1659448513475,
    "execution_millis": 22,
    "deepnote_cell_type": "code",
    "deepnote_cell_height": 396,
    "deepnote_output_heights": [
     268
    ]
   },
   "outputs": [
    {
     "output_type": "execute_result",
     "execution_count": 5,
     "data": {
      "text/plain": "Loan_ID               0\nGender               13\nMarried               3\nDependents           15\nEducation             0\nSelf_Employed        32\nApplicantIncome       0\nCoapplicantIncome     0\nLoanAmount           22\nLoan_Amount_Term     14\nCredit_History       50\nProperty_Area         0\nLoan_Status           0\ndtype: int64"
     },
     "metadata": {}
    }
   ],
   "execution_count": null
  },
  {
   "cell_type": "code",
   "source": "df.info()",
   "metadata": {
    "cell_id": "250cb342f5b24ec7858d754aedef2008",
    "tags": [],
    "deepnote_to_be_reexecuted": false,
    "source_hash": "de1e323c",
    "execution_start": 1659448513504,
    "execution_millis": 41,
    "deepnote_cell_type": "code",
    "deepnote_cell_height": 487
   },
   "outputs": [
    {
     "name": "stdout",
     "text": "<class 'pandas.core.frame.DataFrame'>\nRangeIndex: 614 entries, 0 to 613\nData columns (total 13 columns):\n #   Column             Non-Null Count  Dtype  \n---  ------             --------------  -----  \n 0   Loan_ID            614 non-null    object \n 1   Gender             601 non-null    object \n 2   Married            611 non-null    object \n 3   Dependents         599 non-null    object \n 4   Education          614 non-null    object \n 5   Self_Employed      582 non-null    object \n 6   ApplicantIncome    614 non-null    int64  \n 7   CoapplicantIncome  614 non-null    float64\n 8   LoanAmount         592 non-null    float64\n 9   Loan_Amount_Term   600 non-null    float64\n 10  Credit_History     564 non-null    float64\n 11  Property_Area      614 non-null    object \n 12  Loan_Status        614 non-null    int64  \ndtypes: float64(4), int64(2), object(7)\nmemory usage: 62.5+ KB\n",
     "output_type": "stream"
    }
   ],
   "execution_count": null
  },
  {
   "cell_type": "code",
   "source": "# Describe the numerical data\n\ndf.describe()",
   "metadata": {
    "cell_id": "c820bbfa7a6a45ef964e55e256386316",
    "tags": [],
    "deepnote_to_be_reexecuted": false,
    "source_hash": "89224fbb",
    "execution_start": 1659448513553,
    "execution_millis": 230,
    "deepnote_cell_type": "code",
    "deepnote_cell_height": 549
   },
   "outputs": [
    {
     "output_type": "execute_result",
     "execution_count": 7,
     "data": {
      "application/vnd.deepnote.dataframe.v3+json": {
       "column_count": 6,
       "row_count": 8,
       "columns": [
        {
         "name": "ApplicantIncome",
         "dtype": "float64",
         "stats": {
          "unique_count": 8,
          "nan_count": 0,
          "min": "150.0",
          "max": "81000.0",
          "histogram": [
           {
            "bin_start": 150,
            "bin_end": 8235,
            "count": 7
           },
           {
            "bin_start": 8235,
            "bin_end": 16320,
            "count": 0
           },
           {
            "bin_start": 16320,
            "bin_end": 24405,
            "count": 0
           },
           {
            "bin_start": 24405,
            "bin_end": 32490,
            "count": 0
           },
           {
            "bin_start": 32490,
            "bin_end": 40575,
            "count": 0
           },
           {
            "bin_start": 40575,
            "bin_end": 48660,
            "count": 0
           },
           {
            "bin_start": 48660,
            "bin_end": 56745,
            "count": 0
           },
           {
            "bin_start": 56745,
            "bin_end": 64830,
            "count": 0
           },
           {
            "bin_start": 64830,
            "bin_end": 72915,
            "count": 0
           },
           {
            "bin_start": 72915,
            "bin_end": 81000,
            "count": 1
           }
          ]
         }
        },
        {
         "name": "CoapplicantIncome",
         "dtype": "float64",
         "stats": {
          "unique_count": 7,
          "nan_count": 0,
          "min": "0.0",
          "max": "41667.0",
          "histogram": [
           {
            "bin_start": 0,
            "bin_end": 4166.7,
            "count": 7
           },
           {
            "bin_start": 4166.7,
            "bin_end": 8333.4,
            "count": 0
           },
           {
            "bin_start": 8333.4,
            "bin_end": 12500.099999999999,
            "count": 0
           },
           {
            "bin_start": 12500.099999999999,
            "bin_end": 16666.8,
            "count": 0
           },
           {
            "bin_start": 16666.8,
            "bin_end": 20833.5,
            "count": 0
           },
           {
            "bin_start": 20833.5,
            "bin_end": 25000.199999999997,
            "count": 0
           },
           {
            "bin_start": 25000.199999999997,
            "bin_end": 29166.899999999998,
            "count": 0
           },
           {
            "bin_start": 29166.899999999998,
            "bin_end": 33333.6,
            "count": 0
           },
           {
            "bin_start": 33333.6,
            "bin_end": 37500.299999999996,
            "count": 0
           },
           {
            "bin_start": 37500.299999999996,
            "bin_end": 41667,
            "count": 1
           }
          ]
         }
        },
        {
         "name": "LoanAmount",
         "dtype": "float64",
         "stats": {
          "unique_count": 8,
          "nan_count": 0,
          "min": "9.0",
          "max": "700.0",
          "histogram": [
           {
            "bin_start": 9,
            "bin_end": 78.1,
            "count": 1
           },
           {
            "bin_start": 78.1,
            "bin_end": 147.2,
            "count": 4
           },
           {
            "bin_start": 147.2,
            "bin_end": 216.29999999999998,
            "count": 1
           },
           {
            "bin_start": 216.29999999999998,
            "bin_end": 285.4,
            "count": 0
           },
           {
            "bin_start": 285.4,
            "bin_end": 354.5,
            "count": 0
           },
           {
            "bin_start": 354.5,
            "bin_end": 423.59999999999997,
            "count": 0
           },
           {
            "bin_start": 423.59999999999997,
            "bin_end": 492.69999999999993,
            "count": 0
           },
           {
            "bin_start": 492.69999999999993,
            "bin_end": 561.8,
            "count": 0
           },
           {
            "bin_start": 561.8,
            "bin_end": 630.9,
            "count": 1
           },
           {
            "bin_start": 630.9,
            "bin_end": 700,
            "count": 1
           }
          ]
         }
        },
        {
         "name": "Loan_Amount_Term",
         "dtype": "float64",
         "stats": {
          "unique_count": 6,
          "nan_count": 0,
          "min": "12.0",
          "max": "600.0",
          "histogram": [
           {
            "bin_start": 12,
            "bin_end": 70.8,
            "count": 2
           },
           {
            "bin_start": 70.8,
            "bin_end": 129.6,
            "count": 0
           },
           {
            "bin_start": 129.6,
            "bin_end": 188.39999999999998,
            "count": 0
           },
           {
            "bin_start": 188.39999999999998,
            "bin_end": 247.2,
            "count": 0
           },
           {
            "bin_start": 247.2,
            "bin_end": 306,
            "count": 0
           },
           {
            "bin_start": 306,
            "bin_end": 364.79999999999995,
            "count": 4
           },
           {
            "bin_start": 364.79999999999995,
            "bin_end": 423.59999999999997,
            "count": 0
           },
           {
            "bin_start": 423.59999999999997,
            "bin_end": 482.4,
            "count": 1
           },
           {
            "bin_start": 482.4,
            "bin_end": 541.1999999999999,
            "count": 0
           },
           {
            "bin_start": 541.1999999999999,
            "bin_end": 600,
            "count": 1
           }
          ]
         }
        },
        {
         "name": "Credit_History",
         "dtype": "float64",
         "stats": {
          "unique_count": 5,
          "nan_count": 0,
          "min": "0.0",
          "max": "564.0",
          "histogram": [
           {
            "bin_start": 0,
            "bin_end": 56.4,
            "count": 7
           },
           {
            "bin_start": 56.4,
            "bin_end": 112.8,
            "count": 0
           },
           {
            "bin_start": 112.8,
            "bin_end": 169.2,
            "count": 0
           },
           {
            "bin_start": 169.2,
            "bin_end": 225.6,
            "count": 0
           },
           {
            "bin_start": 225.6,
            "bin_end": 282,
            "count": 0
           },
           {
            "bin_start": 282,
            "bin_end": 338.4,
            "count": 0
           },
           {
            "bin_start": 338.4,
            "bin_end": 394.8,
            "count": 0
           },
           {
            "bin_start": 394.8,
            "bin_end": 451.2,
            "count": 0
           },
           {
            "bin_start": 451.2,
            "bin_end": 507.59999999999997,
            "count": 0
           },
           {
            "bin_start": 507.59999999999997,
            "bin_end": 564,
            "count": 1
           }
          ]
         }
        },
        {
         "name": "Loan_Status",
         "dtype": "float64",
         "stats": {
          "unique_count": 5,
          "nan_count": 0,
          "min": "0.0",
          "max": "614.0",
          "histogram": [
           {
            "bin_start": 0,
            "bin_end": 61.4,
            "count": 7
           },
           {
            "bin_start": 61.4,
            "bin_end": 122.8,
            "count": 0
           },
           {
            "bin_start": 122.8,
            "bin_end": 184.2,
            "count": 0
           },
           {
            "bin_start": 184.2,
            "bin_end": 245.6,
            "count": 0
           },
           {
            "bin_start": 245.6,
            "bin_end": 307,
            "count": 0
           },
           {
            "bin_start": 307,
            "bin_end": 368.4,
            "count": 0
           },
           {
            "bin_start": 368.4,
            "bin_end": 429.8,
            "count": 0
           },
           {
            "bin_start": 429.8,
            "bin_end": 491.2,
            "count": 0
           },
           {
            "bin_start": 491.2,
            "bin_end": 552.6,
            "count": 0
           },
           {
            "bin_start": 552.6,
            "bin_end": 614,
            "count": 1
           }
          ]
         }
        },
        {
         "name": "_deepnote_index_column",
         "dtype": "object"
        }
       ],
       "rows": [
        {
         "ApplicantIncome": 614,
         "CoapplicantIncome": 614,
         "LoanAmount": 592,
         "Loan_Amount_Term": 600,
         "Credit_History": 564,
         "Loan_Status": 614,
         "_deepnote_index_column": "count"
        },
        {
         "ApplicantIncome": 5403.459283387622,
         "CoapplicantIncome": 1621.2457980271008,
         "LoanAmount": 146.41216216216216,
         "Loan_Amount_Term": 342,
         "Credit_History": 0.8421985815602837,
         "Loan_Status": 0.6872964169381107,
         "_deepnote_index_column": "mean"
        },
        {
         "ApplicantIncome": 6109.041673387178,
         "CoapplicantIncome": 2926.2483692241885,
         "LoanAmount": 85.58732523570545,
         "Loan_Amount_Term": 65.12040985461256,
         "Credit_History": 0.3648783192364048,
         "Loan_Status": 0.46397268871800085,
         "_deepnote_index_column": "std"
        },
        {
         "ApplicantIncome": 150,
         "CoapplicantIncome": 0,
         "LoanAmount": 9,
         "Loan_Amount_Term": 12,
         "Credit_History": 0,
         "Loan_Status": 0,
         "_deepnote_index_column": "min"
        },
        {
         "ApplicantIncome": 2877.5,
         "CoapplicantIncome": 0,
         "LoanAmount": 100,
         "Loan_Amount_Term": 360,
         "Credit_History": 1,
         "Loan_Status": 0,
         "_deepnote_index_column": "25%"
        },
        {
         "ApplicantIncome": 3812.5,
         "CoapplicantIncome": 1188.5,
         "LoanAmount": 128,
         "Loan_Amount_Term": 360,
         "Credit_History": 1,
         "Loan_Status": 1,
         "_deepnote_index_column": "50%"
        },
        {
         "ApplicantIncome": 5795,
         "CoapplicantIncome": 2297.25,
         "LoanAmount": 168,
         "Loan_Amount_Term": 360,
         "Credit_History": 1,
         "Loan_Status": 1,
         "_deepnote_index_column": "75%"
        },
        {
         "ApplicantIncome": 81000,
         "CoapplicantIncome": 41667,
         "LoanAmount": 700,
         "Loan_Amount_Term": 480,
         "Credit_History": 1,
         "Loan_Status": 1,
         "_deepnote_index_column": "max"
        }
       ]
      },
      "text/plain": "       ApplicantIncome  CoapplicantIncome  LoanAmount  Loan_Amount_Term  \\\ncount       614.000000         614.000000  592.000000         600.00000   \nmean       5403.459283        1621.245798  146.412162         342.00000   \nstd        6109.041673        2926.248369   85.587325          65.12041   \nmin         150.000000           0.000000    9.000000          12.00000   \n25%        2877.500000           0.000000  100.000000         360.00000   \n50%        3812.500000        1188.500000  128.000000         360.00000   \n75%        5795.000000        2297.250000  168.000000         360.00000   \nmax       81000.000000       41667.000000  700.000000         480.00000   \n\n       Credit_History  Loan_Status  \ncount      564.000000   614.000000  \nmean         0.842199     0.687296  \nstd          0.364878     0.463973  \nmin          0.000000     0.000000  \n25%          1.000000     0.000000  \n50%          1.000000     1.000000  \n75%          1.000000     1.000000  \nmax          1.000000     1.000000  ",
      "text/html": "<div>\n<style scoped>\n    .dataframe tbody tr th:only-of-type {\n        vertical-align: middle;\n    }\n\n    .dataframe tbody tr th {\n        vertical-align: top;\n    }\n\n    .dataframe thead th {\n        text-align: right;\n    }\n</style>\n<table border=\"1\" class=\"dataframe\">\n  <thead>\n    <tr style=\"text-align: right;\">\n      <th></th>\n      <th>ApplicantIncome</th>\n      <th>CoapplicantIncome</th>\n      <th>LoanAmount</th>\n      <th>Loan_Amount_Term</th>\n      <th>Credit_History</th>\n      <th>Loan_Status</th>\n    </tr>\n  </thead>\n  <tbody>\n    <tr>\n      <th>count</th>\n      <td>614.000000</td>\n      <td>614.000000</td>\n      <td>592.000000</td>\n      <td>600.00000</td>\n      <td>564.000000</td>\n      <td>614.000000</td>\n    </tr>\n    <tr>\n      <th>mean</th>\n      <td>5403.459283</td>\n      <td>1621.245798</td>\n      <td>146.412162</td>\n      <td>342.00000</td>\n      <td>0.842199</td>\n      <td>0.687296</td>\n    </tr>\n    <tr>\n      <th>std</th>\n      <td>6109.041673</td>\n      <td>2926.248369</td>\n      <td>85.587325</td>\n      <td>65.12041</td>\n      <td>0.364878</td>\n      <td>0.463973</td>\n    </tr>\n    <tr>\n      <th>min</th>\n      <td>150.000000</td>\n      <td>0.000000</td>\n      <td>9.000000</td>\n      <td>12.00000</td>\n      <td>0.000000</td>\n      <td>0.000000</td>\n    </tr>\n    <tr>\n      <th>25%</th>\n      <td>2877.500000</td>\n      <td>0.000000</td>\n      <td>100.000000</td>\n      <td>360.00000</td>\n      <td>1.000000</td>\n      <td>0.000000</td>\n    </tr>\n    <tr>\n      <th>50%</th>\n      <td>3812.500000</td>\n      <td>1188.500000</td>\n      <td>128.000000</td>\n      <td>360.00000</td>\n      <td>1.000000</td>\n      <td>1.000000</td>\n    </tr>\n    <tr>\n      <th>75%</th>\n      <td>5795.000000</td>\n      <td>2297.250000</td>\n      <td>168.000000</td>\n      <td>360.00000</td>\n      <td>1.000000</td>\n      <td>1.000000</td>\n    </tr>\n    <tr>\n      <th>max</th>\n      <td>81000.000000</td>\n      <td>41667.000000</td>\n      <td>700.000000</td>\n      <td>480.00000</td>\n      <td>1.000000</td>\n      <td>1.000000</td>\n    </tr>\n  </tbody>\n</table>\n</div>"
     },
     "metadata": {}
    }
   ],
   "execution_count": null
  },
  {
   "cell_type": "code",
   "source": "df.skew()",
   "metadata": {
    "cell_id": "0affb18668cd4caa8b4e6adcc3e55e86",
    "tags": [],
    "deepnote_to_be_reexecuted": false,
    "source_hash": "635e6371",
    "execution_start": 1659448513795,
    "execution_millis": 27,
    "deepnote_cell_type": "code",
    "deepnote_cell_height": 227,
    "deepnote_output_heights": [
     135
    ]
   },
   "outputs": [
    {
     "output_type": "execute_result",
     "execution_count": 8,
     "data": {
      "text/plain": "ApplicantIncome      6.539513\nCoapplicantIncome    7.491531\nLoanAmount           2.677552\nLoan_Amount_Term    -2.362414\nCredit_History      -1.882361\nLoan_Status         -0.809998\ndtype: float64"
     },
     "metadata": {}
    }
   ],
   "execution_count": null
  },
  {
   "cell_type": "code",
   "source": "df.duplicated().any()\n\n# we got no duplicated rows",
   "metadata": {
    "cell_id": "e5eafcc7151b405a9936f4b3d948f8e0",
    "tags": [],
    "deepnote_to_be_reexecuted": false,
    "source_hash": "690883fa",
    "execution_start": 1659448513874,
    "execution_millis": 3,
    "deepnote_cell_type": "code",
    "deepnote_cell_height": 149,
    "deepnote_output_heights": [
     21
    ]
   },
   "outputs": [
    {
     "output_type": "execute_result",
     "execution_count": 9,
     "data": {
      "text/plain": "False"
     },
     "metadata": {}
    }
   ],
   "execution_count": null
  },
  {
   "cell_type": "code",
   "source": "df.columns",
   "metadata": {
    "cell_id": "dfa3a4949c5b4dfe9959a8d8db0911da",
    "tags": [],
    "deepnote_to_be_reexecuted": false,
    "source_hash": "25d43fa0",
    "execution_start": 1659448513875,
    "execution_millis": 72,
    "deepnote_cell_type": "code",
    "deepnote_cell_height": 170,
    "deepnote_output_heights": [
     78
    ]
   },
   "outputs": [
    {
     "output_type": "execute_result",
     "execution_count": 10,
     "data": {
      "text/plain": "Index(['Loan_ID', 'Gender', 'Married', 'Dependents', 'Education',\n       'Self_Employed', 'ApplicantIncome', 'CoapplicantIncome', 'LoanAmount',\n       'Loan_Amount_Term', 'Credit_History', 'Property_Area', 'Loan_Status'],\n      dtype='object')"
     },
     "metadata": {}
    }
   ],
   "execution_count": null
  },
  {
   "cell_type": "code",
   "source": "df_ = df[['ApplicantIncome','CoapplicantIncome','LoanAmount','Loan_Amount_Term','Credit_History']]",
   "metadata": {
    "cell_id": "1aa1069388c54c53875fe9df1650a9a3",
    "tags": [],
    "deepnote_to_be_reexecuted": false,
    "source_hash": "ecf81f1",
    "execution_start": 1659448513918,
    "execution_millis": 0,
    "deepnote_cell_type": "code",
    "deepnote_cell_height": 76
   },
   "outputs": [],
   "execution_count": null
  },
  {
   "cell_type": "code",
   "source": "# Draw the distributions of all variables\nf, axes = plt.subplots(5, 3, figsize=(18, 20))\ncolors = [\"r\", \"g\", \"b\", \"m\", \"c\"]  # m for magenta, c for cyan\n\ncount = 0\n# Start of for loop\nfor var in df_:\n    sns.boxplot(df_[var], orient = \"h\", color = colors[count], ax = axes[count,0])\n    sns.distplot(df_[var], color = colors[count], ax = axes[count,1])\n    sns.violinplot(df_[var], color = colors[count], ax = axes[count,2])\n    count += 1 # same as count = count + 1\n\n\nplt.show()",
   "metadata": {
    "cell_id": "8357709334864ca689e1d20b6839314e",
    "tags": [],
    "deepnote_to_be_reexecuted": false,
    "source_hash": "671d5584",
    "execution_start": 1659448513919,
    "execution_millis": 6643,
    "deepnote_cell_type": "code",
    "deepnote_cell_height": 1567,
    "deepnote_output_heights": [
     null,
     611
    ]
   },
   "outputs": [
    {
     "name": "stderr",
     "text": "/shared-libs/python3.9/py/lib/python3.9/site-packages/seaborn/_decorators.py:36: FutureWarning: Pass the following variable as a keyword arg: x. From version 0.12, the only valid positional argument will be `data`, and passing other arguments without an explicit keyword will result in an error or misinterpretation.\n  warnings.warn(\n/shared-libs/python3.9/py/lib/python3.9/site-packages/seaborn/distributions.py:2619: FutureWarning: `distplot` is a deprecated function and will be removed in a future version. Please adapt your code to use either `displot` (a figure-level function with similar flexibility) or `histplot` (an axes-level function for histograms).\n  warnings.warn(msg, FutureWarning)\n/shared-libs/python3.9/py/lib/python3.9/site-packages/seaborn/_decorators.py:36: FutureWarning: Pass the following variable as a keyword arg: x. From version 0.12, the only valid positional argument will be `data`, and passing other arguments without an explicit keyword will result in an error or misinterpretation.\n  warnings.warn(\n/shared-libs/python3.9/py/lib/python3.9/site-packages/seaborn/_decorators.py:36: FutureWarning: Pass the following variable as a keyword arg: x. From version 0.12, the only valid positional argument will be `data`, and passing other arguments without an explicit keyword will result in an error or misinterpretation.\n  warnings.warn(\n/shared-libs/python3.9/py/lib/python3.9/site-packages/seaborn/distributions.py:2619: FutureWarning: `distplot` is a deprecated function and will be removed in a future version. Please adapt your code to use either `displot` (a figure-level function with similar flexibility) or `histplot` (an axes-level function for histograms).\n  warnings.warn(msg, FutureWarning)\n/shared-libs/python3.9/py/lib/python3.9/site-packages/seaborn/_decorators.py:36: FutureWarning: Pass the following variable as a keyword arg: x. From version 0.12, the only valid positional argument will be `data`, and passing other arguments without an explicit keyword will result in an error or misinterpretation.\n  warnings.warn(\n/shared-libs/python3.9/py/lib/python3.9/site-packages/seaborn/_decorators.py:36: FutureWarning: Pass the following variable as a keyword arg: x. From version 0.12, the only valid positional argument will be `data`, and passing other arguments without an explicit keyword will result in an error or misinterpretation.\n  warnings.warn(\n/shared-libs/python3.9/py/lib/python3.9/site-packages/seaborn/distributions.py:2619: FutureWarning: `distplot` is a deprecated function and will be removed in a future version. Please adapt your code to use either `displot` (a figure-level function with similar flexibility) or `histplot` (an axes-level function for histograms).\n  warnings.warn(msg, FutureWarning)\n/shared-libs/python3.9/py/lib/python3.9/site-packages/seaborn/_decorators.py:36: FutureWarning: Pass the following variable as a keyword arg: x. From version 0.12, the only valid positional argument will be `data`, and passing other arguments without an explicit keyword will result in an error or misinterpretation.\n  warnings.warn(\n/shared-libs/python3.9/py/lib/python3.9/site-packages/seaborn/_decorators.py:36: FutureWarning: Pass the following variable as a keyword arg: x. From version 0.12, the only valid positional argument will be `data`, and passing other arguments without an explicit keyword will result in an error or misinterpretation.\n  warnings.warn(\n/shared-libs/python3.9/py/lib/python3.9/site-packages/seaborn/distributions.py:2619: FutureWarning: `distplot` is a deprecated function and will be removed in a future version. Please adapt your code to use either `displot` (a figure-level function with similar flexibility) or `histplot` (an axes-level function for histograms).\n  warnings.warn(msg, FutureWarning)\n/shared-libs/python3.9/py/lib/python3.9/site-packages/seaborn/_decorators.py:36: FutureWarning: Pass the following variable as a keyword arg: x. From version 0.12, the only valid positional argument will be `data`, and passing other arguments without an explicit keyword will result in an error or misinterpretation.\n  warnings.warn(\n/shared-libs/python3.9/py/lib/python3.9/site-packages/seaborn/_decorators.py:36: FutureWarning: Pass the following variable as a keyword arg: x. From version 0.12, the only valid positional argument will be `data`, and passing other arguments without an explicit keyword will result in an error or misinterpretation.\n  warnings.warn(\n/shared-libs/python3.9/py/lib/python3.9/site-packages/seaborn/distributions.py:2619: FutureWarning: `distplot` is a deprecated function and will be removed in a future version. Please adapt your code to use either `displot` (a figure-level function with similar flexibility) or `histplot` (an axes-level function for histograms).\n  warnings.warn(msg, FutureWarning)\n/shared-libs/python3.9/py/lib/python3.9/site-packages/seaborn/_decorators.py:36: FutureWarning: Pass the following variable as a keyword arg: x. From version 0.12, the only valid positional argument will be `data`, and passing other arguments without an explicit keyword will result in an error or misinterpretation.\n  warnings.warn(\n",
     "output_type": "stream"
    },
    {
     "data": {
      "text/plain": "<Figure size 1296x1440 with 15 Axes>",
      "image/png": "[encoded data removed]"
     },
     "metadata": {
      "needs_background": "light",
      "image/png": {
       "width": 1022,
       "height": 1133
      }
     },
     "output_type": "display_data"
    }
   ],
   "execution_count": null
  },
  {
   "cell_type": "code",
   "source": "sns.countplot(df['Gender'])",
   "metadata": {
    "cell_id": "0249c4dd40254cb8af6650610856d419",
    "tags": [],
    "deepnote_to_be_reexecuted": false,
    "source_hash": "df92b23a",
    "execution_start": 1659448520311,
    "execution_millis": 564,
    "deepnote_cell_type": "code",
    "deepnote_cell_height": 478,
    "deepnote_output_heights": [
     null,
     21,
     264
    ]
   },
   "outputs": [
    {
     "name": "stderr",
     "text": "/shared-libs/python3.9/py/lib/python3.9/site-packages/seaborn/_decorators.py:36: FutureWarning: Pass the following variable as a keyword arg: x. From version 0.12, the only valid positional argument will be `data`, and passing other arguments without an explicit keyword will result in an error or misinterpretation.\n  warnings.warn(\n",
     "output_type": "stream"
    },
    {
     "output_type": "execute_result",
     "execution_count": 13,
     "data": {
      "text/plain": "<AxesSubplot:xlabel='Gender', ylabel='count'>"
     },
     "metadata": {}
    },
    {
     "data": {
      "text/plain": "<Figure size 432x288 with 1 Axes>",
      "image/png": "[encoded data removed]"
     },
     "metadata": {
      "needs_background": "light",
      "image/png": {
       "width": 389,
       "height": 262
      }
     },
     "output_type": "display_data"
    }
   ],
   "execution_count": null
  },
  {
   "cell_type": "code",
   "source": "df.corr()",
   "metadata": {
    "cell_id": "ba49097d9b1241ada662fce153ebdf32",
    "tags": [],
    "deepnote_to_be_reexecuted": false,
    "source_hash": "f8453a83",
    "execution_start": 1659448520883,
    "execution_millis": 150,
    "deepnote_cell_type": "code",
    "deepnote_cell_height": 431
   },
   "outputs": [
    {
     "output_type": "execute_result",
     "execution_count": 14,
     "data": {
      "application/vnd.deepnote.dataframe.v3+json": {
       "column_count": 6,
       "row_count": 6,
       "columns": [
        {
         "name": "ApplicantIncome",
         "dtype": "float64",
         "stats": {
          "unique_count": 6,
          "nan_count": 0,
          "min": "-0.11660458122889955",
          "max": "1.0",
          "histogram": [
           {
            "bin_start": -0.11660458122889955,
            "bin_end": -0.004944123106009585,
            "count": 3
           },
           {
            "bin_start": -0.004944123106009585,
            "bin_end": 0.10671633501688038,
            "count": 1
           },
           {
            "bin_start": 0.10671633501688038,
            "bin_end": 0.21837679313977038,
            "count": 0
           },
           {
            "bin_start": 0.21837679313977038,
            "bin_end": 0.3300372512626603,
            "count": 0
           },
           {
            "bin_start": 0.3300372512626603,
            "bin_end": 0.44169770938555025,
            "count": 0
           },
           {
            "bin_start": 0.44169770938555025,
            "bin_end": 0.5533581675084402,
            "count": 0
           },
           {
            "bin_start": 0.5533581675084402,
            "bin_end": 0.6650186256313302,
            "count": 1
           },
           {
            "bin_start": 0.6650186256313302,
            "bin_end": 0.7766790837542201,
            "count": 0
           },
           {
            "bin_start": 0.7766790837542201,
            "bin_end": 0.8883395418771101,
            "count": 0
           },
           {
            "bin_start": 0.8883395418771101,
            "bin_end": 1,
            "count": 1
           }
          ]
         }
        },
        {
         "name": "CoapplicantIncome",
         "dtype": "float64",
         "stats": {
          "unique_count": 6,
          "nan_count": 0,
          "min": "-0.11660458122889955",
          "max": "1.0",
          "histogram": [
           {
            "bin_start": -0.11660458122889955,
            "bin_end": -0.004944123106009585,
            "count": 3
           },
           {
            "bin_start": -0.004944123106009585,
            "bin_end": 0.10671633501688038,
            "count": 1
           },
           {
            "bin_start": 0.10671633501688038,
            "bin_end": 0.21837679313977038,
            "count": 1
           },
           {
            "bin_start": 0.21837679313977038,
            "bin_end": 0.3300372512626603,
            "count": 0
           },
           {
            "bin_start": 0.3300372512626603,
            "bin_end": 0.44169770938555025,
            "count": 0
           },
           {
            "bin_start": 0.44169770938555025,
            "bin_end": 0.5533581675084402,
            "count": 0
           },
           {
            "bin_start": 0.5533581675084402,
            "bin_end": 0.6650186256313302,
            "count": 0
           },
           {
            "bin_start": 0.6650186256313302,
            "bin_end": 0.7766790837542201,
            "count": 0
           },
           {
            "bin_start": 0.7766790837542201,
            "bin_end": 0.8883395418771101,
            "count": 0
           },
           {
            "bin_start": 0.8883395418771101,
            "bin_end": 1,
            "count": 1
           }
          ]
         }
        },
        {
         "name": "LoanAmount",
         "dtype": "float64",
         "stats": {
          "unique_count": 6,
          "nan_count": 0,
          "min": "-0.037317768699794175",
          "max": "1.0",
          "histogram": [
           {
            "bin_start": -0.037317768699794175,
            "bin_end": 0.06641400817018522,
            "count": 3
           },
           {
            "bin_start": 0.06641400817018522,
            "bin_end": 0.17014578504016464,
            "count": 0
           },
           {
            "bin_start": 0.17014578504016464,
            "bin_end": 0.273877561910144,
            "count": 1
           },
           {
            "bin_start": 0.273877561910144,
            "bin_end": 0.3776093387801234,
            "count": 0
           },
           {
            "bin_start": 0.3776093387801234,
            "bin_end": 0.48134111565010285,
            "count": 0
           },
           {
            "bin_start": 0.48134111565010285,
            "bin_end": 0.5850728925200822,
            "count": 1
           },
           {
            "bin_start": 0.5850728925200822,
            "bin_end": 0.6888046693900617,
            "count": 0
           },
           {
            "bin_start": 0.6888046693900617,
            "bin_end": 0.792536446260041,
            "count": 0
           },
           {
            "bin_start": 0.792536446260041,
            "bin_end": 0.8962682231300204,
            "count": 0
           },
           {
            "bin_start": 0.8962682231300204,
            "bin_end": 1,
            "count": 1
           }
          ]
         }
        },
        {
         "name": "Loan_Amount_Term",
         "dtype": "float64",
         "stats": {
          "unique_count": 6,
          "nan_count": 0,
          "min": "-0.059878008731631405",
          "max": "1.0",
          "histogram": [
           {
            "bin_start": -0.059878008731631405,
            "bin_end": 0.04610979214153173,
            "count": 5
           },
           {
            "bin_start": 0.04610979214153173,
            "bin_end": 0.15209759301469486,
            "count": 0
           },
           {
            "bin_start": 0.15209759301469486,
            "bin_end": 0.258085393887858,
            "count": 0
           },
           {
            "bin_start": 0.258085393887858,
            "bin_end": 0.3640731947610211,
            "count": 0
           },
           {
            "bin_start": 0.3640731947610211,
            "bin_end": 0.47006099563418424,
            "count": 0
           },
           {
            "bin_start": 0.47006099563418424,
            "bin_end": 0.5760487965073474,
            "count": 0
           },
           {
            "bin_start": 0.5760487965073474,
            "bin_end": 0.6820365973805105,
            "count": 0
           },
           {
            "bin_start": 0.6820365973805105,
            "bin_end": 0.7880243982536737,
            "count": 0
           },
           {
            "bin_start": 0.7880243982536737,
            "bin_end": 0.8940121991268368,
            "count": 0
           },
           {
            "bin_start": 0.8940121991268368,
            "bin_end": 1,
            "count": 1
           }
          ]
         }
        },
        {
         "name": "Credit_History",
         "dtype": "float64",
         "stats": {
          "unique_count": 6,
          "nan_count": 0,
          "min": "-0.014714878100313102",
          "max": "1.0",
          "histogram": [
           {
            "bin_start": -0.014714878100313102,
            "bin_end": 0.0867566097097182,
            "count": 4
           },
           {
            "bin_start": 0.0867566097097182,
            "bin_end": 0.1882280975197495,
            "count": 0
           },
           {
            "bin_start": 0.1882280975197495,
            "bin_end": 0.28969958532978085,
            "count": 0
           },
           {
            "bin_start": 0.28969958532978085,
            "bin_end": 0.39117107313981214,
            "count": 0
           },
           {
            "bin_start": 0.39117107313981214,
            "bin_end": 0.49264256094984343,
            "count": 0
           },
           {
            "bin_start": 0.49264256094984343,
            "bin_end": 0.5941140487598747,
            "count": 1
           },
           {
            "bin_start": 0.5941140487598747,
            "bin_end": 0.695585536569906,
            "count": 0
           },
           {
            "bin_start": 0.695585536569906,
            "bin_end": 0.7970570243799373,
            "count": 0
           },
           {
            "bin_start": 0.7970570243799373,
            "bin_end": 0.8985285121899687,
            "count": 0
           },
           {
            "bin_start": 0.8985285121899687,
            "bin_end": 1,
            "count": 1
           }
          ]
         }
        },
        {
         "name": "Loan_Status",
         "dtype": "float64",
         "stats": {
          "unique_count": 6,
          "nan_count": 0,
          "min": "-0.059187313487850064",
          "max": "1.0",
          "histogram": [
           {
            "bin_start": -0.059187313487850064,
            "bin_end": 0.04673141786093494,
            "count": 4
           },
           {
            "bin_start": 0.04673141786093494,
            "bin_end": 0.15265014920971995,
            "count": 0
           },
           {
            "bin_start": 0.15265014920971995,
            "bin_end": 0.25856888055850497,
            "count": 0
           },
           {
            "bin_start": 0.25856888055850497,
            "bin_end": 0.36448761190728995,
            "count": 0
           },
           {
            "bin_start": 0.36448761190728995,
            "bin_end": 0.47040634325607494,
            "count": 0
           },
           {
            "bin_start": 0.47040634325607494,
            "bin_end": 0.5763250746048599,
            "count": 1
           },
           {
            "bin_start": 0.5763250746048599,
            "bin_end": 0.6822438059536449,
            "count": 0
           },
           {
            "bin_start": 0.6822438059536449,
            "bin_end": 0.7881625373024299,
            "count": 0
           },
           {
            "bin_start": 0.7881625373024299,
            "bin_end": 0.894081268651215,
            "count": 0
           },
           {
            "bin_start": 0.894081268651215,
            "bin_end": 1,
            "count": 1
           }
          ]
         }
        },
        {
         "name": "_deepnote_index_column",
         "dtype": "object"
        }
       ],
       "rows": [
        {
         "ApplicantIncome": 1,
         "CoapplicantIncome": -0.11660458122889955,
         "LoanAmount": 0.5709090389885663,
         "Loan_Amount_Term": -0.04530608706258189,
         "Credit_History": -0.014714878100313102,
         "Loan_Status": -0.0047095226593515584,
         "_deepnote_index_column": "ApplicantIncome"
        },
        {
         "ApplicantIncome": -0.11660458122889955,
         "CoapplicantIncome": 1,
         "LoanAmount": 0.18861940442311742,
         "Loan_Amount_Term": -0.059878008731631405,
         "Credit_History": -0.00205627644650305,
         "Loan_Status": -0.059187313487850064,
         "_deepnote_index_column": "CoapplicantIncome"
        },
        {
         "ApplicantIncome": 0.5709090389885663,
         "CoapplicantIncome": 0.18861940442311742,
         "LoanAmount": 1,
         "Loan_Amount_Term": 0.0394472509159701,
         "Credit_History": -0.008432772365243776,
         "Loan_Status": -0.037317768699794175,
         "_deepnote_index_column": "LoanAmount"
        },
        {
         "ApplicantIncome": -0.04530608706258189,
         "CoapplicantIncome": -0.059878008731631405,
         "LoanAmount": 0.0394472509159701,
         "Loan_Amount_Term": 1,
         "Credit_History": 0.001470109869839285,
         "Loan_Status": -0.021267658123862963,
         "_deepnote_index_column": "Loan_Amount_Term"
        },
        {
         "ApplicantIncome": -0.014714878100313102,
         "CoapplicantIncome": -0.00205627644650305,
         "LoanAmount": -0.008432772365243776,
         "Loan_Amount_Term": 0.001470109869839285,
         "Credit_History": 1,
         "Loan_Status": 0.5616781574653794,
         "_deepnote_index_column": "Credit_History"
        },
        {
         "ApplicantIncome": -0.0047095226593515584,
         "CoapplicantIncome": -0.059187313487850064,
         "LoanAmount": -0.037317768699794175,
         "Loan_Amount_Term": -0.021267658123862963,
         "Credit_History": 0.5616781574653794,
         "Loan_Status": 1,
         "_deepnote_index_column": "Loan_Status"
        }
       ]
      },
      "text/plain": "                   ApplicantIncome  CoapplicantIncome  LoanAmount  \\\nApplicantIncome           1.000000          -0.116605    0.570909   \nCoapplicantIncome        -0.116605           1.000000    0.188619   \nLoanAmount                0.570909           0.188619    1.000000   \nLoan_Amount_Term         -0.045306          -0.059878    0.039447   \nCredit_History           -0.014715          -0.002056   -0.008433   \nLoan_Status              -0.004710          -0.059187   -0.037318   \n\n                   Loan_Amount_Term  Credit_History  Loan_Status  \nApplicantIncome           -0.045306       -0.014715    -0.004710  \nCoapplicantIncome         -0.059878       -0.002056    -0.059187  \nLoanAmount                 0.039447       -0.008433    -0.037318  \nLoan_Amount_Term           1.000000        0.001470    -0.021268  \nCredit_History             0.001470        1.000000     0.561678  \nLoan_Status               -0.021268        0.561678     1.000000  ",
      "text/html": "<div>\n<style scoped>\n    .dataframe tbody tr th:only-of-type {\n        vertical-align: middle;\n    }\n\n    .dataframe tbody tr th {\n        vertical-align: top;\n    }\n\n    .dataframe thead th {\n        text-align: right;\n    }\n</style>\n<table border=\"1\" class=\"dataframe\">\n  <thead>\n    <tr style=\"text-align: right;\">\n      <th></th>\n      <th>ApplicantIncome</th>\n      <th>CoapplicantIncome</th>\n      <th>LoanAmount</th>\n      <th>Loan_Amount_Term</th>\n      <th>Credit_History</th>\n      <th>Loan_Status</th>\n    </tr>\n  </thead>\n  <tbody>\n    <tr>\n      <th>ApplicantIncome</th>\n      <td>1.000000</td>\n      <td>-0.116605</td>\n      <td>0.570909</td>\n      <td>-0.045306</td>\n      <td>-0.014715</td>\n      <td>-0.004710</td>\n    </tr>\n    <tr>\n      <th>CoapplicantIncome</th>\n      <td>-0.116605</td>\n      <td>1.000000</td>\n      <td>0.188619</td>\n      <td>-0.059878</td>\n      <td>-0.002056</td>\n      <td>-0.059187</td>\n    </tr>\n    <tr>\n      <th>LoanAmount</th>\n      <td>0.570909</td>\n      <td>0.188619</td>\n      <td>1.000000</td>\n      <td>0.039447</td>\n      <td>-0.008433</td>\n      <td>-0.037318</td>\n    </tr>\n    <tr>\n      <th>Loan_Amount_Term</th>\n      <td>-0.045306</td>\n      <td>-0.059878</td>\n      <td>0.039447</td>\n      <td>1.000000</td>\n      <td>0.001470</td>\n      <td>-0.021268</td>\n    </tr>\n    <tr>\n      <th>Credit_History</th>\n      <td>-0.014715</td>\n      <td>-0.002056</td>\n      <td>-0.008433</td>\n      <td>0.001470</td>\n      <td>1.000000</td>\n      <td>0.561678</td>\n    </tr>\n    <tr>\n      <th>Loan_Status</th>\n      <td>-0.004710</td>\n      <td>-0.059187</td>\n      <td>-0.037318</td>\n      <td>-0.021268</td>\n      <td>0.561678</td>\n      <td>1.000000</td>\n    </tr>\n  </tbody>\n</table>\n</div>"
     },
     "metadata": {}
    }
   ],
   "execution_count": null
  },
  {
   "cell_type": "code",
   "source": "f, axes = plt.subplots(1, 1, figsize=(20, 10))\nsns.heatmap(df.corr(), vmin = -1, vmax = 1, linewidths = 1,\n           annot = True, fmt = \".2f\", annot_kws = {\"size\": 18}, cmap = \"RdBu\")",
   "metadata": {
    "cell_id": "a6d224bb977d49a29f49999559b5126b",
    "tags": [],
    "deepnote_to_be_reexecuted": false,
    "source_hash": "304c569",
    "execution_start": 1659448521100,
    "execution_millis": 2467,
    "deepnote_cell_type": "code",
    "deepnote_cell_height": 660.703125,
    "deepnote_output_heights": [
     21,
     480.703125
    ]
   },
   "outputs": [
    {
     "output_type": "execute_result",
     "execution_count": 15,
     "data": {
      "text/plain": "<AxesSubplot:>"
     },
     "metadata": {}
    },
    {
     "data": {
      "text/plain": "<Figure size 1440x720 with 2 Axes>",
      "image/png": "[encoded data removed]"
     },
     "metadata": {
      "needs_background": "light",
      "image/png": {
       "width": 1045,
       "height": 579
      }
     },
     "output_type": "display_data"
    }
   ],
   "execution_count": null
  },
  {
   "cell_type": "code",
   "source": "sns.pairplot(df)",
   "metadata": {
    "cell_id": "0fae679f7a2a4ac883bf8e51d5f2504f",
    "tags": [],
    "deepnote_to_be_reexecuted": false,
    "source_hash": "4cf530ad",
    "execution_start": 1659448523041,
    "execution_millis": 11902,
    "deepnote_cell_type": "code",
    "deepnote_cell_height": 755,
    "deepnote_output_heights": [
     21,
     611
    ]
   },
   "outputs": [
    {
     "output_type": "execute_result",
     "execution_count": 16,
     "data": {
      "text/plain": "<seaborn.axisgrid.PairGrid at 0x7fb410795be0>"
     },
     "metadata": {}
    },
    {
     "data": {
      "text/plain": "<Figure size 1080x1080 with 42 Axes>",
      "image/png": "[encoded data removed]"
     },
     "metadata": {
      "needs_background": "light",
      "image/png": {
       "width": 1065,
       "height": 1062
      }
     },
     "output_type": "display_data"
    }
   ],
   "execution_count": null
  },
  {
   "cell_type": "markdown",
   "source": "####  Variables that will help us predict whether or not a person will be approved for a loan\n- ",
   "metadata": {
    "cell_id": "67477e5931db44a3bcaa644ad8961c37",
    "tags": [],
    "deepnote_cell_type": "markdown",
    "deepnote_cell_height": 102
   }
  },
  {
   "cell_type": "code",
   "source": "# Most correlated values are: 1) Credit_History 2) Property_Area_Semiurban 3) Property_Area_Rural\n\ncorr_df = df.corr()\ncorr_df.columns",
   "metadata": {
    "cell_id": "a56f4c0c1a3d4b87bfce24ac67fc6039",
    "tags": [],
    "deepnote_to_be_reexecuted": false,
    "source_hash": "4cc7281f",
    "execution_start": 1659448534573,
    "execution_millis": 10814203,
    "deepnote_cell_type": "code",
    "deepnote_cell_height": 205,
    "deepnote_output_heights": [
     59
    ]
   },
   "outputs": [
    {
     "output_type": "execute_result",
     "execution_count": 17,
     "data": {
      "text/plain": "Index(['ApplicantIncome', 'CoapplicantIncome', 'LoanAmount',\n       'Loan_Amount_Term', 'Credit_History', 'Loan_Status'],\n      dtype='object')"
     },
     "metadata": {}
    }
   ],
   "execution_count": null
  },
  {
   "cell_type": "code",
   "source": "sns.countplot(df['Loan_Status'])\n\nprint('The percentage of Y class : %.2f' % (df['Loan_Status'].value_counts()[0] / len(df)))\nprint('The percentage of N class : %.2f' % (df['Loan_Status'].value_counts()[1] / len(df)))",
   "metadata": {
    "cell_id": "763ef0fc21714e6f8dcb8bf72e1b0852",
    "tags": [],
    "deepnote_to_be_reexecuted": false,
    "source_hash": "cf7e44c7",
    "execution_start": 1659448534592,
    "execution_millis": 357,
    "deepnote_cell_type": "code",
    "deepnote_cell_height": 521,
    "deepnote_output_heights": [
     null,
     265
    ]
   },
   "outputs": [
    {
     "name": "stderr",
     "text": "/shared-libs/python3.9/py/lib/python3.9/site-packages/seaborn/_decorators.py:36: FutureWarning: Pass the following variable as a keyword arg: x. From version 0.12, the only valid positional argument will be `data`, and passing other arguments without an explicit keyword will result in an error or misinterpretation.\n  warnings.warn(\nThe percentage of Y class : 0.31\nThe percentage of N class : 0.69\n",
     "output_type": "stream"
    },
    {
     "data": {
      "text/plain": "<Figure size 432x288 with 1 Axes>",
      "image/png": "[encoded data removed]"
     },
     "metadata": {
      "needs_background": "light",
      "image/png": {
       "width": 389,
       "height": 263
      }
     },
     "output_type": "display_data"
    }
   ],
   "execution_count": null
  },
  {
   "cell_type": "code",
   "source": "# for _ ,column in enumerate(df.columns):\n#     sns.displot(df[column])",
   "metadata": {
    "cell_id": "58f00d8cad874ff98bebf340b072e2fc",
    "tags": [],
    "deepnote_to_be_reexecuted": false,
    "source_hash": "e66cd009",
    "execution_start": 1659448534808,
    "execution_millis": 5,
    "deepnote_cell_type": "code",
    "deepnote_cell_height": 94,
    "deepnote_output_heights": [
     354,
     365,
     354,
     354,
     354,
     354,
     354,
     354,
     354,
     354,
     354,
     354,
     354
    ]
   },
   "outputs": [],
   "execution_count": null
  },
  {
   "cell_type": "code",
   "source": "",
   "metadata": {
    "cell_id": "0556bb4b8b5b488c8c0c7de31e30681e",
    "tags": [],
    "deepnote_to_be_reexecuted": false,
    "source_hash": "b623e53d",
    "execution_start": 1659448534920,
    "execution_millis": 10814080,
    "deepnote_cell_type": "code",
    "deepnote_cell_height": 76
   },
   "outputs": [],
   "execution_count": null
  },
  {
   "cell_type": "code",
   "source": "",
   "metadata": {
    "cell_id": "a13b61d980e748cba1514382502e04a7",
    "tags": [],
    "deepnote_to_be_reexecuted": false,
    "source_hash": "b623e53d",
    "execution_start": 1659448534923,
    "execution_millis": 10814065,
    "deepnote_cell_type": "code",
    "deepnote_cell_height": 76
   },
   "outputs": [],
   "execution_count": null
  },
  {
   "cell_type": "markdown",
   "source": "# Data Cleaning and Preprocessing",
   "metadata": {
    "is_collapsed": false,
    "cell_id": "8ae2bd35a929404cbca12e6b6e98b455",
    "tags": [],
    "formattedRanges": [],
    "deepnote_cell_type": "text-cell-h1"
   }
  },
  {
   "cell_type": "code",
   "source": "",
   "metadata": {
    "cell_id": "94d2ae065dfc44219a97bced8d4ad186",
    "tags": [],
    "deepnote_to_be_reexecuted": false,
    "source_hash": "b623e53d",
    "execution_start": 1659448534924,
    "execution_millis": 10814042,
    "deepnote_cell_type": "code",
    "deepnote_cell_height": 76
   },
   "outputs": [],
   "execution_count": null
  },
  {
   "cell_type": "markdown",
   "source": "### Filling NaN Values",
   "metadata": {
    "is_collapsed": false,
    "cell_id": "84d3beff2b924a5480f869f3b6bbe5b8",
    "tags": [],
    "formattedRanges": [],
    "deepnote_cell_type": "text-cell-h3"
   }
  },
  {
   "cell_type": "code",
   "source": "data_train = df.copy()",
   "metadata": {
    "cell_id": "356c1c2d96af42a881332d8ab9c19745",
    "tags": [],
    "deepnote_to_be_reexecuted": false,
    "source_hash": "31b35881",
    "execution_start": 1659448534926,
    "execution_millis": 10814019,
    "deepnote_cell_type": "code",
    "deepnote_cell_height": 76
   },
   "outputs": [],
   "execution_count": null
  },
  {
   "cell_type": "code",
   "source": "# (TRAIN SET) Filling missing rows with most appropriate value (median or mode)\ndata_train['Gender'].fillna(data_train['Gender'].mode()[0], inplace=True)\ndata_train['Dependents'].fillna(data_train['Dependents'].mode()[0], inplace=True)\ndata_train['Self_Employed'].fillna(data_train['Self_Employed'].mode()[0], inplace=True)\ndata_train['LoanAmount'].fillna(data_train['LoanAmount'].median(), inplace=True)\ndata_train['Loan_Amount_Term'].fillna(data_train['Loan_Amount_Term'].mode()[0], inplace=True)\ndata_train['Credit_History'].fillna(data_train['Credit_History'].mode()[0], inplace=True)",
   "metadata": {
    "cell_id": "5287b22dfe4f45b9a2cff6ee9b43a7ba",
    "tags": [],
    "deepnote_to_be_reexecuted": false,
    "source_hash": "677cda49",
    "execution_start": 1659448534927,
    "execution_millis": 10814014,
    "deepnote_cell_type": "code",
    "deepnote_cell_height": 184
   },
   "outputs": [],
   "execution_count": null
  },
  {
   "cell_type": "code",
   "source": "dummies = pd.get_dummies(data_train[['Gender','Married','Education','Self_Employed','Property_Area','Dependents']])\ndata_train = pd.concat([dummies, data_train.drop(['Gender','Married','Education','Self_Employed',\\\n                        'Dependents','Property_Area',], axis=1)], axis=1)\ndata_train = data_train.drop('Loan_ID', axis = 1)",
   "metadata": {
    "cell_id": "7903577f15444cf58429f9df3f3c304a",
    "tags": [],
    "deepnote_to_be_reexecuted": false,
    "source_hash": "d9a2eb0a",
    "execution_start": 1659448534928,
    "execution_millis": 132,
    "deepnote_cell_type": "code",
    "deepnote_cell_height": 135
   },
   "outputs": [],
   "execution_count": null
  },
  {
   "cell_type": "code",
   "source": "data_train",
   "metadata": {
    "cell_id": "d49912f8536f478d89ff163fb8e27cfb",
    "tags": [],
    "deepnote_to_be_reexecuted": false,
    "source_hash": "9b3c4d31",
    "execution_start": 1659448535061,
    "execution_millis": 19,
    "deepnote_cell_type": "code",
    "deepnote_cell_height": 610
   },
   "outputs": [
    {
     "output_type": "execute_result",
     "execution_count": 23,
     "data": {
      "application/vnd.deepnote.dataframe.v3+json": {
       "column_count": 21,
       "row_count": 614,
       "columns": [
        {
         "name": "Gender_Female",
         "dtype": "uint8",
         "stats": {
          "unique_count": 2,
          "nan_count": 0,
          "min": "0",
          "max": "1",
          "histogram": [
           {
            "bin_start": 0,
            "bin_end": 0.1,
            "count": 502
           },
           {
            "bin_start": 0.1,
            "bin_end": 0.2,
            "count": 0
           },
           {
            "bin_start": 0.2,
            "bin_end": 0.30000000000000004,
            "count": 0
           },
           {
            "bin_start": 0.30000000000000004,
            "bin_end": 0.4,
            "count": 0
           },
           {
            "bin_start": 0.4,
            "bin_end": 0.5,
            "count": 0
           },
           {
            "bin_start": 0.5,
            "bin_end": 0.6000000000000001,
            "count": 0
           },
           {
            "bin_start": 0.6000000000000001,
            "bin_end": 0.7000000000000001,
            "count": 0
           },
           {
            "bin_start": 0.7000000000000001,
            "bin_end": 0.8,
            "count": 0
           },
           {
            "bin_start": 0.8,
            "bin_end": 0.9,
            "count": 0
           },
           {
            "bin_start": 0.9,
            "bin_end": 1,
            "count": 112
           }
          ]
         }
        },
        {
         "name": "Gender_Male",
         "dtype": "uint8",
         "stats": {
          "unique_count": 2,
          "nan_count": 0,
          "min": "0",
          "max": "1",
          "histogram": [
           {
            "bin_start": 0,
            "bin_end": 0.1,
            "count": 112
           },
           {
            "bin_start": 0.1,
            "bin_end": 0.2,
            "count": 0
           },
           {
            "bin_start": 0.2,
            "bin_end": 0.30000000000000004,
            "count": 0
           },
           {
            "bin_start": 0.30000000000000004,
            "bin_end": 0.4,
            "count": 0
           },
           {
            "bin_start": 0.4,
            "bin_end": 0.5,
            "count": 0
           },
           {
            "bin_start": 0.5,
            "bin_end": 0.6000000000000001,
            "count": 0
           },
           {
            "bin_start": 0.6000000000000001,
            "bin_end": 0.7000000000000001,
            "count": 0
           },
           {
            "bin_start": 0.7000000000000001,
            "bin_end": 0.8,
            "count": 0
           },
           {
            "bin_start": 0.8,
            "bin_end": 0.9,
            "count": 0
           },
           {
            "bin_start": 0.9,
            "bin_end": 1,
            "count": 502
           }
          ]
         }
        },
        {
         "name": "Married_No",
         "dtype": "uint8",
         "stats": {
          "unique_count": 2,
          "nan_count": 0,
          "min": "0",
          "max": "1",
          "histogram": [
           {
            "bin_start": 0,
            "bin_end": 0.1,
            "count": 401
           },
           {
            "bin_start": 0.1,
            "bin_end": 0.2,
            "count": 0
           },
           {
            "bin_start": 0.2,
            "bin_end": 0.30000000000000004,
            "count": 0
           },
           {
            "bin_start": 0.30000000000000004,
            "bin_end": 0.4,
            "count": 0
           },
           {
            "bin_start": 0.4,
            "bin_end": 0.5,
            "count": 0
           },
           {
            "bin_start": 0.5,
            "bin_end": 0.6000000000000001,
            "count": 0
           },
           {
            "bin_start": 0.6000000000000001,
            "bin_end": 0.7000000000000001,
            "count": 0
           },
           {
            "bin_start": 0.7000000000000001,
            "bin_end": 0.8,
            "count": 0
           },
           {
            "bin_start": 0.8,
            "bin_end": 0.9,
            "count": 0
           },
           {
            "bin_start": 0.9,
            "bin_end": 1,
            "count": 213
           }
          ]
         }
        },
        {
         "name": "Married_Yes",
         "dtype": "uint8",
         "stats": {
          "unique_count": 2,
          "nan_count": 0,
          "min": "0",
          "max": "1",
          "histogram": [
           {
            "bin_start": 0,
            "bin_end": 0.1,
            "count": 216
           },
           {
            "bin_start": 0.1,
            "bin_end": 0.2,
            "count": 0
           },
           {
            "bin_start": 0.2,
            "bin_end": 0.30000000000000004,
            "count": 0
           },
           {
            "bin_start": 0.30000000000000004,
            "bin_end": 0.4,
            "count": 0
           },
           {
            "bin_start": 0.4,
            "bin_end": 0.5,
            "count": 0
           },
           {
            "bin_start": 0.5,
            "bin_end": 0.6000000000000001,
            "count": 0
           },
           {
            "bin_start": 0.6000000000000001,
            "bin_end": 0.7000000000000001,
            "count": 0
           },
           {
            "bin_start": 0.7000000000000001,
            "bin_end": 0.8,
            "count": 0
           },
           {
            "bin_start": 0.8,
            "bin_end": 0.9,
            "count": 0
           },
           {
            "bin_start": 0.9,
            "bin_end": 1,
            "count": 398
           }
          ]
         }
        },
        {
         "name": "Education_Graduate",
         "dtype": "uint8",
         "stats": {
          "unique_count": 2,
          "nan_count": 0,
          "min": "0",
          "max": "1",
          "histogram": [
           {
            "bin_start": 0,
            "bin_end": 0.1,
            "count": 134
           },
           {
            "bin_start": 0.1,
            "bin_end": 0.2,
            "count": 0
           },
           {
            "bin_start": 0.2,
            "bin_end": 0.30000000000000004,
            "count": 0
           },
           {
            "bin_start": 0.30000000000000004,
            "bin_end": 0.4,
            "count": 0
           },
           {
            "bin_start": 0.4,
            "bin_end": 0.5,
            "count": 0
           },
           {
            "bin_start": 0.5,
            "bin_end": 0.6000000000000001,
            "count": 0
           },
           {
            "bin_start": 0.6000000000000001,
            "bin_end": 0.7000000000000001,
            "count": 0
           },
           {
            "bin_start": 0.7000000000000001,
            "bin_end": 0.8,
            "count": 0
           },
           {
            "bin_start": 0.8,
            "bin_end": 0.9,
            "count": 0
           },
           {
            "bin_start": 0.9,
            "bin_end": 1,
            "count": 480
           }
          ]
         }
        },
        {
         "name": "Education_Not Graduate",
         "dtype": "uint8",
         "stats": {
          "unique_count": 2,
          "nan_count": 0,
          "min": "0",
          "max": "1",
          "histogram": [
           {
            "bin_start": 0,
            "bin_end": 0.1,
            "count": 480
           },
           {
            "bin_start": 0.1,
            "bin_end": 0.2,
            "count": 0
           },
           {
            "bin_start": 0.2,
            "bin_end": 0.30000000000000004,
            "count": 0
           },
           {
            "bin_start": 0.30000000000000004,
            "bin_end": 0.4,
            "count": 0
           },
           {
            "bin_start": 0.4,
            "bin_end": 0.5,
            "count": 0
           },
           {
            "bin_start": 0.5,
            "bin_end": 0.6000000000000001,
            "count": 0
           },
           {
            "bin_start": 0.6000000000000001,
            "bin_end": 0.7000000000000001,
            "count": 0
           },
           {
            "bin_start": 0.7000000000000001,
            "bin_end": 0.8,
            "count": 0
           },
           {
            "bin_start": 0.8,
            "bin_end": 0.9,
            "count": 0
           },
           {
            "bin_start": 0.9,
            "bin_end": 1,
            "count": 134
           }
          ]
         }
        },
        {
         "name": "Self_Employed_No",
         "dtype": "uint8",
         "stats": {
          "unique_count": 2,
          "nan_count": 0,
          "min": "0",
          "max": "1",
          "histogram": [
           {
            "bin_start": 0,
            "bin_end": 0.1,
            "count": 82
           },
           {
            "bin_start": 0.1,
            "bin_end": 0.2,
            "count": 0
           },
           {
            "bin_start": 0.2,
            "bin_end": 0.30000000000000004,
            "count": 0
           },
           {
            "bin_start": 0.30000000000000004,
            "bin_end": 0.4,
            "count": 0
           },
           {
            "bin_start": 0.4,
            "bin_end": 0.5,
            "count": 0
           },
           {
            "bin_start": 0.5,
            "bin_end": 0.6000000000000001,
            "count": 0
           },
           {
            "bin_start": 0.6000000000000001,
            "bin_end": 0.7000000000000001,
            "count": 0
           },
           {
            "bin_start": 0.7000000000000001,
            "bin_end": 0.8,
            "count": 0
           },
           {
            "bin_start": 0.8,
            "bin_end": 0.9,
            "count": 0
           },
           {
            "bin_start": 0.9,
            "bin_end": 1,
            "count": 532
           }
          ]
         }
        },
        {
         "name": "Self_Employed_Yes",
         "dtype": "uint8",
         "stats": {
          "unique_count": 2,
          "nan_count": 0,
          "min": "0",
          "max": "1",
          "histogram": [
           {
            "bin_start": 0,
            "bin_end": 0.1,
            "count": 532
           },
           {
            "bin_start": 0.1,
            "bin_end": 0.2,
            "count": 0
           },
           {
            "bin_start": 0.2,
            "bin_end": 0.30000000000000004,
            "count": 0
           },
           {
            "bin_start": 0.30000000000000004,
            "bin_end": 0.4,
            "count": 0
           },
           {
            "bin_start": 0.4,
            "bin_end": 0.5,
            "count": 0
           },
           {
            "bin_start": 0.5,
            "bin_end": 0.6000000000000001,
            "count": 0
           },
           {
            "bin_start": 0.6000000000000001,
            "bin_end": 0.7000000000000001,
            "count": 0
           },
           {
            "bin_start": 0.7000000000000001,
            "bin_end": 0.8,
            "count": 0
           },
           {
            "bin_start": 0.8,
            "bin_end": 0.9,
            "count": 0
           },
           {
            "bin_start": 0.9,
            "bin_end": 1,
            "count": 82
           }
          ]
         }
        },
        {
         "name": "Property_Area_Rural",
         "dtype": "uint8",
         "stats": {
          "unique_count": 2,
          "nan_count": 0,
          "min": "0",
          "max": "1",
          "histogram": [
           {
            "bin_start": 0,
            "bin_end": 0.1,
            "count": 435
           },
           {
            "bin_start": 0.1,
            "bin_end": 0.2,
            "count": 0
           },
           {
            "bin_start": 0.2,
            "bin_end": 0.30000000000000004,
            "count": 0
           },
           {
            "bin_start": 0.30000000000000004,
            "bin_end": 0.4,
            "count": 0
           },
           {
            "bin_start": 0.4,
            "bin_end": 0.5,
            "count": 0
           },
           {
            "bin_start": 0.5,
            "bin_end": 0.6000000000000001,
            "count": 0
           },
           {
            "bin_start": 0.6000000000000001,
            "bin_end": 0.7000000000000001,
            "count": 0
           },
           {
            "bin_start": 0.7000000000000001,
            "bin_end": 0.8,
            "count": 0
           },
           {
            "bin_start": 0.8,
            "bin_end": 0.9,
            "count": 0
           },
           {
            "bin_start": 0.9,
            "bin_end": 1,
            "count": 179
           }
          ]
         }
        },
        {
         "name": "Property_Area_Semiurban",
         "dtype": "uint8",
         "stats": {
          "unique_count": 2,
          "nan_count": 0,
          "min": "0",
          "max": "1",
          "histogram": [
           {
            "bin_start": 0,
            "bin_end": 0.1,
            "count": 381
           },
           {
            "bin_start": 0.1,
            "bin_end": 0.2,
            "count": 0
           },
           {
            "bin_start": 0.2,
            "bin_end": 0.30000000000000004,
            "count": 0
           },
           {
            "bin_start": 0.30000000000000004,
            "bin_end": 0.4,
            "count": 0
           },
           {
            "bin_start": 0.4,
            "bin_end": 0.5,
            "count": 0
           },
           {
            "bin_start": 0.5,
            "bin_end": 0.6000000000000001,
            "count": 0
           },
           {
            "bin_start": 0.6000000000000001,
            "bin_end": 0.7000000000000001,
            "count": 0
           },
           {
            "bin_start": 0.7000000000000001,
            "bin_end": 0.8,
            "count": 0
           },
           {
            "bin_start": 0.8,
            "bin_end": 0.9,
            "count": 0
           },
           {
            "bin_start": 0.9,
            "bin_end": 1,
            "count": 233
           }
          ]
         }
        },
        {
         "name": "Property_Area_Urban",
         "dtype": "uint8",
         "stats": {
          "unique_count": 2,
          "nan_count": 0,
          "min": "0",
          "max": "1",
          "histogram": [
           {
            "bin_start": 0,
            "bin_end": 0.1,
            "count": 412
           },
           {
            "bin_start": 0.1,
            "bin_end": 0.2,
            "count": 0
           },
           {
            "bin_start": 0.2,
            "bin_end": 0.30000000000000004,
            "count": 0
           },
           {
            "bin_start": 0.30000000000000004,
            "bin_end": 0.4,
            "count": 0
           },
           {
            "bin_start": 0.4,
            "bin_end": 0.5,
            "count": 0
           },
           {
            "bin_start": 0.5,
            "bin_end": 0.6000000000000001,
            "count": 0
           },
           {
            "bin_start": 0.6000000000000001,
            "bin_end": 0.7000000000000001,
            "count": 0
           },
           {
            "bin_start": 0.7000000000000001,
            "bin_end": 0.8,
            "count": 0
           },
           {
            "bin_start": 0.8,
            "bin_end": 0.9,
            "count": 0
           },
           {
            "bin_start": 0.9,
            "bin_end": 1,
            "count": 202
           }
          ]
         }
        },
        {
         "name": "Dependents_0",
         "dtype": "uint8",
         "stats": {
          "unique_count": 2,
          "nan_count": 0,
          "min": "0",
          "max": "1",
          "histogram": [
           {
            "bin_start": 0,
            "bin_end": 0.1,
            "count": 254
           },
           {
            "bin_start": 0.1,
            "bin_end": 0.2,
            "count": 0
           },
           {
            "bin_start": 0.2,
            "bin_end": 0.30000000000000004,
            "count": 0
           },
           {
            "bin_start": 0.30000000000000004,
            "bin_end": 0.4,
            "count": 0
           },
           {
            "bin_start": 0.4,
            "bin_end": 0.5,
            "count": 0
           },
           {
            "bin_start": 0.5,
            "bin_end": 0.6000000000000001,
            "count": 0
           },
           {
            "bin_start": 0.6000000000000001,
            "bin_end": 0.7000000000000001,
            "count": 0
           },
           {
            "bin_start": 0.7000000000000001,
            "bin_end": 0.8,
            "count": 0
           },
           {
            "bin_start": 0.8,
            "bin_end": 0.9,
            "count": 0
           },
           {
            "bin_start": 0.9,
            "bin_end": 1,
            "count": 360
           }
          ]
         }
        },
        {
         "name": "Dependents_1",
         "dtype": "uint8",
         "stats": {
          "unique_count": 2,
          "nan_count": 0,
          "min": "0",
          "max": "1",
          "histogram": [
           {
            "bin_start": 0,
            "bin_end": 0.1,
            "count": 512
           },
           {
            "bin_start": 0.1,
            "bin_end": 0.2,
            "count": 0
           },
           {
            "bin_start": 0.2,
            "bin_end": 0.30000000000000004,
            "count": 0
           },
           {
            "bin_start": 0.30000000000000004,
            "bin_end": 0.4,
            "count": 0
           },
           {
            "bin_start": 0.4,
            "bin_end": 0.5,
            "count": 0
           },
           {
            "bin_start": 0.5,
            "bin_end": 0.6000000000000001,
            "count": 0
           },
           {
            "bin_start": 0.6000000000000001,
            "bin_end": 0.7000000000000001,
            "count": 0
           },
           {
            "bin_start": 0.7000000000000001,
            "bin_end": 0.8,
            "count": 0
           },
           {
            "bin_start": 0.8,
            "bin_end": 0.9,
            "count": 0
           },
           {
            "bin_start": 0.9,
            "bin_end": 1,
            "count": 102
           }
          ]
         }
        },
        {
         "name": "Dependents_2",
         "dtype": "uint8",
         "stats": {
          "unique_count": 2,
          "nan_count": 0,
          "min": "0",
          "max": "1",
          "histogram": [
           {
            "bin_start": 0,
            "bin_end": 0.1,
            "count": 513
           },
           {
            "bin_start": 0.1,
            "bin_end": 0.2,
            "count": 0
           },
           {
            "bin_start": 0.2,
            "bin_end": 0.30000000000000004,
            "count": 0
           },
           {
            "bin_start": 0.30000000000000004,
            "bin_end": 0.4,
            "count": 0
           },
           {
            "bin_start": 0.4,
            "bin_end": 0.5,
            "count": 0
           },
           {
            "bin_start": 0.5,
            "bin_end": 0.6000000000000001,
            "count": 0
           },
           {
            "bin_start": 0.6000000000000001,
            "bin_end": 0.7000000000000001,
            "count": 0
           },
           {
            "bin_start": 0.7000000000000001,
            "bin_end": 0.8,
            "count": 0
           },
           {
            "bin_start": 0.8,
            "bin_end": 0.9,
            "count": 0
           },
           {
            "bin_start": 0.9,
            "bin_end": 1,
            "count": 101
           }
          ]
         }
        },
        {
         "name": "Dependents_3+",
         "dtype": "uint8",
         "stats": {
          "unique_count": 2,
          "nan_count": 0,
          "min": "0",
          "max": "1",
          "histogram": [
           {
            "bin_start": 0,
            "bin_end": 0.1,
            "count": 563
           },
           {
            "bin_start": 0.1,
            "bin_end": 0.2,
            "count": 0
           },
           {
            "bin_start": 0.2,
            "bin_end": 0.30000000000000004,
            "count": 0
           },
           {
            "bin_start": 0.30000000000000004,
            "bin_end": 0.4,
            "count": 0
           },
           {
            "bin_start": 0.4,
            "bin_end": 0.5,
            "count": 0
           },
           {
            "bin_start": 0.5,
            "bin_end": 0.6000000000000001,
            "count": 0
           },
           {
            "bin_start": 0.6000000000000001,
            "bin_end": 0.7000000000000001,
            "count": 0
           },
           {
            "bin_start": 0.7000000000000001,
            "bin_end": 0.8,
            "count": 0
           },
           {
            "bin_start": 0.8,
            "bin_end": 0.9,
            "count": 0
           },
           {
            "bin_start": 0.9,
            "bin_end": 1,
            "count": 51
           }
          ]
         }
        },
        {
         "name": "ApplicantIncome",
         "dtype": "int64",
         "stats": {
          "unique_count": 505,
          "nan_count": 0,
          "min": "150",
          "max": "81000",
          "histogram": [
           {
            "bin_start": 150,
            "bin_end": 8235,
            "count": 533
           },
           {
            "bin_start": 8235,
            "bin_end": 16320,
            "count": 59
           },
           {
            "bin_start": 16320,
            "bin_end": 24405,
            "count": 15
           },
           {
            "bin_start": 24405,
            "bin_end": 32490,
            "count": 0
           },
           {
            "bin_start": 32490,
            "bin_end": 40575,
            "count": 4
           },
           {
            "bin_start": 40575,
            "bin_end": 48660,
            "count": 0
           },
           {
            "bin_start": 48660,
            "bin_end": 56745,
            "count": 1
           },
           {
            "bin_start": 56745,
            "bin_end": 64830,
            "count": 1
           },
           {
            "bin_start": 64830,
            "bin_end": 72915,
            "count": 0
           },
           {
            "bin_start": 72915,
            "bin_end": 81000,
            "count": 1
           }
          ]
         }
        },
        {
         "name": "CoapplicantIncome",
         "dtype": "float64",
         "stats": {
          "unique_count": 287,
          "nan_count": 0,
          "min": "0.0",
          "max": "41667.0",
          "histogram": [
           {
            "bin_start": 0,
            "bin_end": 4166.7,
            "count": 561
           },
           {
            "bin_start": 4166.7,
            "bin_end": 8333.4,
            "count": 46
           },
           {
            "bin_start": 8333.4,
            "bin_end": 12500.099999999999,
            "count": 3
           },
           {
            "bin_start": 12500.099999999999,
            "bin_end": 16666.8,
            "count": 0
           },
           {
            "bin_start": 16666.8,
            "bin_end": 20833.5,
            "count": 2
           },
           {
            "bin_start": 20833.5,
            "bin_end": 25000.199999999997,
            "count": 0
           },
           {
            "bin_start": 25000.199999999997,
            "bin_end": 29166.899999999998,
            "count": 0
           },
           {
            "bin_start": 29166.899999999998,
            "bin_end": 33333.6,
            "count": 0
           },
           {
            "bin_start": 33333.6,
            "bin_end": 37500.299999999996,
            "count": 1
           },
           {
            "bin_start": 37500.299999999996,
            "bin_end": 41667,
            "count": 1
           }
          ]
         }
        },
        {
         "name": "LoanAmount",
         "dtype": "float64",
         "stats": {
          "unique_count": 203,
          "nan_count": 0,
          "min": "9.0",
          "max": "700.0",
          "histogram": [
           {
            "bin_start": 9,
            "bin_end": 78.1,
            "count": 72
           },
           {
            "bin_start": 78.1,
            "bin_end": 147.2,
            "count": 332
           },
           {
            "bin_start": 147.2,
            "bin_end": 216.29999999999998,
            "count": 143
           },
           {
            "bin_start": 216.29999999999998,
            "bin_end": 285.4,
            "count": 33
           },
           {
            "bin_start": 285.4,
            "bin_end": 354.5,
            "count": 15
           },
           {
            "bin_start": 354.5,
            "bin_end": 423.59999999999997,
            "count": 6
           },
           {
            "bin_start": 423.59999999999997,
            "bin_end": 492.69999999999993,
            "count": 5
           },
           {
            "bin_start": 492.69999999999993,
            "bin_end": 561.8,
            "count": 3
           },
           {
            "bin_start": 561.8,
            "bin_end": 630.9,
            "count": 3
           },
           {
            "bin_start": 630.9,
            "bin_end": 700,
            "count": 2
           }
          ]
         }
        },
        {
         "name": "Loan_Amount_Term",
         "dtype": "float64",
         "stats": {
          "unique_count": 10,
          "nan_count": 0,
          "min": "12.0",
          "max": "480.0",
          "histogram": [
           {
            "bin_start": 12,
            "bin_end": 58.8,
            "count": 3
           },
           {
            "bin_start": 58.8,
            "bin_end": 105.6,
            "count": 6
           },
           {
            "bin_start": 105.6,
            "bin_end": 152.39999999999998,
            "count": 3
           },
           {
            "bin_start": 152.39999999999998,
            "bin_end": 199.2,
            "count": 44
           },
           {
            "bin_start": 199.2,
            "bin_end": 246,
            "count": 4
           },
           {
            "bin_start": 246,
            "bin_end": 292.79999999999995,
            "count": 0
           },
           {
            "bin_start": 292.79999999999995,
            "bin_end": 339.59999999999997,
            "count": 13
           },
           {
            "bin_start": 339.59999999999997,
            "bin_end": 386.4,
            "count": 526
           },
           {
            "bin_start": 386.4,
            "bin_end": 433.2,
            "count": 0
           },
           {
            "bin_start": 433.2,
            "bin_end": 480,
            "count": 15
           }
          ]
         }
        },
        {
         "name": "Credit_History",
         "dtype": "float64",
         "stats": {
          "unique_count": 2,
          "nan_count": 0,
          "min": "0.0",
          "max": "1.0",
          "histogram": [
           {
            "bin_start": 0,
            "bin_end": 0.1,
            "count": 89
           },
           {
            "bin_start": 0.1,
            "bin_end": 0.2,
            "count": 0
           },
           {
            "bin_start": 0.2,
            "bin_end": 0.30000000000000004,
            "count": 0
           },
           {
            "bin_start": 0.30000000000000004,
            "bin_end": 0.4,
            "count": 0
           },
           {
            "bin_start": 0.4,
            "bin_end": 0.5,
            "count": 0
           },
           {
            "bin_start": 0.5,
            "bin_end": 0.6000000000000001,
            "count": 0
           },
           {
            "bin_start": 0.6000000000000001,
            "bin_end": 0.7000000000000001,
            "count": 0
           },
           {
            "bin_start": 0.7000000000000001,
            "bin_end": 0.8,
            "count": 0
           },
           {
            "bin_start": 0.8,
            "bin_end": 0.9,
            "count": 0
           },
           {
            "bin_start": 0.9,
            "bin_end": 1,
            "count": 525
           }
          ]
         }
        },
        {
         "name": "Loan_Status",
         "dtype": "int64",
         "stats": {
          "unique_count": 2,
          "nan_count": 0,
          "min": "0",
          "max": "1",
          "histogram": [
           {
            "bin_start": 0,
            "bin_end": 0.1,
            "count": 192
           },
           {
            "bin_start": 0.1,
            "bin_end": 0.2,
            "count": 0
           },
           {
            "bin_start": 0.2,
            "bin_end": 0.30000000000000004,
            "count": 0
           },
           {
            "bin_start": 0.30000000000000004,
            "bin_end": 0.4,
            "count": 0
           },
           {
            "bin_start": 0.4,
            "bin_end": 0.5,
            "count": 0
           },
           {
            "bin_start": 0.5,
            "bin_end": 0.6000000000000001,
            "count": 0
           },
           {
            "bin_start": 0.6000000000000001,
            "bin_end": 0.7000000000000001,
            "count": 0
           },
           {
            "bin_start": 0.7000000000000001,
            "bin_end": 0.8,
            "count": 0
           },
           {
            "bin_start": 0.8,
            "bin_end": 0.9,
            "count": 0
           },
           {
            "bin_start": 0.9,
            "bin_end": 1,
            "count": 422
           }
          ]
         }
        },
        {
         "name": "_deepnote_index_column",
         "dtype": "int64"
        }
       ],
       "rows": [
        {
         "Gender_Female": 0,
         "Gender_Male": 1,
         "Married_No": 1,
         "Married_Yes": 0,
         "Education_Graduate": 1,
         "Education_Not Graduate": 0,
         "Self_Employed_No": 1,
         "Self_Employed_Yes": 0,
         "Property_Area_Rural": 0,
         "Property_Area_Semiurban": 0,
         "Property_Area_Urban": 1,
         "Dependents_0": 1,
         "Dependents_1": 0,
         "Dependents_2": 0,
         "Dependents_3+": 0,
         "ApplicantIncome": 5849,
         "CoapplicantIncome": 0,
         "LoanAmount": 128,
         "Loan_Amount_Term": 360,
         "Credit_History": 1,
         "Loan_Status": 1,
         "_deepnote_index_column": 0
        },
        {
         "Gender_Female": 0,
         "Gender_Male": 1,
         "Married_No": 0,
         "Married_Yes": 1,
         "Education_Graduate": 1,
         "Education_Not Graduate": 0,
         "Self_Employed_No": 1,
         "Self_Employed_Yes": 0,
         "Property_Area_Rural": 1,
         "Property_Area_Semiurban": 0,
         "Property_Area_Urban": 0,
         "Dependents_0": 0,
         "Dependents_1": 1,
         "Dependents_2": 0,
         "Dependents_3+": 0,
         "ApplicantIncome": 4583,
         "CoapplicantIncome": 1508,
         "LoanAmount": 128,
         "Loan_Amount_Term": 360,
         "Credit_History": 1,
         "Loan_Status": 0,
         "_deepnote_index_column": 1
        },
        {
         "Gender_Female": 0,
         "Gender_Male": 1,
         "Married_No": 0,
         "Married_Yes": 1,
         "Education_Graduate": 1,
         "Education_Not Graduate": 0,
         "Self_Employed_No": 0,
         "Self_Employed_Yes": 1,
         "Property_Area_Rural": 0,
         "Property_Area_Semiurban": 0,
         "Property_Area_Urban": 1,
         "Dependents_0": 1,
         "Dependents_1": 0,
         "Dependents_2": 0,
         "Dependents_3+": 0,
         "ApplicantIncome": 3000,
         "CoapplicantIncome": 0,
         "LoanAmount": 66,
         "Loan_Amount_Term": 360,
         "Credit_History": 1,
         "Loan_Status": 1,
         "_deepnote_index_column": 2
        },
        {
         "Gender_Female": 0,
         "Gender_Male": 1,
         "Married_No": 0,
         "Married_Yes": 1,
         "Education_Graduate": 0,
         "Education_Not Graduate": 1,
         "Self_Employed_No": 1,
         "Self_Employed_Yes": 0,
         "Property_Area_Rural": 0,
         "Property_Area_Semiurban": 0,
         "Property_Area_Urban": 1,
         "Dependents_0": 1,
         "Dependents_1": 0,
         "Dependents_2": 0,
         "Dependents_3+": 0,
         "ApplicantIncome": 2583,
         "CoapplicantIncome": 2358,
         "LoanAmount": 120,
         "Loan_Amount_Term": 360,
         "Credit_History": 1,
         "Loan_Status": 1,
         "_deepnote_index_column": 3
        },
        {
         "Gender_Female": 0,
         "Gender_Male": 1,
         "Married_No": 1,
         "Married_Yes": 0,
         "Education_Graduate": 1,
         "Education_Not Graduate": 0,
         "Self_Employed_No": 1,
         "Self_Employed_Yes": 0,
         "Property_Area_Rural": 0,
         "Property_Area_Semiurban": 0,
         "Property_Area_Urban": 1,
         "Dependents_0": 1,
         "Dependents_1": 0,
         "Dependents_2": 0,
         "Dependents_3+": 0,
         "ApplicantIncome": 6000,
         "CoapplicantIncome": 0,
         "LoanAmount": 141,
         "Loan_Amount_Term": 360,
         "Credit_History": 1,
         "Loan_Status": 1,
         "_deepnote_index_column": 4
        },
        {
         "Gender_Female": 0,
         "Gender_Male": 1,
         "Married_No": 0,
         "Married_Yes": 1,
         "Education_Graduate": 1,
         "Education_Not Graduate": 0,
         "Self_Employed_No": 0,
         "Self_Employed_Yes": 1,
         "Property_Area_Rural": 0,
         "Property_Area_Semiurban": 0,
         "Property_Area_Urban": 1,
         "Dependents_0": 0,
         "Dependents_1": 0,
         "Dependents_2": 1,
         "Dependents_3+": 0,
         "ApplicantIncome": 5417,
         "CoapplicantIncome": 4196,
         "LoanAmount": 267,
         "Loan_Amount_Term": 360,
         "Credit_History": 1,
         "Loan_Status": 1,
         "_deepnote_index_column": 5
        },
        {
         "Gender_Female": 0,
         "Gender_Male": 1,
         "Married_No": 0,
         "Married_Yes": 1,
         "Education_Graduate": 0,
         "Education_Not Graduate": 1,
         "Self_Employed_No": 1,
         "Self_Employed_Yes": 0,
         "Property_Area_Rural": 0,
         "Property_Area_Semiurban": 0,
         "Property_Area_Urban": 1,
         "Dependents_0": 1,
         "Dependents_1": 0,
         "Dependents_2": 0,
         "Dependents_3+": 0,
         "ApplicantIncome": 2333,
         "CoapplicantIncome": 1516,
         "LoanAmount": 95,
         "Loan_Amount_Term": 360,
         "Credit_History": 1,
         "Loan_Status": 1,
         "_deepnote_index_column": 6
        },
        {
         "Gender_Female": 0,
         "Gender_Male": 1,
         "Married_No": 0,
         "Married_Yes": 1,
         "Education_Graduate": 1,
         "Education_Not Graduate": 0,
         "Self_Employed_No": 1,
         "Self_Employed_Yes": 0,
         "Property_Area_Rural": 0,
         "Property_Area_Semiurban": 1,
         "Property_Area_Urban": 0,
         "Dependents_0": 0,
         "Dependents_1": 0,
         "Dependents_2": 0,
         "Dependents_3+": 1,
         "ApplicantIncome": 3036,
         "CoapplicantIncome": 2504,
         "LoanAmount": 158,
         "Loan_Amount_Term": 360,
         "Credit_History": 0,
         "Loan_Status": 0,
         "_deepnote_index_column": 7
        },
        {
         "Gender_Female": 0,
         "Gender_Male": 1,
         "Married_No": 0,
         "Married_Yes": 1,
         "Education_Graduate": 1,
         "Education_Not Graduate": 0,
         "Self_Employed_No": 1,
         "Self_Employed_Yes": 0,
         "Property_Area_Rural": 0,
         "Property_Area_Semiurban": 0,
         "Property_Area_Urban": 1,
         "Dependents_0": 0,
         "Dependents_1": 0,
         "Dependents_2": 1,
         "Dependents_3+": 0,
         "ApplicantIncome": 4006,
         "CoapplicantIncome": 1526,
         "LoanAmount": 168,
         "Loan_Amount_Term": 360,
         "Credit_History": 1,
         "Loan_Status": 1,
         "_deepnote_index_column": 8
        },
        {
         "Gender_Female": 0,
         "Gender_Male": 1,
         "Married_No": 0,
         "Married_Yes": 1,
         "Education_Graduate": 1,
         "Education_Not Graduate": 0,
         "Self_Employed_No": 1,
         "Self_Employed_Yes": 0,
         "Property_Area_Rural": 0,
         "Property_Area_Semiurban": 1,
         "Property_Area_Urban": 0,
         "Dependents_0": 0,
         "Dependents_1": 1,
         "Dependents_2": 0,
         "Dependents_3+": 0,
         "ApplicantIncome": 12841,
         "CoapplicantIncome": 10968,
         "LoanAmount": 349,
         "Loan_Amount_Term": 360,
         "Credit_History": 1,
         "Loan_Status": 0,
         "_deepnote_index_column": 9
        }
       ]
      },
      "text/plain": "     Gender_Female  Gender_Male  Married_No  Married_Yes  Education_Graduate  \\\n0                0            1           1            0                   1   \n1                0            1           0            1                   1   \n2                0            1           0            1                   1   \n3                0            1           0            1                   0   \n4                0            1           1            0                   1   \n..             ...          ...         ...          ...                 ...   \n609              1            0           1            0                   1   \n610              0            1           0            1                   1   \n611              0            1           0            1                   1   \n612              0            1           0            1                   1   \n613              1            0           1            0                   1   \n\n     Education_Not Graduate  Self_Employed_No  Self_Employed_Yes  \\\n0                         0                 1                  0   \n1                         0                 1                  0   \n2                         0                 0                  1   \n3                         1                 1                  0   \n4                         0                 1                  0   \n..                      ...               ...                ...   \n609                       0                 1                  0   \n610                       0                 1                  0   \n611                       0                 1                  0   \n612                       0                 1                  0   \n613                       0                 0                  1   \n\n     Property_Area_Rural  Property_Area_Semiurban  ...  Dependents_0  \\\n0                      0                        0  ...             1   \n1                      1                        0  ...             0   \n2                      0                        0  ...             1   \n3                      0                        0  ...             1   \n4                      0                        0  ...             1   \n..                   ...                      ...  ...           ...   \n609                    1                        0  ...             1   \n610                    1                        0  ...             0   \n611                    0                        0  ...             0   \n612                    0                        0  ...             0   \n613                    0                        1  ...             1   \n\n     Dependents_1  Dependents_2  Dependents_3+  ApplicantIncome  \\\n0               0             0              0             5849   \n1               1             0              0             4583   \n2               0             0              0             3000   \n3               0             0              0             2583   \n4               0             0              0             6000   \n..            ...           ...            ...              ...   \n609             0             0              0             2900   \n610             0             0              1             4106   \n611             1             0              0             8072   \n612             0             1              0             7583   \n613             0             0              0             4583   \n\n     CoapplicantIncome  LoanAmount  Loan_Amount_Term  Credit_History  \\\n0                  0.0       128.0             360.0             1.0   \n1               1508.0       128.0             360.0             1.0   \n2                  0.0        66.0             360.0             1.0   \n3               2358.0       120.0             360.0             1.0   \n4                  0.0       141.0             360.0             1.0   \n..                 ...         ...               ...             ...   \n609                0.0        71.0             360.0             1.0   \n610                0.0        40.0             180.0             1.0   \n611              240.0       253.0             360.0             1.0   \n612                0.0       187.0             360.0             1.0   \n613                0.0       133.0             360.0             0.0   \n\n     Loan_Status  \n0              1  \n1              0  \n2              1  \n3              1  \n4              1  \n..           ...  \n609            1  \n610            1  \n611            1  \n612            1  \n613            0  \n\n[614 rows x 21 columns]",
      "text/html": "<div>\n<style scoped>\n    .dataframe tbody tr th:only-of-type {\n        vertical-align: middle;\n    }\n\n    .dataframe tbody tr th {\n        vertical-align: top;\n    }\n\n    .dataframe thead th {\n        text-align: right;\n    }\n</style>\n<table border=\"1\" class=\"dataframe\">\n  <thead>\n    <tr style=\"text-align: right;\">\n      <th></th>\n      <th>Gender_Female</th>\n      <th>Gender_Male</th>\n      <th>Married_No</th>\n      <th>Married_Yes</th>\n      <th>Education_Graduate</th>\n      <th>Education_Not Graduate</th>\n      <th>Self_Employed_No</th>\n      <th>Self_Employed_Yes</th>\n      <th>Property_Area_Rural</th>\n      <th>Property_Area_Semiurban</th>\n      <th>...</th>\n      <th>Dependents_0</th>\n      <th>Dependents_1</th>\n      <th>Dependents_2</th>\n      <th>Dependents_3+</th>\n      <th>ApplicantIncome</th>\n      <th>CoapplicantIncome</th>\n      <th>LoanAmount</th>\n      <th>Loan_Amount_Term</th>\n      <th>Credit_History</th>\n      <th>Loan_Status</th>\n    </tr>\n  </thead>\n  <tbody>\n    <tr>\n      <th>0</th>\n      <td>0</td>\n      <td>1</td>\n      <td>1</td>\n      <td>0</td>\n      <td>1</td>\n      <td>0</td>\n      <td>1</td>\n      <td>0</td>\n      <td>0</td>\n      <td>0</td>\n      <td>...</td>\n      <td>1</td>\n      <td>0</td>\n      <td>0</td>\n      <td>0</td>\n      <td>5849</td>\n      <td>0.0</td>\n      <td>128.0</td>\n      <td>360.0</td>\n      <td>1.0</td>\n      <td>1</td>\n    </tr>\n    <tr>\n      <th>1</th>\n      <td>0</td>\n      <td>1</td>\n      <td>0</td>\n      <td>1</td>\n      <td>1</td>\n      <td>0</td>\n      <td>1</td>\n      <td>0</td>\n      <td>1</td>\n      <td>0</td>\n      <td>...</td>\n      <td>0</td>\n      <td>1</td>\n      <td>0</td>\n      <td>0</td>\n      <td>4583</td>\n      <td>1508.0</td>\n      <td>128.0</td>\n      <td>360.0</td>\n      <td>1.0</td>\n      <td>0</td>\n    </tr>\n    <tr>\n      <th>2</th>\n      <td>0</td>\n      <td>1</td>\n      <td>0</td>\n      <td>1</td>\n      <td>1</td>\n      <td>0</td>\n      <td>0</td>\n      <td>1</td>\n      <td>0</td>\n      <td>0</td>\n      <td>...</td>\n      <td>1</td>\n      <td>0</td>\n      <td>0</td>\n      <td>0</td>\n      <td>3000</td>\n      <td>0.0</td>\n      <td>66.0</td>\n      <td>360.0</td>\n      <td>1.0</td>\n      <td>1</td>\n    </tr>\n    <tr>\n      <th>3</th>\n      <td>0</td>\n      <td>1</td>\n      <td>0</td>\n      <td>1</td>\n      <td>0</td>\n      <td>1</td>\n      <td>1</td>\n      <td>0</td>\n      <td>0</td>\n      <td>0</td>\n      <td>...</td>\n      <td>1</td>\n      <td>0</td>\n      <td>0</td>\n      <td>0</td>\n      <td>2583</td>\n      <td>2358.0</td>\n      <td>120.0</td>\n      <td>360.0</td>\n      <td>1.0</td>\n      <td>1</td>\n    </tr>\n    <tr>\n      <th>4</th>\n      <td>0</td>\n      <td>1</td>\n      <td>1</td>\n      <td>0</td>\n      <td>1</td>\n      <td>0</td>\n      <td>1</td>\n      <td>0</td>\n      <td>0</td>\n      <td>0</td>\n      <td>...</td>\n      <td>1</td>\n      <td>0</td>\n      <td>0</td>\n      <td>0</td>\n      <td>6000</td>\n      <td>0.0</td>\n      <td>141.0</td>\n      <td>360.0</td>\n      <td>1.0</td>\n      <td>1</td>\n    </tr>\n    <tr>\n      <th>...</th>\n      <td>...</td>\n      <td>...</td>\n      <td>...</td>\n      <td>...</td>\n      <td>...</td>\n      <td>...</td>\n      <td>...</td>\n      <td>...</td>\n      <td>...</td>\n      <td>...</td>\n      <td>...</td>\n      <td>...</td>\n      <td>...</td>\n      <td>...</td>\n      <td>...</td>\n      <td>...</td>\n      <td>...</td>\n      <td>...</td>\n      <td>...</td>\n      <td>...</td>\n      <td>...</td>\n    </tr>\n    <tr>\n      <th>609</th>\n      <td>1</td>\n      <td>0</td>\n      <td>1</td>\n      <td>0</td>\n      <td>1</td>\n      <td>0</td>\n      <td>1</td>\n      <td>0</td>\n      <td>1</td>\n      <td>0</td>\n      <td>...</td>\n      <td>1</td>\n      <td>0</td>\n      <td>0</td>\n      <td>0</td>\n      <td>2900</td>\n      <td>0.0</td>\n      <td>71.0</td>\n      <td>360.0</td>\n      <td>1.0</td>\n      <td>1</td>\n    </tr>\n    <tr>\n      <th>610</th>\n      <td>0</td>\n      <td>1</td>\n      <td>0</td>\n      <td>1</td>\n      <td>1</td>\n      <td>0</td>\n      <td>1</td>\n      <td>0</td>\n      <td>1</td>\n      <td>0</td>\n      <td>...</td>\n      <td>0</td>\n      <td>0</td>\n      <td>0</td>\n      <td>1</td>\n      <td>4106</td>\n      <td>0.0</td>\n      <td>40.0</td>\n      <td>180.0</td>\n      <td>1.0</td>\n      <td>1</td>\n    </tr>\n    <tr>\n      <th>611</th>\n      <td>0</td>\n      <td>1</td>\n      <td>0</td>\n      <td>1</td>\n      <td>1</td>\n      <td>0</td>\n      <td>1</td>\n      <td>0</td>\n      <td>0</td>\n      <td>0</td>\n      <td>...</td>\n      <td>0</td>\n      <td>1</td>\n      <td>0</td>\n      <td>0</td>\n      <td>8072</td>\n      <td>240.0</td>\n      <td>253.0</td>\n      <td>360.0</td>\n      <td>1.0</td>\n      <td>1</td>\n    </tr>\n    <tr>\n      <th>612</th>\n      <td>0</td>\n      <td>1</td>\n      <td>0</td>\n      <td>1</td>\n      <td>1</td>\n      <td>0</td>\n      <td>1</td>\n      <td>0</td>\n      <td>0</td>\n      <td>0</td>\n      <td>...</td>\n      <td>0</td>\n      <td>0</td>\n      <td>1</td>\n      <td>0</td>\n      <td>7583</td>\n      <td>0.0</td>\n      <td>187.0</td>\n      <td>360.0</td>\n      <td>1.0</td>\n      <td>1</td>\n    </tr>\n    <tr>\n      <th>613</th>\n      <td>1</td>\n      <td>0</td>\n      <td>1</td>\n      <td>0</td>\n      <td>1</td>\n      <td>0</td>\n      <td>0</td>\n      <td>1</td>\n      <td>0</td>\n      <td>1</td>\n      <td>...</td>\n      <td>1</td>\n      <td>0</td>\n      <td>0</td>\n      <td>0</td>\n      <td>4583</td>\n      <td>0.0</td>\n      <td>133.0</td>\n      <td>360.0</td>\n      <td>0.0</td>\n      <td>0</td>\n    </tr>\n  </tbody>\n</table>\n<p>614 rows × 21 columns</p>\n</div>"
     },
     "metadata": {}
    }
   ],
   "execution_count": null
  },
  {
   "cell_type": "code",
   "source": "X = data_train.drop('Loan_Status' , axis = 1)\ny = data_train['Loan_Status']",
   "metadata": {
    "cell_id": "4673936dfd2e483fb55cf838d788e27c",
    "tags": [],
    "deepnote_to_be_reexecuted": false,
    "source_hash": "90532927",
    "execution_start": 1659448535078,
    "execution_millis": 0,
    "deepnote_cell_type": "code",
    "deepnote_cell_height": 94
   },
   "outputs": [],
   "execution_count": null
  },
  {
   "cell_type": "code",
   "source": "# Most correlated values are: 1) Credit_History 2) Property_Area_Semiurban 3) Property_Area_Rural\ncorr_train = data_train.corr()\ncorr_train['Loan_Status'].sort_values(ascending=False)",
   "metadata": {
    "cell_id": "ec6d95bdd989446c852bfc1b34f07511",
    "tags": [],
    "deepnote_to_be_reexecuted": false,
    "source_hash": "36ee58be",
    "execution_start": 1659448535078,
    "execution_millis": 0,
    "deepnote_cell_type": "code",
    "deepnote_cell_height": 548,
    "deepnote_output_heights": [
     420
    ]
   },
   "outputs": [
    {
     "output_type": "execute_result",
     "execution_count": 25,
     "data": {
      "text/plain": "Loan_Status                1.000000\nCredit_History             0.540556\nProperty_Area_Semiurban    0.136540\nEducation_Graduate         0.085884\nMarried_Yes                0.084281\nDependents_2               0.062384\nGender_Male                0.017987\nSelf_Employed_No           0.003700\nDependents_0              -0.003044\nSelf_Employed_Yes         -0.003700\nApplicantIncome           -0.004710\nGender_Female             -0.017987\nLoan_Amount_Term          -0.022549\nDependents_3+             -0.026123\nLoanAmount                -0.033214\nDependents_1              -0.038740\nProperty_Area_Urban       -0.043621\nCoapplicantIncome         -0.059187\nEducation_Not Graduate    -0.085884\nMarried_No                -0.091478\nProperty_Area_Rural       -0.100694\nName: Loan_Status, dtype: float64"
     },
     "metadata": {}
    }
   ],
   "execution_count": null
  },
  {
   "cell_type": "markdown",
   "source": "### Applying to Test Data",
   "metadata": {
    "is_collapsed": false,
    "cell_id": "788fd3dd746144a8a4e43a8362aa061c",
    "tags": [],
    "formattedRanges": [],
    "deepnote_cell_type": "text-cell-h3"
   }
  },
  {
   "cell_type": "code",
   "source": "df_test = pd.read_csv(\"test.csv\")\ndf_test.head()",
   "metadata": {
    "cell_id": "e4f7eb298eb54fcaa9aa9b04df40d5a3",
    "tags": [],
    "deepnote_to_be_reexecuted": false,
    "source_hash": "5e8fb93b",
    "execution_start": 1659448535093,
    "execution_millis": 89,
    "deepnote_cell_type": "code",
    "deepnote_cell_height": 423
   },
   "outputs": [
    {
     "output_type": "execute_result",
     "execution_count": 26,
     "data": {
      "application/vnd.deepnote.dataframe.v3+json": {
       "column_count": 12,
       "row_count": 5,
       "columns": [
        {
         "name": "Loan_ID",
         "dtype": "object",
         "stats": {
          "unique_count": 5,
          "nan_count": 0,
          "categories": [
           {
            "name": "LP001015",
            "count": 1
           },
           {
            "name": "LP001022",
            "count": 1
           },
           {
            "name": "3 others",
            "count": 3
           }
          ]
         }
        },
        {
         "name": "Gender",
         "dtype": "object",
         "stats": {
          "unique_count": 1,
          "nan_count": 0,
          "categories": [
           {
            "name": "Male",
            "count": 5
           }
          ]
         }
        },
        {
         "name": "Married",
         "dtype": "object",
         "stats": {
          "unique_count": 2,
          "nan_count": 0,
          "categories": [
           {
            "name": "Yes",
            "count": 4
           },
           {
            "name": "No",
            "count": 1
           }
          ]
         }
        },
        {
         "name": "Dependents",
         "dtype": "object",
         "stats": {
          "unique_count": 3,
          "nan_count": 0,
          "categories": [
           {
            "name": "0",
            "count": 2
           },
           {
            "name": "2",
            "count": 2
           },
           {
            "name": "1",
            "count": 1
           }
          ]
         }
        },
        {
         "name": "Education",
         "dtype": "object",
         "stats": {
          "unique_count": 2,
          "nan_count": 0,
          "categories": [
           {
            "name": "Graduate",
            "count": 4
           },
           {
            "name": "Not Graduate",
            "count": 1
           }
          ]
         }
        },
        {
         "name": "Self_Employed",
         "dtype": "object",
         "stats": {
          "unique_count": 1,
          "nan_count": 0,
          "categories": [
           {
            "name": "No",
            "count": 5
           }
          ]
         }
        },
        {
         "name": "ApplicantIncome",
         "dtype": "int64",
         "stats": {
          "unique_count": 5,
          "nan_count": 0,
          "min": "2340",
          "max": "5720",
          "histogram": [
           {
            "bin_start": 2340,
            "bin_end": 2678,
            "count": 1
           },
           {
            "bin_start": 2678,
            "bin_end": 3016,
            "count": 0
           },
           {
            "bin_start": 3016,
            "bin_end": 3354,
            "count": 2
           },
           {
            "bin_start": 3354,
            "bin_end": 3692,
            "count": 0
           },
           {
            "bin_start": 3692,
            "bin_end": 4030,
            "count": 0
           },
           {
            "bin_start": 4030,
            "bin_end": 4368,
            "count": 0
           },
           {
            "bin_start": 4368,
            "bin_end": 4706,
            "count": 0
           },
           {
            "bin_start": 4706,
            "bin_end": 5044,
            "count": 1
           },
           {
            "bin_start": 5044,
            "bin_end": 5382,
            "count": 0
           },
           {
            "bin_start": 5382,
            "bin_end": 5720,
            "count": 1
           }
          ]
         }
        },
        {
         "name": "CoapplicantIncome",
         "dtype": "int64",
         "stats": {
          "unique_count": 4,
          "nan_count": 0,
          "min": "0",
          "max": "2546",
          "histogram": [
           {
            "bin_start": 0,
            "bin_end": 254.6,
            "count": 2
           },
           {
            "bin_start": 254.6,
            "bin_end": 509.2,
            "count": 0
           },
           {
            "bin_start": 509.2,
            "bin_end": 763.8,
            "count": 0
           },
           {
            "bin_start": 763.8,
            "bin_end": 1018.4,
            "count": 0
           },
           {
            "bin_start": 1018.4,
            "bin_end": 1273,
            "count": 0
           },
           {
            "bin_start": 1273,
            "bin_end": 1527.6,
            "count": 1
           },
           {
            "bin_start": 1527.6,
            "bin_end": 1782.2,
            "count": 0
           },
           {
            "bin_start": 1782.2,
            "bin_end": 2036.8,
            "count": 1
           },
           {
            "bin_start": 2036.8,
            "bin_end": 2291.4,
            "count": 0
           },
           {
            "bin_start": 2291.4,
            "bin_end": 2546,
            "count": 1
           }
          ]
         }
        },
        {
         "name": "LoanAmount",
         "dtype": "float64",
         "stats": {
          "unique_count": 5,
          "nan_count": 0,
          "min": "78.0",
          "max": "208.0",
          "histogram": [
           {
            "bin_start": 78,
            "bin_end": 91,
            "count": 1
           },
           {
            "bin_start": 91,
            "bin_end": 104,
            "count": 1
           },
           {
            "bin_start": 104,
            "bin_end": 117,
            "count": 1
           },
           {
            "bin_start": 117,
            "bin_end": 130,
            "count": 1
           },
           {
            "bin_start": 130,
            "bin_end": 143,
            "count": 0
           },
           {
            "bin_start": 143,
            "bin_end": 156,
            "count": 0
           },
           {
            "bin_start": 156,
            "bin_end": 169,
            "count": 0
           },
           {
            "bin_start": 169,
            "bin_end": 182,
            "count": 0
           },
           {
            "bin_start": 182,
            "bin_end": 195,
            "count": 0
           },
           {
            "bin_start": 195,
            "bin_end": 208,
            "count": 1
           }
          ]
         }
        },
        {
         "name": "Loan_Amount_Term",
         "dtype": "float64",
         "stats": {
          "unique_count": 1,
          "nan_count": 0,
          "min": "360.0",
          "max": "360.0",
          "histogram": [
           {
            "bin_start": 359.5,
            "bin_end": 359.6,
            "count": 0
           },
           {
            "bin_start": 359.6,
            "bin_end": 359.7,
            "count": 0
           },
           {
            "bin_start": 359.7,
            "bin_end": 359.8,
            "count": 0
           },
           {
            "bin_start": 359.8,
            "bin_end": 359.9,
            "count": 0
           },
           {
            "bin_start": 359.9,
            "bin_end": 360,
            "count": 0
           },
           {
            "bin_start": 360,
            "bin_end": 360.1,
            "count": 5
           },
           {
            "bin_start": 360.1,
            "bin_end": 360.2,
            "count": 0
           },
           {
            "bin_start": 360.2,
            "bin_end": 360.3,
            "count": 0
           },
           {
            "bin_start": 360.3,
            "bin_end": 360.4,
            "count": 0
           },
           {
            "bin_start": 360.4,
            "bin_end": 360.5,
            "count": 0
           }
          ]
         }
        },
        {
         "name": "Credit_History",
         "dtype": "float64",
         "stats": {
          "unique_count": 1,
          "nan_count": 1,
          "min": "1.0",
          "max": "1.0",
          "histogram": [
           {
            "bin_start": 0.5,
            "bin_end": 0.6,
            "count": 0
           },
           {
            "bin_start": 0.6,
            "bin_end": 0.7,
            "count": 0
           },
           {
            "bin_start": 0.7,
            "bin_end": 0.8,
            "count": 0
           },
           {
            "bin_start": 0.8,
            "bin_end": 0.9,
            "count": 0
           },
           {
            "bin_start": 0.9,
            "bin_end": 1,
            "count": 0
           },
           {
            "bin_start": 1,
            "bin_end": 1.1,
            "count": 4
           },
           {
            "bin_start": 1.1,
            "bin_end": 1.2000000000000002,
            "count": 0
           },
           {
            "bin_start": 1.2000000000000002,
            "bin_end": 1.3,
            "count": 0
           },
           {
            "bin_start": 1.3,
            "bin_end": 1.4,
            "count": 0
           },
           {
            "bin_start": 1.4,
            "bin_end": 1.5,
            "count": 0
           }
          ]
         }
        },
        {
         "name": "Property_Area",
         "dtype": "object",
         "stats": {
          "unique_count": 1,
          "nan_count": 0,
          "categories": [
           {
            "name": "Urban",
            "count": 5
           }
          ]
         }
        },
        {
         "name": "_deepnote_index_column",
         "dtype": "int64"
        }
       ],
       "rows": [
        {
         "Loan_ID": "LP001015",
         "Gender": "Male",
         "Married": "Yes",
         "Dependents": "0",
         "Education": "Graduate",
         "Self_Employed": "No",
         "ApplicantIncome": 5720,
         "CoapplicantIncome": 0,
         "LoanAmount": 110,
         "Loan_Amount_Term": 360,
         "Credit_History": 1,
         "Property_Area": "Urban",
         "_deepnote_index_column": 0
        },
        {
         "Loan_ID": "LP001022",
         "Gender": "Male",
         "Married": "Yes",
         "Dependents": "1",
         "Education": "Graduate",
         "Self_Employed": "No",
         "ApplicantIncome": 3076,
         "CoapplicantIncome": 1500,
         "LoanAmount": 126,
         "Loan_Amount_Term": 360,
         "Credit_History": 1,
         "Property_Area": "Urban",
         "_deepnote_index_column": 1
        },
        {
         "Loan_ID": "LP001031",
         "Gender": "Male",
         "Married": "Yes",
         "Dependents": "2",
         "Education": "Graduate",
         "Self_Employed": "No",
         "ApplicantIncome": 5000,
         "CoapplicantIncome": 1800,
         "LoanAmount": 208,
         "Loan_Amount_Term": 360,
         "Credit_History": 1,
         "Property_Area": "Urban",
         "_deepnote_index_column": 2
        },
        {
         "Loan_ID": "LP001035",
         "Gender": "Male",
         "Married": "Yes",
         "Dependents": "2",
         "Education": "Graduate",
         "Self_Employed": "No",
         "ApplicantIncome": 2340,
         "CoapplicantIncome": 2546,
         "LoanAmount": 100,
         "Loan_Amount_Term": 360,
         "Credit_History": "nan",
         "Property_Area": "Urban",
         "_deepnote_index_column": 3
        },
        {
         "Loan_ID": "LP001051",
         "Gender": "Male",
         "Married": "No",
         "Dependents": "0",
         "Education": "Not Graduate",
         "Self_Employed": "No",
         "ApplicantIncome": 3276,
         "CoapplicantIncome": 0,
         "LoanAmount": 78,
         "Loan_Amount_Term": 360,
         "Credit_History": 1,
         "Property_Area": "Urban",
         "_deepnote_index_column": 4
        }
       ]
      },
      "text/plain": "    Loan_ID Gender Married Dependents     Education Self_Employed  \\\n0  LP001015   Male     Yes          0      Graduate            No   \n1  LP001022   Male     Yes          1      Graduate            No   \n2  LP001031   Male     Yes          2      Graduate            No   \n3  LP001035   Male     Yes          2      Graduate            No   \n4  LP001051   Male      No          0  Not Graduate            No   \n\n   ApplicantIncome  CoapplicantIncome  LoanAmount  Loan_Amount_Term  \\\n0             5720                  0       110.0             360.0   \n1             3076               1500       126.0             360.0   \n2             5000               1800       208.0             360.0   \n3             2340               2546       100.0             360.0   \n4             3276                  0        78.0             360.0   \n\n   Credit_History Property_Area  \n0             1.0         Urban  \n1             1.0         Urban  \n2             1.0         Urban  \n3             NaN         Urban  \n4             1.0         Urban  ",
      "text/html": "<div>\n<style scoped>\n    .dataframe tbody tr th:only-of-type {\n        vertical-align: middle;\n    }\n\n    .dataframe tbody tr th {\n        vertical-align: top;\n    }\n\n    .dataframe thead th {\n        text-align: right;\n    }\n</style>\n<table border=\"1\" class=\"dataframe\">\n  <thead>\n    <tr style=\"text-align: right;\">\n      <th></th>\n      <th>Loan_ID</th>\n      <th>Gender</th>\n      <th>Married</th>\n      <th>Dependents</th>\n      <th>Education</th>\n      <th>Self_Employed</th>\n      <th>ApplicantIncome</th>\n      <th>CoapplicantIncome</th>\n      <th>LoanAmount</th>\n      <th>Loan_Amount_Term</th>\n      <th>Credit_History</th>\n      <th>Property_Area</th>\n    </tr>\n  </thead>\n  <tbody>\n    <tr>\n      <th>0</th>\n      <td>LP001015</td>\n      <td>Male</td>\n      <td>Yes</td>\n      <td>0</td>\n      <td>Graduate</td>\n      <td>No</td>\n      <td>5720</td>\n      <td>0</td>\n      <td>110.0</td>\n      <td>360.0</td>\n      <td>1.0</td>\n      <td>Urban</td>\n    </tr>\n    <tr>\n      <th>1</th>\n      <td>LP001022</td>\n      <td>Male</td>\n      <td>Yes</td>\n      <td>1</td>\n      <td>Graduate</td>\n      <td>No</td>\n      <td>3076</td>\n      <td>1500</td>\n      <td>126.0</td>\n      <td>360.0</td>\n      <td>1.0</td>\n      <td>Urban</td>\n    </tr>\n    <tr>\n      <th>2</th>\n      <td>LP001031</td>\n      <td>Male</td>\n      <td>Yes</td>\n      <td>2</td>\n      <td>Graduate</td>\n      <td>No</td>\n      <td>5000</td>\n      <td>1800</td>\n      <td>208.0</td>\n      <td>360.0</td>\n      <td>1.0</td>\n      <td>Urban</td>\n    </tr>\n    <tr>\n      <th>3</th>\n      <td>LP001035</td>\n      <td>Male</td>\n      <td>Yes</td>\n      <td>2</td>\n      <td>Graduate</td>\n      <td>No</td>\n      <td>2340</td>\n      <td>2546</td>\n      <td>100.0</td>\n      <td>360.0</td>\n      <td>NaN</td>\n      <td>Urban</td>\n    </tr>\n    <tr>\n      <th>4</th>\n      <td>LP001051</td>\n      <td>Male</td>\n      <td>No</td>\n      <td>0</td>\n      <td>Not Graduate</td>\n      <td>No</td>\n      <td>3276</td>\n      <td>0</td>\n      <td>78.0</td>\n      <td>360.0</td>\n      <td>1.0</td>\n      <td>Urban</td>\n    </tr>\n  </tbody>\n</table>\n</div>"
     },
     "metadata": {}
    }
   ],
   "execution_count": null
  },
  {
   "cell_type": "code",
   "source": "data_test = df_test.copy()",
   "metadata": {
    "cell_id": "65dc299c5df448669f6ff237c3e588e7",
    "tags": [],
    "deepnote_to_be_reexecuted": false,
    "source_hash": "7a60f907",
    "execution_start": 1659448535170,
    "execution_millis": 17,
    "deepnote_cell_type": "code",
    "deepnote_cell_height": 76
   },
   "outputs": [],
   "execution_count": null
  },
  {
   "cell_type": "code",
   "source": "# (TEST SET) Filling missing rows with most appropriate value (median or mode)\ndata_test['Gender'].fillna(data_test['Gender'].mode()[0], inplace=True)\ndata_test['Dependents'].fillna(data_test['Dependents'].mode()[0], inplace=True)\ndata_test['Self_Employed'].fillna(data_test['Self_Employed'].mode()[0], inplace=True)\ndata_test['LoanAmount'].fillna(data_test['LoanAmount'].median(), inplace=True)\ndata_test['Loan_Amount_Term'].fillna(data_test['Loan_Amount_Term'].mode()[0], inplace=True)\ndata_test['Credit_History'].fillna(data_test['Credit_History'].mode()[0], inplace=True)",
   "metadata": {
    "cell_id": "65bf7e2dfaf2473f9af35ee6de7ee296",
    "tags": [],
    "deepnote_to_be_reexecuted": false,
    "source_hash": "ed56abf9",
    "execution_start": 1659448535202,
    "execution_millis": 9,
    "deepnote_cell_type": "code",
    "deepnote_cell_height": 184
   },
   "outputs": [],
   "execution_count": null
  },
  {
   "cell_type": "code",
   "source": "dummies = pd.get_dummies(data_test[['Gender','Married','Education','Self_Employed','Property_Area','Dependents']])\ndata_test = pd.concat([dummies, data_test.drop(['Gender','Married','Education','Self_Employed',\\\n                        'Dependents','Property_Area',], axis=1)], axis=1)\n\ndata_test = data_test.drop('Loan_ID', axis = 1)\n\ndata_test",
   "metadata": {
    "cell_id": "c794949baf3a47ba96dd8466a9456489",
    "tags": [],
    "deepnote_to_be_reexecuted": false,
    "source_hash": "4ac0c7d3",
    "execution_start": 1659448535216,
    "execution_millis": 181,
    "deepnote_cell_type": "code",
    "deepnote_cell_height": 723
   },
   "outputs": [
    {
     "output_type": "execute_result",
     "execution_count": 29,
     "data": {
      "application/vnd.deepnote.dataframe.v3+json": {
       "column_count": 20,
       "row_count": 367,
       "columns": [
        {
         "name": "Gender_Female",
         "dtype": "uint8",
         "stats": {
          "unique_count": 2,
          "nan_count": 0,
          "min": "0",
          "max": "1",
          "histogram": [
           {
            "bin_start": 0,
            "bin_end": 0.1,
            "count": 297
           },
           {
            "bin_start": 0.1,
            "bin_end": 0.2,
            "count": 0
           },
           {
            "bin_start": 0.2,
            "bin_end": 0.30000000000000004,
            "count": 0
           },
           {
            "bin_start": 0.30000000000000004,
            "bin_end": 0.4,
            "count": 0
           },
           {
            "bin_start": 0.4,
            "bin_end": 0.5,
            "count": 0
           },
           {
            "bin_start": 0.5,
            "bin_end": 0.6000000000000001,
            "count": 0
           },
           {
            "bin_start": 0.6000000000000001,
            "bin_end": 0.7000000000000001,
            "count": 0
           },
           {
            "bin_start": 0.7000000000000001,
            "bin_end": 0.8,
            "count": 0
           },
           {
            "bin_start": 0.8,
            "bin_end": 0.9,
            "count": 0
           },
           {
            "bin_start": 0.9,
            "bin_end": 1,
            "count": 70
           }
          ]
         }
        },
        {
         "name": "Gender_Male",
         "dtype": "uint8",
         "stats": {
          "unique_count": 2,
          "nan_count": 0,
          "min": "0",
          "max": "1",
          "histogram": [
           {
            "bin_start": 0,
            "bin_end": 0.1,
            "count": 70
           },
           {
            "bin_start": 0.1,
            "bin_end": 0.2,
            "count": 0
           },
           {
            "bin_start": 0.2,
            "bin_end": 0.30000000000000004,
            "count": 0
           },
           {
            "bin_start": 0.30000000000000004,
            "bin_end": 0.4,
            "count": 0
           },
           {
            "bin_start": 0.4,
            "bin_end": 0.5,
            "count": 0
           },
           {
            "bin_start": 0.5,
            "bin_end": 0.6000000000000001,
            "count": 0
           },
           {
            "bin_start": 0.6000000000000001,
            "bin_end": 0.7000000000000001,
            "count": 0
           },
           {
            "bin_start": 0.7000000000000001,
            "bin_end": 0.8,
            "count": 0
           },
           {
            "bin_start": 0.8,
            "bin_end": 0.9,
            "count": 0
           },
           {
            "bin_start": 0.9,
            "bin_end": 1,
            "count": 297
           }
          ]
         }
        },
        {
         "name": "Married_No",
         "dtype": "uint8",
         "stats": {
          "unique_count": 2,
          "nan_count": 0,
          "min": "0",
          "max": "1",
          "histogram": [
           {
            "bin_start": 0,
            "bin_end": 0.1,
            "count": 233
           },
           {
            "bin_start": 0.1,
            "bin_end": 0.2,
            "count": 0
           },
           {
            "bin_start": 0.2,
            "bin_end": 0.30000000000000004,
            "count": 0
           },
           {
            "bin_start": 0.30000000000000004,
            "bin_end": 0.4,
            "count": 0
           },
           {
            "bin_start": 0.4,
            "bin_end": 0.5,
            "count": 0
           },
           {
            "bin_start": 0.5,
            "bin_end": 0.6000000000000001,
            "count": 0
           },
           {
            "bin_start": 0.6000000000000001,
            "bin_end": 0.7000000000000001,
            "count": 0
           },
           {
            "bin_start": 0.7000000000000001,
            "bin_end": 0.8,
            "count": 0
           },
           {
            "bin_start": 0.8,
            "bin_end": 0.9,
            "count": 0
           },
           {
            "bin_start": 0.9,
            "bin_end": 1,
            "count": 134
           }
          ]
         }
        },
        {
         "name": "Married_Yes",
         "dtype": "uint8",
         "stats": {
          "unique_count": 2,
          "nan_count": 0,
          "min": "0",
          "max": "1",
          "histogram": [
           {
            "bin_start": 0,
            "bin_end": 0.1,
            "count": 134
           },
           {
            "bin_start": 0.1,
            "bin_end": 0.2,
            "count": 0
           },
           {
            "bin_start": 0.2,
            "bin_end": 0.30000000000000004,
            "count": 0
           },
           {
            "bin_start": 0.30000000000000004,
            "bin_end": 0.4,
            "count": 0
           },
           {
            "bin_start": 0.4,
            "bin_end": 0.5,
            "count": 0
           },
           {
            "bin_start": 0.5,
            "bin_end": 0.6000000000000001,
            "count": 0
           },
           {
            "bin_start": 0.6000000000000001,
            "bin_end": 0.7000000000000001,
            "count": 0
           },
           {
            "bin_start": 0.7000000000000001,
            "bin_end": 0.8,
            "count": 0
           },
           {
            "bin_start": 0.8,
            "bin_end": 0.9,
            "count": 0
           },
           {
            "bin_start": 0.9,
            "bin_end": 1,
            "count": 233
           }
          ]
         }
        },
        {
         "name": "Education_Graduate",
         "dtype": "uint8",
         "stats": {
          "unique_count": 2,
          "nan_count": 0,
          "min": "0",
          "max": "1",
          "histogram": [
           {
            "bin_start": 0,
            "bin_end": 0.1,
            "count": 84
           },
           {
            "bin_start": 0.1,
            "bin_end": 0.2,
            "count": 0
           },
           {
            "bin_start": 0.2,
            "bin_end": 0.30000000000000004,
            "count": 0
           },
           {
            "bin_start": 0.30000000000000004,
            "bin_end": 0.4,
            "count": 0
           },
           {
            "bin_start": 0.4,
            "bin_end": 0.5,
            "count": 0
           },
           {
            "bin_start": 0.5,
            "bin_end": 0.6000000000000001,
            "count": 0
           },
           {
            "bin_start": 0.6000000000000001,
            "bin_end": 0.7000000000000001,
            "count": 0
           },
           {
            "bin_start": 0.7000000000000001,
            "bin_end": 0.8,
            "count": 0
           },
           {
            "bin_start": 0.8,
            "bin_end": 0.9,
            "count": 0
           },
           {
            "bin_start": 0.9,
            "bin_end": 1,
            "count": 283
           }
          ]
         }
        },
        {
         "name": "Education_Not Graduate",
         "dtype": "uint8",
         "stats": {
          "unique_count": 2,
          "nan_count": 0,
          "min": "0",
          "max": "1",
          "histogram": [
           {
            "bin_start": 0,
            "bin_end": 0.1,
            "count": 283
           },
           {
            "bin_start": 0.1,
            "bin_end": 0.2,
            "count": 0
           },
           {
            "bin_start": 0.2,
            "bin_end": 0.30000000000000004,
            "count": 0
           },
           {
            "bin_start": 0.30000000000000004,
            "bin_end": 0.4,
            "count": 0
           },
           {
            "bin_start": 0.4,
            "bin_end": 0.5,
            "count": 0
           },
           {
            "bin_start": 0.5,
            "bin_end": 0.6000000000000001,
            "count": 0
           },
           {
            "bin_start": 0.6000000000000001,
            "bin_end": 0.7000000000000001,
            "count": 0
           },
           {
            "bin_start": 0.7000000000000001,
            "bin_end": 0.8,
            "count": 0
           },
           {
            "bin_start": 0.8,
            "bin_end": 0.9,
            "count": 0
           },
           {
            "bin_start": 0.9,
            "bin_end": 1,
            "count": 84
           }
          ]
         }
        },
        {
         "name": "Self_Employed_No",
         "dtype": "uint8",
         "stats": {
          "unique_count": 2,
          "nan_count": 0,
          "min": "0",
          "max": "1",
          "histogram": [
           {
            "bin_start": 0,
            "bin_end": 0.1,
            "count": 37
           },
           {
            "bin_start": 0.1,
            "bin_end": 0.2,
            "count": 0
           },
           {
            "bin_start": 0.2,
            "bin_end": 0.30000000000000004,
            "count": 0
           },
           {
            "bin_start": 0.30000000000000004,
            "bin_end": 0.4,
            "count": 0
           },
           {
            "bin_start": 0.4,
            "bin_end": 0.5,
            "count": 0
           },
           {
            "bin_start": 0.5,
            "bin_end": 0.6000000000000001,
            "count": 0
           },
           {
            "bin_start": 0.6000000000000001,
            "bin_end": 0.7000000000000001,
            "count": 0
           },
           {
            "bin_start": 0.7000000000000001,
            "bin_end": 0.8,
            "count": 0
           },
           {
            "bin_start": 0.8,
            "bin_end": 0.9,
            "count": 0
           },
           {
            "bin_start": 0.9,
            "bin_end": 1,
            "count": 330
           }
          ]
         }
        },
        {
         "name": "Self_Employed_Yes",
         "dtype": "uint8",
         "stats": {
          "unique_count": 2,
          "nan_count": 0,
          "min": "0",
          "max": "1",
          "histogram": [
           {
            "bin_start": 0,
            "bin_end": 0.1,
            "count": 330
           },
           {
            "bin_start": 0.1,
            "bin_end": 0.2,
            "count": 0
           },
           {
            "bin_start": 0.2,
            "bin_end": 0.30000000000000004,
            "count": 0
           },
           {
            "bin_start": 0.30000000000000004,
            "bin_end": 0.4,
            "count": 0
           },
           {
            "bin_start": 0.4,
            "bin_end": 0.5,
            "count": 0
           },
           {
            "bin_start": 0.5,
            "bin_end": 0.6000000000000001,
            "count": 0
           },
           {
            "bin_start": 0.6000000000000001,
            "bin_end": 0.7000000000000001,
            "count": 0
           },
           {
            "bin_start": 0.7000000000000001,
            "bin_end": 0.8,
            "count": 0
           },
           {
            "bin_start": 0.8,
            "bin_end": 0.9,
            "count": 0
           },
           {
            "bin_start": 0.9,
            "bin_end": 1,
            "count": 37
           }
          ]
         }
        },
        {
         "name": "Property_Area_Rural",
         "dtype": "uint8",
         "stats": {
          "unique_count": 2,
          "nan_count": 0,
          "min": "0",
          "max": "1",
          "histogram": [
           {
            "bin_start": 0,
            "bin_end": 0.1,
            "count": 256
           },
           {
            "bin_start": 0.1,
            "bin_end": 0.2,
            "count": 0
           },
           {
            "bin_start": 0.2,
            "bin_end": 0.30000000000000004,
            "count": 0
           },
           {
            "bin_start": 0.30000000000000004,
            "bin_end": 0.4,
            "count": 0
           },
           {
            "bin_start": 0.4,
            "bin_end": 0.5,
            "count": 0
           },
           {
            "bin_start": 0.5,
            "bin_end": 0.6000000000000001,
            "count": 0
           },
           {
            "bin_start": 0.6000000000000001,
            "bin_end": 0.7000000000000001,
            "count": 0
           },
           {
            "bin_start": 0.7000000000000001,
            "bin_end": 0.8,
            "count": 0
           },
           {
            "bin_start": 0.8,
            "bin_end": 0.9,
            "count": 0
           },
           {
            "bin_start": 0.9,
            "bin_end": 1,
            "count": 111
           }
          ]
         }
        },
        {
         "name": "Property_Area_Semiurban",
         "dtype": "uint8",
         "stats": {
          "unique_count": 2,
          "nan_count": 0,
          "min": "0",
          "max": "1",
          "histogram": [
           {
            "bin_start": 0,
            "bin_end": 0.1,
            "count": 251
           },
           {
            "bin_start": 0.1,
            "bin_end": 0.2,
            "count": 0
           },
           {
            "bin_start": 0.2,
            "bin_end": 0.30000000000000004,
            "count": 0
           },
           {
            "bin_start": 0.30000000000000004,
            "bin_end": 0.4,
            "count": 0
           },
           {
            "bin_start": 0.4,
            "bin_end": 0.5,
            "count": 0
           },
           {
            "bin_start": 0.5,
            "bin_end": 0.6000000000000001,
            "count": 0
           },
           {
            "bin_start": 0.6000000000000001,
            "bin_end": 0.7000000000000001,
            "count": 0
           },
           {
            "bin_start": 0.7000000000000001,
            "bin_end": 0.8,
            "count": 0
           },
           {
            "bin_start": 0.8,
            "bin_end": 0.9,
            "count": 0
           },
           {
            "bin_start": 0.9,
            "bin_end": 1,
            "count": 116
           }
          ]
         }
        },
        {
         "name": "Property_Area_Urban",
         "dtype": "uint8",
         "stats": {
          "unique_count": 2,
          "nan_count": 0,
          "min": "0",
          "max": "1",
          "histogram": [
           {
            "bin_start": 0,
            "bin_end": 0.1,
            "count": 227
           },
           {
            "bin_start": 0.1,
            "bin_end": 0.2,
            "count": 0
           },
           {
            "bin_start": 0.2,
            "bin_end": 0.30000000000000004,
            "count": 0
           },
           {
            "bin_start": 0.30000000000000004,
            "bin_end": 0.4,
            "count": 0
           },
           {
            "bin_start": 0.4,
            "bin_end": 0.5,
            "count": 0
           },
           {
            "bin_start": 0.5,
            "bin_end": 0.6000000000000001,
            "count": 0
           },
           {
            "bin_start": 0.6000000000000001,
            "bin_end": 0.7000000000000001,
            "count": 0
           },
           {
            "bin_start": 0.7000000000000001,
            "bin_end": 0.8,
            "count": 0
           },
           {
            "bin_start": 0.8,
            "bin_end": 0.9,
            "count": 0
           },
           {
            "bin_start": 0.9,
            "bin_end": 1,
            "count": 140
           }
          ]
         }
        },
        {
         "name": "Dependents_0",
         "dtype": "uint8",
         "stats": {
          "unique_count": 2,
          "nan_count": 0,
          "min": "0",
          "max": "1",
          "histogram": [
           {
            "bin_start": 0,
            "bin_end": 0.1,
            "count": 157
           },
           {
            "bin_start": 0.1,
            "bin_end": 0.2,
            "count": 0
           },
           {
            "bin_start": 0.2,
            "bin_end": 0.30000000000000004,
            "count": 0
           },
           {
            "bin_start": 0.30000000000000004,
            "bin_end": 0.4,
            "count": 0
           },
           {
            "bin_start": 0.4,
            "bin_end": 0.5,
            "count": 0
           },
           {
            "bin_start": 0.5,
            "bin_end": 0.6000000000000001,
            "count": 0
           },
           {
            "bin_start": 0.6000000000000001,
            "bin_end": 0.7000000000000001,
            "count": 0
           },
           {
            "bin_start": 0.7000000000000001,
            "bin_end": 0.8,
            "count": 0
           },
           {
            "bin_start": 0.8,
            "bin_end": 0.9,
            "count": 0
           },
           {
            "bin_start": 0.9,
            "bin_end": 1,
            "count": 210
           }
          ]
         }
        },
        {
         "name": "Dependents_1",
         "dtype": "uint8",
         "stats": {
          "unique_count": 2,
          "nan_count": 0,
          "min": "0",
          "max": "1",
          "histogram": [
           {
            "bin_start": 0,
            "bin_end": 0.1,
            "count": 309
           },
           {
            "bin_start": 0.1,
            "bin_end": 0.2,
            "count": 0
           },
           {
            "bin_start": 0.2,
            "bin_end": 0.30000000000000004,
            "count": 0
           },
           {
            "bin_start": 0.30000000000000004,
            "bin_end": 0.4,
            "count": 0
           },
           {
            "bin_start": 0.4,
            "bin_end": 0.5,
            "count": 0
           },
           {
            "bin_start": 0.5,
            "bin_end": 0.6000000000000001,
            "count": 0
           },
           {
            "bin_start": 0.6000000000000001,
            "bin_end": 0.7000000000000001,
            "count": 0
           },
           {
            "bin_start": 0.7000000000000001,
            "bin_end": 0.8,
            "count": 0
           },
           {
            "bin_start": 0.8,
            "bin_end": 0.9,
            "count": 0
           },
           {
            "bin_start": 0.9,
            "bin_end": 1,
            "count": 58
           }
          ]
         }
        },
        {
         "name": "Dependents_2",
         "dtype": "uint8",
         "stats": {
          "unique_count": 2,
          "nan_count": 0,
          "min": "0",
          "max": "1",
          "histogram": [
           {
            "bin_start": 0,
            "bin_end": 0.1,
            "count": 308
           },
           {
            "bin_start": 0.1,
            "bin_end": 0.2,
            "count": 0
           },
           {
            "bin_start": 0.2,
            "bin_end": 0.30000000000000004,
            "count": 0
           },
           {
            "bin_start": 0.30000000000000004,
            "bin_end": 0.4,
            "count": 0
           },
           {
            "bin_start": 0.4,
            "bin_end": 0.5,
            "count": 0
           },
           {
            "bin_start": 0.5,
            "bin_end": 0.6000000000000001,
            "count": 0
           },
           {
            "bin_start": 0.6000000000000001,
            "bin_end": 0.7000000000000001,
            "count": 0
           },
           {
            "bin_start": 0.7000000000000001,
            "bin_end": 0.8,
            "count": 0
           },
           {
            "bin_start": 0.8,
            "bin_end": 0.9,
            "count": 0
           },
           {
            "bin_start": 0.9,
            "bin_end": 1,
            "count": 59
           }
          ]
         }
        },
        {
         "name": "Dependents_3+",
         "dtype": "uint8",
         "stats": {
          "unique_count": 2,
          "nan_count": 0,
          "min": "0",
          "max": "1",
          "histogram": [
           {
            "bin_start": 0,
            "bin_end": 0.1,
            "count": 327
           },
           {
            "bin_start": 0.1,
            "bin_end": 0.2,
            "count": 0
           },
           {
            "bin_start": 0.2,
            "bin_end": 0.30000000000000004,
            "count": 0
           },
           {
            "bin_start": 0.30000000000000004,
            "bin_end": 0.4,
            "count": 0
           },
           {
            "bin_start": 0.4,
            "bin_end": 0.5,
            "count": 0
           },
           {
            "bin_start": 0.5,
            "bin_end": 0.6000000000000001,
            "count": 0
           },
           {
            "bin_start": 0.6000000000000001,
            "bin_end": 0.7000000000000001,
            "count": 0
           },
           {
            "bin_start": 0.7000000000000001,
            "bin_end": 0.8,
            "count": 0
           },
           {
            "bin_start": 0.8,
            "bin_end": 0.9,
            "count": 0
           },
           {
            "bin_start": 0.9,
            "bin_end": 1,
            "count": 40
           }
          ]
         }
        },
        {
         "name": "ApplicantIncome",
         "dtype": "int64",
         "stats": {
          "unique_count": 314,
          "nan_count": 0,
          "min": "0",
          "max": "72529",
          "histogram": [
           {
            "bin_start": 0,
            "bin_end": 7252.9,
            "count": 319
           },
           {
            "bin_start": 7252.9,
            "bin_end": 14505.8,
            "count": 39
           },
           {
            "bin_start": 14505.8,
            "bin_end": 21758.699999999997,
            "count": 5
           },
           {
            "bin_start": 21758.699999999997,
            "bin_end": 29011.6,
            "count": 1
           },
           {
            "bin_start": 29011.6,
            "bin_end": 36264.5,
            "count": 2
           },
           {
            "bin_start": 36264.5,
            "bin_end": 43517.399999999994,
            "count": 0
           },
           {
            "bin_start": 43517.399999999994,
            "bin_end": 50770.299999999996,
            "count": 0
           },
           {
            "bin_start": 50770.299999999996,
            "bin_end": 58023.2,
            "count": 0
           },
           {
            "bin_start": 58023.2,
            "bin_end": 65276.1,
            "count": 0
           },
           {
            "bin_start": 65276.1,
            "bin_end": 72529,
            "count": 1
           }
          ]
         }
        },
        {
         "name": "CoapplicantIncome",
         "dtype": "int64",
         "stats": {
          "unique_count": 194,
          "nan_count": 0,
          "min": "0",
          "max": "24000",
          "histogram": [
           {
            "bin_start": 0,
            "bin_end": 2400,
            "count": 271
           },
           {
            "bin_start": 2400,
            "bin_end": 4800,
            "count": 83
           },
           {
            "bin_start": 4800,
            "bin_end": 7200,
            "count": 6
           },
           {
            "bin_start": 7200,
            "bin_end": 9600,
            "count": 2
           },
           {
            "bin_start": 9600,
            "bin_end": 12000,
            "count": 1
           },
           {
            "bin_start": 12000,
            "bin_end": 14400,
            "count": 1
           },
           {
            "bin_start": 14400,
            "bin_end": 16800,
            "count": 2
           },
           {
            "bin_start": 16800,
            "bin_end": 19200,
            "count": 0
           },
           {
            "bin_start": 19200,
            "bin_end": 21600,
            "count": 0
           },
           {
            "bin_start": 21600,
            "bin_end": 24000,
            "count": 1
           }
          ]
         }
        },
        {
         "name": "LoanAmount",
         "dtype": "float64",
         "stats": {
          "unique_count": 144,
          "nan_count": 0,
          "min": "28.0",
          "max": "550.0",
          "histogram": [
           {
            "bin_start": 28,
            "bin_end": 80.2,
            "count": 46
           },
           {
            "bin_start": 80.2,
            "bin_end": 132.4,
            "count": 165
           },
           {
            "bin_start": 132.4,
            "bin_end": 184.60000000000002,
            "count": 100
           },
           {
            "bin_start": 184.60000000000002,
            "bin_end": 236.8,
            "count": 37
           },
           {
            "bin_start": 236.8,
            "bin_end": 289,
            "count": 8
           },
           {
            "bin_start": 289,
            "bin_end": 341.20000000000005,
            "count": 6
           },
           {
            "bin_start": 341.20000000000005,
            "bin_end": 393.40000000000003,
            "count": 2
           },
           {
            "bin_start": 393.40000000000003,
            "bin_end": 445.6,
            "count": 1
           },
           {
            "bin_start": 445.6,
            "bin_end": 497.8,
            "count": 1
           },
           {
            "bin_start": 497.8,
            "bin_end": 550,
            "count": 1
           }
          ]
         }
        },
        {
         "name": "Loan_Amount_Term",
         "dtype": "float64",
         "stats": {
          "unique_count": 12,
          "nan_count": 0,
          "min": "6.0",
          "max": "480.0",
          "histogram": [
           {
            "bin_start": 6,
            "bin_end": 53.4,
            "count": 3
           },
           {
            "bin_start": 53.4,
            "bin_end": 100.8,
            "count": 4
           },
           {
            "bin_start": 100.8,
            "bin_end": 148.2,
            "count": 1
           },
           {
            "bin_start": 148.2,
            "bin_end": 195.6,
            "count": 22
           },
           {
            "bin_start": 195.6,
            "bin_end": 243,
            "count": 4
           },
           {
            "bin_start": 243,
            "bin_end": 290.4,
            "count": 0
           },
           {
            "bin_start": 290.4,
            "bin_end": 337.8,
            "count": 7
           },
           {
            "bin_start": 337.8,
            "bin_end": 385.2,
            "count": 318
           },
           {
            "bin_start": 385.2,
            "bin_end": 432.59999999999997,
            "count": 0
           },
           {
            "bin_start": 432.59999999999997,
            "bin_end": 480,
            "count": 8
           }
          ]
         }
        },
        {
         "name": "Credit_History",
         "dtype": "float64",
         "stats": {
          "unique_count": 2,
          "nan_count": 0,
          "min": "0.0",
          "max": "1.0",
          "histogram": [
           {
            "bin_start": 0,
            "bin_end": 0.1,
            "count": 59
           },
           {
            "bin_start": 0.1,
            "bin_end": 0.2,
            "count": 0
           },
           {
            "bin_start": 0.2,
            "bin_end": 0.30000000000000004,
            "count": 0
           },
           {
            "bin_start": 0.30000000000000004,
            "bin_end": 0.4,
            "count": 0
           },
           {
            "bin_start": 0.4,
            "bin_end": 0.5,
            "count": 0
           },
           {
            "bin_start": 0.5,
            "bin_end": 0.6000000000000001,
            "count": 0
           },
           {
            "bin_start": 0.6000000000000001,
            "bin_end": 0.7000000000000001,
            "count": 0
           },
           {
            "bin_start": 0.7000000000000001,
            "bin_end": 0.8,
            "count": 0
           },
           {
            "bin_start": 0.8,
            "bin_end": 0.9,
            "count": 0
           },
           {
            "bin_start": 0.9,
            "bin_end": 1,
            "count": 308
           }
          ]
         }
        },
        {
         "name": "_deepnote_index_column",
         "dtype": "int64"
        }
       ],
       "rows": [
        {
         "Gender_Female": 0,
         "Gender_Male": 1,
         "Married_No": 0,
         "Married_Yes": 1,
         "Education_Graduate": 1,
         "Education_Not Graduate": 0,
         "Self_Employed_No": 1,
         "Self_Employed_Yes": 0,
         "Property_Area_Rural": 0,
         "Property_Area_Semiurban": 0,
         "Property_Area_Urban": 1,
         "Dependents_0": 1,
         "Dependents_1": 0,
         "Dependents_2": 0,
         "Dependents_3+": 0,
         "ApplicantIncome": 5720,
         "CoapplicantIncome": 0,
         "LoanAmount": 110,
         "Loan_Amount_Term": 360,
         "Credit_History": 1,
         "_deepnote_index_column": 0
        },
        {
         "Gender_Female": 0,
         "Gender_Male": 1,
         "Married_No": 0,
         "Married_Yes": 1,
         "Education_Graduate": 1,
         "Education_Not Graduate": 0,
         "Self_Employed_No": 1,
         "Self_Employed_Yes": 0,
         "Property_Area_Rural": 0,
         "Property_Area_Semiurban": 0,
         "Property_Area_Urban": 1,
         "Dependents_0": 0,
         "Dependents_1": 1,
         "Dependents_2": 0,
         "Dependents_3+": 0,
         "ApplicantIncome": 3076,
         "CoapplicantIncome": 1500,
         "LoanAmount": 126,
         "Loan_Amount_Term": 360,
         "Credit_History": 1,
         "_deepnote_index_column": 1
        },
        {
         "Gender_Female": 0,
         "Gender_Male": 1,
         "Married_No": 0,
         "Married_Yes": 1,
         "Education_Graduate": 1,
         "Education_Not Graduate": 0,
         "Self_Employed_No": 1,
         "Self_Employed_Yes": 0,
         "Property_Area_Rural": 0,
         "Property_Area_Semiurban": 0,
         "Property_Area_Urban": 1,
         "Dependents_0": 0,
         "Dependents_1": 0,
         "Dependents_2": 1,
         "Dependents_3+": 0,
         "ApplicantIncome": 5000,
         "CoapplicantIncome": 1800,
         "LoanAmount": 208,
         "Loan_Amount_Term": 360,
         "Credit_History": 1,
         "_deepnote_index_column": 2
        },
        {
         "Gender_Female": 0,
         "Gender_Male": 1,
         "Married_No": 0,
         "Married_Yes": 1,
         "Education_Graduate": 1,
         "Education_Not Graduate": 0,
         "Self_Employed_No": 1,
         "Self_Employed_Yes": 0,
         "Property_Area_Rural": 0,
         "Property_Area_Semiurban": 0,
         "Property_Area_Urban": 1,
         "Dependents_0": 0,
         "Dependents_1": 0,
         "Dependents_2": 1,
         "Dependents_3+": 0,
         "ApplicantIncome": 2340,
         "CoapplicantIncome": 2546,
         "LoanAmount": 100,
         "Loan_Amount_Term": 360,
         "Credit_History": 1,
         "_deepnote_index_column": 3
        },
        {
         "Gender_Female": 0,
         "Gender_Male": 1,
         "Married_No": 1,
         "Married_Yes": 0,
         "Education_Graduate": 0,
         "Education_Not Graduate": 1,
         "Self_Employed_No": 1,
         "Self_Employed_Yes": 0,
         "Property_Area_Rural": 0,
         "Property_Area_Semiurban": 0,
         "Property_Area_Urban": 1,
         "Dependents_0": 1,
         "Dependents_1": 0,
         "Dependents_2": 0,
         "Dependents_3+": 0,
         "ApplicantIncome": 3276,
         "CoapplicantIncome": 0,
         "LoanAmount": 78,
         "Loan_Amount_Term": 360,
         "Credit_History": 1,
         "_deepnote_index_column": 4
        },
        {
         "Gender_Female": 0,
         "Gender_Male": 1,
         "Married_No": 0,
         "Married_Yes": 1,
         "Education_Graduate": 0,
         "Education_Not Graduate": 1,
         "Self_Employed_No": 0,
         "Self_Employed_Yes": 1,
         "Property_Area_Rural": 0,
         "Property_Area_Semiurban": 0,
         "Property_Area_Urban": 1,
         "Dependents_0": 1,
         "Dependents_1": 0,
         "Dependents_2": 0,
         "Dependents_3+": 0,
         "ApplicantIncome": 2165,
         "CoapplicantIncome": 3422,
         "LoanAmount": 152,
         "Loan_Amount_Term": 360,
         "Credit_History": 1,
         "_deepnote_index_column": 5
        },
        {
         "Gender_Female": 1,
         "Gender_Male": 0,
         "Married_No": 1,
         "Married_Yes": 0,
         "Education_Graduate": 0,
         "Education_Not Graduate": 1,
         "Self_Employed_No": 1,
         "Self_Employed_Yes": 0,
         "Property_Area_Rural": 0,
         "Property_Area_Semiurban": 1,
         "Property_Area_Urban": 0,
         "Dependents_0": 0,
         "Dependents_1": 1,
         "Dependents_2": 0,
         "Dependents_3+": 0,
         "ApplicantIncome": 2226,
         "CoapplicantIncome": 0,
         "LoanAmount": 59,
         "Loan_Amount_Term": 360,
         "Credit_History": 1,
         "_deepnote_index_column": 6
        },
        {
         "Gender_Female": 0,
         "Gender_Male": 1,
         "Married_No": 0,
         "Married_Yes": 1,
         "Education_Graduate": 0,
         "Education_Not Graduate": 1,
         "Self_Employed_No": 1,
         "Self_Employed_Yes": 0,
         "Property_Area_Rural": 1,
         "Property_Area_Semiurban": 0,
         "Property_Area_Urban": 0,
         "Dependents_0": 0,
         "Dependents_1": 0,
         "Dependents_2": 1,
         "Dependents_3+": 0,
         "ApplicantIncome": 3881,
         "CoapplicantIncome": 0,
         "LoanAmount": 147,
         "Loan_Amount_Term": 360,
         "Credit_History": 0,
         "_deepnote_index_column": 7
        },
        {
         "Gender_Female": 0,
         "Gender_Male": 1,
         "Married_No": 0,
         "Married_Yes": 1,
         "Education_Graduate": 1,
         "Education_Not Graduate": 0,
         "Self_Employed_No": 1,
         "Self_Employed_Yes": 0,
         "Property_Area_Rural": 0,
         "Property_Area_Semiurban": 0,
         "Property_Area_Urban": 1,
         "Dependents_0": 0,
         "Dependents_1": 0,
         "Dependents_2": 1,
         "Dependents_3+": 0,
         "ApplicantIncome": 13633,
         "CoapplicantIncome": 0,
         "LoanAmount": 280,
         "Loan_Amount_Term": 240,
         "Credit_History": 1,
         "_deepnote_index_column": 8
        },
        {
         "Gender_Female": 0,
         "Gender_Male": 1,
         "Married_No": 1,
         "Married_Yes": 0,
         "Education_Graduate": 0,
         "Education_Not Graduate": 1,
         "Self_Employed_No": 1,
         "Self_Employed_Yes": 0,
         "Property_Area_Rural": 0,
         "Property_Area_Semiurban": 1,
         "Property_Area_Urban": 0,
         "Dependents_0": 1,
         "Dependents_1": 0,
         "Dependents_2": 0,
         "Dependents_3+": 0,
         "ApplicantIncome": 2400,
         "CoapplicantIncome": 2400,
         "LoanAmount": 123,
         "Loan_Amount_Term": 360,
         "Credit_History": 1,
         "_deepnote_index_column": 9
        }
       ]
      },
      "text/plain": "     Gender_Female  Gender_Male  Married_No  Married_Yes  Education_Graduate  \\\n0                0            1           0            1                   1   \n1                0            1           0            1                   1   \n2                0            1           0            1                   1   \n3                0            1           0            1                   1   \n4                0            1           1            0                   0   \n..             ...          ...         ...          ...                 ...   \n362              0            1           0            1                   0   \n363              0            1           0            1                   1   \n364              0            1           1            0                   1   \n365              0            1           0            1                   1   \n366              0            1           1            0                   1   \n\n     Education_Not Graduate  Self_Employed_No  Self_Employed_Yes  \\\n0                         0                 1                  0   \n1                         0                 1                  0   \n2                         0                 1                  0   \n3                         0                 1                  0   \n4                         1                 1                  0   \n..                      ...               ...                ...   \n362                       1                 0                  1   \n363                       0                 1                  0   \n364                       0                 1                  0   \n365                       0                 1                  0   \n366                       0                 0                  1   \n\n     Property_Area_Rural  Property_Area_Semiurban  Property_Area_Urban  \\\n0                      0                        0                    1   \n1                      0                        0                    1   \n2                      0                        0                    1   \n3                      0                        0                    1   \n4                      0                        0                    1   \n..                   ...                      ...                  ...   \n362                    0                        0                    1   \n363                    0                        0                    1   \n364                    0                        1                    0   \n365                    1                        0                    0   \n366                    1                        0                    0   \n\n     Dependents_0  Dependents_1  Dependents_2  Dependents_3+  ApplicantIncome  \\\n0               1             0             0              0             5720   \n1               0             1             0              0             3076   \n2               0             0             1              0             5000   \n3               0             0             1              0             2340   \n4               1             0             0              0             3276   \n..            ...           ...           ...            ...              ...   \n362             0             0             0              1             4009   \n363             1             0             0              0             4158   \n364             1             0             0              0             3250   \n365             1             0             0              0             5000   \n366             1             0             0              0             9200   \n\n     CoapplicantIncome  LoanAmount  Loan_Amount_Term  Credit_History  \n0                    0       110.0             360.0             1.0  \n1                 1500       126.0             360.0             1.0  \n2                 1800       208.0             360.0             1.0  \n3                 2546       100.0             360.0             1.0  \n4                    0        78.0             360.0             1.0  \n..                 ...         ...               ...             ...  \n362               1777       113.0             360.0             1.0  \n363                709       115.0             360.0             1.0  \n364               1993       126.0             360.0             1.0  \n365               2393       158.0             360.0             1.0  \n366                  0        98.0             180.0             1.0  \n\n[367 rows x 20 columns]",
      "text/html": "<div>\n<style scoped>\n    .dataframe tbody tr th:only-of-type {\n        vertical-align: middle;\n    }\n\n    .dataframe tbody tr th {\n        vertical-align: top;\n    }\n\n    .dataframe thead th {\n        text-align: right;\n    }\n</style>\n<table border=\"1\" class=\"dataframe\">\n  <thead>\n    <tr style=\"text-align: right;\">\n      <th></th>\n      <th>Gender_Female</th>\n      <th>Gender_Male</th>\n      <th>Married_No</th>\n      <th>Married_Yes</th>\n      <th>Education_Graduate</th>\n      <th>Education_Not Graduate</th>\n      <th>Self_Employed_No</th>\n      <th>Self_Employed_Yes</th>\n      <th>Property_Area_Rural</th>\n      <th>Property_Area_Semiurban</th>\n      <th>Property_Area_Urban</th>\n      <th>Dependents_0</th>\n      <th>Dependents_1</th>\n      <th>Dependents_2</th>\n      <th>Dependents_3+</th>\n      <th>ApplicantIncome</th>\n      <th>CoapplicantIncome</th>\n      <th>LoanAmount</th>\n      <th>Loan_Amount_Term</th>\n      <th>Credit_History</th>\n    </tr>\n  </thead>\n  <tbody>\n    <tr>\n      <th>0</th>\n      <td>0</td>\n      <td>1</td>\n      <td>0</td>\n      <td>1</td>\n      <td>1</td>\n      <td>0</td>\n      <td>1</td>\n      <td>0</td>\n      <td>0</td>\n      <td>0</td>\n      <td>1</td>\n      <td>1</td>\n      <td>0</td>\n      <td>0</td>\n      <td>0</td>\n      <td>5720</td>\n      <td>0</td>\n      <td>110.0</td>\n      <td>360.0</td>\n      <td>1.0</td>\n    </tr>\n    <tr>\n      <th>1</th>\n      <td>0</td>\n      <td>1</td>\n      <td>0</td>\n      <td>1</td>\n      <td>1</td>\n      <td>0</td>\n      <td>1</td>\n      <td>0</td>\n      <td>0</td>\n      <td>0</td>\n      <td>1</td>\n      <td>0</td>\n      <td>1</td>\n      <td>0</td>\n      <td>0</td>\n      <td>3076</td>\n      <td>1500</td>\n      <td>126.0</td>\n      <td>360.0</td>\n      <td>1.0</td>\n    </tr>\n    <tr>\n      <th>2</th>\n      <td>0</td>\n      <td>1</td>\n      <td>0</td>\n      <td>1</td>\n      <td>1</td>\n      <td>0</td>\n      <td>1</td>\n      <td>0</td>\n      <td>0</td>\n      <td>0</td>\n      <td>1</td>\n      <td>0</td>\n      <td>0</td>\n      <td>1</td>\n      <td>0</td>\n      <td>5000</td>\n      <td>1800</td>\n      <td>208.0</td>\n      <td>360.0</td>\n      <td>1.0</td>\n    </tr>\n    <tr>\n      <th>3</th>\n      <td>0</td>\n      <td>1</td>\n      <td>0</td>\n      <td>1</td>\n      <td>1</td>\n      <td>0</td>\n      <td>1</td>\n      <td>0</td>\n      <td>0</td>\n      <td>0</td>\n      <td>1</td>\n      <td>0</td>\n      <td>0</td>\n      <td>1</td>\n      <td>0</td>\n      <td>2340</td>\n      <td>2546</td>\n      <td>100.0</td>\n      <td>360.0</td>\n      <td>1.0</td>\n    </tr>\n    <tr>\n      <th>4</th>\n      <td>0</td>\n      <td>1</td>\n      <td>1</td>\n      <td>0</td>\n      <td>0</td>\n      <td>1</td>\n      <td>1</td>\n      <td>0</td>\n      <td>0</td>\n      <td>0</td>\n      <td>1</td>\n      <td>1</td>\n      <td>0</td>\n      <td>0</td>\n      <td>0</td>\n      <td>3276</td>\n      <td>0</td>\n      <td>78.0</td>\n      <td>360.0</td>\n      <td>1.0</td>\n    </tr>\n    <tr>\n      <th>...</th>\n      <td>...</td>\n      <td>...</td>\n      <td>...</td>\n      <td>...</td>\n      <td>...</td>\n      <td>...</td>\n      <td>...</td>\n      <td>...</td>\n      <td>...</td>\n      <td>...</td>\n      <td>...</td>\n      <td>...</td>\n      <td>...</td>\n      <td>...</td>\n      <td>...</td>\n      <td>...</td>\n      <td>...</td>\n      <td>...</td>\n      <td>...</td>\n      <td>...</td>\n    </tr>\n    <tr>\n      <th>362</th>\n      <td>0</td>\n      <td>1</td>\n      <td>0</td>\n      <td>1</td>\n      <td>0</td>\n      <td>1</td>\n      <td>0</td>\n      <td>1</td>\n      <td>0</td>\n      <td>0</td>\n      <td>1</td>\n      <td>0</td>\n      <td>0</td>\n      <td>0</td>\n      <td>1</td>\n      <td>4009</td>\n      <td>1777</td>\n      <td>113.0</td>\n      <td>360.0</td>\n      <td>1.0</td>\n    </tr>\n    <tr>\n      <th>363</th>\n      <td>0</td>\n      <td>1</td>\n      <td>0</td>\n      <td>1</td>\n      <td>1</td>\n      <td>0</td>\n      <td>1</td>\n      <td>0</td>\n      <td>0</td>\n      <td>0</td>\n      <td>1</td>\n      <td>1</td>\n      <td>0</td>\n      <td>0</td>\n      <td>0</td>\n      <td>4158</td>\n      <td>709</td>\n      <td>115.0</td>\n      <td>360.0</td>\n      <td>1.0</td>\n    </tr>\n    <tr>\n      <th>364</th>\n      <td>0</td>\n      <td>1</td>\n      <td>1</td>\n      <td>0</td>\n      <td>1</td>\n      <td>0</td>\n      <td>1</td>\n      <td>0</td>\n      <td>0</td>\n      <td>1</td>\n      <td>0</td>\n      <td>1</td>\n      <td>0</td>\n      <td>0</td>\n      <td>0</td>\n      <td>3250</td>\n      <td>1993</td>\n      <td>126.0</td>\n      <td>360.0</td>\n      <td>1.0</td>\n    </tr>\n    <tr>\n      <th>365</th>\n      <td>0</td>\n      <td>1</td>\n      <td>0</td>\n      <td>1</td>\n      <td>1</td>\n      <td>0</td>\n      <td>1</td>\n      <td>0</td>\n      <td>1</td>\n      <td>0</td>\n      <td>0</td>\n      <td>1</td>\n      <td>0</td>\n      <td>0</td>\n      <td>0</td>\n      <td>5000</td>\n      <td>2393</td>\n      <td>158.0</td>\n      <td>360.0</td>\n      <td>1.0</td>\n    </tr>\n    <tr>\n      <th>366</th>\n      <td>0</td>\n      <td>1</td>\n      <td>1</td>\n      <td>0</td>\n      <td>1</td>\n      <td>0</td>\n      <td>0</td>\n      <td>1</td>\n      <td>1</td>\n      <td>0</td>\n      <td>0</td>\n      <td>1</td>\n      <td>0</td>\n      <td>0</td>\n      <td>0</td>\n      <td>9200</td>\n      <td>0</td>\n      <td>98.0</td>\n      <td>180.0</td>\n      <td>1.0</td>\n    </tr>\n  </tbody>\n</table>\n<p>367 rows × 20 columns</p>\n</div>"
     },
     "metadata": {}
    }
   ],
   "execution_count": null
  },
  {
   "cell_type": "markdown",
   "source": "# Machine Learning Model",
   "metadata": {
    "is_collapsed": false,
    "cell_id": "93355c4bf1de4124a57862d143dabd9f",
    "tags": [],
    "formattedRanges": [],
    "deepnote_cell_type": "text-cell-h1"
   }
  },
  {
   "cell_type": "code",
   "source": "from sklearn.model_selection import train_test_split\nx_train, x_cv, y_train, y_cv = train_test_split(X,y, test_size=0.3)",
   "metadata": {
    "cell_id": "e3146feba791467d97b2ee2d15242135",
    "tags": [],
    "deepnote_to_be_reexecuted": false,
    "source_hash": "6e53dd14",
    "execution_start": 1659448535396,
    "execution_millis": 408,
    "deepnote_cell_type": "code",
    "deepnote_cell_height": 94
   },
   "outputs": [],
   "execution_count": null
  },
  {
   "cell_type": "markdown",
   "source": "### Logistic Regression",
   "metadata": {
    "cell_id": "d3dfab1d9b874b2da985de3163abdbf8",
    "tags": [],
    "deepnote_cell_type": "markdown",
    "deepnote_cell_height": 62
   }
  },
  {
   "cell_type": "code",
   "source": "from sklearn.metrics import accuracy_score\nfrom sklearn.metrics import f1_score\nfrom sklearn.linear_model import LogisticRegression\n\n\nmodel = LogisticRegression()\nmodel.fit(x_train, y_train)\n\nLogisticRegression()",
   "metadata": {
    "cell_id": "a35b613a5b5749f6a08041678fe7bcd9",
    "tags": [],
    "deepnote_to_be_reexecuted": false,
    "source_hash": "d223d1cf",
    "execution_start": 1659448535812,
    "execution_millis": 243,
    "deepnote_cell_type": "code",
    "deepnote_cell_height": 296,
    "deepnote_output_heights": [
     60
    ]
   },
   "outputs": [
    {
     "output_type": "execute_result",
     "execution_count": 31,
     "data": {
      "text/plain": "LogisticRegression()",
      "text/html": "<style>#sk-container-id-1 {color: black;background-color: white;}#sk-container-id-1 pre{padding: 0;}#sk-container-id-1 div.sk-toggleable {background-color: white;}#sk-container-id-1 label.sk-toggleable__label {cursor: pointer;display: block;width: 100%;margin-bottom: 0;padding: 0.3em;box-sizing: border-box;text-align: center;}#sk-container-id-1 label.sk-toggleable__label-arrow:before {content: \"▸\";float: left;margin-right: 0.25em;color: #696969;}#sk-container-id-1 label.sk-toggleable__label-arrow:hover:before {color: black;}#sk-container-id-1 div.sk-estimator:hover label.sk-toggleable__label-arrow:before {color: black;}#sk-container-id-1 div.sk-toggleable__content {max-height: 0;max-width: 0;overflow: hidden;text-align: left;background-color: #f0f8ff;}#sk-container-id-1 div.sk-toggleable__content pre {margin: 0.2em;color: black;border-radius: 0.25em;background-color: #f0f8ff;}#sk-container-id-1 input.sk-toggleable__control:checked~div.sk-toggleable__content {max-height: 200px;max-width: 100%;overflow: auto;}#sk-container-id-1 input.sk-toggleable__control:checked~label.sk-toggleable__label-arrow:before {content: \"▾\";}#sk-container-id-1 div.sk-estimator input.sk-toggleable__control:checked~label.sk-toggleable__label {background-color: #d4ebff;}#sk-container-id-1 div.sk-label input.sk-toggleable__control:checked~label.sk-toggleable__label {background-color: #d4ebff;}#sk-container-id-1 input.sk-hidden--visually {border: 0;clip: rect(1px 1px 1px 1px);clip: rect(1px, 1px, 1px, 1px);height: 1px;margin: -1px;overflow: hidden;padding: 0;position: absolute;width: 1px;}#sk-container-id-1 div.sk-estimator {font-family: monospace;background-color: #f0f8ff;border: 1px dotted black;border-radius: 0.25em;box-sizing: border-box;margin-bottom: 0.5em;}#sk-container-id-1 div.sk-estimator:hover {background-color: #d4ebff;}#sk-container-id-1 div.sk-parallel-item::after {content: \"\";width: 100%;border-bottom: 1px solid gray;flex-grow: 1;}#sk-container-id-1 div.sk-label:hover label.sk-toggleable__label {background-color: #d4ebff;}#sk-container-id-1 div.sk-serial::before {content: \"\";position: absolute;border-left: 1px solid gray;box-sizing: border-box;top: 0;bottom: 0;left: 50%;z-index: 0;}#sk-container-id-1 div.sk-serial {display: flex;flex-direction: column;align-items: center;background-color: white;padding-right: 0.2em;padding-left: 0.2em;position: relative;}#sk-container-id-1 div.sk-item {position: relative;z-index: 1;}#sk-container-id-1 div.sk-parallel {display: flex;align-items: stretch;justify-content: center;background-color: white;position: relative;}#sk-container-id-1 div.sk-item::before, #sk-container-id-1 div.sk-parallel-item::before {content: \"\";position: absolute;border-left: 1px solid gray;box-sizing: border-box;top: 0;bottom: 0;left: 50%;z-index: -1;}#sk-container-id-1 div.sk-parallel-item {display: flex;flex-direction: column;z-index: 1;position: relative;background-color: white;}#sk-container-id-1 div.sk-parallel-item:first-child::after {align-self: flex-end;width: 50%;}#sk-container-id-1 div.sk-parallel-item:last-child::after {align-self: flex-start;width: 50%;}#sk-container-id-1 div.sk-parallel-item:only-child::after {width: 0;}#sk-container-id-1 div.sk-dashed-wrapped {border: 1px dashed gray;margin: 0 0.4em 0.5em 0.4em;box-sizing: border-box;padding-bottom: 0.4em;background-color: white;}#sk-container-id-1 div.sk-label label {font-family: monospace;font-weight: bold;display: inline-block;line-height: 1.2em;}#sk-container-id-1 div.sk-label-container {text-align: center;}#sk-container-id-1 div.sk-container {/* jupyter's `normalize.less` sets `[hidden] { display: none; }` but bootstrap.min.css set `[hidden] { display: none !important; }` so we also need the `!important` here to be able to override the default hidden behavior on the sphinx rendered scikit-learn.org. See: https://github.com/scikit-learn/scikit-learn/issues/21755 */display: inline-block !important;position: relative;}#sk-container-id-1 div.sk-text-repr-fallback {display: none;}</style><div id=\"sk-container-id-1\" class=\"sk-top-container\"><div class=\"sk-text-repr-fallback\"><pre>LogisticRegression()</pre><b>In a Jupyter environment, please rerun this cell to show the HTML representation or trust the notebook. <br />On GitHub, the HTML representation is unable to render, please try loading this page with nbviewer.org.</b></div><div class=\"sk-container\" hidden><div class=\"sk-item\"><div class=\"sk-estimator sk-toggleable\"><input class=\"sk-toggleable__control sk-hidden--visually\" id=\"sk-estimator-id-1\" type=\"checkbox\" checked><label for=\"sk-estimator-id-1\" class=\"sk-toggleable__label sk-toggleable__label-arrow\">LogisticRegression</label><div class=\"sk-toggleable__content\"><pre>LogisticRegression()</pre></div></div></div></div></div>"
     },
     "metadata": {}
    }
   ],
   "execution_count": null
  },
  {
   "cell_type": "code",
   "source": "pred_cv = model.predict(x_cv)\nprint(f\"Accuracy Score : {accuracy_score(y_cv,pred_cv)}\")\nprint(f\"F1 Score: {f1_score(y_cv,pred_cv)}\")",
   "metadata": {
    "cell_id": "e21f302f4f1a4286b4d83d1c1d171ca4",
    "tags": [],
    "deepnote_to_be_reexecuted": false,
    "source_hash": "74535200",
    "execution_start": 1659448536068,
    "execution_millis": 39,
    "deepnote_cell_type": "code",
    "deepnote_cell_height": 163,
    "deepnote_output_heights": [
     21,
     21
    ]
   },
   "outputs": [
    {
     "name": "stdout",
     "text": "Accuracy Score : 0.7675675675675676\nF1 Score: 0.8401486988847584\n",
     "output_type": "stream"
    }
   ],
   "execution_count": null
  },
  {
   "cell_type": "code",
   "source": "from sklearn.metrics import confusion_matrix\nconfusion_matrix_lr = confusion_matrix(y_cv, pred_cv)\n",
   "metadata": {
    "cell_id": "3b68615b454f412ca7528dba1e44d17d",
    "tags": [],
    "deepnote_to_be_reexecuted": false,
    "source_hash": "633fac80",
    "execution_start": 1659448576308,
    "execution_millis": 15,
    "deepnote_cell_type": "code",
    "deepnote_cell_height": 112
   },
   "outputs": [],
   "execution_count": null
  },
  {
   "cell_type": "code",
   "source": "ax= plt.subplot()\nsns.heatmap(confusion_matrix_lr, annot=True, fmt='g', ax=ax);  #annot=True to annotate cells, ftm='g' to disable scientific notation\n\n# labels, title and ticks\nax.set_xlabel('Predicted labels');ax.set_ylabel('True labels'); \nax.set_title('Confusion Matrix'); \nax.xaxis.set_ticklabels(['Y', 'N']); ax.yaxis.set_ticklabels(['Y', 'N']);",
   "metadata": {
    "cell_id": "2dbeac0cb42440ef9a7857217e6fc25f",
    "tags": [],
    "deepnote_to_be_reexecuted": false,
    "source_hash": "448049fd",
    "execution_start": 1659448578668,
    "execution_millis": 379,
    "deepnote_cell_type": "code",
    "deepnote_cell_height": 485,
    "deepnote_output_heights": [
     280
    ]
   },
   "outputs": [
    {
     "data": {
      "text/plain": "<Figure size 432x288 with 2 Axes>",
      "image/png": "[encoded data removed]"
     },
     "metadata": {
      "needs_background": "light",
      "image/png": {
       "width": 366,
       "height": 278
      }
     },
     "output_type": "display_data"
    }
   ],
   "execution_count": null
  },
  {
   "cell_type": "code",
   "source": "pred_test = model.predict(data_test)\ndata_test_logistic_regression = data_test.copy()\ndata_test_logistic_regression['Loan_Status'] = pred_test\ndata_test_logistic_regression['Loan_Status'] = data_test_logistic_regression['Loan_Status'].replace({0: 'N', 1 : 'Y'})\ndata_test_logistic_regression.head() ",
   "metadata": {
    "cell_id": "da0d436d8286442291b03d625573aa58",
    "tags": [],
    "deepnote_to_be_reexecuted": false,
    "source_hash": "fbb40987",
    "execution_start": 1659448583716,
    "execution_millis": 157,
    "deepnote_cell_type": "code",
    "deepnote_cell_height": 482
   },
   "outputs": [
    {
     "output_type": "execute_result",
     "execution_count": 44,
     "data": {
      "application/vnd.deepnote.dataframe.v3+json": {
       "column_count": 21,
       "row_count": 5,
       "columns": [
        {
         "name": "Gender_Female",
         "dtype": "uint8",
         "stats": {
          "unique_count": 1,
          "nan_count": 0,
          "min": "0",
          "max": "0",
          "histogram": [
           {
            "bin_start": -0.5,
            "bin_end": -0.4,
            "count": 0
           },
           {
            "bin_start": -0.4,
            "bin_end": -0.3,
            "count": 0
           },
           {
            "bin_start": -0.3,
            "bin_end": -0.19999999999999996,
            "count": 0
           },
           {
            "bin_start": -0.19999999999999996,
            "bin_end": -0.09999999999999998,
            "count": 0
           },
           {
            "bin_start": -0.09999999999999998,
            "bin_end": 0,
            "count": 0
           },
           {
            "bin_start": 0,
            "bin_end": 0.10000000000000009,
            "count": 5
           },
           {
            "bin_start": 0.10000000000000009,
            "bin_end": 0.20000000000000007,
            "count": 0
           },
           {
            "bin_start": 0.20000000000000007,
            "bin_end": 0.30000000000000004,
            "count": 0
           },
           {
            "bin_start": 0.30000000000000004,
            "bin_end": 0.4,
            "count": 0
           },
           {
            "bin_start": 0.4,
            "bin_end": 0.5,
            "count": 0
           }
          ]
         }
        },
        {
         "name": "Gender_Male",
         "dtype": "uint8",
         "stats": {
          "unique_count": 1,
          "nan_count": 0,
          "min": "1",
          "max": "1",
          "histogram": [
           {
            "bin_start": 0.5,
            "bin_end": 0.6,
            "count": 0
           },
           {
            "bin_start": 0.6,
            "bin_end": 0.7,
            "count": 0
           },
           {
            "bin_start": 0.7,
            "bin_end": 0.8,
            "count": 0
           },
           {
            "bin_start": 0.8,
            "bin_end": 0.9,
            "count": 0
           },
           {
            "bin_start": 0.9,
            "bin_end": 1,
            "count": 0
           },
           {
            "bin_start": 1,
            "bin_end": 1.1,
            "count": 5
           },
           {
            "bin_start": 1.1,
            "bin_end": 1.2000000000000002,
            "count": 0
           },
           {
            "bin_start": 1.2000000000000002,
            "bin_end": 1.3,
            "count": 0
           },
           {
            "bin_start": 1.3,
            "bin_end": 1.4,
            "count": 0
           },
           {
            "bin_start": 1.4,
            "bin_end": 1.5,
            "count": 0
           }
          ]
         }
        },
        {
         "name": "Married_No",
         "dtype": "uint8",
         "stats": {
          "unique_count": 2,
          "nan_count": 0,
          "min": "0",
          "max": "1",
          "histogram": [
           {
            "bin_start": 0,
            "bin_end": 0.1,
            "count": 4
           },
           {
            "bin_start": 0.1,
            "bin_end": 0.2,
            "count": 0
           },
           {
            "bin_start": 0.2,
            "bin_end": 0.30000000000000004,
            "count": 0
           },
           {
            "bin_start": 0.30000000000000004,
            "bin_end": 0.4,
            "count": 0
           },
           {
            "bin_start": 0.4,
            "bin_end": 0.5,
            "count": 0
           },
           {
            "bin_start": 0.5,
            "bin_end": 0.6000000000000001,
            "count": 0
           },
           {
            "bin_start": 0.6000000000000001,
            "bin_end": 0.7000000000000001,
            "count": 0
           },
           {
            "bin_start": 0.7000000000000001,
            "bin_end": 0.8,
            "count": 0
           },
           {
            "bin_start": 0.8,
            "bin_end": 0.9,
            "count": 0
           },
           {
            "bin_start": 0.9,
            "bin_end": 1,
            "count": 1
           }
          ]
         }
        },
        {
         "name": "Married_Yes",
         "dtype": "uint8",
         "stats": {
          "unique_count": 2,
          "nan_count": 0,
          "min": "0",
          "max": "1",
          "histogram": [
           {
            "bin_start": 0,
            "bin_end": 0.1,
            "count": 1
           },
           {
            "bin_start": 0.1,
            "bin_end": 0.2,
            "count": 0
           },
           {
            "bin_start": 0.2,
            "bin_end": 0.30000000000000004,
            "count": 0
           },
           {
            "bin_start": 0.30000000000000004,
            "bin_end": 0.4,
            "count": 0
           },
           {
            "bin_start": 0.4,
            "bin_end": 0.5,
            "count": 0
           },
           {
            "bin_start": 0.5,
            "bin_end": 0.6000000000000001,
            "count": 0
           },
           {
            "bin_start": 0.6000000000000001,
            "bin_end": 0.7000000000000001,
            "count": 0
           },
           {
            "bin_start": 0.7000000000000001,
            "bin_end": 0.8,
            "count": 0
           },
           {
            "bin_start": 0.8,
            "bin_end": 0.9,
            "count": 0
           },
           {
            "bin_start": 0.9,
            "bin_end": 1,
            "count": 4
           }
          ]
         }
        },
        {
         "name": "Education_Graduate",
         "dtype": "uint8",
         "stats": {
          "unique_count": 2,
          "nan_count": 0,
          "min": "0",
          "max": "1",
          "histogram": [
           {
            "bin_start": 0,
            "bin_end": 0.1,
            "count": 1
           },
           {
            "bin_start": 0.1,
            "bin_end": 0.2,
            "count": 0
           },
           {
            "bin_start": 0.2,
            "bin_end": 0.30000000000000004,
            "count": 0
           },
           {
            "bin_start": 0.30000000000000004,
            "bin_end": 0.4,
            "count": 0
           },
           {
            "bin_start": 0.4,
            "bin_end": 0.5,
            "count": 0
           },
           {
            "bin_start": 0.5,
            "bin_end": 0.6000000000000001,
            "count": 0
           },
           {
            "bin_start": 0.6000000000000001,
            "bin_end": 0.7000000000000001,
            "count": 0
           },
           {
            "bin_start": 0.7000000000000001,
            "bin_end": 0.8,
            "count": 0
           },
           {
            "bin_start": 0.8,
            "bin_end": 0.9,
            "count": 0
           },
           {
            "bin_start": 0.9,
            "bin_end": 1,
            "count": 4
           }
          ]
         }
        },
        {
         "name": "Education_Not Graduate",
         "dtype": "uint8",
         "stats": {
          "unique_count": 2,
          "nan_count": 0,
          "min": "0",
          "max": "1",
          "histogram": [
           {
            "bin_start": 0,
            "bin_end": 0.1,
            "count": 4
           },
           {
            "bin_start": 0.1,
            "bin_end": 0.2,
            "count": 0
           },
           {
            "bin_start": 0.2,
            "bin_end": 0.30000000000000004,
            "count": 0
           },
           {
            "bin_start": 0.30000000000000004,
            "bin_end": 0.4,
            "count": 0
           },
           {
            "bin_start": 0.4,
            "bin_end": 0.5,
            "count": 0
           },
           {
            "bin_start": 0.5,
            "bin_end": 0.6000000000000001,
            "count": 0
           },
           {
            "bin_start": 0.6000000000000001,
            "bin_end": 0.7000000000000001,
            "count": 0
           },
           {
            "bin_start": 0.7000000000000001,
            "bin_end": 0.8,
            "count": 0
           },
           {
            "bin_start": 0.8,
            "bin_end": 0.9,
            "count": 0
           },
           {
            "bin_start": 0.9,
            "bin_end": 1,
            "count": 1
           }
          ]
         }
        },
        {
         "name": "Self_Employed_No",
         "dtype": "uint8",
         "stats": {
          "unique_count": 1,
          "nan_count": 0,
          "min": "1",
          "max": "1",
          "histogram": [
           {
            "bin_start": 0.5,
            "bin_end": 0.6,
            "count": 0
           },
           {
            "bin_start": 0.6,
            "bin_end": 0.7,
            "count": 0
           },
           {
            "bin_start": 0.7,
            "bin_end": 0.8,
            "count": 0
           },
           {
            "bin_start": 0.8,
            "bin_end": 0.9,
            "count": 0
           },
           {
            "bin_start": 0.9,
            "bin_end": 1,
            "count": 0
           },
           {
            "bin_start": 1,
            "bin_end": 1.1,
            "count": 5
           },
           {
            "bin_start": 1.1,
            "bin_end": 1.2000000000000002,
            "count": 0
           },
           {
            "bin_start": 1.2000000000000002,
            "bin_end": 1.3,
            "count": 0
           },
           {
            "bin_start": 1.3,
            "bin_end": 1.4,
            "count": 0
           },
           {
            "bin_start": 1.4,
            "bin_end": 1.5,
            "count": 0
           }
          ]
         }
        },
        {
         "name": "Self_Employed_Yes",
         "dtype": "uint8",
         "stats": {
          "unique_count": 1,
          "nan_count": 0,
          "min": "0",
          "max": "0",
          "histogram": [
           {
            "bin_start": -0.5,
            "bin_end": -0.4,
            "count": 0
           },
           {
            "bin_start": -0.4,
            "bin_end": -0.3,
            "count": 0
           },
           {
            "bin_start": -0.3,
            "bin_end": -0.19999999999999996,
            "count": 0
           },
           {
            "bin_start": -0.19999999999999996,
            "bin_end": -0.09999999999999998,
            "count": 0
           },
           {
            "bin_start": -0.09999999999999998,
            "bin_end": 0,
            "count": 0
           },
           {
            "bin_start": 0,
            "bin_end": 0.10000000000000009,
            "count": 5
           },
           {
            "bin_start": 0.10000000000000009,
            "bin_end": 0.20000000000000007,
            "count": 0
           },
           {
            "bin_start": 0.20000000000000007,
            "bin_end": 0.30000000000000004,
            "count": 0
           },
           {
            "bin_start": 0.30000000000000004,
            "bin_end": 0.4,
            "count": 0
           },
           {
            "bin_start": 0.4,
            "bin_end": 0.5,
            "count": 0
           }
          ]
         }
        },
        {
         "name": "Property_Area_Rural",
         "dtype": "uint8",
         "stats": {
          "unique_count": 1,
          "nan_count": 0,
          "min": "0",
          "max": "0",
          "histogram": [
           {
            "bin_start": -0.5,
            "bin_end": -0.4,
            "count": 0
           },
           {
            "bin_start": -0.4,
            "bin_end": -0.3,
            "count": 0
           },
           {
            "bin_start": -0.3,
            "bin_end": -0.19999999999999996,
            "count": 0
           },
           {
            "bin_start": -0.19999999999999996,
            "bin_end": -0.09999999999999998,
            "count": 0
           },
           {
            "bin_start": -0.09999999999999998,
            "bin_end": 0,
            "count": 0
           },
           {
            "bin_start": 0,
            "bin_end": 0.10000000000000009,
            "count": 5
           },
           {
            "bin_start": 0.10000000000000009,
            "bin_end": 0.20000000000000007,
            "count": 0
           },
           {
            "bin_start": 0.20000000000000007,
            "bin_end": 0.30000000000000004,
            "count": 0
           },
           {
            "bin_start": 0.30000000000000004,
            "bin_end": 0.4,
            "count": 0
           },
           {
            "bin_start": 0.4,
            "bin_end": 0.5,
            "count": 0
           }
          ]
         }
        },
        {
         "name": "Property_Area_Semiurban",
         "dtype": "uint8",
         "stats": {
          "unique_count": 1,
          "nan_count": 0,
          "min": "0",
          "max": "0",
          "histogram": [
           {
            "bin_start": -0.5,
            "bin_end": -0.4,
            "count": 0
           },
           {
            "bin_start": -0.4,
            "bin_end": -0.3,
            "count": 0
           },
           {
            "bin_start": -0.3,
            "bin_end": -0.19999999999999996,
            "count": 0
           },
           {
            "bin_start": -0.19999999999999996,
            "bin_end": -0.09999999999999998,
            "count": 0
           },
           {
            "bin_start": -0.09999999999999998,
            "bin_end": 0,
            "count": 0
           },
           {
            "bin_start": 0,
            "bin_end": 0.10000000000000009,
            "count": 5
           },
           {
            "bin_start": 0.10000000000000009,
            "bin_end": 0.20000000000000007,
            "count": 0
           },
           {
            "bin_start": 0.20000000000000007,
            "bin_end": 0.30000000000000004,
            "count": 0
           },
           {
            "bin_start": 0.30000000000000004,
            "bin_end": 0.4,
            "count": 0
           },
           {
            "bin_start": 0.4,
            "bin_end": 0.5,
            "count": 0
           }
          ]
         }
        },
        {
         "name": "Property_Area_Urban",
         "dtype": "uint8",
         "stats": {
          "unique_count": 1,
          "nan_count": 0,
          "min": "1",
          "max": "1",
          "histogram": [
           {
            "bin_start": 0.5,
            "bin_end": 0.6,
            "count": 0
           },
           {
            "bin_start": 0.6,
            "bin_end": 0.7,
            "count": 0
           },
           {
            "bin_start": 0.7,
            "bin_end": 0.8,
            "count": 0
           },
           {
            "bin_start": 0.8,
            "bin_end": 0.9,
            "count": 0
           },
           {
            "bin_start": 0.9,
            "bin_end": 1,
            "count": 0
           },
           {
            "bin_start": 1,
            "bin_end": 1.1,
            "count": 5
           },
           {
            "bin_start": 1.1,
            "bin_end": 1.2000000000000002,
            "count": 0
           },
           {
            "bin_start": 1.2000000000000002,
            "bin_end": 1.3,
            "count": 0
           },
           {
            "bin_start": 1.3,
            "bin_end": 1.4,
            "count": 0
           },
           {
            "bin_start": 1.4,
            "bin_end": 1.5,
            "count": 0
           }
          ]
         }
        },
        {
         "name": "Dependents_0",
         "dtype": "uint8",
         "stats": {
          "unique_count": 2,
          "nan_count": 0,
          "min": "0",
          "max": "1",
          "histogram": [
           {
            "bin_start": 0,
            "bin_end": 0.1,
            "count": 3
           },
           {
            "bin_start": 0.1,
            "bin_end": 0.2,
            "count": 0
           },
           {
            "bin_start": 0.2,
            "bin_end": 0.30000000000000004,
            "count": 0
           },
           {
            "bin_start": 0.30000000000000004,
            "bin_end": 0.4,
            "count": 0
           },
           {
            "bin_start": 0.4,
            "bin_end": 0.5,
            "count": 0
           },
           {
            "bin_start": 0.5,
            "bin_end": 0.6000000000000001,
            "count": 0
           },
           {
            "bin_start": 0.6000000000000001,
            "bin_end": 0.7000000000000001,
            "count": 0
           },
           {
            "bin_start": 0.7000000000000001,
            "bin_end": 0.8,
            "count": 0
           },
           {
            "bin_start": 0.8,
            "bin_end": 0.9,
            "count": 0
           },
           {
            "bin_start": 0.9,
            "bin_end": 1,
            "count": 2
           }
          ]
         }
        },
        {
         "name": "Dependents_1",
         "dtype": "uint8",
         "stats": {
          "unique_count": 2,
          "nan_count": 0,
          "min": "0",
          "max": "1",
          "histogram": [
           {
            "bin_start": 0,
            "bin_end": 0.1,
            "count": 4
           },
           {
            "bin_start": 0.1,
            "bin_end": 0.2,
            "count": 0
           },
           {
            "bin_start": 0.2,
            "bin_end": 0.30000000000000004,
            "count": 0
           },
           {
            "bin_start": 0.30000000000000004,
            "bin_end": 0.4,
            "count": 0
           },
           {
            "bin_start": 0.4,
            "bin_end": 0.5,
            "count": 0
           },
           {
            "bin_start": 0.5,
            "bin_end": 0.6000000000000001,
            "count": 0
           },
           {
            "bin_start": 0.6000000000000001,
            "bin_end": 0.7000000000000001,
            "count": 0
           },
           {
            "bin_start": 0.7000000000000001,
            "bin_end": 0.8,
            "count": 0
           },
           {
            "bin_start": 0.8,
            "bin_end": 0.9,
            "count": 0
           },
           {
            "bin_start": 0.9,
            "bin_end": 1,
            "count": 1
           }
          ]
         }
        },
        {
         "name": "Dependents_2",
         "dtype": "uint8",
         "stats": {
          "unique_count": 2,
          "nan_count": 0,
          "min": "0",
          "max": "1",
          "histogram": [
           {
            "bin_start": 0,
            "bin_end": 0.1,
            "count": 3
           },
           {
            "bin_start": 0.1,
            "bin_end": 0.2,
            "count": 0
           },
           {
            "bin_start": 0.2,
            "bin_end": 0.30000000000000004,
            "count": 0
           },
           {
            "bin_start": 0.30000000000000004,
            "bin_end": 0.4,
            "count": 0
           },
           {
            "bin_start": 0.4,
            "bin_end": 0.5,
            "count": 0
           },
           {
            "bin_start": 0.5,
            "bin_end": 0.6000000000000001,
            "count": 0
           },
           {
            "bin_start": 0.6000000000000001,
            "bin_end": 0.7000000000000001,
            "count": 0
           },
           {
            "bin_start": 0.7000000000000001,
            "bin_end": 0.8,
            "count": 0
           },
           {
            "bin_start": 0.8,
            "bin_end": 0.9,
            "count": 0
           },
           {
            "bin_start": 0.9,
            "bin_end": 1,
            "count": 2
           }
          ]
         }
        },
        {
         "name": "Dependents_3+",
         "dtype": "uint8",
         "stats": {
          "unique_count": 1,
          "nan_count": 0,
          "min": "0",
          "max": "0",
          "histogram": [
           {
            "bin_start": -0.5,
            "bin_end": -0.4,
            "count": 0
           },
           {
            "bin_start": -0.4,
            "bin_end": -0.3,
            "count": 0
           },
           {
            "bin_start": -0.3,
            "bin_end": -0.19999999999999996,
            "count": 0
           },
           {
            "bin_start": -0.19999999999999996,
            "bin_end": -0.09999999999999998,
            "count": 0
           },
           {
            "bin_start": -0.09999999999999998,
            "bin_end": 0,
            "count": 0
           },
           {
            "bin_start": 0,
            "bin_end": 0.10000000000000009,
            "count": 5
           },
           {
            "bin_start": 0.10000000000000009,
            "bin_end": 0.20000000000000007,
            "count": 0
           },
           {
            "bin_start": 0.20000000000000007,
            "bin_end": 0.30000000000000004,
            "count": 0
           },
           {
            "bin_start": 0.30000000000000004,
            "bin_end": 0.4,
            "count": 0
           },
           {
            "bin_start": 0.4,
            "bin_end": 0.5,
            "count": 0
           }
          ]
         }
        },
        {
         "name": "ApplicantIncome",
         "dtype": "int64",
         "stats": {
          "unique_count": 5,
          "nan_count": 0,
          "min": "2340",
          "max": "5720",
          "histogram": [
           {
            "bin_start": 2340,
            "bin_end": 2678,
            "count": 1
           },
           {
            "bin_start": 2678,
            "bin_end": 3016,
            "count": 0
           },
           {
            "bin_start": 3016,
            "bin_end": 3354,
            "count": 2
           },
           {
            "bin_start": 3354,
            "bin_end": 3692,
            "count": 0
           },
           {
            "bin_start": 3692,
            "bin_end": 4030,
            "count": 0
           },
           {
            "bin_start": 4030,
            "bin_end": 4368,
            "count": 0
           },
           {
            "bin_start": 4368,
            "bin_end": 4706,
            "count": 0
           },
           {
            "bin_start": 4706,
            "bin_end": 5044,
            "count": 1
           },
           {
            "bin_start": 5044,
            "bin_end": 5382,
            "count": 0
           },
           {
            "bin_start": 5382,
            "bin_end": 5720,
            "count": 1
           }
          ]
         }
        },
        {
         "name": "CoapplicantIncome",
         "dtype": "int64",
         "stats": {
          "unique_count": 4,
          "nan_count": 0,
          "min": "0",
          "max": "2546",
          "histogram": [
           {
            "bin_start": 0,
            "bin_end": 254.6,
            "count": 2
           },
           {
            "bin_start": 254.6,
            "bin_end": 509.2,
            "count": 0
           },
           {
            "bin_start": 509.2,
            "bin_end": 763.8,
            "count": 0
           },
           {
            "bin_start": 763.8,
            "bin_end": 1018.4,
            "count": 0
           },
           {
            "bin_start": 1018.4,
            "bin_end": 1273,
            "count": 0
           },
           {
            "bin_start": 1273,
            "bin_end": 1527.6,
            "count": 1
           },
           {
            "bin_start": 1527.6,
            "bin_end": 1782.2,
            "count": 0
           },
           {
            "bin_start": 1782.2,
            "bin_end": 2036.8,
            "count": 1
           },
           {
            "bin_start": 2036.8,
            "bin_end": 2291.4,
            "count": 0
           },
           {
            "bin_start": 2291.4,
            "bin_end": 2546,
            "count": 1
           }
          ]
         }
        },
        {
         "name": "LoanAmount",
         "dtype": "float64",
         "stats": {
          "unique_count": 5,
          "nan_count": 0,
          "min": "78.0",
          "max": "208.0",
          "histogram": [
           {
            "bin_start": 78,
            "bin_end": 91,
            "count": 1
           },
           {
            "bin_start": 91,
            "bin_end": 104,
            "count": 1
           },
           {
            "bin_start": 104,
            "bin_end": 117,
            "count": 1
           },
           {
            "bin_start": 117,
            "bin_end": 130,
            "count": 1
           },
           {
            "bin_start": 130,
            "bin_end": 143,
            "count": 0
           },
           {
            "bin_start": 143,
            "bin_end": 156,
            "count": 0
           },
           {
            "bin_start": 156,
            "bin_end": 169,
            "count": 0
           },
           {
            "bin_start": 169,
            "bin_end": 182,
            "count": 0
           },
           {
            "bin_start": 182,
            "bin_end": 195,
            "count": 0
           },
           {
            "bin_start": 195,
            "bin_end": 208,
            "count": 1
           }
          ]
         }
        },
        {
         "name": "Loan_Amount_Term",
         "dtype": "float64",
         "stats": {
          "unique_count": 1,
          "nan_count": 0,
          "min": "360.0",
          "max": "360.0",
          "histogram": [
           {
            "bin_start": 359.5,
            "bin_end": 359.6,
            "count": 0
           },
           {
            "bin_start": 359.6,
            "bin_end": 359.7,
            "count": 0
           },
           {
            "bin_start": 359.7,
            "bin_end": 359.8,
            "count": 0
           },
           {
            "bin_start": 359.8,
            "bin_end": 359.9,
            "count": 0
           },
           {
            "bin_start": 359.9,
            "bin_end": 360,
            "count": 0
           },
           {
            "bin_start": 360,
            "bin_end": 360.1,
            "count": 5
           },
           {
            "bin_start": 360.1,
            "bin_end": 360.2,
            "count": 0
           },
           {
            "bin_start": 360.2,
            "bin_end": 360.3,
            "count": 0
           },
           {
            "bin_start": 360.3,
            "bin_end": 360.4,
            "count": 0
           },
           {
            "bin_start": 360.4,
            "bin_end": 360.5,
            "count": 0
           }
          ]
         }
        },
        {
         "name": "Credit_History",
         "dtype": "float64",
         "stats": {
          "unique_count": 1,
          "nan_count": 0,
          "min": "1.0",
          "max": "1.0",
          "histogram": [
           {
            "bin_start": 0.5,
            "bin_end": 0.6,
            "count": 0
           },
           {
            "bin_start": 0.6,
            "bin_end": 0.7,
            "count": 0
           },
           {
            "bin_start": 0.7,
            "bin_end": 0.8,
            "count": 0
           },
           {
            "bin_start": 0.8,
            "bin_end": 0.9,
            "count": 0
           },
           {
            "bin_start": 0.9,
            "bin_end": 1,
            "count": 0
           },
           {
            "bin_start": 1,
            "bin_end": 1.1,
            "count": 5
           },
           {
            "bin_start": 1.1,
            "bin_end": 1.2000000000000002,
            "count": 0
           },
           {
            "bin_start": 1.2000000000000002,
            "bin_end": 1.3,
            "count": 0
           },
           {
            "bin_start": 1.3,
            "bin_end": 1.4,
            "count": 0
           },
           {
            "bin_start": 1.4,
            "bin_end": 1.5,
            "count": 0
           }
          ]
         }
        },
        {
         "name": "Loan_Status",
         "dtype": "object",
         "stats": {
          "unique_count": 1,
          "nan_count": 0,
          "categories": [
           {
            "name": "Y",
            "count": 5
           }
          ]
         }
        },
        {
         "name": "_deepnote_index_column",
         "dtype": "int64"
        }
       ],
       "rows": [
        {
         "Gender_Female": 0,
         "Gender_Male": 1,
         "Married_No": 0,
         "Married_Yes": 1,
         "Education_Graduate": 1,
         "Education_Not Graduate": 0,
         "Self_Employed_No": 1,
         "Self_Employed_Yes": 0,
         "Property_Area_Rural": 0,
         "Property_Area_Semiurban": 0,
         "Property_Area_Urban": 1,
         "Dependents_0": 1,
         "Dependents_1": 0,
         "Dependents_2": 0,
         "Dependents_3+": 0,
         "ApplicantIncome": 5720,
         "CoapplicantIncome": 0,
         "LoanAmount": 110,
         "Loan_Amount_Term": 360,
         "Credit_History": 1,
         "Loan_Status": "Y",
         "_deepnote_index_column": 0
        },
        {
         "Gender_Female": 0,
         "Gender_Male": 1,
         "Married_No": 0,
         "Married_Yes": 1,
         "Education_Graduate": 1,
         "Education_Not Graduate": 0,
         "Self_Employed_No": 1,
         "Self_Employed_Yes": 0,
         "Property_Area_Rural": 0,
         "Property_Area_Semiurban": 0,
         "Property_Area_Urban": 1,
         "Dependents_0": 0,
         "Dependents_1": 1,
         "Dependents_2": 0,
         "Dependents_3+": 0,
         "ApplicantIncome": 3076,
         "CoapplicantIncome": 1500,
         "LoanAmount": 126,
         "Loan_Amount_Term": 360,
         "Credit_History": 1,
         "Loan_Status": "Y",
         "_deepnote_index_column": 1
        },
        {
         "Gender_Female": 0,
         "Gender_Male": 1,
         "Married_No": 0,
         "Married_Yes": 1,
         "Education_Graduate": 1,
         "Education_Not Graduate": 0,
         "Self_Employed_No": 1,
         "Self_Employed_Yes": 0,
         "Property_Area_Rural": 0,
         "Property_Area_Semiurban": 0,
         "Property_Area_Urban": 1,
         "Dependents_0": 0,
         "Dependents_1": 0,
         "Dependents_2": 1,
         "Dependents_3+": 0,
         "ApplicantIncome": 5000,
         "CoapplicantIncome": 1800,
         "LoanAmount": 208,
         "Loan_Amount_Term": 360,
         "Credit_History": 1,
         "Loan_Status": "Y",
         "_deepnote_index_column": 2
        },
        {
         "Gender_Female": 0,
         "Gender_Male": 1,
         "Married_No": 0,
         "Married_Yes": 1,
         "Education_Graduate": 1,
         "Education_Not Graduate": 0,
         "Self_Employed_No": 1,
         "Self_Employed_Yes": 0,
         "Property_Area_Rural": 0,
         "Property_Area_Semiurban": 0,
         "Property_Area_Urban": 1,
         "Dependents_0": 0,
         "Dependents_1": 0,
         "Dependents_2": 1,
         "Dependents_3+": 0,
         "ApplicantIncome": 2340,
         "CoapplicantIncome": 2546,
         "LoanAmount": 100,
         "Loan_Amount_Term": 360,
         "Credit_History": 1,
         "Loan_Status": "Y",
         "_deepnote_index_column": 3
        },
        {
         "Gender_Female": 0,
         "Gender_Male": 1,
         "Married_No": 1,
         "Married_Yes": 0,
         "Education_Graduate": 0,
         "Education_Not Graduate": 1,
         "Self_Employed_No": 1,
         "Self_Employed_Yes": 0,
         "Property_Area_Rural": 0,
         "Property_Area_Semiurban": 0,
         "Property_Area_Urban": 1,
         "Dependents_0": 1,
         "Dependents_1": 0,
         "Dependents_2": 0,
         "Dependents_3+": 0,
         "ApplicantIncome": 3276,
         "CoapplicantIncome": 0,
         "LoanAmount": 78,
         "Loan_Amount_Term": 360,
         "Credit_History": 1,
         "Loan_Status": "Y",
         "_deepnote_index_column": 4
        }
       ]
      },
      "text/plain": "   Gender_Female  Gender_Male  Married_No  Married_Yes  Education_Graduate  \\\n0              0            1           0            1                   1   \n1              0            1           0            1                   1   \n2              0            1           0            1                   1   \n3              0            1           0            1                   1   \n4              0            1           1            0                   0   \n\n   Education_Not Graduate  Self_Employed_No  Self_Employed_Yes  \\\n0                       0                 1                  0   \n1                       0                 1                  0   \n2                       0                 1                  0   \n3                       0                 1                  0   \n4                       1                 1                  0   \n\n   Property_Area_Rural  Property_Area_Semiurban  ...  Dependents_0  \\\n0                    0                        0  ...             1   \n1                    0                        0  ...             0   \n2                    0                        0  ...             0   \n3                    0                        0  ...             0   \n4                    0                        0  ...             1   \n\n   Dependents_1  Dependents_2  Dependents_3+  ApplicantIncome  \\\n0             0             0              0             5720   \n1             1             0              0             3076   \n2             0             1              0             5000   \n3             0             1              0             2340   \n4             0             0              0             3276   \n\n   CoapplicantIncome  LoanAmount  Loan_Amount_Term  Credit_History  \\\n0                  0       110.0             360.0             1.0   \n1               1500       126.0             360.0             1.0   \n2               1800       208.0             360.0             1.0   \n3               2546       100.0             360.0             1.0   \n4                  0        78.0             360.0             1.0   \n\n   Loan_Status  \n0            Y  \n1            Y  \n2            Y  \n3            Y  \n4            Y  \n\n[5 rows x 21 columns]",
      "text/html": "<div>\n<style scoped>\n    .dataframe tbody tr th:only-of-type {\n        vertical-align: middle;\n    }\n\n    .dataframe tbody tr th {\n        vertical-align: top;\n    }\n\n    .dataframe thead th {\n        text-align: right;\n    }\n</style>\n<table border=\"1\" class=\"dataframe\">\n  <thead>\n    <tr style=\"text-align: right;\">\n      <th></th>\n      <th>Gender_Female</th>\n      <th>Gender_Male</th>\n      <th>Married_No</th>\n      <th>Married_Yes</th>\n      <th>Education_Graduate</th>\n      <th>Education_Not Graduate</th>\n      <th>Self_Employed_No</th>\n      <th>Self_Employed_Yes</th>\n      <th>Property_Area_Rural</th>\n      <th>Property_Area_Semiurban</th>\n      <th>...</th>\n      <th>Dependents_0</th>\n      <th>Dependents_1</th>\n      <th>Dependents_2</th>\n      <th>Dependents_3+</th>\n      <th>ApplicantIncome</th>\n      <th>CoapplicantIncome</th>\n      <th>LoanAmount</th>\n      <th>Loan_Amount_Term</th>\n      <th>Credit_History</th>\n      <th>Loan_Status</th>\n    </tr>\n  </thead>\n  <tbody>\n    <tr>\n      <th>0</th>\n      <td>0</td>\n      <td>1</td>\n      <td>0</td>\n      <td>1</td>\n      <td>1</td>\n      <td>0</td>\n      <td>1</td>\n      <td>0</td>\n      <td>0</td>\n      <td>0</td>\n      <td>...</td>\n      <td>1</td>\n      <td>0</td>\n      <td>0</td>\n      <td>0</td>\n      <td>5720</td>\n      <td>0</td>\n      <td>110.0</td>\n      <td>360.0</td>\n      <td>1.0</td>\n      <td>Y</td>\n    </tr>\n    <tr>\n      <th>1</th>\n      <td>0</td>\n      <td>1</td>\n      <td>0</td>\n      <td>1</td>\n      <td>1</td>\n      <td>0</td>\n      <td>1</td>\n      <td>0</td>\n      <td>0</td>\n      <td>0</td>\n      <td>...</td>\n      <td>0</td>\n      <td>1</td>\n      <td>0</td>\n      <td>0</td>\n      <td>3076</td>\n      <td>1500</td>\n      <td>126.0</td>\n      <td>360.0</td>\n      <td>1.0</td>\n      <td>Y</td>\n    </tr>\n    <tr>\n      <th>2</th>\n      <td>0</td>\n      <td>1</td>\n      <td>0</td>\n      <td>1</td>\n      <td>1</td>\n      <td>0</td>\n      <td>1</td>\n      <td>0</td>\n      <td>0</td>\n      <td>0</td>\n      <td>...</td>\n      <td>0</td>\n      <td>0</td>\n      <td>1</td>\n      <td>0</td>\n      <td>5000</td>\n      <td>1800</td>\n      <td>208.0</td>\n      <td>360.0</td>\n      <td>1.0</td>\n      <td>Y</td>\n    </tr>\n    <tr>\n      <th>3</th>\n      <td>0</td>\n      <td>1</td>\n      <td>0</td>\n      <td>1</td>\n      <td>1</td>\n      <td>0</td>\n      <td>1</td>\n      <td>0</td>\n      <td>0</td>\n      <td>0</td>\n      <td>...</td>\n      <td>0</td>\n      <td>0</td>\n      <td>1</td>\n      <td>0</td>\n      <td>2340</td>\n      <td>2546</td>\n      <td>100.0</td>\n      <td>360.0</td>\n      <td>1.0</td>\n      <td>Y</td>\n    </tr>\n    <tr>\n      <th>4</th>\n      <td>0</td>\n      <td>1</td>\n      <td>1</td>\n      <td>0</td>\n      <td>0</td>\n      <td>1</td>\n      <td>1</td>\n      <td>0</td>\n      <td>0</td>\n      <td>0</td>\n      <td>...</td>\n      <td>1</td>\n      <td>0</td>\n      <td>0</td>\n      <td>0</td>\n      <td>3276</td>\n      <td>0</td>\n      <td>78.0</td>\n      <td>360.0</td>\n      <td>1.0</td>\n      <td>Y</td>\n    </tr>\n  </tbody>\n</table>\n<p>5 rows × 21 columns</p>\n</div>"
     },
     "metadata": {}
    }
   ],
   "execution_count": null
  },
  {
   "cell_type": "markdown",
   "source": "### Random Forest Classifier",
   "metadata": {
    "is_collapsed": false,
    "cell_id": "f7de43897f17498cbdd2b65119c76050",
    "tags": [],
    "formattedRanges": [],
    "deepnote_cell_type": "text-cell-h3"
   }
  },
  {
   "cell_type": "code",
   "source": "from sklearn.ensemble import RandomForestClassifier",
   "metadata": {
    "cell_id": "61782d7b6e6a438ab7d52bf3ce48beff",
    "tags": [],
    "deepnote_to_be_reexecuted": false,
    "source_hash": "39ef4b5b",
    "execution_start": 1659448536591,
    "execution_millis": 455,
    "deepnote_cell_type": "code",
    "deepnote_cell_height": 76
   },
   "outputs": [],
   "execution_count": null
  },
  {
   "cell_type": "code",
   "source": "# x_train, x_rf, y_train, y_rf = train_test_split(X,y, test_size=0.3)",
   "metadata": {
    "cell_id": "c46543047f554ec49284ccb6b84f0087",
    "tags": [],
    "deepnote_to_be_reexecuted": false,
    "source_hash": "382d9072",
    "execution_start": 1659448537046,
    "execution_millis": 1,
    "deepnote_cell_type": "code",
    "deepnote_cell_height": 76
   },
   "outputs": [],
   "execution_count": null
  },
  {
   "cell_type": "code",
   "source": "# forest_x.head()",
   "metadata": {
    "cell_id": "64885b0cb2bc4e6fb5909bdb825834a5",
    "tags": [],
    "deepnote_to_be_reexecuted": false,
    "source_hash": "c5e2f91c",
    "execution_start": 1659448537047,
    "execution_millis": 0,
    "deepnote_cell_type": "code",
    "deepnote_cell_height": 76
   },
   "outputs": [],
   "execution_count": null
  },
  {
   "cell_type": "code",
   "source": "# Instantiate and fit the RandomForestClassifier\nforest = RandomForestClassifier()\nforest.fit(x_train, y_train)",
   "metadata": {
    "cell_id": "10df44c333554e9a9bf1ca105138624d",
    "tags": [],
    "deepnote_to_be_reexecuted": false,
    "source_hash": "a898abd3",
    "execution_start": 1659448537054,
    "execution_millis": 769,
    "deepnote_cell_type": "code",
    "deepnote_cell_height": 188,
    "deepnote_output_heights": [
     60
    ]
   },
   "outputs": [
    {
     "output_type": "execute_result",
     "execution_count": 39,
     "data": {
      "text/plain": "RandomForestClassifier()",
      "text/html": "<style>#sk-container-id-2 {color: black;background-color: white;}#sk-container-id-2 pre{padding: 0;}#sk-container-id-2 div.sk-toggleable {background-color: white;}#sk-container-id-2 label.sk-toggleable__label {cursor: pointer;display: block;width: 100%;margin-bottom: 0;padding: 0.3em;box-sizing: border-box;text-align: center;}#sk-container-id-2 label.sk-toggleable__label-arrow:before {content: \"▸\";float: left;margin-right: 0.25em;color: #696969;}#sk-container-id-2 label.sk-toggleable__label-arrow:hover:before {color: black;}#sk-container-id-2 div.sk-estimator:hover label.sk-toggleable__label-arrow:before {color: black;}#sk-container-id-2 div.sk-toggleable__content {max-height: 0;max-width: 0;overflow: hidden;text-align: left;background-color: #f0f8ff;}#sk-container-id-2 div.sk-toggleable__content pre {margin: 0.2em;color: black;border-radius: 0.25em;background-color: #f0f8ff;}#sk-container-id-2 input.sk-toggleable__control:checked~div.sk-toggleable__content {max-height: 200px;max-width: 100%;overflow: auto;}#sk-container-id-2 input.sk-toggleable__control:checked~label.sk-toggleable__label-arrow:before {content: \"▾\";}#sk-container-id-2 div.sk-estimator input.sk-toggleable__control:checked~label.sk-toggleable__label {background-color: #d4ebff;}#sk-container-id-2 div.sk-label input.sk-toggleable__control:checked~label.sk-toggleable__label {background-color: #d4ebff;}#sk-container-id-2 input.sk-hidden--visually {border: 0;clip: rect(1px 1px 1px 1px);clip: rect(1px, 1px, 1px, 1px);height: 1px;margin: -1px;overflow: hidden;padding: 0;position: absolute;width: 1px;}#sk-container-id-2 div.sk-estimator {font-family: monospace;background-color: #f0f8ff;border: 1px dotted black;border-radius: 0.25em;box-sizing: border-box;margin-bottom: 0.5em;}#sk-container-id-2 div.sk-estimator:hover {background-color: #d4ebff;}#sk-container-id-2 div.sk-parallel-item::after {content: \"\";width: 100%;border-bottom: 1px solid gray;flex-grow: 1;}#sk-container-id-2 div.sk-label:hover label.sk-toggleable__label {background-color: #d4ebff;}#sk-container-id-2 div.sk-serial::before {content: \"\";position: absolute;border-left: 1px solid gray;box-sizing: border-box;top: 0;bottom: 0;left: 50%;z-index: 0;}#sk-container-id-2 div.sk-serial {display: flex;flex-direction: column;align-items: center;background-color: white;padding-right: 0.2em;padding-left: 0.2em;position: relative;}#sk-container-id-2 div.sk-item {position: relative;z-index: 1;}#sk-container-id-2 div.sk-parallel {display: flex;align-items: stretch;justify-content: center;background-color: white;position: relative;}#sk-container-id-2 div.sk-item::before, #sk-container-id-2 div.sk-parallel-item::before {content: \"\";position: absolute;border-left: 1px solid gray;box-sizing: border-box;top: 0;bottom: 0;left: 50%;z-index: -1;}#sk-container-id-2 div.sk-parallel-item {display: flex;flex-direction: column;z-index: 1;position: relative;background-color: white;}#sk-container-id-2 div.sk-parallel-item:first-child::after {align-self: flex-end;width: 50%;}#sk-container-id-2 div.sk-parallel-item:last-child::after {align-self: flex-start;width: 50%;}#sk-container-id-2 div.sk-parallel-item:only-child::after {width: 0;}#sk-container-id-2 div.sk-dashed-wrapped {border: 1px dashed gray;margin: 0 0.4em 0.5em 0.4em;box-sizing: border-box;padding-bottom: 0.4em;background-color: white;}#sk-container-id-2 div.sk-label label {font-family: monospace;font-weight: bold;display: inline-block;line-height: 1.2em;}#sk-container-id-2 div.sk-label-container {text-align: center;}#sk-container-id-2 div.sk-container {/* jupyter's `normalize.less` sets `[hidden] { display: none; }` but bootstrap.min.css set `[hidden] { display: none !important; }` so we also need the `!important` here to be able to override the default hidden behavior on the sphinx rendered scikit-learn.org. See: https://github.com/scikit-learn/scikit-learn/issues/21755 */display: inline-block !important;position: relative;}#sk-container-id-2 div.sk-text-repr-fallback {display: none;}</style><div id=\"sk-container-id-2\" class=\"sk-top-container\"><div class=\"sk-text-repr-fallback\"><pre>RandomForestClassifier()</pre><b>In a Jupyter environment, please rerun this cell to show the HTML representation or trust the notebook. <br />On GitHub, the HTML representation is unable to render, please try loading this page with nbviewer.org.</b></div><div class=\"sk-container\" hidden><div class=\"sk-item\"><div class=\"sk-estimator sk-toggleable\"><input class=\"sk-toggleable__control sk-hidden--visually\" id=\"sk-estimator-id-2\" type=\"checkbox\" checked><label for=\"sk-estimator-id-2\" class=\"sk-toggleable__label sk-toggleable__label-arrow\">RandomForestClassifier</label><div class=\"sk-toggleable__content\"><pre>RandomForestClassifier()</pre></div></div></div></div></div>"
     },
     "metadata": {}
    }
   ],
   "execution_count": null
  },
  {
   "cell_type": "code",
   "source": "# Make predictions for the test set\npred_rf = forest.predict(x_cv)\nprint(f\"Accuracy Score : {accuracy_score(y_cv,pred_rf)}\")\nprint(f\"F1 Score: {f1_score(y_cv,pred_rf)}\")",
   "metadata": {
    "cell_id": "369950f50f7246e18d28b73723fa8b9c",
    "tags": [],
    "deepnote_to_be_reexecuted": false,
    "source_hash": "387f7dd",
    "execution_start": 1659448537384,
    "execution_millis": 440,
    "deepnote_cell_type": "code",
    "deepnote_cell_height": 181
   },
   "outputs": [
    {
     "name": "stdout",
     "text": "Accuracy Score : 0.8054054054054054\nF1 Score: 0.8656716417910448\n",
     "output_type": "stream"
    }
   ],
   "execution_count": null
  },
  {
   "cell_type": "code",
   "source": "confusion_matrix_rf = confusion_matrix(y_cv, pred_rf)\n\nax= plt.subplot()\nsns.heatmap(confusion_matrix_rf, annot=True, fmt='g', ax=ax);  #annot=True to annotate cells, ftm='g' to disable scientific notation\n\n# labels, title and ticks\nax.set_xlabel('Predicted labels');ax.set_ylabel('True labels'); \nax.set_title('Confusion Matrix'); \nax.xaxis.set_ticklabels(['Y', 'N']); ax.yaxis.set_ticklabels(['Y', 'N']);\n",
   "metadata": {
    "cell_id": "8623ab2c777741e28e5d6553c7de4843",
    "tags": [],
    "deepnote_to_be_reexecuted": false,
    "source_hash": "6037b838",
    "execution_start": 1659448598115,
    "execution_millis": 645,
    "deepnote_cell_type": "code",
    "deepnote_cell_height": 539,
    "deepnote_output_heights": [
     280
    ]
   },
   "outputs": [
    {
     "data": {
      "text/plain": "<Figure size 432x288 with 2 Axes>",
      "image/png": "[encoded data removed]"
     },
     "metadata": {
      "needs_background": "light",
      "image/png": {
       "width": 366,
       "height": 278
      }
     },
     "output_type": "display_data"
    }
   ],
   "execution_count": null
  },
  {
   "cell_type": "code",
   "source": "pred_test_rf = forest.predict(data_test)\ndata_test_random_forest = data_test.copy()\ndata_test_random_forest['Loan_Status'] = pred_test_rf\ndata_test_random_forest['Loan_Status'] = data_test_random_forest['Loan_Status'].replace({0: 'N', 1 : 'Y'})\ndata_test_random_forest.head() ",
   "metadata": {
    "cell_id": "745b2b64bdbe48a2a65028ead6eb3666",
    "tags": [],
    "deepnote_to_be_reexecuted": false,
    "source_hash": "92395913",
    "execution_start": 1659448607826,
    "execution_millis": 196,
    "deepnote_cell_type": "code",
    "deepnote_cell_height": 482
   },
   "outputs": [
    {
     "output_type": "execute_result",
     "execution_count": 47,
     "data": {
      "application/vnd.deepnote.dataframe.v3+json": {
       "column_count": 21,
       "row_count": 5,
       "columns": [
        {
         "name": "Gender_Female",
         "dtype": "uint8",
         "stats": {
          "unique_count": 1,
          "nan_count": 0,
          "min": "0",
          "max": "0",
          "histogram": [
           {
            "bin_start": -0.5,
            "bin_end": -0.4,
            "count": 0
           },
           {
            "bin_start": -0.4,
            "bin_end": -0.3,
            "count": 0
           },
           {
            "bin_start": -0.3,
            "bin_end": -0.19999999999999996,
            "count": 0
           },
           {
            "bin_start": -0.19999999999999996,
            "bin_end": -0.09999999999999998,
            "count": 0
           },
           {
            "bin_start": -0.09999999999999998,
            "bin_end": 0,
            "count": 0
           },
           {
            "bin_start": 0,
            "bin_end": 0.10000000000000009,
            "count": 5
           },
           {
            "bin_start": 0.10000000000000009,
            "bin_end": 0.20000000000000007,
            "count": 0
           },
           {
            "bin_start": 0.20000000000000007,
            "bin_end": 0.30000000000000004,
            "count": 0
           },
           {
            "bin_start": 0.30000000000000004,
            "bin_end": 0.4,
            "count": 0
           },
           {
            "bin_start": 0.4,
            "bin_end": 0.5,
            "count": 0
           }
          ]
         }
        },
        {
         "name": "Gender_Male",
         "dtype": "uint8",
         "stats": {
          "unique_count": 1,
          "nan_count": 0,
          "min": "1",
          "max": "1",
          "histogram": [
           {
            "bin_start": 0.5,
            "bin_end": 0.6,
            "count": 0
           },
           {
            "bin_start": 0.6,
            "bin_end": 0.7,
            "count": 0
           },
           {
            "bin_start": 0.7,
            "bin_end": 0.8,
            "count": 0
           },
           {
            "bin_start": 0.8,
            "bin_end": 0.9,
            "count": 0
           },
           {
            "bin_start": 0.9,
            "bin_end": 1,
            "count": 0
           },
           {
            "bin_start": 1,
            "bin_end": 1.1,
            "count": 5
           },
           {
            "bin_start": 1.1,
            "bin_end": 1.2000000000000002,
            "count": 0
           },
           {
            "bin_start": 1.2000000000000002,
            "bin_end": 1.3,
            "count": 0
           },
           {
            "bin_start": 1.3,
            "bin_end": 1.4,
            "count": 0
           },
           {
            "bin_start": 1.4,
            "bin_end": 1.5,
            "count": 0
           }
          ]
         }
        },
        {
         "name": "Married_No",
         "dtype": "uint8",
         "stats": {
          "unique_count": 2,
          "nan_count": 0,
          "min": "0",
          "max": "1",
          "histogram": [
           {
            "bin_start": 0,
            "bin_end": 0.1,
            "count": 4
           },
           {
            "bin_start": 0.1,
            "bin_end": 0.2,
            "count": 0
           },
           {
            "bin_start": 0.2,
            "bin_end": 0.30000000000000004,
            "count": 0
           },
           {
            "bin_start": 0.30000000000000004,
            "bin_end": 0.4,
            "count": 0
           },
           {
            "bin_start": 0.4,
            "bin_end": 0.5,
            "count": 0
           },
           {
            "bin_start": 0.5,
            "bin_end": 0.6000000000000001,
            "count": 0
           },
           {
            "bin_start": 0.6000000000000001,
            "bin_end": 0.7000000000000001,
            "count": 0
           },
           {
            "bin_start": 0.7000000000000001,
            "bin_end": 0.8,
            "count": 0
           },
           {
            "bin_start": 0.8,
            "bin_end": 0.9,
            "count": 0
           },
           {
            "bin_start": 0.9,
            "bin_end": 1,
            "count": 1
           }
          ]
         }
        },
        {
         "name": "Married_Yes",
         "dtype": "uint8",
         "stats": {
          "unique_count": 2,
          "nan_count": 0,
          "min": "0",
          "max": "1",
          "histogram": [
           {
            "bin_start": 0,
            "bin_end": 0.1,
            "count": 1
           },
           {
            "bin_start": 0.1,
            "bin_end": 0.2,
            "count": 0
           },
           {
            "bin_start": 0.2,
            "bin_end": 0.30000000000000004,
            "count": 0
           },
           {
            "bin_start": 0.30000000000000004,
            "bin_end": 0.4,
            "count": 0
           },
           {
            "bin_start": 0.4,
            "bin_end": 0.5,
            "count": 0
           },
           {
            "bin_start": 0.5,
            "bin_end": 0.6000000000000001,
            "count": 0
           },
           {
            "bin_start": 0.6000000000000001,
            "bin_end": 0.7000000000000001,
            "count": 0
           },
           {
            "bin_start": 0.7000000000000001,
            "bin_end": 0.8,
            "count": 0
           },
           {
            "bin_start": 0.8,
            "bin_end": 0.9,
            "count": 0
           },
           {
            "bin_start": 0.9,
            "bin_end": 1,
            "count": 4
           }
          ]
         }
        },
        {
         "name": "Education_Graduate",
         "dtype": "uint8",
         "stats": {
          "unique_count": 2,
          "nan_count": 0,
          "min": "0",
          "max": "1",
          "histogram": [
           {
            "bin_start": 0,
            "bin_end": 0.1,
            "count": 1
           },
           {
            "bin_start": 0.1,
            "bin_end": 0.2,
            "count": 0
           },
           {
            "bin_start": 0.2,
            "bin_end": 0.30000000000000004,
            "count": 0
           },
           {
            "bin_start": 0.30000000000000004,
            "bin_end": 0.4,
            "count": 0
           },
           {
            "bin_start": 0.4,
            "bin_end": 0.5,
            "count": 0
           },
           {
            "bin_start": 0.5,
            "bin_end": 0.6000000000000001,
            "count": 0
           },
           {
            "bin_start": 0.6000000000000001,
            "bin_end": 0.7000000000000001,
            "count": 0
           },
           {
            "bin_start": 0.7000000000000001,
            "bin_end": 0.8,
            "count": 0
           },
           {
            "bin_start": 0.8,
            "bin_end": 0.9,
            "count": 0
           },
           {
            "bin_start": 0.9,
            "bin_end": 1,
            "count": 4
           }
          ]
         }
        },
        {
         "name": "Education_Not Graduate",
         "dtype": "uint8",
         "stats": {
          "unique_count": 2,
          "nan_count": 0,
          "min": "0",
          "max": "1",
          "histogram": [
           {
            "bin_start": 0,
            "bin_end": 0.1,
            "count": 4
           },
           {
            "bin_start": 0.1,
            "bin_end": 0.2,
            "count": 0
           },
           {
            "bin_start": 0.2,
            "bin_end": 0.30000000000000004,
            "count": 0
           },
           {
            "bin_start": 0.30000000000000004,
            "bin_end": 0.4,
            "count": 0
           },
           {
            "bin_start": 0.4,
            "bin_end": 0.5,
            "count": 0
           },
           {
            "bin_start": 0.5,
            "bin_end": 0.6000000000000001,
            "count": 0
           },
           {
            "bin_start": 0.6000000000000001,
            "bin_end": 0.7000000000000001,
            "count": 0
           },
           {
            "bin_start": 0.7000000000000001,
            "bin_end": 0.8,
            "count": 0
           },
           {
            "bin_start": 0.8,
            "bin_end": 0.9,
            "count": 0
           },
           {
            "bin_start": 0.9,
            "bin_end": 1,
            "count": 1
           }
          ]
         }
        },
        {
         "name": "Self_Employed_No",
         "dtype": "uint8",
         "stats": {
          "unique_count": 1,
          "nan_count": 0,
          "min": "1",
          "max": "1",
          "histogram": [
           {
            "bin_start": 0.5,
            "bin_end": 0.6,
            "count": 0
           },
           {
            "bin_start": 0.6,
            "bin_end": 0.7,
            "count": 0
           },
           {
            "bin_start": 0.7,
            "bin_end": 0.8,
            "count": 0
           },
           {
            "bin_start": 0.8,
            "bin_end": 0.9,
            "count": 0
           },
           {
            "bin_start": 0.9,
            "bin_end": 1,
            "count": 0
           },
           {
            "bin_start": 1,
            "bin_end": 1.1,
            "count": 5
           },
           {
            "bin_start": 1.1,
            "bin_end": 1.2000000000000002,
            "count": 0
           },
           {
            "bin_start": 1.2000000000000002,
            "bin_end": 1.3,
            "count": 0
           },
           {
            "bin_start": 1.3,
            "bin_end": 1.4,
            "count": 0
           },
           {
            "bin_start": 1.4,
            "bin_end": 1.5,
            "count": 0
           }
          ]
         }
        },
        {
         "name": "Self_Employed_Yes",
         "dtype": "uint8",
         "stats": {
          "unique_count": 1,
          "nan_count": 0,
          "min": "0",
          "max": "0",
          "histogram": [
           {
            "bin_start": -0.5,
            "bin_end": -0.4,
            "count": 0
           },
           {
            "bin_start": -0.4,
            "bin_end": -0.3,
            "count": 0
           },
           {
            "bin_start": -0.3,
            "bin_end": -0.19999999999999996,
            "count": 0
           },
           {
            "bin_start": -0.19999999999999996,
            "bin_end": -0.09999999999999998,
            "count": 0
           },
           {
            "bin_start": -0.09999999999999998,
            "bin_end": 0,
            "count": 0
           },
           {
            "bin_start": 0,
            "bin_end": 0.10000000000000009,
            "count": 5
           },
           {
            "bin_start": 0.10000000000000009,
            "bin_end": 0.20000000000000007,
            "count": 0
           },
           {
            "bin_start": 0.20000000000000007,
            "bin_end": 0.30000000000000004,
            "count": 0
           },
           {
            "bin_start": 0.30000000000000004,
            "bin_end": 0.4,
            "count": 0
           },
           {
            "bin_start": 0.4,
            "bin_end": 0.5,
            "count": 0
           }
          ]
         }
        },
        {
         "name": "Property_Area_Rural",
         "dtype": "uint8",
         "stats": {
          "unique_count": 1,
          "nan_count": 0,
          "min": "0",
          "max": "0",
          "histogram": [
           {
            "bin_start": -0.5,
            "bin_end": -0.4,
            "count": 0
           },
           {
            "bin_start": -0.4,
            "bin_end": -0.3,
            "count": 0
           },
           {
            "bin_start": -0.3,
            "bin_end": -0.19999999999999996,
            "count": 0
           },
           {
            "bin_start": -0.19999999999999996,
            "bin_end": -0.09999999999999998,
            "count": 0
           },
           {
            "bin_start": -0.09999999999999998,
            "bin_end": 0,
            "count": 0
           },
           {
            "bin_start": 0,
            "bin_end": 0.10000000000000009,
            "count": 5
           },
           {
            "bin_start": 0.10000000000000009,
            "bin_end": 0.20000000000000007,
            "count": 0
           },
           {
            "bin_start": 0.20000000000000007,
            "bin_end": 0.30000000000000004,
            "count": 0
           },
           {
            "bin_start": 0.30000000000000004,
            "bin_end": 0.4,
            "count": 0
           },
           {
            "bin_start": 0.4,
            "bin_end": 0.5,
            "count": 0
           }
          ]
         }
        },
        {
         "name": "Property_Area_Semiurban",
         "dtype": "uint8",
         "stats": {
          "unique_count": 1,
          "nan_count": 0,
          "min": "0",
          "max": "0",
          "histogram": [
           {
            "bin_start": -0.5,
            "bin_end": -0.4,
            "count": 0
           },
           {
            "bin_start": -0.4,
            "bin_end": -0.3,
            "count": 0
           },
           {
            "bin_start": -0.3,
            "bin_end": -0.19999999999999996,
            "count": 0
           },
           {
            "bin_start": -0.19999999999999996,
            "bin_end": -0.09999999999999998,
            "count": 0
           },
           {
            "bin_start": -0.09999999999999998,
            "bin_end": 0,
            "count": 0
           },
           {
            "bin_start": 0,
            "bin_end": 0.10000000000000009,
            "count": 5
           },
           {
            "bin_start": 0.10000000000000009,
            "bin_end": 0.20000000000000007,
            "count": 0
           },
           {
            "bin_start": 0.20000000000000007,
            "bin_end": 0.30000000000000004,
            "count": 0
           },
           {
            "bin_start": 0.30000000000000004,
            "bin_end": 0.4,
            "count": 0
           },
           {
            "bin_start": 0.4,
            "bin_end": 0.5,
            "count": 0
           }
          ]
         }
        },
        {
         "name": "Property_Area_Urban",
         "dtype": "uint8",
         "stats": {
          "unique_count": 1,
          "nan_count": 0,
          "min": "1",
          "max": "1",
          "histogram": [
           {
            "bin_start": 0.5,
            "bin_end": 0.6,
            "count": 0
           },
           {
            "bin_start": 0.6,
            "bin_end": 0.7,
            "count": 0
           },
           {
            "bin_start": 0.7,
            "bin_end": 0.8,
            "count": 0
           },
           {
            "bin_start": 0.8,
            "bin_end": 0.9,
            "count": 0
           },
           {
            "bin_start": 0.9,
            "bin_end": 1,
            "count": 0
           },
           {
            "bin_start": 1,
            "bin_end": 1.1,
            "count": 5
           },
           {
            "bin_start": 1.1,
            "bin_end": 1.2000000000000002,
            "count": 0
           },
           {
            "bin_start": 1.2000000000000002,
            "bin_end": 1.3,
            "count": 0
           },
           {
            "bin_start": 1.3,
            "bin_end": 1.4,
            "count": 0
           },
           {
            "bin_start": 1.4,
            "bin_end": 1.5,
            "count": 0
           }
          ]
         }
        },
        {
         "name": "Dependents_0",
         "dtype": "uint8",
         "stats": {
          "unique_count": 2,
          "nan_count": 0,
          "min": "0",
          "max": "1",
          "histogram": [
           {
            "bin_start": 0,
            "bin_end": 0.1,
            "count": 3
           },
           {
            "bin_start": 0.1,
            "bin_end": 0.2,
            "count": 0
           },
           {
            "bin_start": 0.2,
            "bin_end": 0.30000000000000004,
            "count": 0
           },
           {
            "bin_start": 0.30000000000000004,
            "bin_end": 0.4,
            "count": 0
           },
           {
            "bin_start": 0.4,
            "bin_end": 0.5,
            "count": 0
           },
           {
            "bin_start": 0.5,
            "bin_end": 0.6000000000000001,
            "count": 0
           },
           {
            "bin_start": 0.6000000000000001,
            "bin_end": 0.7000000000000001,
            "count": 0
           },
           {
            "bin_start": 0.7000000000000001,
            "bin_end": 0.8,
            "count": 0
           },
           {
            "bin_start": 0.8,
            "bin_end": 0.9,
            "count": 0
           },
           {
            "bin_start": 0.9,
            "bin_end": 1,
            "count": 2
           }
          ]
         }
        },
        {
         "name": "Dependents_1",
         "dtype": "uint8",
         "stats": {
          "unique_count": 2,
          "nan_count": 0,
          "min": "0",
          "max": "1",
          "histogram": [
           {
            "bin_start": 0,
            "bin_end": 0.1,
            "count": 4
           },
           {
            "bin_start": 0.1,
            "bin_end": 0.2,
            "count": 0
           },
           {
            "bin_start": 0.2,
            "bin_end": 0.30000000000000004,
            "count": 0
           },
           {
            "bin_start": 0.30000000000000004,
            "bin_end": 0.4,
            "count": 0
           },
           {
            "bin_start": 0.4,
            "bin_end": 0.5,
            "count": 0
           },
           {
            "bin_start": 0.5,
            "bin_end": 0.6000000000000001,
            "count": 0
           },
           {
            "bin_start": 0.6000000000000001,
            "bin_end": 0.7000000000000001,
            "count": 0
           },
           {
            "bin_start": 0.7000000000000001,
            "bin_end": 0.8,
            "count": 0
           },
           {
            "bin_start": 0.8,
            "bin_end": 0.9,
            "count": 0
           },
           {
            "bin_start": 0.9,
            "bin_end": 1,
            "count": 1
           }
          ]
         }
        },
        {
         "name": "Dependents_2",
         "dtype": "uint8",
         "stats": {
          "unique_count": 2,
          "nan_count": 0,
          "min": "0",
          "max": "1",
          "histogram": [
           {
            "bin_start": 0,
            "bin_end": 0.1,
            "count": 3
           },
           {
            "bin_start": 0.1,
            "bin_end": 0.2,
            "count": 0
           },
           {
            "bin_start": 0.2,
            "bin_end": 0.30000000000000004,
            "count": 0
           },
           {
            "bin_start": 0.30000000000000004,
            "bin_end": 0.4,
            "count": 0
           },
           {
            "bin_start": 0.4,
            "bin_end": 0.5,
            "count": 0
           },
           {
            "bin_start": 0.5,
            "bin_end": 0.6000000000000001,
            "count": 0
           },
           {
            "bin_start": 0.6000000000000001,
            "bin_end": 0.7000000000000001,
            "count": 0
           },
           {
            "bin_start": 0.7000000000000001,
            "bin_end": 0.8,
            "count": 0
           },
           {
            "bin_start": 0.8,
            "bin_end": 0.9,
            "count": 0
           },
           {
            "bin_start": 0.9,
            "bin_end": 1,
            "count": 2
           }
          ]
         }
        },
        {
         "name": "Dependents_3+",
         "dtype": "uint8",
         "stats": {
          "unique_count": 1,
          "nan_count": 0,
          "min": "0",
          "max": "0",
          "histogram": [
           {
            "bin_start": -0.5,
            "bin_end": -0.4,
            "count": 0
           },
           {
            "bin_start": -0.4,
            "bin_end": -0.3,
            "count": 0
           },
           {
            "bin_start": -0.3,
            "bin_end": -0.19999999999999996,
            "count": 0
           },
           {
            "bin_start": -0.19999999999999996,
            "bin_end": -0.09999999999999998,
            "count": 0
           },
           {
            "bin_start": -0.09999999999999998,
            "bin_end": 0,
            "count": 0
           },
           {
            "bin_start": 0,
            "bin_end": 0.10000000000000009,
            "count": 5
           },
           {
            "bin_start": 0.10000000000000009,
            "bin_end": 0.20000000000000007,
            "count": 0
           },
           {
            "bin_start": 0.20000000000000007,
            "bin_end": 0.30000000000000004,
            "count": 0
           },
           {
            "bin_start": 0.30000000000000004,
            "bin_end": 0.4,
            "count": 0
           },
           {
            "bin_start": 0.4,
            "bin_end": 0.5,
            "count": 0
           }
          ]
         }
        },
        {
         "name": "ApplicantIncome",
         "dtype": "int64",
         "stats": {
          "unique_count": 5,
          "nan_count": 0,
          "min": "2340",
          "max": "5720",
          "histogram": [
           {
            "bin_start": 2340,
            "bin_end": 2678,
            "count": 1
           },
           {
            "bin_start": 2678,
            "bin_end": 3016,
            "count": 0
           },
           {
            "bin_start": 3016,
            "bin_end": 3354,
            "count": 2
           },
           {
            "bin_start": 3354,
            "bin_end": 3692,
            "count": 0
           },
           {
            "bin_start": 3692,
            "bin_end": 4030,
            "count": 0
           },
           {
            "bin_start": 4030,
            "bin_end": 4368,
            "count": 0
           },
           {
            "bin_start": 4368,
            "bin_end": 4706,
            "count": 0
           },
           {
            "bin_start": 4706,
            "bin_end": 5044,
            "count": 1
           },
           {
            "bin_start": 5044,
            "bin_end": 5382,
            "count": 0
           },
           {
            "bin_start": 5382,
            "bin_end": 5720,
            "count": 1
           }
          ]
         }
        },
        {
         "name": "CoapplicantIncome",
         "dtype": "int64",
         "stats": {
          "unique_count": 4,
          "nan_count": 0,
          "min": "0",
          "max": "2546",
          "histogram": [
           {
            "bin_start": 0,
            "bin_end": 254.6,
            "count": 2
           },
           {
            "bin_start": 254.6,
            "bin_end": 509.2,
            "count": 0
           },
           {
            "bin_start": 509.2,
            "bin_end": 763.8,
            "count": 0
           },
           {
            "bin_start": 763.8,
            "bin_end": 1018.4,
            "count": 0
           },
           {
            "bin_start": 1018.4,
            "bin_end": 1273,
            "count": 0
           },
           {
            "bin_start": 1273,
            "bin_end": 1527.6,
            "count": 1
           },
           {
            "bin_start": 1527.6,
            "bin_end": 1782.2,
            "count": 0
           },
           {
            "bin_start": 1782.2,
            "bin_end": 2036.8,
            "count": 1
           },
           {
            "bin_start": 2036.8,
            "bin_end": 2291.4,
            "count": 0
           },
           {
            "bin_start": 2291.4,
            "bin_end": 2546,
            "count": 1
           }
          ]
         }
        },
        {
         "name": "LoanAmount",
         "dtype": "float64",
         "stats": {
          "unique_count": 5,
          "nan_count": 0,
          "min": "78.0",
          "max": "208.0",
          "histogram": [
           {
            "bin_start": 78,
            "bin_end": 91,
            "count": 1
           },
           {
            "bin_start": 91,
            "bin_end": 104,
            "count": 1
           },
           {
            "bin_start": 104,
            "bin_end": 117,
            "count": 1
           },
           {
            "bin_start": 117,
            "bin_end": 130,
            "count": 1
           },
           {
            "bin_start": 130,
            "bin_end": 143,
            "count": 0
           },
           {
            "bin_start": 143,
            "bin_end": 156,
            "count": 0
           },
           {
            "bin_start": 156,
            "bin_end": 169,
            "count": 0
           },
           {
            "bin_start": 169,
            "bin_end": 182,
            "count": 0
           },
           {
            "bin_start": 182,
            "bin_end": 195,
            "count": 0
           },
           {
            "bin_start": 195,
            "bin_end": 208,
            "count": 1
           }
          ]
         }
        },
        {
         "name": "Loan_Amount_Term",
         "dtype": "float64",
         "stats": {
          "unique_count": 1,
          "nan_count": 0,
          "min": "360.0",
          "max": "360.0",
          "histogram": [
           {
            "bin_start": 359.5,
            "bin_end": 359.6,
            "count": 0
           },
           {
            "bin_start": 359.6,
            "bin_end": 359.7,
            "count": 0
           },
           {
            "bin_start": 359.7,
            "bin_end": 359.8,
            "count": 0
           },
           {
            "bin_start": 359.8,
            "bin_end": 359.9,
            "count": 0
           },
           {
            "bin_start": 359.9,
            "bin_end": 360,
            "count": 0
           },
           {
            "bin_start": 360,
            "bin_end": 360.1,
            "count": 5
           },
           {
            "bin_start": 360.1,
            "bin_end": 360.2,
            "count": 0
           },
           {
            "bin_start": 360.2,
            "bin_end": 360.3,
            "count": 0
           },
           {
            "bin_start": 360.3,
            "bin_end": 360.4,
            "count": 0
           },
           {
            "bin_start": 360.4,
            "bin_end": 360.5,
            "count": 0
           }
          ]
         }
        },
        {
         "name": "Credit_History",
         "dtype": "float64",
         "stats": {
          "unique_count": 1,
          "nan_count": 0,
          "min": "1.0",
          "max": "1.0",
          "histogram": [
           {
            "bin_start": 0.5,
            "bin_end": 0.6,
            "count": 0
           },
           {
            "bin_start": 0.6,
            "bin_end": 0.7,
            "count": 0
           },
           {
            "bin_start": 0.7,
            "bin_end": 0.8,
            "count": 0
           },
           {
            "bin_start": 0.8,
            "bin_end": 0.9,
            "count": 0
           },
           {
            "bin_start": 0.9,
            "bin_end": 1,
            "count": 0
           },
           {
            "bin_start": 1,
            "bin_end": 1.1,
            "count": 5
           },
           {
            "bin_start": 1.1,
            "bin_end": 1.2000000000000002,
            "count": 0
           },
           {
            "bin_start": 1.2000000000000002,
            "bin_end": 1.3,
            "count": 0
           },
           {
            "bin_start": 1.3,
            "bin_end": 1.4,
            "count": 0
           },
           {
            "bin_start": 1.4,
            "bin_end": 1.5,
            "count": 0
           }
          ]
         }
        },
        {
         "name": "Loan_Status",
         "dtype": "object",
         "stats": {
          "unique_count": 1,
          "nan_count": 0,
          "categories": [
           {
            "name": "Y",
            "count": 5
           }
          ]
         }
        },
        {
         "name": "_deepnote_index_column",
         "dtype": "int64"
        }
       ],
       "rows": [
        {
         "Gender_Female": 0,
         "Gender_Male": 1,
         "Married_No": 0,
         "Married_Yes": 1,
         "Education_Graduate": 1,
         "Education_Not Graduate": 0,
         "Self_Employed_No": 1,
         "Self_Employed_Yes": 0,
         "Property_Area_Rural": 0,
         "Property_Area_Semiurban": 0,
         "Property_Area_Urban": 1,
         "Dependents_0": 1,
         "Dependents_1": 0,
         "Dependents_2": 0,
         "Dependents_3+": 0,
         "ApplicantIncome": 5720,
         "CoapplicantIncome": 0,
         "LoanAmount": 110,
         "Loan_Amount_Term": 360,
         "Credit_History": 1,
         "Loan_Status": "Y",
         "_deepnote_index_column": 0
        },
        {
         "Gender_Female": 0,
         "Gender_Male": 1,
         "Married_No": 0,
         "Married_Yes": 1,
         "Education_Graduate": 1,
         "Education_Not Graduate": 0,
         "Self_Employed_No": 1,
         "Self_Employed_Yes": 0,
         "Property_Area_Rural": 0,
         "Property_Area_Semiurban": 0,
         "Property_Area_Urban": 1,
         "Dependents_0": 0,
         "Dependents_1": 1,
         "Dependents_2": 0,
         "Dependents_3+": 0,
         "ApplicantIncome": 3076,
         "CoapplicantIncome": 1500,
         "LoanAmount": 126,
         "Loan_Amount_Term": 360,
         "Credit_History": 1,
         "Loan_Status": "Y",
         "_deepnote_index_column": 1
        },
        {
         "Gender_Female": 0,
         "Gender_Male": 1,
         "Married_No": 0,
         "Married_Yes": 1,
         "Education_Graduate": 1,
         "Education_Not Graduate": 0,
         "Self_Employed_No": 1,
         "Self_Employed_Yes": 0,
         "Property_Area_Rural": 0,
         "Property_Area_Semiurban": 0,
         "Property_Area_Urban": 1,
         "Dependents_0": 0,
         "Dependents_1": 0,
         "Dependents_2": 1,
         "Dependents_3+": 0,
         "ApplicantIncome": 5000,
         "CoapplicantIncome": 1800,
         "LoanAmount": 208,
         "Loan_Amount_Term": 360,
         "Credit_History": 1,
         "Loan_Status": "Y",
         "_deepnote_index_column": 2
        },
        {
         "Gender_Female": 0,
         "Gender_Male": 1,
         "Married_No": 0,
         "Married_Yes": 1,
         "Education_Graduate": 1,
         "Education_Not Graduate": 0,
         "Self_Employed_No": 1,
         "Self_Employed_Yes": 0,
         "Property_Area_Rural": 0,
         "Property_Area_Semiurban": 0,
         "Property_Area_Urban": 1,
         "Dependents_0": 0,
         "Dependents_1": 0,
         "Dependents_2": 1,
         "Dependents_3+": 0,
         "ApplicantIncome": 2340,
         "CoapplicantIncome": 2546,
         "LoanAmount": 100,
         "Loan_Amount_Term": 360,
         "Credit_History": 1,
         "Loan_Status": "Y",
         "_deepnote_index_column": 3
        },
        {
         "Gender_Female": 0,
         "Gender_Male": 1,
         "Married_No": 1,
         "Married_Yes": 0,
         "Education_Graduate": 0,
         "Education_Not Graduate": 1,
         "Self_Employed_No": 1,
         "Self_Employed_Yes": 0,
         "Property_Area_Rural": 0,
         "Property_Area_Semiurban": 0,
         "Property_Area_Urban": 1,
         "Dependents_0": 1,
         "Dependents_1": 0,
         "Dependents_2": 0,
         "Dependents_3+": 0,
         "ApplicantIncome": 3276,
         "CoapplicantIncome": 0,
         "LoanAmount": 78,
         "Loan_Amount_Term": 360,
         "Credit_History": 1,
         "Loan_Status": "Y",
         "_deepnote_index_column": 4
        }
       ]
      },
      "text/plain": "   Gender_Female  Gender_Male  Married_No  Married_Yes  Education_Graduate  \\\n0              0            1           0            1                   1   \n1              0            1           0            1                   1   \n2              0            1           0            1                   1   \n3              0            1           0            1                   1   \n4              0            1           1            0                   0   \n\n   Education_Not Graduate  Self_Employed_No  Self_Employed_Yes  \\\n0                       0                 1                  0   \n1                       0                 1                  0   \n2                       0                 1                  0   \n3                       0                 1                  0   \n4                       1                 1                  0   \n\n   Property_Area_Rural  Property_Area_Semiurban  ...  Dependents_0  \\\n0                    0                        0  ...             1   \n1                    0                        0  ...             0   \n2                    0                        0  ...             0   \n3                    0                        0  ...             0   \n4                    0                        0  ...             1   \n\n   Dependents_1  Dependents_2  Dependents_3+  ApplicantIncome  \\\n0             0             0              0             5720   \n1             1             0              0             3076   \n2             0             1              0             5000   \n3             0             1              0             2340   \n4             0             0              0             3276   \n\n   CoapplicantIncome  LoanAmount  Loan_Amount_Term  Credit_History  \\\n0                  0       110.0             360.0             1.0   \n1               1500       126.0             360.0             1.0   \n2               1800       208.0             360.0             1.0   \n3               2546       100.0             360.0             1.0   \n4                  0        78.0             360.0             1.0   \n\n   Loan_Status  \n0            Y  \n1            Y  \n2            Y  \n3            Y  \n4            Y  \n\n[5 rows x 21 columns]",
      "text/html": "<div>\n<style scoped>\n    .dataframe tbody tr th:only-of-type {\n        vertical-align: middle;\n    }\n\n    .dataframe tbody tr th {\n        vertical-align: top;\n    }\n\n    .dataframe thead th {\n        text-align: right;\n    }\n</style>\n<table border=\"1\" class=\"dataframe\">\n  <thead>\n    <tr style=\"text-align: right;\">\n      <th></th>\n      <th>Gender_Female</th>\n      <th>Gender_Male</th>\n      <th>Married_No</th>\n      <th>Married_Yes</th>\n      <th>Education_Graduate</th>\n      <th>Education_Not Graduate</th>\n      <th>Self_Employed_No</th>\n      <th>Self_Employed_Yes</th>\n      <th>Property_Area_Rural</th>\n      <th>Property_Area_Semiurban</th>\n      <th>...</th>\n      <th>Dependents_0</th>\n      <th>Dependents_1</th>\n      <th>Dependents_2</th>\n      <th>Dependents_3+</th>\n      <th>ApplicantIncome</th>\n      <th>CoapplicantIncome</th>\n      <th>LoanAmount</th>\n      <th>Loan_Amount_Term</th>\n      <th>Credit_History</th>\n      <th>Loan_Status</th>\n    </tr>\n  </thead>\n  <tbody>\n    <tr>\n      <th>0</th>\n      <td>0</td>\n      <td>1</td>\n      <td>0</td>\n      <td>1</td>\n      <td>1</td>\n      <td>0</td>\n      <td>1</td>\n      <td>0</td>\n      <td>0</td>\n      <td>0</td>\n      <td>...</td>\n      <td>1</td>\n      <td>0</td>\n      <td>0</td>\n      <td>0</td>\n      <td>5720</td>\n      <td>0</td>\n      <td>110.0</td>\n      <td>360.0</td>\n      <td>1.0</td>\n      <td>Y</td>\n    </tr>\n    <tr>\n      <th>1</th>\n      <td>0</td>\n      <td>1</td>\n      <td>0</td>\n      <td>1</td>\n      <td>1</td>\n      <td>0</td>\n      <td>1</td>\n      <td>0</td>\n      <td>0</td>\n      <td>0</td>\n      <td>...</td>\n      <td>0</td>\n      <td>1</td>\n      <td>0</td>\n      <td>0</td>\n      <td>3076</td>\n      <td>1500</td>\n      <td>126.0</td>\n      <td>360.0</td>\n      <td>1.0</td>\n      <td>Y</td>\n    </tr>\n    <tr>\n      <th>2</th>\n      <td>0</td>\n      <td>1</td>\n      <td>0</td>\n      <td>1</td>\n      <td>1</td>\n      <td>0</td>\n      <td>1</td>\n      <td>0</td>\n      <td>0</td>\n      <td>0</td>\n      <td>...</td>\n      <td>0</td>\n      <td>0</td>\n      <td>1</td>\n      <td>0</td>\n      <td>5000</td>\n      <td>1800</td>\n      <td>208.0</td>\n      <td>360.0</td>\n      <td>1.0</td>\n      <td>Y</td>\n    </tr>\n    <tr>\n      <th>3</th>\n      <td>0</td>\n      <td>1</td>\n      <td>0</td>\n      <td>1</td>\n      <td>1</td>\n      <td>0</td>\n      <td>1</td>\n      <td>0</td>\n      <td>0</td>\n      <td>0</td>\n      <td>...</td>\n      <td>0</td>\n      <td>0</td>\n      <td>1</td>\n      <td>0</td>\n      <td>2340</td>\n      <td>2546</td>\n      <td>100.0</td>\n      <td>360.0</td>\n      <td>1.0</td>\n      <td>Y</td>\n    </tr>\n    <tr>\n      <th>4</th>\n      <td>0</td>\n      <td>1</td>\n      <td>1</td>\n      <td>0</td>\n      <td>0</td>\n      <td>1</td>\n      <td>1</td>\n      <td>0</td>\n      <td>0</td>\n      <td>0</td>\n      <td>...</td>\n      <td>1</td>\n      <td>0</td>\n      <td>0</td>\n      <td>0</td>\n      <td>3276</td>\n      <td>0</td>\n      <td>78.0</td>\n      <td>360.0</td>\n      <td>1.0</td>\n      <td>Y</td>\n    </tr>\n  </tbody>\n</table>\n<p>5 rows × 21 columns</p>\n</div>"
     },
     "metadata": {}
    }
   ],
   "execution_count": null
  },
  {
   "cell_type": "markdown",
   "source": "# Pycaret",
   "metadata": {
    "is_collapsed": false,
    "cell_id": "46b8d30d8e5d410daa7aee1eaa7e9683",
    "tags": [],
    "formattedRanges": [],
    "deepnote_cell_type": "text-cell-h1"
   }
  },
  {
   "cell_type": "code",
   "source": "import pycaret\nfrom pycaret.classification import *",
   "metadata": {
    "cell_id": "c869ab7d6c424b9b88ae3ef3c6451cde",
    "tags": [],
    "deepnote_to_be_reexecuted": true,
    "source_hash": "ac907ce4",
    "execution_start": 1659431117888,
    "execution_millis": 734,
    "deepnote_cell_type": "code",
    "deepnote_cell_height": 94
   },
   "outputs": [],
   "execution_count": null
  },
  {
   "cell_type": "code",
   "source": "df_caert = df.copy()\n",
   "metadata": {
    "cell_id": "296ad601b45840be8474088cbdafdc04",
    "tags": [],
    "deepnote_to_be_reexecuted": true,
    "source_hash": "9e6af27",
    "execution_start": 1659431137564,
    "execution_millis": 4,
    "deepnote_cell_type": "code",
    "deepnote_cell_height": 94
   },
   "outputs": [],
   "execution_count": null
  },
  {
   "cell_type": "code",
   "source": "df_caert.head()",
   "metadata": {
    "cell_id": "727e1f96aa95401ca111393360947811",
    "tags": [],
    "deepnote_to_be_reexecuted": true,
    "source_hash": "a2cd404",
    "execution_start": 1659431148736,
    "execution_millis": 27,
    "deepnote_cell_type": "code",
    "deepnote_cell_height": 405
   },
   "outputs": [
    {
     "output_type": "execute_result",
     "execution_count": 86,
     "data": {
      "application/vnd.deepnote.dataframe.v3+json": {
       "column_count": 13,
       "row_count": 5,
       "columns": [
        {
         "name": "Loan_ID",
         "dtype": "object",
         "stats": {
          "unique_count": 5,
          "nan_count": 0,
          "categories": [
           {
            "name": "LP001002",
            "count": 1
           },
           {
            "name": "LP001003",
            "count": 1
           },
           {
            "name": "3 others",
            "count": 3
           }
          ]
         }
        },
        {
         "name": "Gender",
         "dtype": "object",
         "stats": {
          "unique_count": 1,
          "nan_count": 0,
          "categories": [
           {
            "name": "Male",
            "count": 5
           }
          ]
         }
        },
        {
         "name": "Married",
         "dtype": "object",
         "stats": {
          "unique_count": 2,
          "nan_count": 0,
          "categories": [
           {
            "name": "Yes",
            "count": 3
           },
           {
            "name": "No",
            "count": 2
           }
          ]
         }
        },
        {
         "name": "Dependents",
         "dtype": "object",
         "stats": {
          "unique_count": 2,
          "nan_count": 0,
          "categories": [
           {
            "name": "0",
            "count": 4
           },
           {
            "name": "1",
            "count": 1
           }
          ]
         }
        },
        {
         "name": "Education",
         "dtype": "object",
         "stats": {
          "unique_count": 2,
          "nan_count": 0,
          "categories": [
           {
            "name": "Graduate",
            "count": 4
           },
           {
            "name": "Not Graduate",
            "count": 1
           }
          ]
         }
        },
        {
         "name": "Self_Employed",
         "dtype": "object",
         "stats": {
          "unique_count": 2,
          "nan_count": 0,
          "categories": [
           {
            "name": "No",
            "count": 4
           },
           {
            "name": "Yes",
            "count": 1
           }
          ]
         }
        },
        {
         "name": "ApplicantIncome",
         "dtype": "int64",
         "stats": {
          "unique_count": 5,
          "nan_count": 0,
          "min": "2583",
          "max": "6000",
          "histogram": [
           {
            "bin_start": 2583,
            "bin_end": 2924.7,
            "count": 1
           },
           {
            "bin_start": 2924.7,
            "bin_end": 3266.4,
            "count": 1
           },
           {
            "bin_start": 3266.4,
            "bin_end": 3608.1,
            "count": 0
           },
           {
            "bin_start": 3608.1,
            "bin_end": 3949.8,
            "count": 0
           },
           {
            "bin_start": 3949.8,
            "bin_end": 4291.5,
            "count": 0
           },
           {
            "bin_start": 4291.5,
            "bin_end": 4633.2,
            "count": 1
           },
           {
            "bin_start": 4633.2,
            "bin_end": 4974.9,
            "count": 0
           },
           {
            "bin_start": 4974.9,
            "bin_end": 5316.6,
            "count": 0
           },
           {
            "bin_start": 5316.6,
            "bin_end": 5658.299999999999,
            "count": 0
           },
           {
            "bin_start": 5658.299999999999,
            "bin_end": 6000,
            "count": 2
           }
          ]
         }
        },
        {
         "name": "CoapplicantIncome",
         "dtype": "float64",
         "stats": {
          "unique_count": 3,
          "nan_count": 0,
          "min": "0.0",
          "max": "2358.0",
          "histogram": [
           {
            "bin_start": 0,
            "bin_end": 235.8,
            "count": 3
           },
           {
            "bin_start": 235.8,
            "bin_end": 471.6,
            "count": 0
           },
           {
            "bin_start": 471.6,
            "bin_end": 707.4000000000001,
            "count": 0
           },
           {
            "bin_start": 707.4000000000001,
            "bin_end": 943.2,
            "count": 0
           },
           {
            "bin_start": 943.2,
            "bin_end": 1179,
            "count": 0
           },
           {
            "bin_start": 1179,
            "bin_end": 1414.8000000000002,
            "count": 0
           },
           {
            "bin_start": 1414.8000000000002,
            "bin_end": 1650.6000000000001,
            "count": 1
           },
           {
            "bin_start": 1650.6000000000001,
            "bin_end": 1886.4,
            "count": 0
           },
           {
            "bin_start": 1886.4,
            "bin_end": 2122.2000000000003,
            "count": 0
           },
           {
            "bin_start": 2122.2000000000003,
            "bin_end": 2358,
            "count": 1
           }
          ]
         }
        },
        {
         "name": "LoanAmount",
         "dtype": "float64",
         "stats": {
          "unique_count": 4,
          "nan_count": 1,
          "min": "66.0",
          "max": "141.0",
          "histogram": [
           {
            "bin_start": 66,
            "bin_end": 73.5,
            "count": 1
           },
           {
            "bin_start": 73.5,
            "bin_end": 81,
            "count": 0
           },
           {
            "bin_start": 81,
            "bin_end": 88.5,
            "count": 0
           },
           {
            "bin_start": 88.5,
            "bin_end": 96,
            "count": 0
           },
           {
            "bin_start": 96,
            "bin_end": 103.5,
            "count": 0
           },
           {
            "bin_start": 103.5,
            "bin_end": 111,
            "count": 0
           },
           {
            "bin_start": 111,
            "bin_end": 118.5,
            "count": 0
           },
           {
            "bin_start": 118.5,
            "bin_end": 126,
            "count": 1
           },
           {
            "bin_start": 126,
            "bin_end": 133.5,
            "count": 1
           },
           {
            "bin_start": 133.5,
            "bin_end": 141,
            "count": 1
           }
          ]
         }
        },
        {
         "name": "Loan_Amount_Term",
         "dtype": "float64",
         "stats": {
          "unique_count": 1,
          "nan_count": 0,
          "min": "360.0",
          "max": "360.0",
          "histogram": [
           {
            "bin_start": 359.5,
            "bin_end": 359.6,
            "count": 0
           },
           {
            "bin_start": 359.6,
            "bin_end": 359.7,
            "count": 0
           },
           {
            "bin_start": 359.7,
            "bin_end": 359.8,
            "count": 0
           },
           {
            "bin_start": 359.8,
            "bin_end": 359.9,
            "count": 0
           },
           {
            "bin_start": 359.9,
            "bin_end": 360,
            "count": 0
           },
           {
            "bin_start": 360,
            "bin_end": 360.1,
            "count": 5
           },
           {
            "bin_start": 360.1,
            "bin_end": 360.2,
            "count": 0
           },
           {
            "bin_start": 360.2,
            "bin_end": 360.3,
            "count": 0
           },
           {
            "bin_start": 360.3,
            "bin_end": 360.4,
            "count": 0
           },
           {
            "bin_start": 360.4,
            "bin_end": 360.5,
            "count": 0
           }
          ]
         }
        },
        {
         "name": "Credit_History",
         "dtype": "float64",
         "stats": {
          "unique_count": 1,
          "nan_count": 0,
          "min": "1.0",
          "max": "1.0",
          "histogram": [
           {
            "bin_start": 0.5,
            "bin_end": 0.6,
            "count": 0
           },
           {
            "bin_start": 0.6,
            "bin_end": 0.7,
            "count": 0
           },
           {
            "bin_start": 0.7,
            "bin_end": 0.8,
            "count": 0
           },
           {
            "bin_start": 0.8,
            "bin_end": 0.9,
            "count": 0
           },
           {
            "bin_start": 0.9,
            "bin_end": 1,
            "count": 0
           },
           {
            "bin_start": 1,
            "bin_end": 1.1,
            "count": 5
           },
           {
            "bin_start": 1.1,
            "bin_end": 1.2000000000000002,
            "count": 0
           },
           {
            "bin_start": 1.2000000000000002,
            "bin_end": 1.3,
            "count": 0
           },
           {
            "bin_start": 1.3,
            "bin_end": 1.4,
            "count": 0
           },
           {
            "bin_start": 1.4,
            "bin_end": 1.5,
            "count": 0
           }
          ]
         }
        },
        {
         "name": "Property_Area",
         "dtype": "object",
         "stats": {
          "unique_count": 2,
          "nan_count": 0,
          "categories": [
           {
            "name": "Urban",
            "count": 4
           },
           {
            "name": "Rural",
            "count": 1
           }
          ]
         }
        },
        {
         "name": "Loan_Status",
         "dtype": "int64",
         "stats": {
          "unique_count": 2,
          "nan_count": 0,
          "min": "0",
          "max": "1",
          "histogram": [
           {
            "bin_start": 0,
            "bin_end": 0.1,
            "count": 1
           },
           {
            "bin_start": 0.1,
            "bin_end": 0.2,
            "count": 0
           },
           {
            "bin_start": 0.2,
            "bin_end": 0.30000000000000004,
            "count": 0
           },
           {
            "bin_start": 0.30000000000000004,
            "bin_end": 0.4,
            "count": 0
           },
           {
            "bin_start": 0.4,
            "bin_end": 0.5,
            "count": 0
           },
           {
            "bin_start": 0.5,
            "bin_end": 0.6000000000000001,
            "count": 0
           },
           {
            "bin_start": 0.6000000000000001,
            "bin_end": 0.7000000000000001,
            "count": 0
           },
           {
            "bin_start": 0.7000000000000001,
            "bin_end": 0.8,
            "count": 0
           },
           {
            "bin_start": 0.8,
            "bin_end": 0.9,
            "count": 0
           },
           {
            "bin_start": 0.9,
            "bin_end": 1,
            "count": 4
           }
          ]
         }
        },
        {
         "name": "_deepnote_index_column",
         "dtype": "int64"
        }
       ],
       "rows": [
        {
         "Loan_ID": "LP001002",
         "Gender": "Male",
         "Married": "No",
         "Dependents": "0",
         "Education": "Graduate",
         "Self_Employed": "No",
         "ApplicantIncome": 5849,
         "CoapplicantIncome": 0,
         "LoanAmount": "nan",
         "Loan_Amount_Term": 360,
         "Credit_History": 1,
         "Property_Area": "Urban",
         "Loan_Status": 1,
         "_deepnote_index_column": 0
        },
        {
         "Loan_ID": "LP001003",
         "Gender": "Male",
         "Married": "Yes",
         "Dependents": "1",
         "Education": "Graduate",
         "Self_Employed": "No",
         "ApplicantIncome": 4583,
         "CoapplicantIncome": 1508,
         "LoanAmount": 128,
         "Loan_Amount_Term": 360,
         "Credit_History": 1,
         "Property_Area": "Rural",
         "Loan_Status": 0,
         "_deepnote_index_column": 1
        },
        {
         "Loan_ID": "LP001005",
         "Gender": "Male",
         "Married": "Yes",
         "Dependents": "0",
         "Education": "Graduate",
         "Self_Employed": "Yes",
         "ApplicantIncome": 3000,
         "CoapplicantIncome": 0,
         "LoanAmount": 66,
         "Loan_Amount_Term": 360,
         "Credit_History": 1,
         "Property_Area": "Urban",
         "Loan_Status": 1,
         "_deepnote_index_column": 2
        },
        {
         "Loan_ID": "LP001006",
         "Gender": "Male",
         "Married": "Yes",
         "Dependents": "0",
         "Education": "Not Graduate",
         "Self_Employed": "No",
         "ApplicantIncome": 2583,
         "CoapplicantIncome": 2358,
         "LoanAmount": 120,
         "Loan_Amount_Term": 360,
         "Credit_History": 1,
         "Property_Area": "Urban",
         "Loan_Status": 1,
         "_deepnote_index_column": 3
        },
        {
         "Loan_ID": "LP001008",
         "Gender": "Male",
         "Married": "No",
         "Dependents": "0",
         "Education": "Graduate",
         "Self_Employed": "No",
         "ApplicantIncome": 6000,
         "CoapplicantIncome": 0,
         "LoanAmount": 141,
         "Loan_Amount_Term": 360,
         "Credit_History": 1,
         "Property_Area": "Urban",
         "Loan_Status": 1,
         "_deepnote_index_column": 4
        }
       ]
      },
      "text/plain": "    Loan_ID Gender Married Dependents     Education Self_Employed  \\\n0  LP001002   Male      No          0      Graduate            No   \n1  LP001003   Male     Yes          1      Graduate            No   \n2  LP001005   Male     Yes          0      Graduate           Yes   \n3  LP001006   Male     Yes          0  Not Graduate            No   \n4  LP001008   Male      No          0      Graduate            No   \n\n   ApplicantIncome  CoapplicantIncome  LoanAmount  Loan_Amount_Term  \\\n0             5849                0.0         NaN             360.0   \n1             4583             1508.0       128.0             360.0   \n2             3000                0.0        66.0             360.0   \n3             2583             2358.0       120.0             360.0   \n4             6000                0.0       141.0             360.0   \n\n   Credit_History Property_Area  Loan_Status  \n0             1.0         Urban            1  \n1             1.0         Rural            0  \n2             1.0         Urban            1  \n3             1.0         Urban            1  \n4             1.0         Urban            1  ",
      "text/html": "<div>\n<style scoped>\n    .dataframe tbody tr th:only-of-type {\n        vertical-align: middle;\n    }\n\n    .dataframe tbody tr th {\n        vertical-align: top;\n    }\n\n    .dataframe thead th {\n        text-align: right;\n    }\n</style>\n<table border=\"1\" class=\"dataframe\">\n  <thead>\n    <tr style=\"text-align: right;\">\n      <th></th>\n      <th>Loan_ID</th>\n      <th>Gender</th>\n      <th>Married</th>\n      <th>Dependents</th>\n      <th>Education</th>\n      <th>Self_Employed</th>\n      <th>ApplicantIncome</th>\n      <th>CoapplicantIncome</th>\n      <th>LoanAmount</th>\n      <th>Loan_Amount_Term</th>\n      <th>Credit_History</th>\n      <th>Property_Area</th>\n      <th>Loan_Status</th>\n    </tr>\n  </thead>\n  <tbody>\n    <tr>\n      <th>0</th>\n      <td>LP001002</td>\n      <td>Male</td>\n      <td>No</td>\n      <td>0</td>\n      <td>Graduate</td>\n      <td>No</td>\n      <td>5849</td>\n      <td>0.0</td>\n      <td>NaN</td>\n      <td>360.0</td>\n      <td>1.0</td>\n      <td>Urban</td>\n      <td>1</td>\n    </tr>\n    <tr>\n      <th>1</th>\n      <td>LP001003</td>\n      <td>Male</td>\n      <td>Yes</td>\n      <td>1</td>\n      <td>Graduate</td>\n      <td>No</td>\n      <td>4583</td>\n      <td>1508.0</td>\n      <td>128.0</td>\n      <td>360.0</td>\n      <td>1.0</td>\n      <td>Rural</td>\n      <td>0</td>\n    </tr>\n    <tr>\n      <th>2</th>\n      <td>LP001005</td>\n      <td>Male</td>\n      <td>Yes</td>\n      <td>0</td>\n      <td>Graduate</td>\n      <td>Yes</td>\n      <td>3000</td>\n      <td>0.0</td>\n      <td>66.0</td>\n      <td>360.0</td>\n      <td>1.0</td>\n      <td>Urban</td>\n      <td>1</td>\n    </tr>\n    <tr>\n      <th>3</th>\n      <td>LP001006</td>\n      <td>Male</td>\n      <td>Yes</td>\n      <td>0</td>\n      <td>Not Graduate</td>\n      <td>No</td>\n      <td>2583</td>\n      <td>2358.0</td>\n      <td>120.0</td>\n      <td>360.0</td>\n      <td>1.0</td>\n      <td>Urban</td>\n      <td>1</td>\n    </tr>\n    <tr>\n      <th>4</th>\n      <td>LP001008</td>\n      <td>Male</td>\n      <td>No</td>\n      <td>0</td>\n      <td>Graduate</td>\n      <td>No</td>\n      <td>6000</td>\n      <td>0.0</td>\n      <td>141.0</td>\n      <td>360.0</td>\n      <td>1.0</td>\n      <td>Urban</td>\n      <td>1</td>\n    </tr>\n  </tbody>\n</table>\n</div>"
     },
     "metadata": {}
    }
   ],
   "execution_count": null
  },
  {
   "cell_type": "code",
   "source": "classify = setup(data = df_caert, target = 'Loan_Status')",
   "metadata": {
    "cell_id": "fd70085a6b13475c9782f672993dc731",
    "tags": [],
    "deepnote_to_be_reexecuted": true,
    "source_hash": "b7492f8b",
    "execution_start": 1659431674762,
    "execution_millis": 26905,
    "deepnote_cell_type": "code",
    "deepnote_cell_height": 703,
    "deepnote_output_heights": [
     611
    ]
   },
   "outputs": [
    {
     "data": {
      "text/plain": "<pandas.io.formats.style.Styler at 0x7fa5da2542b0>",
      "text/html": "<style  type=\"text/css\" >\n#T_120f7_row5_col1,#T_120f7_row44_col1{\n            background-color:  lightgreen;\n        }</style><table id=\"T_120f7_\" ><thead>    <tr>        <th class=\"blank level0\" ></th>        <th class=\"col_heading level0 col0\" >Description</th>        <th class=\"col_heading level0 col1\" >Value</th>    </tr></thead><tbody>\n                <tr>\n                        <th id=\"T_120f7_level0_row0\" class=\"row_heading level0 row0\" >0</th>\n                        <td id=\"T_120f7_row0_col0\" class=\"data row0 col0\" >session_id</td>\n                        <td id=\"T_120f7_row0_col1\" class=\"data row0 col1\" >1749</td>\n            </tr>\n            <tr>\n                        <th id=\"T_120f7_level0_row1\" class=\"row_heading level0 row1\" >1</th>\n                        <td id=\"T_120f7_row1_col0\" class=\"data row1 col0\" >Target</td>\n                        <td id=\"T_120f7_row1_col1\" class=\"data row1 col1\" >Loan_Status</td>\n            </tr>\n            <tr>\n                        <th id=\"T_120f7_level0_row2\" class=\"row_heading level0 row2\" >2</th>\n                        <td id=\"T_120f7_row2_col0\" class=\"data row2 col0\" >Target Type</td>\n                        <td id=\"T_120f7_row2_col1\" class=\"data row2 col1\" >Binary</td>\n            </tr>\n            <tr>\n                        <th id=\"T_120f7_level0_row3\" class=\"row_heading level0 row3\" >3</th>\n                        <td id=\"T_120f7_row3_col0\" class=\"data row3 col0\" >Label Encoded</td>\n                        <td id=\"T_120f7_row3_col1\" class=\"data row3 col1\" >None</td>\n            </tr>\n            <tr>\n                        <th id=\"T_120f7_level0_row4\" class=\"row_heading level0 row4\" >4</th>\n                        <td id=\"T_120f7_row4_col0\" class=\"data row4 col0\" >Original Data</td>\n                        <td id=\"T_120f7_row4_col1\" class=\"data row4 col1\" >(614, 13)</td>\n            </tr>\n            <tr>\n                        <th id=\"T_120f7_level0_row5\" class=\"row_heading level0 row5\" >5</th>\n                        <td id=\"T_120f7_row5_col0\" class=\"data row5 col0\" >Missing Values</td>\n                        <td id=\"T_120f7_row5_col1\" class=\"data row5 col1\" >True</td>\n            </tr>\n            <tr>\n                        <th id=\"T_120f7_level0_row6\" class=\"row_heading level0 row6\" >6</th>\n                        <td id=\"T_120f7_row6_col0\" class=\"data row6 col0\" >Numeric Features</td>\n                        <td id=\"T_120f7_row6_col1\" class=\"data row6 col1\" >3</td>\n            </tr>\n            <tr>\n                        <th id=\"T_120f7_level0_row7\" class=\"row_heading level0 row7\" >7</th>\n                        <td id=\"T_120f7_row7_col0\" class=\"data row7 col0\" >Categorical Features</td>\n                        <td id=\"T_120f7_row7_col1\" class=\"data row7 col1\" >9</td>\n            </tr>\n            <tr>\n                        <th id=\"T_120f7_level0_row8\" class=\"row_heading level0 row8\" >8</th>\n                        <td id=\"T_120f7_row8_col0\" class=\"data row8 col0\" >Ordinal Features</td>\n                        <td id=\"T_120f7_row8_col1\" class=\"data row8 col1\" >False</td>\n            </tr>\n            <tr>\n                        <th id=\"T_120f7_level0_row9\" class=\"row_heading level0 row9\" >9</th>\n                        <td id=\"T_120f7_row9_col0\" class=\"data row9 col0\" >High Cardinality Features</td>\n                        <td id=\"T_120f7_row9_col1\" class=\"data row9 col1\" >False</td>\n            </tr>\n            <tr>\n                        <th id=\"T_120f7_level0_row10\" class=\"row_heading level0 row10\" >10</th>\n                        <td id=\"T_120f7_row10_col0\" class=\"data row10 col0\" >High Cardinality Method</td>\n                        <td id=\"T_120f7_row10_col1\" class=\"data row10 col1\" >None</td>\n            </tr>\n            <tr>\n                        <th id=\"T_120f7_level0_row11\" class=\"row_heading level0 row11\" >11</th>\n                        <td id=\"T_120f7_row11_col0\" class=\"data row11 col0\" >Transformed Train Set</td>\n                        <td id=\"T_120f7_row11_col1\" class=\"data row11 col1\" >(429, 462)</td>\n            </tr>\n            <tr>\n                        <th id=\"T_120f7_level0_row12\" class=\"row_heading level0 row12\" >12</th>\n                        <td id=\"T_120f7_row12_col0\" class=\"data row12 col0\" >Transformed Test Set</td>\n                        <td id=\"T_120f7_row12_col1\" class=\"data row12 col1\" >(185, 462)</td>\n            </tr>\n            <tr>\n                        <th id=\"T_120f7_level0_row13\" class=\"row_heading level0 row13\" >13</th>\n                        <td id=\"T_120f7_row13_col0\" class=\"data row13 col0\" >Shuffle Train-Test</td>\n                        <td id=\"T_120f7_row13_col1\" class=\"data row13 col1\" >True</td>\n            </tr>\n            <tr>\n                        <th id=\"T_120f7_level0_row14\" class=\"row_heading level0 row14\" >14</th>\n                        <td id=\"T_120f7_row14_col0\" class=\"data row14 col0\" >Stratify Train-Test</td>\n                        <td id=\"T_120f7_row14_col1\" class=\"data row14 col1\" >False</td>\n            </tr>\n            <tr>\n                        <th id=\"T_120f7_level0_row15\" class=\"row_heading level0 row15\" >15</th>\n                        <td id=\"T_120f7_row15_col0\" class=\"data row15 col0\" >Fold Generator</td>\n                        <td id=\"T_120f7_row15_col1\" class=\"data row15 col1\" >StratifiedKFold</td>\n            </tr>\n            <tr>\n                        <th id=\"T_120f7_level0_row16\" class=\"row_heading level0 row16\" >16</th>\n                        <td id=\"T_120f7_row16_col0\" class=\"data row16 col0\" >Fold Number</td>\n                        <td id=\"T_120f7_row16_col1\" class=\"data row16 col1\" >10</td>\n            </tr>\n            <tr>\n                        <th id=\"T_120f7_level0_row17\" class=\"row_heading level0 row17\" >17</th>\n                        <td id=\"T_120f7_row17_col0\" class=\"data row17 col0\" >CPU Jobs</td>\n                        <td id=\"T_120f7_row17_col1\" class=\"data row17 col1\" >-1</td>\n            </tr>\n            <tr>\n                        <th id=\"T_120f7_level0_row18\" class=\"row_heading level0 row18\" >18</th>\n                        <td id=\"T_120f7_row18_col0\" class=\"data row18 col0\" >Use GPU</td>\n                        <td id=\"T_120f7_row18_col1\" class=\"data row18 col1\" >False</td>\n            </tr>\n            <tr>\n                        <th id=\"T_120f7_level0_row19\" class=\"row_heading level0 row19\" >19</th>\n                        <td id=\"T_120f7_row19_col0\" class=\"data row19 col0\" >Log Experiment</td>\n                        <td id=\"T_120f7_row19_col1\" class=\"data row19 col1\" >False</td>\n            </tr>\n            <tr>\n                        <th id=\"T_120f7_level0_row20\" class=\"row_heading level0 row20\" >20</th>\n                        <td id=\"T_120f7_row20_col0\" class=\"data row20 col0\" >Experiment Name</td>\n                        <td id=\"T_120f7_row20_col1\" class=\"data row20 col1\" >clf-default-name</td>\n            </tr>\n            <tr>\n                        <th id=\"T_120f7_level0_row21\" class=\"row_heading level0 row21\" >21</th>\n                        <td id=\"T_120f7_row21_col0\" class=\"data row21 col0\" >USI</td>\n                        <td id=\"T_120f7_row21_col1\" class=\"data row21 col1\" >d700</td>\n            </tr>\n            <tr>\n                        <th id=\"T_120f7_level0_row22\" class=\"row_heading level0 row22\" >22</th>\n                        <td id=\"T_120f7_row22_col0\" class=\"data row22 col0\" >Imputation Type</td>\n                        <td id=\"T_120f7_row22_col1\" class=\"data row22 col1\" >simple</td>\n            </tr>\n            <tr>\n                        <th id=\"T_120f7_level0_row23\" class=\"row_heading level0 row23\" >23</th>\n                        <td id=\"T_120f7_row23_col0\" class=\"data row23 col0\" >Iterative Imputation Iteration</td>\n                        <td id=\"T_120f7_row23_col1\" class=\"data row23 col1\" >None</td>\n            </tr>\n            <tr>\n                        <th id=\"T_120f7_level0_row24\" class=\"row_heading level0 row24\" >24</th>\n                        <td id=\"T_120f7_row24_col0\" class=\"data row24 col0\" >Numeric Imputer</td>\n                        <td id=\"T_120f7_row24_col1\" class=\"data row24 col1\" >mean</td>\n            </tr>\n            <tr>\n                        <th id=\"T_120f7_level0_row25\" class=\"row_heading level0 row25\" >25</th>\n                        <td id=\"T_120f7_row25_col0\" class=\"data row25 col0\" >Iterative Imputation Numeric Model</td>\n                        <td id=\"T_120f7_row25_col1\" class=\"data row25 col1\" >None</td>\n            </tr>\n            <tr>\n                        <th id=\"T_120f7_level0_row26\" class=\"row_heading level0 row26\" >26</th>\n                        <td id=\"T_120f7_row26_col0\" class=\"data row26 col0\" >Categorical Imputer</td>\n                        <td id=\"T_120f7_row26_col1\" class=\"data row26 col1\" >constant</td>\n            </tr>\n            <tr>\n                        <th id=\"T_120f7_level0_row27\" class=\"row_heading level0 row27\" >27</th>\n                        <td id=\"T_120f7_row27_col0\" class=\"data row27 col0\" >Iterative Imputation Categorical Model</td>\n                        <td id=\"T_120f7_row27_col1\" class=\"data row27 col1\" >None</td>\n            </tr>\n            <tr>\n                        <th id=\"T_120f7_level0_row28\" class=\"row_heading level0 row28\" >28</th>\n                        <td id=\"T_120f7_row28_col0\" class=\"data row28 col0\" >Unknown Categoricals Handling</td>\n                        <td id=\"T_120f7_row28_col1\" class=\"data row28 col1\" >least_frequent</td>\n            </tr>\n            <tr>\n                        <th id=\"T_120f7_level0_row29\" class=\"row_heading level0 row29\" >29</th>\n                        <td id=\"T_120f7_row29_col0\" class=\"data row29 col0\" >Normalize</td>\n                        <td id=\"T_120f7_row29_col1\" class=\"data row29 col1\" >False</td>\n            </tr>\n            <tr>\n                        <th id=\"T_120f7_level0_row30\" class=\"row_heading level0 row30\" >30</th>\n                        <td id=\"T_120f7_row30_col0\" class=\"data row30 col0\" >Normalize Method</td>\n                        <td id=\"T_120f7_row30_col1\" class=\"data row30 col1\" >None</td>\n            </tr>\n            <tr>\n                        <th id=\"T_120f7_level0_row31\" class=\"row_heading level0 row31\" >31</th>\n                        <td id=\"T_120f7_row31_col0\" class=\"data row31 col0\" >Transformation</td>\n                        <td id=\"T_120f7_row31_col1\" class=\"data row31 col1\" >False</td>\n            </tr>\n            <tr>\n                        <th id=\"T_120f7_level0_row32\" class=\"row_heading level0 row32\" >32</th>\n                        <td id=\"T_120f7_row32_col0\" class=\"data row32 col0\" >Transformation Method</td>\n                        <td id=\"T_120f7_row32_col1\" class=\"data row32 col1\" >None</td>\n            </tr>\n            <tr>\n                        <th id=\"T_120f7_level0_row33\" class=\"row_heading level0 row33\" >33</th>\n                        <td id=\"T_120f7_row33_col0\" class=\"data row33 col0\" >PCA</td>\n                        <td id=\"T_120f7_row33_col1\" class=\"data row33 col1\" >False</td>\n            </tr>\n            <tr>\n                        <th id=\"T_120f7_level0_row34\" class=\"row_heading level0 row34\" >34</th>\n                        <td id=\"T_120f7_row34_col0\" class=\"data row34 col0\" >PCA Method</td>\n                        <td id=\"T_120f7_row34_col1\" class=\"data row34 col1\" >None</td>\n            </tr>\n            <tr>\n                        <th id=\"T_120f7_level0_row35\" class=\"row_heading level0 row35\" >35</th>\n                        <td id=\"T_120f7_row35_col0\" class=\"data row35 col0\" >PCA Components</td>\n                        <td id=\"T_120f7_row35_col1\" class=\"data row35 col1\" >None</td>\n            </tr>\n            <tr>\n                        <th id=\"T_120f7_level0_row36\" class=\"row_heading level0 row36\" >36</th>\n                        <td id=\"T_120f7_row36_col0\" class=\"data row36 col0\" >Ignore Low Variance</td>\n                        <td id=\"T_120f7_row36_col1\" class=\"data row36 col1\" >False</td>\n            </tr>\n            <tr>\n                        <th id=\"T_120f7_level0_row37\" class=\"row_heading level0 row37\" >37</th>\n                        <td id=\"T_120f7_row37_col0\" class=\"data row37 col0\" >Combine Rare Levels</td>\n                        <td id=\"T_120f7_row37_col1\" class=\"data row37 col1\" >False</td>\n            </tr>\n            <tr>\n                        <th id=\"T_120f7_level0_row38\" class=\"row_heading level0 row38\" >38</th>\n                        <td id=\"T_120f7_row38_col0\" class=\"data row38 col0\" >Rare Level Threshold</td>\n                        <td id=\"T_120f7_row38_col1\" class=\"data row38 col1\" >None</td>\n            </tr>\n            <tr>\n                        <th id=\"T_120f7_level0_row39\" class=\"row_heading level0 row39\" >39</th>\n                        <td id=\"T_120f7_row39_col0\" class=\"data row39 col0\" >Numeric Binning</td>\n                        <td id=\"T_120f7_row39_col1\" class=\"data row39 col1\" >False</td>\n            </tr>\n            <tr>\n                        <th id=\"T_120f7_level0_row40\" class=\"row_heading level0 row40\" >40</th>\n                        <td id=\"T_120f7_row40_col0\" class=\"data row40 col0\" >Remove Outliers</td>\n                        <td id=\"T_120f7_row40_col1\" class=\"data row40 col1\" >False</td>\n            </tr>\n            <tr>\n                        <th id=\"T_120f7_level0_row41\" class=\"row_heading level0 row41\" >41</th>\n                        <td id=\"T_120f7_row41_col0\" class=\"data row41 col0\" >Outliers Threshold</td>\n                        <td id=\"T_120f7_row41_col1\" class=\"data row41 col1\" >None</td>\n            </tr>\n            <tr>\n                        <th id=\"T_120f7_level0_row42\" class=\"row_heading level0 row42\" >42</th>\n                        <td id=\"T_120f7_row42_col0\" class=\"data row42 col0\" >Remove Multicollinearity</td>\n                        <td id=\"T_120f7_row42_col1\" class=\"data row42 col1\" >False</td>\n            </tr>\n            <tr>\n                        <th id=\"T_120f7_level0_row43\" class=\"row_heading level0 row43\" >43</th>\n                        <td id=\"T_120f7_row43_col0\" class=\"data row43 col0\" >Multicollinearity Threshold</td>\n                        <td id=\"T_120f7_row43_col1\" class=\"data row43 col1\" >None</td>\n            </tr>\n            <tr>\n                        <th id=\"T_120f7_level0_row44\" class=\"row_heading level0 row44\" >44</th>\n                        <td id=\"T_120f7_row44_col0\" class=\"data row44 col0\" >Remove Perfect Collinearity</td>\n                        <td id=\"T_120f7_row44_col1\" class=\"data row44 col1\" >True</td>\n            </tr>\n            <tr>\n                        <th id=\"T_120f7_level0_row45\" class=\"row_heading level0 row45\" >45</th>\n                        <td id=\"T_120f7_row45_col0\" class=\"data row45 col0\" >Clustering</td>\n                        <td id=\"T_120f7_row45_col1\" class=\"data row45 col1\" >False</td>\n            </tr>\n            <tr>\n                        <th id=\"T_120f7_level0_row46\" class=\"row_heading level0 row46\" >46</th>\n                        <td id=\"T_120f7_row46_col0\" class=\"data row46 col0\" >Clustering Iteration</td>\n                        <td id=\"T_120f7_row46_col1\" class=\"data row46 col1\" >None</td>\n            </tr>\n            <tr>\n                        <th id=\"T_120f7_level0_row47\" class=\"row_heading level0 row47\" >47</th>\n                        <td id=\"T_120f7_row47_col0\" class=\"data row47 col0\" >Polynomial Features</td>\n                        <td id=\"T_120f7_row47_col1\" class=\"data row47 col1\" >False</td>\n            </tr>\n            <tr>\n                        <th id=\"T_120f7_level0_row48\" class=\"row_heading level0 row48\" >48</th>\n                        <td id=\"T_120f7_row48_col0\" class=\"data row48 col0\" >Polynomial Degree</td>\n                        <td id=\"T_120f7_row48_col1\" class=\"data row48 col1\" >None</td>\n            </tr>\n            <tr>\n                        <th id=\"T_120f7_level0_row49\" class=\"row_heading level0 row49\" >49</th>\n                        <td id=\"T_120f7_row49_col0\" class=\"data row49 col0\" >Trignometry Features</td>\n                        <td id=\"T_120f7_row49_col1\" class=\"data row49 col1\" >False</td>\n            </tr>\n            <tr>\n                        <th id=\"T_120f7_level0_row50\" class=\"row_heading level0 row50\" >50</th>\n                        <td id=\"T_120f7_row50_col0\" class=\"data row50 col0\" >Polynomial Threshold</td>\n                        <td id=\"T_120f7_row50_col1\" class=\"data row50 col1\" >None</td>\n            </tr>\n            <tr>\n                        <th id=\"T_120f7_level0_row51\" class=\"row_heading level0 row51\" >51</th>\n                        <td id=\"T_120f7_row51_col0\" class=\"data row51 col0\" >Group Features</td>\n                        <td id=\"T_120f7_row51_col1\" class=\"data row51 col1\" >False</td>\n            </tr>\n            <tr>\n                        <th id=\"T_120f7_level0_row52\" class=\"row_heading level0 row52\" >52</th>\n                        <td id=\"T_120f7_row52_col0\" class=\"data row52 col0\" >Feature Selection</td>\n                        <td id=\"T_120f7_row52_col1\" class=\"data row52 col1\" >False</td>\n            </tr>\n            <tr>\n                        <th id=\"T_120f7_level0_row53\" class=\"row_heading level0 row53\" >53</th>\n                        <td id=\"T_120f7_row53_col0\" class=\"data row53 col0\" >Feature Selection Method</td>\n                        <td id=\"T_120f7_row53_col1\" class=\"data row53 col1\" >classic</td>\n            </tr>\n            <tr>\n                        <th id=\"T_120f7_level0_row54\" class=\"row_heading level0 row54\" >54</th>\n                        <td id=\"T_120f7_row54_col0\" class=\"data row54 col0\" >Features Selection Threshold</td>\n                        <td id=\"T_120f7_row54_col1\" class=\"data row54 col1\" >None</td>\n            </tr>\n            <tr>\n                        <th id=\"T_120f7_level0_row55\" class=\"row_heading level0 row55\" >55</th>\n                        <td id=\"T_120f7_row55_col0\" class=\"data row55 col0\" >Feature Interaction</td>\n                        <td id=\"T_120f7_row55_col1\" class=\"data row55 col1\" >False</td>\n            </tr>\n            <tr>\n                        <th id=\"T_120f7_level0_row56\" class=\"row_heading level0 row56\" >56</th>\n                        <td id=\"T_120f7_row56_col0\" class=\"data row56 col0\" >Feature Ratio</td>\n                        <td id=\"T_120f7_row56_col1\" class=\"data row56 col1\" >False</td>\n            </tr>\n            <tr>\n                        <th id=\"T_120f7_level0_row57\" class=\"row_heading level0 row57\" >57</th>\n                        <td id=\"T_120f7_row57_col0\" class=\"data row57 col0\" >Interaction Threshold</td>\n                        <td id=\"T_120f7_row57_col1\" class=\"data row57 col1\" >None</td>\n            </tr>\n            <tr>\n                        <th id=\"T_120f7_level0_row58\" class=\"row_heading level0 row58\" >58</th>\n                        <td id=\"T_120f7_row58_col0\" class=\"data row58 col0\" >Fix Imbalance</td>\n                        <td id=\"T_120f7_row58_col1\" class=\"data row58 col1\" >False</td>\n            </tr>\n            <tr>\n                        <th id=\"T_120f7_level0_row59\" class=\"row_heading level0 row59\" >59</th>\n                        <td id=\"T_120f7_row59_col0\" class=\"data row59 col0\" >Fix Imbalance Method</td>\n                        <td id=\"T_120f7_row59_col1\" class=\"data row59 col1\" >SMOTE</td>\n            </tr>\n    </tbody></table>"
     },
     "metadata": {},
     "output_type": "display_data"
    }
   ],
   "execution_count": null
  },
  {
   "cell_type": "code",
   "source": "compare_models()",
   "metadata": {
    "cell_id": "863cced8eaf34be1992489814d6dd730",
    "tags": [],
    "deepnote_to_be_reexecuted": true,
    "source_hash": "35e80024",
    "execution_start": 1659431701543,
    "execution_millis": 36583,
    "deepnote_cell_type": "code",
    "deepnote_cell_height": 715,
    "deepnote_output_heights": [
     438,
     154
    ]
   },
   "outputs": [
    {
     "data": {
      "text/plain": "<pandas.io.formats.style.Styler at 0x7fa5d993bbe0>",
      "text/html": "<style  type=\"text/css\" >\n    #T_21a6a_ th {\n          text-align: left;\n    }#T_21a6a_row0_col0,#T_21a6a_row0_col2,#T_21a6a_row0_col3,#T_21a6a_row0_col5,#T_21a6a_row1_col0,#T_21a6a_row1_col1,#T_21a6a_row1_col2,#T_21a6a_row1_col3,#T_21a6a_row1_col4,#T_21a6a_row1_col6,#T_21a6a_row1_col7,#T_21a6a_row2_col0,#T_21a6a_row2_col1,#T_21a6a_row2_col3,#T_21a6a_row2_col4,#T_21a6a_row2_col5,#T_21a6a_row2_col6,#T_21a6a_row2_col7,#T_21a6a_row3_col0,#T_21a6a_row3_col1,#T_21a6a_row3_col2,#T_21a6a_row3_col3,#T_21a6a_row3_col4,#T_21a6a_row3_col5,#T_21a6a_row3_col6,#T_21a6a_row3_col7,#T_21a6a_row4_col0,#T_21a6a_row4_col1,#T_21a6a_row4_col2,#T_21a6a_row4_col3,#T_21a6a_row4_col4,#T_21a6a_row4_col5,#T_21a6a_row4_col6,#T_21a6a_row4_col7,#T_21a6a_row5_col0,#T_21a6a_row5_col1,#T_21a6a_row5_col2,#T_21a6a_row5_col3,#T_21a6a_row5_col4,#T_21a6a_row5_col5,#T_21a6a_row5_col6,#T_21a6a_row5_col7,#T_21a6a_row6_col0,#T_21a6a_row6_col1,#T_21a6a_row6_col2,#T_21a6a_row6_col3,#T_21a6a_row6_col4,#T_21a6a_row6_col5,#T_21a6a_row6_col6,#T_21a6a_row6_col7,#T_21a6a_row7_col0,#T_21a6a_row7_col1,#T_21a6a_row7_col2,#T_21a6a_row7_col3,#T_21a6a_row7_col4,#T_21a6a_row7_col5,#T_21a6a_row7_col6,#T_21a6a_row7_col7,#T_21a6a_row8_col0,#T_21a6a_row8_col1,#T_21a6a_row8_col2,#T_21a6a_row8_col3,#T_21a6a_row8_col4,#T_21a6a_row8_col5,#T_21a6a_row8_col6,#T_21a6a_row8_col7,#T_21a6a_row9_col0,#T_21a6a_row9_col1,#T_21a6a_row9_col2,#T_21a6a_row9_col4,#T_21a6a_row9_col5,#T_21a6a_row9_col6,#T_21a6a_row9_col7,#T_21a6a_row10_col0,#T_21a6a_row10_col1,#T_21a6a_row10_col2,#T_21a6a_row10_col3,#T_21a6a_row10_col4,#T_21a6a_row10_col5,#T_21a6a_row10_col6,#T_21a6a_row10_col7,#T_21a6a_row11_col0,#T_21a6a_row11_col1,#T_21a6a_row11_col2,#T_21a6a_row11_col3,#T_21a6a_row11_col4,#T_21a6a_row11_col5,#T_21a6a_row11_col6,#T_21a6a_row11_col7,#T_21a6a_row12_col0,#T_21a6a_row12_col1,#T_21a6a_row12_col2,#T_21a6a_row12_col3,#T_21a6a_row12_col4,#T_21a6a_row12_col5,#T_21a6a_row12_col6,#T_21a6a_row12_col7,#T_21a6a_row13_col0,#T_21a6a_row13_col1,#T_21a6a_row13_col2,#T_21a6a_row13_col3,#T_21a6a_row13_col4,#T_21a6a_row13_col5,#T_21a6a_row13_col6,#T_21a6a_row13_col7{\n            text-align:  left;\n            text-align:  left;\n        }#T_21a6a_row0_col1,#T_21a6a_row0_col4,#T_21a6a_row0_col6,#T_21a6a_row0_col7,#T_21a6a_row1_col5,#T_21a6a_row2_col2,#T_21a6a_row9_col3{\n            text-align:  left;\n            text-align:  left;\n            background-color:  yellow;\n        }#T_21a6a_row0_col8,#T_21a6a_row1_col8,#T_21a6a_row2_col8,#T_21a6a_row3_col8,#T_21a6a_row4_col8,#T_21a6a_row5_col8,#T_21a6a_row6_col8,#T_21a6a_row7_col8,#T_21a6a_row8_col8,#T_21a6a_row10_col8,#T_21a6a_row11_col8,#T_21a6a_row12_col8,#T_21a6a_row13_col8{\n            text-align:  left;\n            text-align:  left;\n            background-color:  lightgrey;\n        }#T_21a6a_row9_col8{\n            text-align:  left;\n            text-align:  left;\n            background-color:  yellow;\n            background-color:  lightgrey;\n        }</style><table id=\"T_21a6a_\" ><thead>    <tr>        <th class=\"blank level0\" ></th>        <th class=\"col_heading level0 col0\" >Model</th>        <th class=\"col_heading level0 col1\" >Accuracy</th>        <th class=\"col_heading level0 col2\" >AUC</th>        <th class=\"col_heading level0 col3\" >Recall</th>        <th class=\"col_heading level0 col4\" >Prec.</th>        <th class=\"col_heading level0 col5\" >F1</th>        <th class=\"col_heading level0 col6\" >Kappa</th>        <th class=\"col_heading level0 col7\" >MCC</th>        <th class=\"col_heading level0 col8\" >TT (Sec)</th>    </tr></thead><tbody>\n                <tr>\n                        <th id=\"T_21a6a_level0_row0\" class=\"row_heading level0 row0\" >et</th>\n                        <td id=\"T_21a6a_row0_col0\" class=\"data row0 col0\" >Extra Trees Classifier</td>\n                        <td id=\"T_21a6a_row0_col1\" class=\"data row0 col1\" >0.8086</td>\n                        <td id=\"T_21a6a_row0_col2\" class=\"data row0 col2\" >0.7248</td>\n                        <td id=\"T_21a6a_row0_col3\" class=\"data row0 col3\" >0.9731</td>\n                        <td id=\"T_21a6a_row0_col4\" class=\"data row0 col4\" >0.8008</td>\n                        <td id=\"T_21a6a_row0_col5\" class=\"data row0 col5\" >0.8774</td>\n                        <td id=\"T_21a6a_row0_col6\" class=\"data row0 col6\" >0.4593</td>\n                        <td id=\"T_21a6a_row0_col7\" class=\"data row0 col7\" >0.5096</td>\n                        <td id=\"T_21a6a_row0_col8\" class=\"data row0 col8\" >0.3160</td>\n            </tr>\n            <tr>\n                        <th id=\"T_21a6a_level0_row1\" class=\"row_heading level0 row1\" >gbc</th>\n                        <td id=\"T_21a6a_row1_col0\" class=\"data row1 col0\" >Gradient Boosting Classifier</td>\n                        <td id=\"T_21a6a_row1_col1\" class=\"data row1 col1\" >0.8085</td>\n                        <td id=\"T_21a6a_row1_col2\" class=\"data row1 col2\" >0.6980</td>\n                        <td id=\"T_21a6a_row1_col3\" class=\"data row1 col3\" >0.9798</td>\n                        <td id=\"T_21a6a_row1_col4\" class=\"data row1 col4\" >0.7974</td>\n                        <td id=\"T_21a6a_row1_col5\" class=\"data row1 col5\" >0.8782</td>\n                        <td id=\"T_21a6a_row1_col6\" class=\"data row1 col6\" >0.4534</td>\n                        <td id=\"T_21a6a_row1_col7\" class=\"data row1 col7\" >0.5068</td>\n                        <td id=\"T_21a6a_row1_col8\" class=\"data row1 col8\" >0.7610</td>\n            </tr>\n            <tr>\n                        <th id=\"T_21a6a_level0_row2\" class=\"row_heading level0 row2\" >lda</th>\n                        <td id=\"T_21a6a_row2_col0\" class=\"data row2 col0\" >Linear Discriminant Analysis</td>\n                        <td id=\"T_21a6a_row2_col1\" class=\"data row2 col1\" >0.8039</td>\n                        <td id=\"T_21a6a_row2_col2\" class=\"data row2 col2\" >0.7286</td>\n                        <td id=\"T_21a6a_row2_col3\" class=\"data row2 col3\" >0.9798</td>\n                        <td id=\"T_21a6a_row2_col4\" class=\"data row2 col4\" >0.7931</td>\n                        <td id=\"T_21a6a_row2_col5\" class=\"data row2 col5\" >0.8755</td>\n                        <td id=\"T_21a6a_row2_col6\" class=\"data row2 col6\" >0.4377</td>\n                        <td id=\"T_21a6a_row2_col7\" class=\"data row2 col7\" >0.4940</td>\n                        <td id=\"T_21a6a_row2_col8\" class=\"data row2 col8\" >0.1090</td>\n            </tr>\n            <tr>\n                        <th id=\"T_21a6a_level0_row3\" class=\"row_heading level0 row3\" >rf</th>\n                        <td id=\"T_21a6a_row3_col0\" class=\"data row3 col0\" >Random Forest Classifier</td>\n                        <td id=\"T_21a6a_row3_col1\" class=\"data row3 col1\" >0.8016</td>\n                        <td id=\"T_21a6a_row3_col2\" class=\"data row3 col2\" >0.7196</td>\n                        <td id=\"T_21a6a_row3_col3\" class=\"data row3 col3\" >0.9698</td>\n                        <td id=\"T_21a6a_row3_col4\" class=\"data row3 col4\" >0.7959</td>\n                        <td id=\"T_21a6a_row3_col5\" class=\"data row3 col5\" >0.8731</td>\n                        <td id=\"T_21a6a_row3_col6\" class=\"data row3 col6\" >0.4380</td>\n                        <td id=\"T_21a6a_row3_col7\" class=\"data row3 col7\" >0.4845</td>\n                        <td id=\"T_21a6a_row3_col8\" class=\"data row3 col8\" >0.3090</td>\n            </tr>\n            <tr>\n                        <th id=\"T_21a6a_level0_row4\" class=\"row_heading level0 row4\" >lr</th>\n                        <td id=\"T_21a6a_row4_col0\" class=\"data row4 col0\" >Logistic Regression</td>\n                        <td id=\"T_21a6a_row4_col1\" class=\"data row4 col1\" >0.7969</td>\n                        <td id=\"T_21a6a_row4_col2\" class=\"data row4 col2\" >0.7266</td>\n                        <td id=\"T_21a6a_row4_col3\" class=\"data row4 col3\" >0.9598</td>\n                        <td id=\"T_21a6a_row4_col4\" class=\"data row4 col4\" >0.7955</td>\n                        <td id=\"T_21a6a_row4_col5\" class=\"data row4 col5\" >0.8691</td>\n                        <td id=\"T_21a6a_row4_col6\" class=\"data row4 col6\" >0.4341</td>\n                        <td id=\"T_21a6a_row4_col7\" class=\"data row4 col7\" >0.4704</td>\n                        <td id=\"T_21a6a_row4_col8\" class=\"data row4 col8\" >0.1430</td>\n            </tr>\n            <tr>\n                        <th id=\"T_21a6a_level0_row5\" class=\"row_heading level0 row5\" >ada</th>\n                        <td id=\"T_21a6a_row5_col0\" class=\"data row5 col0\" >Ada Boost Classifier</td>\n                        <td id=\"T_21a6a_row5_col1\" class=\"data row5 col1\" >0.7760</td>\n                        <td id=\"T_21a6a_row5_col2\" class=\"data row5 col2\" >0.6883</td>\n                        <td id=\"T_21a6a_row5_col3\" class=\"data row5 col3\" >0.9230</td>\n                        <td id=\"T_21a6a_row5_col4\" class=\"data row5 col4\" >0.7953</td>\n                        <td id=\"T_21a6a_row5_col5\" class=\"data row5 col5\" >0.8522</td>\n                        <td id=\"T_21a6a_row5_col6\" class=\"data row5 col6\" >0.3944</td>\n                        <td id=\"T_21a6a_row5_col7\" class=\"data row5 col7\" >0.4246</td>\n                        <td id=\"T_21a6a_row5_col8\" class=\"data row5 col8\" >0.1820</td>\n            </tr>\n            <tr>\n                        <th id=\"T_21a6a_level0_row6\" class=\"row_heading level0 row6\" >nb</th>\n                        <td id=\"T_21a6a_row6_col0\" class=\"data row6 col0\" >Naive Bayes</td>\n                        <td id=\"T_21a6a_row6_col1\" class=\"data row6 col1\" >0.7458</td>\n                        <td id=\"T_21a6a_row6_col2\" class=\"data row6 col2\" >0.7006</td>\n                        <td id=\"T_21a6a_row6_col3\" class=\"data row6 col3\" >0.8798</td>\n                        <td id=\"T_21a6a_row6_col4\" class=\"data row6 col4\" >0.7867</td>\n                        <td id=\"T_21a6a_row6_col5\" class=\"data row6 col5\" >0.8284</td>\n                        <td id=\"T_21a6a_row6_col6\" class=\"data row6 col6\" >0.3365</td>\n                        <td id=\"T_21a6a_row6_col7\" class=\"data row6 col7\" >0.3466</td>\n                        <td id=\"T_21a6a_row6_col8\" class=\"data row6 col8\" >0.0330</td>\n            </tr>\n            <tr>\n                        <th id=\"T_21a6a_level0_row7\" class=\"row_heading level0 row7\" >lightgbm</th>\n                        <td id=\"T_21a6a_row7_col0\" class=\"data row7 col0\" >Light Gradient Boosting Machine</td>\n                        <td id=\"T_21a6a_row7_col1\" class=\"data row7 col1\" >0.7435</td>\n                        <td id=\"T_21a6a_row7_col2\" class=\"data row7 col2\" >0.7183</td>\n                        <td id=\"T_21a6a_row7_col3\" class=\"data row7 col3\" >0.8563</td>\n                        <td id=\"T_21a6a_row7_col4\" class=\"data row7 col4\" >0.7949</td>\n                        <td id=\"T_21a6a_row7_col5\" class=\"data row7 col5\" >0.8230</td>\n                        <td id=\"T_21a6a_row7_col6\" class=\"data row7 col6\" >0.3558</td>\n                        <td id=\"T_21a6a_row7_col7\" class=\"data row7 col7\" >0.3632</td>\n                        <td id=\"T_21a6a_row7_col8\" class=\"data row7 col8\" >0.0770</td>\n            </tr>\n            <tr>\n                        <th id=\"T_21a6a_level0_row8\" class=\"row_heading level0 row8\" >dt</th>\n                        <td id=\"T_21a6a_row8_col0\" class=\"data row8 col0\" >Decision Tree Classifier</td>\n                        <td id=\"T_21a6a_row8_col1\" class=\"data row8 col1\" >0.7410</td>\n                        <td id=\"T_21a6a_row8_col2\" class=\"data row8 col2\" >0.6666</td>\n                        <td id=\"T_21a6a_row8_col3\" class=\"data row8 col3\" >0.8562</td>\n                        <td id=\"T_21a6a_row8_col4\" class=\"data row8 col4\" >0.7929</td>\n                        <td id=\"T_21a6a_row8_col5\" class=\"data row8 col5\" >0.8200</td>\n                        <td id=\"T_21a6a_row8_col6\" class=\"data row8 col6\" >0.3493</td>\n                        <td id=\"T_21a6a_row8_col7\" class=\"data row8 col7\" >0.3643</td>\n                        <td id=\"T_21a6a_row8_col8\" class=\"data row8 col8\" >0.0350</td>\n            </tr>\n            <tr>\n                        <th id=\"T_21a6a_level0_row9\" class=\"row_heading level0 row9\" >dummy</th>\n                        <td id=\"T_21a6a_row9_col0\" class=\"data row9 col0\" >Dummy Classifier</td>\n                        <td id=\"T_21a6a_row9_col1\" class=\"data row9 col1\" >0.6970</td>\n                        <td id=\"T_21a6a_row9_col2\" class=\"data row9 col2\" >0.5000</td>\n                        <td id=\"T_21a6a_row9_col3\" class=\"data row9 col3\" >1.0000</td>\n                        <td id=\"T_21a6a_row9_col4\" class=\"data row9 col4\" >0.6970</td>\n                        <td id=\"T_21a6a_row9_col5\" class=\"data row9 col5\" >0.8214</td>\n                        <td id=\"T_21a6a_row9_col6\" class=\"data row9 col6\" >0.0000</td>\n                        <td id=\"T_21a6a_row9_col7\" class=\"data row9 col7\" >0.0000</td>\n                        <td id=\"T_21a6a_row9_col8\" class=\"data row9 col8\" >0.0210</td>\n            </tr>\n            <tr>\n                        <th id=\"T_21a6a_level0_row10\" class=\"row_heading level0 row10\" >ridge</th>\n                        <td id=\"T_21a6a_row10_col0\" class=\"data row10 col0\" >Ridge Classifier</td>\n                        <td id=\"T_21a6a_row10_col1\" class=\"data row10 col1\" >0.6877</td>\n                        <td id=\"T_21a6a_row10_col2\" class=\"data row10 col2\" >0.0000</td>\n                        <td id=\"T_21a6a_row10_col3\" class=\"data row10 col3\" >0.9800</td>\n                        <td id=\"T_21a6a_row10_col4\" class=\"data row10 col4\" >0.6958</td>\n                        <td id=\"T_21a6a_row10_col5\" class=\"data row10 col5\" >0.8131</td>\n                        <td id=\"T_21a6a_row10_col6\" class=\"data row10 col6\" >-0.0052</td>\n                        <td id=\"T_21a6a_row10_col7\" class=\"data row10 col7\" >-0.0054</td>\n                        <td id=\"T_21a6a_row10_col8\" class=\"data row10 col8\" >0.0440</td>\n            </tr>\n            <tr>\n                        <th id=\"T_21a6a_level0_row11\" class=\"row_heading level0 row11\" >knn</th>\n                        <td id=\"T_21a6a_row11_col0\" class=\"data row11 col0\" >K Neighbors Classifier</td>\n                        <td id=\"T_21a6a_row11_col1\" class=\"data row11 col1\" >0.6411</td>\n                        <td id=\"T_21a6a_row11_col2\" class=\"data row11 col2\" >0.5406</td>\n                        <td id=\"T_21a6a_row11_col3\" class=\"data row11 col3\" >0.8297</td>\n                        <td id=\"T_21a6a_row11_col4\" class=\"data row11 col4\" >0.7060</td>\n                        <td id=\"T_21a6a_row11_col5\" class=\"data row11 col5\" >0.7619</td>\n                        <td id=\"T_21a6a_row11_col6\" class=\"data row11 col6\" >0.0447</td>\n                        <td id=\"T_21a6a_row11_col7\" class=\"data row11 col7\" >0.0527</td>\n                        <td id=\"T_21a6a_row11_col8\" class=\"data row11 col8\" >0.0540</td>\n            </tr>\n            <tr>\n                        <th id=\"T_21a6a_level0_row12\" class=\"row_heading level0 row12\" >qda</th>\n                        <td id=\"T_21a6a_row12_col0\" class=\"data row12 col0\" >Quadratic Discriminant Analysis</td>\n                        <td id=\"T_21a6a_row12_col1\" class=\"data row12 col1\" >0.5641</td>\n                        <td id=\"T_21a6a_row12_col2\" class=\"data row12 col2\" >0.5329</td>\n                        <td id=\"T_21a6a_row12_col3\" class=\"data row12 col3\" >0.6120</td>\n                        <td id=\"T_21a6a_row12_col4\" class=\"data row12 col4\" >0.7212</td>\n                        <td id=\"T_21a6a_row12_col5\" class=\"data row12 col5\" >0.6562</td>\n                        <td id=\"T_21a6a_row12_col6\" class=\"data row12 col6\" >0.0610</td>\n                        <td id=\"T_21a6a_row12_col7\" class=\"data row12 col7\" >0.0639</td>\n                        <td id=\"T_21a6a_row12_col8\" class=\"data row12 col8\" >0.0680</td>\n            </tr>\n            <tr>\n                        <th id=\"T_21a6a_level0_row13\" class=\"row_heading level0 row13\" >svm</th>\n                        <td id=\"T_21a6a_row13_col0\" class=\"data row13 col0\" >SVM - Linear Kernel</td>\n                        <td id=\"T_21a6a_row13_col1\" class=\"data row13 col1\" >0.4597</td>\n                        <td id=\"T_21a6a_row13_col2\" class=\"data row13 col2\" >0.0000</td>\n                        <td id=\"T_21a6a_row13_col3\" class=\"data row13 col3\" >0.4233</td>\n                        <td id=\"T_21a6a_row13_col4\" class=\"data row13 col4\" >0.6127</td>\n                        <td id=\"T_21a6a_row13_col5\" class=\"data row13 col5\" >0.4574</td>\n                        <td id=\"T_21a6a_row13_col6\" class=\"data row13 col6\" >-0.0245</td>\n                        <td id=\"T_21a6a_row13_col7\" class=\"data row13 col7\" >-0.0277</td>\n                        <td id=\"T_21a6a_row13_col8\" class=\"data row13 col8\" >0.0330</td>\n            </tr>\n    </tbody></table>"
     },
     "metadata": {},
     "output_type": "display_data"
    },
    {
     "output_type": "execute_result",
     "execution_count": 91,
     "data": {
      "text/plain": "ExtraTreesClassifier(bootstrap=False, ccp_alpha=0.0, class_weight=None,\n                     criterion='gini', max_depth=None, max_features='auto',\n                     max_leaf_nodes=None, max_samples=None,\n                     min_impurity_decrease=0.0, min_impurity_split=None,\n                     min_samples_leaf=1, min_samples_split=2,\n                     min_weight_fraction_leaf=0.0, n_estimators=100, n_jobs=-1,\n                     oob_score=False, random_state=1749, verbose=0,\n                     warm_start=False)"
     },
     "metadata": {}
    }
   ],
   "execution_count": null
  },
  {
   "cell_type": "code",
   "source": "compare_models(n_select = 3, sort='F1')",
   "metadata": {
    "cell_id": "7970ff01cd4c4736b0da64516dd86359",
    "tags": [],
    "deepnote_to_be_reexecuted": true,
    "source_hash": "845a3438",
    "execution_start": 1659431749607,
    "execution_millis": 31289,
    "deepnote_cell_type": "code",
    "deepnote_cell_height": 943,
    "deepnote_output_heights": [
     438,
     382
    ]
   },
   "outputs": [
    {
     "data": {
      "text/plain": "<pandas.io.formats.style.Styler at 0x7fa5da14be20>",
      "text/html": "<style  type=\"text/css\" >\n    #T_b13d8_ th {\n          text-align: left;\n    }#T_b13d8_row0_col0,#T_b13d8_row0_col1,#T_b13d8_row0_col2,#T_b13d8_row0_col3,#T_b13d8_row0_col4,#T_b13d8_row0_col6,#T_b13d8_row0_col7,#T_b13d8_row1_col0,#T_b13d8_row1_col2,#T_b13d8_row1_col3,#T_b13d8_row1_col5,#T_b13d8_row2_col0,#T_b13d8_row2_col1,#T_b13d8_row2_col3,#T_b13d8_row2_col4,#T_b13d8_row2_col5,#T_b13d8_row2_col6,#T_b13d8_row2_col7,#T_b13d8_row3_col0,#T_b13d8_row3_col1,#T_b13d8_row3_col2,#T_b13d8_row3_col3,#T_b13d8_row3_col4,#T_b13d8_row3_col5,#T_b13d8_row3_col6,#T_b13d8_row3_col7,#T_b13d8_row4_col0,#T_b13d8_row4_col1,#T_b13d8_row4_col2,#T_b13d8_row4_col3,#T_b13d8_row4_col4,#T_b13d8_row4_col5,#T_b13d8_row4_col6,#T_b13d8_row4_col7,#T_b13d8_row5_col0,#T_b13d8_row5_col1,#T_b13d8_row5_col2,#T_b13d8_row5_col3,#T_b13d8_row5_col4,#T_b13d8_row5_col5,#T_b13d8_row5_col6,#T_b13d8_row5_col7,#T_b13d8_row6_col0,#T_b13d8_row6_col1,#T_b13d8_row6_col2,#T_b13d8_row6_col3,#T_b13d8_row6_col4,#T_b13d8_row6_col5,#T_b13d8_row6_col6,#T_b13d8_row6_col7,#T_b13d8_row7_col0,#T_b13d8_row7_col1,#T_b13d8_row7_col2,#T_b13d8_row7_col3,#T_b13d8_row7_col4,#T_b13d8_row7_col5,#T_b13d8_row7_col6,#T_b13d8_row7_col7,#T_b13d8_row8_col0,#T_b13d8_row8_col1,#T_b13d8_row8_col2,#T_b13d8_row8_col4,#T_b13d8_row8_col5,#T_b13d8_row8_col6,#T_b13d8_row8_col7,#T_b13d8_row9_col0,#T_b13d8_row9_col1,#T_b13d8_row9_col2,#T_b13d8_row9_col3,#T_b13d8_row9_col4,#T_b13d8_row9_col5,#T_b13d8_row9_col6,#T_b13d8_row9_col7,#T_b13d8_row10_col0,#T_b13d8_row10_col1,#T_b13d8_row10_col2,#T_b13d8_row10_col3,#T_b13d8_row10_col4,#T_b13d8_row10_col5,#T_b13d8_row10_col6,#T_b13d8_row10_col7,#T_b13d8_row11_col0,#T_b13d8_row11_col1,#T_b13d8_row11_col2,#T_b13d8_row11_col3,#T_b13d8_row11_col4,#T_b13d8_row11_col5,#T_b13d8_row11_col6,#T_b13d8_row11_col7,#T_b13d8_row12_col0,#T_b13d8_row12_col1,#T_b13d8_row12_col2,#T_b13d8_row12_col3,#T_b13d8_row12_col4,#T_b13d8_row12_col5,#T_b13d8_row12_col6,#T_b13d8_row12_col7,#T_b13d8_row13_col0,#T_b13d8_row13_col1,#T_b13d8_row13_col2,#T_b13d8_row13_col3,#T_b13d8_row13_col4,#T_b13d8_row13_col5,#T_b13d8_row13_col6,#T_b13d8_row13_col7{\n            text-align:  left;\n            text-align:  left;\n        }#T_b13d8_row0_col5,#T_b13d8_row1_col1,#T_b13d8_row1_col4,#T_b13d8_row1_col6,#T_b13d8_row1_col7,#T_b13d8_row2_col2,#T_b13d8_row8_col3{\n            text-align:  left;\n            text-align:  left;\n            background-color:  yellow;\n        }#T_b13d8_row0_col8,#T_b13d8_row1_col8,#T_b13d8_row2_col8,#T_b13d8_row3_col8,#T_b13d8_row4_col8,#T_b13d8_row5_col8,#T_b13d8_row6_col8,#T_b13d8_row7_col8,#T_b13d8_row9_col8,#T_b13d8_row10_col8,#T_b13d8_row11_col8,#T_b13d8_row12_col8,#T_b13d8_row13_col8{\n            text-align:  left;\n            text-align:  left;\n            background-color:  lightgrey;\n        }#T_b13d8_row8_col8{\n            text-align:  left;\n            text-align:  left;\n            background-color:  yellow;\n            background-color:  lightgrey;\n        }</style><table id=\"T_b13d8_\" ><thead>    <tr>        <th class=\"blank level0\" ></th>        <th class=\"col_heading level0 col0\" >Model</th>        <th class=\"col_heading level0 col1\" >Accuracy</th>        <th class=\"col_heading level0 col2\" >AUC</th>        <th class=\"col_heading level0 col3\" >Recall</th>        <th class=\"col_heading level0 col4\" >Prec.</th>        <th class=\"col_heading level0 col5\" >F1</th>        <th class=\"col_heading level0 col6\" >Kappa</th>        <th class=\"col_heading level0 col7\" >MCC</th>        <th class=\"col_heading level0 col8\" >TT (Sec)</th>    </tr></thead><tbody>\n                <tr>\n                        <th id=\"T_b13d8_level0_row0\" class=\"row_heading level0 row0\" >gbc</th>\n                        <td id=\"T_b13d8_row0_col0\" class=\"data row0 col0\" >Gradient Boosting Classifier</td>\n                        <td id=\"T_b13d8_row0_col1\" class=\"data row0 col1\" >0.8085</td>\n                        <td id=\"T_b13d8_row0_col2\" class=\"data row0 col2\" >0.6980</td>\n                        <td id=\"T_b13d8_row0_col3\" class=\"data row0 col3\" >0.9798</td>\n                        <td id=\"T_b13d8_row0_col4\" class=\"data row0 col4\" >0.7974</td>\n                        <td id=\"T_b13d8_row0_col5\" class=\"data row0 col5\" >0.8782</td>\n                        <td id=\"T_b13d8_row0_col6\" class=\"data row0 col6\" >0.4534</td>\n                        <td id=\"T_b13d8_row0_col7\" class=\"data row0 col7\" >0.5068</td>\n                        <td id=\"T_b13d8_row0_col8\" class=\"data row0 col8\" >0.2740</td>\n            </tr>\n            <tr>\n                        <th id=\"T_b13d8_level0_row1\" class=\"row_heading level0 row1\" >et</th>\n                        <td id=\"T_b13d8_row1_col0\" class=\"data row1 col0\" >Extra Trees Classifier</td>\n                        <td id=\"T_b13d8_row1_col1\" class=\"data row1 col1\" >0.8086</td>\n                        <td id=\"T_b13d8_row1_col2\" class=\"data row1 col2\" >0.7248</td>\n                        <td id=\"T_b13d8_row1_col3\" class=\"data row1 col3\" >0.9731</td>\n                        <td id=\"T_b13d8_row1_col4\" class=\"data row1 col4\" >0.8008</td>\n                        <td id=\"T_b13d8_row1_col5\" class=\"data row1 col5\" >0.8774</td>\n                        <td id=\"T_b13d8_row1_col6\" class=\"data row1 col6\" >0.4593</td>\n                        <td id=\"T_b13d8_row1_col7\" class=\"data row1 col7\" >0.5096</td>\n                        <td id=\"T_b13d8_row1_col8\" class=\"data row1 col8\" >0.3050</td>\n            </tr>\n            <tr>\n                        <th id=\"T_b13d8_level0_row2\" class=\"row_heading level0 row2\" >lda</th>\n                        <td id=\"T_b13d8_row2_col0\" class=\"data row2 col0\" >Linear Discriminant Analysis</td>\n                        <td id=\"T_b13d8_row2_col1\" class=\"data row2 col1\" >0.8039</td>\n                        <td id=\"T_b13d8_row2_col2\" class=\"data row2 col2\" >0.7286</td>\n                        <td id=\"T_b13d8_row2_col3\" class=\"data row2 col3\" >0.9798</td>\n                        <td id=\"T_b13d8_row2_col4\" class=\"data row2 col4\" >0.7931</td>\n                        <td id=\"T_b13d8_row2_col5\" class=\"data row2 col5\" >0.8755</td>\n                        <td id=\"T_b13d8_row2_col6\" class=\"data row2 col6\" >0.4377</td>\n                        <td id=\"T_b13d8_row2_col7\" class=\"data row2 col7\" >0.4940</td>\n                        <td id=\"T_b13d8_row2_col8\" class=\"data row2 col8\" >0.1080</td>\n            </tr>\n            <tr>\n                        <th id=\"T_b13d8_level0_row3\" class=\"row_heading level0 row3\" >rf</th>\n                        <td id=\"T_b13d8_row3_col0\" class=\"data row3 col0\" >Random Forest Classifier</td>\n                        <td id=\"T_b13d8_row3_col1\" class=\"data row3 col1\" >0.8016</td>\n                        <td id=\"T_b13d8_row3_col2\" class=\"data row3 col2\" >0.7196</td>\n                        <td id=\"T_b13d8_row3_col3\" class=\"data row3 col3\" >0.9698</td>\n                        <td id=\"T_b13d8_row3_col4\" class=\"data row3 col4\" >0.7959</td>\n                        <td id=\"T_b13d8_row3_col5\" class=\"data row3 col5\" >0.8731</td>\n                        <td id=\"T_b13d8_row3_col6\" class=\"data row3 col6\" >0.4380</td>\n                        <td id=\"T_b13d8_row3_col7\" class=\"data row3 col7\" >0.4845</td>\n                        <td id=\"T_b13d8_row3_col8\" class=\"data row3 col8\" >0.3160</td>\n            </tr>\n            <tr>\n                        <th id=\"T_b13d8_level0_row4\" class=\"row_heading level0 row4\" >lr</th>\n                        <td id=\"T_b13d8_row4_col0\" class=\"data row4 col0\" >Logistic Regression</td>\n                        <td id=\"T_b13d8_row4_col1\" class=\"data row4 col1\" >0.7969</td>\n                        <td id=\"T_b13d8_row4_col2\" class=\"data row4 col2\" >0.7266</td>\n                        <td id=\"T_b13d8_row4_col3\" class=\"data row4 col3\" >0.9598</td>\n                        <td id=\"T_b13d8_row4_col4\" class=\"data row4 col4\" >0.7955</td>\n                        <td id=\"T_b13d8_row4_col5\" class=\"data row4 col5\" >0.8691</td>\n                        <td id=\"T_b13d8_row4_col6\" class=\"data row4 col6\" >0.4341</td>\n                        <td id=\"T_b13d8_row4_col7\" class=\"data row4 col7\" >0.4704</td>\n                        <td id=\"T_b13d8_row4_col8\" class=\"data row4 col8\" >0.1500</td>\n            </tr>\n            <tr>\n                        <th id=\"T_b13d8_level0_row5\" class=\"row_heading level0 row5\" >ada</th>\n                        <td id=\"T_b13d8_row5_col0\" class=\"data row5 col0\" >Ada Boost Classifier</td>\n                        <td id=\"T_b13d8_row5_col1\" class=\"data row5 col1\" >0.7760</td>\n                        <td id=\"T_b13d8_row5_col2\" class=\"data row5 col2\" >0.6883</td>\n                        <td id=\"T_b13d8_row5_col3\" class=\"data row5 col3\" >0.9230</td>\n                        <td id=\"T_b13d8_row5_col4\" class=\"data row5 col4\" >0.7953</td>\n                        <td id=\"T_b13d8_row5_col5\" class=\"data row5 col5\" >0.8522</td>\n                        <td id=\"T_b13d8_row5_col6\" class=\"data row5 col6\" >0.3944</td>\n                        <td id=\"T_b13d8_row5_col7\" class=\"data row5 col7\" >0.4246</td>\n                        <td id=\"T_b13d8_row5_col8\" class=\"data row5 col8\" >0.1870</td>\n            </tr>\n            <tr>\n                        <th id=\"T_b13d8_level0_row6\" class=\"row_heading level0 row6\" >nb</th>\n                        <td id=\"T_b13d8_row6_col0\" class=\"data row6 col0\" >Naive Bayes</td>\n                        <td id=\"T_b13d8_row6_col1\" class=\"data row6 col1\" >0.7458</td>\n                        <td id=\"T_b13d8_row6_col2\" class=\"data row6 col2\" >0.7006</td>\n                        <td id=\"T_b13d8_row6_col3\" class=\"data row6 col3\" >0.8798</td>\n                        <td id=\"T_b13d8_row6_col4\" class=\"data row6 col4\" >0.7867</td>\n                        <td id=\"T_b13d8_row6_col5\" class=\"data row6 col5\" >0.8284</td>\n                        <td id=\"T_b13d8_row6_col6\" class=\"data row6 col6\" >0.3365</td>\n                        <td id=\"T_b13d8_row6_col7\" class=\"data row6 col7\" >0.3466</td>\n                        <td id=\"T_b13d8_row6_col8\" class=\"data row6 col8\" >0.0330</td>\n            </tr>\n            <tr>\n                        <th id=\"T_b13d8_level0_row7\" class=\"row_heading level0 row7\" >lightgbm</th>\n                        <td id=\"T_b13d8_row7_col0\" class=\"data row7 col0\" >Light Gradient Boosting Machine</td>\n                        <td id=\"T_b13d8_row7_col1\" class=\"data row7 col1\" >0.7435</td>\n                        <td id=\"T_b13d8_row7_col2\" class=\"data row7 col2\" >0.7183</td>\n                        <td id=\"T_b13d8_row7_col3\" class=\"data row7 col3\" >0.8563</td>\n                        <td id=\"T_b13d8_row7_col4\" class=\"data row7 col4\" >0.7949</td>\n                        <td id=\"T_b13d8_row7_col5\" class=\"data row7 col5\" >0.8230</td>\n                        <td id=\"T_b13d8_row7_col6\" class=\"data row7 col6\" >0.3558</td>\n                        <td id=\"T_b13d8_row7_col7\" class=\"data row7 col7\" >0.3632</td>\n                        <td id=\"T_b13d8_row7_col8\" class=\"data row7 col8\" >0.0750</td>\n            </tr>\n            <tr>\n                        <th id=\"T_b13d8_level0_row8\" class=\"row_heading level0 row8\" >dummy</th>\n                        <td id=\"T_b13d8_row8_col0\" class=\"data row8 col0\" >Dummy Classifier</td>\n                        <td id=\"T_b13d8_row8_col1\" class=\"data row8 col1\" >0.6970</td>\n                        <td id=\"T_b13d8_row8_col2\" class=\"data row8 col2\" >0.5000</td>\n                        <td id=\"T_b13d8_row8_col3\" class=\"data row8 col3\" >1.0000</td>\n                        <td id=\"T_b13d8_row8_col4\" class=\"data row8 col4\" >0.6970</td>\n                        <td id=\"T_b13d8_row8_col5\" class=\"data row8 col5\" >0.8214</td>\n                        <td id=\"T_b13d8_row8_col6\" class=\"data row8 col6\" >0.0000</td>\n                        <td id=\"T_b13d8_row8_col7\" class=\"data row8 col7\" >0.0000</td>\n                        <td id=\"T_b13d8_row8_col8\" class=\"data row8 col8\" >0.0200</td>\n            </tr>\n            <tr>\n                        <th id=\"T_b13d8_level0_row9\" class=\"row_heading level0 row9\" >dt</th>\n                        <td id=\"T_b13d8_row9_col0\" class=\"data row9 col0\" >Decision Tree Classifier</td>\n                        <td id=\"T_b13d8_row9_col1\" class=\"data row9 col1\" >0.7410</td>\n                        <td id=\"T_b13d8_row9_col2\" class=\"data row9 col2\" >0.6666</td>\n                        <td id=\"T_b13d8_row9_col3\" class=\"data row9 col3\" >0.8562</td>\n                        <td id=\"T_b13d8_row9_col4\" class=\"data row9 col4\" >0.7929</td>\n                        <td id=\"T_b13d8_row9_col5\" class=\"data row9 col5\" >0.8200</td>\n                        <td id=\"T_b13d8_row9_col6\" class=\"data row9 col6\" >0.3493</td>\n                        <td id=\"T_b13d8_row9_col7\" class=\"data row9 col7\" >0.3643</td>\n                        <td id=\"T_b13d8_row9_col8\" class=\"data row9 col8\" >0.0350</td>\n            </tr>\n            <tr>\n                        <th id=\"T_b13d8_level0_row10\" class=\"row_heading level0 row10\" >ridge</th>\n                        <td id=\"T_b13d8_row10_col0\" class=\"data row10 col0\" >Ridge Classifier</td>\n                        <td id=\"T_b13d8_row10_col1\" class=\"data row10 col1\" >0.6877</td>\n                        <td id=\"T_b13d8_row10_col2\" class=\"data row10 col2\" >0.0000</td>\n                        <td id=\"T_b13d8_row10_col3\" class=\"data row10 col3\" >0.9800</td>\n                        <td id=\"T_b13d8_row10_col4\" class=\"data row10 col4\" >0.6958</td>\n                        <td id=\"T_b13d8_row10_col5\" class=\"data row10 col5\" >0.8131</td>\n                        <td id=\"T_b13d8_row10_col6\" class=\"data row10 col6\" >-0.0052</td>\n                        <td id=\"T_b13d8_row10_col7\" class=\"data row10 col7\" >-0.0054</td>\n                        <td id=\"T_b13d8_row10_col8\" class=\"data row10 col8\" >0.0400</td>\n            </tr>\n            <tr>\n                        <th id=\"T_b13d8_level0_row11\" class=\"row_heading level0 row11\" >knn</th>\n                        <td id=\"T_b13d8_row11_col0\" class=\"data row11 col0\" >K Neighbors Classifier</td>\n                        <td id=\"T_b13d8_row11_col1\" class=\"data row11 col1\" >0.6411</td>\n                        <td id=\"T_b13d8_row11_col2\" class=\"data row11 col2\" >0.5406</td>\n                        <td id=\"T_b13d8_row11_col3\" class=\"data row11 col3\" >0.8297</td>\n                        <td id=\"T_b13d8_row11_col4\" class=\"data row11 col4\" >0.7060</td>\n                        <td id=\"T_b13d8_row11_col5\" class=\"data row11 col5\" >0.7619</td>\n                        <td id=\"T_b13d8_row11_col6\" class=\"data row11 col6\" >0.0447</td>\n                        <td id=\"T_b13d8_row11_col7\" class=\"data row11 col7\" >0.0527</td>\n                        <td id=\"T_b13d8_row11_col8\" class=\"data row11 col8\" >0.0560</td>\n            </tr>\n            <tr>\n                        <th id=\"T_b13d8_level0_row12\" class=\"row_heading level0 row12\" >qda</th>\n                        <td id=\"T_b13d8_row12_col0\" class=\"data row12 col0\" >Quadratic Discriminant Analysis</td>\n                        <td id=\"T_b13d8_row12_col1\" class=\"data row12 col1\" >0.5641</td>\n                        <td id=\"T_b13d8_row12_col2\" class=\"data row12 col2\" >0.5329</td>\n                        <td id=\"T_b13d8_row12_col3\" class=\"data row12 col3\" >0.6120</td>\n                        <td id=\"T_b13d8_row12_col4\" class=\"data row12 col4\" >0.7212</td>\n                        <td id=\"T_b13d8_row12_col5\" class=\"data row12 col5\" >0.6562</td>\n                        <td id=\"T_b13d8_row12_col6\" class=\"data row12 col6\" >0.0610</td>\n                        <td id=\"T_b13d8_row12_col7\" class=\"data row12 col7\" >0.0639</td>\n                        <td id=\"T_b13d8_row12_col8\" class=\"data row12 col8\" >0.0680</td>\n            </tr>\n            <tr>\n                        <th id=\"T_b13d8_level0_row13\" class=\"row_heading level0 row13\" >svm</th>\n                        <td id=\"T_b13d8_row13_col0\" class=\"data row13 col0\" >SVM - Linear Kernel</td>\n                        <td id=\"T_b13d8_row13_col1\" class=\"data row13 col1\" >0.4597</td>\n                        <td id=\"T_b13d8_row13_col2\" class=\"data row13 col2\" >0.0000</td>\n                        <td id=\"T_b13d8_row13_col3\" class=\"data row13 col3\" >0.4233</td>\n                        <td id=\"T_b13d8_row13_col4\" class=\"data row13 col4\" >0.6127</td>\n                        <td id=\"T_b13d8_row13_col5\" class=\"data row13 col5\" >0.4574</td>\n                        <td id=\"T_b13d8_row13_col6\" class=\"data row13 col6\" >-0.0245</td>\n                        <td id=\"T_b13d8_row13_col7\" class=\"data row13 col7\" >-0.0277</td>\n                        <td id=\"T_b13d8_row13_col8\" class=\"data row13 col8\" >0.0310</td>\n            </tr>\n    </tbody></table>"
     },
     "metadata": {},
     "output_type": "display_data"
    },
    {
     "output_type": "execute_result",
     "execution_count": 93,
     "data": {
      "text/plain": "[GradientBoostingClassifier(ccp_alpha=0.0, criterion='friedman_mse', init=None,\n                            learning_rate=0.1, loss='deviance', max_depth=3,\n                            max_features=None, max_leaf_nodes=None,\n                            min_impurity_decrease=0.0, min_impurity_split=None,\n                            min_samples_leaf=1, min_samples_split=2,\n                            min_weight_fraction_leaf=0.0, n_estimators=100,\n                            n_iter_no_change=None, presort='deprecated',\n                            random_state=1749, subsample=1.0, tol=0.0001,\n                            validation_fraction=0.1, verbose=0,\n                            warm_start=False),\n ExtraTreesClassifier(bootstrap=False, ccp_alpha=0.0, class_weight=None,\n                      criterion='gini', max_depth=None, max_features='auto',\n                      max_leaf_nodes=None, max_samples=None,\n                      min_impurity_decrease=0.0, min_impurity_split=None,\n                      min_samples_leaf=1, min_samples_split=2,\n                      min_weight_fraction_leaf=0.0, n_estimators=100, n_jobs=-1,\n                      oob_score=False, random_state=1749, verbose=0,\n                      warm_start=False),\n LinearDiscriminantAnalysis(n_components=None, priors=None, shrinkage=None,\n                            solver='svd', store_covariance=False, tol=0.0001)]"
     },
     "metadata": {}
    }
   ],
   "execution_count": null
  },
  {
   "cell_type": "code",
   "source": "",
   "metadata": {
    "cell_id": "b6965b5c5dda485ba4326d8fd3a3ed11",
    "tags": [],
    "deepnote_to_be_reexecuted": true,
    "source_hash": "b623e53d",
    "deepnote_cell_type": "code",
    "deepnote_cell_height": 76
   },
   "outputs": [],
   "execution_count": null
  },
  {
   "cell_type": "markdown",
   "source": "<a style='text-decoration:none;line-height:16px;display:flex;color:#5B5B62;padding:10px;justify-content:end;' href='https://deepnote.com?utm_source=created-in-deepnote-cell&projectId=ca6491d5-dcd8-4f08-8e98-375cf39044bb' target=\"_blank\">\n<img alt='Created in deepnote.com' style='display:inline;max-height:16px;margin:0px;margin-right:7.5px;' src='data:image/svg+xml;base64,PD94bWwgdmVyc2lvbj0iMS4wIiBlbmNvZGluZz0iVVRGLTgiPz4KPHN2ZyB3aWR0aD0iODBweCIgaGVpZ2h0PSI4MHB4IiB2aWV3Qm94PSIwIDAgODAgODAiIHZlcnNpb249IjEuMSIgeG1sbnM9Imh0dHA6Ly93d3cudzMub3JnLzIwMDAvc3ZnIiB4bWxuczp4bGluaz0iaHR0cDovL3d3dy53My5vcmcvMTk5OS94bGluayI+CiAgICA8IS0tIEdlbmVyYXRvcjogU2tldGNoIDU0LjEgKDc2NDkwKSAtIGh0dHBzOi8vc2tldGNoYXBwLmNvbSAtLT4KICAgIDx0aXRsZT5Hcm91cCAzPC90aXRsZT4KICAgIDxkZXNjPkNyZWF0ZWQgd2l0aCBTa2V0Y2guPC9kZXNjPgogICAgPGcgaWQ9IkxhbmRpbmciIHN0cm9rZT0ibm9uZSIgc3Ryb2tlLXdpZHRoPSIxIiBmaWxsPSJub25lIiBmaWxsLXJ1bGU9ImV2ZW5vZGQiPgogICAgICAgIDxnIGlkPSJBcnRib2FyZCIgdHJhbnNmb3JtPSJ0cmFuc2xhdGUoLTEyMzUuMDAwMDAwLCAtNzkuMDAwMDAwKSI+CiAgICAgICAgICAgIDxnIGlkPSJHcm91cC0zIiB0cmFuc2Zvcm09InRyYW5zbGF0ZSgxMjM1LjAwMDAwMCwgNzkuMDAwMDAwKSI+CiAgICAgICAgICAgICAgICA8cG9seWdvbiBpZD0iUGF0aC0yMCIgZmlsbD0iIzAyNjVCNCIgcG9pbnRzPSIyLjM3NjIzNzYyIDgwIDM4LjA0NzY2NjcgODAgNTcuODIxNzgyMiA3My44MDU3NTkyIDU3LjgyMTc4MjIgMzIuNzU5MjczOSAzOS4xNDAyMjc4IDMxLjY4MzE2ODMiPjwvcG9seWdvbj4KICAgICAgICAgICAgICAgIDxwYXRoIGQ9Ik0zNS4wMDc3MTgsODAgQzQyLjkwNjIwMDcsNzYuNDU0OTM1OCA0Ny41NjQ5MTY3LDcxLjU0MjI2NzEgNDguOTgzODY2LDY1LjI2MTk5MzkgQzUxLjExMjI4OTksNTUuODQxNTg0MiA0MS42NzcxNzk1LDQ5LjIxMjIyODQgMjUuNjIzOTg0Niw0OS4yMTIyMjg0IEMyNS40ODQ5Mjg5LDQ5LjEyNjg0NDggMjkuODI2MTI5Niw0My4yODM4MjQ4IDM4LjY0NzU4NjksMzEuNjgzMTY4MyBMNzIuODcxMjg3MSwzMi41NTQ0MjUgTDY1LjI4MDk3Myw2Ny42NzYzNDIxIEw1MS4xMTIyODk5LDc3LjM3NjE0NCBMMzUuMDA3NzE4LDgwIFoiIGlkPSJQYXRoLTIyIiBmaWxsPSIjMDAyODY4Ij48L3BhdGg+CiAgICAgICAgICAgICAgICA8cGF0aCBkPSJNMCwzNy43MzA0NDA1IEwyNy4xMTQ1MzcsMC4yNTcxMTE0MzYgQzYyLjM3MTUxMjMsLTEuOTkwNzE3MDEgODAsMTAuNTAwMzkyNyA4MCwzNy43MzA0NDA1IEM4MCw2NC45NjA0ODgyIDY0Ljc3NjUwMzgsNzkuMDUwMzQxNCAzNC4zMjk1MTEzLDgwIEM0Ny4wNTUzNDg5LDc3LjU2NzA4MDggNTMuNDE4MjY3Nyw3MC4zMTM2MTAzIDUzLjQxODI2NzcsNTguMjM5NTg4NSBDNTMuNDE4MjY3Nyw0MC4xMjg1NTU3IDM2LjMwMzk1NDQsMzcuNzMwNDQwNSAyNS4yMjc0MTcsMzcuNzMwNDQwNSBDMTcuODQzMDU4NiwzNy43MzA0NDA1IDkuNDMzOTE5NjYsMzcuNzMwNDQwNSAwLDM3LjczMDQ0MDUgWiIgaWQ9IlBhdGgtMTkiIGZpbGw9IiMzNzkzRUYiPjwvcGF0aD4KICAgICAgICAgICAgPC9nPgogICAgICAgIDwvZz4KICAgIDwvZz4KPC9zdmc+' > </img>\nCreated in <span style='font-weight:600;margin-left:4px;'>Deepnote</span></a>",
   "metadata": {
    "tags": [],
    "created_in_deepnote_cell": true,
    "deepnote_cell_type": "markdown"
   }
  }
 ],
 "nbformat": 4,
 "nbformat_minor": 2,
 "metadata": {
  "orig_nbformat": 2,
  "deepnote": {},
  "deepnote_notebook_id": "5a4134d7-f8fb-4aed-9464-8e3e84c9cef7",
  "deepnote_execution_queue": []
 }
}