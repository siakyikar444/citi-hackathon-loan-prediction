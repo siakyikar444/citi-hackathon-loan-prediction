{
 "cells": [
  {
   "cell_type": "markdown",
   "source": "",
   "metadata": {
    "tags": [],
    "cell_id": "eddb2c41-b75e-4f99-9151-1a29279177a5",
    "deepnote_cell_type": "markdown",
    "deepnote_cell_height": 46
   }
  },
  {
   "cell_type": "markdown",
   "source": "## To-Do\n- Train Data\n    - Need to replace rows with 3+ in dependents column\n    - Need to decide how to clean the null values for all columns\n- Test Data\n    - Need to replace rows with 3+ in dependents column\n    - Need to decide how to clean the null values for all columns\n\n\n- Create powerpoint slides\n    - Not more than 3-4 slides\n    - Raw Data -> Data Cleaning / Manipulation (1 slide?)\n    - Data Exploration  (1 slide?)\n    - ML Model / Constraints (1 slide?)\n    - Insights and Conclusion (1 slide?)",
   "metadata": {
    "tags": [],
    "cell_id": "00001-56550360-d5a0-46ef-9ee4-45c3dd5c6652",
    "deepnote_cell_type": "markdown",
    "deepnote_cell_height": 456.796875
   }
  },
  {
   "cell_type": "markdown",
   "source": "##### Possible Hypotheses\n1. Applicants with high incomes should have more chances of loan approval.\n2. Applicants who have repaid their previous debts should have higher chances of loan approval.\n3. Loan approval should also depend on the loan amount. If the loan amount is less, the chances of loan \n4. approval should be high.\n5. Lesser the amount to be paid monthly to repay the loan, the higher the chances of loan approval.",
   "metadata": {
    "tags": [],
    "cell_id": "00002-88a82aee-3548-4df0-ab7b-78868ceaef89",
    "deepnote_cell_type": "markdown",
    "deepnote_cell_height": 204
   }
  },
  {
   "cell_type": "code",
   "metadata": {
    "tags": [],
    "deepnote_to_be_reexecuted": false,
    "source_hash": "2248421b",
    "execution_start": 1659514936895,
    "execution_millis": 2474,
    "cell_id": "00003-26be225f-ca67-467d-a0c5-16ad13b8db2c",
    "deepnote_cell_type": "code",
    "deepnote_cell_height": 130
   },
   "source": "import pandas as pd\nimport seaborn as sns\nimport numpy as np\nimport matplotlib.pyplot as plt",
   "execution_count": 1,
   "outputs": []
  },
  {
   "cell_type": "code",
   "metadata": {
    "tags": [],
    "deepnote_to_be_reexecuted": false,
    "source_hash": "fd59a075",
    "execution_start": 1659514939377,
    "execution_millis": 178,
    "cell_id": "00004-e16a1e62-c15d-49b8-972c-970d2be3585b",
    "deepnote_cell_type": "code",
    "deepnote_cell_height": 424.796875
   },
   "source": "df = pd.read_csv(\"train.csv\")\ndf.head()",
   "execution_count": 2,
   "outputs": [
    {
     "output_type": "execute_result",
     "execution_count": 2,
     "data": {
      "application/vnd.deepnote.dataframe.v3+json": {
       "column_count": 13,
       "row_count": 5,
       "columns": [
        {
         "name": "Loan_ID",
         "dtype": "object",
         "stats": {
          "unique_count": 5,
          "nan_count": 0,
          "categories": [
           {
            "name": "LP001002",
            "count": 1
           },
           {
            "name": "LP001003",
            "count": 1
           },
           {
            "name": "3 others",
            "count": 3
           }
          ]
         }
        },
        {
         "name": "Gender",
         "dtype": "object",
         "stats": {
          "unique_count": 1,
          "nan_count": 0,
          "categories": [
           {
            "name": "Male",
            "count": 5
           }
          ]
         }
        },
        {
         "name": "Married",
         "dtype": "object",
         "stats": {
          "unique_count": 2,
          "nan_count": 0,
          "categories": [
           {
            "name": "Yes",
            "count": 3
           },
           {
            "name": "No",
            "count": 2
           }
          ]
         }
        },
        {
         "name": "Dependents",
         "dtype": "object",
         "stats": {
          "unique_count": 2,
          "nan_count": 0,
          "categories": [
           {
            "name": "0",
            "count": 4
           },
           {
            "name": "1",
            "count": 1
           }
          ]
         }
        },
        {
         "name": "Education",
         "dtype": "object",
         "stats": {
          "unique_count": 2,
          "nan_count": 0,
          "categories": [
           {
            "name": "Graduate",
            "count": 4
           },
           {
            "name": "Not Graduate",
            "count": 1
           }
          ]
         }
        },
        {
         "name": "Self_Employed",
         "dtype": "object",
         "stats": {
          "unique_count": 2,
          "nan_count": 0,
          "categories": [
           {
            "name": "No",
            "count": 4
           },
           {
            "name": "Yes",
            "count": 1
           }
          ]
         }
        },
        {
         "name": "ApplicantIncome",
         "dtype": "int64",
         "stats": {
          "unique_count": 5,
          "nan_count": 0,
          "min": "2583",
          "max": "6000",
          "histogram": [
           {
            "bin_start": 2583,
            "bin_end": 2924.7,
            "count": 1
           },
           {
            "bin_start": 2924.7,
            "bin_end": 3266.4,
            "count": 1
           },
           {
            "bin_start": 3266.4,
            "bin_end": 3608.1,
            "count": 0
           },
           {
            "bin_start": 3608.1,
            "bin_end": 3949.8,
            "count": 0
           },
           {
            "bin_start": 3949.8,
            "bin_end": 4291.5,
            "count": 0
           },
           {
            "bin_start": 4291.5,
            "bin_end": 4633.2,
            "count": 1
           },
           {
            "bin_start": 4633.2,
            "bin_end": 4974.9,
            "count": 0
           },
           {
            "bin_start": 4974.9,
            "bin_end": 5316.6,
            "count": 0
           },
           {
            "bin_start": 5316.6,
            "bin_end": 5658.299999999999,
            "count": 0
           },
           {
            "bin_start": 5658.299999999999,
            "bin_end": 6000,
            "count": 2
           }
          ]
         }
        },
        {
         "name": "CoapplicantIncome",
         "dtype": "float64",
         "stats": {
          "unique_count": 3,
          "nan_count": 0,
          "min": "0.0",
          "max": "2358.0",
          "histogram": [
           {
            "bin_start": 0,
            "bin_end": 235.8,
            "count": 3
           },
           {
            "bin_start": 235.8,
            "bin_end": 471.6,
            "count": 0
           },
           {
            "bin_start": 471.6,
            "bin_end": 707.4000000000001,
            "count": 0
           },
           {
            "bin_start": 707.4000000000001,
            "bin_end": 943.2,
            "count": 0
           },
           {
            "bin_start": 943.2,
            "bin_end": 1179,
            "count": 0
           },
           {
            "bin_start": 1179,
            "bin_end": 1414.8000000000002,
            "count": 0
           },
           {
            "bin_start": 1414.8000000000002,
            "bin_end": 1650.6000000000001,
            "count": 1
           },
           {
            "bin_start": 1650.6000000000001,
            "bin_end": 1886.4,
            "count": 0
           },
           {
            "bin_start": 1886.4,
            "bin_end": 2122.2000000000003,
            "count": 0
           },
           {
            "bin_start": 2122.2000000000003,
            "bin_end": 2358,
            "count": 1
           }
          ]
         }
        },
        {
         "name": "LoanAmount",
         "dtype": "float64",
         "stats": {
          "unique_count": 4,
          "nan_count": 1,
          "min": "66.0",
          "max": "141.0",
          "histogram": [
           {
            "bin_start": 66,
            "bin_end": 73.5,
            "count": 1
           },
           {
            "bin_start": 73.5,
            "bin_end": 81,
            "count": 0
           },
           {
            "bin_start": 81,
            "bin_end": 88.5,
            "count": 0
           },
           {
            "bin_start": 88.5,
            "bin_end": 96,
            "count": 0
           },
           {
            "bin_start": 96,
            "bin_end": 103.5,
            "count": 0
           },
           {
            "bin_start": 103.5,
            "bin_end": 111,
            "count": 0
           },
           {
            "bin_start": 111,
            "bin_end": 118.5,
            "count": 0
           },
           {
            "bin_start": 118.5,
            "bin_end": 126,
            "count": 1
           },
           {
            "bin_start": 126,
            "bin_end": 133.5,
            "count": 1
           },
           {
            "bin_start": 133.5,
            "bin_end": 141,
            "count": 1
           }
          ]
         }
        },
        {
         "name": "Loan_Amount_Term",
         "dtype": "float64",
         "stats": {
          "unique_count": 1,
          "nan_count": 0,
          "min": "360.0",
          "max": "360.0",
          "histogram": [
           {
            "bin_start": 359.5,
            "bin_end": 359.6,
            "count": 0
           },
           {
            "bin_start": 359.6,
            "bin_end": 359.7,
            "count": 0
           },
           {
            "bin_start": 359.7,
            "bin_end": 359.8,
            "count": 0
           },
           {
            "bin_start": 359.8,
            "bin_end": 359.9,
            "count": 0
           },
           {
            "bin_start": 359.9,
            "bin_end": 360,
            "count": 0
           },
           {
            "bin_start": 360,
            "bin_end": 360.1,
            "count": 5
           },
           {
            "bin_start": 360.1,
            "bin_end": 360.2,
            "count": 0
           },
           {
            "bin_start": 360.2,
            "bin_end": 360.3,
            "count": 0
           },
           {
            "bin_start": 360.3,
            "bin_end": 360.4,
            "count": 0
           },
           {
            "bin_start": 360.4,
            "bin_end": 360.5,
            "count": 0
           }
          ]
         }
        },
        {
         "name": "Credit_History",
         "dtype": "float64",
         "stats": {
          "unique_count": 1,
          "nan_count": 0,
          "min": "1.0",
          "max": "1.0",
          "histogram": [
           {
            "bin_start": 0.5,
            "bin_end": 0.6,
            "count": 0
           },
           {
            "bin_start": 0.6,
            "bin_end": 0.7,
            "count": 0
           },
           {
            "bin_start": 0.7,
            "bin_end": 0.8,
            "count": 0
           },
           {
            "bin_start": 0.8,
            "bin_end": 0.9,
            "count": 0
           },
           {
            "bin_start": 0.9,
            "bin_end": 1,
            "count": 0
           },
           {
            "bin_start": 1,
            "bin_end": 1.1,
            "count": 5
           },
           {
            "bin_start": 1.1,
            "bin_end": 1.2000000000000002,
            "count": 0
           },
           {
            "bin_start": 1.2000000000000002,
            "bin_end": 1.3,
            "count": 0
           },
           {
            "bin_start": 1.3,
            "bin_end": 1.4,
            "count": 0
           },
           {
            "bin_start": 1.4,
            "bin_end": 1.5,
            "count": 0
           }
          ]
         }
        },
        {
         "name": "Property_Area",
         "dtype": "object",
         "stats": {
          "unique_count": 2,
          "nan_count": 0,
          "categories": [
           {
            "name": "Urban",
            "count": 4
           },
           {
            "name": "Rural",
            "count": 1
           }
          ]
         }
        },
        {
         "name": "Loan_Status",
         "dtype": "object",
         "stats": {
          "unique_count": 2,
          "nan_count": 0,
          "categories": [
           {
            "name": "Y",
            "count": 4
           },
           {
            "name": "N",
            "count": 1
           }
          ]
         }
        },
        {
         "name": "_deepnote_index_column",
         "dtype": "int64"
        }
       ],
       "rows": [
        {
         "Loan_ID": "LP001002",
         "Gender": "Male",
         "Married": "No",
         "Dependents": "0",
         "Education": "Graduate",
         "Self_Employed": "No",
         "ApplicantIncome": 5849,
         "CoapplicantIncome": 0,
         "LoanAmount": "nan",
         "Loan_Amount_Term": 360,
         "Credit_History": 1,
         "Property_Area": "Urban",
         "Loan_Status": "Y",
         "_deepnote_index_column": 0
        },
        {
         "Loan_ID": "LP001003",
         "Gender": "Male",
         "Married": "Yes",
         "Dependents": "1",
         "Education": "Graduate",
         "Self_Employed": "No",
         "ApplicantIncome": 4583,
         "CoapplicantIncome": 1508,
         "LoanAmount": 128,
         "Loan_Amount_Term": 360,
         "Credit_History": 1,
         "Property_Area": "Rural",
         "Loan_Status": "N",
         "_deepnote_index_column": 1
        },
        {
         "Loan_ID": "LP001005",
         "Gender": "Male",
         "Married": "Yes",
         "Dependents": "0",
         "Education": "Graduate",
         "Self_Employed": "Yes",
         "ApplicantIncome": 3000,
         "CoapplicantIncome": 0,
         "LoanAmount": 66,
         "Loan_Amount_Term": 360,
         "Credit_History": 1,
         "Property_Area": "Urban",
         "Loan_Status": "Y",
         "_deepnote_index_column": 2
        },
        {
         "Loan_ID": "LP001006",
         "Gender": "Male",
         "Married": "Yes",
         "Dependents": "0",
         "Education": "Not Graduate",
         "Self_Employed": "No",
         "ApplicantIncome": 2583,
         "CoapplicantIncome": 2358,
         "LoanAmount": 120,
         "Loan_Amount_Term": 360,
         "Credit_History": 1,
         "Property_Area": "Urban",
         "Loan_Status": "Y",
         "_deepnote_index_column": 3
        },
        {
         "Loan_ID": "LP001008",
         "Gender": "Male",
         "Married": "No",
         "Dependents": "0",
         "Education": "Graduate",
         "Self_Employed": "No",
         "ApplicantIncome": 6000,
         "CoapplicantIncome": 0,
         "LoanAmount": 141,
         "Loan_Amount_Term": 360,
         "Credit_History": 1,
         "Property_Area": "Urban",
         "Loan_Status": "Y",
         "_deepnote_index_column": 4
        }
       ]
      },
      "text/plain": "    Loan_ID Gender Married Dependents     Education Self_Employed  \\\n0  LP001002   Male      No          0      Graduate            No   \n1  LP001003   Male     Yes          1      Graduate            No   \n2  LP001005   Male     Yes          0      Graduate           Yes   \n3  LP001006   Male     Yes          0  Not Graduate            No   \n4  LP001008   Male      No          0      Graduate            No   \n\n   ApplicantIncome  CoapplicantIncome  LoanAmount  Loan_Amount_Term  \\\n0             5849                0.0         NaN             360.0   \n1             4583             1508.0       128.0             360.0   \n2             3000                0.0        66.0             360.0   \n3             2583             2358.0       120.0             360.0   \n4             6000                0.0       141.0             360.0   \n\n   Credit_History Property_Area Loan_Status  \n0             1.0         Urban           Y  \n1             1.0         Rural           N  \n2             1.0         Urban           Y  \n3             1.0         Urban           Y  \n4             1.0         Urban           Y  ",
      "text/html": "<div>\n<style scoped>\n    .dataframe tbody tr th:only-of-type {\n        vertical-align: middle;\n    }\n\n    .dataframe tbody tr th {\n        vertical-align: top;\n    }\n\n    .dataframe thead th {\n        text-align: right;\n    }\n</style>\n<table border=\"1\" class=\"dataframe\">\n  <thead>\n    <tr style=\"text-align: right;\">\n      <th></th>\n      <th>Loan_ID</th>\n      <th>Gender</th>\n      <th>Married</th>\n      <th>Dependents</th>\n      <th>Education</th>\n      <th>Self_Employed</th>\n      <th>ApplicantIncome</th>\n      <th>CoapplicantIncome</th>\n      <th>LoanAmount</th>\n      <th>Loan_Amount_Term</th>\n      <th>Credit_History</th>\n      <th>Property_Area</th>\n      <th>Loan_Status</th>\n    </tr>\n  </thead>\n  <tbody>\n    <tr>\n      <th>0</th>\n      <td>LP001002</td>\n      <td>Male</td>\n      <td>No</td>\n      <td>0</td>\n      <td>Graduate</td>\n      <td>No</td>\n      <td>5849</td>\n      <td>0.0</td>\n      <td>NaN</td>\n      <td>360.0</td>\n      <td>1.0</td>\n      <td>Urban</td>\n      <td>Y</td>\n    </tr>\n    <tr>\n      <th>1</th>\n      <td>LP001003</td>\n      <td>Male</td>\n      <td>Yes</td>\n      <td>1</td>\n      <td>Graduate</td>\n      <td>No</td>\n      <td>4583</td>\n      <td>1508.0</td>\n      <td>128.0</td>\n      <td>360.0</td>\n      <td>1.0</td>\n      <td>Rural</td>\n      <td>N</td>\n    </tr>\n    <tr>\n      <th>2</th>\n      <td>LP001005</td>\n      <td>Male</td>\n      <td>Yes</td>\n      <td>0</td>\n      <td>Graduate</td>\n      <td>Yes</td>\n      <td>3000</td>\n      <td>0.0</td>\n      <td>66.0</td>\n      <td>360.0</td>\n      <td>1.0</td>\n      <td>Urban</td>\n      <td>Y</td>\n    </tr>\n    <tr>\n      <th>3</th>\n      <td>LP001006</td>\n      <td>Male</td>\n      <td>Yes</td>\n      <td>0</td>\n      <td>Not Graduate</td>\n      <td>No</td>\n      <td>2583</td>\n      <td>2358.0</td>\n      <td>120.0</td>\n      <td>360.0</td>\n      <td>1.0</td>\n      <td>Urban</td>\n      <td>Y</td>\n    </tr>\n    <tr>\n      <th>4</th>\n      <td>LP001008</td>\n      <td>Male</td>\n      <td>No</td>\n      <td>0</td>\n      <td>Graduate</td>\n      <td>No</td>\n      <td>6000</td>\n      <td>0.0</td>\n      <td>141.0</td>\n      <td>360.0</td>\n      <td>1.0</td>\n      <td>Urban</td>\n      <td>Y</td>\n    </tr>\n  </tbody>\n</table>\n</div>"
     },
     "metadata": {}
    }
   ]
  },
  {
   "cell_type": "code",
   "metadata": {
    "tags": [],
    "deepnote_to_be_reexecuted": false,
    "source_hash": "5e8fb93b",
    "execution_start": 1659514939567,
    "execution_millis": 69,
    "cell_id": "00005-908cc478-c227-4a3e-886b-a7a946eefa09",
    "deepnote_cell_type": "code",
    "deepnote_cell_height": 424.796875
   },
   "source": "df_test = pd.read_csv(\"test.csv\")\ndf_test.head()",
   "execution_count": 3,
   "outputs": [
    {
     "output_type": "execute_result",
     "execution_count": 3,
     "data": {
      "application/vnd.deepnote.dataframe.v3+json": {
       "column_count": 12,
       "row_count": 5,
       "columns": [
        {
         "name": "Loan_ID",
         "dtype": "object",
         "stats": {
          "unique_count": 5,
          "nan_count": 0,
          "categories": [
           {
            "name": "LP001015",
            "count": 1
           },
           {
            "name": "LP001022",
            "count": 1
           },
           {
            "name": "3 others",
            "count": 3
           }
          ]
         }
        },
        {
         "name": "Gender",
         "dtype": "object",
         "stats": {
          "unique_count": 1,
          "nan_count": 0,
          "categories": [
           {
            "name": "Male",
            "count": 5
           }
          ]
         }
        },
        {
         "name": "Married",
         "dtype": "object",
         "stats": {
          "unique_count": 2,
          "nan_count": 0,
          "categories": [
           {
            "name": "Yes",
            "count": 4
           },
           {
            "name": "No",
            "count": 1
           }
          ]
         }
        },
        {
         "name": "Dependents",
         "dtype": "object",
         "stats": {
          "unique_count": 3,
          "nan_count": 0,
          "categories": [
           {
            "name": "0",
            "count": 2
           },
           {
            "name": "2",
            "count": 2
           },
           {
            "name": "1",
            "count": 1
           }
          ]
         }
        },
        {
         "name": "Education",
         "dtype": "object",
         "stats": {
          "unique_count": 2,
          "nan_count": 0,
          "categories": [
           {
            "name": "Graduate",
            "count": 4
           },
           {
            "name": "Not Graduate",
            "count": 1
           }
          ]
         }
        },
        {
         "name": "Self_Employed",
         "dtype": "object",
         "stats": {
          "unique_count": 1,
          "nan_count": 0,
          "categories": [
           {
            "name": "No",
            "count": 5
           }
          ]
         }
        },
        {
         "name": "ApplicantIncome",
         "dtype": "int64",
         "stats": {
          "unique_count": 5,
          "nan_count": 0,
          "min": "2340",
          "max": "5720",
          "histogram": [
           {
            "bin_start": 2340,
            "bin_end": 2678,
            "count": 1
           },
           {
            "bin_start": 2678,
            "bin_end": 3016,
            "count": 0
           },
           {
            "bin_start": 3016,
            "bin_end": 3354,
            "count": 2
           },
           {
            "bin_start": 3354,
            "bin_end": 3692,
            "count": 0
           },
           {
            "bin_start": 3692,
            "bin_end": 4030,
            "count": 0
           },
           {
            "bin_start": 4030,
            "bin_end": 4368,
            "count": 0
           },
           {
            "bin_start": 4368,
            "bin_end": 4706,
            "count": 0
           },
           {
            "bin_start": 4706,
            "bin_end": 5044,
            "count": 1
           },
           {
            "bin_start": 5044,
            "bin_end": 5382,
            "count": 0
           },
           {
            "bin_start": 5382,
            "bin_end": 5720,
            "count": 1
           }
          ]
         }
        },
        {
         "name": "CoapplicantIncome",
         "dtype": "int64",
         "stats": {
          "unique_count": 4,
          "nan_count": 0,
          "min": "0",
          "max": "2546",
          "histogram": [
           {
            "bin_start": 0,
            "bin_end": 254.6,
            "count": 2
           },
           {
            "bin_start": 254.6,
            "bin_end": 509.2,
            "count": 0
           },
           {
            "bin_start": 509.2,
            "bin_end": 763.8,
            "count": 0
           },
           {
            "bin_start": 763.8,
            "bin_end": 1018.4,
            "count": 0
           },
           {
            "bin_start": 1018.4,
            "bin_end": 1273,
            "count": 0
           },
           {
            "bin_start": 1273,
            "bin_end": 1527.6,
            "count": 1
           },
           {
            "bin_start": 1527.6,
            "bin_end": 1782.2,
            "count": 0
           },
           {
            "bin_start": 1782.2,
            "bin_end": 2036.8,
            "count": 1
           },
           {
            "bin_start": 2036.8,
            "bin_end": 2291.4,
            "count": 0
           },
           {
            "bin_start": 2291.4,
            "bin_end": 2546,
            "count": 1
           }
          ]
         }
        },
        {
         "name": "LoanAmount",
         "dtype": "float64",
         "stats": {
          "unique_count": 5,
          "nan_count": 0,
          "min": "78.0",
          "max": "208.0",
          "histogram": [
           {
            "bin_start": 78,
            "bin_end": 91,
            "count": 1
           },
           {
            "bin_start": 91,
            "bin_end": 104,
            "count": 1
           },
           {
            "bin_start": 104,
            "bin_end": 117,
            "count": 1
           },
           {
            "bin_start": 117,
            "bin_end": 130,
            "count": 1
           },
           {
            "bin_start": 130,
            "bin_end": 143,
            "count": 0
           },
           {
            "bin_start": 143,
            "bin_end": 156,
            "count": 0
           },
           {
            "bin_start": 156,
            "bin_end": 169,
            "count": 0
           },
           {
            "bin_start": 169,
            "bin_end": 182,
            "count": 0
           },
           {
            "bin_start": 182,
            "bin_end": 195,
            "count": 0
           },
           {
            "bin_start": 195,
            "bin_end": 208,
            "count": 1
           }
          ]
         }
        },
        {
         "name": "Loan_Amount_Term",
         "dtype": "float64",
         "stats": {
          "unique_count": 1,
          "nan_count": 0,
          "min": "360.0",
          "max": "360.0",
          "histogram": [
           {
            "bin_start": 359.5,
            "bin_end": 359.6,
            "count": 0
           },
           {
            "bin_start": 359.6,
            "bin_end": 359.7,
            "count": 0
           },
           {
            "bin_start": 359.7,
            "bin_end": 359.8,
            "count": 0
           },
           {
            "bin_start": 359.8,
            "bin_end": 359.9,
            "count": 0
           },
           {
            "bin_start": 359.9,
            "bin_end": 360,
            "count": 0
           },
           {
            "bin_start": 360,
            "bin_end": 360.1,
            "count": 5
           },
           {
            "bin_start": 360.1,
            "bin_end": 360.2,
            "count": 0
           },
           {
            "bin_start": 360.2,
            "bin_end": 360.3,
            "count": 0
           },
           {
            "bin_start": 360.3,
            "bin_end": 360.4,
            "count": 0
           },
           {
            "bin_start": 360.4,
            "bin_end": 360.5,
            "count": 0
           }
          ]
         }
        },
        {
         "name": "Credit_History",
         "dtype": "float64",
         "stats": {
          "unique_count": 1,
          "nan_count": 1,
          "min": "1.0",
          "max": "1.0",
          "histogram": [
           {
            "bin_start": 0.5,
            "bin_end": 0.6,
            "count": 0
           },
           {
            "bin_start": 0.6,
            "bin_end": 0.7,
            "count": 0
           },
           {
            "bin_start": 0.7,
            "bin_end": 0.8,
            "count": 0
           },
           {
            "bin_start": 0.8,
            "bin_end": 0.9,
            "count": 0
           },
           {
            "bin_start": 0.9,
            "bin_end": 1,
            "count": 0
           },
           {
            "bin_start": 1,
            "bin_end": 1.1,
            "count": 4
           },
           {
            "bin_start": 1.1,
            "bin_end": 1.2000000000000002,
            "count": 0
           },
           {
            "bin_start": 1.2000000000000002,
            "bin_end": 1.3,
            "count": 0
           },
           {
            "bin_start": 1.3,
            "bin_end": 1.4,
            "count": 0
           },
           {
            "bin_start": 1.4,
            "bin_end": 1.5,
            "count": 0
           }
          ]
         }
        },
        {
         "name": "Property_Area",
         "dtype": "object",
         "stats": {
          "unique_count": 1,
          "nan_count": 0,
          "categories": [
           {
            "name": "Urban",
            "count": 5
           }
          ]
         }
        },
        {
         "name": "_deepnote_index_column",
         "dtype": "int64"
        }
       ],
       "rows": [
        {
         "Loan_ID": "LP001015",
         "Gender": "Male",
         "Married": "Yes",
         "Dependents": "0",
         "Education": "Graduate",
         "Self_Employed": "No",
         "ApplicantIncome": 5720,
         "CoapplicantIncome": 0,
         "LoanAmount": 110,
         "Loan_Amount_Term": 360,
         "Credit_History": 1,
         "Property_Area": "Urban",
         "_deepnote_index_column": 0
        },
        {
         "Loan_ID": "LP001022",
         "Gender": "Male",
         "Married": "Yes",
         "Dependents": "1",
         "Education": "Graduate",
         "Self_Employed": "No",
         "ApplicantIncome": 3076,
         "CoapplicantIncome": 1500,
         "LoanAmount": 126,
         "Loan_Amount_Term": 360,
         "Credit_History": 1,
         "Property_Area": "Urban",
         "_deepnote_index_column": 1
        },
        {
         "Loan_ID": "LP001031",
         "Gender": "Male",
         "Married": "Yes",
         "Dependents": "2",
         "Education": "Graduate",
         "Self_Employed": "No",
         "ApplicantIncome": 5000,
         "CoapplicantIncome": 1800,
         "LoanAmount": 208,
         "Loan_Amount_Term": 360,
         "Credit_History": 1,
         "Property_Area": "Urban",
         "_deepnote_index_column": 2
        },
        {
         "Loan_ID": "LP001035",
         "Gender": "Male",
         "Married": "Yes",
         "Dependents": "2",
         "Education": "Graduate",
         "Self_Employed": "No",
         "ApplicantIncome": 2340,
         "CoapplicantIncome": 2546,
         "LoanAmount": 100,
         "Loan_Amount_Term": 360,
         "Credit_History": "nan",
         "Property_Area": "Urban",
         "_deepnote_index_column": 3
        },
        {
         "Loan_ID": "LP001051",
         "Gender": "Male",
         "Married": "No",
         "Dependents": "0",
         "Education": "Not Graduate",
         "Self_Employed": "No",
         "ApplicantIncome": 3276,
         "CoapplicantIncome": 0,
         "LoanAmount": 78,
         "Loan_Amount_Term": 360,
         "Credit_History": 1,
         "Property_Area": "Urban",
         "_deepnote_index_column": 4
        }
       ]
      },
      "text/plain": "    Loan_ID Gender Married Dependents     Education Self_Employed  \\\n0  LP001015   Male     Yes          0      Graduate            No   \n1  LP001022   Male     Yes          1      Graduate            No   \n2  LP001031   Male     Yes          2      Graduate            No   \n3  LP001035   Male     Yes          2      Graduate            No   \n4  LP001051   Male      No          0  Not Graduate            No   \n\n   ApplicantIncome  CoapplicantIncome  LoanAmount  Loan_Amount_Term  \\\n0             5720                  0       110.0             360.0   \n1             3076               1500       126.0             360.0   \n2             5000               1800       208.0             360.0   \n3             2340               2546       100.0             360.0   \n4             3276                  0        78.0             360.0   \n\n   Credit_History Property_Area  \n0             1.0         Urban  \n1             1.0         Urban  \n2             1.0         Urban  \n3             NaN         Urban  \n4             1.0         Urban  ",
      "text/html": "<div>\n<style scoped>\n    .dataframe tbody tr th:only-of-type {\n        vertical-align: middle;\n    }\n\n    .dataframe tbody tr th {\n        vertical-align: top;\n    }\n\n    .dataframe thead th {\n        text-align: right;\n    }\n</style>\n<table border=\"1\" class=\"dataframe\">\n  <thead>\n    <tr style=\"text-align: right;\">\n      <th></th>\n      <th>Loan_ID</th>\n      <th>Gender</th>\n      <th>Married</th>\n      <th>Dependents</th>\n      <th>Education</th>\n      <th>Self_Employed</th>\n      <th>ApplicantIncome</th>\n      <th>CoapplicantIncome</th>\n      <th>LoanAmount</th>\n      <th>Loan_Amount_Term</th>\n      <th>Credit_History</th>\n      <th>Property_Area</th>\n    </tr>\n  </thead>\n  <tbody>\n    <tr>\n      <th>0</th>\n      <td>LP001015</td>\n      <td>Male</td>\n      <td>Yes</td>\n      <td>0</td>\n      <td>Graduate</td>\n      <td>No</td>\n      <td>5720</td>\n      <td>0</td>\n      <td>110.0</td>\n      <td>360.0</td>\n      <td>1.0</td>\n      <td>Urban</td>\n    </tr>\n    <tr>\n      <th>1</th>\n      <td>LP001022</td>\n      <td>Male</td>\n      <td>Yes</td>\n      <td>1</td>\n      <td>Graduate</td>\n      <td>No</td>\n      <td>3076</td>\n      <td>1500</td>\n      <td>126.0</td>\n      <td>360.0</td>\n      <td>1.0</td>\n      <td>Urban</td>\n    </tr>\n    <tr>\n      <th>2</th>\n      <td>LP001031</td>\n      <td>Male</td>\n      <td>Yes</td>\n      <td>2</td>\n      <td>Graduate</td>\n      <td>No</td>\n      <td>5000</td>\n      <td>1800</td>\n      <td>208.0</td>\n      <td>360.0</td>\n      <td>1.0</td>\n      <td>Urban</td>\n    </tr>\n    <tr>\n      <th>3</th>\n      <td>LP001035</td>\n      <td>Male</td>\n      <td>Yes</td>\n      <td>2</td>\n      <td>Graduate</td>\n      <td>No</td>\n      <td>2340</td>\n      <td>2546</td>\n      <td>100.0</td>\n      <td>360.0</td>\n      <td>NaN</td>\n      <td>Urban</td>\n    </tr>\n    <tr>\n      <th>4</th>\n      <td>LP001051</td>\n      <td>Male</td>\n      <td>No</td>\n      <td>0</td>\n      <td>Not Graduate</td>\n      <td>No</td>\n      <td>3276</td>\n      <td>0</td>\n      <td>78.0</td>\n      <td>360.0</td>\n      <td>1.0</td>\n      <td>Urban</td>\n    </tr>\n  </tbody>\n</table>\n</div>"
     },
     "metadata": {}
    }
   ]
  },
  {
   "cell_type": "markdown",
   "source": "#### Things to take note:\n1. Loan status is not present in the data_test as such, test csv would be used for prediction of unseen data\n2. Conversion to dummy variables would be needed for gender, married, dependents, education, self_employed, loan_status, property area\n ",
   "metadata": {
    "tags": [],
    "cell_id": "00006-974aa41e-e2e6-4e60-a567-cee5d86673dc",
    "deepnote_cell_type": "markdown",
    "deepnote_cell_height": 150.1875
   }
  },
  {
   "cell_type": "markdown",
   "source": "# Data Exploration and Preprocessing",
   "metadata": {
    "formattedRanges": [],
    "is_collapsed": false,
    "tags": [],
    "cell_id": "00007-8d08df96-5cb1-433c-a0f5-5644ccd99a78",
    "deepnote_cell_type": "text-cell-h1"
   }
  },
  {
   "cell_type": "code",
   "metadata": {
    "tags": [],
    "deepnote_to_be_reexecuted": false,
    "source_hash": "de1e323c",
    "execution_start": 1659514939652,
    "execution_millis": 28,
    "cell_id": "00008-caae3ca5-0c64-4fe7-824e-ac9eefc65058",
    "deepnote_cell_type": "code",
    "deepnote_cell_height": 487
   },
   "source": "df.info()",
   "execution_count": 4,
   "outputs": [
    {
     "name": "stdout",
     "text": "<class 'pandas.core.frame.DataFrame'>\nRangeIndex: 614 entries, 0 to 613\nData columns (total 13 columns):\n #   Column             Non-Null Count  Dtype  \n---  ------             --------------  -----  \n 0   Loan_ID            614 non-null    object \n 1   Gender             601 non-null    object \n 2   Married            611 non-null    object \n 3   Dependents         599 non-null    object \n 4   Education          614 non-null    object \n 5   Self_Employed      582 non-null    object \n 6   ApplicantIncome    614 non-null    int64  \n 7   CoapplicantIncome  614 non-null    float64\n 8   LoanAmount         592 non-null    float64\n 9   Loan_Amount_Term   600 non-null    float64\n 10  Credit_History     564 non-null    float64\n 11  Property_Area      614 non-null    object \n 12  Loan_Status        614 non-null    object \ndtypes: float64(4), int64(1), object(8)\nmemory usage: 62.5+ KB\n",
     "output_type": "stream"
    }
   ]
  },
  {
   "cell_type": "code",
   "metadata": {
    "tags": [],
    "deepnote_to_be_reexecuted": false,
    "source_hash": "15d09156",
    "execution_start": 1659514939698,
    "execution_millis": 7,
    "cell_id": "00009-16e39fe5-2c05-4df4-a584-04233276a1e4",
    "deepnote_cell_type": "code",
    "deepnote_cell_height": 467
   },
   "source": "df_test.info()",
   "execution_count": 5,
   "outputs": [
    {
     "name": "stdout",
     "text": "<class 'pandas.core.frame.DataFrame'>\nRangeIndex: 367 entries, 0 to 366\nData columns (total 12 columns):\n #   Column             Non-Null Count  Dtype  \n---  ------             --------------  -----  \n 0   Loan_ID            367 non-null    object \n 1   Gender             356 non-null    object \n 2   Married            367 non-null    object \n 3   Dependents         357 non-null    object \n 4   Education          367 non-null    object \n 5   Self_Employed      344 non-null    object \n 6   ApplicantIncome    367 non-null    int64  \n 7   CoapplicantIncome  367 non-null    int64  \n 8   LoanAmount         362 non-null    float64\n 9   Loan_Amount_Term   361 non-null    float64\n 10  Credit_History     338 non-null    float64\n 11  Property_Area      367 non-null    object \ndtypes: float64(3), int64(2), object(7)\nmemory usage: 34.5+ KB\n",
     "output_type": "stream"
    }
   ]
  },
  {
   "cell_type": "markdown",
   "source": "#### Hypotheses",
   "metadata": {
    "tags": [],
    "cell_id": "00010-a3d50aa3-78ee-49ee-b27b-29a58bb4f208",
    "deepnote_cell_type": "markdown",
    "deepnote_cell_height": 54
   }
  },
  {
   "cell_type": "code",
   "metadata": {
    "tags": [],
    "deepnote_to_be_reexecuted": false,
    "source_hash": "1fc99e28",
    "execution_start": 1659514939757,
    "execution_millis": 340,
    "cell_id": "00011-37e2390f-b6d0-45e5-b061-7732c7e6a85b",
    "deepnote_cell_type": "code",
    "deepnote_cell_height": 477,
    "deepnote_output_heights": [
     290
    ]
   },
   "source": "Gender=pd.crosstab(df['Gender'],df['Loan_Status'])\nGender.div(Gender.sum(1).astype(float), axis=0).plot(kind='bar',stacked=True,figsize=(4,4))\nplt.show()\n\n# It can be inferred that the proportion of male and female applicants is more or less the same for both approved and unapproved loans.\n",
   "execution_count": 6,
   "outputs": [
    {
     "data": {
      "text/plain": "<Figure size 288x288 with 1 Axes>",
      "image/png": "[encoded data removed]"
     },
     "metadata": {
      "needs_background": "light",
      "image/png": {
       "width": 260,
       "height": 288
      }
     },
     "output_type": "display_data"
    }
   ]
  },
  {
   "cell_type": "code",
   "metadata": {
    "tags": [],
    "deepnote_to_be_reexecuted": false,
    "source_hash": "186ea3b0",
    "execution_start": 1659514940099,
    "execution_millis": 1681,
    "cell_id": "00012-c3f8599e-f635-4d59-9275-e35264cae176",
    "deepnote_cell_type": "code",
    "deepnote_cell_height": 1515,
    "deepnote_output_heights": [
     270,
     269,
     322,
     271
    ]
   },
   "source": "Married=pd.crosstab(df['Married'],df['Loan_Status'])\nDependents=pd.crosstab(df['Dependents'],df['Loan_Status'])\nEducation=pd.crosstab(df['Education'],df['Loan_Status'])\nSelf_Employed=pd.crosstab(df['Self_Employed'],df['Loan_Status'])\nMarried.div(Married.sum(1).astype(float), axis=0).plot(kind='bar',stacked=True,figsize=(4,4))\nplt.show()\nDependents.div(Dependents.sum(1).astype(float), axis=0).plot(kind='bar',stacked=True,figsize=(4,4))\nplt.show()\nEducation.div(Education.sum(1).astype(float), axis=0).plot(kind='bar',stacked=True,figsize=(4,4))\nplt.show()\nSelf_Employed.div(Self_Employed.sum(1).astype(float), axis=0).plot(kind='bar',stacked=True,figsize=(4,4))\nplt.show()",
   "execution_count": 7,
   "outputs": [
    {
     "data": {
      "text/plain": "<Figure size 288x288 with 1 Axes>",
      "image/png": "[encoded data removed]"
     },
     "metadata": {
      "needs_background": "light",
      "image/png": {
       "width": 260,
       "height": 268
      }
     },
     "output_type": "display_data"
    },
    {
     "data": {
      "text/plain": "<Figure size 288x288 with 1 Axes>",
      "image/png": "[encoded data removed]"
     },
     "metadata": {
      "needs_background": "light",
      "image/png": {
       "width": 260,
       "height": 267
      }
     },
     "output_type": "display_data"
    },
    {
     "data": {
      "text/plain": "<Figure size 288x288 with 1 Axes>",
      "image/png": "[encoded data removed]"
     },
     "metadata": {
      "needs_background": "light",
      "image/png": {
       "width": 260,
       "height": 320
      }
     },
     "output_type": "display_data"
    },
    {
     "data": {
      "text/plain": "<Figure size 288x288 with 1 Axes>",
      "image/png": "[encoded data removed]"
     },
     "metadata": {
      "needs_background": "light",
      "image/png": {
       "width": 260,
       "height": 269
      }
     },
     "output_type": "display_data"
    }
   ]
  },
  {
   "cell_type": "markdown",
   "source": "- The proportion of married applicants is higher for approved loans.\n- Distribution of applicants with 1 or 3+ dependents is similar across both the categories of Loan_Status.\n- There is nothing significant we can infer from Self_Employed vs Loan_Status plot.",
   "metadata": {
    "tags": [],
    "cell_id": "00013-a335e470-6fbb-4150-9157-20610f169c51",
    "deepnote_cell_type": "markdown",
    "deepnote_cell_height": 120.1875
   }
  },
  {
   "cell_type": "code",
   "metadata": {
    "tags": [],
    "deepnote_to_be_reexecuted": false,
    "source_hash": "6b90ebc2",
    "execution_start": 1659514941436,
    "execution_millis": 828,
    "cell_id": "00014-780ed1aa-b14b-406c-ae66-9122aa47b883",
    "deepnote_cell_type": "code",
    "deepnote_cell_height": 798,
    "deepnote_output_heights": [
     271,
     309
    ]
   },
   "source": "Credit_History=pd.crosstab(df['Credit_History'],df['Loan_Status'])\nProperty_Area=pd.crosstab(df['Property_Area'],df['Loan_Status'])\nCredit_History.div(Credit_History.sum(1).astype(float), axis=0).plot(kind='bar',stacked=True,figsize=(4,4))\nplt.show()\nProperty_Area.div(Property_Area.sum(1).astype(float), axis=0).plot(kind='bar',stacked=True)\nplt.show()",
   "execution_count": 8,
   "outputs": [
    {
     "data": {
      "text/plain": "<Figure size 288x288 with 1 Axes>",
      "image/png": "[encoded data removed]"
     },
     "metadata": {
      "needs_background": "light",
      "image/png": {
       "width": 260,
       "height": 269
      }
     },
     "output_type": "display_data"
    },
    {
     "data": {
      "text/plain": "<Figure size 432x288 with 1 Axes>",
      "image/png": "[encoded data removed]"
     },
     "metadata": {
      "needs_background": "light",
      "image/png": {
       "width": 372,
       "height": 307
      }
     },
     "output_type": "display_data"
    }
   ]
  },
  {
   "cell_type": "markdown",
   "source": "- It seems people with a credit history as 1 are more likely to get their loans approved.\n- The proportion of loans getting approved in the semi-urban area is higher as compared to that in rural or urban areas.",
   "metadata": {
    "tags": [],
    "cell_id": "00015-b51263a9-27a3-4781-a957-b0b1103ec13a",
    "deepnote_cell_type": "markdown",
    "deepnote_cell_height": 94.796875
   }
  },
  {
   "cell_type": "code",
   "metadata": {
    "tags": [],
    "deepnote_to_be_reexecuted": false,
    "source_hash": "f7d29961",
    "execution_start": 1659514942275,
    "execution_millis": 332,
    "cell_id": "00016-c9d5a593-9644-4fe4-9b30-a808eb473ae0",
    "deepnote_cell_type": "code",
    "deepnote_cell_height": 409.1875,
    "deepnote_output_heights": [
     21.1875,
     265
    ]
   },
   "source": "sns.scatterplot(data=df, x=\"Loan_Status\", y=\"ApplicantIncome\")",
   "execution_count": 9,
   "outputs": [
    {
     "output_type": "execute_result",
     "execution_count": 9,
     "data": {
      "text/plain": "<AxesSubplot:xlabel='Loan_Status', ylabel='ApplicantIncome'>"
     },
     "metadata": {}
    },
    {
     "data": {
      "text/plain": "<Figure size 432x288 with 1 Axes>",
      "image/png": "[encoded data removed]"
     },
     "metadata": {
      "needs_background": "light",
      "image/png": {
       "width": 401,
       "height": 263
      }
     },
     "output_type": "display_data"
    }
   ]
  },
  {
   "cell_type": "code",
   "metadata": {
    "tags": [],
    "deepnote_to_be_reexecuted": false,
    "source_hash": "2eb6cd14",
    "execution_start": 1659514942612,
    "execution_millis": 304,
    "cell_id": "00017-77dc4fba-bde3-48b2-8b47-ff766967d1f8",
    "deepnote_cell_type": "code",
    "deepnote_cell_height": 409.1875,
    "deepnote_output_heights": [
     21.1875,
     265
    ]
   },
   "source": "sns.scatterplot(data=df, x=\"Loan_Status\", y=\"CoapplicantIncome\")",
   "execution_count": 10,
   "outputs": [
    {
     "output_type": "execute_result",
     "execution_count": 10,
     "data": {
      "text/plain": "<AxesSubplot:xlabel='Loan_Status', ylabel='CoapplicantIncome'>"
     },
     "metadata": {}
    },
    {
     "data": {
      "text/plain": "<Figure size 432x288 with 1 Axes>",
      "image/png": "[encoded data removed]"
     },
     "metadata": {
      "needs_background": "light",
      "image/png": {
       "width": 401,
       "height": 263
      }
     },
     "output_type": "display_data"
    }
   ]
  },
  {
   "cell_type": "markdown",
   "source": "- It can be inferred that Applicant's income does not affect the chances of loan approval which contradicts our hypothesis in which we assumed that if the applicant's income is high the chances of loan approval will also be high.",
   "metadata": {
    "tags": [],
    "cell_id": "00018-4447911b-92d7-4769-a811-4ed3c0efad50",
    "deepnote_cell_type": "markdown",
    "deepnote_cell_height": 91.796875
   }
  },
  {
   "cell_type": "code",
   "metadata": {
    "tags": [],
    "deepnote_to_be_reexecuted": false,
    "source_hash": "a96f3c22",
    "execution_start": 1659514942923,
    "execution_millis": 289,
    "cell_id": "00019-8e98e7dd-6c27-4f14-8d14-64fff9dc1bb4",
    "deepnote_cell_type": "code",
    "deepnote_cell_height": 521.796875,
    "deepnote_output_heights": [
     null,
     265
    ]
   },
   "source": "sns.countplot(df['Loan_Status'])\n\nprint(f\"The percentage of Y class : {df['Loan_Status'].value_counts()[0] / len(df)}\")\nprint(f\"The percentage of N class : {df['Loan_Status'].value_counts()[1] / len(df)}\")",
   "execution_count": 11,
   "outputs": [
    {
     "name": "stderr",
     "text": "/shared-libs/python3.9/py/lib/python3.9/site-packages/seaborn/_decorators.py:36: FutureWarning: Pass the following variable as a keyword arg: x. From version 0.12, the only valid positional argument will be `data`, and passing other arguments without an explicit keyword will result in an error or misinterpretation.\n  warnings.warn(\nThe percentage of Y class : 0.6872964169381107\nThe percentage of N class : 0.3127035830618892\n",
     "output_type": "stream"
    },
    {
     "data": {
      "text/plain": "<Figure size 432x288 with 1 Axes>",
      "image/png": "[encoded data removed]"
     },
     "metadata": {
      "needs_background": "light",
      "image/png": {
       "width": 389,
       "height": 263
      }
     },
     "output_type": "display_data"
    }
   ]
  },
  {
   "cell_type": "code",
   "metadata": {
    "tags": [],
    "deepnote_to_be_reexecuted": false,
    "source_hash": "3dde5706",
    "execution_start": 1659514943217,
    "execution_millis": 13,
    "cell_id": "00020-b872e063-ba48-4ecd-9d26-5369fd6732ed",
    "deepnote_cell_type": "code",
    "deepnote_cell_height": 94
   },
   "source": " # Change Loan status from Y & N to 1 & 0\ndf['Loan_Status'] = df['Loan_Status'].replace({'N': 0, 'Y': 1})",
   "execution_count": 12,
   "outputs": []
  },
  {
   "cell_type": "code",
   "metadata": {
    "tags": [],
    "deepnote_to_be_reexecuted": false,
    "source_hash": "785ca846",
    "execution_start": 1659514943233,
    "execution_millis": 19,
    "cell_id": "00021-71894963-cf2b-4c5f-aabc-b9a9539455ca",
    "deepnote_cell_type": "code",
    "deepnote_cell_height": 113.1875,
    "deepnote_output_heights": [
     21.1875
    ]
   },
   "source": "df['Loan_Status'].unique()",
   "execution_count": 13,
   "outputs": [
    {
     "output_type": "execute_result",
     "execution_count": 13,
     "data": {
      "text/plain": "array([1, 0])"
     },
     "metadata": {}
    }
   ]
  },
  {
   "cell_type": "code",
   "metadata": {
    "tags": [],
    "deepnote_to_be_reexecuted": false,
    "source_hash": "635e6371",
    "execution_start": 1659514943259,
    "execution_millis": 18,
    "cell_id": "00022-23b7d26a-08e3-4d7f-abd2-7fc5746fb30c",
    "deepnote_cell_type": "code",
    "deepnote_cell_height": 228.34375,
    "deepnote_output_heights": [
     136.390625
    ]
   },
   "source": "df.skew()",
   "execution_count": 14,
   "outputs": [
    {
     "output_type": "execute_result",
     "execution_count": 14,
     "data": {
      "text/plain": "ApplicantIncome      6.539513\nCoapplicantIncome    7.491531\nLoanAmount           2.677552\nLoan_Amount_Term    -2.362414\nCredit_History      -1.882361\nLoan_Status         -0.809998\ndtype: float64"
     },
     "metadata": {}
    }
   ]
  },
  {
   "cell_type": "code",
   "metadata": {
    "tags": [],
    "deepnote_to_be_reexecuted": false,
    "source_hash": "10af601",
    "execution_start": 1659514943283,
    "execution_millis": 1789,
    "cell_id": "00023-b9fc7925-3281-4b13-a136-78f40179b6c2",
    "deepnote_cell_type": "code",
    "deepnote_cell_height": 862.078125,
    "deepnote_output_heights": [
     null,
     591.09375
    ]
   },
   "source": "fig = plt.figure(figsize = (20,14))\nax = fig.gca()\ndf.hist(ax = ax)\n\nplt.show()\n\n# we can see that most of the data are skewed. but it may be a good thing to help easily identify the label class",
   "execution_count": 15,
   "outputs": [
    {
     "name": "stderr",
     "text": "<ipython-input-15-e476cab0f61e>:3: UserWarning: To output multiple subplots, the figure containing the passed axes is being cleared\n  df.hist(ax = ax)\n",
     "output_type": "stream"
    },
    {
     "data": {
      "text/plain": "<Figure size 1440x1008 with 6 Axes>",
      "image/png": "[encoded data removed]"
     },
     "metadata": {
      "needs_background": "light",
      "image/png": {
       "width": 1162,
       "height": 808
      }
     },
     "output_type": "display_data"
    }
   ]
  },
  {
   "cell_type": "code",
   "metadata": {
    "tags": [],
    "deepnote_to_be_reexecuted": false,
    "source_hash": "89224fbb",
    "execution_start": 1659514945077,
    "execution_millis": 89,
    "cell_id": "00024-1b3a61ef-c64e-45e5-a522-5095aeefa105",
    "deepnote_cell_type": "code",
    "deepnote_cell_height": 549
   },
   "source": "# Describe the numerical data\n\ndf.describe()",
   "execution_count": 16,
   "outputs": [
    {
     "output_type": "execute_result",
     "execution_count": 16,
     "data": {
      "application/vnd.deepnote.dataframe.v3+json": {
       "column_count": 6,
       "row_count": 8,
       "columns": [
        {
         "name": "ApplicantIncome",
         "dtype": "float64",
         "stats": {
          "unique_count": 8,
          "nan_count": 0,
          "min": "150.0",
          "max": "81000.0",
          "histogram": [
           {
            "bin_start": 150,
            "bin_end": 8235,
            "count": 7
           },
           {
            "bin_start": 8235,
            "bin_end": 16320,
            "count": 0
           },
           {
            "bin_start": 16320,
            "bin_end": 24405,
            "count": 0
           },
           {
            "bin_start": 24405,
            "bin_end": 32490,
            "count": 0
           },
           {
            "bin_start": 32490,
            "bin_end": 40575,
            "count": 0
           },
           {
            "bin_start": 40575,
            "bin_end": 48660,
            "count": 0
           },
           {
            "bin_start": 48660,
            "bin_end": 56745,
            "count": 0
           },
           {
            "bin_start": 56745,
            "bin_end": 64830,
            "count": 0
           },
           {
            "bin_start": 64830,
            "bin_end": 72915,
            "count": 0
           },
           {
            "bin_start": 72915,
            "bin_end": 81000,
            "count": 1
           }
          ]
         }
        },
        {
         "name": "CoapplicantIncome",
         "dtype": "float64",
         "stats": {
          "unique_count": 7,
          "nan_count": 0,
          "min": "0.0",
          "max": "41667.0",
          "histogram": [
           {
            "bin_start": 0,
            "bin_end": 4166.7,
            "count": 7
           },
           {
            "bin_start": 4166.7,
            "bin_end": 8333.4,
            "count": 0
           },
           {
            "bin_start": 8333.4,
            "bin_end": 12500.099999999999,
            "count": 0
           },
           {
            "bin_start": 12500.099999999999,
            "bin_end": 16666.8,
            "count": 0
           },
           {
            "bin_start": 16666.8,
            "bin_end": 20833.5,
            "count": 0
           },
           {
            "bin_start": 20833.5,
            "bin_end": 25000.199999999997,
            "count": 0
           },
           {
            "bin_start": 25000.199999999997,
            "bin_end": 29166.899999999998,
            "count": 0
           },
           {
            "bin_start": 29166.899999999998,
            "bin_end": 33333.6,
            "count": 0
           },
           {
            "bin_start": 33333.6,
            "bin_end": 37500.299999999996,
            "count": 0
           },
           {
            "bin_start": 37500.299999999996,
            "bin_end": 41667,
            "count": 1
           }
          ]
         }
        },
        {
         "name": "LoanAmount",
         "dtype": "float64",
         "stats": {
          "unique_count": 8,
          "nan_count": 0,
          "min": "9.0",
          "max": "700.0",
          "histogram": [
           {
            "bin_start": 9,
            "bin_end": 78.1,
            "count": 1
           },
           {
            "bin_start": 78.1,
            "bin_end": 147.2,
            "count": 4
           },
           {
            "bin_start": 147.2,
            "bin_end": 216.29999999999998,
            "count": 1
           },
           {
            "bin_start": 216.29999999999998,
            "bin_end": 285.4,
            "count": 0
           },
           {
            "bin_start": 285.4,
            "bin_end": 354.5,
            "count": 0
           },
           {
            "bin_start": 354.5,
            "bin_end": 423.59999999999997,
            "count": 0
           },
           {
            "bin_start": 423.59999999999997,
            "bin_end": 492.69999999999993,
            "count": 0
           },
           {
            "bin_start": 492.69999999999993,
            "bin_end": 561.8,
            "count": 0
           },
           {
            "bin_start": 561.8,
            "bin_end": 630.9,
            "count": 1
           },
           {
            "bin_start": 630.9,
            "bin_end": 700,
            "count": 1
           }
          ]
         }
        },
        {
         "name": "Loan_Amount_Term",
         "dtype": "float64",
         "stats": {
          "unique_count": 6,
          "nan_count": 0,
          "min": "12.0",
          "max": "600.0",
          "histogram": [
           {
            "bin_start": 12,
            "bin_end": 70.8,
            "count": 2
           },
           {
            "bin_start": 70.8,
            "bin_end": 129.6,
            "count": 0
           },
           {
            "bin_start": 129.6,
            "bin_end": 188.39999999999998,
            "count": 0
           },
           {
            "bin_start": 188.39999999999998,
            "bin_end": 247.2,
            "count": 0
           },
           {
            "bin_start": 247.2,
            "bin_end": 306,
            "count": 0
           },
           {
            "bin_start": 306,
            "bin_end": 364.79999999999995,
            "count": 4
           },
           {
            "bin_start": 364.79999999999995,
            "bin_end": 423.59999999999997,
            "count": 0
           },
           {
            "bin_start": 423.59999999999997,
            "bin_end": 482.4,
            "count": 1
           },
           {
            "bin_start": 482.4,
            "bin_end": 541.1999999999999,
            "count": 0
           },
           {
            "bin_start": 541.1999999999999,
            "bin_end": 600,
            "count": 1
           }
          ]
         }
        },
        {
         "name": "Credit_History",
         "dtype": "float64",
         "stats": {
          "unique_count": 5,
          "nan_count": 0,
          "min": "0.0",
          "max": "564.0",
          "histogram": [
           {
            "bin_start": 0,
            "bin_end": 56.4,
            "count": 7
           },
           {
            "bin_start": 56.4,
            "bin_end": 112.8,
            "count": 0
           },
           {
            "bin_start": 112.8,
            "bin_end": 169.2,
            "count": 0
           },
           {
            "bin_start": 169.2,
            "bin_end": 225.6,
            "count": 0
           },
           {
            "bin_start": 225.6,
            "bin_end": 282,
            "count": 0
           },
           {
            "bin_start": 282,
            "bin_end": 338.4,
            "count": 0
           },
           {
            "bin_start": 338.4,
            "bin_end": 394.8,
            "count": 0
           },
           {
            "bin_start": 394.8,
            "bin_end": 451.2,
            "count": 0
           },
           {
            "bin_start": 451.2,
            "bin_end": 507.59999999999997,
            "count": 0
           },
           {
            "bin_start": 507.59999999999997,
            "bin_end": 564,
            "count": 1
           }
          ]
         }
        },
        {
         "name": "Loan_Status",
         "dtype": "float64",
         "stats": {
          "unique_count": 5,
          "nan_count": 0,
          "min": "0.0",
          "max": "614.0",
          "histogram": [
           {
            "bin_start": 0,
            "bin_end": 61.4,
            "count": 7
           },
           {
            "bin_start": 61.4,
            "bin_end": 122.8,
            "count": 0
           },
           {
            "bin_start": 122.8,
            "bin_end": 184.2,
            "count": 0
           },
           {
            "bin_start": 184.2,
            "bin_end": 245.6,
            "count": 0
           },
           {
            "bin_start": 245.6,
            "bin_end": 307,
            "count": 0
           },
           {
            "bin_start": 307,
            "bin_end": 368.4,
            "count": 0
           },
           {
            "bin_start": 368.4,
            "bin_end": 429.8,
            "count": 0
           },
           {
            "bin_start": 429.8,
            "bin_end": 491.2,
            "count": 0
           },
           {
            "bin_start": 491.2,
            "bin_end": 552.6,
            "count": 0
           },
           {
            "bin_start": 552.6,
            "bin_end": 614,
            "count": 1
           }
          ]
         }
        },
        {
         "name": "_deepnote_index_column",
         "dtype": "object"
        }
       ],
       "rows": [
        {
         "ApplicantIncome": 614,
         "CoapplicantIncome": 614,
         "LoanAmount": 592,
         "Loan_Amount_Term": 600,
         "Credit_History": 564,
         "Loan_Status": 614,
         "_deepnote_index_column": "count"
        },
        {
         "ApplicantIncome": 5403.459283387622,
         "CoapplicantIncome": 1621.2457980271008,
         "LoanAmount": 146.41216216216216,
         "Loan_Amount_Term": 342,
         "Credit_History": 0.8421985815602837,
         "Loan_Status": 0.6872964169381107,
         "_deepnote_index_column": "mean"
        },
        {
         "ApplicantIncome": 6109.041673387178,
         "CoapplicantIncome": 2926.2483692241885,
         "LoanAmount": 85.58732523570545,
         "Loan_Amount_Term": 65.12040985461256,
         "Credit_History": 0.3648783192364048,
         "Loan_Status": 0.46397268871800085,
         "_deepnote_index_column": "std"
        },
        {
         "ApplicantIncome": 150,
         "CoapplicantIncome": 0,
         "LoanAmount": 9,
         "Loan_Amount_Term": 12,
         "Credit_History": 0,
         "Loan_Status": 0,
         "_deepnote_index_column": "min"
        },
        {
         "ApplicantIncome": 2877.5,
         "CoapplicantIncome": 0,
         "LoanAmount": 100,
         "Loan_Amount_Term": 360,
         "Credit_History": 1,
         "Loan_Status": 0,
         "_deepnote_index_column": "25%"
        },
        {
         "ApplicantIncome": 3812.5,
         "CoapplicantIncome": 1188.5,
         "LoanAmount": 128,
         "Loan_Amount_Term": 360,
         "Credit_History": 1,
         "Loan_Status": 1,
         "_deepnote_index_column": "50%"
        },
        {
         "ApplicantIncome": 5795,
         "CoapplicantIncome": 2297.25,
         "LoanAmount": 168,
         "Loan_Amount_Term": 360,
         "Credit_History": 1,
         "Loan_Status": 1,
         "_deepnote_index_column": "75%"
        },
        {
         "ApplicantIncome": 81000,
         "CoapplicantIncome": 41667,
         "LoanAmount": 700,
         "Loan_Amount_Term": 480,
         "Credit_History": 1,
         "Loan_Status": 1,
         "_deepnote_index_column": "max"
        }
       ]
      },
      "text/plain": "       ApplicantIncome  CoapplicantIncome  LoanAmount  Loan_Amount_Term  \\\ncount       614.000000         614.000000  592.000000         600.00000   \nmean       5403.459283        1621.245798  146.412162         342.00000   \nstd        6109.041673        2926.248369   85.587325          65.12041   \nmin         150.000000           0.000000    9.000000          12.00000   \n25%        2877.500000           0.000000  100.000000         360.00000   \n50%        3812.500000        1188.500000  128.000000         360.00000   \n75%        5795.000000        2297.250000  168.000000         360.00000   \nmax       81000.000000       41667.000000  700.000000         480.00000   \n\n       Credit_History  Loan_Status  \ncount      564.000000   614.000000  \nmean         0.842199     0.687296  \nstd          0.364878     0.463973  \nmin          0.000000     0.000000  \n25%          1.000000     0.000000  \n50%          1.000000     1.000000  \n75%          1.000000     1.000000  \nmax          1.000000     1.000000  ",
      "text/html": "<div>\n<style scoped>\n    .dataframe tbody tr th:only-of-type {\n        vertical-align: middle;\n    }\n\n    .dataframe tbody tr th {\n        vertical-align: top;\n    }\n\n    .dataframe thead th {\n        text-align: right;\n    }\n</style>\n<table border=\"1\" class=\"dataframe\">\n  <thead>\n    <tr style=\"text-align: right;\">\n      <th></th>\n      <th>ApplicantIncome</th>\n      <th>CoapplicantIncome</th>\n      <th>LoanAmount</th>\n      <th>Loan_Amount_Term</th>\n      <th>Credit_History</th>\n      <th>Loan_Status</th>\n    </tr>\n  </thead>\n  <tbody>\n    <tr>\n      <th>count</th>\n      <td>614.000000</td>\n      <td>614.000000</td>\n      <td>592.000000</td>\n      <td>600.00000</td>\n      <td>564.000000</td>\n      <td>614.000000</td>\n    </tr>\n    <tr>\n      <th>mean</th>\n      <td>5403.459283</td>\n      <td>1621.245798</td>\n      <td>146.412162</td>\n      <td>342.00000</td>\n      <td>0.842199</td>\n      <td>0.687296</td>\n    </tr>\n    <tr>\n      <th>std</th>\n      <td>6109.041673</td>\n      <td>2926.248369</td>\n      <td>85.587325</td>\n      <td>65.12041</td>\n      <td>0.364878</td>\n      <td>0.463973</td>\n    </tr>\n    <tr>\n      <th>min</th>\n      <td>150.000000</td>\n      <td>0.000000</td>\n      <td>9.000000</td>\n      <td>12.00000</td>\n      <td>0.000000</td>\n      <td>0.000000</td>\n    </tr>\n    <tr>\n      <th>25%</th>\n      <td>2877.500000</td>\n      <td>0.000000</td>\n      <td>100.000000</td>\n      <td>360.00000</td>\n      <td>1.000000</td>\n      <td>0.000000</td>\n    </tr>\n    <tr>\n      <th>50%</th>\n      <td>3812.500000</td>\n      <td>1188.500000</td>\n      <td>128.000000</td>\n      <td>360.00000</td>\n      <td>1.000000</td>\n      <td>1.000000</td>\n    </tr>\n    <tr>\n      <th>75%</th>\n      <td>5795.000000</td>\n      <td>2297.250000</td>\n      <td>168.000000</td>\n      <td>360.00000</td>\n      <td>1.000000</td>\n      <td>1.000000</td>\n    </tr>\n    <tr>\n      <th>max</th>\n      <td>81000.000000</td>\n      <td>41667.000000</td>\n      <td>700.000000</td>\n      <td>480.00000</td>\n      <td>1.000000</td>\n      <td>1.000000</td>\n    </tr>\n  </tbody>\n</table>\n</div>"
     },
     "metadata": {}
    }
   ]
  },
  {
   "cell_type": "code",
   "metadata": {
    "tags": [],
    "deepnote_to_be_reexecuted": false,
    "source_hash": "690883fa",
    "execution_start": 1659514945168,
    "execution_millis": 21,
    "cell_id": "00025-08f07273-3d29-4832-9241-33db08258757",
    "deepnote_cell_type": "code",
    "deepnote_cell_height": 149.1875,
    "deepnote_output_heights": [
     21.1875
    ]
   },
   "source": "df.duplicated().any()\n\n# we got no duplicated rows",
   "execution_count": 17,
   "outputs": [
    {
     "output_type": "execute_result",
     "execution_count": 17,
     "data": {
      "text/plain": "False"
     },
     "metadata": {}
    }
   ]
  },
  {
   "cell_type": "code",
   "metadata": {
    "tags": [],
    "deepnote_to_be_reexecuted": false,
    "source_hash": "25d43fa0",
    "execution_start": 1659514945192,
    "execution_millis": 21,
    "cell_id": "00026-a17c71ed-f1cf-47c3-9d99-b13996cded92",
    "deepnote_cell_type": "code",
    "deepnote_cell_height": 171,
    "deepnote_output_heights": [
     78.796875
    ]
   },
   "source": "df.columns",
   "execution_count": 18,
   "outputs": [
    {
     "output_type": "execute_result",
     "execution_count": 18,
     "data": {
      "text/plain": "Index(['Loan_ID', 'Gender', 'Married', 'Dependents', 'Education',\n       'Self_Employed', 'ApplicantIncome', 'CoapplicantIncome', 'LoanAmount',\n       'Loan_Amount_Term', 'Credit_History', 'Property_Area', 'Loan_Status'],\n      dtype='object')"
     },
     "metadata": {}
    }
   ]
  },
  {
   "cell_type": "code",
   "metadata": {
    "tags": [],
    "deepnote_to_be_reexecuted": false,
    "source_hash": "8ad848c",
    "execution_start": 1659514945220,
    "execution_millis": 1165,
    "cell_id": "00027-4093d9ad-be63-4cf1-acf9-2c0a603daf64",
    "deepnote_cell_type": "code",
    "deepnote_cell_height": 1147.125,
    "deepnote_output_heights": [
     null,
     586.34375
    ]
   },
   "source": "categorical = ['Gender','Married','Dependents','Education','Self_Employed', 'Property_Area']\n\nfig, ax = plt.subplots(2,3, figsize=(20, 14))\n\nindex = 0\nfor i in range(0,2):\n    for j in range(0,3):\n        sns.countplot(df[categorical[index]], ax=ax[i, j])\n        index += 1\n\n\nplt.show()",
   "execution_count": 19,
   "outputs": [
    {
     "name": "stderr",
     "text": "/shared-libs/python3.9/py/lib/python3.9/site-packages/seaborn/_decorators.py:36: FutureWarning: Pass the following variable as a keyword arg: x. From version 0.12, the only valid positional argument will be `data`, and passing other arguments without an explicit keyword will result in an error or misinterpretation.\n  warnings.warn(\n/shared-libs/python3.9/py/lib/python3.9/site-packages/seaborn/_decorators.py:36: FutureWarning: Pass the following variable as a keyword arg: x. From version 0.12, the only valid positional argument will be `data`, and passing other arguments without an explicit keyword will result in an error or misinterpretation.\n  warnings.warn(\n/shared-libs/python3.9/py/lib/python3.9/site-packages/seaborn/_decorators.py:36: FutureWarning: Pass the following variable as a keyword arg: x. From version 0.12, the only valid positional argument will be `data`, and passing other arguments without an explicit keyword will result in an error or misinterpretation.\n  warnings.warn(\n/shared-libs/python3.9/py/lib/python3.9/site-packages/seaborn/_decorators.py:36: FutureWarning: Pass the following variable as a keyword arg: x. From version 0.12, the only valid positional argument will be `data`, and passing other arguments without an explicit keyword will result in an error or misinterpretation.\n  warnings.warn(\n/shared-libs/python3.9/py/lib/python3.9/site-packages/seaborn/_decorators.py:36: FutureWarning: Pass the following variable as a keyword arg: x. From version 0.12, the only valid positional argument will be `data`, and passing other arguments without an explicit keyword will result in an error or misinterpretation.\n  warnings.warn(\n/shared-libs/python3.9/py/lib/python3.9/site-packages/seaborn/_decorators.py:36: FutureWarning: Pass the following variable as a keyword arg: x. From version 0.12, the only valid positional argument will be `data`, and passing other arguments without an explicit keyword will result in an error or misinterpretation.\n  warnings.warn(\n",
     "output_type": "stream"
    },
    {
     "data": {
      "text/plain": "<Figure size 1440x1008 with 6 Axes>",
      "image/png": "[encoded data removed]"
     },
     "metadata": {
      "needs_background": "light",
      "image/png": {
       "width": 1170,
       "height": 807
      }
     },
     "output_type": "display_data"
    }
   ]
  },
  {
   "cell_type": "code",
   "metadata": {
    "tags": [],
    "deepnote_to_be_reexecuted": false,
    "source_hash": "ecf81f1",
    "execution_start": 1659514946390,
    "execution_millis": 7,
    "cell_id": "00028-3ba74723-c20f-48a5-aaaf-133fedf5cadf",
    "deepnote_cell_type": "code",
    "deepnote_cell_height": 76
   },
   "source": "df_ = df[['ApplicantIncome','CoapplicantIncome','LoanAmount','Loan_Amount_Term','Credit_History']]",
   "execution_count": 20,
   "outputs": []
  },
  {
   "cell_type": "code",
   "metadata": {
    "tags": [],
    "deepnote_to_be_reexecuted": false,
    "source_hash": "671d5584",
    "execution_start": 1659514946406,
    "execution_millis": 4126,
    "cell_id": "00029-2f866f16-5d89-44f3-a70f-73deca347066",
    "deepnote_cell_type": "code",
    "deepnote_cell_height": 1567.796875,
    "deepnote_output_heights": [
     null,
     611
    ]
   },
   "source": "# Draw the distributions of all variables\nf, axes = plt.subplots(5, 3, figsize=(18, 20))\ncolors = [\"r\", \"g\", \"b\", \"m\", \"c\"]  # m for magenta, c for cyan\n\ncount = 0\n# Start of for loop\nfor var in df_:\n    sns.boxplot(df_[var], orient = \"h\", color = colors[count], ax = axes[count,0])\n    sns.distplot(df_[var], color = colors[count], ax = axes[count,1])\n    sns.violinplot(df_[var], color = colors[count], ax = axes[count,2])\n    count += 1 # same as count = count + 1\n\n\nplt.show()",
   "execution_count": 21,
   "outputs": [
    {
     "name": "stderr",
     "text": "/shared-libs/python3.9/py/lib/python3.9/site-packages/seaborn/_decorators.py:36: FutureWarning: Pass the following variable as a keyword arg: x. From version 0.12, the only valid positional argument will be `data`, and passing other arguments without an explicit keyword will result in an error or misinterpretation.\n  warnings.warn(\n/shared-libs/python3.9/py/lib/python3.9/site-packages/seaborn/distributions.py:2619: FutureWarning: `distplot` is a deprecated function and will be removed in a future version. Please adapt your code to use either `displot` (a figure-level function with similar flexibility) or `histplot` (an axes-level function for histograms).\n  warnings.warn(msg, FutureWarning)\n/shared-libs/python3.9/py/lib/python3.9/site-packages/seaborn/_decorators.py:36: FutureWarning: Pass the following variable as a keyword arg: x. From version 0.12, the only valid positional argument will be `data`, and passing other arguments without an explicit keyword will result in an error or misinterpretation.\n  warnings.warn(\n/shared-libs/python3.9/py/lib/python3.9/site-packages/seaborn/_decorators.py:36: FutureWarning: Pass the following variable as a keyword arg: x. From version 0.12, the only valid positional argument will be `data`, and passing other arguments without an explicit keyword will result in an error or misinterpretation.\n  warnings.warn(\n/shared-libs/python3.9/py/lib/python3.9/site-packages/seaborn/distributions.py:2619: FutureWarning: `distplot` is a deprecated function and will be removed in a future version. Please adapt your code to use either `displot` (a figure-level function with similar flexibility) or `histplot` (an axes-level function for histograms).\n  warnings.warn(msg, FutureWarning)\n/shared-libs/python3.9/py/lib/python3.9/site-packages/seaborn/_decorators.py:36: FutureWarning: Pass the following variable as a keyword arg: x. From version 0.12, the only valid positional argument will be `data`, and passing other arguments without an explicit keyword will result in an error or misinterpretation.\n  warnings.warn(\n/shared-libs/python3.9/py/lib/python3.9/site-packages/seaborn/_decorators.py:36: FutureWarning: Pass the following variable as a keyword arg: x. From version 0.12, the only valid positional argument will be `data`, and passing other arguments without an explicit keyword will result in an error or misinterpretation.\n  warnings.warn(\n/shared-libs/python3.9/py/lib/python3.9/site-packages/seaborn/distributions.py:2619: FutureWarning: `distplot` is a deprecated function and will be removed in a future version. Please adapt your code to use either `displot` (a figure-level function with similar flexibility) or `histplot` (an axes-level function for histograms).\n  warnings.warn(msg, FutureWarning)\n/shared-libs/python3.9/py/lib/python3.9/site-packages/seaborn/_decorators.py:36: FutureWarning: Pass the following variable as a keyword arg: x. From version 0.12, the only valid positional argument will be `data`, and passing other arguments without an explicit keyword will result in an error or misinterpretation.\n  warnings.warn(\n/shared-libs/python3.9/py/lib/python3.9/site-packages/seaborn/_decorators.py:36: FutureWarning: Pass the following variable as a keyword arg: x. From version 0.12, the only valid positional argument will be `data`, and passing other arguments without an explicit keyword will result in an error or misinterpretation.\n  warnings.warn(\n/shared-libs/python3.9/py/lib/python3.9/site-packages/seaborn/distributions.py:2619: FutureWarning: `distplot` is a deprecated function and will be removed in a future version. Please adapt your code to use either `displot` (a figure-level function with similar flexibility) or `histplot` (an axes-level function for histograms).\n  warnings.warn(msg, FutureWarning)\n/shared-libs/python3.9/py/lib/python3.9/site-packages/seaborn/_decorators.py:36: FutureWarning: Pass the following variable as a keyword arg: x. From version 0.12, the only valid positional argument will be `data`, and passing other arguments without an explicit keyword will result in an error or misinterpretation.\n  warnings.warn(\n/shared-libs/python3.9/py/lib/python3.9/site-packages/seaborn/_decorators.py:36: FutureWarning: Pass the following variable as a keyword arg: x. From version 0.12, the only valid positional argument will be `data`, and passing other arguments without an explicit keyword will result in an error or misinterpretation.\n  warnings.warn(\n/shared-libs/python3.9/py/lib/python3.9/site-packages/seaborn/distributions.py:2619: FutureWarning: `distplot` is a deprecated function and will be removed in a future version. Please adapt your code to use either `displot` (a figure-level function with similar flexibility) or `histplot` (an axes-level function for histograms).\n  warnings.warn(msg, FutureWarning)\n/shared-libs/python3.9/py/lib/python3.9/site-packages/seaborn/_decorators.py:36: FutureWarning: Pass the following variable as a keyword arg: x. From version 0.12, the only valid positional argument will be `data`, and passing other arguments without an explicit keyword will result in an error or misinterpretation.\n  warnings.warn(\n",
     "output_type": "stream"
    },
    {
     "data": {
      "text/plain": "<Figure size 1296x1440 with 15 Axes>",
      "image/png": "[encoded data removed]"
     },
     "metadata": {
      "needs_background": "light",
      "image/png": {
       "width": 1022,
       "height": 1133
      }
     },
     "output_type": "display_data"
    }
   ]
  },
  {
   "cell_type": "code",
   "metadata": {
    "tags": [],
    "deepnote_to_be_reexecuted": false,
    "source_hash": "f8453a83",
    "execution_start": 1659514950582,
    "execution_millis": 26,
    "cell_id": "00030-c1f3ceec-e2f7-470d-bbde-c9609bee278e",
    "deepnote_cell_type": "code",
    "deepnote_cell_height": 431
   },
   "source": "df.corr()",
   "execution_count": 22,
   "outputs": [
    {
     "output_type": "execute_result",
     "execution_count": 22,
     "data": {
      "application/vnd.deepnote.dataframe.v3+json": {
       "column_count": 6,
       "row_count": 6,
       "columns": [
        {
         "name": "ApplicantIncome",
         "dtype": "float64",
         "stats": {
          "unique_count": 6,
          "nan_count": 0,
          "min": "-0.11660458122889955",
          "max": "1.0",
          "histogram": [
           {
            "bin_start": -0.11660458122889955,
            "bin_end": -0.004944123106009585,
            "count": 3
           },
           {
            "bin_start": -0.004944123106009585,
            "bin_end": 0.10671633501688038,
            "count": 1
           },
           {
            "bin_start": 0.10671633501688038,
            "bin_end": 0.21837679313977038,
            "count": 0
           },
           {
            "bin_start": 0.21837679313977038,
            "bin_end": 0.3300372512626603,
            "count": 0
           },
           {
            "bin_start": 0.3300372512626603,
            "bin_end": 0.44169770938555025,
            "count": 0
           },
           {
            "bin_start": 0.44169770938555025,
            "bin_end": 0.5533581675084402,
            "count": 0
           },
           {
            "bin_start": 0.5533581675084402,
            "bin_end": 0.6650186256313302,
            "count": 1
           },
           {
            "bin_start": 0.6650186256313302,
            "bin_end": 0.7766790837542201,
            "count": 0
           },
           {
            "bin_start": 0.7766790837542201,
            "bin_end": 0.8883395418771101,
            "count": 0
           },
           {
            "bin_start": 0.8883395418771101,
            "bin_end": 1,
            "count": 1
           }
          ]
         }
        },
        {
         "name": "CoapplicantIncome",
         "dtype": "float64",
         "stats": {
          "unique_count": 6,
          "nan_count": 0,
          "min": "-0.11660458122889955",
          "max": "1.0",
          "histogram": [
           {
            "bin_start": -0.11660458122889955,
            "bin_end": -0.004944123106009585,
            "count": 3
           },
           {
            "bin_start": -0.004944123106009585,
            "bin_end": 0.10671633501688038,
            "count": 1
           },
           {
            "bin_start": 0.10671633501688038,
            "bin_end": 0.21837679313977038,
            "count": 1
           },
           {
            "bin_start": 0.21837679313977038,
            "bin_end": 0.3300372512626603,
            "count": 0
           },
           {
            "bin_start": 0.3300372512626603,
            "bin_end": 0.44169770938555025,
            "count": 0
           },
           {
            "bin_start": 0.44169770938555025,
            "bin_end": 0.5533581675084402,
            "count": 0
           },
           {
            "bin_start": 0.5533581675084402,
            "bin_end": 0.6650186256313302,
            "count": 0
           },
           {
            "bin_start": 0.6650186256313302,
            "bin_end": 0.7766790837542201,
            "count": 0
           },
           {
            "bin_start": 0.7766790837542201,
            "bin_end": 0.8883395418771101,
            "count": 0
           },
           {
            "bin_start": 0.8883395418771101,
            "bin_end": 1,
            "count": 1
           }
          ]
         }
        },
        {
         "name": "LoanAmount",
         "dtype": "float64",
         "stats": {
          "unique_count": 6,
          "nan_count": 0,
          "min": "-0.037317768699794175",
          "max": "1.0",
          "histogram": [
           {
            "bin_start": -0.037317768699794175,
            "bin_end": 0.06641400817018522,
            "count": 3
           },
           {
            "bin_start": 0.06641400817018522,
            "bin_end": 0.17014578504016464,
            "count": 0
           },
           {
            "bin_start": 0.17014578504016464,
            "bin_end": 0.273877561910144,
            "count": 1
           },
           {
            "bin_start": 0.273877561910144,
            "bin_end": 0.3776093387801234,
            "count": 0
           },
           {
            "bin_start": 0.3776093387801234,
            "bin_end": 0.48134111565010285,
            "count": 0
           },
           {
            "bin_start": 0.48134111565010285,
            "bin_end": 0.5850728925200822,
            "count": 1
           },
           {
            "bin_start": 0.5850728925200822,
            "bin_end": 0.6888046693900617,
            "count": 0
           },
           {
            "bin_start": 0.6888046693900617,
            "bin_end": 0.792536446260041,
            "count": 0
           },
           {
            "bin_start": 0.792536446260041,
            "bin_end": 0.8962682231300204,
            "count": 0
           },
           {
            "bin_start": 0.8962682231300204,
            "bin_end": 1,
            "count": 1
           }
          ]
         }
        },
        {
         "name": "Loan_Amount_Term",
         "dtype": "float64",
         "stats": {
          "unique_count": 6,
          "nan_count": 0,
          "min": "-0.059878008731631405",
          "max": "1.0",
          "histogram": [
           {
            "bin_start": -0.059878008731631405,
            "bin_end": 0.04610979214153173,
            "count": 5
           },
           {
            "bin_start": 0.04610979214153173,
            "bin_end": 0.15209759301469486,
            "count": 0
           },
           {
            "bin_start": 0.15209759301469486,
            "bin_end": 0.258085393887858,
            "count": 0
           },
           {
            "bin_start": 0.258085393887858,
            "bin_end": 0.3640731947610211,
            "count": 0
           },
           {
            "bin_start": 0.3640731947610211,
            "bin_end": 0.47006099563418424,
            "count": 0
           },
           {
            "bin_start": 0.47006099563418424,
            "bin_end": 0.5760487965073474,
            "count": 0
           },
           {
            "bin_start": 0.5760487965073474,
            "bin_end": 0.6820365973805105,
            "count": 0
           },
           {
            "bin_start": 0.6820365973805105,
            "bin_end": 0.7880243982536737,
            "count": 0
           },
           {
            "bin_start": 0.7880243982536737,
            "bin_end": 0.8940121991268368,
            "count": 0
           },
           {
            "bin_start": 0.8940121991268368,
            "bin_end": 1,
            "count": 1
           }
          ]
         }
        },
        {
         "name": "Credit_History",
         "dtype": "float64",
         "stats": {
          "unique_count": 6,
          "nan_count": 0,
          "min": "-0.014714878100313102",
          "max": "1.0",
          "histogram": [
           {
            "bin_start": -0.014714878100313102,
            "bin_end": 0.0867566097097182,
            "count": 4
           },
           {
            "bin_start": 0.0867566097097182,
            "bin_end": 0.1882280975197495,
            "count": 0
           },
           {
            "bin_start": 0.1882280975197495,
            "bin_end": 0.28969958532978085,
            "count": 0
           },
           {
            "bin_start": 0.28969958532978085,
            "bin_end": 0.39117107313981214,
            "count": 0
           },
           {
            "bin_start": 0.39117107313981214,
            "bin_end": 0.49264256094984343,
            "count": 0
           },
           {
            "bin_start": 0.49264256094984343,
            "bin_end": 0.5941140487598747,
            "count": 1
           },
           {
            "bin_start": 0.5941140487598747,
            "bin_end": 0.695585536569906,
            "count": 0
           },
           {
            "bin_start": 0.695585536569906,
            "bin_end": 0.7970570243799373,
            "count": 0
           },
           {
            "bin_start": 0.7970570243799373,
            "bin_end": 0.8985285121899687,
            "count": 0
           },
           {
            "bin_start": 0.8985285121899687,
            "bin_end": 1,
            "count": 1
           }
          ]
         }
        },
        {
         "name": "Loan_Status",
         "dtype": "float64",
         "stats": {
          "unique_count": 6,
          "nan_count": 0,
          "min": "-0.059187313487850064",
          "max": "1.0",
          "histogram": [
           {
            "bin_start": -0.059187313487850064,
            "bin_end": 0.04673141786093494,
            "count": 4
           },
           {
            "bin_start": 0.04673141786093494,
            "bin_end": 0.15265014920971995,
            "count": 0
           },
           {
            "bin_start": 0.15265014920971995,
            "bin_end": 0.25856888055850497,
            "count": 0
           },
           {
            "bin_start": 0.25856888055850497,
            "bin_end": 0.36448761190728995,
            "count": 0
           },
           {
            "bin_start": 0.36448761190728995,
            "bin_end": 0.47040634325607494,
            "count": 0
           },
           {
            "bin_start": 0.47040634325607494,
            "bin_end": 0.5763250746048599,
            "count": 1
           },
           {
            "bin_start": 0.5763250746048599,
            "bin_end": 0.6822438059536449,
            "count": 0
           },
           {
            "bin_start": 0.6822438059536449,
            "bin_end": 0.7881625373024299,
            "count": 0
           },
           {
            "bin_start": 0.7881625373024299,
            "bin_end": 0.894081268651215,
            "count": 0
           },
           {
            "bin_start": 0.894081268651215,
            "bin_end": 1,
            "count": 1
           }
          ]
         }
        },
        {
         "name": "_deepnote_index_column",
         "dtype": "object"
        }
       ],
       "rows": [
        {
         "ApplicantIncome": 1,
         "CoapplicantIncome": -0.11660458122889955,
         "LoanAmount": 0.5709090389885663,
         "Loan_Amount_Term": -0.04530608706258189,
         "Credit_History": -0.014714878100313102,
         "Loan_Status": -0.0047095226593515584,
         "_deepnote_index_column": "ApplicantIncome"
        },
        {
         "ApplicantIncome": -0.11660458122889955,
         "CoapplicantIncome": 1,
         "LoanAmount": 0.18861940442311742,
         "Loan_Amount_Term": -0.059878008731631405,
         "Credit_History": -0.00205627644650305,
         "Loan_Status": -0.059187313487850064,
         "_deepnote_index_column": "CoapplicantIncome"
        },
        {
         "ApplicantIncome": 0.5709090389885663,
         "CoapplicantIncome": 0.18861940442311742,
         "LoanAmount": 1,
         "Loan_Amount_Term": 0.0394472509159701,
         "Credit_History": -0.008432772365243776,
         "Loan_Status": -0.037317768699794175,
         "_deepnote_index_column": "LoanAmount"
        },
        {
         "ApplicantIncome": -0.04530608706258189,
         "CoapplicantIncome": -0.059878008731631405,
         "LoanAmount": 0.0394472509159701,
         "Loan_Amount_Term": 1,
         "Credit_History": 0.001470109869839285,
         "Loan_Status": -0.021267658123862963,
         "_deepnote_index_column": "Loan_Amount_Term"
        },
        {
         "ApplicantIncome": -0.014714878100313102,
         "CoapplicantIncome": -0.00205627644650305,
         "LoanAmount": -0.008432772365243776,
         "Loan_Amount_Term": 0.001470109869839285,
         "Credit_History": 1,
         "Loan_Status": 0.5616781574653794,
         "_deepnote_index_column": "Credit_History"
        },
        {
         "ApplicantIncome": -0.0047095226593515584,
         "CoapplicantIncome": -0.059187313487850064,
         "LoanAmount": -0.037317768699794175,
         "Loan_Amount_Term": -0.021267658123862963,
         "Credit_History": 0.5616781574653794,
         "Loan_Status": 1,
         "_deepnote_index_column": "Loan_Status"
        }
       ]
      },
      "text/plain": "                   ApplicantIncome  CoapplicantIncome  LoanAmount  \\\nApplicantIncome           1.000000          -0.116605    0.570909   \nCoapplicantIncome        -0.116605           1.000000    0.188619   \nLoanAmount                0.570909           0.188619    1.000000   \nLoan_Amount_Term         -0.045306          -0.059878    0.039447   \nCredit_History           -0.014715          -0.002056   -0.008433   \nLoan_Status              -0.004710          -0.059187   -0.037318   \n\n                   Loan_Amount_Term  Credit_History  Loan_Status  \nApplicantIncome           -0.045306       -0.014715    -0.004710  \nCoapplicantIncome         -0.059878       -0.002056    -0.059187  \nLoanAmount                 0.039447       -0.008433    -0.037318  \nLoan_Amount_Term           1.000000        0.001470    -0.021268  \nCredit_History             0.001470        1.000000     0.561678  \nLoan_Status               -0.021268        0.561678     1.000000  ",
      "text/html": "<div>\n<style scoped>\n    .dataframe tbody tr th:only-of-type {\n        vertical-align: middle;\n    }\n\n    .dataframe tbody tr th {\n        vertical-align: top;\n    }\n\n    .dataframe thead th {\n        text-align: right;\n    }\n</style>\n<table border=\"1\" class=\"dataframe\">\n  <thead>\n    <tr style=\"text-align: right;\">\n      <th></th>\n      <th>ApplicantIncome</th>\n      <th>CoapplicantIncome</th>\n      <th>LoanAmount</th>\n      <th>Loan_Amount_Term</th>\n      <th>Credit_History</th>\n      <th>Loan_Status</th>\n    </tr>\n  </thead>\n  <tbody>\n    <tr>\n      <th>ApplicantIncome</th>\n      <td>1.000000</td>\n      <td>-0.116605</td>\n      <td>0.570909</td>\n      <td>-0.045306</td>\n      <td>-0.014715</td>\n      <td>-0.004710</td>\n    </tr>\n    <tr>\n      <th>CoapplicantIncome</th>\n      <td>-0.116605</td>\n      <td>1.000000</td>\n      <td>0.188619</td>\n      <td>-0.059878</td>\n      <td>-0.002056</td>\n      <td>-0.059187</td>\n    </tr>\n    <tr>\n      <th>LoanAmount</th>\n      <td>0.570909</td>\n      <td>0.188619</td>\n      <td>1.000000</td>\n      <td>0.039447</td>\n      <td>-0.008433</td>\n      <td>-0.037318</td>\n    </tr>\n    <tr>\n      <th>Loan_Amount_Term</th>\n      <td>-0.045306</td>\n      <td>-0.059878</td>\n      <td>0.039447</td>\n      <td>1.000000</td>\n      <td>0.001470</td>\n      <td>-0.021268</td>\n    </tr>\n    <tr>\n      <th>Credit_History</th>\n      <td>-0.014715</td>\n      <td>-0.002056</td>\n      <td>-0.008433</td>\n      <td>0.001470</td>\n      <td>1.000000</td>\n      <td>0.561678</td>\n    </tr>\n    <tr>\n      <th>Loan_Status</th>\n      <td>-0.004710</td>\n      <td>-0.059187</td>\n      <td>-0.037318</td>\n      <td>-0.021268</td>\n      <td>0.561678</td>\n      <td>1.000000</td>\n    </tr>\n  </tbody>\n</table>\n</div>"
     },
     "metadata": {}
    }
   ]
  },
  {
   "cell_type": "code",
   "metadata": {
    "tags": [],
    "deepnote_to_be_reexecuted": false,
    "source_hash": "304c569",
    "execution_start": 1659514950613,
    "execution_millis": 1065,
    "cell_id": "00031-194e9fbe-688f-4e8b-9798-accae4040953",
    "deepnote_cell_type": "code",
    "deepnote_cell_height": 651.5625,
    "deepnote_output_heights": [
     21.1875,
     471.390625
    ]
   },
   "source": "f, axes = plt.subplots(1, 1, figsize=(20, 10))\nsns.heatmap(df.corr(), vmin = -1, vmax = 1, linewidths = 1,\n           annot = True, fmt = \".2f\", annot_kws = {\"size\": 18}, cmap = \"RdBu\")",
   "execution_count": 23,
   "outputs": [
    {
     "output_type": "execute_result",
     "execution_count": 23,
     "data": {
      "text/plain": "<AxesSubplot:>"
     },
     "metadata": {}
    },
    {
     "data": {
      "text/plain": "<Figure size 1440x720 with 2 Axes>",
      "image/png": "[encoded data removed]"
     },
     "metadata": {
      "needs_background": "light",
      "image/png": {
       "width": 1045,
       "height": 579
      }
     },
     "output_type": "display_data"
    }
   ]
  },
  {
   "cell_type": "code",
   "metadata": {
    "tags": [],
    "deepnote_to_be_reexecuted": false,
    "source_hash": "4cf530ad",
    "execution_start": 1659514951682,
    "execution_millis": 12928,
    "cell_id": "00032-98d951a3-32ff-48a9-ab87-6b7c1f9050ee",
    "deepnote_cell_type": "code",
    "deepnote_cell_height": 755,
    "deepnote_output_heights": [
     21,
     611
    ]
   },
   "source": "sns.pairplot(df)",
   "execution_count": 24,
   "outputs": [
    {
     "output_type": "execute_result",
     "execution_count": 24,
     "data": {
      "text/plain": "<seaborn.axisgrid.PairGrid at 0x7ff45c9d4070>"
     },
     "metadata": {}
    },
    {
     "data": {
      "text/plain": "<Figure size 1080x1080 with 42 Axes>",
      "image/png": "[encoded data removed]"
     },
     "metadata": {
      "needs_background": "light",
      "image/png": {
       "width": 1065,
       "height": 1062
      }
     },
     "output_type": "display_data"
    }
   ]
  },
  {
   "cell_type": "markdown",
   "source": "####  Variables that will help us predict whether or not a person will be approved for a loan",
   "metadata": {
    "tags": [],
    "cell_id": "00033-7b96b95b-a503-475f-a63f-2c8b4f3bd0e3",
    "deepnote_cell_type": "markdown",
    "deepnote_cell_height": 54
   }
  },
  {
   "cell_type": "code",
   "metadata": {
    "tags": [],
    "deepnote_to_be_reexecuted": false,
    "source_hash": "4cc7281f",
    "execution_start": 1659514964436,
    "execution_millis": 185,
    "cell_id": "00034-3818eabd-ef0c-4a47-9a7d-d988dc7dfbab",
    "deepnote_cell_type": "code",
    "deepnote_cell_height": 205.578125,
    "deepnote_output_heights": [
     59.59375
    ]
   },
   "source": "# Most correlated values are: 1) Credit_History 2) Property_Area_Semiurban 3) Property_Area_Rural\n\ncorr_df = df.corr()\ncorr_df.columns",
   "execution_count": 25,
   "outputs": [
    {
     "output_type": "execute_result",
     "execution_count": 25,
     "data": {
      "text/plain": "Index(['ApplicantIncome', 'CoapplicantIncome', 'LoanAmount',\n       'Loan_Amount_Term', 'Credit_History', 'Loan_Status'],\n      dtype='object')"
     },
     "metadata": {}
    }
   ]
  },
  {
   "cell_type": "code",
   "metadata": {
    "tags": [],
    "deepnote_to_be_reexecuted": false,
    "source_hash": "e66cd009",
    "execution_start": 1659514964457,
    "execution_millis": 4,
    "cell_id": "00035-f4815083-8e12-42fb-8e3c-fd7126ab55d4",
    "deepnote_cell_type": "code",
    "deepnote_cell_height": 94
   },
   "source": "# for _ ,column in enumerate(df.columns):\n#     sns.displot(df[column])",
   "execution_count": 26,
   "outputs": []
  },
  {
   "cell_type": "code",
   "metadata": {
    "tags": [],
    "deepnote_to_be_reexecuted": false,
    "source_hash": "59ff271d",
    "execution_start": 1659514964471,
    "execution_millis": 163,
    "cell_id": "00036-fc49e0c2-8db2-4bea-a135-64a8a237e601",
    "deepnote_cell_type": "code",
    "deepnote_cell_height": 398.78125,
    "deepnote_output_heights": [
     270.796875
    ]
   },
   "source": "df.isnull().sum()\n\n#columns with missing cells",
   "execution_count": 27,
   "outputs": [
    {
     "output_type": "execute_result",
     "execution_count": 27,
     "data": {
      "text/plain": "Loan_ID               0\nGender               13\nMarried               3\nDependents           15\nEducation             0\nSelf_Employed        32\nApplicantIncome       0\nCoapplicantIncome     0\nLoanAmount           22\nLoan_Amount_Term     14\nCredit_History       50\nProperty_Area         0\nLoan_Status           0\ndtype: int64"
     },
     "metadata": {}
    }
   ]
  },
  {
   "cell_type": "code",
   "metadata": {
    "tags": [],
    "deepnote_to_be_reexecuted": false,
    "source_hash": "31b35881",
    "execution_start": 1659514964499,
    "execution_millis": 251385,
    "cell_id": "00037-33e7527b-f6fb-44a5-8ab4-8fd119535d18",
    "deepnote_cell_type": "code",
    "deepnote_cell_height": 76
   },
   "source": "data_train = df.copy()",
   "execution_count": 28,
   "outputs": []
  },
  {
   "cell_type": "code",
   "metadata": {
    "tags": [],
    "deepnote_to_be_reexecuted": false,
    "source_hash": "13bdbb3f",
    "execution_start": 1659514964549,
    "execution_millis": 1,
    "cell_id": "00038-b370dffb-8c5d-4795-bae5-48000a1161a6",
    "deepnote_cell_type": "code",
    "deepnote_cell_height": 184
   },
   "source": "# Categorical values \n\n# train dataset \ndata_train['Gender'].fillna(data_train['Gender'].mode()[0], inplace=True)\ndata_train['Married'].fillna(data_train['Married'].mode()[0], inplace=True)\ndata_train['Dependents'].fillna(data_train['Dependents'].mode()[0], inplace=True)\ndata_train['Self_Employed'].fillna(data_train['Self_Employed'].mode()[0], inplace=True)",
   "execution_count": 29,
   "outputs": []
  },
  {
   "cell_type": "code",
   "metadata": {
    "tags": [],
    "deepnote_to_be_reexecuted": false,
    "source_hash": "20111e65",
    "execution_start": 1659514964550,
    "execution_millis": 821,
    "cell_id": "00039-cd4771d6-f834-4f9c-a80d-4bd917df4a74",
    "deepnote_cell_type": "code",
    "deepnote_cell_height": 606.1875,
    "deepnote_output_heights": [
     21.1875,
     354
    ]
   },
   "source": "# Example of numerical value histogram why we choose the median instead of the mean\nsns.displot(data_train['LoanAmount'])\nplt.axvline(x=data_train['LoanAmount'].median(),\n            color='red',linewidth=3, label='Median')\nplt.axvline(x=data_train['LoanAmount'].mean(),\n            color='orange',linewidth=3, label='Mean')\nplt.legend()",
   "execution_count": 30,
   "outputs": [
    {
     "output_type": "execute_result",
     "execution_count": 30,
     "data": {
      "text/plain": "<matplotlib.legend.Legend at 0x7ff453a77d30>"
     },
     "metadata": {}
    },
    {
     "data": {
      "text/plain": "<Figure size 360x360 with 1 Axes>",
      "image/png": "[encoded data removed]"
     },
     "metadata": {
      "needs_background": "light",
      "image/png": {
       "width": 352,
       "height": 352
      }
     },
     "output_type": "display_data"
    }
   ]
  },
  {
   "cell_type": "code",
   "metadata": {
    "tags": [],
    "deepnote_to_be_reexecuted": false,
    "source_hash": "5e7b8311",
    "execution_start": 1659514965377,
    "execution_millis": 700,
    "cell_id": "00040-aefaecbd-a4b7-4682-8af6-86d79d51446f",
    "deepnote_cell_type": "code",
    "deepnote_cell_height": 606.1875,
    "deepnote_output_heights": [
     21.1875,
     354
    ]
   },
   "source": "# Example of numerical value histogram why we choose the median instead of the mean\nsns.displot(data_train['Credit_History'])\nplt.axvline(x=data_train['Credit_History'].median(),\n            color='red',linewidth=3, label='Median')\nplt.axvline(x=data_train['Credit_History'].mean(),\n            color='orange',linewidth=3, label='Mean')\nplt.legend()",
   "execution_count": 31,
   "outputs": [
    {
     "output_type": "execute_result",
     "execution_count": 31,
     "data": {
      "text/plain": "<matplotlib.legend.Legend at 0x7ff45397d640>"
     },
     "metadata": {}
    },
    {
     "data": {
      "text/plain": "<Figure size 360x360 with 1 Axes>",
      "image/png": "[encoded data removed]"
     },
     "metadata": {
      "needs_background": "light",
      "image/png": {
       "width": 352,
       "height": 352
      }
     },
     "output_type": "display_data"
    }
   ]
  },
  {
   "cell_type": "code",
   "metadata": {
    "tags": [],
    "deepnote_to_be_reexecuted": false,
    "source_hash": "331b86c1",
    "execution_start": 1659514966056,
    "execution_millis": 667,
    "cell_id": "00041-6841cd75-3f6c-47a1-8a1c-1de6d135eba9",
    "deepnote_cell_type": "code",
    "deepnote_cell_height": 588.1875,
    "deepnote_output_heights": [
     21.1875,
     354
    ]
   },
   "source": "sns.displot(data_train['Loan_Amount_Term'])\nplt.axvline(x=data_train['Loan_Amount_Term'].median(),\n            color='red',linewidth=3, label='Median')\nplt.axvline(x=data_train['Loan_Amount_Term'].mean(),\n            color='orange',linewidth=3, label='Mean')\nplt.legend()",
   "execution_count": 32,
   "outputs": [
    {
     "output_type": "execute_result",
     "execution_count": 32,
     "data": {
      "text/plain": "<matplotlib.legend.Legend at 0x7ff4538368e0>"
     },
     "metadata": {}
    },
    {
     "data": {
      "text/plain": "<Figure size 360x360 with 1 Axes>",
      "image/png": "[encoded data removed]"
     },
     "metadata": {
      "needs_background": "light",
      "image/png": {
       "width": 352,
       "height": 352
      }
     },
     "output_type": "display_data"
    }
   ]
  },
  {
   "cell_type": "code",
   "metadata": {
    "tags": [],
    "deepnote_to_be_reexecuted": false,
    "source_hash": "c89bd59a",
    "execution_start": 1659514966698,
    "execution_millis": 26,
    "cell_id": "00042-dbc77597-2f0d-4494-ae10-1216d457fe77",
    "deepnote_cell_type": "code",
    "deepnote_cell_height": 148
   },
   "source": "# Numberical values \n\ndata_train['Credit_History'].fillna(data_train['Credit_History'].mode()[0], inplace=True)\ndata_train['Loan_Amount_Term'].fillna(data_train['Loan_Amount_Term'].mode()[0], inplace=True)\ndata_train['LoanAmount'].fillna(data_train['LoanAmount'].median(), inplace=True)",
   "execution_count": 33,
   "outputs": []
  },
  {
   "cell_type": "code",
   "metadata": {
    "tags": [],
    "deepnote_to_be_reexecuted": false,
    "source_hash": "860c7c94",
    "execution_start": 1659514966732,
    "execution_millis": 30,
    "cell_id": "00043-27c199a1-cb75-4040-9224-a70fed46aa77",
    "deepnote_cell_type": "code",
    "deepnote_cell_height": 362.78125,
    "deepnote_output_heights": [
     270.796875
    ]
   },
   "source": "data_train.isnull().sum()",
   "execution_count": 34,
   "outputs": [
    {
     "output_type": "execute_result",
     "execution_count": 34,
     "data": {
      "text/plain": "Loan_ID              0\nGender               0\nMarried              0\nDependents           0\nEducation            0\nSelf_Employed        0\nApplicantIncome      0\nCoapplicantIncome    0\nLoanAmount           0\nLoan_Amount_Term     0\nCredit_History       0\nProperty_Area        0\nLoan_Status          0\ndtype: int64"
     },
     "metadata": {}
    }
   ]
  },
  {
   "cell_type": "code",
   "metadata": {
    "tags": [],
    "deepnote_to_be_reexecuted": false,
    "source_hash": "d9a2eb0a",
    "execution_start": 1659514966768,
    "execution_millis": 27,
    "cell_id": "00044-75992fef-bb9c-46b3-8497-b42fd84cb2e7",
    "deepnote_cell_type": "code",
    "deepnote_cell_height": 135
   },
   "source": "dummies = pd.get_dummies(data_train[['Gender','Married','Education','Self_Employed','Property_Area','Dependents']])\ndata_train = pd.concat([dummies, data_train.drop(['Gender','Married','Education','Self_Employed',\\\n                        'Dependents','Property_Area',], axis=1)], axis=1)\ndata_train = data_train.drop('Loan_ID', axis = 1)",
   "execution_count": 35,
   "outputs": []
  },
  {
   "cell_type": "code",
   "metadata": {
    "tags": [],
    "deepnote_to_be_reexecuted": false,
    "source_hash": "9b3c4d31",
    "execution_start": 1659514966804,
    "execution_millis": 781,
    "cell_id": "00045-ffcb3ec8-7b09-44db-a42f-153c6901c5a8",
    "deepnote_cell_type": "code",
    "deepnote_cell_height": 611.796875
   },
   "source": "data_train",
   "execution_count": 36,
   "outputs": [
    {
     "output_type": "execute_result",
     "execution_count": 36,
     "data": {
      "application/vnd.deepnote.dataframe.v3+json": {
       "column_count": 21,
       "row_count": 614,
       "columns": [
        {
         "name": "Gender_Female",
         "dtype": "uint8",
         "stats": {
          "unique_count": 2,
          "nan_count": 0,
          "min": "0",
          "max": "1",
          "histogram": [
           {
            "bin_start": 0,
            "bin_end": 0.1,
            "count": 502
           },
           {
            "bin_start": 0.1,
            "bin_end": 0.2,
            "count": 0
           },
           {
            "bin_start": 0.2,
            "bin_end": 0.30000000000000004,
            "count": 0
           },
           {
            "bin_start": 0.30000000000000004,
            "bin_end": 0.4,
            "count": 0
           },
           {
            "bin_start": 0.4,
            "bin_end": 0.5,
            "count": 0
           },
           {
            "bin_start": 0.5,
            "bin_end": 0.6000000000000001,
            "count": 0
           },
           {
            "bin_start": 0.6000000000000001,
            "bin_end": 0.7000000000000001,
            "count": 0
           },
           {
            "bin_start": 0.7000000000000001,
            "bin_end": 0.8,
            "count": 0
           },
           {
            "bin_start": 0.8,
            "bin_end": 0.9,
            "count": 0
           },
           {
            "bin_start": 0.9,
            "bin_end": 1,
            "count": 112
           }
          ]
         }
        },
        {
         "name": "Gender_Male",
         "dtype": "uint8",
         "stats": {
          "unique_count": 2,
          "nan_count": 0,
          "min": "0",
          "max": "1",
          "histogram": [
           {
            "bin_start": 0,
            "bin_end": 0.1,
            "count": 112
           },
           {
            "bin_start": 0.1,
            "bin_end": 0.2,
            "count": 0
           },
           {
            "bin_start": 0.2,
            "bin_end": 0.30000000000000004,
            "count": 0
           },
           {
            "bin_start": 0.30000000000000004,
            "bin_end": 0.4,
            "count": 0
           },
           {
            "bin_start": 0.4,
            "bin_end": 0.5,
            "count": 0
           },
           {
            "bin_start": 0.5,
            "bin_end": 0.6000000000000001,
            "count": 0
           },
           {
            "bin_start": 0.6000000000000001,
            "bin_end": 0.7000000000000001,
            "count": 0
           },
           {
            "bin_start": 0.7000000000000001,
            "bin_end": 0.8,
            "count": 0
           },
           {
            "bin_start": 0.8,
            "bin_end": 0.9,
            "count": 0
           },
           {
            "bin_start": 0.9,
            "bin_end": 1,
            "count": 502
           }
          ]
         }
        },
        {
         "name": "Married_No",
         "dtype": "uint8",
         "stats": {
          "unique_count": 2,
          "nan_count": 0,
          "min": "0",
          "max": "1",
          "histogram": [
           {
            "bin_start": 0,
            "bin_end": 0.1,
            "count": 401
           },
           {
            "bin_start": 0.1,
            "bin_end": 0.2,
            "count": 0
           },
           {
            "bin_start": 0.2,
            "bin_end": 0.30000000000000004,
            "count": 0
           },
           {
            "bin_start": 0.30000000000000004,
            "bin_end": 0.4,
            "count": 0
           },
           {
            "bin_start": 0.4,
            "bin_end": 0.5,
            "count": 0
           },
           {
            "bin_start": 0.5,
            "bin_end": 0.6000000000000001,
            "count": 0
           },
           {
            "bin_start": 0.6000000000000001,
            "bin_end": 0.7000000000000001,
            "count": 0
           },
           {
            "bin_start": 0.7000000000000001,
            "bin_end": 0.8,
            "count": 0
           },
           {
            "bin_start": 0.8,
            "bin_end": 0.9,
            "count": 0
           },
           {
            "bin_start": 0.9,
            "bin_end": 1,
            "count": 213
           }
          ]
         }
        },
        {
         "name": "Married_Yes",
         "dtype": "uint8",
         "stats": {
          "unique_count": 2,
          "nan_count": 0,
          "min": "0",
          "max": "1",
          "histogram": [
           {
            "bin_start": 0,
            "bin_end": 0.1,
            "count": 213
           },
           {
            "bin_start": 0.1,
            "bin_end": 0.2,
            "count": 0
           },
           {
            "bin_start": 0.2,
            "bin_end": 0.30000000000000004,
            "count": 0
           },
           {
            "bin_start": 0.30000000000000004,
            "bin_end": 0.4,
            "count": 0
           },
           {
            "bin_start": 0.4,
            "bin_end": 0.5,
            "count": 0
           },
           {
            "bin_start": 0.5,
            "bin_end": 0.6000000000000001,
            "count": 0
           },
           {
            "bin_start": 0.6000000000000001,
            "bin_end": 0.7000000000000001,
            "count": 0
           },
           {
            "bin_start": 0.7000000000000001,
            "bin_end": 0.8,
            "count": 0
           },
           {
            "bin_start": 0.8,
            "bin_end": 0.9,
            "count": 0
           },
           {
            "bin_start": 0.9,
            "bin_end": 1,
            "count": 401
           }
          ]
         }
        },
        {
         "name": "Education_Graduate",
         "dtype": "uint8",
         "stats": {
          "unique_count": 2,
          "nan_count": 0,
          "min": "0",
          "max": "1",
          "histogram": [
           {
            "bin_start": 0,
            "bin_end": 0.1,
            "count": 134
           },
           {
            "bin_start": 0.1,
            "bin_end": 0.2,
            "count": 0
           },
           {
            "bin_start": 0.2,
            "bin_end": 0.30000000000000004,
            "count": 0
           },
           {
            "bin_start": 0.30000000000000004,
            "bin_end": 0.4,
            "count": 0
           },
           {
            "bin_start": 0.4,
            "bin_end": 0.5,
            "count": 0
           },
           {
            "bin_start": 0.5,
            "bin_end": 0.6000000000000001,
            "count": 0
           },
           {
            "bin_start": 0.6000000000000001,
            "bin_end": 0.7000000000000001,
            "count": 0
           },
           {
            "bin_start": 0.7000000000000001,
            "bin_end": 0.8,
            "count": 0
           },
           {
            "bin_start": 0.8,
            "bin_end": 0.9,
            "count": 0
           },
           {
            "bin_start": 0.9,
            "bin_end": 1,
            "count": 480
           }
          ]
         }
        },
        {
         "name": "Education_Not Graduate",
         "dtype": "uint8",
         "stats": {
          "unique_count": 2,
          "nan_count": 0,
          "min": "0",
          "max": "1",
          "histogram": [
           {
            "bin_start": 0,
            "bin_end": 0.1,
            "count": 480
           },
           {
            "bin_start": 0.1,
            "bin_end": 0.2,
            "count": 0
           },
           {
            "bin_start": 0.2,
            "bin_end": 0.30000000000000004,
            "count": 0
           },
           {
            "bin_start": 0.30000000000000004,
            "bin_end": 0.4,
            "count": 0
           },
           {
            "bin_start": 0.4,
            "bin_end": 0.5,
            "count": 0
           },
           {
            "bin_start": 0.5,
            "bin_end": 0.6000000000000001,
            "count": 0
           },
           {
            "bin_start": 0.6000000000000001,
            "bin_end": 0.7000000000000001,
            "count": 0
           },
           {
            "bin_start": 0.7000000000000001,
            "bin_end": 0.8,
            "count": 0
           },
           {
            "bin_start": 0.8,
            "bin_end": 0.9,
            "count": 0
           },
           {
            "bin_start": 0.9,
            "bin_end": 1,
            "count": 134
           }
          ]
         }
        },
        {
         "name": "Self_Employed_No",
         "dtype": "uint8",
         "stats": {
          "unique_count": 2,
          "nan_count": 0,
          "min": "0",
          "max": "1",
          "histogram": [
           {
            "bin_start": 0,
            "bin_end": 0.1,
            "count": 82
           },
           {
            "bin_start": 0.1,
            "bin_end": 0.2,
            "count": 0
           },
           {
            "bin_start": 0.2,
            "bin_end": 0.30000000000000004,
            "count": 0
           },
           {
            "bin_start": 0.30000000000000004,
            "bin_end": 0.4,
            "count": 0
           },
           {
            "bin_start": 0.4,
            "bin_end": 0.5,
            "count": 0
           },
           {
            "bin_start": 0.5,
            "bin_end": 0.6000000000000001,
            "count": 0
           },
           {
            "bin_start": 0.6000000000000001,
            "bin_end": 0.7000000000000001,
            "count": 0
           },
           {
            "bin_start": 0.7000000000000001,
            "bin_end": 0.8,
            "count": 0
           },
           {
            "bin_start": 0.8,
            "bin_end": 0.9,
            "count": 0
           },
           {
            "bin_start": 0.9,
            "bin_end": 1,
            "count": 532
           }
          ]
         }
        },
        {
         "name": "Self_Employed_Yes",
         "dtype": "uint8",
         "stats": {
          "unique_count": 2,
          "nan_count": 0,
          "min": "0",
          "max": "1",
          "histogram": [
           {
            "bin_start": 0,
            "bin_end": 0.1,
            "count": 532
           },
           {
            "bin_start": 0.1,
            "bin_end": 0.2,
            "count": 0
           },
           {
            "bin_start": 0.2,
            "bin_end": 0.30000000000000004,
            "count": 0
           },
           {
            "bin_start": 0.30000000000000004,
            "bin_end": 0.4,
            "count": 0
           },
           {
            "bin_start": 0.4,
            "bin_end": 0.5,
            "count": 0
           },
           {
            "bin_start": 0.5,
            "bin_end": 0.6000000000000001,
            "count": 0
           },
           {
            "bin_start": 0.6000000000000001,
            "bin_end": 0.7000000000000001,
            "count": 0
           },
           {
            "bin_start": 0.7000000000000001,
            "bin_end": 0.8,
            "count": 0
           },
           {
            "bin_start": 0.8,
            "bin_end": 0.9,
            "count": 0
           },
           {
            "bin_start": 0.9,
            "bin_end": 1,
            "count": 82
           }
          ]
         }
        },
        {
         "name": "Property_Area_Rural",
         "dtype": "uint8",
         "stats": {
          "unique_count": 2,
          "nan_count": 0,
          "min": "0",
          "max": "1",
          "histogram": [
           {
            "bin_start": 0,
            "bin_end": 0.1,
            "count": 435
           },
           {
            "bin_start": 0.1,
            "bin_end": 0.2,
            "count": 0
           },
           {
            "bin_start": 0.2,
            "bin_end": 0.30000000000000004,
            "count": 0
           },
           {
            "bin_start": 0.30000000000000004,
            "bin_end": 0.4,
            "count": 0
           },
           {
            "bin_start": 0.4,
            "bin_end": 0.5,
            "count": 0
           },
           {
            "bin_start": 0.5,
            "bin_end": 0.6000000000000001,
            "count": 0
           },
           {
            "bin_start": 0.6000000000000001,
            "bin_end": 0.7000000000000001,
            "count": 0
           },
           {
            "bin_start": 0.7000000000000001,
            "bin_end": 0.8,
            "count": 0
           },
           {
            "bin_start": 0.8,
            "bin_end": 0.9,
            "count": 0
           },
           {
            "bin_start": 0.9,
            "bin_end": 1,
            "count": 179
           }
          ]
         }
        },
        {
         "name": "Property_Area_Semiurban",
         "dtype": "uint8",
         "stats": {
          "unique_count": 2,
          "nan_count": 0,
          "min": "0",
          "max": "1",
          "histogram": [
           {
            "bin_start": 0,
            "bin_end": 0.1,
            "count": 381
           },
           {
            "bin_start": 0.1,
            "bin_end": 0.2,
            "count": 0
           },
           {
            "bin_start": 0.2,
            "bin_end": 0.30000000000000004,
            "count": 0
           },
           {
            "bin_start": 0.30000000000000004,
            "bin_end": 0.4,
            "count": 0
           },
           {
            "bin_start": 0.4,
            "bin_end": 0.5,
            "count": 0
           },
           {
            "bin_start": 0.5,
            "bin_end": 0.6000000000000001,
            "count": 0
           },
           {
            "bin_start": 0.6000000000000001,
            "bin_end": 0.7000000000000001,
            "count": 0
           },
           {
            "bin_start": 0.7000000000000001,
            "bin_end": 0.8,
            "count": 0
           },
           {
            "bin_start": 0.8,
            "bin_end": 0.9,
            "count": 0
           },
           {
            "bin_start": 0.9,
            "bin_end": 1,
            "count": 233
           }
          ]
         }
        },
        {
         "name": "Property_Area_Urban",
         "dtype": "uint8",
         "stats": {
          "unique_count": 2,
          "nan_count": 0,
          "min": "0",
          "max": "1",
          "histogram": [
           {
            "bin_start": 0,
            "bin_end": 0.1,
            "count": 412
           },
           {
            "bin_start": 0.1,
            "bin_end": 0.2,
            "count": 0
           },
           {
            "bin_start": 0.2,
            "bin_end": 0.30000000000000004,
            "count": 0
           },
           {
            "bin_start": 0.30000000000000004,
            "bin_end": 0.4,
            "count": 0
           },
           {
            "bin_start": 0.4,
            "bin_end": 0.5,
            "count": 0
           },
           {
            "bin_start": 0.5,
            "bin_end": 0.6000000000000001,
            "count": 0
           },
           {
            "bin_start": 0.6000000000000001,
            "bin_end": 0.7000000000000001,
            "count": 0
           },
           {
            "bin_start": 0.7000000000000001,
            "bin_end": 0.8,
            "count": 0
           },
           {
            "bin_start": 0.8,
            "bin_end": 0.9,
            "count": 0
           },
           {
            "bin_start": 0.9,
            "bin_end": 1,
            "count": 202
           }
          ]
         }
        },
        {
         "name": "Dependents_0",
         "dtype": "uint8",
         "stats": {
          "unique_count": 2,
          "nan_count": 0,
          "min": "0",
          "max": "1",
          "histogram": [
           {
            "bin_start": 0,
            "bin_end": 0.1,
            "count": 254
           },
           {
            "bin_start": 0.1,
            "bin_end": 0.2,
            "count": 0
           },
           {
            "bin_start": 0.2,
            "bin_end": 0.30000000000000004,
            "count": 0
           },
           {
            "bin_start": 0.30000000000000004,
            "bin_end": 0.4,
            "count": 0
           },
           {
            "bin_start": 0.4,
            "bin_end": 0.5,
            "count": 0
           },
           {
            "bin_start": 0.5,
            "bin_end": 0.6000000000000001,
            "count": 0
           },
           {
            "bin_start": 0.6000000000000001,
            "bin_end": 0.7000000000000001,
            "count": 0
           },
           {
            "bin_start": 0.7000000000000001,
            "bin_end": 0.8,
            "count": 0
           },
           {
            "bin_start": 0.8,
            "bin_end": 0.9,
            "count": 0
           },
           {
            "bin_start": 0.9,
            "bin_end": 1,
            "count": 360
           }
          ]
         }
        },
        {
         "name": "Dependents_1",
         "dtype": "uint8",
         "stats": {
          "unique_count": 2,
          "nan_count": 0,
          "min": "0",
          "max": "1",
          "histogram": [
           {
            "bin_start": 0,
            "bin_end": 0.1,
            "count": 512
           },
           {
            "bin_start": 0.1,
            "bin_end": 0.2,
            "count": 0
           },
           {
            "bin_start": 0.2,
            "bin_end": 0.30000000000000004,
            "count": 0
           },
           {
            "bin_start": 0.30000000000000004,
            "bin_end": 0.4,
            "count": 0
           },
           {
            "bin_start": 0.4,
            "bin_end": 0.5,
            "count": 0
           },
           {
            "bin_start": 0.5,
            "bin_end": 0.6000000000000001,
            "count": 0
           },
           {
            "bin_start": 0.6000000000000001,
            "bin_end": 0.7000000000000001,
            "count": 0
           },
           {
            "bin_start": 0.7000000000000001,
            "bin_end": 0.8,
            "count": 0
           },
           {
            "bin_start": 0.8,
            "bin_end": 0.9,
            "count": 0
           },
           {
            "bin_start": 0.9,
            "bin_end": 1,
            "count": 102
           }
          ]
         }
        },
        {
         "name": "Dependents_2",
         "dtype": "uint8",
         "stats": {
          "unique_count": 2,
          "nan_count": 0,
          "min": "0",
          "max": "1",
          "histogram": [
           {
            "bin_start": 0,
            "bin_end": 0.1,
            "count": 513
           },
           {
            "bin_start": 0.1,
            "bin_end": 0.2,
            "count": 0
           },
           {
            "bin_start": 0.2,
            "bin_end": 0.30000000000000004,
            "count": 0
           },
           {
            "bin_start": 0.30000000000000004,
            "bin_end": 0.4,
            "count": 0
           },
           {
            "bin_start": 0.4,
            "bin_end": 0.5,
            "count": 0
           },
           {
            "bin_start": 0.5,
            "bin_end": 0.6000000000000001,
            "count": 0
           },
           {
            "bin_start": 0.6000000000000001,
            "bin_end": 0.7000000000000001,
            "count": 0
           },
           {
            "bin_start": 0.7000000000000001,
            "bin_end": 0.8,
            "count": 0
           },
           {
            "bin_start": 0.8,
            "bin_end": 0.9,
            "count": 0
           },
           {
            "bin_start": 0.9,
            "bin_end": 1,
            "count": 101
           }
          ]
         }
        },
        {
         "name": "Dependents_3+",
         "dtype": "uint8",
         "stats": {
          "unique_count": 2,
          "nan_count": 0,
          "min": "0",
          "max": "1",
          "histogram": [
           {
            "bin_start": 0,
            "bin_end": 0.1,
            "count": 563
           },
           {
            "bin_start": 0.1,
            "bin_end": 0.2,
            "count": 0
           },
           {
            "bin_start": 0.2,
            "bin_end": 0.30000000000000004,
            "count": 0
           },
           {
            "bin_start": 0.30000000000000004,
            "bin_end": 0.4,
            "count": 0
           },
           {
            "bin_start": 0.4,
            "bin_end": 0.5,
            "count": 0
           },
           {
            "bin_start": 0.5,
            "bin_end": 0.6000000000000001,
            "count": 0
           },
           {
            "bin_start": 0.6000000000000001,
            "bin_end": 0.7000000000000001,
            "count": 0
           },
           {
            "bin_start": 0.7000000000000001,
            "bin_end": 0.8,
            "count": 0
           },
           {
            "bin_start": 0.8,
            "bin_end": 0.9,
            "count": 0
           },
           {
            "bin_start": 0.9,
            "bin_end": 1,
            "count": 51
           }
          ]
         }
        },
        {
         "name": "ApplicantIncome",
         "dtype": "int64",
         "stats": {
          "unique_count": 505,
          "nan_count": 0,
          "min": "150",
          "max": "81000",
          "histogram": [
           {
            "bin_start": 150,
            "bin_end": 8235,
            "count": 533
           },
           {
            "bin_start": 8235,
            "bin_end": 16320,
            "count": 59
           },
           {
            "bin_start": 16320,
            "bin_end": 24405,
            "count": 15
           },
           {
            "bin_start": 24405,
            "bin_end": 32490,
            "count": 0
           },
           {
            "bin_start": 32490,
            "bin_end": 40575,
            "count": 4
           },
           {
            "bin_start": 40575,
            "bin_end": 48660,
            "count": 0
           },
           {
            "bin_start": 48660,
            "bin_end": 56745,
            "count": 1
           },
           {
            "bin_start": 56745,
            "bin_end": 64830,
            "count": 1
           },
           {
            "bin_start": 64830,
            "bin_end": 72915,
            "count": 0
           },
           {
            "bin_start": 72915,
            "bin_end": 81000,
            "count": 1
           }
          ]
         }
        },
        {
         "name": "CoapplicantIncome",
         "dtype": "float64",
         "stats": {
          "unique_count": 287,
          "nan_count": 0,
          "min": "0.0",
          "max": "41667.0",
          "histogram": [
           {
            "bin_start": 0,
            "bin_end": 4166.7,
            "count": 561
           },
           {
            "bin_start": 4166.7,
            "bin_end": 8333.4,
            "count": 46
           },
           {
            "bin_start": 8333.4,
            "bin_end": 12500.099999999999,
            "count": 3
           },
           {
            "bin_start": 12500.099999999999,
            "bin_end": 16666.8,
            "count": 0
           },
           {
            "bin_start": 16666.8,
            "bin_end": 20833.5,
            "count": 2
           },
           {
            "bin_start": 20833.5,
            "bin_end": 25000.199999999997,
            "count": 0
           },
           {
            "bin_start": 25000.199999999997,
            "bin_end": 29166.899999999998,
            "count": 0
           },
           {
            "bin_start": 29166.899999999998,
            "bin_end": 33333.6,
            "count": 0
           },
           {
            "bin_start": 33333.6,
            "bin_end": 37500.299999999996,
            "count": 1
           },
           {
            "bin_start": 37500.299999999996,
            "bin_end": 41667,
            "count": 1
           }
          ]
         }
        },
        {
         "name": "LoanAmount",
         "dtype": "float64",
         "stats": {
          "unique_count": 203,
          "nan_count": 0,
          "min": "9.0",
          "max": "700.0",
          "histogram": [
           {
            "bin_start": 9,
            "bin_end": 78.1,
            "count": 72
           },
           {
            "bin_start": 78.1,
            "bin_end": 147.2,
            "count": 332
           },
           {
            "bin_start": 147.2,
            "bin_end": 216.29999999999998,
            "count": 143
           },
           {
            "bin_start": 216.29999999999998,
            "bin_end": 285.4,
            "count": 33
           },
           {
            "bin_start": 285.4,
            "bin_end": 354.5,
            "count": 15
           },
           {
            "bin_start": 354.5,
            "bin_end": 423.59999999999997,
            "count": 6
           },
           {
            "bin_start": 423.59999999999997,
            "bin_end": 492.69999999999993,
            "count": 5
           },
           {
            "bin_start": 492.69999999999993,
            "bin_end": 561.8,
            "count": 3
           },
           {
            "bin_start": 561.8,
            "bin_end": 630.9,
            "count": 3
           },
           {
            "bin_start": 630.9,
            "bin_end": 700,
            "count": 2
           }
          ]
         }
        },
        {
         "name": "Loan_Amount_Term",
         "dtype": "float64",
         "stats": {
          "unique_count": 10,
          "nan_count": 0,
          "min": "12.0",
          "max": "480.0",
          "histogram": [
           {
            "bin_start": 12,
            "bin_end": 58.8,
            "count": 3
           },
           {
            "bin_start": 58.8,
            "bin_end": 105.6,
            "count": 6
           },
           {
            "bin_start": 105.6,
            "bin_end": 152.39999999999998,
            "count": 3
           },
           {
            "bin_start": 152.39999999999998,
            "bin_end": 199.2,
            "count": 44
           },
           {
            "bin_start": 199.2,
            "bin_end": 246,
            "count": 4
           },
           {
            "bin_start": 246,
            "bin_end": 292.79999999999995,
            "count": 0
           },
           {
            "bin_start": 292.79999999999995,
            "bin_end": 339.59999999999997,
            "count": 13
           },
           {
            "bin_start": 339.59999999999997,
            "bin_end": 386.4,
            "count": 526
           },
           {
            "bin_start": 386.4,
            "bin_end": 433.2,
            "count": 0
           },
           {
            "bin_start": 433.2,
            "bin_end": 480,
            "count": 15
           }
          ]
         }
        },
        {
         "name": "Credit_History",
         "dtype": "float64",
         "stats": {
          "unique_count": 2,
          "nan_count": 0,
          "min": "0.0",
          "max": "1.0",
          "histogram": [
           {
            "bin_start": 0,
            "bin_end": 0.1,
            "count": 89
           },
           {
            "bin_start": 0.1,
            "bin_end": 0.2,
            "count": 0
           },
           {
            "bin_start": 0.2,
            "bin_end": 0.30000000000000004,
            "count": 0
           },
           {
            "bin_start": 0.30000000000000004,
            "bin_end": 0.4,
            "count": 0
           },
           {
            "bin_start": 0.4,
            "bin_end": 0.5,
            "count": 0
           },
           {
            "bin_start": 0.5,
            "bin_end": 0.6000000000000001,
            "count": 0
           },
           {
            "bin_start": 0.6000000000000001,
            "bin_end": 0.7000000000000001,
            "count": 0
           },
           {
            "bin_start": 0.7000000000000001,
            "bin_end": 0.8,
            "count": 0
           },
           {
            "bin_start": 0.8,
            "bin_end": 0.9,
            "count": 0
           },
           {
            "bin_start": 0.9,
            "bin_end": 1,
            "count": 525
           }
          ]
         }
        },
        {
         "name": "Loan_Status",
         "dtype": "int64",
         "stats": {
          "unique_count": 2,
          "nan_count": 0,
          "min": "0",
          "max": "1",
          "histogram": [
           {
            "bin_start": 0,
            "bin_end": 0.1,
            "count": 192
           },
           {
            "bin_start": 0.1,
            "bin_end": 0.2,
            "count": 0
           },
           {
            "bin_start": 0.2,
            "bin_end": 0.30000000000000004,
            "count": 0
           },
           {
            "bin_start": 0.30000000000000004,
            "bin_end": 0.4,
            "count": 0
           },
           {
            "bin_start": 0.4,
            "bin_end": 0.5,
            "count": 0
           },
           {
            "bin_start": 0.5,
            "bin_end": 0.6000000000000001,
            "count": 0
           },
           {
            "bin_start": 0.6000000000000001,
            "bin_end": 0.7000000000000001,
            "count": 0
           },
           {
            "bin_start": 0.7000000000000001,
            "bin_end": 0.8,
            "count": 0
           },
           {
            "bin_start": 0.8,
            "bin_end": 0.9,
            "count": 0
           },
           {
            "bin_start": 0.9,
            "bin_end": 1,
            "count": 422
           }
          ]
         }
        },
        {
         "name": "_deepnote_index_column",
         "dtype": "int64"
        }
       ],
       "rows": [
        {
         "Gender_Female": 0,
         "Gender_Male": 1,
         "Married_No": 1,
         "Married_Yes": 0,
         "Education_Graduate": 1,
         "Education_Not Graduate": 0,
         "Self_Employed_No": 1,
         "Self_Employed_Yes": 0,
         "Property_Area_Rural": 0,
         "Property_Area_Semiurban": 0,
         "Property_Area_Urban": 1,
         "Dependents_0": 1,
         "Dependents_1": 0,
         "Dependents_2": 0,
         "Dependents_3+": 0,
         "ApplicantIncome": 5849,
         "CoapplicantIncome": 0,
         "LoanAmount": 128,
         "Loan_Amount_Term": 360,
         "Credit_History": 1,
         "Loan_Status": 1,
         "_deepnote_index_column": 0
        },
        {
         "Gender_Female": 0,
         "Gender_Male": 1,
         "Married_No": 0,
         "Married_Yes": 1,
         "Education_Graduate": 1,
         "Education_Not Graduate": 0,
         "Self_Employed_No": 1,
         "Self_Employed_Yes": 0,
         "Property_Area_Rural": 1,
         "Property_Area_Semiurban": 0,
         "Property_Area_Urban": 0,
         "Dependents_0": 0,
         "Dependents_1": 1,
         "Dependents_2": 0,
         "Dependents_3+": 0,
         "ApplicantIncome": 4583,
         "CoapplicantIncome": 1508,
         "LoanAmount": 128,
         "Loan_Amount_Term": 360,
         "Credit_History": 1,
         "Loan_Status": 0,
         "_deepnote_index_column": 1
        },
        {
         "Gender_Female": 0,
         "Gender_Male": 1,
         "Married_No": 0,
         "Married_Yes": 1,
         "Education_Graduate": 1,
         "Education_Not Graduate": 0,
         "Self_Employed_No": 0,
         "Self_Employed_Yes": 1,
         "Property_Area_Rural": 0,
         "Property_Area_Semiurban": 0,
         "Property_Area_Urban": 1,
         "Dependents_0": 1,
         "Dependents_1": 0,
         "Dependents_2": 0,
         "Dependents_3+": 0,
         "ApplicantIncome": 3000,
         "CoapplicantIncome": 0,
         "LoanAmount": 66,
         "Loan_Amount_Term": 360,
         "Credit_History": 1,
         "Loan_Status": 1,
         "_deepnote_index_column": 2
        },
        {
         "Gender_Female": 0,
         "Gender_Male": 1,
         "Married_No": 0,
         "Married_Yes": 1,
         "Education_Graduate": 0,
         "Education_Not Graduate": 1,
         "Self_Employed_No": 1,
         "Self_Employed_Yes": 0,
         "Property_Area_Rural": 0,
         "Property_Area_Semiurban": 0,
         "Property_Area_Urban": 1,
         "Dependents_0": 1,
         "Dependents_1": 0,
         "Dependents_2": 0,
         "Dependents_3+": 0,
         "ApplicantIncome": 2583,
         "CoapplicantIncome": 2358,
         "LoanAmount": 120,
         "Loan_Amount_Term": 360,
         "Credit_History": 1,
         "Loan_Status": 1,
         "_deepnote_index_column": 3
        },
        {
         "Gender_Female": 0,
         "Gender_Male": 1,
         "Married_No": 1,
         "Married_Yes": 0,
         "Education_Graduate": 1,
         "Education_Not Graduate": 0,
         "Self_Employed_No": 1,
         "Self_Employed_Yes": 0,
         "Property_Area_Rural": 0,
         "Property_Area_Semiurban": 0,
         "Property_Area_Urban": 1,
         "Dependents_0": 1,
         "Dependents_1": 0,
         "Dependents_2": 0,
         "Dependents_3+": 0,
         "ApplicantIncome": 6000,
         "CoapplicantIncome": 0,
         "LoanAmount": 141,
         "Loan_Amount_Term": 360,
         "Credit_History": 1,
         "Loan_Status": 1,
         "_deepnote_index_column": 4
        },
        {
         "Gender_Female": 0,
         "Gender_Male": 1,
         "Married_No": 0,
         "Married_Yes": 1,
         "Education_Graduate": 1,
         "Education_Not Graduate": 0,
         "Self_Employed_No": 0,
         "Self_Employed_Yes": 1,
         "Property_Area_Rural": 0,
         "Property_Area_Semiurban": 0,
         "Property_Area_Urban": 1,
         "Dependents_0": 0,
         "Dependents_1": 0,
         "Dependents_2": 1,
         "Dependents_3+": 0,
         "ApplicantIncome": 5417,
         "CoapplicantIncome": 4196,
         "LoanAmount": 267,
         "Loan_Amount_Term": 360,
         "Credit_History": 1,
         "Loan_Status": 1,
         "_deepnote_index_column": 5
        },
        {
         "Gender_Female": 0,
         "Gender_Male": 1,
         "Married_No": 0,
         "Married_Yes": 1,
         "Education_Graduate": 0,
         "Education_Not Graduate": 1,
         "Self_Employed_No": 1,
         "Self_Employed_Yes": 0,
         "Property_Area_Rural": 0,
         "Property_Area_Semiurban": 0,
         "Property_Area_Urban": 1,
         "Dependents_0": 1,
         "Dependents_1": 0,
         "Dependents_2": 0,
         "Dependents_3+": 0,
         "ApplicantIncome": 2333,
         "CoapplicantIncome": 1516,
         "LoanAmount": 95,
         "Loan_Amount_Term": 360,
         "Credit_History": 1,
         "Loan_Status": 1,
         "_deepnote_index_column": 6
        },
        {
         "Gender_Female": 0,
         "Gender_Male": 1,
         "Married_No": 0,
         "Married_Yes": 1,
         "Education_Graduate": 1,
         "Education_Not Graduate": 0,
         "Self_Employed_No": 1,
         "Self_Employed_Yes": 0,
         "Property_Area_Rural": 0,
         "Property_Area_Semiurban": 1,
         "Property_Area_Urban": 0,
         "Dependents_0": 0,
         "Dependents_1": 0,
         "Dependents_2": 0,
         "Dependents_3+": 1,
         "ApplicantIncome": 3036,
         "CoapplicantIncome": 2504,
         "LoanAmount": 158,
         "Loan_Amount_Term": 360,
         "Credit_History": 0,
         "Loan_Status": 0,
         "_deepnote_index_column": 7
        },
        {
         "Gender_Female": 0,
         "Gender_Male": 1,
         "Married_No": 0,
         "Married_Yes": 1,
         "Education_Graduate": 1,
         "Education_Not Graduate": 0,
         "Self_Employed_No": 1,
         "Self_Employed_Yes": 0,
         "Property_Area_Rural": 0,
         "Property_Area_Semiurban": 0,
         "Property_Area_Urban": 1,
         "Dependents_0": 0,
         "Dependents_1": 0,
         "Dependents_2": 1,
         "Dependents_3+": 0,
         "ApplicantIncome": 4006,
         "CoapplicantIncome": 1526,
         "LoanAmount": 168,
         "Loan_Amount_Term": 360,
         "Credit_History": 1,
         "Loan_Status": 1,
         "_deepnote_index_column": 8
        },
        {
         "Gender_Female": 0,
         "Gender_Male": 1,
         "Married_No": 0,
         "Married_Yes": 1,
         "Education_Graduate": 1,
         "Education_Not Graduate": 0,
         "Self_Employed_No": 1,
         "Self_Employed_Yes": 0,
         "Property_Area_Rural": 0,
         "Property_Area_Semiurban": 1,
         "Property_Area_Urban": 0,
         "Dependents_0": 0,
         "Dependents_1": 1,
         "Dependents_2": 0,
         "Dependents_3+": 0,
         "ApplicantIncome": 12841,
         "CoapplicantIncome": 10968,
         "LoanAmount": 349,
         "Loan_Amount_Term": 360,
         "Credit_History": 1,
         "Loan_Status": 0,
         "_deepnote_index_column": 9
        }
       ]
      },
      "text/plain": "     Gender_Female  Gender_Male  Married_No  Married_Yes  Education_Graduate  \\\n0                0            1           1            0                   1   \n1                0            1           0            1                   1   \n2                0            1           0            1                   1   \n3                0            1           0            1                   0   \n4                0            1           1            0                   1   \n..             ...          ...         ...          ...                 ...   \n609              1            0           1            0                   1   \n610              0            1           0            1                   1   \n611              0            1           0            1                   1   \n612              0            1           0            1                   1   \n613              1            0           1            0                   1   \n\n     Education_Not Graduate  Self_Employed_No  Self_Employed_Yes  \\\n0                         0                 1                  0   \n1                         0                 1                  0   \n2                         0                 0                  1   \n3                         1                 1                  0   \n4                         0                 1                  0   \n..                      ...               ...                ...   \n609                       0                 1                  0   \n610                       0                 1                  0   \n611                       0                 1                  0   \n612                       0                 1                  0   \n613                       0                 0                  1   \n\n     Property_Area_Rural  Property_Area_Semiurban  ...  Dependents_0  \\\n0                      0                        0  ...             1   \n1                      1                        0  ...             0   \n2                      0                        0  ...             1   \n3                      0                        0  ...             1   \n4                      0                        0  ...             1   \n..                   ...                      ...  ...           ...   \n609                    1                        0  ...             1   \n610                    1                        0  ...             0   \n611                    0                        0  ...             0   \n612                    0                        0  ...             0   \n613                    0                        1  ...             1   \n\n     Dependents_1  Dependents_2  Dependents_3+  ApplicantIncome  \\\n0               0             0              0             5849   \n1               1             0              0             4583   \n2               0             0              0             3000   \n3               0             0              0             2583   \n4               0             0              0             6000   \n..            ...           ...            ...              ...   \n609             0             0              0             2900   \n610             0             0              1             4106   \n611             1             0              0             8072   \n612             0             1              0             7583   \n613             0             0              0             4583   \n\n     CoapplicantIncome  LoanAmount  Loan_Amount_Term  Credit_History  \\\n0                  0.0       128.0             360.0             1.0   \n1               1508.0       128.0             360.0             1.0   \n2                  0.0        66.0             360.0             1.0   \n3               2358.0       120.0             360.0             1.0   \n4                  0.0       141.0             360.0             1.0   \n..                 ...         ...               ...             ...   \n609                0.0        71.0             360.0             1.0   \n610                0.0        40.0             180.0             1.0   \n611              240.0       253.0             360.0             1.0   \n612                0.0       187.0             360.0             1.0   \n613                0.0       133.0             360.0             0.0   \n\n     Loan_Status  \n0              1  \n1              0  \n2              1  \n3              1  \n4              1  \n..           ...  \n609            1  \n610            1  \n611            1  \n612            1  \n613            0  \n\n[614 rows x 21 columns]",
      "text/html": "<div>\n<style scoped>\n    .dataframe tbody tr th:only-of-type {\n        vertical-align: middle;\n    }\n\n    .dataframe tbody tr th {\n        vertical-align: top;\n    }\n\n    .dataframe thead th {\n        text-align: right;\n    }\n</style>\n<table border=\"1\" class=\"dataframe\">\n  <thead>\n    <tr style=\"text-align: right;\">\n      <th></th>\n      <th>Gender_Female</th>\n      <th>Gender_Male</th>\n      <th>Married_No</th>\n      <th>Married_Yes</th>\n      <th>Education_Graduate</th>\n      <th>Education_Not Graduate</th>\n      <th>Self_Employed_No</th>\n      <th>Self_Employed_Yes</th>\n      <th>Property_Area_Rural</th>\n      <th>Property_Area_Semiurban</th>\n      <th>...</th>\n      <th>Dependents_0</th>\n      <th>Dependents_1</th>\n      <th>Dependents_2</th>\n      <th>Dependents_3+</th>\n      <th>ApplicantIncome</th>\n      <th>CoapplicantIncome</th>\n      <th>LoanAmount</th>\n      <th>Loan_Amount_Term</th>\n      <th>Credit_History</th>\n      <th>Loan_Status</th>\n    </tr>\n  </thead>\n  <tbody>\n    <tr>\n      <th>0</th>\n      <td>0</td>\n      <td>1</td>\n      <td>1</td>\n      <td>0</td>\n      <td>1</td>\n      <td>0</td>\n      <td>1</td>\n      <td>0</td>\n      <td>0</td>\n      <td>0</td>\n      <td>...</td>\n      <td>1</td>\n      <td>0</td>\n      <td>0</td>\n      <td>0</td>\n      <td>5849</td>\n      <td>0.0</td>\n      <td>128.0</td>\n      <td>360.0</td>\n      <td>1.0</td>\n      <td>1</td>\n    </tr>\n    <tr>\n      <th>1</th>\n      <td>0</td>\n      <td>1</td>\n      <td>0</td>\n      <td>1</td>\n      <td>1</td>\n      <td>0</td>\n      <td>1</td>\n      <td>0</td>\n      <td>1</td>\n      <td>0</td>\n      <td>...</td>\n      <td>0</td>\n      <td>1</td>\n      <td>0</td>\n      <td>0</td>\n      <td>4583</td>\n      <td>1508.0</td>\n      <td>128.0</td>\n      <td>360.0</td>\n      <td>1.0</td>\n      <td>0</td>\n    </tr>\n    <tr>\n      <th>2</th>\n      <td>0</td>\n      <td>1</td>\n      <td>0</td>\n      <td>1</td>\n      <td>1</td>\n      <td>0</td>\n      <td>0</td>\n      <td>1</td>\n      <td>0</td>\n      <td>0</td>\n      <td>...</td>\n      <td>1</td>\n      <td>0</td>\n      <td>0</td>\n      <td>0</td>\n      <td>3000</td>\n      <td>0.0</td>\n      <td>66.0</td>\n      <td>360.0</td>\n      <td>1.0</td>\n      <td>1</td>\n    </tr>\n    <tr>\n      <th>3</th>\n      <td>0</td>\n      <td>1</td>\n      <td>0</td>\n      <td>1</td>\n      <td>0</td>\n      <td>1</td>\n      <td>1</td>\n      <td>0</td>\n      <td>0</td>\n      <td>0</td>\n      <td>...</td>\n      <td>1</td>\n      <td>0</td>\n      <td>0</td>\n      <td>0</td>\n      <td>2583</td>\n      <td>2358.0</td>\n      <td>120.0</td>\n      <td>360.0</td>\n      <td>1.0</td>\n      <td>1</td>\n    </tr>\n    <tr>\n      <th>4</th>\n      <td>0</td>\n      <td>1</td>\n      <td>1</td>\n      <td>0</td>\n      <td>1</td>\n      <td>0</td>\n      <td>1</td>\n      <td>0</td>\n      <td>0</td>\n      <td>0</td>\n      <td>...</td>\n      <td>1</td>\n      <td>0</td>\n      <td>0</td>\n      <td>0</td>\n      <td>6000</td>\n      <td>0.0</td>\n      <td>141.0</td>\n      <td>360.0</td>\n      <td>1.0</td>\n      <td>1</td>\n    </tr>\n    <tr>\n      <th>...</th>\n      <td>...</td>\n      <td>...</td>\n      <td>...</td>\n      <td>...</td>\n      <td>...</td>\n      <td>...</td>\n      <td>...</td>\n      <td>...</td>\n      <td>...</td>\n      <td>...</td>\n      <td>...</td>\n      <td>...</td>\n      <td>...</td>\n      <td>...</td>\n      <td>...</td>\n      <td>...</td>\n      <td>...</td>\n      <td>...</td>\n      <td>...</td>\n      <td>...</td>\n      <td>...</td>\n    </tr>\n    <tr>\n      <th>609</th>\n      <td>1</td>\n      <td>0</td>\n      <td>1</td>\n      <td>0</td>\n      <td>1</td>\n      <td>0</td>\n      <td>1</td>\n      <td>0</td>\n      <td>1</td>\n      <td>0</td>\n      <td>...</td>\n      <td>1</td>\n      <td>0</td>\n      <td>0</td>\n      <td>0</td>\n      <td>2900</td>\n      <td>0.0</td>\n      <td>71.0</td>\n      <td>360.0</td>\n      <td>1.0</td>\n      <td>1</td>\n    </tr>\n    <tr>\n      <th>610</th>\n      <td>0</td>\n      <td>1</td>\n      <td>0</td>\n      <td>1</td>\n      <td>1</td>\n      <td>0</td>\n      <td>1</td>\n      <td>0</td>\n      <td>1</td>\n      <td>0</td>\n      <td>...</td>\n      <td>0</td>\n      <td>0</td>\n      <td>0</td>\n      <td>1</td>\n      <td>4106</td>\n      <td>0.0</td>\n      <td>40.0</td>\n      <td>180.0</td>\n      <td>1.0</td>\n      <td>1</td>\n    </tr>\n    <tr>\n      <th>611</th>\n      <td>0</td>\n      <td>1</td>\n      <td>0</td>\n      <td>1</td>\n      <td>1</td>\n      <td>0</td>\n      <td>1</td>\n      <td>0</td>\n      <td>0</td>\n      <td>0</td>\n      <td>...</td>\n      <td>0</td>\n      <td>1</td>\n      <td>0</td>\n      <td>0</td>\n      <td>8072</td>\n      <td>240.0</td>\n      <td>253.0</td>\n      <td>360.0</td>\n      <td>1.0</td>\n      <td>1</td>\n    </tr>\n    <tr>\n      <th>612</th>\n      <td>0</td>\n      <td>1</td>\n      <td>0</td>\n      <td>1</td>\n      <td>1</td>\n      <td>0</td>\n      <td>1</td>\n      <td>0</td>\n      <td>0</td>\n      <td>0</td>\n      <td>...</td>\n      <td>0</td>\n      <td>0</td>\n      <td>1</td>\n      <td>0</td>\n      <td>7583</td>\n      <td>0.0</td>\n      <td>187.0</td>\n      <td>360.0</td>\n      <td>1.0</td>\n      <td>1</td>\n    </tr>\n    <tr>\n      <th>613</th>\n      <td>1</td>\n      <td>0</td>\n      <td>1</td>\n      <td>0</td>\n      <td>1</td>\n      <td>0</td>\n      <td>0</td>\n      <td>1</td>\n      <td>0</td>\n      <td>1</td>\n      <td>...</td>\n      <td>1</td>\n      <td>0</td>\n      <td>0</td>\n      <td>0</td>\n      <td>4583</td>\n      <td>0.0</td>\n      <td>133.0</td>\n      <td>360.0</td>\n      <td>0.0</td>\n      <td>0</td>\n    </tr>\n  </tbody>\n</table>\n<p>614 rows × 21 columns</p>\n</div>"
     },
     "metadata": {}
    }
   ]
  },
  {
   "cell_type": "code",
   "metadata": {
    "tags": [],
    "deepnote_to_be_reexecuted": false,
    "source_hash": "90532927",
    "execution_start": 1659514967180,
    "execution_millis": 8,
    "cell_id": "00046-6aa864ae-be78-4571-9f6a-4d331c7dead0",
    "deepnote_cell_type": "code",
    "deepnote_cell_height": 94
   },
   "source": "X = data_train.drop('Loan_Status' , axis = 1)\ny = data_train['Loan_Status']",
   "execution_count": 37,
   "outputs": []
  },
  {
   "cell_type": "code",
   "metadata": {
    "tags": [],
    "deepnote_to_be_reexecuted": false,
    "source_hash": "36ee58be",
    "execution_start": 1659514967206,
    "execution_millis": 385,
    "cell_id": "00047-f7f665e0-6862-4d01-a66a-45c922e5fb9e",
    "deepnote_cell_type": "code",
    "deepnote_cell_height": 552.375,
    "deepnote_output_heights": [
     424.390625
    ]
   },
   "source": "# Most correlated values are: 1) Credit_History 2) Property_Area_Semiurban 3) Property_Area_Rural\ncorr_train = data_train.corr()\ncorr_train['Loan_Status'].sort_values(ascending=False)",
   "execution_count": 38,
   "outputs": [
    {
     "output_type": "execute_result",
     "execution_count": 38,
     "data": {
      "text/plain": "Loan_Status                1.000000\nCredit_History             0.540556\nProperty_Area_Semiurban    0.136540\nMarried_Yes                0.091478\nEducation_Graduate         0.085884\nDependents_2               0.062384\nGender_Male                0.017987\nSelf_Employed_No           0.003700\nDependents_0              -0.003044\nSelf_Employed_Yes         -0.003700\nApplicantIncome           -0.004710\nGender_Female             -0.017987\nLoan_Amount_Term          -0.022549\nDependents_3+             -0.026123\nLoanAmount                -0.033214\nDependents_1              -0.038740\nProperty_Area_Urban       -0.043621\nCoapplicantIncome         -0.059187\nEducation_Not Graduate    -0.085884\nMarried_No                -0.091478\nProperty_Area_Rural       -0.100694\nName: Loan_Status, dtype: float64"
     },
     "metadata": {}
    }
   ]
  },
  {
   "cell_type": "markdown",
   "source": "### Applying to Test Data",
   "metadata": {
    "formattedRanges": [],
    "is_collapsed": false,
    "tags": [],
    "cell_id": "00048-337abe6f-e18d-4d32-b199-f2d209ba1fc4",
    "deepnote_cell_type": "text-cell-h3"
   }
  },
  {
   "cell_type": "code",
   "metadata": {
    "tags": [],
    "deepnote_to_be_reexecuted": false,
    "source_hash": "7a60f907",
    "execution_start": 1659514967237,
    "execution_millis": 15,
    "cell_id": "00049-d14acfa0-aa1f-4235-9456-05c186eb82cf",
    "deepnote_cell_type": "code",
    "deepnote_cell_height": 76
   },
   "source": "data_test = df_test.copy()",
   "execution_count": 39,
   "outputs": []
  },
  {
   "cell_type": "code",
   "metadata": {
    "tags": [],
    "deepnote_to_be_reexecuted": false,
    "source_hash": "ed56abf9",
    "execution_start": 1659514967258,
    "execution_millis": 14,
    "cell_id": "00050-9e3f19b8-8a51-408d-a97a-05865b4b9825",
    "deepnote_cell_type": "code",
    "deepnote_cell_height": 184
   },
   "source": "# (TEST SET) Filling missing rows with most appropriate value (median or mode)\ndata_test['Gender'].fillna(data_test['Gender'].mode()[0], inplace=True)\ndata_test['Dependents'].fillna(data_test['Dependents'].mode()[0], inplace=True)\ndata_test['Self_Employed'].fillna(data_test['Self_Employed'].mode()[0], inplace=True)\ndata_test['LoanAmount'].fillna(data_test['LoanAmount'].median(), inplace=True)\ndata_test['Loan_Amount_Term'].fillna(data_test['Loan_Amount_Term'].mode()[0], inplace=True)\ndata_test['Credit_History'].fillna(data_test['Credit_History'].mode()[0], inplace=True)",
   "execution_count": 40,
   "outputs": []
  },
  {
   "cell_type": "code",
   "metadata": {
    "tags": [],
    "deepnote_to_be_reexecuted": false,
    "source_hash": "4ac0c7d3",
    "execution_start": 1659514967277,
    "execution_millis": 320,
    "cell_id": "00051-a7371e21-9c8c-4824-9323-c86cff5a8a7e",
    "deepnote_cell_type": "code",
    "deepnote_cell_height": 724.796875
   },
   "source": "dummies = pd.get_dummies(data_test[['Gender','Married','Education','Self_Employed','Property_Area','Dependents']])\ndata_test = pd.concat([dummies, data_test.drop(['Gender','Married','Education','Self_Employed',\\\n                        'Dependents','Property_Area',], axis=1)], axis=1)\n\ndata_test = data_test.drop('Loan_ID', axis = 1)\n\ndata_test",
   "execution_count": 41,
   "outputs": [
    {
     "output_type": "execute_result",
     "execution_count": 41,
     "data": {
      "application/vnd.deepnote.dataframe.v3+json": {
       "column_count": 20,
       "row_count": 367,
       "columns": [
        {
         "name": "Gender_Female",
         "dtype": "uint8",
         "stats": {
          "unique_count": 2,
          "nan_count": 0,
          "min": "0",
          "max": "1",
          "histogram": [
           {
            "bin_start": 0,
            "bin_end": 0.1,
            "count": 297
           },
           {
            "bin_start": 0.1,
            "bin_end": 0.2,
            "count": 0
           },
           {
            "bin_start": 0.2,
            "bin_end": 0.30000000000000004,
            "count": 0
           },
           {
            "bin_start": 0.30000000000000004,
            "bin_end": 0.4,
            "count": 0
           },
           {
            "bin_start": 0.4,
            "bin_end": 0.5,
            "count": 0
           },
           {
            "bin_start": 0.5,
            "bin_end": 0.6000000000000001,
            "count": 0
           },
           {
            "bin_start": 0.6000000000000001,
            "bin_end": 0.7000000000000001,
            "count": 0
           },
           {
            "bin_start": 0.7000000000000001,
            "bin_end": 0.8,
            "count": 0
           },
           {
            "bin_start": 0.8,
            "bin_end": 0.9,
            "count": 0
           },
           {
            "bin_start": 0.9,
            "bin_end": 1,
            "count": 70
           }
          ]
         }
        },
        {
         "name": "Gender_Male",
         "dtype": "uint8",
         "stats": {
          "unique_count": 2,
          "nan_count": 0,
          "min": "0",
          "max": "1",
          "histogram": [
           {
            "bin_start": 0,
            "bin_end": 0.1,
            "count": 70
           },
           {
            "bin_start": 0.1,
            "bin_end": 0.2,
            "count": 0
           },
           {
            "bin_start": 0.2,
            "bin_end": 0.30000000000000004,
            "count": 0
           },
           {
            "bin_start": 0.30000000000000004,
            "bin_end": 0.4,
            "count": 0
           },
           {
            "bin_start": 0.4,
            "bin_end": 0.5,
            "count": 0
           },
           {
            "bin_start": 0.5,
            "bin_end": 0.6000000000000001,
            "count": 0
           },
           {
            "bin_start": 0.6000000000000001,
            "bin_end": 0.7000000000000001,
            "count": 0
           },
           {
            "bin_start": 0.7000000000000001,
            "bin_end": 0.8,
            "count": 0
           },
           {
            "bin_start": 0.8,
            "bin_end": 0.9,
            "count": 0
           },
           {
            "bin_start": 0.9,
            "bin_end": 1,
            "count": 297
           }
          ]
         }
        },
        {
         "name": "Married_No",
         "dtype": "uint8",
         "stats": {
          "unique_count": 2,
          "nan_count": 0,
          "min": "0",
          "max": "1",
          "histogram": [
           {
            "bin_start": 0,
            "bin_end": 0.1,
            "count": 233
           },
           {
            "bin_start": 0.1,
            "bin_end": 0.2,
            "count": 0
           },
           {
            "bin_start": 0.2,
            "bin_end": 0.30000000000000004,
            "count": 0
           },
           {
            "bin_start": 0.30000000000000004,
            "bin_end": 0.4,
            "count": 0
           },
           {
            "bin_start": 0.4,
            "bin_end": 0.5,
            "count": 0
           },
           {
            "bin_start": 0.5,
            "bin_end": 0.6000000000000001,
            "count": 0
           },
           {
            "bin_start": 0.6000000000000001,
            "bin_end": 0.7000000000000001,
            "count": 0
           },
           {
            "bin_start": 0.7000000000000001,
            "bin_end": 0.8,
            "count": 0
           },
           {
            "bin_start": 0.8,
            "bin_end": 0.9,
            "count": 0
           },
           {
            "bin_start": 0.9,
            "bin_end": 1,
            "count": 134
           }
          ]
         }
        },
        {
         "name": "Married_Yes",
         "dtype": "uint8",
         "stats": {
          "unique_count": 2,
          "nan_count": 0,
          "min": "0",
          "max": "1",
          "histogram": [
           {
            "bin_start": 0,
            "bin_end": 0.1,
            "count": 134
           },
           {
            "bin_start": 0.1,
            "bin_end": 0.2,
            "count": 0
           },
           {
            "bin_start": 0.2,
            "bin_end": 0.30000000000000004,
            "count": 0
           },
           {
            "bin_start": 0.30000000000000004,
            "bin_end": 0.4,
            "count": 0
           },
           {
            "bin_start": 0.4,
            "bin_end": 0.5,
            "count": 0
           },
           {
            "bin_start": 0.5,
            "bin_end": 0.6000000000000001,
            "count": 0
           },
           {
            "bin_start": 0.6000000000000001,
            "bin_end": 0.7000000000000001,
            "count": 0
           },
           {
            "bin_start": 0.7000000000000001,
            "bin_end": 0.8,
            "count": 0
           },
           {
            "bin_start": 0.8,
            "bin_end": 0.9,
            "count": 0
           },
           {
            "bin_start": 0.9,
            "bin_end": 1,
            "count": 233
           }
          ]
         }
        },
        {
         "name": "Education_Graduate",
         "dtype": "uint8",
         "stats": {
          "unique_count": 2,
          "nan_count": 0,
          "min": "0",
          "max": "1",
          "histogram": [
           {
            "bin_start": 0,
            "bin_end": 0.1,
            "count": 84
           },
           {
            "bin_start": 0.1,
            "bin_end": 0.2,
            "count": 0
           },
           {
            "bin_start": 0.2,
            "bin_end": 0.30000000000000004,
            "count": 0
           },
           {
            "bin_start": 0.30000000000000004,
            "bin_end": 0.4,
            "count": 0
           },
           {
            "bin_start": 0.4,
            "bin_end": 0.5,
            "count": 0
           },
           {
            "bin_start": 0.5,
            "bin_end": 0.6000000000000001,
            "count": 0
           },
           {
            "bin_start": 0.6000000000000001,
            "bin_end": 0.7000000000000001,
            "count": 0
           },
           {
            "bin_start": 0.7000000000000001,
            "bin_end": 0.8,
            "count": 0
           },
           {
            "bin_start": 0.8,
            "bin_end": 0.9,
            "count": 0
           },
           {
            "bin_start": 0.9,
            "bin_end": 1,
            "count": 283
           }
          ]
         }
        },
        {
         "name": "Education_Not Graduate",
         "dtype": "uint8",
         "stats": {
          "unique_count": 2,
          "nan_count": 0,
          "min": "0",
          "max": "1",
          "histogram": [
           {
            "bin_start": 0,
            "bin_end": 0.1,
            "count": 283
           },
           {
            "bin_start": 0.1,
            "bin_end": 0.2,
            "count": 0
           },
           {
            "bin_start": 0.2,
            "bin_end": 0.30000000000000004,
            "count": 0
           },
           {
            "bin_start": 0.30000000000000004,
            "bin_end": 0.4,
            "count": 0
           },
           {
            "bin_start": 0.4,
            "bin_end": 0.5,
            "count": 0
           },
           {
            "bin_start": 0.5,
            "bin_end": 0.6000000000000001,
            "count": 0
           },
           {
            "bin_start": 0.6000000000000001,
            "bin_end": 0.7000000000000001,
            "count": 0
           },
           {
            "bin_start": 0.7000000000000001,
            "bin_end": 0.8,
            "count": 0
           },
           {
            "bin_start": 0.8,
            "bin_end": 0.9,
            "count": 0
           },
           {
            "bin_start": 0.9,
            "bin_end": 1,
            "count": 84
           }
          ]
         }
        },
        {
         "name": "Self_Employed_No",
         "dtype": "uint8",
         "stats": {
          "unique_count": 2,
          "nan_count": 0,
          "min": "0",
          "max": "1",
          "histogram": [
           {
            "bin_start": 0,
            "bin_end": 0.1,
            "count": 37
           },
           {
            "bin_start": 0.1,
            "bin_end": 0.2,
            "count": 0
           },
           {
            "bin_start": 0.2,
            "bin_end": 0.30000000000000004,
            "count": 0
           },
           {
            "bin_start": 0.30000000000000004,
            "bin_end": 0.4,
            "count": 0
           },
           {
            "bin_start": 0.4,
            "bin_end": 0.5,
            "count": 0
           },
           {
            "bin_start": 0.5,
            "bin_end": 0.6000000000000001,
            "count": 0
           },
           {
            "bin_start": 0.6000000000000001,
            "bin_end": 0.7000000000000001,
            "count": 0
           },
           {
            "bin_start": 0.7000000000000001,
            "bin_end": 0.8,
            "count": 0
           },
           {
            "bin_start": 0.8,
            "bin_end": 0.9,
            "count": 0
           },
           {
            "bin_start": 0.9,
            "bin_end": 1,
            "count": 330
           }
          ]
         }
        },
        {
         "name": "Self_Employed_Yes",
         "dtype": "uint8",
         "stats": {
          "unique_count": 2,
          "nan_count": 0,
          "min": "0",
          "max": "1",
          "histogram": [
           {
            "bin_start": 0,
            "bin_end": 0.1,
            "count": 330
           },
           {
            "bin_start": 0.1,
            "bin_end": 0.2,
            "count": 0
           },
           {
            "bin_start": 0.2,
            "bin_end": 0.30000000000000004,
            "count": 0
           },
           {
            "bin_start": 0.30000000000000004,
            "bin_end": 0.4,
            "count": 0
           },
           {
            "bin_start": 0.4,
            "bin_end": 0.5,
            "count": 0
           },
           {
            "bin_start": 0.5,
            "bin_end": 0.6000000000000001,
            "count": 0
           },
           {
            "bin_start": 0.6000000000000001,
            "bin_end": 0.7000000000000001,
            "count": 0
           },
           {
            "bin_start": 0.7000000000000001,
            "bin_end": 0.8,
            "count": 0
           },
           {
            "bin_start": 0.8,
            "bin_end": 0.9,
            "count": 0
           },
           {
            "bin_start": 0.9,
            "bin_end": 1,
            "count": 37
           }
          ]
         }
        },
        {
         "name": "Property_Area_Rural",
         "dtype": "uint8",
         "stats": {
          "unique_count": 2,
          "nan_count": 0,
          "min": "0",
          "max": "1",
          "histogram": [
           {
            "bin_start": 0,
            "bin_end": 0.1,
            "count": 256
           },
           {
            "bin_start": 0.1,
            "bin_end": 0.2,
            "count": 0
           },
           {
            "bin_start": 0.2,
            "bin_end": 0.30000000000000004,
            "count": 0
           },
           {
            "bin_start": 0.30000000000000004,
            "bin_end": 0.4,
            "count": 0
           },
           {
            "bin_start": 0.4,
            "bin_end": 0.5,
            "count": 0
           },
           {
            "bin_start": 0.5,
            "bin_end": 0.6000000000000001,
            "count": 0
           },
           {
            "bin_start": 0.6000000000000001,
            "bin_end": 0.7000000000000001,
            "count": 0
           },
           {
            "bin_start": 0.7000000000000001,
            "bin_end": 0.8,
            "count": 0
           },
           {
            "bin_start": 0.8,
            "bin_end": 0.9,
            "count": 0
           },
           {
            "bin_start": 0.9,
            "bin_end": 1,
            "count": 111
           }
          ]
         }
        },
        {
         "name": "Property_Area_Semiurban",
         "dtype": "uint8",
         "stats": {
          "unique_count": 2,
          "nan_count": 0,
          "min": "0",
          "max": "1",
          "histogram": [
           {
            "bin_start": 0,
            "bin_end": 0.1,
            "count": 251
           },
           {
            "bin_start": 0.1,
            "bin_end": 0.2,
            "count": 0
           },
           {
            "bin_start": 0.2,
            "bin_end": 0.30000000000000004,
            "count": 0
           },
           {
            "bin_start": 0.30000000000000004,
            "bin_end": 0.4,
            "count": 0
           },
           {
            "bin_start": 0.4,
            "bin_end": 0.5,
            "count": 0
           },
           {
            "bin_start": 0.5,
            "bin_end": 0.6000000000000001,
            "count": 0
           },
           {
            "bin_start": 0.6000000000000001,
            "bin_end": 0.7000000000000001,
            "count": 0
           },
           {
            "bin_start": 0.7000000000000001,
            "bin_end": 0.8,
            "count": 0
           },
           {
            "bin_start": 0.8,
            "bin_end": 0.9,
            "count": 0
           },
           {
            "bin_start": 0.9,
            "bin_end": 1,
            "count": 116
           }
          ]
         }
        },
        {
         "name": "Property_Area_Urban",
         "dtype": "uint8",
         "stats": {
          "unique_count": 2,
          "nan_count": 0,
          "min": "0",
          "max": "1",
          "histogram": [
           {
            "bin_start": 0,
            "bin_end": 0.1,
            "count": 227
           },
           {
            "bin_start": 0.1,
            "bin_end": 0.2,
            "count": 0
           },
           {
            "bin_start": 0.2,
            "bin_end": 0.30000000000000004,
            "count": 0
           },
           {
            "bin_start": 0.30000000000000004,
            "bin_end": 0.4,
            "count": 0
           },
           {
            "bin_start": 0.4,
            "bin_end": 0.5,
            "count": 0
           },
           {
            "bin_start": 0.5,
            "bin_end": 0.6000000000000001,
            "count": 0
           },
           {
            "bin_start": 0.6000000000000001,
            "bin_end": 0.7000000000000001,
            "count": 0
           },
           {
            "bin_start": 0.7000000000000001,
            "bin_end": 0.8,
            "count": 0
           },
           {
            "bin_start": 0.8,
            "bin_end": 0.9,
            "count": 0
           },
           {
            "bin_start": 0.9,
            "bin_end": 1,
            "count": 140
           }
          ]
         }
        },
        {
         "name": "Dependents_0",
         "dtype": "uint8",
         "stats": {
          "unique_count": 2,
          "nan_count": 0,
          "min": "0",
          "max": "1",
          "histogram": [
           {
            "bin_start": 0,
            "bin_end": 0.1,
            "count": 157
           },
           {
            "bin_start": 0.1,
            "bin_end": 0.2,
            "count": 0
           },
           {
            "bin_start": 0.2,
            "bin_end": 0.30000000000000004,
            "count": 0
           },
           {
            "bin_start": 0.30000000000000004,
            "bin_end": 0.4,
            "count": 0
           },
           {
            "bin_start": 0.4,
            "bin_end": 0.5,
            "count": 0
           },
           {
            "bin_start": 0.5,
            "bin_end": 0.6000000000000001,
            "count": 0
           },
           {
            "bin_start": 0.6000000000000001,
            "bin_end": 0.7000000000000001,
            "count": 0
           },
           {
            "bin_start": 0.7000000000000001,
            "bin_end": 0.8,
            "count": 0
           },
           {
            "bin_start": 0.8,
            "bin_end": 0.9,
            "count": 0
           },
           {
            "bin_start": 0.9,
            "bin_end": 1,
            "count": 210
           }
          ]
         }
        },
        {
         "name": "Dependents_1",
         "dtype": "uint8",
         "stats": {
          "unique_count": 2,
          "nan_count": 0,
          "min": "0",
          "max": "1",
          "histogram": [
           {
            "bin_start": 0,
            "bin_end": 0.1,
            "count": 309
           },
           {
            "bin_start": 0.1,
            "bin_end": 0.2,
            "count": 0
           },
           {
            "bin_start": 0.2,
            "bin_end": 0.30000000000000004,
            "count": 0
           },
           {
            "bin_start": 0.30000000000000004,
            "bin_end": 0.4,
            "count": 0
           },
           {
            "bin_start": 0.4,
            "bin_end": 0.5,
            "count": 0
           },
           {
            "bin_start": 0.5,
            "bin_end": 0.6000000000000001,
            "count": 0
           },
           {
            "bin_start": 0.6000000000000001,
            "bin_end": 0.7000000000000001,
            "count": 0
           },
           {
            "bin_start": 0.7000000000000001,
            "bin_end": 0.8,
            "count": 0
           },
           {
            "bin_start": 0.8,
            "bin_end": 0.9,
            "count": 0
           },
           {
            "bin_start": 0.9,
            "bin_end": 1,
            "count": 58
           }
          ]
         }
        },
        {
         "name": "Dependents_2",
         "dtype": "uint8",
         "stats": {
          "unique_count": 2,
          "nan_count": 0,
          "min": "0",
          "max": "1",
          "histogram": [
           {
            "bin_start": 0,
            "bin_end": 0.1,
            "count": 308
           },
           {
            "bin_start": 0.1,
            "bin_end": 0.2,
            "count": 0
           },
           {
            "bin_start": 0.2,
            "bin_end": 0.30000000000000004,
            "count": 0
           },
           {
            "bin_start": 0.30000000000000004,
            "bin_end": 0.4,
            "count": 0
           },
           {
            "bin_start": 0.4,
            "bin_end": 0.5,
            "count": 0
           },
           {
            "bin_start": 0.5,
            "bin_end": 0.6000000000000001,
            "count": 0
           },
           {
            "bin_start": 0.6000000000000001,
            "bin_end": 0.7000000000000001,
            "count": 0
           },
           {
            "bin_start": 0.7000000000000001,
            "bin_end": 0.8,
            "count": 0
           },
           {
            "bin_start": 0.8,
            "bin_end": 0.9,
            "count": 0
           },
           {
            "bin_start": 0.9,
            "bin_end": 1,
            "count": 59
           }
          ]
         }
        },
        {
         "name": "Dependents_3+",
         "dtype": "uint8",
         "stats": {
          "unique_count": 2,
          "nan_count": 0,
          "min": "0",
          "max": "1",
          "histogram": [
           {
            "bin_start": 0,
            "bin_end": 0.1,
            "count": 327
           },
           {
            "bin_start": 0.1,
            "bin_end": 0.2,
            "count": 0
           },
           {
            "bin_start": 0.2,
            "bin_end": 0.30000000000000004,
            "count": 0
           },
           {
            "bin_start": 0.30000000000000004,
            "bin_end": 0.4,
            "count": 0
           },
           {
            "bin_start": 0.4,
            "bin_end": 0.5,
            "count": 0
           },
           {
            "bin_start": 0.5,
            "bin_end": 0.6000000000000001,
            "count": 0
           },
           {
            "bin_start": 0.6000000000000001,
            "bin_end": 0.7000000000000001,
            "count": 0
           },
           {
            "bin_start": 0.7000000000000001,
            "bin_end": 0.8,
            "count": 0
           },
           {
            "bin_start": 0.8,
            "bin_end": 0.9,
            "count": 0
           },
           {
            "bin_start": 0.9,
            "bin_end": 1,
            "count": 40
           }
          ]
         }
        },
        {
         "name": "ApplicantIncome",
         "dtype": "int64",
         "stats": {
          "unique_count": 314,
          "nan_count": 0,
          "min": "0",
          "max": "72529",
          "histogram": [
           {
            "bin_start": 0,
            "bin_end": 7252.9,
            "count": 319
           },
           {
            "bin_start": 7252.9,
            "bin_end": 14505.8,
            "count": 39
           },
           {
            "bin_start": 14505.8,
            "bin_end": 21758.699999999997,
            "count": 5
           },
           {
            "bin_start": 21758.699999999997,
            "bin_end": 29011.6,
            "count": 1
           },
           {
            "bin_start": 29011.6,
            "bin_end": 36264.5,
            "count": 2
           },
           {
            "bin_start": 36264.5,
            "bin_end": 43517.399999999994,
            "count": 0
           },
           {
            "bin_start": 43517.399999999994,
            "bin_end": 50770.299999999996,
            "count": 0
           },
           {
            "bin_start": 50770.299999999996,
            "bin_end": 58023.2,
            "count": 0
           },
           {
            "bin_start": 58023.2,
            "bin_end": 65276.1,
            "count": 0
           },
           {
            "bin_start": 65276.1,
            "bin_end": 72529,
            "count": 1
           }
          ]
         }
        },
        {
         "name": "CoapplicantIncome",
         "dtype": "int64",
         "stats": {
          "unique_count": 194,
          "nan_count": 0,
          "min": "0",
          "max": "24000",
          "histogram": [
           {
            "bin_start": 0,
            "bin_end": 2400,
            "count": 271
           },
           {
            "bin_start": 2400,
            "bin_end": 4800,
            "count": 83
           },
           {
            "bin_start": 4800,
            "bin_end": 7200,
            "count": 6
           },
           {
            "bin_start": 7200,
            "bin_end": 9600,
            "count": 2
           },
           {
            "bin_start": 9600,
            "bin_end": 12000,
            "count": 1
           },
           {
            "bin_start": 12000,
            "bin_end": 14400,
            "count": 1
           },
           {
            "bin_start": 14400,
            "bin_end": 16800,
            "count": 2
           },
           {
            "bin_start": 16800,
            "bin_end": 19200,
            "count": 0
           },
           {
            "bin_start": 19200,
            "bin_end": 21600,
            "count": 0
           },
           {
            "bin_start": 21600,
            "bin_end": 24000,
            "count": 1
           }
          ]
         }
        },
        {
         "name": "LoanAmount",
         "dtype": "float64",
         "stats": {
          "unique_count": 144,
          "nan_count": 0,
          "min": "28.0",
          "max": "550.0",
          "histogram": [
           {
            "bin_start": 28,
            "bin_end": 80.2,
            "count": 46
           },
           {
            "bin_start": 80.2,
            "bin_end": 132.4,
            "count": 165
           },
           {
            "bin_start": 132.4,
            "bin_end": 184.60000000000002,
            "count": 100
           },
           {
            "bin_start": 184.60000000000002,
            "bin_end": 236.8,
            "count": 37
           },
           {
            "bin_start": 236.8,
            "bin_end": 289,
            "count": 8
           },
           {
            "bin_start": 289,
            "bin_end": 341.20000000000005,
            "count": 6
           },
           {
            "bin_start": 341.20000000000005,
            "bin_end": 393.40000000000003,
            "count": 2
           },
           {
            "bin_start": 393.40000000000003,
            "bin_end": 445.6,
            "count": 1
           },
           {
            "bin_start": 445.6,
            "bin_end": 497.8,
            "count": 1
           },
           {
            "bin_start": 497.8,
            "bin_end": 550,
            "count": 1
           }
          ]
         }
        },
        {
         "name": "Loan_Amount_Term",
         "dtype": "float64",
         "stats": {
          "unique_count": 12,
          "nan_count": 0,
          "min": "6.0",
          "max": "480.0",
          "histogram": [
           {
            "bin_start": 6,
            "bin_end": 53.4,
            "count": 3
           },
           {
            "bin_start": 53.4,
            "bin_end": 100.8,
            "count": 4
           },
           {
            "bin_start": 100.8,
            "bin_end": 148.2,
            "count": 1
           },
           {
            "bin_start": 148.2,
            "bin_end": 195.6,
            "count": 22
           },
           {
            "bin_start": 195.6,
            "bin_end": 243,
            "count": 4
           },
           {
            "bin_start": 243,
            "bin_end": 290.4,
            "count": 0
           },
           {
            "bin_start": 290.4,
            "bin_end": 337.8,
            "count": 7
           },
           {
            "bin_start": 337.8,
            "bin_end": 385.2,
            "count": 318
           },
           {
            "bin_start": 385.2,
            "bin_end": 432.59999999999997,
            "count": 0
           },
           {
            "bin_start": 432.59999999999997,
            "bin_end": 480,
            "count": 8
           }
          ]
         }
        },
        {
         "name": "Credit_History",
         "dtype": "float64",
         "stats": {
          "unique_count": 2,
          "nan_count": 0,
          "min": "0.0",
          "max": "1.0",
          "histogram": [
           {
            "bin_start": 0,
            "bin_end": 0.1,
            "count": 59
           },
           {
            "bin_start": 0.1,
            "bin_end": 0.2,
            "count": 0
           },
           {
            "bin_start": 0.2,
            "bin_end": 0.30000000000000004,
            "count": 0
           },
           {
            "bin_start": 0.30000000000000004,
            "bin_end": 0.4,
            "count": 0
           },
           {
            "bin_start": 0.4,
            "bin_end": 0.5,
            "count": 0
           },
           {
            "bin_start": 0.5,
            "bin_end": 0.6000000000000001,
            "count": 0
           },
           {
            "bin_start": 0.6000000000000001,
            "bin_end": 0.7000000000000001,
            "count": 0
           },
           {
            "bin_start": 0.7000000000000001,
            "bin_end": 0.8,
            "count": 0
           },
           {
            "bin_start": 0.8,
            "bin_end": 0.9,
            "count": 0
           },
           {
            "bin_start": 0.9,
            "bin_end": 1,
            "count": 308
           }
          ]
         }
        },
        {
         "name": "_deepnote_index_column",
         "dtype": "int64"
        }
       ],
       "rows": [
        {
         "Gender_Female": 0,
         "Gender_Male": 1,
         "Married_No": 0,
         "Married_Yes": 1,
         "Education_Graduate": 1,
         "Education_Not Graduate": 0,
         "Self_Employed_No": 1,
         "Self_Employed_Yes": 0,
         "Property_Area_Rural": 0,
         "Property_Area_Semiurban": 0,
         "Property_Area_Urban": 1,
         "Dependents_0": 1,
         "Dependents_1": 0,
         "Dependents_2": 0,
         "Dependents_3+": 0,
         "ApplicantIncome": 5720,
         "CoapplicantIncome": 0,
         "LoanAmount": 110,
         "Loan_Amount_Term": 360,
         "Credit_History": 1,
         "_deepnote_index_column": 0
        },
        {
         "Gender_Female": 0,
         "Gender_Male": 1,
         "Married_No": 0,
         "Married_Yes": 1,
         "Education_Graduate": 1,
         "Education_Not Graduate": 0,
         "Self_Employed_No": 1,
         "Self_Employed_Yes": 0,
         "Property_Area_Rural": 0,
         "Property_Area_Semiurban": 0,
         "Property_Area_Urban": 1,
         "Dependents_0": 0,
         "Dependents_1": 1,
         "Dependents_2": 0,
         "Dependents_3+": 0,
         "ApplicantIncome": 3076,
         "CoapplicantIncome": 1500,
         "LoanAmount": 126,
         "Loan_Amount_Term": 360,
         "Credit_History": 1,
         "_deepnote_index_column": 1
        },
        {
         "Gender_Female": 0,
         "Gender_Male": 1,
         "Married_No": 0,
         "Married_Yes": 1,
         "Education_Graduate": 1,
         "Education_Not Graduate": 0,
         "Self_Employed_No": 1,
         "Self_Employed_Yes": 0,
         "Property_Area_Rural": 0,
         "Property_Area_Semiurban": 0,
         "Property_Area_Urban": 1,
         "Dependents_0": 0,
         "Dependents_1": 0,
         "Dependents_2": 1,
         "Dependents_3+": 0,
         "ApplicantIncome": 5000,
         "CoapplicantIncome": 1800,
         "LoanAmount": 208,
         "Loan_Amount_Term": 360,
         "Credit_History": 1,
         "_deepnote_index_column": 2
        },
        {
         "Gender_Female": 0,
         "Gender_Male": 1,
         "Married_No": 0,
         "Married_Yes": 1,
         "Education_Graduate": 1,
         "Education_Not Graduate": 0,
         "Self_Employed_No": 1,
         "Self_Employed_Yes": 0,
         "Property_Area_Rural": 0,
         "Property_Area_Semiurban": 0,
         "Property_Area_Urban": 1,
         "Dependents_0": 0,
         "Dependents_1": 0,
         "Dependents_2": 1,
         "Dependents_3+": 0,
         "ApplicantIncome": 2340,
         "CoapplicantIncome": 2546,
         "LoanAmount": 100,
         "Loan_Amount_Term": 360,
         "Credit_History": 1,
         "_deepnote_index_column": 3
        },
        {
         "Gender_Female": 0,
         "Gender_Male": 1,
         "Married_No": 1,
         "Married_Yes": 0,
         "Education_Graduate": 0,
         "Education_Not Graduate": 1,
         "Self_Employed_No": 1,
         "Self_Employed_Yes": 0,
         "Property_Area_Rural": 0,
         "Property_Area_Semiurban": 0,
         "Property_Area_Urban": 1,
         "Dependents_0": 1,
         "Dependents_1": 0,
         "Dependents_2": 0,
         "Dependents_3+": 0,
         "ApplicantIncome": 3276,
         "CoapplicantIncome": 0,
         "LoanAmount": 78,
         "Loan_Amount_Term": 360,
         "Credit_History": 1,
         "_deepnote_index_column": 4
        },
        {
         "Gender_Female": 0,
         "Gender_Male": 1,
         "Married_No": 0,
         "Married_Yes": 1,
         "Education_Graduate": 0,
         "Education_Not Graduate": 1,
         "Self_Employed_No": 0,
         "Self_Employed_Yes": 1,
         "Property_Area_Rural": 0,
         "Property_Area_Semiurban": 0,
         "Property_Area_Urban": 1,
         "Dependents_0": 1,
         "Dependents_1": 0,
         "Dependents_2": 0,
         "Dependents_3+": 0,
         "ApplicantIncome": 2165,
         "CoapplicantIncome": 3422,
         "LoanAmount": 152,
         "Loan_Amount_Term": 360,
         "Credit_History": 1,
         "_deepnote_index_column": 5
        },
        {
         "Gender_Female": 1,
         "Gender_Male": 0,
         "Married_No": 1,
         "Married_Yes": 0,
         "Education_Graduate": 0,
         "Education_Not Graduate": 1,
         "Self_Employed_No": 1,
         "Self_Employed_Yes": 0,
         "Property_Area_Rural": 0,
         "Property_Area_Semiurban": 1,
         "Property_Area_Urban": 0,
         "Dependents_0": 0,
         "Dependents_1": 1,
         "Dependents_2": 0,
         "Dependents_3+": 0,
         "ApplicantIncome": 2226,
         "CoapplicantIncome": 0,
         "LoanAmount": 59,
         "Loan_Amount_Term": 360,
         "Credit_History": 1,
         "_deepnote_index_column": 6
        },
        {
         "Gender_Female": 0,
         "Gender_Male": 1,
         "Married_No": 0,
         "Married_Yes": 1,
         "Education_Graduate": 0,
         "Education_Not Graduate": 1,
         "Self_Employed_No": 1,
         "Self_Employed_Yes": 0,
         "Property_Area_Rural": 1,
         "Property_Area_Semiurban": 0,
         "Property_Area_Urban": 0,
         "Dependents_0": 0,
         "Dependents_1": 0,
         "Dependents_2": 1,
         "Dependents_3+": 0,
         "ApplicantIncome": 3881,
         "CoapplicantIncome": 0,
         "LoanAmount": 147,
         "Loan_Amount_Term": 360,
         "Credit_History": 0,
         "_deepnote_index_column": 7
        },
        {
         "Gender_Female": 0,
         "Gender_Male": 1,
         "Married_No": 0,
         "Married_Yes": 1,
         "Education_Graduate": 1,
         "Education_Not Graduate": 0,
         "Self_Employed_No": 1,
         "Self_Employed_Yes": 0,
         "Property_Area_Rural": 0,
         "Property_Area_Semiurban": 0,
         "Property_Area_Urban": 1,
         "Dependents_0": 0,
         "Dependents_1": 0,
         "Dependents_2": 1,
         "Dependents_3+": 0,
         "ApplicantIncome": 13633,
         "CoapplicantIncome": 0,
         "LoanAmount": 280,
         "Loan_Amount_Term": 240,
         "Credit_History": 1,
         "_deepnote_index_column": 8
        },
        {
         "Gender_Female": 0,
         "Gender_Male": 1,
         "Married_No": 1,
         "Married_Yes": 0,
         "Education_Graduate": 0,
         "Education_Not Graduate": 1,
         "Self_Employed_No": 1,
         "Self_Employed_Yes": 0,
         "Property_Area_Rural": 0,
         "Property_Area_Semiurban": 1,
         "Property_Area_Urban": 0,
         "Dependents_0": 1,
         "Dependents_1": 0,
         "Dependents_2": 0,
         "Dependents_3+": 0,
         "ApplicantIncome": 2400,
         "CoapplicantIncome": 2400,
         "LoanAmount": 123,
         "Loan_Amount_Term": 360,
         "Credit_History": 1,
         "_deepnote_index_column": 9
        }
       ]
      },
      "text/plain": "     Gender_Female  Gender_Male  Married_No  Married_Yes  Education_Graduate  \\\n0                0            1           0            1                   1   \n1                0            1           0            1                   1   \n2                0            1           0            1                   1   \n3                0            1           0            1                   1   \n4                0            1           1            0                   0   \n..             ...          ...         ...          ...                 ...   \n362              0            1           0            1                   0   \n363              0            1           0            1                   1   \n364              0            1           1            0                   1   \n365              0            1           0            1                   1   \n366              0            1           1            0                   1   \n\n     Education_Not Graduate  Self_Employed_No  Self_Employed_Yes  \\\n0                         0                 1                  0   \n1                         0                 1                  0   \n2                         0                 1                  0   \n3                         0                 1                  0   \n4                         1                 1                  0   \n..                      ...               ...                ...   \n362                       1                 0                  1   \n363                       0                 1                  0   \n364                       0                 1                  0   \n365                       0                 1                  0   \n366                       0                 0                  1   \n\n     Property_Area_Rural  Property_Area_Semiurban  Property_Area_Urban  \\\n0                      0                        0                    1   \n1                      0                        0                    1   \n2                      0                        0                    1   \n3                      0                        0                    1   \n4                      0                        0                    1   \n..                   ...                      ...                  ...   \n362                    0                        0                    1   \n363                    0                        0                    1   \n364                    0                        1                    0   \n365                    1                        0                    0   \n366                    1                        0                    0   \n\n     Dependents_0  Dependents_1  Dependents_2  Dependents_3+  ApplicantIncome  \\\n0               1             0             0              0             5720   \n1               0             1             0              0             3076   \n2               0             0             1              0             5000   \n3               0             0             1              0             2340   \n4               1             0             0              0             3276   \n..            ...           ...           ...            ...              ...   \n362             0             0             0              1             4009   \n363             1             0             0              0             4158   \n364             1             0             0              0             3250   \n365             1             0             0              0             5000   \n366             1             0             0              0             9200   \n\n     CoapplicantIncome  LoanAmount  Loan_Amount_Term  Credit_History  \n0                    0       110.0             360.0             1.0  \n1                 1500       126.0             360.0             1.0  \n2                 1800       208.0             360.0             1.0  \n3                 2546       100.0             360.0             1.0  \n4                    0        78.0             360.0             1.0  \n..                 ...         ...               ...             ...  \n362               1777       113.0             360.0             1.0  \n363                709       115.0             360.0             1.0  \n364               1993       126.0             360.0             1.0  \n365               2393       158.0             360.0             1.0  \n366                  0        98.0             180.0             1.0  \n\n[367 rows x 20 columns]",
      "text/html": "<div>\n<style scoped>\n    .dataframe tbody tr th:only-of-type {\n        vertical-align: middle;\n    }\n\n    .dataframe tbody tr th {\n        vertical-align: top;\n    }\n\n    .dataframe thead th {\n        text-align: right;\n    }\n</style>\n<table border=\"1\" class=\"dataframe\">\n  <thead>\n    <tr style=\"text-align: right;\">\n      <th></th>\n      <th>Gender_Female</th>\n      <th>Gender_Male</th>\n      <th>Married_No</th>\n      <th>Married_Yes</th>\n      <th>Education_Graduate</th>\n      <th>Education_Not Graduate</th>\n      <th>Self_Employed_No</th>\n      <th>Self_Employed_Yes</th>\n      <th>Property_Area_Rural</th>\n      <th>Property_Area_Semiurban</th>\n      <th>Property_Area_Urban</th>\n      <th>Dependents_0</th>\n      <th>Dependents_1</th>\n      <th>Dependents_2</th>\n      <th>Dependents_3+</th>\n      <th>ApplicantIncome</th>\n      <th>CoapplicantIncome</th>\n      <th>LoanAmount</th>\n      <th>Loan_Amount_Term</th>\n      <th>Credit_History</th>\n    </tr>\n  </thead>\n  <tbody>\n    <tr>\n      <th>0</th>\n      <td>0</td>\n      <td>1</td>\n      <td>0</td>\n      <td>1</td>\n      <td>1</td>\n      <td>0</td>\n      <td>1</td>\n      <td>0</td>\n      <td>0</td>\n      <td>0</td>\n      <td>1</td>\n      <td>1</td>\n      <td>0</td>\n      <td>0</td>\n      <td>0</td>\n      <td>5720</td>\n      <td>0</td>\n      <td>110.0</td>\n      <td>360.0</td>\n      <td>1.0</td>\n    </tr>\n    <tr>\n      <th>1</th>\n      <td>0</td>\n      <td>1</td>\n      <td>0</td>\n      <td>1</td>\n      <td>1</td>\n      <td>0</td>\n      <td>1</td>\n      <td>0</td>\n      <td>0</td>\n      <td>0</td>\n      <td>1</td>\n      <td>0</td>\n      <td>1</td>\n      <td>0</td>\n      <td>0</td>\n      <td>3076</td>\n      <td>1500</td>\n      <td>126.0</td>\n      <td>360.0</td>\n      <td>1.0</td>\n    </tr>\n    <tr>\n      <th>2</th>\n      <td>0</td>\n      <td>1</td>\n      <td>0</td>\n      <td>1</td>\n      <td>1</td>\n      <td>0</td>\n      <td>1</td>\n      <td>0</td>\n      <td>0</td>\n      <td>0</td>\n      <td>1</td>\n      <td>0</td>\n      <td>0</td>\n      <td>1</td>\n      <td>0</td>\n      <td>5000</td>\n      <td>1800</td>\n      <td>208.0</td>\n      <td>360.0</td>\n      <td>1.0</td>\n    </tr>\n    <tr>\n      <th>3</th>\n      <td>0</td>\n      <td>1</td>\n      <td>0</td>\n      <td>1</td>\n      <td>1</td>\n      <td>0</td>\n      <td>1</td>\n      <td>0</td>\n      <td>0</td>\n      <td>0</td>\n      <td>1</td>\n      <td>0</td>\n      <td>0</td>\n      <td>1</td>\n      <td>0</td>\n      <td>2340</td>\n      <td>2546</td>\n      <td>100.0</td>\n      <td>360.0</td>\n      <td>1.0</td>\n    </tr>\n    <tr>\n      <th>4</th>\n      <td>0</td>\n      <td>1</td>\n      <td>1</td>\n      <td>0</td>\n      <td>0</td>\n      <td>1</td>\n      <td>1</td>\n      <td>0</td>\n      <td>0</td>\n      <td>0</td>\n      <td>1</td>\n      <td>1</td>\n      <td>0</td>\n      <td>0</td>\n      <td>0</td>\n      <td>3276</td>\n      <td>0</td>\n      <td>78.0</td>\n      <td>360.0</td>\n      <td>1.0</td>\n    </tr>\n    <tr>\n      <th>...</th>\n      <td>...</td>\n      <td>...</td>\n      <td>...</td>\n      <td>...</td>\n      <td>...</td>\n      <td>...</td>\n      <td>...</td>\n      <td>...</td>\n      <td>...</td>\n      <td>...</td>\n      <td>...</td>\n      <td>...</td>\n      <td>...</td>\n      <td>...</td>\n      <td>...</td>\n      <td>...</td>\n      <td>...</td>\n      <td>...</td>\n      <td>...</td>\n      <td>...</td>\n    </tr>\n    <tr>\n      <th>362</th>\n      <td>0</td>\n      <td>1</td>\n      <td>0</td>\n      <td>1</td>\n      <td>0</td>\n      <td>1</td>\n      <td>0</td>\n      <td>1</td>\n      <td>0</td>\n      <td>0</td>\n      <td>1</td>\n      <td>0</td>\n      <td>0</td>\n      <td>0</td>\n      <td>1</td>\n      <td>4009</td>\n      <td>1777</td>\n      <td>113.0</td>\n      <td>360.0</td>\n      <td>1.0</td>\n    </tr>\n    <tr>\n      <th>363</th>\n      <td>0</td>\n      <td>1</td>\n      <td>0</td>\n      <td>1</td>\n      <td>1</td>\n      <td>0</td>\n      <td>1</td>\n      <td>0</td>\n      <td>0</td>\n      <td>0</td>\n      <td>1</td>\n      <td>1</td>\n      <td>0</td>\n      <td>0</td>\n      <td>0</td>\n      <td>4158</td>\n      <td>709</td>\n      <td>115.0</td>\n      <td>360.0</td>\n      <td>1.0</td>\n    </tr>\n    <tr>\n      <th>364</th>\n      <td>0</td>\n      <td>1</td>\n      <td>1</td>\n      <td>0</td>\n      <td>1</td>\n      <td>0</td>\n      <td>1</td>\n      <td>0</td>\n      <td>0</td>\n      <td>1</td>\n      <td>0</td>\n      <td>1</td>\n      <td>0</td>\n      <td>0</td>\n      <td>0</td>\n      <td>3250</td>\n      <td>1993</td>\n      <td>126.0</td>\n      <td>360.0</td>\n      <td>1.0</td>\n    </tr>\n    <tr>\n      <th>365</th>\n      <td>0</td>\n      <td>1</td>\n      <td>0</td>\n      <td>1</td>\n      <td>1</td>\n      <td>0</td>\n      <td>1</td>\n      <td>0</td>\n      <td>1</td>\n      <td>0</td>\n      <td>0</td>\n      <td>1</td>\n      <td>0</td>\n      <td>0</td>\n      <td>0</td>\n      <td>5000</td>\n      <td>2393</td>\n      <td>158.0</td>\n      <td>360.0</td>\n      <td>1.0</td>\n    </tr>\n    <tr>\n      <th>366</th>\n      <td>0</td>\n      <td>1</td>\n      <td>1</td>\n      <td>0</td>\n      <td>1</td>\n      <td>0</td>\n      <td>0</td>\n      <td>1</td>\n      <td>1</td>\n      <td>0</td>\n      <td>0</td>\n      <td>1</td>\n      <td>0</td>\n      <td>0</td>\n      <td>0</td>\n      <td>9200</td>\n      <td>0</td>\n      <td>98.0</td>\n      <td>180.0</td>\n      <td>1.0</td>\n    </tr>\n  </tbody>\n</table>\n<p>367 rows × 20 columns</p>\n</div>"
     },
     "metadata": {}
    }
   ]
  },
  {
   "cell_type": "markdown",
   "source": "## Deciding significant Variables",
   "metadata": {
    "tags": [],
    "cell_id": "00052-bbc3392b-3824-4947-b41a-aa94d3750332",
    "deepnote_cell_type": "markdown",
    "deepnote_cell_height": 70
   }
  },
  {
   "cell_type": "code",
   "metadata": {
    "tags": [],
    "deepnote_to_be_reexecuted": false,
    "source_hash": "55588ea9",
    "execution_start": 1659514967466,
    "execution_millis": 132,
    "cell_id": "00053-514a4f50-fced-404e-a101-5a3a33ee196c",
    "deepnote_cell_type": "code",
    "deepnote_cell_height": 246.375,
    "deepnote_output_heights": [
     136.390625
    ]
   },
   "source": "df_var = data_train.copy()\ndf_var.columns",
   "execution_count": 42,
   "outputs": [
    {
     "output_type": "execute_result",
     "execution_count": 42,
     "data": {
      "text/plain": "Index(['Gender_Female', 'Gender_Male', 'Married_No', 'Married_Yes',\n       'Education_Graduate', 'Education_Not Graduate', 'Self_Employed_No',\n       'Self_Employed_Yes', 'Property_Area_Rural', 'Property_Area_Semiurban',\n       'Property_Area_Urban', 'Dependents_0', 'Dependents_1', 'Dependents_2',\n       'Dependents_3+', 'ApplicantIncome', 'CoapplicantIncome', 'LoanAmount',\n       'Loan_Amount_Term', 'Credit_History', 'Loan_Status'],\n      dtype='object')"
     },
     "metadata": {}
    }
   ]
  },
  {
   "cell_type": "code",
   "metadata": {
    "tags": [],
    "deepnote_to_be_reexecuted": false,
    "source_hash": "844c57aa",
    "execution_start": 1659514967496,
    "execution_millis": 679,
    "cell_id": "00054-2e80a5c7-75d8-4729-a72d-b4959ca45fbe",
    "deepnote_cell_type": "code",
    "deepnote_cell_height": 775,
    "deepnote_output_heights": [
     611
    ]
   },
   "source": "import statsmodels.api as sm\n\nregressor_OLS = sm.OLS(endog=y, exog=X).fit()\nregressor_OLS.summary()\n",
   "execution_count": 43,
   "outputs": [
    {
     "output_type": "execute_result",
     "execution_count": 43,
     "data": {
      "text/plain": "<class 'statsmodels.iolib.summary.Summary'>\n\"\"\"\n                            OLS Regression Results                            \n==============================================================================\nDep. Variable:            Loan_Status   R-squared:                       0.328\nModel:                            OLS   Adj. R-squared:                  0.312\nMethod:                 Least Squares   F-statistic:                     20.87\nDate:                Wed, 03 Aug 2022   Prob (F-statistic):           3.00e-43\nTime:                        08:22:48   Log-Likelihood:                -277.28\nNo. Observations:                 614   AIC:                             584.6\nDf Residuals:                     599   BIC:                             650.9\nDf Model:                          14                                         \nCovariance Type:            nonrobust                                         \n===========================================================================================\n                              coef    std err          t      P>|t|      [0.025      0.975]\n-------------------------------------------------------------------------------------------\nGender_Female               0.0315      0.031      1.015      0.311      -0.029       0.093\nGender_Male                 0.0298      0.027      1.095      0.274      -0.024       0.083\nMarried_No                 -0.0151      0.028     -0.547      0.585      -0.070       0.039\nMarried_Yes                 0.0765      0.026      2.940      0.003       0.025       0.128\nEducation_Graduate          0.0609      0.028      2.184      0.029       0.006       0.116\nEducation_Not Graduate      0.0005      0.027      0.018      0.986      -0.052       0.053\nSelf_Employed_No            0.0298      0.028      1.078      0.282      -0.024       0.084\nSelf_Employed_Yes           0.0316      0.033      0.971      0.332      -0.032       0.095\nProperty_Area_Rural        -0.0361      0.027     -1.333      0.183      -0.089       0.017\nProperty_Area_Semiurban     0.0946      0.025      3.729      0.000       0.045       0.144\nProperty_Area_Urban         0.0028      0.025      0.112      0.911      -0.046       0.052\nDependents_0                0.0248      0.027      0.902      0.367      -0.029       0.079\nDependents_1               -0.0456      0.035     -1.317      0.188      -0.114       0.022\nDependents_2                0.0591      0.036      1.649      0.100      -0.011       0.129\nDependents_3+               0.0231      0.046      0.505      0.614      -0.067       0.113\nApplicantIncome          1.136e-06   3.26e-06      0.348      0.728   -5.28e-06    7.55e-06\nCoapplicantIncome       -1.042e-05   5.69e-06     -1.832      0.067   -2.16e-05     7.5e-07\nLoanAmount                 -0.0003      0.000     -1.037      0.300      -0.001       0.000\nLoan_Amount_Term           -0.0002      0.000     -0.733      0.464      -0.001       0.000\nCredit_History              0.7012      0.044     15.806      0.000       0.614       0.788\n==============================================================================\nOmnibus:                       93.825   Durbin-Watson:                   1.945\nProb(Omnibus):                  0.000   Jarque-Bera (JB):              135.469\nSkew:                          -1.131   Prob(JB):                     3.83e-30\nKurtosis:                       3.421   Cond. No.                     7.70e+19\n==============================================================================\n\nNotes:\n[1] Standard Errors assume that the covariance matrix of the errors is correctly specified.\n[2] The smallest eigenvalue is 6.97e-30. This might indicate that there are\nstrong multicollinearity problems or that the design matrix is singular.\n\"\"\"",
      "text/html": "<table class=\"simpletable\">\n<caption>OLS Regression Results</caption>\n<tr>\n  <th>Dep. Variable:</th>       <td>Loan_Status</td>   <th>  R-squared:         </th> <td>   0.328</td>\n</tr>\n<tr>\n  <th>Model:</th>                   <td>OLS</td>       <th>  Adj. R-squared:    </th> <td>   0.312</td>\n</tr>\n<tr>\n  <th>Method:</th>             <td>Least Squares</td>  <th>  F-statistic:       </th> <td>   20.87</td>\n</tr>\n<tr>\n  <th>Date:</th>             <td>Wed, 03 Aug 2022</td> <th>  Prob (F-statistic):</th> <td>3.00e-43</td>\n</tr>\n<tr>\n  <th>Time:</th>                 <td>08:22:48</td>     <th>  Log-Likelihood:    </th> <td> -277.28</td>\n</tr>\n<tr>\n  <th>No. Observations:</th>      <td>   614</td>      <th>  AIC:               </th> <td>   584.6</td>\n</tr>\n<tr>\n  <th>Df Residuals:</th>          <td>   599</td>      <th>  BIC:               </th> <td>   650.9</td>\n</tr>\n<tr>\n  <th>Df Model:</th>              <td>    14</td>      <th>                     </th>     <td> </td>   \n</tr>\n<tr>\n  <th>Covariance Type:</th>      <td>nonrobust</td>    <th>                     </th>     <td> </td>   \n</tr>\n</table>\n<table class=\"simpletable\">\n<tr>\n             <td></td>                <th>coef</th>     <th>std err</th>      <th>t</th>      <th>P>|t|</th>  <th>[0.025</th>    <th>0.975]</th>  \n</tr>\n<tr>\n  <th>Gender_Female</th>           <td>    0.0315</td> <td>    0.031</td> <td>    1.015</td> <td> 0.311</td> <td>   -0.029</td> <td>    0.093</td>\n</tr>\n<tr>\n  <th>Gender_Male</th>             <td>    0.0298</td> <td>    0.027</td> <td>    1.095</td> <td> 0.274</td> <td>   -0.024</td> <td>    0.083</td>\n</tr>\n<tr>\n  <th>Married_No</th>              <td>   -0.0151</td> <td>    0.028</td> <td>   -0.547</td> <td> 0.585</td> <td>   -0.070</td> <td>    0.039</td>\n</tr>\n<tr>\n  <th>Married_Yes</th>             <td>    0.0765</td> <td>    0.026</td> <td>    2.940</td> <td> 0.003</td> <td>    0.025</td> <td>    0.128</td>\n</tr>\n<tr>\n  <th>Education_Graduate</th>      <td>    0.0609</td> <td>    0.028</td> <td>    2.184</td> <td> 0.029</td> <td>    0.006</td> <td>    0.116</td>\n</tr>\n<tr>\n  <th>Education_Not Graduate</th>  <td>    0.0005</td> <td>    0.027</td> <td>    0.018</td> <td> 0.986</td> <td>   -0.052</td> <td>    0.053</td>\n</tr>\n<tr>\n  <th>Self_Employed_No</th>        <td>    0.0298</td> <td>    0.028</td> <td>    1.078</td> <td> 0.282</td> <td>   -0.024</td> <td>    0.084</td>\n</tr>\n<tr>\n  <th>Self_Employed_Yes</th>       <td>    0.0316</td> <td>    0.033</td> <td>    0.971</td> <td> 0.332</td> <td>   -0.032</td> <td>    0.095</td>\n</tr>\n<tr>\n  <th>Property_Area_Rural</th>     <td>   -0.0361</td> <td>    0.027</td> <td>   -1.333</td> <td> 0.183</td> <td>   -0.089</td> <td>    0.017</td>\n</tr>\n<tr>\n  <th>Property_Area_Semiurban</th> <td>    0.0946</td> <td>    0.025</td> <td>    3.729</td> <td> 0.000</td> <td>    0.045</td> <td>    0.144</td>\n</tr>\n<tr>\n  <th>Property_Area_Urban</th>     <td>    0.0028</td> <td>    0.025</td> <td>    0.112</td> <td> 0.911</td> <td>   -0.046</td> <td>    0.052</td>\n</tr>\n<tr>\n  <th>Dependents_0</th>            <td>    0.0248</td> <td>    0.027</td> <td>    0.902</td> <td> 0.367</td> <td>   -0.029</td> <td>    0.079</td>\n</tr>\n<tr>\n  <th>Dependents_1</th>            <td>   -0.0456</td> <td>    0.035</td> <td>   -1.317</td> <td> 0.188</td> <td>   -0.114</td> <td>    0.022</td>\n</tr>\n<tr>\n  <th>Dependents_2</th>            <td>    0.0591</td> <td>    0.036</td> <td>    1.649</td> <td> 0.100</td> <td>   -0.011</td> <td>    0.129</td>\n</tr>\n<tr>\n  <th>Dependents_3+</th>           <td>    0.0231</td> <td>    0.046</td> <td>    0.505</td> <td> 0.614</td> <td>   -0.067</td> <td>    0.113</td>\n</tr>\n<tr>\n  <th>ApplicantIncome</th>         <td> 1.136e-06</td> <td> 3.26e-06</td> <td>    0.348</td> <td> 0.728</td> <td>-5.28e-06</td> <td> 7.55e-06</td>\n</tr>\n<tr>\n  <th>CoapplicantIncome</th>       <td>-1.042e-05</td> <td> 5.69e-06</td> <td>   -1.832</td> <td> 0.067</td> <td>-2.16e-05</td> <td>  7.5e-07</td>\n</tr>\n<tr>\n  <th>LoanAmount</th>              <td>   -0.0003</td> <td>    0.000</td> <td>   -1.037</td> <td> 0.300</td> <td>   -0.001</td> <td>    0.000</td>\n</tr>\n<tr>\n  <th>Loan_Amount_Term</th>        <td>   -0.0002</td> <td>    0.000</td> <td>   -0.733</td> <td> 0.464</td> <td>   -0.001</td> <td>    0.000</td>\n</tr>\n<tr>\n  <th>Credit_History</th>          <td>    0.7012</td> <td>    0.044</td> <td>   15.806</td> <td> 0.000</td> <td>    0.614</td> <td>    0.788</td>\n</tr>\n</table>\n<table class=\"simpletable\">\n<tr>\n  <th>Omnibus:</th>       <td>93.825</td> <th>  Durbin-Watson:     </th> <td>   1.945</td>\n</tr>\n<tr>\n  <th>Prob(Omnibus):</th> <td> 0.000</td> <th>  Jarque-Bera (JB):  </th> <td> 135.469</td>\n</tr>\n<tr>\n  <th>Skew:</th>          <td>-1.131</td> <th>  Prob(JB):          </th> <td>3.83e-30</td>\n</tr>\n<tr>\n  <th>Kurtosis:</th>      <td> 3.421</td> <th>  Cond. No.          </th> <td>7.70e+19</td>\n</tr>\n</table><br/><br/>Notes:<br/>[1] Standard Errors assume that the covariance matrix of the errors is correctly specified.<br/>[2] The smallest eigenvalue is 6.97e-30. This might indicate that there are<br/>strong multicollinearity problems or that the design matrix is singular."
     },
     "metadata": {}
    }
   ]
  },
  {
   "cell_type": "markdown",
   "source": "Having decided a significance level of 0.05:\nA few factors has been deemed significant enough to affect the loan status:\n1. The proportion of population that got married.\n2. Whether the person applying for loan has an education.\n3. Whether they live in semi urban area.\n4. The credit history of the person appliying for loan.",
   "metadata": {
    "tags": [],
    "cell_id": "00055-b9cf3f95-2961-40ef-9d87-9eb43651714a",
    "deepnote_cell_type": "markdown",
    "deepnote_cell_height": 201.390625
   }
  },
  {
   "cell_type": "code",
   "metadata": {
    "tags": [],
    "deepnote_to_be_reexecuted": false,
    "source_hash": "3d48f4ee",
    "execution_start": 1659514968185,
    "execution_millis": 55,
    "cell_id": "00056-43c233cd-8042-4845-991d-eec0300e2231",
    "deepnote_cell_type": "code",
    "deepnote_cell_height": 408
   },
   "source": "X_opt = X[['Married_Yes','Education_Graduate','Property_Area_Semiurban','Credit_History']]\nX_opt.head()",
   "execution_count": 44,
   "outputs": [
    {
     "output_type": "execute_result",
     "execution_count": 44,
     "data": {
      "application/vnd.deepnote.dataframe.v3+json": {
       "column_count": 4,
       "row_count": 5,
       "columns": [
        {
         "name": "Married_Yes",
         "dtype": "uint8",
         "stats": {
          "unique_count": 2,
          "nan_count": 0,
          "min": "0",
          "max": "1",
          "histogram": [
           {
            "bin_start": 0,
            "bin_end": 0.1,
            "count": 2
           },
           {
            "bin_start": 0.1,
            "bin_end": 0.2,
            "count": 0
           },
           {
            "bin_start": 0.2,
            "bin_end": 0.30000000000000004,
            "count": 0
           },
           {
            "bin_start": 0.30000000000000004,
            "bin_end": 0.4,
            "count": 0
           },
           {
            "bin_start": 0.4,
            "bin_end": 0.5,
            "count": 0
           },
           {
            "bin_start": 0.5,
            "bin_end": 0.6000000000000001,
            "count": 0
           },
           {
            "bin_start": 0.6000000000000001,
            "bin_end": 0.7000000000000001,
            "count": 0
           },
           {
            "bin_start": 0.7000000000000001,
            "bin_end": 0.8,
            "count": 0
           },
           {
            "bin_start": 0.8,
            "bin_end": 0.9,
            "count": 0
           },
           {
            "bin_start": 0.9,
            "bin_end": 1,
            "count": 3
           }
          ]
         }
        },
        {
         "name": "Education_Graduate",
         "dtype": "uint8",
         "stats": {
          "unique_count": 2,
          "nan_count": 0,
          "min": "0",
          "max": "1",
          "histogram": [
           {
            "bin_start": 0,
            "bin_end": 0.1,
            "count": 1
           },
           {
            "bin_start": 0.1,
            "bin_end": 0.2,
            "count": 0
           },
           {
            "bin_start": 0.2,
            "bin_end": 0.30000000000000004,
            "count": 0
           },
           {
            "bin_start": 0.30000000000000004,
            "bin_end": 0.4,
            "count": 0
           },
           {
            "bin_start": 0.4,
            "bin_end": 0.5,
            "count": 0
           },
           {
            "bin_start": 0.5,
            "bin_end": 0.6000000000000001,
            "count": 0
           },
           {
            "bin_start": 0.6000000000000001,
            "bin_end": 0.7000000000000001,
            "count": 0
           },
           {
            "bin_start": 0.7000000000000001,
            "bin_end": 0.8,
            "count": 0
           },
           {
            "bin_start": 0.8,
            "bin_end": 0.9,
            "count": 0
           },
           {
            "bin_start": 0.9,
            "bin_end": 1,
            "count": 4
           }
          ]
         }
        },
        {
         "name": "Property_Area_Semiurban",
         "dtype": "uint8",
         "stats": {
          "unique_count": 1,
          "nan_count": 0,
          "min": "0",
          "max": "0",
          "histogram": [
           {
            "bin_start": -0.5,
            "bin_end": -0.4,
            "count": 0
           },
           {
            "bin_start": -0.4,
            "bin_end": -0.3,
            "count": 0
           },
           {
            "bin_start": -0.3,
            "bin_end": -0.19999999999999996,
            "count": 0
           },
           {
            "bin_start": -0.19999999999999996,
            "bin_end": -0.09999999999999998,
            "count": 0
           },
           {
            "bin_start": -0.09999999999999998,
            "bin_end": 0,
            "count": 0
           },
           {
            "bin_start": 0,
            "bin_end": 0.10000000000000009,
            "count": 5
           },
           {
            "bin_start": 0.10000000000000009,
            "bin_end": 0.20000000000000007,
            "count": 0
           },
           {
            "bin_start": 0.20000000000000007,
            "bin_end": 0.30000000000000004,
            "count": 0
           },
           {
            "bin_start": 0.30000000000000004,
            "bin_end": 0.4,
            "count": 0
           },
           {
            "bin_start": 0.4,
            "bin_end": 0.5,
            "count": 0
           }
          ]
         }
        },
        {
         "name": "Credit_History",
         "dtype": "float64",
         "stats": {
          "unique_count": 1,
          "nan_count": 0,
          "min": "1.0",
          "max": "1.0",
          "histogram": [
           {
            "bin_start": 0.5,
            "bin_end": 0.6,
            "count": 0
           },
           {
            "bin_start": 0.6,
            "bin_end": 0.7,
            "count": 0
           },
           {
            "bin_start": 0.7,
            "bin_end": 0.8,
            "count": 0
           },
           {
            "bin_start": 0.8,
            "bin_end": 0.9,
            "count": 0
           },
           {
            "bin_start": 0.9,
            "bin_end": 1,
            "count": 0
           },
           {
            "bin_start": 1,
            "bin_end": 1.1,
            "count": 5
           },
           {
            "bin_start": 1.1,
            "bin_end": 1.2000000000000002,
            "count": 0
           },
           {
            "bin_start": 1.2000000000000002,
            "bin_end": 1.3,
            "count": 0
           },
           {
            "bin_start": 1.3,
            "bin_end": 1.4,
            "count": 0
           },
           {
            "bin_start": 1.4,
            "bin_end": 1.5,
            "count": 0
           }
          ]
         }
        },
        {
         "name": "_deepnote_index_column",
         "dtype": "int64"
        }
       ],
       "rows": [
        {
         "Married_Yes": 0,
         "Education_Graduate": 1,
         "Property_Area_Semiurban": 0,
         "Credit_History": 1,
         "_deepnote_index_column": 0
        },
        {
         "Married_Yes": 1,
         "Education_Graduate": 1,
         "Property_Area_Semiurban": 0,
         "Credit_History": 1,
         "_deepnote_index_column": 1
        },
        {
         "Married_Yes": 1,
         "Education_Graduate": 1,
         "Property_Area_Semiurban": 0,
         "Credit_History": 1,
         "_deepnote_index_column": 2
        },
        {
         "Married_Yes": 1,
         "Education_Graduate": 0,
         "Property_Area_Semiurban": 0,
         "Credit_History": 1,
         "_deepnote_index_column": 3
        },
        {
         "Married_Yes": 0,
         "Education_Graduate": 1,
         "Property_Area_Semiurban": 0,
         "Credit_History": 1,
         "_deepnote_index_column": 4
        }
       ]
      },
      "text/plain": "   Married_Yes  Education_Graduate  Property_Area_Semiurban  Credit_History\n0            0                   1                        0             1.0\n1            1                   1                        0             1.0\n2            1                   1                        0             1.0\n3            1                   0                        0             1.0\n4            0                   1                        0             1.0",
      "text/html": "<div>\n<style scoped>\n    .dataframe tbody tr th:only-of-type {\n        vertical-align: middle;\n    }\n\n    .dataframe tbody tr th {\n        vertical-align: top;\n    }\n\n    .dataframe thead th {\n        text-align: right;\n    }\n</style>\n<table border=\"1\" class=\"dataframe\">\n  <thead>\n    <tr style=\"text-align: right;\">\n      <th></th>\n      <th>Married_Yes</th>\n      <th>Education_Graduate</th>\n      <th>Property_Area_Semiurban</th>\n      <th>Credit_History</th>\n    </tr>\n  </thead>\n  <tbody>\n    <tr>\n      <th>0</th>\n      <td>0</td>\n      <td>1</td>\n      <td>0</td>\n      <td>1.0</td>\n    </tr>\n    <tr>\n      <th>1</th>\n      <td>1</td>\n      <td>1</td>\n      <td>0</td>\n      <td>1.0</td>\n    </tr>\n    <tr>\n      <th>2</th>\n      <td>1</td>\n      <td>1</td>\n      <td>0</td>\n      <td>1.0</td>\n    </tr>\n    <tr>\n      <th>3</th>\n      <td>1</td>\n      <td>0</td>\n      <td>0</td>\n      <td>1.0</td>\n    </tr>\n    <tr>\n      <th>4</th>\n      <td>0</td>\n      <td>1</td>\n      <td>0</td>\n      <td>1.0</td>\n    </tr>\n  </tbody>\n</table>\n</div>"
     },
     "metadata": {}
    }
   ]
  },
  {
   "cell_type": "code",
   "metadata": {
    "tags": [],
    "deepnote_to_be_reexecuted": false,
    "source_hash": "777b48ef",
    "execution_start": 1659514968243,
    "execution_millis": 11,
    "cell_id": "00057-7a7dfb0a-c920-47fd-8ebc-ad8aff2d72f6",
    "deepnote_cell_type": "code",
    "deepnote_cell_height": 81
   },
   "source": "data_test_opt = data_test[['Married_Yes','Education_Graduate','Property_Area_Semiurban','Credit_History']]",
   "execution_count": 45,
   "outputs": []
  },
  {
   "cell_type": "markdown",
   "source": "# Machine Learning Model",
   "metadata": {
    "formattedRanges": [],
    "is_collapsed": false,
    "tags": [],
    "cell_id": "00058-f58e5e24-9993-46d1-9f21-84673cbb1e47",
    "deepnote_cell_type": "text-cell-h1"
   }
  },
  {
   "cell_type": "code",
   "source": "from sklearn.model_selection import train_test_split\nx_train, x_cv, y_train, y_cv = train_test_split(data_test_opt,y, test_size=0.3)",
   "metadata": {
    "tags": [],
    "deepnote_to_be_reexecuted": false,
    "source_hash": "c610e1eb",
    "execution_start": 1659515233621,
    "execution_millis": 51,
    "cell_id": "00059-417ab58c-6e9b-4b84-b2d9-fdcca7b3a1f3",
    "deepnote_cell_type": "code",
    "deepnote_cell_height": 94
   },
   "execution_count": 90,
   "outputs": [
    {
     "output_type": "error",
     "ename": "ValueError",
     "evalue": "Found input variables with inconsistent numbers of samples: [367, 614]",
     "traceback": [
      "\u001b[0;31m---------------------------------------------------------------------------\u001b[0m",
      "\u001b[0;31mValueError\u001b[0m                                Traceback (most recent call last)",
      "\u001b[0;32m<ipython-input-90-54b6c8522c75>\u001b[0m in \u001b[0;36m<cell line: 2>\u001b[0;34m()\u001b[0m\n\u001b[1;32m      1\u001b[0m \u001b[0;32mfrom\u001b[0m \u001b[0msklearn\u001b[0m\u001b[0;34m.\u001b[0m\u001b[0mmodel_selection\u001b[0m \u001b[0;32mimport\u001b[0m \u001b[0mtrain_test_split\u001b[0m\u001b[0;34m\u001b[0m\u001b[0;34m\u001b[0m\u001b[0m\n\u001b[0;32m----> 2\u001b[0;31m \u001b[0mx_train\u001b[0m\u001b[0;34m,\u001b[0m \u001b[0mx_cv\u001b[0m\u001b[0;34m,\u001b[0m \u001b[0my_train\u001b[0m\u001b[0;34m,\u001b[0m \u001b[0my_cv\u001b[0m \u001b[0;34m=\u001b[0m \u001b[0mtrain_test_split\u001b[0m\u001b[0;34m(\u001b[0m\u001b[0mdata_test_opt\u001b[0m\u001b[0;34m,\u001b[0m\u001b[0my\u001b[0m\u001b[0;34m,\u001b[0m \u001b[0mtest_size\u001b[0m\u001b[0;34m=\u001b[0m\u001b[0;36m0.3\u001b[0m\u001b[0;34m)\u001b[0m\u001b[0;34m\u001b[0m\u001b[0;34m\u001b[0m\u001b[0m\n\u001b[0m",
      "\u001b[0;32m~/venv/lib/python3.9/site-packages/sklearn/model_selection/_split.py\u001b[0m in \u001b[0;36mtrain_test_split\u001b[0;34m(*arrays, **options)\u001b[0m\n\u001b[1;32m   2125\u001b[0m         \u001b[0;32mraise\u001b[0m \u001b[0mTypeError\u001b[0m\u001b[0;34m(\u001b[0m\u001b[0;34m\"Invalid parameters passed: %s\"\u001b[0m \u001b[0;34m%\u001b[0m \u001b[0mstr\u001b[0m\u001b[0;34m(\u001b[0m\u001b[0moptions\u001b[0m\u001b[0;34m)\u001b[0m\u001b[0;34m)\u001b[0m\u001b[0;34m\u001b[0m\u001b[0;34m\u001b[0m\u001b[0m\n\u001b[1;32m   2126\u001b[0m \u001b[0;34m\u001b[0m\u001b[0m\n\u001b[0;32m-> 2127\u001b[0;31m     \u001b[0marrays\u001b[0m \u001b[0;34m=\u001b[0m \u001b[0mindexable\u001b[0m\u001b[0;34m(\u001b[0m\u001b[0;34m*\u001b[0m\u001b[0marrays\u001b[0m\u001b[0;34m)\u001b[0m\u001b[0;34m\u001b[0m\u001b[0;34m\u001b[0m\u001b[0m\n\u001b[0m\u001b[1;32m   2128\u001b[0m \u001b[0;34m\u001b[0m\u001b[0m\n\u001b[1;32m   2129\u001b[0m     \u001b[0mn_samples\u001b[0m \u001b[0;34m=\u001b[0m \u001b[0m_num_samples\u001b[0m\u001b[0;34m(\u001b[0m\u001b[0marrays\u001b[0m\u001b[0;34m[\u001b[0m\u001b[0;36m0\u001b[0m\u001b[0;34m]\u001b[0m\u001b[0;34m)\u001b[0m\u001b[0;34m\u001b[0m\u001b[0;34m\u001b[0m\u001b[0m\n",
      "\u001b[0;32m~/venv/lib/python3.9/site-packages/sklearn/utils/validation.py\u001b[0m in \u001b[0;36mindexable\u001b[0;34m(*iterables)\u001b[0m\n\u001b[1;32m    290\u001b[0m     \"\"\"\n\u001b[1;32m    291\u001b[0m     \u001b[0mresult\u001b[0m \u001b[0;34m=\u001b[0m \u001b[0;34m[\u001b[0m\u001b[0m_make_indexable\u001b[0m\u001b[0;34m(\u001b[0m\u001b[0mX\u001b[0m\u001b[0;34m)\u001b[0m \u001b[0;32mfor\u001b[0m \u001b[0mX\u001b[0m \u001b[0;32min\u001b[0m \u001b[0miterables\u001b[0m\u001b[0;34m]\u001b[0m\u001b[0;34m\u001b[0m\u001b[0;34m\u001b[0m\u001b[0m\n\u001b[0;32m--> 292\u001b[0;31m     \u001b[0mcheck_consistent_length\u001b[0m\u001b[0;34m(\u001b[0m\u001b[0;34m*\u001b[0m\u001b[0mresult\u001b[0m\u001b[0;34m)\u001b[0m\u001b[0;34m\u001b[0m\u001b[0;34m\u001b[0m\u001b[0m\n\u001b[0m\u001b[1;32m    293\u001b[0m     \u001b[0;32mreturn\u001b[0m \u001b[0mresult\u001b[0m\u001b[0;34m\u001b[0m\u001b[0;34m\u001b[0m\u001b[0m\n\u001b[1;32m    294\u001b[0m \u001b[0;34m\u001b[0m\u001b[0m\n",
      "\u001b[0;32m~/venv/lib/python3.9/site-packages/sklearn/utils/validation.py\u001b[0m in \u001b[0;36mcheck_consistent_length\u001b[0;34m(*arrays)\u001b[0m\n\u001b[1;32m    253\u001b[0m     \u001b[0muniques\u001b[0m \u001b[0;34m=\u001b[0m \u001b[0mnp\u001b[0m\u001b[0;34m.\u001b[0m\u001b[0munique\u001b[0m\u001b[0;34m(\u001b[0m\u001b[0mlengths\u001b[0m\u001b[0;34m)\u001b[0m\u001b[0;34m\u001b[0m\u001b[0;34m\u001b[0m\u001b[0m\n\u001b[1;32m    254\u001b[0m     \u001b[0;32mif\u001b[0m \u001b[0mlen\u001b[0m\u001b[0;34m(\u001b[0m\u001b[0muniques\u001b[0m\u001b[0;34m)\u001b[0m \u001b[0;34m>\u001b[0m \u001b[0;36m1\u001b[0m\u001b[0;34m:\u001b[0m\u001b[0;34m\u001b[0m\u001b[0;34m\u001b[0m\u001b[0m\n\u001b[0;32m--> 255\u001b[0;31m         raise ValueError(\"Found input variables with inconsistent numbers of\"\n\u001b[0m\u001b[1;32m    256\u001b[0m                          \" samples: %r\" % [int(l) for l in lengths])\n\u001b[1;32m    257\u001b[0m \u001b[0;34m\u001b[0m\u001b[0m\n",
      "\u001b[0;31mValueError\u001b[0m: Found input variables with inconsistent numbers of samples: [367, 614]"
     ]
    }
   ]
  },
  {
   "cell_type": "markdown",
   "source": "Models to try\n- Logistic Regression\n- Support Vector Machines\n- Naive Bayes\n- Nearest Neighbor\n- Decision Trees",
   "metadata": {
    "tags": [],
    "cell_id": "00060-f939d37e-e19d-42eb-b523-52d0cd7989d3",
    "deepnote_cell_type": "markdown",
    "deepnote_cell_height": 204.390625
   }
  },
  {
   "cell_type": "markdown",
   "source": "### Logistic Regression",
   "metadata": {
    "tags": [],
    "cell_id": "00061-4cecf006-9a2b-4edf-bf22-98af3c58edb3",
    "deepnote_cell_type": "markdown",
    "deepnote_cell_height": 62
   }
  },
  {
   "cell_type": "code",
   "metadata": {
    "tags": [],
    "deepnote_to_be_reexecuted": false,
    "source_hash": "d223d1cf",
    "execution_start": 1659514969198,
    "execution_millis": 59,
    "cell_id": "00062-614fa3f3-13ba-402b-b3fa-f5b29dd0457c",
    "deepnote_cell_type": "code",
    "deepnote_cell_height": 257.1875,
    "deepnote_output_heights": [
     21.1875,
     21
    ]
   },
   "source": "from sklearn.metrics import accuracy_score\nfrom sklearn.metrics import f1_score\nfrom sklearn.linear_model import LogisticRegression\n\n\nmodel = LogisticRegression()\nmodel.fit(x_train, y_train)\n\nLogisticRegression()",
   "execution_count": 47,
   "outputs": [
    {
     "output_type": "execute_result",
     "execution_count": 47,
     "data": {
      "text/plain": "LogisticRegression()"
     },
     "metadata": {}
    }
   ]
  },
  {
   "cell_type": "code",
   "metadata": {
    "tags": [],
    "deepnote_to_be_reexecuted": false,
    "source_hash": "74535200",
    "execution_start": 1659514969261,
    "execution_millis": 22,
    "cell_id": "00063-39567929-3bd2-49cb-9fff-75f933687938",
    "deepnote_cell_type": "code",
    "deepnote_cell_height": 163
   },
   "source": "pred_cv = model.predict(x_cv)\nprint(f\"Accuracy Score : {accuracy_score(y_cv,pred_cv)}\")\nprint(f\"F1 Score: {f1_score(y_cv,pred_cv)}\")",
   "execution_count": 48,
   "outputs": [
    {
     "name": "stdout",
     "text": "Accuracy Score : 0.8540540540540541\nF1 Score: 0.9078498293515358\n",
     "output_type": "stream"
    }
   ]
  },
  {
   "cell_type": "code",
   "metadata": {
    "tags": [],
    "deepnote_to_be_reexecuted": false,
    "source_hash": "633fac80",
    "execution_start": 1659514969287,
    "execution_millis": 10,
    "cell_id": "00064-e5bb0842-26fa-4034-9374-b17b11b0fd73",
    "deepnote_cell_type": "code",
    "deepnote_cell_height": 112
   },
   "source": "from sklearn.metrics import confusion_matrix\nconfusion_matrix_lr = confusion_matrix(y_cv, pred_cv)\n",
   "execution_count": 49,
   "outputs": []
  },
  {
   "cell_type": "code",
   "metadata": {
    "tags": [],
    "deepnote_to_be_reexecuted": false,
    "source_hash": "448049fd",
    "execution_start": 1659514969306,
    "execution_millis": 1074,
    "cell_id": "00065-543df074-1274-489f-8ca4-fe273c94058f",
    "deepnote_cell_type": "code",
    "deepnote_cell_height": 485,
    "deepnote_output_heights": [
     280
    ]
   },
   "source": "ax= plt.subplot()\nsns.heatmap(confusion_matrix_lr, annot=True, fmt='g', ax=ax);  #annot=True to annotate cells, ftm='g' to disable scientific notation\n\n# labels, title and ticks\nax.set_xlabel('Predicted labels');ax.set_ylabel('True labels'); \nax.set_title('Confusion Matrix'); \nax.xaxis.set_ticklabels(['Y', 'N']); ax.yaxis.set_ticklabels(['Y', 'N']);",
   "execution_count": 50,
   "outputs": [
    {
     "data": {
      "text/plain": "<Figure size 432x288 with 2 Axes>",
      "image/png": "[encoded data removed]"
     },
     "metadata": {
      "needs_background": "light",
      "image/png": {
       "width": 366,
       "height": 278
      }
     },
     "output_type": "display_data"
    }
   ]
  },
  {
   "cell_type": "code",
   "source": "# pred_test = model.predict(data_test)\npred_test = model.predict(data_test_opt)\ndata_test_logistic_regression = data_test.copy()\ndata_test_logistic_regression['Loan_Status'] = pred_test\ndata_test_logistic_regression['Loan_Status'] = data_test_logistic_regression['Loan_Status'].replace({0: 'N', 1 : 'Y'})\ndata_test_logistic_regression.head() ",
   "metadata": {
    "tags": [],
    "deepnote_to_be_reexecuted": false,
    "source_hash": "4698e90e",
    "execution_start": 1659514969663,
    "execution_millis": 725,
    "cell_id": "00066-871ed81c-aa14-4e7c-98ca-47ab13f1b56a",
    "deepnote_cell_type": "code",
    "deepnote_cell_height": 501.796875
   },
   "execution_count": 51,
   "outputs": [
    {
     "output_type": "execute_result",
     "execution_count": 51,
     "data": {
      "application/vnd.deepnote.dataframe.v3+json": {
       "column_count": 21,
       "row_count": 5,
       "columns": [
        {
         "name": "Gender_Female",
         "dtype": "uint8",
         "stats": {
          "unique_count": 1,
          "nan_count": 0,
          "min": "0",
          "max": "0",
          "histogram": [
           {
            "bin_start": -0.5,
            "bin_end": -0.4,
            "count": 0
           },
           {
            "bin_start": -0.4,
            "bin_end": -0.3,
            "count": 0
           },
           {
            "bin_start": -0.3,
            "bin_end": -0.19999999999999996,
            "count": 0
           },
           {
            "bin_start": -0.19999999999999996,
            "bin_end": -0.09999999999999998,
            "count": 0
           },
           {
            "bin_start": -0.09999999999999998,
            "bin_end": 0,
            "count": 0
           },
           {
            "bin_start": 0,
            "bin_end": 0.10000000000000009,
            "count": 5
           },
           {
            "bin_start": 0.10000000000000009,
            "bin_end": 0.20000000000000007,
            "count": 0
           },
           {
            "bin_start": 0.20000000000000007,
            "bin_end": 0.30000000000000004,
            "count": 0
           },
           {
            "bin_start": 0.30000000000000004,
            "bin_end": 0.4,
            "count": 0
           },
           {
            "bin_start": 0.4,
            "bin_end": 0.5,
            "count": 0
           }
          ]
         }
        },
        {
         "name": "Gender_Male",
         "dtype": "uint8",
         "stats": {
          "unique_count": 1,
          "nan_count": 0,
          "min": "1",
          "max": "1",
          "histogram": [
           {
            "bin_start": 0.5,
            "bin_end": 0.6,
            "count": 0
           },
           {
            "bin_start": 0.6,
            "bin_end": 0.7,
            "count": 0
           },
           {
            "bin_start": 0.7,
            "bin_end": 0.8,
            "count": 0
           },
           {
            "bin_start": 0.8,
            "bin_end": 0.9,
            "count": 0
           },
           {
            "bin_start": 0.9,
            "bin_end": 1,
            "count": 0
           },
           {
            "bin_start": 1,
            "bin_end": 1.1,
            "count": 5
           },
           {
            "bin_start": 1.1,
            "bin_end": 1.2000000000000002,
            "count": 0
           },
           {
            "bin_start": 1.2000000000000002,
            "bin_end": 1.3,
            "count": 0
           },
           {
            "bin_start": 1.3,
            "bin_end": 1.4,
            "count": 0
           },
           {
            "bin_start": 1.4,
            "bin_end": 1.5,
            "count": 0
           }
          ]
         }
        },
        {
         "name": "Married_No",
         "dtype": "uint8",
         "stats": {
          "unique_count": 2,
          "nan_count": 0,
          "min": "0",
          "max": "1",
          "histogram": [
           {
            "bin_start": 0,
            "bin_end": 0.1,
            "count": 4
           },
           {
            "bin_start": 0.1,
            "bin_end": 0.2,
            "count": 0
           },
           {
            "bin_start": 0.2,
            "bin_end": 0.30000000000000004,
            "count": 0
           },
           {
            "bin_start": 0.30000000000000004,
            "bin_end": 0.4,
            "count": 0
           },
           {
            "bin_start": 0.4,
            "bin_end": 0.5,
            "count": 0
           },
           {
            "bin_start": 0.5,
            "bin_end": 0.6000000000000001,
            "count": 0
           },
           {
            "bin_start": 0.6000000000000001,
            "bin_end": 0.7000000000000001,
            "count": 0
           },
           {
            "bin_start": 0.7000000000000001,
            "bin_end": 0.8,
            "count": 0
           },
           {
            "bin_start": 0.8,
            "bin_end": 0.9,
            "count": 0
           },
           {
            "bin_start": 0.9,
            "bin_end": 1,
            "count": 1
           }
          ]
         }
        },
        {
         "name": "Married_Yes",
         "dtype": "uint8",
         "stats": {
          "unique_count": 2,
          "nan_count": 0,
          "min": "0",
          "max": "1",
          "histogram": [
           {
            "bin_start": 0,
            "bin_end": 0.1,
            "count": 1
           },
           {
            "bin_start": 0.1,
            "bin_end": 0.2,
            "count": 0
           },
           {
            "bin_start": 0.2,
            "bin_end": 0.30000000000000004,
            "count": 0
           },
           {
            "bin_start": 0.30000000000000004,
            "bin_end": 0.4,
            "count": 0
           },
           {
            "bin_start": 0.4,
            "bin_end": 0.5,
            "count": 0
           },
           {
            "bin_start": 0.5,
            "bin_end": 0.6000000000000001,
            "count": 0
           },
           {
            "bin_start": 0.6000000000000001,
            "bin_end": 0.7000000000000001,
            "count": 0
           },
           {
            "bin_start": 0.7000000000000001,
            "bin_end": 0.8,
            "count": 0
           },
           {
            "bin_start": 0.8,
            "bin_end": 0.9,
            "count": 0
           },
           {
            "bin_start": 0.9,
            "bin_end": 1,
            "count": 4
           }
          ]
         }
        },
        {
         "name": "Education_Graduate",
         "dtype": "uint8",
         "stats": {
          "unique_count": 2,
          "nan_count": 0,
          "min": "0",
          "max": "1",
          "histogram": [
           {
            "bin_start": 0,
            "bin_end": 0.1,
            "count": 1
           },
           {
            "bin_start": 0.1,
            "bin_end": 0.2,
            "count": 0
           },
           {
            "bin_start": 0.2,
            "bin_end": 0.30000000000000004,
            "count": 0
           },
           {
            "bin_start": 0.30000000000000004,
            "bin_end": 0.4,
            "count": 0
           },
           {
            "bin_start": 0.4,
            "bin_end": 0.5,
            "count": 0
           },
           {
            "bin_start": 0.5,
            "bin_end": 0.6000000000000001,
            "count": 0
           },
           {
            "bin_start": 0.6000000000000001,
            "bin_end": 0.7000000000000001,
            "count": 0
           },
           {
            "bin_start": 0.7000000000000001,
            "bin_end": 0.8,
            "count": 0
           },
           {
            "bin_start": 0.8,
            "bin_end": 0.9,
            "count": 0
           },
           {
            "bin_start": 0.9,
            "bin_end": 1,
            "count": 4
           }
          ]
         }
        },
        {
         "name": "Education_Not Graduate",
         "dtype": "uint8",
         "stats": {
          "unique_count": 2,
          "nan_count": 0,
          "min": "0",
          "max": "1",
          "histogram": [
           {
            "bin_start": 0,
            "bin_end": 0.1,
            "count": 4
           },
           {
            "bin_start": 0.1,
            "bin_end": 0.2,
            "count": 0
           },
           {
            "bin_start": 0.2,
            "bin_end": 0.30000000000000004,
            "count": 0
           },
           {
            "bin_start": 0.30000000000000004,
            "bin_end": 0.4,
            "count": 0
           },
           {
            "bin_start": 0.4,
            "bin_end": 0.5,
            "count": 0
           },
           {
            "bin_start": 0.5,
            "bin_end": 0.6000000000000001,
            "count": 0
           },
           {
            "bin_start": 0.6000000000000001,
            "bin_end": 0.7000000000000001,
            "count": 0
           },
           {
            "bin_start": 0.7000000000000001,
            "bin_end": 0.8,
            "count": 0
           },
           {
            "bin_start": 0.8,
            "bin_end": 0.9,
            "count": 0
           },
           {
            "bin_start": 0.9,
            "bin_end": 1,
            "count": 1
           }
          ]
         }
        },
        {
         "name": "Self_Employed_No",
         "dtype": "uint8",
         "stats": {
          "unique_count": 1,
          "nan_count": 0,
          "min": "1",
          "max": "1",
          "histogram": [
           {
            "bin_start": 0.5,
            "bin_end": 0.6,
            "count": 0
           },
           {
            "bin_start": 0.6,
            "bin_end": 0.7,
            "count": 0
           },
           {
            "bin_start": 0.7,
            "bin_end": 0.8,
            "count": 0
           },
           {
            "bin_start": 0.8,
            "bin_end": 0.9,
            "count": 0
           },
           {
            "bin_start": 0.9,
            "bin_end": 1,
            "count": 0
           },
           {
            "bin_start": 1,
            "bin_end": 1.1,
            "count": 5
           },
           {
            "bin_start": 1.1,
            "bin_end": 1.2000000000000002,
            "count": 0
           },
           {
            "bin_start": 1.2000000000000002,
            "bin_end": 1.3,
            "count": 0
           },
           {
            "bin_start": 1.3,
            "bin_end": 1.4,
            "count": 0
           },
           {
            "bin_start": 1.4,
            "bin_end": 1.5,
            "count": 0
           }
          ]
         }
        },
        {
         "name": "Self_Employed_Yes",
         "dtype": "uint8",
         "stats": {
          "unique_count": 1,
          "nan_count": 0,
          "min": "0",
          "max": "0",
          "histogram": [
           {
            "bin_start": -0.5,
            "bin_end": -0.4,
            "count": 0
           },
           {
            "bin_start": -0.4,
            "bin_end": -0.3,
            "count": 0
           },
           {
            "bin_start": -0.3,
            "bin_end": -0.19999999999999996,
            "count": 0
           },
           {
            "bin_start": -0.19999999999999996,
            "bin_end": -0.09999999999999998,
            "count": 0
           },
           {
            "bin_start": -0.09999999999999998,
            "bin_end": 0,
            "count": 0
           },
           {
            "bin_start": 0,
            "bin_end": 0.10000000000000009,
            "count": 5
           },
           {
            "bin_start": 0.10000000000000009,
            "bin_end": 0.20000000000000007,
            "count": 0
           },
           {
            "bin_start": 0.20000000000000007,
            "bin_end": 0.30000000000000004,
            "count": 0
           },
           {
            "bin_start": 0.30000000000000004,
            "bin_end": 0.4,
            "count": 0
           },
           {
            "bin_start": 0.4,
            "bin_end": 0.5,
            "count": 0
           }
          ]
         }
        },
        {
         "name": "Property_Area_Rural",
         "dtype": "uint8",
         "stats": {
          "unique_count": 1,
          "nan_count": 0,
          "min": "0",
          "max": "0",
          "histogram": [
           {
            "bin_start": -0.5,
            "bin_end": -0.4,
            "count": 0
           },
           {
            "bin_start": -0.4,
            "bin_end": -0.3,
            "count": 0
           },
           {
            "bin_start": -0.3,
            "bin_end": -0.19999999999999996,
            "count": 0
           },
           {
            "bin_start": -0.19999999999999996,
            "bin_end": -0.09999999999999998,
            "count": 0
           },
           {
            "bin_start": -0.09999999999999998,
            "bin_end": 0,
            "count": 0
           },
           {
            "bin_start": 0,
            "bin_end": 0.10000000000000009,
            "count": 5
           },
           {
            "bin_start": 0.10000000000000009,
            "bin_end": 0.20000000000000007,
            "count": 0
           },
           {
            "bin_start": 0.20000000000000007,
            "bin_end": 0.30000000000000004,
            "count": 0
           },
           {
            "bin_start": 0.30000000000000004,
            "bin_end": 0.4,
            "count": 0
           },
           {
            "bin_start": 0.4,
            "bin_end": 0.5,
            "count": 0
           }
          ]
         }
        },
        {
         "name": "Property_Area_Semiurban",
         "dtype": "uint8",
         "stats": {
          "unique_count": 1,
          "nan_count": 0,
          "min": "0",
          "max": "0",
          "histogram": [
           {
            "bin_start": -0.5,
            "bin_end": -0.4,
            "count": 0
           },
           {
            "bin_start": -0.4,
            "bin_end": -0.3,
            "count": 0
           },
           {
            "bin_start": -0.3,
            "bin_end": -0.19999999999999996,
            "count": 0
           },
           {
            "bin_start": -0.19999999999999996,
            "bin_end": -0.09999999999999998,
            "count": 0
           },
           {
            "bin_start": -0.09999999999999998,
            "bin_end": 0,
            "count": 0
           },
           {
            "bin_start": 0,
            "bin_end": 0.10000000000000009,
            "count": 5
           },
           {
            "bin_start": 0.10000000000000009,
            "bin_end": 0.20000000000000007,
            "count": 0
           },
           {
            "bin_start": 0.20000000000000007,
            "bin_end": 0.30000000000000004,
            "count": 0
           },
           {
            "bin_start": 0.30000000000000004,
            "bin_end": 0.4,
            "count": 0
           },
           {
            "bin_start": 0.4,
            "bin_end": 0.5,
            "count": 0
           }
          ]
         }
        },
        {
         "name": "Property_Area_Urban",
         "dtype": "uint8",
         "stats": {
          "unique_count": 1,
          "nan_count": 0,
          "min": "1",
          "max": "1",
          "histogram": [
           {
            "bin_start": 0.5,
            "bin_end": 0.6,
            "count": 0
           },
           {
            "bin_start": 0.6,
            "bin_end": 0.7,
            "count": 0
           },
           {
            "bin_start": 0.7,
            "bin_end": 0.8,
            "count": 0
           },
           {
            "bin_start": 0.8,
            "bin_end": 0.9,
            "count": 0
           },
           {
            "bin_start": 0.9,
            "bin_end": 1,
            "count": 0
           },
           {
            "bin_start": 1,
            "bin_end": 1.1,
            "count": 5
           },
           {
            "bin_start": 1.1,
            "bin_end": 1.2000000000000002,
            "count": 0
           },
           {
            "bin_start": 1.2000000000000002,
            "bin_end": 1.3,
            "count": 0
           },
           {
            "bin_start": 1.3,
            "bin_end": 1.4,
            "count": 0
           },
           {
            "bin_start": 1.4,
            "bin_end": 1.5,
            "count": 0
           }
          ]
         }
        },
        {
         "name": "Dependents_0",
         "dtype": "uint8",
         "stats": {
          "unique_count": 2,
          "nan_count": 0,
          "min": "0",
          "max": "1",
          "histogram": [
           {
            "bin_start": 0,
            "bin_end": 0.1,
            "count": 3
           },
           {
            "bin_start": 0.1,
            "bin_end": 0.2,
            "count": 0
           },
           {
            "bin_start": 0.2,
            "bin_end": 0.30000000000000004,
            "count": 0
           },
           {
            "bin_start": 0.30000000000000004,
            "bin_end": 0.4,
            "count": 0
           },
           {
            "bin_start": 0.4,
            "bin_end": 0.5,
            "count": 0
           },
           {
            "bin_start": 0.5,
            "bin_end": 0.6000000000000001,
            "count": 0
           },
           {
            "bin_start": 0.6000000000000001,
            "bin_end": 0.7000000000000001,
            "count": 0
           },
           {
            "bin_start": 0.7000000000000001,
            "bin_end": 0.8,
            "count": 0
           },
           {
            "bin_start": 0.8,
            "bin_end": 0.9,
            "count": 0
           },
           {
            "bin_start": 0.9,
            "bin_end": 1,
            "count": 2
           }
          ]
         }
        },
        {
         "name": "Dependents_1",
         "dtype": "uint8",
         "stats": {
          "unique_count": 2,
          "nan_count": 0,
          "min": "0",
          "max": "1",
          "histogram": [
           {
            "bin_start": 0,
            "bin_end": 0.1,
            "count": 4
           },
           {
            "bin_start": 0.1,
            "bin_end": 0.2,
            "count": 0
           },
           {
            "bin_start": 0.2,
            "bin_end": 0.30000000000000004,
            "count": 0
           },
           {
            "bin_start": 0.30000000000000004,
            "bin_end": 0.4,
            "count": 0
           },
           {
            "bin_start": 0.4,
            "bin_end": 0.5,
            "count": 0
           },
           {
            "bin_start": 0.5,
            "bin_end": 0.6000000000000001,
            "count": 0
           },
           {
            "bin_start": 0.6000000000000001,
            "bin_end": 0.7000000000000001,
            "count": 0
           },
           {
            "bin_start": 0.7000000000000001,
            "bin_end": 0.8,
            "count": 0
           },
           {
            "bin_start": 0.8,
            "bin_end": 0.9,
            "count": 0
           },
           {
            "bin_start": 0.9,
            "bin_end": 1,
            "count": 1
           }
          ]
         }
        },
        {
         "name": "Dependents_2",
         "dtype": "uint8",
         "stats": {
          "unique_count": 2,
          "nan_count": 0,
          "min": "0",
          "max": "1",
          "histogram": [
           {
            "bin_start": 0,
            "bin_end": 0.1,
            "count": 3
           },
           {
            "bin_start": 0.1,
            "bin_end": 0.2,
            "count": 0
           },
           {
            "bin_start": 0.2,
            "bin_end": 0.30000000000000004,
            "count": 0
           },
           {
            "bin_start": 0.30000000000000004,
            "bin_end": 0.4,
            "count": 0
           },
           {
            "bin_start": 0.4,
            "bin_end": 0.5,
            "count": 0
           },
           {
            "bin_start": 0.5,
            "bin_end": 0.6000000000000001,
            "count": 0
           },
           {
            "bin_start": 0.6000000000000001,
            "bin_end": 0.7000000000000001,
            "count": 0
           },
           {
            "bin_start": 0.7000000000000001,
            "bin_end": 0.8,
            "count": 0
           },
           {
            "bin_start": 0.8,
            "bin_end": 0.9,
            "count": 0
           },
           {
            "bin_start": 0.9,
            "bin_end": 1,
            "count": 2
           }
          ]
         }
        },
        {
         "name": "Dependents_3+",
         "dtype": "uint8",
         "stats": {
          "unique_count": 1,
          "nan_count": 0,
          "min": "0",
          "max": "0",
          "histogram": [
           {
            "bin_start": -0.5,
            "bin_end": -0.4,
            "count": 0
           },
           {
            "bin_start": -0.4,
            "bin_end": -0.3,
            "count": 0
           },
           {
            "bin_start": -0.3,
            "bin_end": -0.19999999999999996,
            "count": 0
           },
           {
            "bin_start": -0.19999999999999996,
            "bin_end": -0.09999999999999998,
            "count": 0
           },
           {
            "bin_start": -0.09999999999999998,
            "bin_end": 0,
            "count": 0
           },
           {
            "bin_start": 0,
            "bin_end": 0.10000000000000009,
            "count": 5
           },
           {
            "bin_start": 0.10000000000000009,
            "bin_end": 0.20000000000000007,
            "count": 0
           },
           {
            "bin_start": 0.20000000000000007,
            "bin_end": 0.30000000000000004,
            "count": 0
           },
           {
            "bin_start": 0.30000000000000004,
            "bin_end": 0.4,
            "count": 0
           },
           {
            "bin_start": 0.4,
            "bin_end": 0.5,
            "count": 0
           }
          ]
         }
        },
        {
         "name": "ApplicantIncome",
         "dtype": "int64",
         "stats": {
          "unique_count": 5,
          "nan_count": 0,
          "min": "2340",
          "max": "5720",
          "histogram": [
           {
            "bin_start": 2340,
            "bin_end": 2678,
            "count": 1
           },
           {
            "bin_start": 2678,
            "bin_end": 3016,
            "count": 0
           },
           {
            "bin_start": 3016,
            "bin_end": 3354,
            "count": 2
           },
           {
            "bin_start": 3354,
            "bin_end": 3692,
            "count": 0
           },
           {
            "bin_start": 3692,
            "bin_end": 4030,
            "count": 0
           },
           {
            "bin_start": 4030,
            "bin_end": 4368,
            "count": 0
           },
           {
            "bin_start": 4368,
            "bin_end": 4706,
            "count": 0
           },
           {
            "bin_start": 4706,
            "bin_end": 5044,
            "count": 1
           },
           {
            "bin_start": 5044,
            "bin_end": 5382,
            "count": 0
           },
           {
            "bin_start": 5382,
            "bin_end": 5720,
            "count": 1
           }
          ]
         }
        },
        {
         "name": "CoapplicantIncome",
         "dtype": "int64",
         "stats": {
          "unique_count": 4,
          "nan_count": 0,
          "min": "0",
          "max": "2546",
          "histogram": [
           {
            "bin_start": 0,
            "bin_end": 254.6,
            "count": 2
           },
           {
            "bin_start": 254.6,
            "bin_end": 509.2,
            "count": 0
           },
           {
            "bin_start": 509.2,
            "bin_end": 763.8,
            "count": 0
           },
           {
            "bin_start": 763.8,
            "bin_end": 1018.4,
            "count": 0
           },
           {
            "bin_start": 1018.4,
            "bin_end": 1273,
            "count": 0
           },
           {
            "bin_start": 1273,
            "bin_end": 1527.6,
            "count": 1
           },
           {
            "bin_start": 1527.6,
            "bin_end": 1782.2,
            "count": 0
           },
           {
            "bin_start": 1782.2,
            "bin_end": 2036.8,
            "count": 1
           },
           {
            "bin_start": 2036.8,
            "bin_end": 2291.4,
            "count": 0
           },
           {
            "bin_start": 2291.4,
            "bin_end": 2546,
            "count": 1
           }
          ]
         }
        },
        {
         "name": "LoanAmount",
         "dtype": "float64",
         "stats": {
          "unique_count": 5,
          "nan_count": 0,
          "min": "78.0",
          "max": "208.0",
          "histogram": [
           {
            "bin_start": 78,
            "bin_end": 91,
            "count": 1
           },
           {
            "bin_start": 91,
            "bin_end": 104,
            "count": 1
           },
           {
            "bin_start": 104,
            "bin_end": 117,
            "count": 1
           },
           {
            "bin_start": 117,
            "bin_end": 130,
            "count": 1
           },
           {
            "bin_start": 130,
            "bin_end": 143,
            "count": 0
           },
           {
            "bin_start": 143,
            "bin_end": 156,
            "count": 0
           },
           {
            "bin_start": 156,
            "bin_end": 169,
            "count": 0
           },
           {
            "bin_start": 169,
            "bin_end": 182,
            "count": 0
           },
           {
            "bin_start": 182,
            "bin_end": 195,
            "count": 0
           },
           {
            "bin_start": 195,
            "bin_end": 208,
            "count": 1
           }
          ]
         }
        },
        {
         "name": "Loan_Amount_Term",
         "dtype": "float64",
         "stats": {
          "unique_count": 1,
          "nan_count": 0,
          "min": "360.0",
          "max": "360.0",
          "histogram": [
           {
            "bin_start": 359.5,
            "bin_end": 359.6,
            "count": 0
           },
           {
            "bin_start": 359.6,
            "bin_end": 359.7,
            "count": 0
           },
           {
            "bin_start": 359.7,
            "bin_end": 359.8,
            "count": 0
           },
           {
            "bin_start": 359.8,
            "bin_end": 359.9,
            "count": 0
           },
           {
            "bin_start": 359.9,
            "bin_end": 360,
            "count": 0
           },
           {
            "bin_start": 360,
            "bin_end": 360.1,
            "count": 5
           },
           {
            "bin_start": 360.1,
            "bin_end": 360.2,
            "count": 0
           },
           {
            "bin_start": 360.2,
            "bin_end": 360.3,
            "count": 0
           },
           {
            "bin_start": 360.3,
            "bin_end": 360.4,
            "count": 0
           },
           {
            "bin_start": 360.4,
            "bin_end": 360.5,
            "count": 0
           }
          ]
         }
        },
        {
         "name": "Credit_History",
         "dtype": "float64",
         "stats": {
          "unique_count": 1,
          "nan_count": 0,
          "min": "1.0",
          "max": "1.0",
          "histogram": [
           {
            "bin_start": 0.5,
            "bin_end": 0.6,
            "count": 0
           },
           {
            "bin_start": 0.6,
            "bin_end": 0.7,
            "count": 0
           },
           {
            "bin_start": 0.7,
            "bin_end": 0.8,
            "count": 0
           },
           {
            "bin_start": 0.8,
            "bin_end": 0.9,
            "count": 0
           },
           {
            "bin_start": 0.9,
            "bin_end": 1,
            "count": 0
           },
           {
            "bin_start": 1,
            "bin_end": 1.1,
            "count": 5
           },
           {
            "bin_start": 1.1,
            "bin_end": 1.2000000000000002,
            "count": 0
           },
           {
            "bin_start": 1.2000000000000002,
            "bin_end": 1.3,
            "count": 0
           },
           {
            "bin_start": 1.3,
            "bin_end": 1.4,
            "count": 0
           },
           {
            "bin_start": 1.4,
            "bin_end": 1.5,
            "count": 0
           }
          ]
         }
        },
        {
         "name": "Loan_Status",
         "dtype": "object",
         "stats": {
          "unique_count": 1,
          "nan_count": 0,
          "categories": [
           {
            "name": "Y",
            "count": 5
           }
          ]
         }
        },
        {
         "name": "_deepnote_index_column",
         "dtype": "int64"
        }
       ],
       "rows": [
        {
         "Gender_Female": 0,
         "Gender_Male": 1,
         "Married_No": 0,
         "Married_Yes": 1,
         "Education_Graduate": 1,
         "Education_Not Graduate": 0,
         "Self_Employed_No": 1,
         "Self_Employed_Yes": 0,
         "Property_Area_Rural": 0,
         "Property_Area_Semiurban": 0,
         "Property_Area_Urban": 1,
         "Dependents_0": 1,
         "Dependents_1": 0,
         "Dependents_2": 0,
         "Dependents_3+": 0,
         "ApplicantIncome": 5720,
         "CoapplicantIncome": 0,
         "LoanAmount": 110,
         "Loan_Amount_Term": 360,
         "Credit_History": 1,
         "Loan_Status": "Y",
         "_deepnote_index_column": 0
        },
        {
         "Gender_Female": 0,
         "Gender_Male": 1,
         "Married_No": 0,
         "Married_Yes": 1,
         "Education_Graduate": 1,
         "Education_Not Graduate": 0,
         "Self_Employed_No": 1,
         "Self_Employed_Yes": 0,
         "Property_Area_Rural": 0,
         "Property_Area_Semiurban": 0,
         "Property_Area_Urban": 1,
         "Dependents_0": 0,
         "Dependents_1": 1,
         "Dependents_2": 0,
         "Dependents_3+": 0,
         "ApplicantIncome": 3076,
         "CoapplicantIncome": 1500,
         "LoanAmount": 126,
         "Loan_Amount_Term": 360,
         "Credit_History": 1,
         "Loan_Status": "Y",
         "_deepnote_index_column": 1
        },
        {
         "Gender_Female": 0,
         "Gender_Male": 1,
         "Married_No": 0,
         "Married_Yes": 1,
         "Education_Graduate": 1,
         "Education_Not Graduate": 0,
         "Self_Employed_No": 1,
         "Self_Employed_Yes": 0,
         "Property_Area_Rural": 0,
         "Property_Area_Semiurban": 0,
         "Property_Area_Urban": 1,
         "Dependents_0": 0,
         "Dependents_1": 0,
         "Dependents_2": 1,
         "Dependents_3+": 0,
         "ApplicantIncome": 5000,
         "CoapplicantIncome": 1800,
         "LoanAmount": 208,
         "Loan_Amount_Term": 360,
         "Credit_History": 1,
         "Loan_Status": "Y",
         "_deepnote_index_column": 2
        },
        {
         "Gender_Female": 0,
         "Gender_Male": 1,
         "Married_No": 0,
         "Married_Yes": 1,
         "Education_Graduate": 1,
         "Education_Not Graduate": 0,
         "Self_Employed_No": 1,
         "Self_Employed_Yes": 0,
         "Property_Area_Rural": 0,
         "Property_Area_Semiurban": 0,
         "Property_Area_Urban": 1,
         "Dependents_0": 0,
         "Dependents_1": 0,
         "Dependents_2": 1,
         "Dependents_3+": 0,
         "ApplicantIncome": 2340,
         "CoapplicantIncome": 2546,
         "LoanAmount": 100,
         "Loan_Amount_Term": 360,
         "Credit_History": 1,
         "Loan_Status": "Y",
         "_deepnote_index_column": 3
        },
        {
         "Gender_Female": 0,
         "Gender_Male": 1,
         "Married_No": 1,
         "Married_Yes": 0,
         "Education_Graduate": 0,
         "Education_Not Graduate": 1,
         "Self_Employed_No": 1,
         "Self_Employed_Yes": 0,
         "Property_Area_Rural": 0,
         "Property_Area_Semiurban": 0,
         "Property_Area_Urban": 1,
         "Dependents_0": 1,
         "Dependents_1": 0,
         "Dependents_2": 0,
         "Dependents_3+": 0,
         "ApplicantIncome": 3276,
         "CoapplicantIncome": 0,
         "LoanAmount": 78,
         "Loan_Amount_Term": 360,
         "Credit_History": 1,
         "Loan_Status": "Y",
         "_deepnote_index_column": 4
        }
       ]
      },
      "text/plain": "   Gender_Female  Gender_Male  Married_No  Married_Yes  Education_Graduate  \\\n0              0            1           0            1                   1   \n1              0            1           0            1                   1   \n2              0            1           0            1                   1   \n3              0            1           0            1                   1   \n4              0            1           1            0                   0   \n\n   Education_Not Graduate  Self_Employed_No  Self_Employed_Yes  \\\n0                       0                 1                  0   \n1                       0                 1                  0   \n2                       0                 1                  0   \n3                       0                 1                  0   \n4                       1                 1                  0   \n\n   Property_Area_Rural  Property_Area_Semiurban  ...  Dependents_0  \\\n0                    0                        0  ...             1   \n1                    0                        0  ...             0   \n2                    0                        0  ...             0   \n3                    0                        0  ...             0   \n4                    0                        0  ...             1   \n\n   Dependents_1  Dependents_2  Dependents_3+  ApplicantIncome  \\\n0             0             0              0             5720   \n1             1             0              0             3076   \n2             0             1              0             5000   \n3             0             1              0             2340   \n4             0             0              0             3276   \n\n   CoapplicantIncome  LoanAmount  Loan_Amount_Term  Credit_History  \\\n0                  0       110.0             360.0             1.0   \n1               1500       126.0             360.0             1.0   \n2               1800       208.0             360.0             1.0   \n3               2546       100.0             360.0             1.0   \n4                  0        78.0             360.0             1.0   \n\n   Loan_Status  \n0            Y  \n1            Y  \n2            Y  \n3            Y  \n4            Y  \n\n[5 rows x 21 columns]",
      "text/html": "<div>\n<style scoped>\n    .dataframe tbody tr th:only-of-type {\n        vertical-align: middle;\n    }\n\n    .dataframe tbody tr th {\n        vertical-align: top;\n    }\n\n    .dataframe thead th {\n        text-align: right;\n    }\n</style>\n<table border=\"1\" class=\"dataframe\">\n  <thead>\n    <tr style=\"text-align: right;\">\n      <th></th>\n      <th>Gender_Female</th>\n      <th>Gender_Male</th>\n      <th>Married_No</th>\n      <th>Married_Yes</th>\n      <th>Education_Graduate</th>\n      <th>Education_Not Graduate</th>\n      <th>Self_Employed_No</th>\n      <th>Self_Employed_Yes</th>\n      <th>Property_Area_Rural</th>\n      <th>Property_Area_Semiurban</th>\n      <th>...</th>\n      <th>Dependents_0</th>\n      <th>Dependents_1</th>\n      <th>Dependents_2</th>\n      <th>Dependents_3+</th>\n      <th>ApplicantIncome</th>\n      <th>CoapplicantIncome</th>\n      <th>LoanAmount</th>\n      <th>Loan_Amount_Term</th>\n      <th>Credit_History</th>\n      <th>Loan_Status</th>\n    </tr>\n  </thead>\n  <tbody>\n    <tr>\n      <th>0</th>\n      <td>0</td>\n      <td>1</td>\n      <td>0</td>\n      <td>1</td>\n      <td>1</td>\n      <td>0</td>\n      <td>1</td>\n      <td>0</td>\n      <td>0</td>\n      <td>0</td>\n      <td>...</td>\n      <td>1</td>\n      <td>0</td>\n      <td>0</td>\n      <td>0</td>\n      <td>5720</td>\n      <td>0</td>\n      <td>110.0</td>\n      <td>360.0</td>\n      <td>1.0</td>\n      <td>Y</td>\n    </tr>\n    <tr>\n      <th>1</th>\n      <td>0</td>\n      <td>1</td>\n      <td>0</td>\n      <td>1</td>\n      <td>1</td>\n      <td>0</td>\n      <td>1</td>\n      <td>0</td>\n      <td>0</td>\n      <td>0</td>\n      <td>...</td>\n      <td>0</td>\n      <td>1</td>\n      <td>0</td>\n      <td>0</td>\n      <td>3076</td>\n      <td>1500</td>\n      <td>126.0</td>\n      <td>360.0</td>\n      <td>1.0</td>\n      <td>Y</td>\n    </tr>\n    <tr>\n      <th>2</th>\n      <td>0</td>\n      <td>1</td>\n      <td>0</td>\n      <td>1</td>\n      <td>1</td>\n      <td>0</td>\n      <td>1</td>\n      <td>0</td>\n      <td>0</td>\n      <td>0</td>\n      <td>...</td>\n      <td>0</td>\n      <td>0</td>\n      <td>1</td>\n      <td>0</td>\n      <td>5000</td>\n      <td>1800</td>\n      <td>208.0</td>\n      <td>360.0</td>\n      <td>1.0</td>\n      <td>Y</td>\n    </tr>\n    <tr>\n      <th>3</th>\n      <td>0</td>\n      <td>1</td>\n      <td>0</td>\n      <td>1</td>\n      <td>1</td>\n      <td>0</td>\n      <td>1</td>\n      <td>0</td>\n      <td>0</td>\n      <td>0</td>\n      <td>...</td>\n      <td>0</td>\n      <td>0</td>\n      <td>1</td>\n      <td>0</td>\n      <td>2340</td>\n      <td>2546</td>\n      <td>100.0</td>\n      <td>360.0</td>\n      <td>1.0</td>\n      <td>Y</td>\n    </tr>\n    <tr>\n      <th>4</th>\n      <td>0</td>\n      <td>1</td>\n      <td>1</td>\n      <td>0</td>\n      <td>0</td>\n      <td>1</td>\n      <td>1</td>\n      <td>0</td>\n      <td>0</td>\n      <td>0</td>\n      <td>...</td>\n      <td>1</td>\n      <td>0</td>\n      <td>0</td>\n      <td>0</td>\n      <td>3276</td>\n      <td>0</td>\n      <td>78.0</td>\n      <td>360.0</td>\n      <td>1.0</td>\n      <td>Y</td>\n    </tr>\n  </tbody>\n</table>\n<p>5 rows × 21 columns</p>\n</div>"
     },
     "metadata": {}
    }
   ]
  },
  {
   "cell_type": "code",
   "metadata": {
    "tags": [],
    "deepnote_to_be_reexecuted": false,
    "source_hash": "bb777649",
    "execution_start": 1659514969797,
    "execution_millis": 250941,
    "cell_id": "00067-c0be42d7-f33c-471c-9ce7-ec8baeb9ef5a",
    "deepnote_cell_type": "code",
    "deepnote_cell_height": 490
   },
   "source": "# i=1\n# mean = 0\n# kf = StratifiedKFold(n_splits=5,random_state=1,shuffle=True)\n# for train_index,test_index in kf.split(X,y):\n#  print (‘\\n{} of kfold {} ‘.format(i,kf.n_splits))\n#  xtr,xvl = X.loc[train_index],X.loc[test_index]\n#  ytr,yvl = y[train_index],y[test_index]\n#  model = LogisticRegression(random_state=1)\n#  model.fit(xtr,ytr)\n#  pred_test=model.predict(xvl)\n#  score=accuracy_score(yvl,pred_test)\n#  mean += score\n#  print (‘accuracy_score’,score)\n#  i+=1\n#  pred_test = model.predict(test)\n#  pred = model.predict_proba(xvl)[:,1]\n \n# print (‘\\n Mean Validation Accuracy’,mean/(i-1))\n\n# submission['Loan_Status']=pred_test\n# submission['Loan_ID']=test_original['Loan_ID']\n# submission['Loan_Status'].replace(0, 'N', inplace=True)\n# submission['Loan_Status'].replace(1, 'Y', inplace=True)\n# pd.DataFrame(submission, columns=['Loan_ID','Loan_Status']).to_csv('Output/Log2.csv')",
   "execution_count": 52,
   "outputs": []
  },
  {
   "cell_type": "markdown",
   "source": "### Random Forest Classifier",
   "metadata": {
    "formattedRanges": [],
    "is_collapsed": false,
    "tags": [],
    "cell_id": "00068-17776ac7-a601-4a57-9228-52e2b5537aad",
    "deepnote_cell_type": "text-cell-h3"
   }
  },
  {
   "cell_type": "code",
   "metadata": {
    "tags": [],
    "deepnote_to_be_reexecuted": false,
    "source_hash": "39ef4b5b",
    "execution_start": 1659515134606,
    "execution_millis": 1,
    "cell_id": "00069-afd8cc26-1239-4dad-93ed-f75fca78776b",
    "deepnote_cell_type": "code",
    "deepnote_cell_height": 76
   },
   "source": "from sklearn.ensemble import RandomForestClassifier",
   "execution_count": 86,
   "outputs": []
  },
  {
   "cell_type": "code",
   "metadata": {
    "tags": [],
    "deepnote_to_be_reexecuted": false,
    "source_hash": "a898abd3",
    "execution_start": 1659515136969,
    "execution_millis": 362,
    "cell_id": "00070-3517face-7704-4ba3-814e-b3f462dcde8c",
    "deepnote_cell_type": "code",
    "deepnote_cell_height": 149.1875,
    "deepnote_output_heights": [
     21.1875
    ]
   },
   "source": "# Instantiate and fit the RandomForestClassifier\nforest = RandomForestClassifier()\nforest.fit(x_train, y_train)",
   "execution_count": 87,
   "outputs": [
    {
     "output_type": "execute_result",
     "execution_count": 87,
     "data": {
      "text/plain": "RandomForestClassifier()"
     },
     "metadata": {}
    }
   ]
  },
  {
   "cell_type": "code",
   "source": "# Make predictions for the test set\npred_rfc = forest.predict(x_cv)\nprint(f\"Accuracy Score : {accuracy_score(y_cv,pred_rfc)}\")\nprint(f\"F1 Score: {f1_score(y_cv,pred_rfc)}\")",
   "metadata": {
    "tags": [],
    "deepnote_to_be_reexecuted": false,
    "source_hash": "2da92890",
    "execution_start": 1659515162130,
    "execution_millis": 77,
    "cell_id": "00071-b3ea62f2-e481-439f-8ed5-887f1ce3efd1",
    "deepnote_cell_type": "code",
    "deepnote_cell_height": 181
   },
   "execution_count": 89,
   "outputs": [
    {
     "name": "stdout",
     "text": "Accuracy Score : 0.8540540540540541\nF1 Score: 0.9078498293515358\n",
     "output_type": "stream"
    }
   ]
  },
  {
   "cell_type": "code",
   "metadata": {
    "tags": [],
    "deepnote_to_be_reexecuted": false,
    "source_hash": "6037b838",
    "execution_start": 1659514970086,
    "execution_millis": 320,
    "cell_id": "00072-31e190da-973e-4393-82a9-190bd4147925",
    "deepnote_cell_type": "code",
    "deepnote_cell_height": 539,
    "deepnote_output_heights": [
     280
    ]
   },
   "source": "confusion_matrix_rf = confusion_matrix(y_cv, pred_rf)\n\nax= plt.subplot()\nsns.heatmap(confusion_matrix_rf, annot=True, fmt='g', ax=ax);  #annot=True to annotate cells, ftm='g' to disable scientific notation\n\n# labels, title and ticks\nax.set_xlabel('Predicted labels');ax.set_ylabel('True labels'); \nax.set_title('Confusion Matrix'); \nax.xaxis.set_ticklabels(['Y', 'N']); ax.yaxis.set_ticklabels(['Y', 'N']);\n",
   "execution_count": 56,
   "outputs": [
    {
     "data": {
      "text/plain": "<Figure size 432x288 with 2 Axes>",
      "image/png": "[encoded data removed]"
     },
     "metadata": {
      "needs_background": "light",
      "image/png": {
       "width": 366,
       "height": 278
      }
     },
     "output_type": "display_data"
    }
   ]
  },
  {
   "cell_type": "code",
   "source": "# pred_test_rf = forest.predict(data_test)\npred_test_rf = model.predict(data_test_opt)\ndata_test_random_forest = data_test.copy()\ndata_test_random_forest['Loan_Status'] = pred_test_rf\ndata_test_random_forest['Loan_Status'] = data_test_random_forest['Loan_Status'].replace({0: 'N', 1 : 'Y'})\ndata_test_random_forest.head() ",
   "metadata": {
    "tags": [],
    "deepnote_to_be_reexecuted": false,
    "source_hash": "6228e01a",
    "execution_start": 1659514970316,
    "execution_millis": 118,
    "cell_id": "00073-5b151fb6-5046-4923-9fc7-3dcd7f47a15b",
    "deepnote_cell_type": "code",
    "deepnote_cell_height": 501.796875
   },
   "execution_count": 57,
   "outputs": [
    {
     "output_type": "execute_result",
     "execution_count": 57,
     "data": {
      "application/vnd.deepnote.dataframe.v3+json": {
       "column_count": 21,
       "row_count": 5,
       "columns": [
        {
         "name": "Gender_Female",
         "dtype": "uint8",
         "stats": {
          "unique_count": 1,
          "nan_count": 0,
          "min": "0",
          "max": "0",
          "histogram": [
           {
            "bin_start": -0.5,
            "bin_end": -0.4,
            "count": 0
           },
           {
            "bin_start": -0.4,
            "bin_end": -0.3,
            "count": 0
           },
           {
            "bin_start": -0.3,
            "bin_end": -0.19999999999999996,
            "count": 0
           },
           {
            "bin_start": -0.19999999999999996,
            "bin_end": -0.09999999999999998,
            "count": 0
           },
           {
            "bin_start": -0.09999999999999998,
            "bin_end": 0,
            "count": 0
           },
           {
            "bin_start": 0,
            "bin_end": 0.10000000000000009,
            "count": 5
           },
           {
            "bin_start": 0.10000000000000009,
            "bin_end": 0.20000000000000007,
            "count": 0
           },
           {
            "bin_start": 0.20000000000000007,
            "bin_end": 0.30000000000000004,
            "count": 0
           },
           {
            "bin_start": 0.30000000000000004,
            "bin_end": 0.4,
            "count": 0
           },
           {
            "bin_start": 0.4,
            "bin_end": 0.5,
            "count": 0
           }
          ]
         }
        },
        {
         "name": "Gender_Male",
         "dtype": "uint8",
         "stats": {
          "unique_count": 1,
          "nan_count": 0,
          "min": "1",
          "max": "1",
          "histogram": [
           {
            "bin_start": 0.5,
            "bin_end": 0.6,
            "count": 0
           },
           {
            "bin_start": 0.6,
            "bin_end": 0.7,
            "count": 0
           },
           {
            "bin_start": 0.7,
            "bin_end": 0.8,
            "count": 0
           },
           {
            "bin_start": 0.8,
            "bin_end": 0.9,
            "count": 0
           },
           {
            "bin_start": 0.9,
            "bin_end": 1,
            "count": 0
           },
           {
            "bin_start": 1,
            "bin_end": 1.1,
            "count": 5
           },
           {
            "bin_start": 1.1,
            "bin_end": 1.2000000000000002,
            "count": 0
           },
           {
            "bin_start": 1.2000000000000002,
            "bin_end": 1.3,
            "count": 0
           },
           {
            "bin_start": 1.3,
            "bin_end": 1.4,
            "count": 0
           },
           {
            "bin_start": 1.4,
            "bin_end": 1.5,
            "count": 0
           }
          ]
         }
        },
        {
         "name": "Married_No",
         "dtype": "uint8",
         "stats": {
          "unique_count": 2,
          "nan_count": 0,
          "min": "0",
          "max": "1",
          "histogram": [
           {
            "bin_start": 0,
            "bin_end": 0.1,
            "count": 4
           },
           {
            "bin_start": 0.1,
            "bin_end": 0.2,
            "count": 0
           },
           {
            "bin_start": 0.2,
            "bin_end": 0.30000000000000004,
            "count": 0
           },
           {
            "bin_start": 0.30000000000000004,
            "bin_end": 0.4,
            "count": 0
           },
           {
            "bin_start": 0.4,
            "bin_end": 0.5,
            "count": 0
           },
           {
            "bin_start": 0.5,
            "bin_end": 0.6000000000000001,
            "count": 0
           },
           {
            "bin_start": 0.6000000000000001,
            "bin_end": 0.7000000000000001,
            "count": 0
           },
           {
            "bin_start": 0.7000000000000001,
            "bin_end": 0.8,
            "count": 0
           },
           {
            "bin_start": 0.8,
            "bin_end": 0.9,
            "count": 0
           },
           {
            "bin_start": 0.9,
            "bin_end": 1,
            "count": 1
           }
          ]
         }
        },
        {
         "name": "Married_Yes",
         "dtype": "uint8",
         "stats": {
          "unique_count": 2,
          "nan_count": 0,
          "min": "0",
          "max": "1",
          "histogram": [
           {
            "bin_start": 0,
            "bin_end": 0.1,
            "count": 1
           },
           {
            "bin_start": 0.1,
            "bin_end": 0.2,
            "count": 0
           },
           {
            "bin_start": 0.2,
            "bin_end": 0.30000000000000004,
            "count": 0
           },
           {
            "bin_start": 0.30000000000000004,
            "bin_end": 0.4,
            "count": 0
           },
           {
            "bin_start": 0.4,
            "bin_end": 0.5,
            "count": 0
           },
           {
            "bin_start": 0.5,
            "bin_end": 0.6000000000000001,
            "count": 0
           },
           {
            "bin_start": 0.6000000000000001,
            "bin_end": 0.7000000000000001,
            "count": 0
           },
           {
            "bin_start": 0.7000000000000001,
            "bin_end": 0.8,
            "count": 0
           },
           {
            "bin_start": 0.8,
            "bin_end": 0.9,
            "count": 0
           },
           {
            "bin_start": 0.9,
            "bin_end": 1,
            "count": 4
           }
          ]
         }
        },
        {
         "name": "Education_Graduate",
         "dtype": "uint8",
         "stats": {
          "unique_count": 2,
          "nan_count": 0,
          "min": "0",
          "max": "1",
          "histogram": [
           {
            "bin_start": 0,
            "bin_end": 0.1,
            "count": 1
           },
           {
            "bin_start": 0.1,
            "bin_end": 0.2,
            "count": 0
           },
           {
            "bin_start": 0.2,
            "bin_end": 0.30000000000000004,
            "count": 0
           },
           {
            "bin_start": 0.30000000000000004,
            "bin_end": 0.4,
            "count": 0
           },
           {
            "bin_start": 0.4,
            "bin_end": 0.5,
            "count": 0
           },
           {
            "bin_start": 0.5,
            "bin_end": 0.6000000000000001,
            "count": 0
           },
           {
            "bin_start": 0.6000000000000001,
            "bin_end": 0.7000000000000001,
            "count": 0
           },
           {
            "bin_start": 0.7000000000000001,
            "bin_end": 0.8,
            "count": 0
           },
           {
            "bin_start": 0.8,
            "bin_end": 0.9,
            "count": 0
           },
           {
            "bin_start": 0.9,
            "bin_end": 1,
            "count": 4
           }
          ]
         }
        },
        {
         "name": "Education_Not Graduate",
         "dtype": "uint8",
         "stats": {
          "unique_count": 2,
          "nan_count": 0,
          "min": "0",
          "max": "1",
          "histogram": [
           {
            "bin_start": 0,
            "bin_end": 0.1,
            "count": 4
           },
           {
            "bin_start": 0.1,
            "bin_end": 0.2,
            "count": 0
           },
           {
            "bin_start": 0.2,
            "bin_end": 0.30000000000000004,
            "count": 0
           },
           {
            "bin_start": 0.30000000000000004,
            "bin_end": 0.4,
            "count": 0
           },
           {
            "bin_start": 0.4,
            "bin_end": 0.5,
            "count": 0
           },
           {
            "bin_start": 0.5,
            "bin_end": 0.6000000000000001,
            "count": 0
           },
           {
            "bin_start": 0.6000000000000001,
            "bin_end": 0.7000000000000001,
            "count": 0
           },
           {
            "bin_start": 0.7000000000000001,
            "bin_end": 0.8,
            "count": 0
           },
           {
            "bin_start": 0.8,
            "bin_end": 0.9,
            "count": 0
           },
           {
            "bin_start": 0.9,
            "bin_end": 1,
            "count": 1
           }
          ]
         }
        },
        {
         "name": "Self_Employed_No",
         "dtype": "uint8",
         "stats": {
          "unique_count": 1,
          "nan_count": 0,
          "min": "1",
          "max": "1",
          "histogram": [
           {
            "bin_start": 0.5,
            "bin_end": 0.6,
            "count": 0
           },
           {
            "bin_start": 0.6,
            "bin_end": 0.7,
            "count": 0
           },
           {
            "bin_start": 0.7,
            "bin_end": 0.8,
            "count": 0
           },
           {
            "bin_start": 0.8,
            "bin_end": 0.9,
            "count": 0
           },
           {
            "bin_start": 0.9,
            "bin_end": 1,
            "count": 0
           },
           {
            "bin_start": 1,
            "bin_end": 1.1,
            "count": 5
           },
           {
            "bin_start": 1.1,
            "bin_end": 1.2000000000000002,
            "count": 0
           },
           {
            "bin_start": 1.2000000000000002,
            "bin_end": 1.3,
            "count": 0
           },
           {
            "bin_start": 1.3,
            "bin_end": 1.4,
            "count": 0
           },
           {
            "bin_start": 1.4,
            "bin_end": 1.5,
            "count": 0
           }
          ]
         }
        },
        {
         "name": "Self_Employed_Yes",
         "dtype": "uint8",
         "stats": {
          "unique_count": 1,
          "nan_count": 0,
          "min": "0",
          "max": "0",
          "histogram": [
           {
            "bin_start": -0.5,
            "bin_end": -0.4,
            "count": 0
           },
           {
            "bin_start": -0.4,
            "bin_end": -0.3,
            "count": 0
           },
           {
            "bin_start": -0.3,
            "bin_end": -0.19999999999999996,
            "count": 0
           },
           {
            "bin_start": -0.19999999999999996,
            "bin_end": -0.09999999999999998,
            "count": 0
           },
           {
            "bin_start": -0.09999999999999998,
            "bin_end": 0,
            "count": 0
           },
           {
            "bin_start": 0,
            "bin_end": 0.10000000000000009,
            "count": 5
           },
           {
            "bin_start": 0.10000000000000009,
            "bin_end": 0.20000000000000007,
            "count": 0
           },
           {
            "bin_start": 0.20000000000000007,
            "bin_end": 0.30000000000000004,
            "count": 0
           },
           {
            "bin_start": 0.30000000000000004,
            "bin_end": 0.4,
            "count": 0
           },
           {
            "bin_start": 0.4,
            "bin_end": 0.5,
            "count": 0
           }
          ]
         }
        },
        {
         "name": "Property_Area_Rural",
         "dtype": "uint8",
         "stats": {
          "unique_count": 1,
          "nan_count": 0,
          "min": "0",
          "max": "0",
          "histogram": [
           {
            "bin_start": -0.5,
            "bin_end": -0.4,
            "count": 0
           },
           {
            "bin_start": -0.4,
            "bin_end": -0.3,
            "count": 0
           },
           {
            "bin_start": -0.3,
            "bin_end": -0.19999999999999996,
            "count": 0
           },
           {
            "bin_start": -0.19999999999999996,
            "bin_end": -0.09999999999999998,
            "count": 0
           },
           {
            "bin_start": -0.09999999999999998,
            "bin_end": 0,
            "count": 0
           },
           {
            "bin_start": 0,
            "bin_end": 0.10000000000000009,
            "count": 5
           },
           {
            "bin_start": 0.10000000000000009,
            "bin_end": 0.20000000000000007,
            "count": 0
           },
           {
            "bin_start": 0.20000000000000007,
            "bin_end": 0.30000000000000004,
            "count": 0
           },
           {
            "bin_start": 0.30000000000000004,
            "bin_end": 0.4,
            "count": 0
           },
           {
            "bin_start": 0.4,
            "bin_end": 0.5,
            "count": 0
           }
          ]
         }
        },
        {
         "name": "Property_Area_Semiurban",
         "dtype": "uint8",
         "stats": {
          "unique_count": 1,
          "nan_count": 0,
          "min": "0",
          "max": "0",
          "histogram": [
           {
            "bin_start": -0.5,
            "bin_end": -0.4,
            "count": 0
           },
           {
            "bin_start": -0.4,
            "bin_end": -0.3,
            "count": 0
           },
           {
            "bin_start": -0.3,
            "bin_end": -0.19999999999999996,
            "count": 0
           },
           {
            "bin_start": -0.19999999999999996,
            "bin_end": -0.09999999999999998,
            "count": 0
           },
           {
            "bin_start": -0.09999999999999998,
            "bin_end": 0,
            "count": 0
           },
           {
            "bin_start": 0,
            "bin_end": 0.10000000000000009,
            "count": 5
           },
           {
            "bin_start": 0.10000000000000009,
            "bin_end": 0.20000000000000007,
            "count": 0
           },
           {
            "bin_start": 0.20000000000000007,
            "bin_end": 0.30000000000000004,
            "count": 0
           },
           {
            "bin_start": 0.30000000000000004,
            "bin_end": 0.4,
            "count": 0
           },
           {
            "bin_start": 0.4,
            "bin_end": 0.5,
            "count": 0
           }
          ]
         }
        },
        {
         "name": "Property_Area_Urban",
         "dtype": "uint8",
         "stats": {
          "unique_count": 1,
          "nan_count": 0,
          "min": "1",
          "max": "1",
          "histogram": [
           {
            "bin_start": 0.5,
            "bin_end": 0.6,
            "count": 0
           },
           {
            "bin_start": 0.6,
            "bin_end": 0.7,
            "count": 0
           },
           {
            "bin_start": 0.7,
            "bin_end": 0.8,
            "count": 0
           },
           {
            "bin_start": 0.8,
            "bin_end": 0.9,
            "count": 0
           },
           {
            "bin_start": 0.9,
            "bin_end": 1,
            "count": 0
           },
           {
            "bin_start": 1,
            "bin_end": 1.1,
            "count": 5
           },
           {
            "bin_start": 1.1,
            "bin_end": 1.2000000000000002,
            "count": 0
           },
           {
            "bin_start": 1.2000000000000002,
            "bin_end": 1.3,
            "count": 0
           },
           {
            "bin_start": 1.3,
            "bin_end": 1.4,
            "count": 0
           },
           {
            "bin_start": 1.4,
            "bin_end": 1.5,
            "count": 0
           }
          ]
         }
        },
        {
         "name": "Dependents_0",
         "dtype": "uint8",
         "stats": {
          "unique_count": 2,
          "nan_count": 0,
          "min": "0",
          "max": "1",
          "histogram": [
           {
            "bin_start": 0,
            "bin_end": 0.1,
            "count": 3
           },
           {
            "bin_start": 0.1,
            "bin_end": 0.2,
            "count": 0
           },
           {
            "bin_start": 0.2,
            "bin_end": 0.30000000000000004,
            "count": 0
           },
           {
            "bin_start": 0.30000000000000004,
            "bin_end": 0.4,
            "count": 0
           },
           {
            "bin_start": 0.4,
            "bin_end": 0.5,
            "count": 0
           },
           {
            "bin_start": 0.5,
            "bin_end": 0.6000000000000001,
            "count": 0
           },
           {
            "bin_start": 0.6000000000000001,
            "bin_end": 0.7000000000000001,
            "count": 0
           },
           {
            "bin_start": 0.7000000000000001,
            "bin_end": 0.8,
            "count": 0
           },
           {
            "bin_start": 0.8,
            "bin_end": 0.9,
            "count": 0
           },
           {
            "bin_start": 0.9,
            "bin_end": 1,
            "count": 2
           }
          ]
         }
        },
        {
         "name": "Dependents_1",
         "dtype": "uint8",
         "stats": {
          "unique_count": 2,
          "nan_count": 0,
          "min": "0",
          "max": "1",
          "histogram": [
           {
            "bin_start": 0,
            "bin_end": 0.1,
            "count": 4
           },
           {
            "bin_start": 0.1,
            "bin_end": 0.2,
            "count": 0
           },
           {
            "bin_start": 0.2,
            "bin_end": 0.30000000000000004,
            "count": 0
           },
           {
            "bin_start": 0.30000000000000004,
            "bin_end": 0.4,
            "count": 0
           },
           {
            "bin_start": 0.4,
            "bin_end": 0.5,
            "count": 0
           },
           {
            "bin_start": 0.5,
            "bin_end": 0.6000000000000001,
            "count": 0
           },
           {
            "bin_start": 0.6000000000000001,
            "bin_end": 0.7000000000000001,
            "count": 0
           },
           {
            "bin_start": 0.7000000000000001,
            "bin_end": 0.8,
            "count": 0
           },
           {
            "bin_start": 0.8,
            "bin_end": 0.9,
            "count": 0
           },
           {
            "bin_start": 0.9,
            "bin_end": 1,
            "count": 1
           }
          ]
         }
        },
        {
         "name": "Dependents_2",
         "dtype": "uint8",
         "stats": {
          "unique_count": 2,
          "nan_count": 0,
          "min": "0",
          "max": "1",
          "histogram": [
           {
            "bin_start": 0,
            "bin_end": 0.1,
            "count": 3
           },
           {
            "bin_start": 0.1,
            "bin_end": 0.2,
            "count": 0
           },
           {
            "bin_start": 0.2,
            "bin_end": 0.30000000000000004,
            "count": 0
           },
           {
            "bin_start": 0.30000000000000004,
            "bin_end": 0.4,
            "count": 0
           },
           {
            "bin_start": 0.4,
            "bin_end": 0.5,
            "count": 0
           },
           {
            "bin_start": 0.5,
            "bin_end": 0.6000000000000001,
            "count": 0
           },
           {
            "bin_start": 0.6000000000000001,
            "bin_end": 0.7000000000000001,
            "count": 0
           },
           {
            "bin_start": 0.7000000000000001,
            "bin_end": 0.8,
            "count": 0
           },
           {
            "bin_start": 0.8,
            "bin_end": 0.9,
            "count": 0
           },
           {
            "bin_start": 0.9,
            "bin_end": 1,
            "count": 2
           }
          ]
         }
        },
        {
         "name": "Dependents_3+",
         "dtype": "uint8",
         "stats": {
          "unique_count": 1,
          "nan_count": 0,
          "min": "0",
          "max": "0",
          "histogram": [
           {
            "bin_start": -0.5,
            "bin_end": -0.4,
            "count": 0
           },
           {
            "bin_start": -0.4,
            "bin_end": -0.3,
            "count": 0
           },
           {
            "bin_start": -0.3,
            "bin_end": -0.19999999999999996,
            "count": 0
           },
           {
            "bin_start": -0.19999999999999996,
            "bin_end": -0.09999999999999998,
            "count": 0
           },
           {
            "bin_start": -0.09999999999999998,
            "bin_end": 0,
            "count": 0
           },
           {
            "bin_start": 0,
            "bin_end": 0.10000000000000009,
            "count": 5
           },
           {
            "bin_start": 0.10000000000000009,
            "bin_end": 0.20000000000000007,
            "count": 0
           },
           {
            "bin_start": 0.20000000000000007,
            "bin_end": 0.30000000000000004,
            "count": 0
           },
           {
            "bin_start": 0.30000000000000004,
            "bin_end": 0.4,
            "count": 0
           },
           {
            "bin_start": 0.4,
            "bin_end": 0.5,
            "count": 0
           }
          ]
         }
        },
        {
         "name": "ApplicantIncome",
         "dtype": "int64",
         "stats": {
          "unique_count": 5,
          "nan_count": 0,
          "min": "2340",
          "max": "5720",
          "histogram": [
           {
            "bin_start": 2340,
            "bin_end": 2678,
            "count": 1
           },
           {
            "bin_start": 2678,
            "bin_end": 3016,
            "count": 0
           },
           {
            "bin_start": 3016,
            "bin_end": 3354,
            "count": 2
           },
           {
            "bin_start": 3354,
            "bin_end": 3692,
            "count": 0
           },
           {
            "bin_start": 3692,
            "bin_end": 4030,
            "count": 0
           },
           {
            "bin_start": 4030,
            "bin_end": 4368,
            "count": 0
           },
           {
            "bin_start": 4368,
            "bin_end": 4706,
            "count": 0
           },
           {
            "bin_start": 4706,
            "bin_end": 5044,
            "count": 1
           },
           {
            "bin_start": 5044,
            "bin_end": 5382,
            "count": 0
           },
           {
            "bin_start": 5382,
            "bin_end": 5720,
            "count": 1
           }
          ]
         }
        },
        {
         "name": "CoapplicantIncome",
         "dtype": "int64",
         "stats": {
          "unique_count": 4,
          "nan_count": 0,
          "min": "0",
          "max": "2546",
          "histogram": [
           {
            "bin_start": 0,
            "bin_end": 254.6,
            "count": 2
           },
           {
            "bin_start": 254.6,
            "bin_end": 509.2,
            "count": 0
           },
           {
            "bin_start": 509.2,
            "bin_end": 763.8,
            "count": 0
           },
           {
            "bin_start": 763.8,
            "bin_end": 1018.4,
            "count": 0
           },
           {
            "bin_start": 1018.4,
            "bin_end": 1273,
            "count": 0
           },
           {
            "bin_start": 1273,
            "bin_end": 1527.6,
            "count": 1
           },
           {
            "bin_start": 1527.6,
            "bin_end": 1782.2,
            "count": 0
           },
           {
            "bin_start": 1782.2,
            "bin_end": 2036.8,
            "count": 1
           },
           {
            "bin_start": 2036.8,
            "bin_end": 2291.4,
            "count": 0
           },
           {
            "bin_start": 2291.4,
            "bin_end": 2546,
            "count": 1
           }
          ]
         }
        },
        {
         "name": "LoanAmount",
         "dtype": "float64",
         "stats": {
          "unique_count": 5,
          "nan_count": 0,
          "min": "78.0",
          "max": "208.0",
          "histogram": [
           {
            "bin_start": 78,
            "bin_end": 91,
            "count": 1
           },
           {
            "bin_start": 91,
            "bin_end": 104,
            "count": 1
           },
           {
            "bin_start": 104,
            "bin_end": 117,
            "count": 1
           },
           {
            "bin_start": 117,
            "bin_end": 130,
            "count": 1
           },
           {
            "bin_start": 130,
            "bin_end": 143,
            "count": 0
           },
           {
            "bin_start": 143,
            "bin_end": 156,
            "count": 0
           },
           {
            "bin_start": 156,
            "bin_end": 169,
            "count": 0
           },
           {
            "bin_start": 169,
            "bin_end": 182,
            "count": 0
           },
           {
            "bin_start": 182,
            "bin_end": 195,
            "count": 0
           },
           {
            "bin_start": 195,
            "bin_end": 208,
            "count": 1
           }
          ]
         }
        },
        {
         "name": "Loan_Amount_Term",
         "dtype": "float64",
         "stats": {
          "unique_count": 1,
          "nan_count": 0,
          "min": "360.0",
          "max": "360.0",
          "histogram": [
           {
            "bin_start": 359.5,
            "bin_end": 359.6,
            "count": 0
           },
           {
            "bin_start": 359.6,
            "bin_end": 359.7,
            "count": 0
           },
           {
            "bin_start": 359.7,
            "bin_end": 359.8,
            "count": 0
           },
           {
            "bin_start": 359.8,
            "bin_end": 359.9,
            "count": 0
           },
           {
            "bin_start": 359.9,
            "bin_end": 360,
            "count": 0
           },
           {
            "bin_start": 360,
            "bin_end": 360.1,
            "count": 5
           },
           {
            "bin_start": 360.1,
            "bin_end": 360.2,
            "count": 0
           },
           {
            "bin_start": 360.2,
            "bin_end": 360.3,
            "count": 0
           },
           {
            "bin_start": 360.3,
            "bin_end": 360.4,
            "count": 0
           },
           {
            "bin_start": 360.4,
            "bin_end": 360.5,
            "count": 0
           }
          ]
         }
        },
        {
         "name": "Credit_History",
         "dtype": "float64",
         "stats": {
          "unique_count": 1,
          "nan_count": 0,
          "min": "1.0",
          "max": "1.0",
          "histogram": [
           {
            "bin_start": 0.5,
            "bin_end": 0.6,
            "count": 0
           },
           {
            "bin_start": 0.6,
            "bin_end": 0.7,
            "count": 0
           },
           {
            "bin_start": 0.7,
            "bin_end": 0.8,
            "count": 0
           },
           {
            "bin_start": 0.8,
            "bin_end": 0.9,
            "count": 0
           },
           {
            "bin_start": 0.9,
            "bin_end": 1,
            "count": 0
           },
           {
            "bin_start": 1,
            "bin_end": 1.1,
            "count": 5
           },
           {
            "bin_start": 1.1,
            "bin_end": 1.2000000000000002,
            "count": 0
           },
           {
            "bin_start": 1.2000000000000002,
            "bin_end": 1.3,
            "count": 0
           },
           {
            "bin_start": 1.3,
            "bin_end": 1.4,
            "count": 0
           },
           {
            "bin_start": 1.4,
            "bin_end": 1.5,
            "count": 0
           }
          ]
         }
        },
        {
         "name": "Loan_Status",
         "dtype": "object",
         "stats": {
          "unique_count": 1,
          "nan_count": 0,
          "categories": [
           {
            "name": "Y",
            "count": 5
           }
          ]
         }
        },
        {
         "name": "_deepnote_index_column",
         "dtype": "int64"
        }
       ],
       "rows": [
        {
         "Gender_Female": 0,
         "Gender_Male": 1,
         "Married_No": 0,
         "Married_Yes": 1,
         "Education_Graduate": 1,
         "Education_Not Graduate": 0,
         "Self_Employed_No": 1,
         "Self_Employed_Yes": 0,
         "Property_Area_Rural": 0,
         "Property_Area_Semiurban": 0,
         "Property_Area_Urban": 1,
         "Dependents_0": 1,
         "Dependents_1": 0,
         "Dependents_2": 0,
         "Dependents_3+": 0,
         "ApplicantIncome": 5720,
         "CoapplicantIncome": 0,
         "LoanAmount": 110,
         "Loan_Amount_Term": 360,
         "Credit_History": 1,
         "Loan_Status": "Y",
         "_deepnote_index_column": 0
        },
        {
         "Gender_Female": 0,
         "Gender_Male": 1,
         "Married_No": 0,
         "Married_Yes": 1,
         "Education_Graduate": 1,
         "Education_Not Graduate": 0,
         "Self_Employed_No": 1,
         "Self_Employed_Yes": 0,
         "Property_Area_Rural": 0,
         "Property_Area_Semiurban": 0,
         "Property_Area_Urban": 1,
         "Dependents_0": 0,
         "Dependents_1": 1,
         "Dependents_2": 0,
         "Dependents_3+": 0,
         "ApplicantIncome": 3076,
         "CoapplicantIncome": 1500,
         "LoanAmount": 126,
         "Loan_Amount_Term": 360,
         "Credit_History": 1,
         "Loan_Status": "Y",
         "_deepnote_index_column": 1
        },
        {
         "Gender_Female": 0,
         "Gender_Male": 1,
         "Married_No": 0,
         "Married_Yes": 1,
         "Education_Graduate": 1,
         "Education_Not Graduate": 0,
         "Self_Employed_No": 1,
         "Self_Employed_Yes": 0,
         "Property_Area_Rural": 0,
         "Property_Area_Semiurban": 0,
         "Property_Area_Urban": 1,
         "Dependents_0": 0,
         "Dependents_1": 0,
         "Dependents_2": 1,
         "Dependents_3+": 0,
         "ApplicantIncome": 5000,
         "CoapplicantIncome": 1800,
         "LoanAmount": 208,
         "Loan_Amount_Term": 360,
         "Credit_History": 1,
         "Loan_Status": "Y",
         "_deepnote_index_column": 2
        },
        {
         "Gender_Female": 0,
         "Gender_Male": 1,
         "Married_No": 0,
         "Married_Yes": 1,
         "Education_Graduate": 1,
         "Education_Not Graduate": 0,
         "Self_Employed_No": 1,
         "Self_Employed_Yes": 0,
         "Property_Area_Rural": 0,
         "Property_Area_Semiurban": 0,
         "Property_Area_Urban": 1,
         "Dependents_0": 0,
         "Dependents_1": 0,
         "Dependents_2": 1,
         "Dependents_3+": 0,
         "ApplicantIncome": 2340,
         "CoapplicantIncome": 2546,
         "LoanAmount": 100,
         "Loan_Amount_Term": 360,
         "Credit_History": 1,
         "Loan_Status": "Y",
         "_deepnote_index_column": 3
        },
        {
         "Gender_Female": 0,
         "Gender_Male": 1,
         "Married_No": 1,
         "Married_Yes": 0,
         "Education_Graduate": 0,
         "Education_Not Graduate": 1,
         "Self_Employed_No": 1,
         "Self_Employed_Yes": 0,
         "Property_Area_Rural": 0,
         "Property_Area_Semiurban": 0,
         "Property_Area_Urban": 1,
         "Dependents_0": 1,
         "Dependents_1": 0,
         "Dependents_2": 0,
         "Dependents_3+": 0,
         "ApplicantIncome": 3276,
         "CoapplicantIncome": 0,
         "LoanAmount": 78,
         "Loan_Amount_Term": 360,
         "Credit_History": 1,
         "Loan_Status": "Y",
         "_deepnote_index_column": 4
        }
       ]
      },
      "text/plain": "   Gender_Female  Gender_Male  Married_No  Married_Yes  Education_Graduate  \\\n0              0            1           0            1                   1   \n1              0            1           0            1                   1   \n2              0            1           0            1                   1   \n3              0            1           0            1                   1   \n4              0            1           1            0                   0   \n\n   Education_Not Graduate  Self_Employed_No  Self_Employed_Yes  \\\n0                       0                 1                  0   \n1                       0                 1                  0   \n2                       0                 1                  0   \n3                       0                 1                  0   \n4                       1                 1                  0   \n\n   Property_Area_Rural  Property_Area_Semiurban  ...  Dependents_0  \\\n0                    0                        0  ...             1   \n1                    0                        0  ...             0   \n2                    0                        0  ...             0   \n3                    0                        0  ...             0   \n4                    0                        0  ...             1   \n\n   Dependents_1  Dependents_2  Dependents_3+  ApplicantIncome  \\\n0             0             0              0             5720   \n1             1             0              0             3076   \n2             0             1              0             5000   \n3             0             1              0             2340   \n4             0             0              0             3276   \n\n   CoapplicantIncome  LoanAmount  Loan_Amount_Term  Credit_History  \\\n0                  0       110.0             360.0             1.0   \n1               1500       126.0             360.0             1.0   \n2               1800       208.0             360.0             1.0   \n3               2546       100.0             360.0             1.0   \n4                  0        78.0             360.0             1.0   \n\n   Loan_Status  \n0            Y  \n1            Y  \n2            Y  \n3            Y  \n4            Y  \n\n[5 rows x 21 columns]",
      "text/html": "<div>\n<style scoped>\n    .dataframe tbody tr th:only-of-type {\n        vertical-align: middle;\n    }\n\n    .dataframe tbody tr th {\n        vertical-align: top;\n    }\n\n    .dataframe thead th {\n        text-align: right;\n    }\n</style>\n<table border=\"1\" class=\"dataframe\">\n  <thead>\n    <tr style=\"text-align: right;\">\n      <th></th>\n      <th>Gender_Female</th>\n      <th>Gender_Male</th>\n      <th>Married_No</th>\n      <th>Married_Yes</th>\n      <th>Education_Graduate</th>\n      <th>Education_Not Graduate</th>\n      <th>Self_Employed_No</th>\n      <th>Self_Employed_Yes</th>\n      <th>Property_Area_Rural</th>\n      <th>Property_Area_Semiurban</th>\n      <th>...</th>\n      <th>Dependents_0</th>\n      <th>Dependents_1</th>\n      <th>Dependents_2</th>\n      <th>Dependents_3+</th>\n      <th>ApplicantIncome</th>\n      <th>CoapplicantIncome</th>\n      <th>LoanAmount</th>\n      <th>Loan_Amount_Term</th>\n      <th>Credit_History</th>\n      <th>Loan_Status</th>\n    </tr>\n  </thead>\n  <tbody>\n    <tr>\n      <th>0</th>\n      <td>0</td>\n      <td>1</td>\n      <td>0</td>\n      <td>1</td>\n      <td>1</td>\n      <td>0</td>\n      <td>1</td>\n      <td>0</td>\n      <td>0</td>\n      <td>0</td>\n      <td>...</td>\n      <td>1</td>\n      <td>0</td>\n      <td>0</td>\n      <td>0</td>\n      <td>5720</td>\n      <td>0</td>\n      <td>110.0</td>\n      <td>360.0</td>\n      <td>1.0</td>\n      <td>Y</td>\n    </tr>\n    <tr>\n      <th>1</th>\n      <td>0</td>\n      <td>1</td>\n      <td>0</td>\n      <td>1</td>\n      <td>1</td>\n      <td>0</td>\n      <td>1</td>\n      <td>0</td>\n      <td>0</td>\n      <td>0</td>\n      <td>...</td>\n      <td>0</td>\n      <td>1</td>\n      <td>0</td>\n      <td>0</td>\n      <td>3076</td>\n      <td>1500</td>\n      <td>126.0</td>\n      <td>360.0</td>\n      <td>1.0</td>\n      <td>Y</td>\n    </tr>\n    <tr>\n      <th>2</th>\n      <td>0</td>\n      <td>1</td>\n      <td>0</td>\n      <td>1</td>\n      <td>1</td>\n      <td>0</td>\n      <td>1</td>\n      <td>0</td>\n      <td>0</td>\n      <td>0</td>\n      <td>...</td>\n      <td>0</td>\n      <td>0</td>\n      <td>1</td>\n      <td>0</td>\n      <td>5000</td>\n      <td>1800</td>\n      <td>208.0</td>\n      <td>360.0</td>\n      <td>1.0</td>\n      <td>Y</td>\n    </tr>\n    <tr>\n      <th>3</th>\n      <td>0</td>\n      <td>1</td>\n      <td>0</td>\n      <td>1</td>\n      <td>1</td>\n      <td>0</td>\n      <td>1</td>\n      <td>0</td>\n      <td>0</td>\n      <td>0</td>\n      <td>...</td>\n      <td>0</td>\n      <td>0</td>\n      <td>1</td>\n      <td>0</td>\n      <td>2340</td>\n      <td>2546</td>\n      <td>100.0</td>\n      <td>360.0</td>\n      <td>1.0</td>\n      <td>Y</td>\n    </tr>\n    <tr>\n      <th>4</th>\n      <td>0</td>\n      <td>1</td>\n      <td>1</td>\n      <td>0</td>\n      <td>0</td>\n      <td>1</td>\n      <td>1</td>\n      <td>0</td>\n      <td>0</td>\n      <td>0</td>\n      <td>...</td>\n      <td>1</td>\n      <td>0</td>\n      <td>0</td>\n      <td>0</td>\n      <td>3276</td>\n      <td>0</td>\n      <td>78.0</td>\n      <td>360.0</td>\n      <td>1.0</td>\n      <td>Y</td>\n    </tr>\n  </tbody>\n</table>\n<p>5 rows × 21 columns</p>\n</div>"
     },
     "metadata": {}
    }
   ]
  },
  {
   "cell_type": "code",
   "source": "",
   "metadata": {
    "deepnote_to_be_reexecuted": false,
    "source_hash": "b623e53d",
    "execution_start": 1659514970436,
    "cell_id": "00074-9a5f3c91-0a52-4cff-8a39-30c987956f9b",
    "execution_millis": 250318,
    "deepnote_cell_type": "visualization"
   },
   "execution_count": 57,
   "outputs": []
  },
  {
   "cell_type": "markdown",
   "source": "### Support Vector Machine",
   "metadata": {
    "formattedRanges": [],
    "is_collapsed": false,
    "tags": [],
    "cell_id": "00075-1ac4aa3c-56db-46bc-a509-f49483072524",
    "deepnote_cell_type": "text-cell-h3"
   }
  },
  {
   "cell_type": "code",
   "metadata": {
    "tags": [],
    "deepnote_to_be_reexecuted": false,
    "source_hash": "efe1854",
    "execution_start": 1659514970462,
    "execution_millis": 250290,
    "cell_id": "00076-098c3184-f5e9-45a7-9ccd-446718fdc35f",
    "deepnote_cell_type": "code",
    "deepnote_cell_height": 76
   },
   "source": "from sklearn import svm",
   "execution_count": 58,
   "outputs": []
  },
  {
   "cell_type": "code",
   "metadata": {
    "tags": [],
    "deepnote_to_be_reexecuted": false,
    "source_hash": "ca05094d",
    "execution_start": 1659514970522,
    "execution_millis": 250261,
    "cell_id": "00077-34628da6-0f3a-4051-855d-030f2796e2e0",
    "deepnote_cell_type": "code",
    "deepnote_cell_height": 149.1875,
    "deepnote_output_heights": [
     21.1875
    ]
   },
   "source": "# creating an SVM Classifier\nclf = svm.SVC(kernel='linear')\nclf.fit(x_train, y_train)",
   "execution_count": 59,
   "outputs": [
    {
     "output_type": "execute_result",
     "execution_count": 59,
     "data": {
      "text/plain": "SVC(kernel='linear')"
     },
     "metadata": {}
    }
   ]
  },
  {
   "cell_type": "code",
   "metadata": {
    "tags": [],
    "deepnote_to_be_reexecuted": false,
    "source_hash": "e2cd43c4",
    "execution_start": 1659514970523,
    "execution_millis": 250193,
    "cell_id": "00078-6e2ccaca-3e49-45a9-8c21-dc364cd69542",
    "deepnote_cell_type": "code",
    "deepnote_cell_height": 181
   },
   "source": "# Make predictions for the test set\npred_svm = clf.predict(x_cv)\nprint(f\"Accuracy Score : {accuracy_score(y_cv,pred_svm)}\")\nprint(f\"F1 Score: {f1_score(y_cv,pred_svm)}\")",
   "execution_count": 60,
   "outputs": [
    {
     "name": "stdout",
     "text": "Accuracy Score : 0.8540540540540541\nF1 Score: 0.9078498293515358\n",
     "output_type": "stream"
    }
   ]
  },
  {
   "cell_type": "code",
   "metadata": {
    "tags": [],
    "deepnote_to_be_reexecuted": false,
    "source_hash": "ac0b6f14",
    "execution_start": 1659514970523,
    "execution_millis": 252,
    "cell_id": "00079-e5b95139-c578-48ff-a7c9-db95a25a2b09",
    "deepnote_cell_type": "code",
    "deepnote_cell_height": 521,
    "deepnote_output_heights": [
     280
    ]
   },
   "source": "confusion_matrix_svm = confusion_matrix(y_cv, pred_svm)\n\nax= plt.subplot()\nsns.heatmap(confusion_matrix_rf, annot=True, fmt='g', ax=ax);  #annot=True to annotate cells, ftm='g' to disable scientific notation\n\n# labels, title and ticks\nax.set_xlabel('Predicted labels');ax.set_ylabel('True labels'); \nax.set_title('Confusion Matrix'); \nax.xaxis.set_ticklabels(['Y', 'N']); ax.yaxis.set_ticklabels(['Y', 'N']);",
   "execution_count": 61,
   "outputs": [
    {
     "data": {
      "text/plain": "<Figure size 432x288 with 2 Axes>",
      "image/png": "[encoded data removed]"
     },
     "metadata": {
      "needs_background": "light",
      "image/png": {
       "width": 366,
       "height": 278
      }
     },
     "output_type": "display_data"
    }
   ]
  },
  {
   "cell_type": "code",
   "source": "# pred_test_svm = forest.predict(data_test)\npred_test_svm = model.predict(data_test_opt)\ndata_test_svm = data_test.copy()\ndata_test_svm['Loan_Status'] = pred_test_rf\ndata_test_svm['Loan_Status'] = data_test_svm['Loan_Status'].replace({0: 'N', 1 : 'Y'})\ndata_test_svm.head() ",
   "metadata": {
    "tags": [],
    "deepnote_to_be_reexecuted": false,
    "source_hash": "93f3fe41",
    "execution_start": 1659514970778,
    "execution_millis": 83,
    "cell_id": "00080-365603fa-07a1-4ed5-9ddf-27285bdd3281",
    "deepnote_cell_type": "code",
    "deepnote_cell_height": 496.796875
   },
   "execution_count": 62,
   "outputs": [
    {
     "output_type": "execute_result",
     "execution_count": 62,
     "data": {
      "application/vnd.deepnote.dataframe.v3+json": {
       "column_count": 21,
       "row_count": 5,
       "columns": [
        {
         "name": "Gender_Female",
         "dtype": "uint8",
         "stats": {
          "unique_count": 1,
          "nan_count": 0,
          "min": "0",
          "max": "0",
          "histogram": [
           {
            "bin_start": -0.5,
            "bin_end": -0.4,
            "count": 0
           },
           {
            "bin_start": -0.4,
            "bin_end": -0.3,
            "count": 0
           },
           {
            "bin_start": -0.3,
            "bin_end": -0.19999999999999996,
            "count": 0
           },
           {
            "bin_start": -0.19999999999999996,
            "bin_end": -0.09999999999999998,
            "count": 0
           },
           {
            "bin_start": -0.09999999999999998,
            "bin_end": 0,
            "count": 0
           },
           {
            "bin_start": 0,
            "bin_end": 0.10000000000000009,
            "count": 5
           },
           {
            "bin_start": 0.10000000000000009,
            "bin_end": 0.20000000000000007,
            "count": 0
           },
           {
            "bin_start": 0.20000000000000007,
            "bin_end": 0.30000000000000004,
            "count": 0
           },
           {
            "bin_start": 0.30000000000000004,
            "bin_end": 0.4,
            "count": 0
           },
           {
            "bin_start": 0.4,
            "bin_end": 0.5,
            "count": 0
           }
          ]
         }
        },
        {
         "name": "Gender_Male",
         "dtype": "uint8",
         "stats": {
          "unique_count": 1,
          "nan_count": 0,
          "min": "1",
          "max": "1",
          "histogram": [
           {
            "bin_start": 0.5,
            "bin_end": 0.6,
            "count": 0
           },
           {
            "bin_start": 0.6,
            "bin_end": 0.7,
            "count": 0
           },
           {
            "bin_start": 0.7,
            "bin_end": 0.8,
            "count": 0
           },
           {
            "bin_start": 0.8,
            "bin_end": 0.9,
            "count": 0
           },
           {
            "bin_start": 0.9,
            "bin_end": 1,
            "count": 0
           },
           {
            "bin_start": 1,
            "bin_end": 1.1,
            "count": 5
           },
           {
            "bin_start": 1.1,
            "bin_end": 1.2000000000000002,
            "count": 0
           },
           {
            "bin_start": 1.2000000000000002,
            "bin_end": 1.3,
            "count": 0
           },
           {
            "bin_start": 1.3,
            "bin_end": 1.4,
            "count": 0
           },
           {
            "bin_start": 1.4,
            "bin_end": 1.5,
            "count": 0
           }
          ]
         }
        },
        {
         "name": "Married_No",
         "dtype": "uint8",
         "stats": {
          "unique_count": 2,
          "nan_count": 0,
          "min": "0",
          "max": "1",
          "histogram": [
           {
            "bin_start": 0,
            "bin_end": 0.1,
            "count": 4
           },
           {
            "bin_start": 0.1,
            "bin_end": 0.2,
            "count": 0
           },
           {
            "bin_start": 0.2,
            "bin_end": 0.30000000000000004,
            "count": 0
           },
           {
            "bin_start": 0.30000000000000004,
            "bin_end": 0.4,
            "count": 0
           },
           {
            "bin_start": 0.4,
            "bin_end": 0.5,
            "count": 0
           },
           {
            "bin_start": 0.5,
            "bin_end": 0.6000000000000001,
            "count": 0
           },
           {
            "bin_start": 0.6000000000000001,
            "bin_end": 0.7000000000000001,
            "count": 0
           },
           {
            "bin_start": 0.7000000000000001,
            "bin_end": 0.8,
            "count": 0
           },
           {
            "bin_start": 0.8,
            "bin_end": 0.9,
            "count": 0
           },
           {
            "bin_start": 0.9,
            "bin_end": 1,
            "count": 1
           }
          ]
         }
        },
        {
         "name": "Married_Yes",
         "dtype": "uint8",
         "stats": {
          "unique_count": 2,
          "nan_count": 0,
          "min": "0",
          "max": "1",
          "histogram": [
           {
            "bin_start": 0,
            "bin_end": 0.1,
            "count": 1
           },
           {
            "bin_start": 0.1,
            "bin_end": 0.2,
            "count": 0
           },
           {
            "bin_start": 0.2,
            "bin_end": 0.30000000000000004,
            "count": 0
           },
           {
            "bin_start": 0.30000000000000004,
            "bin_end": 0.4,
            "count": 0
           },
           {
            "bin_start": 0.4,
            "bin_end": 0.5,
            "count": 0
           },
           {
            "bin_start": 0.5,
            "bin_end": 0.6000000000000001,
            "count": 0
           },
           {
            "bin_start": 0.6000000000000001,
            "bin_end": 0.7000000000000001,
            "count": 0
           },
           {
            "bin_start": 0.7000000000000001,
            "bin_end": 0.8,
            "count": 0
           },
           {
            "bin_start": 0.8,
            "bin_end": 0.9,
            "count": 0
           },
           {
            "bin_start": 0.9,
            "bin_end": 1,
            "count": 4
           }
          ]
         }
        },
        {
         "name": "Education_Graduate",
         "dtype": "uint8",
         "stats": {
          "unique_count": 2,
          "nan_count": 0,
          "min": "0",
          "max": "1",
          "histogram": [
           {
            "bin_start": 0,
            "bin_end": 0.1,
            "count": 1
           },
           {
            "bin_start": 0.1,
            "bin_end": 0.2,
            "count": 0
           },
           {
            "bin_start": 0.2,
            "bin_end": 0.30000000000000004,
            "count": 0
           },
           {
            "bin_start": 0.30000000000000004,
            "bin_end": 0.4,
            "count": 0
           },
           {
            "bin_start": 0.4,
            "bin_end": 0.5,
            "count": 0
           },
           {
            "bin_start": 0.5,
            "bin_end": 0.6000000000000001,
            "count": 0
           },
           {
            "bin_start": 0.6000000000000001,
            "bin_end": 0.7000000000000001,
            "count": 0
           },
           {
            "bin_start": 0.7000000000000001,
            "bin_end": 0.8,
            "count": 0
           },
           {
            "bin_start": 0.8,
            "bin_end": 0.9,
            "count": 0
           },
           {
            "bin_start": 0.9,
            "bin_end": 1,
            "count": 4
           }
          ]
         }
        },
        {
         "name": "Education_Not Graduate",
         "dtype": "uint8",
         "stats": {
          "unique_count": 2,
          "nan_count": 0,
          "min": "0",
          "max": "1",
          "histogram": [
           {
            "bin_start": 0,
            "bin_end": 0.1,
            "count": 4
           },
           {
            "bin_start": 0.1,
            "bin_end": 0.2,
            "count": 0
           },
           {
            "bin_start": 0.2,
            "bin_end": 0.30000000000000004,
            "count": 0
           },
           {
            "bin_start": 0.30000000000000004,
            "bin_end": 0.4,
            "count": 0
           },
           {
            "bin_start": 0.4,
            "bin_end": 0.5,
            "count": 0
           },
           {
            "bin_start": 0.5,
            "bin_end": 0.6000000000000001,
            "count": 0
           },
           {
            "bin_start": 0.6000000000000001,
            "bin_end": 0.7000000000000001,
            "count": 0
           },
           {
            "bin_start": 0.7000000000000001,
            "bin_end": 0.8,
            "count": 0
           },
           {
            "bin_start": 0.8,
            "bin_end": 0.9,
            "count": 0
           },
           {
            "bin_start": 0.9,
            "bin_end": 1,
            "count": 1
           }
          ]
         }
        },
        {
         "name": "Self_Employed_No",
         "dtype": "uint8",
         "stats": {
          "unique_count": 1,
          "nan_count": 0,
          "min": "1",
          "max": "1",
          "histogram": [
           {
            "bin_start": 0.5,
            "bin_end": 0.6,
            "count": 0
           },
           {
            "bin_start": 0.6,
            "bin_end": 0.7,
            "count": 0
           },
           {
            "bin_start": 0.7,
            "bin_end": 0.8,
            "count": 0
           },
           {
            "bin_start": 0.8,
            "bin_end": 0.9,
            "count": 0
           },
           {
            "bin_start": 0.9,
            "bin_end": 1,
            "count": 0
           },
           {
            "bin_start": 1,
            "bin_end": 1.1,
            "count": 5
           },
           {
            "bin_start": 1.1,
            "bin_end": 1.2000000000000002,
            "count": 0
           },
           {
            "bin_start": 1.2000000000000002,
            "bin_end": 1.3,
            "count": 0
           },
           {
            "bin_start": 1.3,
            "bin_end": 1.4,
            "count": 0
           },
           {
            "bin_start": 1.4,
            "bin_end": 1.5,
            "count": 0
           }
          ]
         }
        },
        {
         "name": "Self_Employed_Yes",
         "dtype": "uint8",
         "stats": {
          "unique_count": 1,
          "nan_count": 0,
          "min": "0",
          "max": "0",
          "histogram": [
           {
            "bin_start": -0.5,
            "bin_end": -0.4,
            "count": 0
           },
           {
            "bin_start": -0.4,
            "bin_end": -0.3,
            "count": 0
           },
           {
            "bin_start": -0.3,
            "bin_end": -0.19999999999999996,
            "count": 0
           },
           {
            "bin_start": -0.19999999999999996,
            "bin_end": -0.09999999999999998,
            "count": 0
           },
           {
            "bin_start": -0.09999999999999998,
            "bin_end": 0,
            "count": 0
           },
           {
            "bin_start": 0,
            "bin_end": 0.10000000000000009,
            "count": 5
           },
           {
            "bin_start": 0.10000000000000009,
            "bin_end": 0.20000000000000007,
            "count": 0
           },
           {
            "bin_start": 0.20000000000000007,
            "bin_end": 0.30000000000000004,
            "count": 0
           },
           {
            "bin_start": 0.30000000000000004,
            "bin_end": 0.4,
            "count": 0
           },
           {
            "bin_start": 0.4,
            "bin_end": 0.5,
            "count": 0
           }
          ]
         }
        },
        {
         "name": "Property_Area_Rural",
         "dtype": "uint8",
         "stats": {
          "unique_count": 1,
          "nan_count": 0,
          "min": "0",
          "max": "0",
          "histogram": [
           {
            "bin_start": -0.5,
            "bin_end": -0.4,
            "count": 0
           },
           {
            "bin_start": -0.4,
            "bin_end": -0.3,
            "count": 0
           },
           {
            "bin_start": -0.3,
            "bin_end": -0.19999999999999996,
            "count": 0
           },
           {
            "bin_start": -0.19999999999999996,
            "bin_end": -0.09999999999999998,
            "count": 0
           },
           {
            "bin_start": -0.09999999999999998,
            "bin_end": 0,
            "count": 0
           },
           {
            "bin_start": 0,
            "bin_end": 0.10000000000000009,
            "count": 5
           },
           {
            "bin_start": 0.10000000000000009,
            "bin_end": 0.20000000000000007,
            "count": 0
           },
           {
            "bin_start": 0.20000000000000007,
            "bin_end": 0.30000000000000004,
            "count": 0
           },
           {
            "bin_start": 0.30000000000000004,
            "bin_end": 0.4,
            "count": 0
           },
           {
            "bin_start": 0.4,
            "bin_end": 0.5,
            "count": 0
           }
          ]
         }
        },
        {
         "name": "Property_Area_Semiurban",
         "dtype": "uint8",
         "stats": {
          "unique_count": 1,
          "nan_count": 0,
          "min": "0",
          "max": "0",
          "histogram": [
           {
            "bin_start": -0.5,
            "bin_end": -0.4,
            "count": 0
           },
           {
            "bin_start": -0.4,
            "bin_end": -0.3,
            "count": 0
           },
           {
            "bin_start": -0.3,
            "bin_end": -0.19999999999999996,
            "count": 0
           },
           {
            "bin_start": -0.19999999999999996,
            "bin_end": -0.09999999999999998,
            "count": 0
           },
           {
            "bin_start": -0.09999999999999998,
            "bin_end": 0,
            "count": 0
           },
           {
            "bin_start": 0,
            "bin_end": 0.10000000000000009,
            "count": 5
           },
           {
            "bin_start": 0.10000000000000009,
            "bin_end": 0.20000000000000007,
            "count": 0
           },
           {
            "bin_start": 0.20000000000000007,
            "bin_end": 0.30000000000000004,
            "count": 0
           },
           {
            "bin_start": 0.30000000000000004,
            "bin_end": 0.4,
            "count": 0
           },
           {
            "bin_start": 0.4,
            "bin_end": 0.5,
            "count": 0
           }
          ]
         }
        },
        {
         "name": "Property_Area_Urban",
         "dtype": "uint8",
         "stats": {
          "unique_count": 1,
          "nan_count": 0,
          "min": "1",
          "max": "1",
          "histogram": [
           {
            "bin_start": 0.5,
            "bin_end": 0.6,
            "count": 0
           },
           {
            "bin_start": 0.6,
            "bin_end": 0.7,
            "count": 0
           },
           {
            "bin_start": 0.7,
            "bin_end": 0.8,
            "count": 0
           },
           {
            "bin_start": 0.8,
            "bin_end": 0.9,
            "count": 0
           },
           {
            "bin_start": 0.9,
            "bin_end": 1,
            "count": 0
           },
           {
            "bin_start": 1,
            "bin_end": 1.1,
            "count": 5
           },
           {
            "bin_start": 1.1,
            "bin_end": 1.2000000000000002,
            "count": 0
           },
           {
            "bin_start": 1.2000000000000002,
            "bin_end": 1.3,
            "count": 0
           },
           {
            "bin_start": 1.3,
            "bin_end": 1.4,
            "count": 0
           },
           {
            "bin_start": 1.4,
            "bin_end": 1.5,
            "count": 0
           }
          ]
         }
        },
        {
         "name": "Dependents_0",
         "dtype": "uint8",
         "stats": {
          "unique_count": 2,
          "nan_count": 0,
          "min": "0",
          "max": "1",
          "histogram": [
           {
            "bin_start": 0,
            "bin_end": 0.1,
            "count": 3
           },
           {
            "bin_start": 0.1,
            "bin_end": 0.2,
            "count": 0
           },
           {
            "bin_start": 0.2,
            "bin_end": 0.30000000000000004,
            "count": 0
           },
           {
            "bin_start": 0.30000000000000004,
            "bin_end": 0.4,
            "count": 0
           },
           {
            "bin_start": 0.4,
            "bin_end": 0.5,
            "count": 0
           },
           {
            "bin_start": 0.5,
            "bin_end": 0.6000000000000001,
            "count": 0
           },
           {
            "bin_start": 0.6000000000000001,
            "bin_end": 0.7000000000000001,
            "count": 0
           },
           {
            "bin_start": 0.7000000000000001,
            "bin_end": 0.8,
            "count": 0
           },
           {
            "bin_start": 0.8,
            "bin_end": 0.9,
            "count": 0
           },
           {
            "bin_start": 0.9,
            "bin_end": 1,
            "count": 2
           }
          ]
         }
        },
        {
         "name": "Dependents_1",
         "dtype": "uint8",
         "stats": {
          "unique_count": 2,
          "nan_count": 0,
          "min": "0",
          "max": "1",
          "histogram": [
           {
            "bin_start": 0,
            "bin_end": 0.1,
            "count": 4
           },
           {
            "bin_start": 0.1,
            "bin_end": 0.2,
            "count": 0
           },
           {
            "bin_start": 0.2,
            "bin_end": 0.30000000000000004,
            "count": 0
           },
           {
            "bin_start": 0.30000000000000004,
            "bin_end": 0.4,
            "count": 0
           },
           {
            "bin_start": 0.4,
            "bin_end": 0.5,
            "count": 0
           },
           {
            "bin_start": 0.5,
            "bin_end": 0.6000000000000001,
            "count": 0
           },
           {
            "bin_start": 0.6000000000000001,
            "bin_end": 0.7000000000000001,
            "count": 0
           },
           {
            "bin_start": 0.7000000000000001,
            "bin_end": 0.8,
            "count": 0
           },
           {
            "bin_start": 0.8,
            "bin_end": 0.9,
            "count": 0
           },
           {
            "bin_start": 0.9,
            "bin_end": 1,
            "count": 1
           }
          ]
         }
        },
        {
         "name": "Dependents_2",
         "dtype": "uint8",
         "stats": {
          "unique_count": 2,
          "nan_count": 0,
          "min": "0",
          "max": "1",
          "histogram": [
           {
            "bin_start": 0,
            "bin_end": 0.1,
            "count": 3
           },
           {
            "bin_start": 0.1,
            "bin_end": 0.2,
            "count": 0
           },
           {
            "bin_start": 0.2,
            "bin_end": 0.30000000000000004,
            "count": 0
           },
           {
            "bin_start": 0.30000000000000004,
            "bin_end": 0.4,
            "count": 0
           },
           {
            "bin_start": 0.4,
            "bin_end": 0.5,
            "count": 0
           },
           {
            "bin_start": 0.5,
            "bin_end": 0.6000000000000001,
            "count": 0
           },
           {
            "bin_start": 0.6000000000000001,
            "bin_end": 0.7000000000000001,
            "count": 0
           },
           {
            "bin_start": 0.7000000000000001,
            "bin_end": 0.8,
            "count": 0
           },
           {
            "bin_start": 0.8,
            "bin_end": 0.9,
            "count": 0
           },
           {
            "bin_start": 0.9,
            "bin_end": 1,
            "count": 2
           }
          ]
         }
        },
        {
         "name": "Dependents_3+",
         "dtype": "uint8",
         "stats": {
          "unique_count": 1,
          "nan_count": 0,
          "min": "0",
          "max": "0",
          "histogram": [
           {
            "bin_start": -0.5,
            "bin_end": -0.4,
            "count": 0
           },
           {
            "bin_start": -0.4,
            "bin_end": -0.3,
            "count": 0
           },
           {
            "bin_start": -0.3,
            "bin_end": -0.19999999999999996,
            "count": 0
           },
           {
            "bin_start": -0.19999999999999996,
            "bin_end": -0.09999999999999998,
            "count": 0
           },
           {
            "bin_start": -0.09999999999999998,
            "bin_end": 0,
            "count": 0
           },
           {
            "bin_start": 0,
            "bin_end": 0.10000000000000009,
            "count": 5
           },
           {
            "bin_start": 0.10000000000000009,
            "bin_end": 0.20000000000000007,
            "count": 0
           },
           {
            "bin_start": 0.20000000000000007,
            "bin_end": 0.30000000000000004,
            "count": 0
           },
           {
            "bin_start": 0.30000000000000004,
            "bin_end": 0.4,
            "count": 0
           },
           {
            "bin_start": 0.4,
            "bin_end": 0.5,
            "count": 0
           }
          ]
         }
        },
        {
         "name": "ApplicantIncome",
         "dtype": "int64",
         "stats": {
          "unique_count": 5,
          "nan_count": 0,
          "min": "2340",
          "max": "5720",
          "histogram": [
           {
            "bin_start": 2340,
            "bin_end": 2678,
            "count": 1
           },
           {
            "bin_start": 2678,
            "bin_end": 3016,
            "count": 0
           },
           {
            "bin_start": 3016,
            "bin_end": 3354,
            "count": 2
           },
           {
            "bin_start": 3354,
            "bin_end": 3692,
            "count": 0
           },
           {
            "bin_start": 3692,
            "bin_end": 4030,
            "count": 0
           },
           {
            "bin_start": 4030,
            "bin_end": 4368,
            "count": 0
           },
           {
            "bin_start": 4368,
            "bin_end": 4706,
            "count": 0
           },
           {
            "bin_start": 4706,
            "bin_end": 5044,
            "count": 1
           },
           {
            "bin_start": 5044,
            "bin_end": 5382,
            "count": 0
           },
           {
            "bin_start": 5382,
            "bin_end": 5720,
            "count": 1
           }
          ]
         }
        },
        {
         "name": "CoapplicantIncome",
         "dtype": "int64",
         "stats": {
          "unique_count": 4,
          "nan_count": 0,
          "min": "0",
          "max": "2546",
          "histogram": [
           {
            "bin_start": 0,
            "bin_end": 254.6,
            "count": 2
           },
           {
            "bin_start": 254.6,
            "bin_end": 509.2,
            "count": 0
           },
           {
            "bin_start": 509.2,
            "bin_end": 763.8,
            "count": 0
           },
           {
            "bin_start": 763.8,
            "bin_end": 1018.4,
            "count": 0
           },
           {
            "bin_start": 1018.4,
            "bin_end": 1273,
            "count": 0
           },
           {
            "bin_start": 1273,
            "bin_end": 1527.6,
            "count": 1
           },
           {
            "bin_start": 1527.6,
            "bin_end": 1782.2,
            "count": 0
           },
           {
            "bin_start": 1782.2,
            "bin_end": 2036.8,
            "count": 1
           },
           {
            "bin_start": 2036.8,
            "bin_end": 2291.4,
            "count": 0
           },
           {
            "bin_start": 2291.4,
            "bin_end": 2546,
            "count": 1
           }
          ]
         }
        },
        {
         "name": "LoanAmount",
         "dtype": "float64",
         "stats": {
          "unique_count": 5,
          "nan_count": 0,
          "min": "78.0",
          "max": "208.0",
          "histogram": [
           {
            "bin_start": 78,
            "bin_end": 91,
            "count": 1
           },
           {
            "bin_start": 91,
            "bin_end": 104,
            "count": 1
           },
           {
            "bin_start": 104,
            "bin_end": 117,
            "count": 1
           },
           {
            "bin_start": 117,
            "bin_end": 130,
            "count": 1
           },
           {
            "bin_start": 130,
            "bin_end": 143,
            "count": 0
           },
           {
            "bin_start": 143,
            "bin_end": 156,
            "count": 0
           },
           {
            "bin_start": 156,
            "bin_end": 169,
            "count": 0
           },
           {
            "bin_start": 169,
            "bin_end": 182,
            "count": 0
           },
           {
            "bin_start": 182,
            "bin_end": 195,
            "count": 0
           },
           {
            "bin_start": 195,
            "bin_end": 208,
            "count": 1
           }
          ]
         }
        },
        {
         "name": "Loan_Amount_Term",
         "dtype": "float64",
         "stats": {
          "unique_count": 1,
          "nan_count": 0,
          "min": "360.0",
          "max": "360.0",
          "histogram": [
           {
            "bin_start": 359.5,
            "bin_end": 359.6,
            "count": 0
           },
           {
            "bin_start": 359.6,
            "bin_end": 359.7,
            "count": 0
           },
           {
            "bin_start": 359.7,
            "bin_end": 359.8,
            "count": 0
           },
           {
            "bin_start": 359.8,
            "bin_end": 359.9,
            "count": 0
           },
           {
            "bin_start": 359.9,
            "bin_end": 360,
            "count": 0
           },
           {
            "bin_start": 360,
            "bin_end": 360.1,
            "count": 5
           },
           {
            "bin_start": 360.1,
            "bin_end": 360.2,
            "count": 0
           },
           {
            "bin_start": 360.2,
            "bin_end": 360.3,
            "count": 0
           },
           {
            "bin_start": 360.3,
            "bin_end": 360.4,
            "count": 0
           },
           {
            "bin_start": 360.4,
            "bin_end": 360.5,
            "count": 0
           }
          ]
         }
        },
        {
         "name": "Credit_History",
         "dtype": "float64",
         "stats": {
          "unique_count": 1,
          "nan_count": 0,
          "min": "1.0",
          "max": "1.0",
          "histogram": [
           {
            "bin_start": 0.5,
            "bin_end": 0.6,
            "count": 0
           },
           {
            "bin_start": 0.6,
            "bin_end": 0.7,
            "count": 0
           },
           {
            "bin_start": 0.7,
            "bin_end": 0.8,
            "count": 0
           },
           {
            "bin_start": 0.8,
            "bin_end": 0.9,
            "count": 0
           },
           {
            "bin_start": 0.9,
            "bin_end": 1,
            "count": 0
           },
           {
            "bin_start": 1,
            "bin_end": 1.1,
            "count": 5
           },
           {
            "bin_start": 1.1,
            "bin_end": 1.2000000000000002,
            "count": 0
           },
           {
            "bin_start": 1.2000000000000002,
            "bin_end": 1.3,
            "count": 0
           },
           {
            "bin_start": 1.3,
            "bin_end": 1.4,
            "count": 0
           },
           {
            "bin_start": 1.4,
            "bin_end": 1.5,
            "count": 0
           }
          ]
         }
        },
        {
         "name": "Loan_Status",
         "dtype": "object",
         "stats": {
          "unique_count": 1,
          "nan_count": 0,
          "categories": [
           {
            "name": "Y",
            "count": 5
           }
          ]
         }
        },
        {
         "name": "_deepnote_index_column",
         "dtype": "int64"
        }
       ],
       "rows": [
        {
         "Gender_Female": 0,
         "Gender_Male": 1,
         "Married_No": 0,
         "Married_Yes": 1,
         "Education_Graduate": 1,
         "Education_Not Graduate": 0,
         "Self_Employed_No": 1,
         "Self_Employed_Yes": 0,
         "Property_Area_Rural": 0,
         "Property_Area_Semiurban": 0,
         "Property_Area_Urban": 1,
         "Dependents_0": 1,
         "Dependents_1": 0,
         "Dependents_2": 0,
         "Dependents_3+": 0,
         "ApplicantIncome": 5720,
         "CoapplicantIncome": 0,
         "LoanAmount": 110,
         "Loan_Amount_Term": 360,
         "Credit_History": 1,
         "Loan_Status": "Y",
         "_deepnote_index_column": 0
        },
        {
         "Gender_Female": 0,
         "Gender_Male": 1,
         "Married_No": 0,
         "Married_Yes": 1,
         "Education_Graduate": 1,
         "Education_Not Graduate": 0,
         "Self_Employed_No": 1,
         "Self_Employed_Yes": 0,
         "Property_Area_Rural": 0,
         "Property_Area_Semiurban": 0,
         "Property_Area_Urban": 1,
         "Dependents_0": 0,
         "Dependents_1": 1,
         "Dependents_2": 0,
         "Dependents_3+": 0,
         "ApplicantIncome": 3076,
         "CoapplicantIncome": 1500,
         "LoanAmount": 126,
         "Loan_Amount_Term": 360,
         "Credit_History": 1,
         "Loan_Status": "Y",
         "_deepnote_index_column": 1
        },
        {
         "Gender_Female": 0,
         "Gender_Male": 1,
         "Married_No": 0,
         "Married_Yes": 1,
         "Education_Graduate": 1,
         "Education_Not Graduate": 0,
         "Self_Employed_No": 1,
         "Self_Employed_Yes": 0,
         "Property_Area_Rural": 0,
         "Property_Area_Semiurban": 0,
         "Property_Area_Urban": 1,
         "Dependents_0": 0,
         "Dependents_1": 0,
         "Dependents_2": 1,
         "Dependents_3+": 0,
         "ApplicantIncome": 5000,
         "CoapplicantIncome": 1800,
         "LoanAmount": 208,
         "Loan_Amount_Term": 360,
         "Credit_History": 1,
         "Loan_Status": "Y",
         "_deepnote_index_column": 2
        },
        {
         "Gender_Female": 0,
         "Gender_Male": 1,
         "Married_No": 0,
         "Married_Yes": 1,
         "Education_Graduate": 1,
         "Education_Not Graduate": 0,
         "Self_Employed_No": 1,
         "Self_Employed_Yes": 0,
         "Property_Area_Rural": 0,
         "Property_Area_Semiurban": 0,
         "Property_Area_Urban": 1,
         "Dependents_0": 0,
         "Dependents_1": 0,
         "Dependents_2": 1,
         "Dependents_3+": 0,
         "ApplicantIncome": 2340,
         "CoapplicantIncome": 2546,
         "LoanAmount": 100,
         "Loan_Amount_Term": 360,
         "Credit_History": 1,
         "Loan_Status": "Y",
         "_deepnote_index_column": 3
        },
        {
         "Gender_Female": 0,
         "Gender_Male": 1,
         "Married_No": 1,
         "Married_Yes": 0,
         "Education_Graduate": 0,
         "Education_Not Graduate": 1,
         "Self_Employed_No": 1,
         "Self_Employed_Yes": 0,
         "Property_Area_Rural": 0,
         "Property_Area_Semiurban": 0,
         "Property_Area_Urban": 1,
         "Dependents_0": 1,
         "Dependents_1": 0,
         "Dependents_2": 0,
         "Dependents_3+": 0,
         "ApplicantIncome": 3276,
         "CoapplicantIncome": 0,
         "LoanAmount": 78,
         "Loan_Amount_Term": 360,
         "Credit_History": 1,
         "Loan_Status": "Y",
         "_deepnote_index_column": 4
        }
       ]
      },
      "text/plain": "   Gender_Female  Gender_Male  Married_No  Married_Yes  Education_Graduate  \\\n0              0            1           0            1                   1   \n1              0            1           0            1                   1   \n2              0            1           0            1                   1   \n3              0            1           0            1                   1   \n4              0            1           1            0                   0   \n\n   Education_Not Graduate  Self_Employed_No  Self_Employed_Yes  \\\n0                       0                 1                  0   \n1                       0                 1                  0   \n2                       0                 1                  0   \n3                       0                 1                  0   \n4                       1                 1                  0   \n\n   Property_Area_Rural  Property_Area_Semiurban  ...  Dependents_0  \\\n0                    0                        0  ...             1   \n1                    0                        0  ...             0   \n2                    0                        0  ...             0   \n3                    0                        0  ...             0   \n4                    0                        0  ...             1   \n\n   Dependents_1  Dependents_2  Dependents_3+  ApplicantIncome  \\\n0             0             0              0             5720   \n1             1             0              0             3076   \n2             0             1              0             5000   \n3             0             1              0             2340   \n4             0             0              0             3276   \n\n   CoapplicantIncome  LoanAmount  Loan_Amount_Term  Credit_History  \\\n0                  0       110.0             360.0             1.0   \n1               1500       126.0             360.0             1.0   \n2               1800       208.0             360.0             1.0   \n3               2546       100.0             360.0             1.0   \n4                  0        78.0             360.0             1.0   \n\n   Loan_Status  \n0            Y  \n1            Y  \n2            Y  \n3            Y  \n4            Y  \n\n[5 rows x 21 columns]",
      "text/html": "<div>\n<style scoped>\n    .dataframe tbody tr th:only-of-type {\n        vertical-align: middle;\n    }\n\n    .dataframe tbody tr th {\n        vertical-align: top;\n    }\n\n    .dataframe thead th {\n        text-align: right;\n    }\n</style>\n<table border=\"1\" class=\"dataframe\">\n  <thead>\n    <tr style=\"text-align: right;\">\n      <th></th>\n      <th>Gender_Female</th>\n      <th>Gender_Male</th>\n      <th>Married_No</th>\n      <th>Married_Yes</th>\n      <th>Education_Graduate</th>\n      <th>Education_Not Graduate</th>\n      <th>Self_Employed_No</th>\n      <th>Self_Employed_Yes</th>\n      <th>Property_Area_Rural</th>\n      <th>Property_Area_Semiurban</th>\n      <th>...</th>\n      <th>Dependents_0</th>\n      <th>Dependents_1</th>\n      <th>Dependents_2</th>\n      <th>Dependents_3+</th>\n      <th>ApplicantIncome</th>\n      <th>CoapplicantIncome</th>\n      <th>LoanAmount</th>\n      <th>Loan_Amount_Term</th>\n      <th>Credit_History</th>\n      <th>Loan_Status</th>\n    </tr>\n  </thead>\n  <tbody>\n    <tr>\n      <th>0</th>\n      <td>0</td>\n      <td>1</td>\n      <td>0</td>\n      <td>1</td>\n      <td>1</td>\n      <td>0</td>\n      <td>1</td>\n      <td>0</td>\n      <td>0</td>\n      <td>0</td>\n      <td>...</td>\n      <td>1</td>\n      <td>0</td>\n      <td>0</td>\n      <td>0</td>\n      <td>5720</td>\n      <td>0</td>\n      <td>110.0</td>\n      <td>360.0</td>\n      <td>1.0</td>\n      <td>Y</td>\n    </tr>\n    <tr>\n      <th>1</th>\n      <td>0</td>\n      <td>1</td>\n      <td>0</td>\n      <td>1</td>\n      <td>1</td>\n      <td>0</td>\n      <td>1</td>\n      <td>0</td>\n      <td>0</td>\n      <td>0</td>\n      <td>...</td>\n      <td>0</td>\n      <td>1</td>\n      <td>0</td>\n      <td>0</td>\n      <td>3076</td>\n      <td>1500</td>\n      <td>126.0</td>\n      <td>360.0</td>\n      <td>1.0</td>\n      <td>Y</td>\n    </tr>\n    <tr>\n      <th>2</th>\n      <td>0</td>\n      <td>1</td>\n      <td>0</td>\n      <td>1</td>\n      <td>1</td>\n      <td>0</td>\n      <td>1</td>\n      <td>0</td>\n      <td>0</td>\n      <td>0</td>\n      <td>...</td>\n      <td>0</td>\n      <td>0</td>\n      <td>1</td>\n      <td>0</td>\n      <td>5000</td>\n      <td>1800</td>\n      <td>208.0</td>\n      <td>360.0</td>\n      <td>1.0</td>\n      <td>Y</td>\n    </tr>\n    <tr>\n      <th>3</th>\n      <td>0</td>\n      <td>1</td>\n      <td>0</td>\n      <td>1</td>\n      <td>1</td>\n      <td>0</td>\n      <td>1</td>\n      <td>0</td>\n      <td>0</td>\n      <td>0</td>\n      <td>...</td>\n      <td>0</td>\n      <td>0</td>\n      <td>1</td>\n      <td>0</td>\n      <td>2340</td>\n      <td>2546</td>\n      <td>100.0</td>\n      <td>360.0</td>\n      <td>1.0</td>\n      <td>Y</td>\n    </tr>\n    <tr>\n      <th>4</th>\n      <td>0</td>\n      <td>1</td>\n      <td>1</td>\n      <td>0</td>\n      <td>0</td>\n      <td>1</td>\n      <td>1</td>\n      <td>0</td>\n      <td>0</td>\n      <td>0</td>\n      <td>...</td>\n      <td>1</td>\n      <td>0</td>\n      <td>0</td>\n      <td>0</td>\n      <td>3276</td>\n      <td>0</td>\n      <td>78.0</td>\n      <td>360.0</td>\n      <td>1.0</td>\n      <td>Y</td>\n    </tr>\n  </tbody>\n</table>\n<p>5 rows × 21 columns</p>\n</div>"
     },
     "metadata": {}
    }
   ]
  },
  {
   "cell_type": "markdown",
   "source": "### K-Nearest Neighbour",
   "metadata": {
    "formattedRanges": [],
    "is_collapsed": false,
    "tags": [],
    "cell_id": "00081-684d6fc3-2478-4381-99b3-c8da8978f685",
    "deepnote_cell_type": "text-cell-h3"
   }
  },
  {
   "cell_type": "code",
   "metadata": {
    "tags": [],
    "deepnote_to_be_reexecuted": false,
    "source_hash": "f8c3fe6d",
    "execution_start": 1659514970863,
    "execution_millis": 5,
    "cell_id": "00082-25fd7534-6438-4d11-8af4-edbecf9c597e",
    "deepnote_cell_type": "code",
    "deepnote_cell_height": 94
   },
   "source": "from sklearn.neighbors import KNeighborsClassifier\n",
   "execution_count": 63,
   "outputs": []
  },
  {
   "cell_type": "code",
   "metadata": {
    "tags": [],
    "deepnote_to_be_reexecuted": false,
    "source_hash": "8f68908e",
    "execution_start": 1659514970875,
    "execution_millis": 12,
    "cell_id": "00083-5c3dc071-ffcb-4e31-b68f-c570fa8e77cb",
    "deepnote_cell_type": "code",
    "deepnote_cell_height": 131.1875,
    "deepnote_output_heights": [
     21.1875
    ]
   },
   "source": "knn = KNeighborsClassifier(n_neighbors=5)\nknn.fit(x_train, y_train)",
   "execution_count": 64,
   "outputs": [
    {
     "output_type": "execute_result",
     "execution_count": 64,
     "data": {
      "text/plain": "KNeighborsClassifier()"
     },
     "metadata": {}
    }
   ]
  },
  {
   "cell_type": "code",
   "metadata": {
    "tags": [],
    "deepnote_to_be_reexecuted": false,
    "source_hash": "1d303e52",
    "execution_start": 1659514970892,
    "execution_millis": 53,
    "cell_id": "00084-3c62e7fc-9739-4c64-8f5b-17f3665d5aec",
    "deepnote_cell_type": "code",
    "deepnote_cell_height": 181
   },
   "source": "# Make predictions for the test set\npred_knn = knn.predict(x_cv)\nprint(f\"Accuracy Score : {accuracy_score(y_cv,pred_knn)}\")\nprint(f\"F1 Score: {f1_score(y_cv,pred_knn)}\")",
   "execution_count": 65,
   "outputs": [
    {
     "name": "stdout",
     "text": "Accuracy Score : 0.8540540540540541\nF1 Score: 0.9078498293515358\n",
     "output_type": "stream"
    }
   ]
  },
  {
   "cell_type": "code",
   "metadata": {
    "tags": [],
    "deepnote_to_be_reexecuted": false,
    "source_hash": "3d2fcc56",
    "execution_start": 1659514970930,
    "execution_millis": 555,
    "cell_id": "00085-9427b398-182c-44b0-a71b-56ec4452c9b3",
    "deepnote_cell_type": "code",
    "deepnote_cell_height": 202
   },
   "source": "error = []\n\n# Calculating error for K values between 1 and 40\nfor i in range(1, 40):\n    knn = KNeighborsClassifier(n_neighbors=i)\n    knn.fit(x_train, y_train)\n    pred_i = knn.predict(x_cv)\n    error.append(np.mean(pred_i != y_cv))",
   "execution_count": 66,
   "outputs": []
  },
  {
   "cell_type": "code",
   "metadata": {
    "tags": [],
    "deepnote_to_be_reexecuted": false,
    "source_hash": "533114b3",
    "execution_start": 1659514971497,
    "execution_millis": 320,
    "cell_id": "00086-17a06152-065d-4eb7-bbce-d4e4ba4d3f22",
    "deepnote_cell_type": "code",
    "deepnote_cell_height": 623.1875,
    "deepnote_output_heights": [
     21.1875,
     389
    ]
   },
   "source": "plt.figure(figsize=(12, 6))\nplt.plot(range(1, 40), error, color='red', linestyle='dashed', marker='o',\n         markerfacecolor='blue', markersize=10)\nplt.title('Error Rate K Value')\nplt.xlabel('K Value')\nplt.ylabel('Mean Error')",
   "execution_count": 67,
   "outputs": [
    {
     "output_type": "execute_result",
     "execution_count": 67,
     "data": {
      "text/plain": "Text(0, 0.5, 'Mean Error')"
     },
     "metadata": {}
    },
    {
     "data": {
      "text/plain": "<Figure size 864x432 with 1 Axes>",
      "image/png": "[encoded data removed]"
     },
     "metadata": {
      "needs_background": "light",
      "image/png": {
       "width": 727,
       "height": 387
      }
     },
     "output_type": "display_data"
    }
   ]
  },
  {
   "cell_type": "code",
   "source": "knn4 = KNeighborsClassifier(n_neighbors=3)\nknn4.fit(x_train, y_train)",
   "metadata": {
    "tags": [],
    "deepnote_to_be_reexecuted": false,
    "source_hash": "9a9e5fcc",
    "execution_start": 1659515099167,
    "execution_millis": 38,
    "cell_id": "00087-4b00b2fc-916a-4719-b094-980917147fee",
    "deepnote_cell_type": "code",
    "deepnote_cell_height": 131.1875,
    "deepnote_output_heights": [
     21.1875
    ]
   },
   "outputs": [
    {
     "output_type": "execute_result",
     "execution_count": 80,
     "data": {
      "text/plain": "KNeighborsClassifier(n_neighbors=4)"
     },
     "metadata": {}
    }
   ],
   "execution_count": null
  },
  {
   "cell_type": "code",
   "source": "# Make predictions for the test set\npred_knn4 = knn4.predict(x_cv)\nprint(f\"Accuracy Score : {accuracy_score(y_cv,pred_knn12)}\")\nprint(f\"F1 Score: {f1_score(y_cv,pred_knn12)}\")",
   "metadata": {
    "tags": [],
    "deepnote_to_be_reexecuted": false,
    "source_hash": "dfe263b8",
    "execution_start": 1659515101835,
    "execution_millis": 44,
    "cell_id": "00088-bf4d0644-3a0b-4203-bdce-3256e04bfd47",
    "deepnote_cell_type": "code",
    "deepnote_cell_height": 181
   },
   "execution_count": 82,
   "outputs": [
    {
     "name": "stdout",
     "text": "Accuracy Score : 0.8378378378378378\nF1 Score: 0.8986486486486487\n",
     "output_type": "stream"
    }
   ]
  },
  {
   "cell_type": "code",
   "source": "confusion_matrix_knn = confusion_matrix(y_cv, pred_knn4)\n\nax= plt.subplot()\nsns.heatmap(confusion_matrix_knn, annot=True, fmt='g', ax=ax);  #annot=True to annotate cells, ftm='g' to disable scientific notation\n\n# labels, title and ticks\nax.set_xlabel('Predicted labels');ax.set_ylabel('True labels'); \nax.set_title('Confusion Matrix'); \nax.xaxis.set_ticklabels(['Y', 'N']); ax.yaxis.set_ticklabels(['Y', 'N']);",
   "metadata": {
    "tags": [],
    "deepnote_to_be_reexecuted": false,
    "source_hash": "7e8d3f00",
    "execution_start": 1659514971906,
    "execution_millis": 231,
    "cell_id": "00089-9527ac78-0295-4bc7-a081-248a61a72d1a",
    "deepnote_cell_type": "code",
    "deepnote_cell_height": 521,
    "deepnote_output_heights": [
     280
    ]
   },
   "outputs": [
    {
     "data": {
      "text/plain": "<Figure size 432x288 with 2 Axes>",
      "image/png": "[encoded data removed]"
     },
     "metadata": {
      "needs_background": "light",
      "image/png": {
       "width": 366,
       "height": 278
      }
     },
     "output_type": "display_data"
    }
   ],
   "execution_count": null
  },
  {
   "cell_type": "code",
   "source": "# pred_test_knn = knn12.predict(data_test)\npred_test_knn = knn12.predict(data_test_opt)\n\ndata_test_knn = data_test.copy()\ndata_test_knn['Loan_Status'] = pred_test_knn\ndata_test_knn['Loan_Status'] = data_test_knn['Loan_Status'].replace({0: 'N', 1 : 'Y'})\ndata_test_knn.head()\n",
   "metadata": {
    "tags": [],
    "deepnote_to_be_reexecuted": false,
    "source_hash": "8e5944ce",
    "execution_start": 1659514972193,
    "execution_millis": 38,
    "cell_id": "00090-11d929dc-fc71-4070-a4cd-a5f7d3fe0a93",
    "deepnote_cell_type": "code",
    "deepnote_cell_height": 532.796875
   },
   "execution_count": 71,
   "outputs": [
    {
     "output_type": "execute_result",
     "execution_count": 71,
     "data": {
      "application/vnd.deepnote.dataframe.v3+json": {
       "column_count": 21,
       "row_count": 5,
       "columns": [
        {
         "name": "Gender_Female",
         "dtype": "uint8",
         "stats": {
          "unique_count": 1,
          "nan_count": 0,
          "min": "0",
          "max": "0",
          "histogram": [
           {
            "bin_start": -0.5,
            "bin_end": -0.4,
            "count": 0
           },
           {
            "bin_start": -0.4,
            "bin_end": -0.3,
            "count": 0
           },
           {
            "bin_start": -0.3,
            "bin_end": -0.19999999999999996,
            "count": 0
           },
           {
            "bin_start": -0.19999999999999996,
            "bin_end": -0.09999999999999998,
            "count": 0
           },
           {
            "bin_start": -0.09999999999999998,
            "bin_end": 0,
            "count": 0
           },
           {
            "bin_start": 0,
            "bin_end": 0.10000000000000009,
            "count": 5
           },
           {
            "bin_start": 0.10000000000000009,
            "bin_end": 0.20000000000000007,
            "count": 0
           },
           {
            "bin_start": 0.20000000000000007,
            "bin_end": 0.30000000000000004,
            "count": 0
           },
           {
            "bin_start": 0.30000000000000004,
            "bin_end": 0.4,
            "count": 0
           },
           {
            "bin_start": 0.4,
            "bin_end": 0.5,
            "count": 0
           }
          ]
         }
        },
        {
         "name": "Gender_Male",
         "dtype": "uint8",
         "stats": {
          "unique_count": 1,
          "nan_count": 0,
          "min": "1",
          "max": "1",
          "histogram": [
           {
            "bin_start": 0.5,
            "bin_end": 0.6,
            "count": 0
           },
           {
            "bin_start": 0.6,
            "bin_end": 0.7,
            "count": 0
           },
           {
            "bin_start": 0.7,
            "bin_end": 0.8,
            "count": 0
           },
           {
            "bin_start": 0.8,
            "bin_end": 0.9,
            "count": 0
           },
           {
            "bin_start": 0.9,
            "bin_end": 1,
            "count": 0
           },
           {
            "bin_start": 1,
            "bin_end": 1.1,
            "count": 5
           },
           {
            "bin_start": 1.1,
            "bin_end": 1.2000000000000002,
            "count": 0
           },
           {
            "bin_start": 1.2000000000000002,
            "bin_end": 1.3,
            "count": 0
           },
           {
            "bin_start": 1.3,
            "bin_end": 1.4,
            "count": 0
           },
           {
            "bin_start": 1.4,
            "bin_end": 1.5,
            "count": 0
           }
          ]
         }
        },
        {
         "name": "Married_No",
         "dtype": "uint8",
         "stats": {
          "unique_count": 2,
          "nan_count": 0,
          "min": "0",
          "max": "1",
          "histogram": [
           {
            "bin_start": 0,
            "bin_end": 0.1,
            "count": 4
           },
           {
            "bin_start": 0.1,
            "bin_end": 0.2,
            "count": 0
           },
           {
            "bin_start": 0.2,
            "bin_end": 0.30000000000000004,
            "count": 0
           },
           {
            "bin_start": 0.30000000000000004,
            "bin_end": 0.4,
            "count": 0
           },
           {
            "bin_start": 0.4,
            "bin_end": 0.5,
            "count": 0
           },
           {
            "bin_start": 0.5,
            "bin_end": 0.6000000000000001,
            "count": 0
           },
           {
            "bin_start": 0.6000000000000001,
            "bin_end": 0.7000000000000001,
            "count": 0
           },
           {
            "bin_start": 0.7000000000000001,
            "bin_end": 0.8,
            "count": 0
           },
           {
            "bin_start": 0.8,
            "bin_end": 0.9,
            "count": 0
           },
           {
            "bin_start": 0.9,
            "bin_end": 1,
            "count": 1
           }
          ]
         }
        },
        {
         "name": "Married_Yes",
         "dtype": "uint8",
         "stats": {
          "unique_count": 2,
          "nan_count": 0,
          "min": "0",
          "max": "1",
          "histogram": [
           {
            "bin_start": 0,
            "bin_end": 0.1,
            "count": 1
           },
           {
            "bin_start": 0.1,
            "bin_end": 0.2,
            "count": 0
           },
           {
            "bin_start": 0.2,
            "bin_end": 0.30000000000000004,
            "count": 0
           },
           {
            "bin_start": 0.30000000000000004,
            "bin_end": 0.4,
            "count": 0
           },
           {
            "bin_start": 0.4,
            "bin_end": 0.5,
            "count": 0
           },
           {
            "bin_start": 0.5,
            "bin_end": 0.6000000000000001,
            "count": 0
           },
           {
            "bin_start": 0.6000000000000001,
            "bin_end": 0.7000000000000001,
            "count": 0
           },
           {
            "bin_start": 0.7000000000000001,
            "bin_end": 0.8,
            "count": 0
           },
           {
            "bin_start": 0.8,
            "bin_end": 0.9,
            "count": 0
           },
           {
            "bin_start": 0.9,
            "bin_end": 1,
            "count": 4
           }
          ]
         }
        },
        {
         "name": "Education_Graduate",
         "dtype": "uint8",
         "stats": {
          "unique_count": 2,
          "nan_count": 0,
          "min": "0",
          "max": "1",
          "histogram": [
           {
            "bin_start": 0,
            "bin_end": 0.1,
            "count": 1
           },
           {
            "bin_start": 0.1,
            "bin_end": 0.2,
            "count": 0
           },
           {
            "bin_start": 0.2,
            "bin_end": 0.30000000000000004,
            "count": 0
           },
           {
            "bin_start": 0.30000000000000004,
            "bin_end": 0.4,
            "count": 0
           },
           {
            "bin_start": 0.4,
            "bin_end": 0.5,
            "count": 0
           },
           {
            "bin_start": 0.5,
            "bin_end": 0.6000000000000001,
            "count": 0
           },
           {
            "bin_start": 0.6000000000000001,
            "bin_end": 0.7000000000000001,
            "count": 0
           },
           {
            "bin_start": 0.7000000000000001,
            "bin_end": 0.8,
            "count": 0
           },
           {
            "bin_start": 0.8,
            "bin_end": 0.9,
            "count": 0
           },
           {
            "bin_start": 0.9,
            "bin_end": 1,
            "count": 4
           }
          ]
         }
        },
        {
         "name": "Education_Not Graduate",
         "dtype": "uint8",
         "stats": {
          "unique_count": 2,
          "nan_count": 0,
          "min": "0",
          "max": "1",
          "histogram": [
           {
            "bin_start": 0,
            "bin_end": 0.1,
            "count": 4
           },
           {
            "bin_start": 0.1,
            "bin_end": 0.2,
            "count": 0
           },
           {
            "bin_start": 0.2,
            "bin_end": 0.30000000000000004,
            "count": 0
           },
           {
            "bin_start": 0.30000000000000004,
            "bin_end": 0.4,
            "count": 0
           },
           {
            "bin_start": 0.4,
            "bin_end": 0.5,
            "count": 0
           },
           {
            "bin_start": 0.5,
            "bin_end": 0.6000000000000001,
            "count": 0
           },
           {
            "bin_start": 0.6000000000000001,
            "bin_end": 0.7000000000000001,
            "count": 0
           },
           {
            "bin_start": 0.7000000000000001,
            "bin_end": 0.8,
            "count": 0
           },
           {
            "bin_start": 0.8,
            "bin_end": 0.9,
            "count": 0
           },
           {
            "bin_start": 0.9,
            "bin_end": 1,
            "count": 1
           }
          ]
         }
        },
        {
         "name": "Self_Employed_No",
         "dtype": "uint8",
         "stats": {
          "unique_count": 1,
          "nan_count": 0,
          "min": "1",
          "max": "1",
          "histogram": [
           {
            "bin_start": 0.5,
            "bin_end": 0.6,
            "count": 0
           },
           {
            "bin_start": 0.6,
            "bin_end": 0.7,
            "count": 0
           },
           {
            "bin_start": 0.7,
            "bin_end": 0.8,
            "count": 0
           },
           {
            "bin_start": 0.8,
            "bin_end": 0.9,
            "count": 0
           },
           {
            "bin_start": 0.9,
            "bin_end": 1,
            "count": 0
           },
           {
            "bin_start": 1,
            "bin_end": 1.1,
            "count": 5
           },
           {
            "bin_start": 1.1,
            "bin_end": 1.2000000000000002,
            "count": 0
           },
           {
            "bin_start": 1.2000000000000002,
            "bin_end": 1.3,
            "count": 0
           },
           {
            "bin_start": 1.3,
            "bin_end": 1.4,
            "count": 0
           },
           {
            "bin_start": 1.4,
            "bin_end": 1.5,
            "count": 0
           }
          ]
         }
        },
        {
         "name": "Self_Employed_Yes",
         "dtype": "uint8",
         "stats": {
          "unique_count": 1,
          "nan_count": 0,
          "min": "0",
          "max": "0",
          "histogram": [
           {
            "bin_start": -0.5,
            "bin_end": -0.4,
            "count": 0
           },
           {
            "bin_start": -0.4,
            "bin_end": -0.3,
            "count": 0
           },
           {
            "bin_start": -0.3,
            "bin_end": -0.19999999999999996,
            "count": 0
           },
           {
            "bin_start": -0.19999999999999996,
            "bin_end": -0.09999999999999998,
            "count": 0
           },
           {
            "bin_start": -0.09999999999999998,
            "bin_end": 0,
            "count": 0
           },
           {
            "bin_start": 0,
            "bin_end": 0.10000000000000009,
            "count": 5
           },
           {
            "bin_start": 0.10000000000000009,
            "bin_end": 0.20000000000000007,
            "count": 0
           },
           {
            "bin_start": 0.20000000000000007,
            "bin_end": 0.30000000000000004,
            "count": 0
           },
           {
            "bin_start": 0.30000000000000004,
            "bin_end": 0.4,
            "count": 0
           },
           {
            "bin_start": 0.4,
            "bin_end": 0.5,
            "count": 0
           }
          ]
         }
        },
        {
         "name": "Property_Area_Rural",
         "dtype": "uint8",
         "stats": {
          "unique_count": 1,
          "nan_count": 0,
          "min": "0",
          "max": "0",
          "histogram": [
           {
            "bin_start": -0.5,
            "bin_end": -0.4,
            "count": 0
           },
           {
            "bin_start": -0.4,
            "bin_end": -0.3,
            "count": 0
           },
           {
            "bin_start": -0.3,
            "bin_end": -0.19999999999999996,
            "count": 0
           },
           {
            "bin_start": -0.19999999999999996,
            "bin_end": -0.09999999999999998,
            "count": 0
           },
           {
            "bin_start": -0.09999999999999998,
            "bin_end": 0,
            "count": 0
           },
           {
            "bin_start": 0,
            "bin_end": 0.10000000000000009,
            "count": 5
           },
           {
            "bin_start": 0.10000000000000009,
            "bin_end": 0.20000000000000007,
            "count": 0
           },
           {
            "bin_start": 0.20000000000000007,
            "bin_end": 0.30000000000000004,
            "count": 0
           },
           {
            "bin_start": 0.30000000000000004,
            "bin_end": 0.4,
            "count": 0
           },
           {
            "bin_start": 0.4,
            "bin_end": 0.5,
            "count": 0
           }
          ]
         }
        },
        {
         "name": "Property_Area_Semiurban",
         "dtype": "uint8",
         "stats": {
          "unique_count": 1,
          "nan_count": 0,
          "min": "0",
          "max": "0",
          "histogram": [
           {
            "bin_start": -0.5,
            "bin_end": -0.4,
            "count": 0
           },
           {
            "bin_start": -0.4,
            "bin_end": -0.3,
            "count": 0
           },
           {
            "bin_start": -0.3,
            "bin_end": -0.19999999999999996,
            "count": 0
           },
           {
            "bin_start": -0.19999999999999996,
            "bin_end": -0.09999999999999998,
            "count": 0
           },
           {
            "bin_start": -0.09999999999999998,
            "bin_end": 0,
            "count": 0
           },
           {
            "bin_start": 0,
            "bin_end": 0.10000000000000009,
            "count": 5
           },
           {
            "bin_start": 0.10000000000000009,
            "bin_end": 0.20000000000000007,
            "count": 0
           },
           {
            "bin_start": 0.20000000000000007,
            "bin_end": 0.30000000000000004,
            "count": 0
           },
           {
            "bin_start": 0.30000000000000004,
            "bin_end": 0.4,
            "count": 0
           },
           {
            "bin_start": 0.4,
            "bin_end": 0.5,
            "count": 0
           }
          ]
         }
        },
        {
         "name": "Property_Area_Urban",
         "dtype": "uint8",
         "stats": {
          "unique_count": 1,
          "nan_count": 0,
          "min": "1",
          "max": "1",
          "histogram": [
           {
            "bin_start": 0.5,
            "bin_end": 0.6,
            "count": 0
           },
           {
            "bin_start": 0.6,
            "bin_end": 0.7,
            "count": 0
           },
           {
            "bin_start": 0.7,
            "bin_end": 0.8,
            "count": 0
           },
           {
            "bin_start": 0.8,
            "bin_end": 0.9,
            "count": 0
           },
           {
            "bin_start": 0.9,
            "bin_end": 1,
            "count": 0
           },
           {
            "bin_start": 1,
            "bin_end": 1.1,
            "count": 5
           },
           {
            "bin_start": 1.1,
            "bin_end": 1.2000000000000002,
            "count": 0
           },
           {
            "bin_start": 1.2000000000000002,
            "bin_end": 1.3,
            "count": 0
           },
           {
            "bin_start": 1.3,
            "bin_end": 1.4,
            "count": 0
           },
           {
            "bin_start": 1.4,
            "bin_end": 1.5,
            "count": 0
           }
          ]
         }
        },
        {
         "name": "Dependents_0",
         "dtype": "uint8",
         "stats": {
          "unique_count": 2,
          "nan_count": 0,
          "min": "0",
          "max": "1",
          "histogram": [
           {
            "bin_start": 0,
            "bin_end": 0.1,
            "count": 3
           },
           {
            "bin_start": 0.1,
            "bin_end": 0.2,
            "count": 0
           },
           {
            "bin_start": 0.2,
            "bin_end": 0.30000000000000004,
            "count": 0
           },
           {
            "bin_start": 0.30000000000000004,
            "bin_end": 0.4,
            "count": 0
           },
           {
            "bin_start": 0.4,
            "bin_end": 0.5,
            "count": 0
           },
           {
            "bin_start": 0.5,
            "bin_end": 0.6000000000000001,
            "count": 0
           },
           {
            "bin_start": 0.6000000000000001,
            "bin_end": 0.7000000000000001,
            "count": 0
           },
           {
            "bin_start": 0.7000000000000001,
            "bin_end": 0.8,
            "count": 0
           },
           {
            "bin_start": 0.8,
            "bin_end": 0.9,
            "count": 0
           },
           {
            "bin_start": 0.9,
            "bin_end": 1,
            "count": 2
           }
          ]
         }
        },
        {
         "name": "Dependents_1",
         "dtype": "uint8",
         "stats": {
          "unique_count": 2,
          "nan_count": 0,
          "min": "0",
          "max": "1",
          "histogram": [
           {
            "bin_start": 0,
            "bin_end": 0.1,
            "count": 4
           },
           {
            "bin_start": 0.1,
            "bin_end": 0.2,
            "count": 0
           },
           {
            "bin_start": 0.2,
            "bin_end": 0.30000000000000004,
            "count": 0
           },
           {
            "bin_start": 0.30000000000000004,
            "bin_end": 0.4,
            "count": 0
           },
           {
            "bin_start": 0.4,
            "bin_end": 0.5,
            "count": 0
           },
           {
            "bin_start": 0.5,
            "bin_end": 0.6000000000000001,
            "count": 0
           },
           {
            "bin_start": 0.6000000000000001,
            "bin_end": 0.7000000000000001,
            "count": 0
           },
           {
            "bin_start": 0.7000000000000001,
            "bin_end": 0.8,
            "count": 0
           },
           {
            "bin_start": 0.8,
            "bin_end": 0.9,
            "count": 0
           },
           {
            "bin_start": 0.9,
            "bin_end": 1,
            "count": 1
           }
          ]
         }
        },
        {
         "name": "Dependents_2",
         "dtype": "uint8",
         "stats": {
          "unique_count": 2,
          "nan_count": 0,
          "min": "0",
          "max": "1",
          "histogram": [
           {
            "bin_start": 0,
            "bin_end": 0.1,
            "count": 3
           },
           {
            "bin_start": 0.1,
            "bin_end": 0.2,
            "count": 0
           },
           {
            "bin_start": 0.2,
            "bin_end": 0.30000000000000004,
            "count": 0
           },
           {
            "bin_start": 0.30000000000000004,
            "bin_end": 0.4,
            "count": 0
           },
           {
            "bin_start": 0.4,
            "bin_end": 0.5,
            "count": 0
           },
           {
            "bin_start": 0.5,
            "bin_end": 0.6000000000000001,
            "count": 0
           },
           {
            "bin_start": 0.6000000000000001,
            "bin_end": 0.7000000000000001,
            "count": 0
           },
           {
            "bin_start": 0.7000000000000001,
            "bin_end": 0.8,
            "count": 0
           },
           {
            "bin_start": 0.8,
            "bin_end": 0.9,
            "count": 0
           },
           {
            "bin_start": 0.9,
            "bin_end": 1,
            "count": 2
           }
          ]
         }
        },
        {
         "name": "Dependents_3+",
         "dtype": "uint8",
         "stats": {
          "unique_count": 1,
          "nan_count": 0,
          "min": "0",
          "max": "0",
          "histogram": [
           {
            "bin_start": -0.5,
            "bin_end": -0.4,
            "count": 0
           },
           {
            "bin_start": -0.4,
            "bin_end": -0.3,
            "count": 0
           },
           {
            "bin_start": -0.3,
            "bin_end": -0.19999999999999996,
            "count": 0
           },
           {
            "bin_start": -0.19999999999999996,
            "bin_end": -0.09999999999999998,
            "count": 0
           },
           {
            "bin_start": -0.09999999999999998,
            "bin_end": 0,
            "count": 0
           },
           {
            "bin_start": 0,
            "bin_end": 0.10000000000000009,
            "count": 5
           },
           {
            "bin_start": 0.10000000000000009,
            "bin_end": 0.20000000000000007,
            "count": 0
           },
           {
            "bin_start": 0.20000000000000007,
            "bin_end": 0.30000000000000004,
            "count": 0
           },
           {
            "bin_start": 0.30000000000000004,
            "bin_end": 0.4,
            "count": 0
           },
           {
            "bin_start": 0.4,
            "bin_end": 0.5,
            "count": 0
           }
          ]
         }
        },
        {
         "name": "ApplicantIncome",
         "dtype": "int64",
         "stats": {
          "unique_count": 5,
          "nan_count": 0,
          "min": "2340",
          "max": "5720",
          "histogram": [
           {
            "bin_start": 2340,
            "bin_end": 2678,
            "count": 1
           },
           {
            "bin_start": 2678,
            "bin_end": 3016,
            "count": 0
           },
           {
            "bin_start": 3016,
            "bin_end": 3354,
            "count": 2
           },
           {
            "bin_start": 3354,
            "bin_end": 3692,
            "count": 0
           },
           {
            "bin_start": 3692,
            "bin_end": 4030,
            "count": 0
           },
           {
            "bin_start": 4030,
            "bin_end": 4368,
            "count": 0
           },
           {
            "bin_start": 4368,
            "bin_end": 4706,
            "count": 0
           },
           {
            "bin_start": 4706,
            "bin_end": 5044,
            "count": 1
           },
           {
            "bin_start": 5044,
            "bin_end": 5382,
            "count": 0
           },
           {
            "bin_start": 5382,
            "bin_end": 5720,
            "count": 1
           }
          ]
         }
        },
        {
         "name": "CoapplicantIncome",
         "dtype": "int64",
         "stats": {
          "unique_count": 4,
          "nan_count": 0,
          "min": "0",
          "max": "2546",
          "histogram": [
           {
            "bin_start": 0,
            "bin_end": 254.6,
            "count": 2
           },
           {
            "bin_start": 254.6,
            "bin_end": 509.2,
            "count": 0
           },
           {
            "bin_start": 509.2,
            "bin_end": 763.8,
            "count": 0
           },
           {
            "bin_start": 763.8,
            "bin_end": 1018.4,
            "count": 0
           },
           {
            "bin_start": 1018.4,
            "bin_end": 1273,
            "count": 0
           },
           {
            "bin_start": 1273,
            "bin_end": 1527.6,
            "count": 1
           },
           {
            "bin_start": 1527.6,
            "bin_end": 1782.2,
            "count": 0
           },
           {
            "bin_start": 1782.2,
            "bin_end": 2036.8,
            "count": 1
           },
           {
            "bin_start": 2036.8,
            "bin_end": 2291.4,
            "count": 0
           },
           {
            "bin_start": 2291.4,
            "bin_end": 2546,
            "count": 1
           }
          ]
         }
        },
        {
         "name": "LoanAmount",
         "dtype": "float64",
         "stats": {
          "unique_count": 5,
          "nan_count": 0,
          "min": "78.0",
          "max": "208.0",
          "histogram": [
           {
            "bin_start": 78,
            "bin_end": 91,
            "count": 1
           },
           {
            "bin_start": 91,
            "bin_end": 104,
            "count": 1
           },
           {
            "bin_start": 104,
            "bin_end": 117,
            "count": 1
           },
           {
            "bin_start": 117,
            "bin_end": 130,
            "count": 1
           },
           {
            "bin_start": 130,
            "bin_end": 143,
            "count": 0
           },
           {
            "bin_start": 143,
            "bin_end": 156,
            "count": 0
           },
           {
            "bin_start": 156,
            "bin_end": 169,
            "count": 0
           },
           {
            "bin_start": 169,
            "bin_end": 182,
            "count": 0
           },
           {
            "bin_start": 182,
            "bin_end": 195,
            "count": 0
           },
           {
            "bin_start": 195,
            "bin_end": 208,
            "count": 1
           }
          ]
         }
        },
        {
         "name": "Loan_Amount_Term",
         "dtype": "float64",
         "stats": {
          "unique_count": 1,
          "nan_count": 0,
          "min": "360.0",
          "max": "360.0",
          "histogram": [
           {
            "bin_start": 359.5,
            "bin_end": 359.6,
            "count": 0
           },
           {
            "bin_start": 359.6,
            "bin_end": 359.7,
            "count": 0
           },
           {
            "bin_start": 359.7,
            "bin_end": 359.8,
            "count": 0
           },
           {
            "bin_start": 359.8,
            "bin_end": 359.9,
            "count": 0
           },
           {
            "bin_start": 359.9,
            "bin_end": 360,
            "count": 0
           },
           {
            "bin_start": 360,
            "bin_end": 360.1,
            "count": 5
           },
           {
            "bin_start": 360.1,
            "bin_end": 360.2,
            "count": 0
           },
           {
            "bin_start": 360.2,
            "bin_end": 360.3,
            "count": 0
           },
           {
            "bin_start": 360.3,
            "bin_end": 360.4,
            "count": 0
           },
           {
            "bin_start": 360.4,
            "bin_end": 360.5,
            "count": 0
           }
          ]
         }
        },
        {
         "name": "Credit_History",
         "dtype": "float64",
         "stats": {
          "unique_count": 1,
          "nan_count": 0,
          "min": "1.0",
          "max": "1.0",
          "histogram": [
           {
            "bin_start": 0.5,
            "bin_end": 0.6,
            "count": 0
           },
           {
            "bin_start": 0.6,
            "bin_end": 0.7,
            "count": 0
           },
           {
            "bin_start": 0.7,
            "bin_end": 0.8,
            "count": 0
           },
           {
            "bin_start": 0.8,
            "bin_end": 0.9,
            "count": 0
           },
           {
            "bin_start": 0.9,
            "bin_end": 1,
            "count": 0
           },
           {
            "bin_start": 1,
            "bin_end": 1.1,
            "count": 5
           },
           {
            "bin_start": 1.1,
            "bin_end": 1.2000000000000002,
            "count": 0
           },
           {
            "bin_start": 1.2000000000000002,
            "bin_end": 1.3,
            "count": 0
           },
           {
            "bin_start": 1.3,
            "bin_end": 1.4,
            "count": 0
           },
           {
            "bin_start": 1.4,
            "bin_end": 1.5,
            "count": 0
           }
          ]
         }
        },
        {
         "name": "Loan_Status",
         "dtype": "object",
         "stats": {
          "unique_count": 1,
          "nan_count": 0,
          "categories": [
           {
            "name": "Y",
            "count": 5
           }
          ]
         }
        },
        {
         "name": "_deepnote_index_column",
         "dtype": "int64"
        }
       ],
       "rows": [
        {
         "Gender_Female": 0,
         "Gender_Male": 1,
         "Married_No": 0,
         "Married_Yes": 1,
         "Education_Graduate": 1,
         "Education_Not Graduate": 0,
         "Self_Employed_No": 1,
         "Self_Employed_Yes": 0,
         "Property_Area_Rural": 0,
         "Property_Area_Semiurban": 0,
         "Property_Area_Urban": 1,
         "Dependents_0": 1,
         "Dependents_1": 0,
         "Dependents_2": 0,
         "Dependents_3+": 0,
         "ApplicantIncome": 5720,
         "CoapplicantIncome": 0,
         "LoanAmount": 110,
         "Loan_Amount_Term": 360,
         "Credit_History": 1,
         "Loan_Status": "Y",
         "_deepnote_index_column": 0
        },
        {
         "Gender_Female": 0,
         "Gender_Male": 1,
         "Married_No": 0,
         "Married_Yes": 1,
         "Education_Graduate": 1,
         "Education_Not Graduate": 0,
         "Self_Employed_No": 1,
         "Self_Employed_Yes": 0,
         "Property_Area_Rural": 0,
         "Property_Area_Semiurban": 0,
         "Property_Area_Urban": 1,
         "Dependents_0": 0,
         "Dependents_1": 1,
         "Dependents_2": 0,
         "Dependents_3+": 0,
         "ApplicantIncome": 3076,
         "CoapplicantIncome": 1500,
         "LoanAmount": 126,
         "Loan_Amount_Term": 360,
         "Credit_History": 1,
         "Loan_Status": "Y",
         "_deepnote_index_column": 1
        },
        {
         "Gender_Female": 0,
         "Gender_Male": 1,
         "Married_No": 0,
         "Married_Yes": 1,
         "Education_Graduate": 1,
         "Education_Not Graduate": 0,
         "Self_Employed_No": 1,
         "Self_Employed_Yes": 0,
         "Property_Area_Rural": 0,
         "Property_Area_Semiurban": 0,
         "Property_Area_Urban": 1,
         "Dependents_0": 0,
         "Dependents_1": 0,
         "Dependents_2": 1,
         "Dependents_3+": 0,
         "ApplicantIncome": 5000,
         "CoapplicantIncome": 1800,
         "LoanAmount": 208,
         "Loan_Amount_Term": 360,
         "Credit_History": 1,
         "Loan_Status": "Y",
         "_deepnote_index_column": 2
        },
        {
         "Gender_Female": 0,
         "Gender_Male": 1,
         "Married_No": 0,
         "Married_Yes": 1,
         "Education_Graduate": 1,
         "Education_Not Graduate": 0,
         "Self_Employed_No": 1,
         "Self_Employed_Yes": 0,
         "Property_Area_Rural": 0,
         "Property_Area_Semiurban": 0,
         "Property_Area_Urban": 1,
         "Dependents_0": 0,
         "Dependents_1": 0,
         "Dependents_2": 1,
         "Dependents_3+": 0,
         "ApplicantIncome": 2340,
         "CoapplicantIncome": 2546,
         "LoanAmount": 100,
         "Loan_Amount_Term": 360,
         "Credit_History": 1,
         "Loan_Status": "Y",
         "_deepnote_index_column": 3
        },
        {
         "Gender_Female": 0,
         "Gender_Male": 1,
         "Married_No": 1,
         "Married_Yes": 0,
         "Education_Graduate": 0,
         "Education_Not Graduate": 1,
         "Self_Employed_No": 1,
         "Self_Employed_Yes": 0,
         "Property_Area_Rural": 0,
         "Property_Area_Semiurban": 0,
         "Property_Area_Urban": 1,
         "Dependents_0": 1,
         "Dependents_1": 0,
         "Dependents_2": 0,
         "Dependents_3+": 0,
         "ApplicantIncome": 3276,
         "CoapplicantIncome": 0,
         "LoanAmount": 78,
         "Loan_Amount_Term": 360,
         "Credit_History": 1,
         "Loan_Status": "Y",
         "_deepnote_index_column": 4
        }
       ]
      },
      "text/plain": "   Gender_Female  Gender_Male  Married_No  Married_Yes  Education_Graduate  \\\n0              0            1           0            1                   1   \n1              0            1           0            1                   1   \n2              0            1           0            1                   1   \n3              0            1           0            1                   1   \n4              0            1           1            0                   0   \n\n   Education_Not Graduate  Self_Employed_No  Self_Employed_Yes  \\\n0                       0                 1                  0   \n1                       0                 1                  0   \n2                       0                 1                  0   \n3                       0                 1                  0   \n4                       1                 1                  0   \n\n   Property_Area_Rural  Property_Area_Semiurban  ...  Dependents_0  \\\n0                    0                        0  ...             1   \n1                    0                        0  ...             0   \n2                    0                        0  ...             0   \n3                    0                        0  ...             0   \n4                    0                        0  ...             1   \n\n   Dependents_1  Dependents_2  Dependents_3+  ApplicantIncome  \\\n0             0             0              0             5720   \n1             1             0              0             3076   \n2             0             1              0             5000   \n3             0             1              0             2340   \n4             0             0              0             3276   \n\n   CoapplicantIncome  LoanAmount  Loan_Amount_Term  Credit_History  \\\n0                  0       110.0             360.0             1.0   \n1               1500       126.0             360.0             1.0   \n2               1800       208.0             360.0             1.0   \n3               2546       100.0             360.0             1.0   \n4                  0        78.0             360.0             1.0   \n\n   Loan_Status  \n0            Y  \n1            Y  \n2            Y  \n3            Y  \n4            Y  \n\n[5 rows x 21 columns]",
      "text/html": "<div>\n<style scoped>\n    .dataframe tbody tr th:only-of-type {\n        vertical-align: middle;\n    }\n\n    .dataframe tbody tr th {\n        vertical-align: top;\n    }\n\n    .dataframe thead th {\n        text-align: right;\n    }\n</style>\n<table border=\"1\" class=\"dataframe\">\n  <thead>\n    <tr style=\"text-align: right;\">\n      <th></th>\n      <th>Gender_Female</th>\n      <th>Gender_Male</th>\n      <th>Married_No</th>\n      <th>Married_Yes</th>\n      <th>Education_Graduate</th>\n      <th>Education_Not Graduate</th>\n      <th>Self_Employed_No</th>\n      <th>Self_Employed_Yes</th>\n      <th>Property_Area_Rural</th>\n      <th>Property_Area_Semiurban</th>\n      <th>...</th>\n      <th>Dependents_0</th>\n      <th>Dependents_1</th>\n      <th>Dependents_2</th>\n      <th>Dependents_3+</th>\n      <th>ApplicantIncome</th>\n      <th>CoapplicantIncome</th>\n      <th>LoanAmount</th>\n      <th>Loan_Amount_Term</th>\n      <th>Credit_History</th>\n      <th>Loan_Status</th>\n    </tr>\n  </thead>\n  <tbody>\n    <tr>\n      <th>0</th>\n      <td>0</td>\n      <td>1</td>\n      <td>0</td>\n      <td>1</td>\n      <td>1</td>\n      <td>0</td>\n      <td>1</td>\n      <td>0</td>\n      <td>0</td>\n      <td>0</td>\n      <td>...</td>\n      <td>1</td>\n      <td>0</td>\n      <td>0</td>\n      <td>0</td>\n      <td>5720</td>\n      <td>0</td>\n      <td>110.0</td>\n      <td>360.0</td>\n      <td>1.0</td>\n      <td>Y</td>\n    </tr>\n    <tr>\n      <th>1</th>\n      <td>0</td>\n      <td>1</td>\n      <td>0</td>\n      <td>1</td>\n      <td>1</td>\n      <td>0</td>\n      <td>1</td>\n      <td>0</td>\n      <td>0</td>\n      <td>0</td>\n      <td>...</td>\n      <td>0</td>\n      <td>1</td>\n      <td>0</td>\n      <td>0</td>\n      <td>3076</td>\n      <td>1500</td>\n      <td>126.0</td>\n      <td>360.0</td>\n      <td>1.0</td>\n      <td>Y</td>\n    </tr>\n    <tr>\n      <th>2</th>\n      <td>0</td>\n      <td>1</td>\n      <td>0</td>\n      <td>1</td>\n      <td>1</td>\n      <td>0</td>\n      <td>1</td>\n      <td>0</td>\n      <td>0</td>\n      <td>0</td>\n      <td>...</td>\n      <td>0</td>\n      <td>0</td>\n      <td>1</td>\n      <td>0</td>\n      <td>5000</td>\n      <td>1800</td>\n      <td>208.0</td>\n      <td>360.0</td>\n      <td>1.0</td>\n      <td>Y</td>\n    </tr>\n    <tr>\n      <th>3</th>\n      <td>0</td>\n      <td>1</td>\n      <td>0</td>\n      <td>1</td>\n      <td>1</td>\n      <td>0</td>\n      <td>1</td>\n      <td>0</td>\n      <td>0</td>\n      <td>0</td>\n      <td>...</td>\n      <td>0</td>\n      <td>0</td>\n      <td>1</td>\n      <td>0</td>\n      <td>2340</td>\n      <td>2546</td>\n      <td>100.0</td>\n      <td>360.0</td>\n      <td>1.0</td>\n      <td>Y</td>\n    </tr>\n    <tr>\n      <th>4</th>\n      <td>0</td>\n      <td>1</td>\n      <td>1</td>\n      <td>0</td>\n      <td>0</td>\n      <td>1</td>\n      <td>1</td>\n      <td>0</td>\n      <td>0</td>\n      <td>0</td>\n      <td>...</td>\n      <td>1</td>\n      <td>0</td>\n      <td>0</td>\n      <td>0</td>\n      <td>3276</td>\n      <td>0</td>\n      <td>78.0</td>\n      <td>360.0</td>\n      <td>1.0</td>\n      <td>Y</td>\n    </tr>\n  </tbody>\n</table>\n<p>5 rows × 21 columns</p>\n</div>"
     },
     "metadata": {}
    }
   ]
  },
  {
   "cell_type": "markdown",
   "source": "# Pycaret",
   "metadata": {
    "formattedRanges": [],
    "is_collapsed": false,
    "tags": [],
    "cell_id": "00091-8fe94d0f-990f-4314-8f95-a161606497e7",
    "deepnote_cell_type": "text-cell-h1"
   }
  },
  {
   "cell_type": "code",
   "metadata": {
    "tags": [],
    "deepnote_to_be_reexecuted": false,
    "source_hash": "a8690d93",
    "execution_start": 1659514972232,
    "execution_millis": 1,
    "cell_id": "00092-be072151-71d6-43cc-a907-7f190fec9f1b",
    "deepnote_cell_type": "code",
    "deepnote_cell_height": 94
   },
   "source": "# import pycaret\n# from pycaret.classification import *",
   "execution_count": 72,
   "outputs": []
  },
  {
   "cell_type": "code",
   "metadata": {
    "tags": [],
    "deepnote_to_be_reexecuted": false,
    "source_hash": "ef48f582",
    "execution_start": 1659514972264,
    "execution_millis": 1,
    "cell_id": "00093-6e9da31f-b240-4abb-b8f6-e38b2fa3eb40",
    "deepnote_cell_type": "code",
    "deepnote_cell_height": 94
   },
   "source": "# df_caert = df.copy()\n",
   "execution_count": 73,
   "outputs": []
  },
  {
   "cell_type": "code",
   "metadata": {
    "tags": [],
    "deepnote_to_be_reexecuted": false,
    "source_hash": "72e750b",
    "execution_start": 1659514972265,
    "execution_millis": 248858,
    "cell_id": "00094-ad10de47-4087-4c71-9f5e-2f180aa679f7",
    "deepnote_cell_type": "code",
    "deepnote_cell_height": 76
   },
   "source": "# df_caert.head()",
   "execution_count": 74,
   "outputs": []
  },
  {
   "cell_type": "code",
   "metadata": {
    "tags": [],
    "deepnote_to_be_reexecuted": false,
    "source_hash": "3a0d9b3e",
    "execution_start": 1659514972266,
    "execution_millis": 248858,
    "cell_id": "00095-420bb143-0378-4102-980e-b020eb59952b",
    "deepnote_cell_type": "code",
    "deepnote_cell_height": 76
   },
   "source": "# classify = setup(data = df_caert, target = 'Loan_Status')",
   "execution_count": 75,
   "outputs": []
  },
  {
   "cell_type": "code",
   "metadata": {
    "tags": [],
    "deepnote_to_be_reexecuted": false,
    "source_hash": "232bd642",
    "execution_start": 1659514972267,
    "execution_millis": 248853,
    "cell_id": "00096-00babeeb-f564-4547-b1b5-0c8982e84095",
    "deepnote_cell_type": "code",
    "deepnote_cell_height": 76
   },
   "source": "# compare_models()",
   "execution_count": 76,
   "outputs": []
  },
  {
   "cell_type": "code",
   "metadata": {
    "tags": [],
    "deepnote_to_be_reexecuted": false,
    "source_hash": "476478ef",
    "execution_start": 1659514972274,
    "execution_millis": 3,
    "cell_id": "00097-01ff5b89-1baa-4254-89d4-7b2914b07e1e",
    "deepnote_cell_type": "code",
    "deepnote_cell_height": 76
   },
   "source": "# compare_models(n_select = 3, sort='F1')",
   "execution_count": 77,
   "outputs": []
  },
  {
   "cell_type": "markdown",
   "source": "<a style='text-decoration:none;line-height:16px;display:flex;color:#5B5B62;padding:10px;justify-content:end;' href='https://deepnote.com?utm_source=created-in-deepnote-cell&projectId=ca6491d5-dcd8-4f08-8e98-375cf39044bb' target=\"_blank\">\n<img alt='Created in deepnote.com' style='display:inline;max-height:16px;margin:0px;margin-right:7.5px;' src='data:image/svg+xml;base64,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' > </img>\nCreated in <span style='font-weight:600;margin-left:4px;'>Deepnote</span></a>",
   "metadata": {
    "tags": [],
    "created_in_deepnote_cell": true,
    "deepnote_cell_type": "markdown"
   }
  }
 ],
 "nbformat": 4,
 "nbformat_minor": 2,
 "metadata": {
  "orig_nbformat": 2,
  "deepnote": {},
  "deepnote_notebook_id": "d67e91ed-2f0e-4170-a08b-30478a650db3",
  "deepnote_execution_queue": []
 }
}