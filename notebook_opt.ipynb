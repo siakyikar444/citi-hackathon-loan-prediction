{
 "cells": [
  {
   "cell_type": "markdown",
   "source": "",
   "metadata": {
    "tags": [],
    "cell_id": "eddb2c41-b75e-4f99-9151-1a29279177a5",
    "deepnote_cell_type": "markdown",
    "deepnote_cell_height": 46
   }
  },
  {
   "cell_type": "markdown",
   "source": "## To-Do\n- Train Data\n    - Need to replace rows with 3+ in dependents column\n    - Need to decide how to clean the null values for all columns\n- Test Data\n    - Need to replace rows with 3+ in dependents column\n    - Need to decide how to clean the null values for all columns\n\n\n- Create powerpoint slides\n    - Not more than 3-4 slides\n    - Raw Data -> Data Cleaning / Manipulation (1 slide?)\n    - Data Exploration  (1 slide?)\n    - ML Model / Constraints (1 slide?)\n    - Insights and Conclusion (1 slide?)",
   "metadata": {
    "tags": [],
    "cell_id": "00001-56550360-d5a0-46ef-9ee4-45c3dd5c6652",
    "deepnote_cell_type": "markdown",
    "deepnote_cell_height": 456.78125
   }
  },
  {
   "cell_type": "markdown",
   "source": "##### Possible Hypotheses\n1. Applicants with high incomes should have more chances of loan approval.\n2. Applicants who have repaid their previous debts should have higher chances of loan approval.\n3. Loan approval should also depend on the loan amount. If the loan amount is less, the chances of loan \n4. approval should be high.\n5. Lesser the amount to be paid monthly to repay the loan, the higher the chances of loan approval.",
   "metadata": {
    "tags": [],
    "cell_id": "00002-88a82aee-3548-4df0-ab7b-78868ceaef89",
    "deepnote_cell_type": "markdown",
    "deepnote_cell_height": 203.984375
   }
  },
  {
   "cell_type": "code",
   "metadata": {
    "tags": [],
    "deepnote_to_be_reexecuted": false,
    "source_hash": "2248421b",
    "execution_start": 1659520866046,
    "execution_millis": 1778,
    "cell_id": "00003-26be225f-ca67-467d-a0c5-16ad13b8db2c",
    "deepnote_cell_type": "code",
    "deepnote_cell_height": 130
   },
   "source": "import pandas as pd\nimport seaborn as sns\nimport numpy as np\nimport matplotlib.pyplot as plt",
   "outputs": [],
   "execution_count": null
  },
  {
   "cell_type": "code",
   "metadata": {
    "tags": [],
    "deepnote_to_be_reexecuted": false,
    "source_hash": "fd59a075",
    "execution_start": 1659520867831,
    "execution_millis": 69,
    "cell_id": "00004-e16a1e62-c15d-49b8-972c-970d2be3585b",
    "deepnote_cell_type": "code",
    "deepnote_cell_height": 425
   },
   "source": "df = pd.read_csv(\"train.csv\")\ndf.head()",
   "outputs": [
    {
     "output_type": "execute_result",
     "execution_count": 2,
     "data": {
      "application/vnd.deepnote.dataframe.v3+json": {
       "column_count": 13,
       "row_count": 5,
       "columns": [
        {
         "name": "Loan_ID",
         "dtype": "object",
         "stats": {
          "unique_count": 5,
          "nan_count": 0,
          "categories": [
           {
            "name": "LP001002",
            "count": 1
           },
           {
            "name": "LP001003",
            "count": 1
           },
           {
            "name": "3 others",
            "count": 3
           }
          ]
         }
        },
        {
         "name": "Gender",
         "dtype": "object",
         "stats": {
          "unique_count": 1,
          "nan_count": 0,
          "categories": [
           {
            "name": "Male",
            "count": 5
           }
          ]
         }
        },
        {
         "name": "Married",
         "dtype": "object",
         "stats": {
          "unique_count": 2,
          "nan_count": 0,
          "categories": [
           {
            "name": "Yes",
            "count": 3
           },
           {
            "name": "No",
            "count": 2
           }
          ]
         }
        },
        {
         "name": "Dependents",
         "dtype": "object",
         "stats": {
          "unique_count": 2,
          "nan_count": 0,
          "categories": [
           {
            "name": "0",
            "count": 4
           },
           {
            "name": "1",
            "count": 1
           }
          ]
         }
        },
        {
         "name": "Education",
         "dtype": "object",
         "stats": {
          "unique_count": 2,
          "nan_count": 0,
          "categories": [
           {
            "name": "Graduate",
            "count": 4
           },
           {
            "name": "Not Graduate",
            "count": 1
           }
          ]
         }
        },
        {
         "name": "Self_Employed",
         "dtype": "object",
         "stats": {
          "unique_count": 2,
          "nan_count": 0,
          "categories": [
           {
            "name": "No",
            "count": 4
           },
           {
            "name": "Yes",
            "count": 1
           }
          ]
         }
        },
        {
         "name": "ApplicantIncome",
         "dtype": "int64",
         "stats": {
          "unique_count": 5,
          "nan_count": 0,
          "min": "2583",
          "max": "6000",
          "histogram": [
           {
            "bin_start": 2583,
            "bin_end": 2924.7,
            "count": 1
           },
           {
            "bin_start": 2924.7,
            "bin_end": 3266.4,
            "count": 1
           },
           {
            "bin_start": 3266.4,
            "bin_end": 3608.1,
            "count": 0
           },
           {
            "bin_start": 3608.1,
            "bin_end": 3949.8,
            "count": 0
           },
           {
            "bin_start": 3949.8,
            "bin_end": 4291.5,
            "count": 0
           },
           {
            "bin_start": 4291.5,
            "bin_end": 4633.2,
            "count": 1
           },
           {
            "bin_start": 4633.2,
            "bin_end": 4974.9,
            "count": 0
           },
           {
            "bin_start": 4974.9,
            "bin_end": 5316.6,
            "count": 0
           },
           {
            "bin_start": 5316.6,
            "bin_end": 5658.299999999999,
            "count": 0
           },
           {
            "bin_start": 5658.299999999999,
            "bin_end": 6000,
            "count": 2
           }
          ]
         }
        },
        {
         "name": "CoapplicantIncome",
         "dtype": "float64",
         "stats": {
          "unique_count": 3,
          "nan_count": 0,
          "min": "0.0",
          "max": "2358.0",
          "histogram": [
           {
            "bin_start": 0,
            "bin_end": 235.8,
            "count": 3
           },
           {
            "bin_start": 235.8,
            "bin_end": 471.6,
            "count": 0
           },
           {
            "bin_start": 471.6,
            "bin_end": 707.4000000000001,
            "count": 0
           },
           {
            "bin_start": 707.4000000000001,
            "bin_end": 943.2,
            "count": 0
           },
           {
            "bin_start": 943.2,
            "bin_end": 1179,
            "count": 0
           },
           {
            "bin_start": 1179,
            "bin_end": 1414.8000000000002,
            "count": 0
           },
           {
            "bin_start": 1414.8000000000002,
            "bin_end": 1650.6000000000001,
            "count": 1
           },
           {
            "bin_start": 1650.6000000000001,
            "bin_end": 1886.4,
            "count": 0
           },
           {
            "bin_start": 1886.4,
            "bin_end": 2122.2000000000003,
            "count": 0
           },
           {
            "bin_start": 2122.2000000000003,
            "bin_end": 2358,
            "count": 1
           }
          ]
         }
        },
        {
         "name": "LoanAmount",
         "dtype": "float64",
         "stats": {
          "unique_count": 4,
          "nan_count": 1,
          "min": "66.0",
          "max": "141.0",
          "histogram": [
           {
            "bin_start": 66,
            "bin_end": 73.5,
            "count": 1
           },
           {
            "bin_start": 73.5,
            "bin_end": 81,
            "count": 0
           },
           {
            "bin_start": 81,
            "bin_end": 88.5,
            "count": 0
           },
           {
            "bin_start": 88.5,
            "bin_end": 96,
            "count": 0
           },
           {
            "bin_start": 96,
            "bin_end": 103.5,
            "count": 0
           },
           {
            "bin_start": 103.5,
            "bin_end": 111,
            "count": 0
           },
           {
            "bin_start": 111,
            "bin_end": 118.5,
            "count": 0
           },
           {
            "bin_start": 118.5,
            "bin_end": 126,
            "count": 1
           },
           {
            "bin_start": 126,
            "bin_end": 133.5,
            "count": 1
           },
           {
            "bin_start": 133.5,
            "bin_end": 141,
            "count": 1
           }
          ]
         }
        },
        {
         "name": "Loan_Amount_Term",
         "dtype": "float64",
         "stats": {
          "unique_count": 1,
          "nan_count": 0,
          "min": "360.0",
          "max": "360.0",
          "histogram": [
           {
            "bin_start": 359.5,
            "bin_end": 359.6,
            "count": 0
           },
           {
            "bin_start": 359.6,
            "bin_end": 359.7,
            "count": 0
           },
           {
            "bin_start": 359.7,
            "bin_end": 359.8,
            "count": 0
           },
           {
            "bin_start": 359.8,
            "bin_end": 359.9,
            "count": 0
           },
           {
            "bin_start": 359.9,
            "bin_end": 360,
            "count": 0
           },
           {
            "bin_start": 360,
            "bin_end": 360.1,
            "count": 5
           },
           {
            "bin_start": 360.1,
            "bin_end": 360.2,
            "count": 0
           },
           {
            "bin_start": 360.2,
            "bin_end": 360.3,
            "count": 0
           },
           {
            "bin_start": 360.3,
            "bin_end": 360.4,
            "count": 0
           },
           {
            "bin_start": 360.4,
            "bin_end": 360.5,
            "count": 0
           }
          ]
         }
        },
        {
         "name": "Credit_History",
         "dtype": "float64",
         "stats": {
          "unique_count": 1,
          "nan_count": 0,
          "min": "1.0",
          "max": "1.0",
          "histogram": [
           {
            "bin_start": 0.5,
            "bin_end": 0.6,
            "count": 0
           },
           {
            "bin_start": 0.6,
            "bin_end": 0.7,
            "count": 0
           },
           {
            "bin_start": 0.7,
            "bin_end": 0.8,
            "count": 0
           },
           {
            "bin_start": 0.8,
            "bin_end": 0.9,
            "count": 0
           },
           {
            "bin_start": 0.9,
            "bin_end": 1,
            "count": 0
           },
           {
            "bin_start": 1,
            "bin_end": 1.1,
            "count": 5
           },
           {
            "bin_start": 1.1,
            "bin_end": 1.2000000000000002,
            "count": 0
           },
           {
            "bin_start": 1.2000000000000002,
            "bin_end": 1.3,
            "count": 0
           },
           {
            "bin_start": 1.3,
            "bin_end": 1.4,
            "count": 0
           },
           {
            "bin_start": 1.4,
            "bin_end": 1.5,
            "count": 0
           }
          ]
         }
        },
        {
         "name": "Property_Area",
         "dtype": "object",
         "stats": {
          "unique_count": 2,
          "nan_count": 0,
          "categories": [
           {
            "name": "Urban",
            "count": 4
           },
           {
            "name": "Rural",
            "count": 1
           }
          ]
         }
        },
        {
         "name": "Loan_Status",
         "dtype": "object",
         "stats": {
          "unique_count": 2,
          "nan_count": 0,
          "categories": [
           {
            "name": "Y",
            "count": 4
           },
           {
            "name": "N",
            "count": 1
           }
          ]
         }
        },
        {
         "name": "_deepnote_index_column",
         "dtype": "int64"
        }
       ],
       "rows": [
        {
         "Loan_ID": "LP001002",
         "Gender": "Male",
         "Married": "No",
         "Dependents": "0",
         "Education": "Graduate",
         "Self_Employed": "No",
         "ApplicantIncome": 5849,
         "CoapplicantIncome": 0,
         "LoanAmount": "nan",
         "Loan_Amount_Term": 360,
         "Credit_History": 1,
         "Property_Area": "Urban",
         "Loan_Status": "Y",
         "_deepnote_index_column": 0
        },
        {
         "Loan_ID": "LP001003",
         "Gender": "Male",
         "Married": "Yes",
         "Dependents": "1",
         "Education": "Graduate",
         "Self_Employed": "No",
         "ApplicantIncome": 4583,
         "CoapplicantIncome": 1508,
         "LoanAmount": 128,
         "Loan_Amount_Term": 360,
         "Credit_History": 1,
         "Property_Area": "Rural",
         "Loan_Status": "N",
         "_deepnote_index_column": 1
        },
        {
         "Loan_ID": "LP001005",
         "Gender": "Male",
         "Married": "Yes",
         "Dependents": "0",
         "Education": "Graduate",
         "Self_Employed": "Yes",
         "ApplicantIncome": 3000,
         "CoapplicantIncome": 0,
         "LoanAmount": 66,
         "Loan_Amount_Term": 360,
         "Credit_History": 1,
         "Property_Area": "Urban",
         "Loan_Status": "Y",
         "_deepnote_index_column": 2
        },
        {
         "Loan_ID": "LP001006",
         "Gender": "Male",
         "Married": "Yes",
         "Dependents": "0",
         "Education": "Not Graduate",
         "Self_Employed": "No",
         "ApplicantIncome": 2583,
         "CoapplicantIncome": 2358,
         "LoanAmount": 120,
         "Loan_Amount_Term": 360,
         "Credit_History": 1,
         "Property_Area": "Urban",
         "Loan_Status": "Y",
         "_deepnote_index_column": 3
        },
        {
         "Loan_ID": "LP001008",
         "Gender": "Male",
         "Married": "No",
         "Dependents": "0",
         "Education": "Graduate",
         "Self_Employed": "No",
         "ApplicantIncome": 6000,
         "CoapplicantIncome": 0,
         "LoanAmount": 141,
         "Loan_Amount_Term": 360,
         "Credit_History": 1,
         "Property_Area": "Urban",
         "Loan_Status": "Y",
         "_deepnote_index_column": 4
        }
       ]
      },
      "text/plain": "    Loan_ID Gender Married Dependents     Education Self_Employed  \\\n0  LP001002   Male      No          0      Graduate            No   \n1  LP001003   Male     Yes          1      Graduate            No   \n2  LP001005   Male     Yes          0      Graduate           Yes   \n3  LP001006   Male     Yes          0  Not Graduate            No   \n4  LP001008   Male      No          0      Graduate            No   \n\n   ApplicantIncome  CoapplicantIncome  LoanAmount  Loan_Amount_Term  \\\n0             5849                0.0         NaN             360.0   \n1             4583             1508.0       128.0             360.0   \n2             3000                0.0        66.0             360.0   \n3             2583             2358.0       120.0             360.0   \n4             6000                0.0       141.0             360.0   \n\n   Credit_History Property_Area Loan_Status  \n0             1.0         Urban           Y  \n1             1.0         Rural           N  \n2             1.0         Urban           Y  \n3             1.0         Urban           Y  \n4             1.0         Urban           Y  ",
      "text/html": "<div>\n<style scoped>\n    .dataframe tbody tr th:only-of-type {\n        vertical-align: middle;\n    }\n\n    .dataframe tbody tr th {\n        vertical-align: top;\n    }\n\n    .dataframe thead th {\n        text-align: right;\n    }\n</style>\n<table border=\"1\" class=\"dataframe\">\n  <thead>\n    <tr style=\"text-align: right;\">\n      <th></th>\n      <th>Loan_ID</th>\n      <th>Gender</th>\n      <th>Married</th>\n      <th>Dependents</th>\n      <th>Education</th>\n      <th>Self_Employed</th>\n      <th>ApplicantIncome</th>\n      <th>CoapplicantIncome</th>\n      <th>LoanAmount</th>\n      <th>Loan_Amount_Term</th>\n      <th>Credit_History</th>\n      <th>Property_Area</th>\n      <th>Loan_Status</th>\n    </tr>\n  </thead>\n  <tbody>\n    <tr>\n      <th>0</th>\n      <td>LP001002</td>\n      <td>Male</td>\n      <td>No</td>\n      <td>0</td>\n      <td>Graduate</td>\n      <td>No</td>\n      <td>5849</td>\n      <td>0.0</td>\n      <td>NaN</td>\n      <td>360.0</td>\n      <td>1.0</td>\n      <td>Urban</td>\n      <td>Y</td>\n    </tr>\n    <tr>\n      <th>1</th>\n      <td>LP001003</td>\n      <td>Male</td>\n      <td>Yes</td>\n      <td>1</td>\n      <td>Graduate</td>\n      <td>No</td>\n      <td>4583</td>\n      <td>1508.0</td>\n      <td>128.0</td>\n      <td>360.0</td>\n      <td>1.0</td>\n      <td>Rural</td>\n      <td>N</td>\n    </tr>\n    <tr>\n      <th>2</th>\n      <td>LP001005</td>\n      <td>Male</td>\n      <td>Yes</td>\n      <td>0</td>\n      <td>Graduate</td>\n      <td>Yes</td>\n      <td>3000</td>\n      <td>0.0</td>\n      <td>66.0</td>\n      <td>360.0</td>\n      <td>1.0</td>\n      <td>Urban</td>\n      <td>Y</td>\n    </tr>\n    <tr>\n      <th>3</th>\n      <td>LP001006</td>\n      <td>Male</td>\n      <td>Yes</td>\n      <td>0</td>\n      <td>Not Graduate</td>\n      <td>No</td>\n      <td>2583</td>\n      <td>2358.0</td>\n      <td>120.0</td>\n      <td>360.0</td>\n      <td>1.0</td>\n      <td>Urban</td>\n      <td>Y</td>\n    </tr>\n    <tr>\n      <th>4</th>\n      <td>LP001008</td>\n      <td>Male</td>\n      <td>No</td>\n      <td>0</td>\n      <td>Graduate</td>\n      <td>No</td>\n      <td>6000</td>\n      <td>0.0</td>\n      <td>141.0</td>\n      <td>360.0</td>\n      <td>1.0</td>\n      <td>Urban</td>\n      <td>Y</td>\n    </tr>\n  </tbody>\n</table>\n</div>"
     },
     "metadata": {}
    }
   ],
   "execution_count": null
  },
  {
   "cell_type": "code",
   "metadata": {
    "tags": [],
    "deepnote_to_be_reexecuted": false,
    "source_hash": "5e8fb93b",
    "execution_start": 1659520867901,
    "execution_millis": 43,
    "cell_id": "00005-908cc478-c227-4a3e-886b-a7a946eefa09",
    "deepnote_cell_type": "code",
    "deepnote_cell_height": 425
   },
   "source": "df_test = pd.read_csv(\"test.csv\")\ndf_test.head()",
   "outputs": [
    {
     "output_type": "execute_result",
     "execution_count": 3,
     "data": {
      "application/vnd.deepnote.dataframe.v3+json": {
       "column_count": 12,
       "row_count": 5,
       "columns": [
        {
         "name": "Loan_ID",
         "dtype": "object",
         "stats": {
          "unique_count": 5,
          "nan_count": 0,
          "categories": [
           {
            "name": "LP001015",
            "count": 1
           },
           {
            "name": "LP001022",
            "count": 1
           },
           {
            "name": "3 others",
            "count": 3
           }
          ]
         }
        },
        {
         "name": "Gender",
         "dtype": "object",
         "stats": {
          "unique_count": 1,
          "nan_count": 0,
          "categories": [
           {
            "name": "Male",
            "count": 5
           }
          ]
         }
        },
        {
         "name": "Married",
         "dtype": "object",
         "stats": {
          "unique_count": 2,
          "nan_count": 0,
          "categories": [
           {
            "name": "Yes",
            "count": 4
           },
           {
            "name": "No",
            "count": 1
           }
          ]
         }
        },
        {
         "name": "Dependents",
         "dtype": "object",
         "stats": {
          "unique_count": 3,
          "nan_count": 0,
          "categories": [
           {
            "name": "0",
            "count": 2
           },
           {
            "name": "2",
            "count": 2
           },
           {
            "name": "1",
            "count": 1
           }
          ]
         }
        },
        {
         "name": "Education",
         "dtype": "object",
         "stats": {
          "unique_count": 2,
          "nan_count": 0,
          "categories": [
           {
            "name": "Graduate",
            "count": 4
           },
           {
            "name": "Not Graduate",
            "count": 1
           }
          ]
         }
        },
        {
         "name": "Self_Employed",
         "dtype": "object",
         "stats": {
          "unique_count": 1,
          "nan_count": 0,
          "categories": [
           {
            "name": "No",
            "count": 5
           }
          ]
         }
        },
        {
         "name": "ApplicantIncome",
         "dtype": "int64",
         "stats": {
          "unique_count": 5,
          "nan_count": 0,
          "min": "2340",
          "max": "5720",
          "histogram": [
           {
            "bin_start": 2340,
            "bin_end": 2678,
            "count": 1
           },
           {
            "bin_start": 2678,
            "bin_end": 3016,
            "count": 0
           },
           {
            "bin_start": 3016,
            "bin_end": 3354,
            "count": 2
           },
           {
            "bin_start": 3354,
            "bin_end": 3692,
            "count": 0
           },
           {
            "bin_start": 3692,
            "bin_end": 4030,
            "count": 0
           },
           {
            "bin_start": 4030,
            "bin_end": 4368,
            "count": 0
           },
           {
            "bin_start": 4368,
            "bin_end": 4706,
            "count": 0
           },
           {
            "bin_start": 4706,
            "bin_end": 5044,
            "count": 1
           },
           {
            "bin_start": 5044,
            "bin_end": 5382,
            "count": 0
           },
           {
            "bin_start": 5382,
            "bin_end": 5720,
            "count": 1
           }
          ]
         }
        },
        {
         "name": "CoapplicantIncome",
         "dtype": "int64",
         "stats": {
          "unique_count": 4,
          "nan_count": 0,
          "min": "0",
          "max": "2546",
          "histogram": [
           {
            "bin_start": 0,
            "bin_end": 254.6,
            "count": 2
           },
           {
            "bin_start": 254.6,
            "bin_end": 509.2,
            "count": 0
           },
           {
            "bin_start": 509.2,
            "bin_end": 763.8,
            "count": 0
           },
           {
            "bin_start": 763.8,
            "bin_end": 1018.4,
            "count": 0
           },
           {
            "bin_start": 1018.4,
            "bin_end": 1273,
            "count": 0
           },
           {
            "bin_start": 1273,
            "bin_end": 1527.6,
            "count": 1
           },
           {
            "bin_start": 1527.6,
            "bin_end": 1782.2,
            "count": 0
           },
           {
            "bin_start": 1782.2,
            "bin_end": 2036.8,
            "count": 1
           },
           {
            "bin_start": 2036.8,
            "bin_end": 2291.4,
            "count": 0
           },
           {
            "bin_start": 2291.4,
            "bin_end": 2546,
            "count": 1
           }
          ]
         }
        },
        {
         "name": "LoanAmount",
         "dtype": "float64",
         "stats": {
          "unique_count": 5,
          "nan_count": 0,
          "min": "78.0",
          "max": "208.0",
          "histogram": [
           {
            "bin_start": 78,
            "bin_end": 91,
            "count": 1
           },
           {
            "bin_start": 91,
            "bin_end": 104,
            "count": 1
           },
           {
            "bin_start": 104,
            "bin_end": 117,
            "count": 1
           },
           {
            "bin_start": 117,
            "bin_end": 130,
            "count": 1
           },
           {
            "bin_start": 130,
            "bin_end": 143,
            "count": 0
           },
           {
            "bin_start": 143,
            "bin_end": 156,
            "count": 0
           },
           {
            "bin_start": 156,
            "bin_end": 169,
            "count": 0
           },
           {
            "bin_start": 169,
            "bin_end": 182,
            "count": 0
           },
           {
            "bin_start": 182,
            "bin_end": 195,
            "count": 0
           },
           {
            "bin_start": 195,
            "bin_end": 208,
            "count": 1
           }
          ]
         }
        },
        {
         "name": "Loan_Amount_Term",
         "dtype": "float64",
         "stats": {
          "unique_count": 1,
          "nan_count": 0,
          "min": "360.0",
          "max": "360.0",
          "histogram": [
           {
            "bin_start": 359.5,
            "bin_end": 359.6,
            "count": 0
           },
           {
            "bin_start": 359.6,
            "bin_end": 359.7,
            "count": 0
           },
           {
            "bin_start": 359.7,
            "bin_end": 359.8,
            "count": 0
           },
           {
            "bin_start": 359.8,
            "bin_end": 359.9,
            "count": 0
           },
           {
            "bin_start": 359.9,
            "bin_end": 360,
            "count": 0
           },
           {
            "bin_start": 360,
            "bin_end": 360.1,
            "count": 5
           },
           {
            "bin_start": 360.1,
            "bin_end": 360.2,
            "count": 0
           },
           {
            "bin_start": 360.2,
            "bin_end": 360.3,
            "count": 0
           },
           {
            "bin_start": 360.3,
            "bin_end": 360.4,
            "count": 0
           },
           {
            "bin_start": 360.4,
            "bin_end": 360.5,
            "count": 0
           }
          ]
         }
        },
        {
         "name": "Credit_History",
         "dtype": "float64",
         "stats": {
          "unique_count": 1,
          "nan_count": 1,
          "min": "1.0",
          "max": "1.0",
          "histogram": [
           {
            "bin_start": 0.5,
            "bin_end": 0.6,
            "count": 0
           },
           {
            "bin_start": 0.6,
            "bin_end": 0.7,
            "count": 0
           },
           {
            "bin_start": 0.7,
            "bin_end": 0.8,
            "count": 0
           },
           {
            "bin_start": 0.8,
            "bin_end": 0.9,
            "count": 0
           },
           {
            "bin_start": 0.9,
            "bin_end": 1,
            "count": 0
           },
           {
            "bin_start": 1,
            "bin_end": 1.1,
            "count": 4
           },
           {
            "bin_start": 1.1,
            "bin_end": 1.2000000000000002,
            "count": 0
           },
           {
            "bin_start": 1.2000000000000002,
            "bin_end": 1.3,
            "count": 0
           },
           {
            "bin_start": 1.3,
            "bin_end": 1.4,
            "count": 0
           },
           {
            "bin_start": 1.4,
            "bin_end": 1.5,
            "count": 0
           }
          ]
         }
        },
        {
         "name": "Property_Area",
         "dtype": "object",
         "stats": {
          "unique_count": 1,
          "nan_count": 0,
          "categories": [
           {
            "name": "Urban",
            "count": 5
           }
          ]
         }
        },
        {
         "name": "_deepnote_index_column",
         "dtype": "int64"
        }
       ],
       "rows": [
        {
         "Loan_ID": "LP001015",
         "Gender": "Male",
         "Married": "Yes",
         "Dependents": "0",
         "Education": "Graduate",
         "Self_Employed": "No",
         "ApplicantIncome": 5720,
         "CoapplicantIncome": 0,
         "LoanAmount": 110,
         "Loan_Amount_Term": 360,
         "Credit_History": 1,
         "Property_Area": "Urban",
         "_deepnote_index_column": 0
        },
        {
         "Loan_ID": "LP001022",
         "Gender": "Male",
         "Married": "Yes",
         "Dependents": "1",
         "Education": "Graduate",
         "Self_Employed": "No",
         "ApplicantIncome": 3076,
         "CoapplicantIncome": 1500,
         "LoanAmount": 126,
         "Loan_Amount_Term": 360,
         "Credit_History": 1,
         "Property_Area": "Urban",
         "_deepnote_index_column": 1
        },
        {
         "Loan_ID": "LP001031",
         "Gender": "Male",
         "Married": "Yes",
         "Dependents": "2",
         "Education": "Graduate",
         "Self_Employed": "No",
         "ApplicantIncome": 5000,
         "CoapplicantIncome": 1800,
         "LoanAmount": 208,
         "Loan_Amount_Term": 360,
         "Credit_History": 1,
         "Property_Area": "Urban",
         "_deepnote_index_column": 2
        },
        {
         "Loan_ID": "LP001035",
         "Gender": "Male",
         "Married": "Yes",
         "Dependents": "2",
         "Education": "Graduate",
         "Self_Employed": "No",
         "ApplicantIncome": 2340,
         "CoapplicantIncome": 2546,
         "LoanAmount": 100,
         "Loan_Amount_Term": 360,
         "Credit_History": "nan",
         "Property_Area": "Urban",
         "_deepnote_index_column": 3
        },
        {
         "Loan_ID": "LP001051",
         "Gender": "Male",
         "Married": "No",
         "Dependents": "0",
         "Education": "Not Graduate",
         "Self_Employed": "No",
         "ApplicantIncome": 3276,
         "CoapplicantIncome": 0,
         "LoanAmount": 78,
         "Loan_Amount_Term": 360,
         "Credit_History": 1,
         "Property_Area": "Urban",
         "_deepnote_index_column": 4
        }
       ]
      },
      "text/plain": "    Loan_ID Gender Married Dependents     Education Self_Employed  \\\n0  LP001015   Male     Yes          0      Graduate            No   \n1  LP001022   Male     Yes          1      Graduate            No   \n2  LP001031   Male     Yes          2      Graduate            No   \n3  LP001035   Male     Yes          2      Graduate            No   \n4  LP001051   Male      No          0  Not Graduate            No   \n\n   ApplicantIncome  CoapplicantIncome  LoanAmount  Loan_Amount_Term  \\\n0             5720                  0       110.0             360.0   \n1             3076               1500       126.0             360.0   \n2             5000               1800       208.0             360.0   \n3             2340               2546       100.0             360.0   \n4             3276                  0        78.0             360.0   \n\n   Credit_History Property_Area  \n0             1.0         Urban  \n1             1.0         Urban  \n2             1.0         Urban  \n3             NaN         Urban  \n4             1.0         Urban  ",
      "text/html": "<div>\n<style scoped>\n    .dataframe tbody tr th:only-of-type {\n        vertical-align: middle;\n    }\n\n    .dataframe tbody tr th {\n        vertical-align: top;\n    }\n\n    .dataframe thead th {\n        text-align: right;\n    }\n</style>\n<table border=\"1\" class=\"dataframe\">\n  <thead>\n    <tr style=\"text-align: right;\">\n      <th></th>\n      <th>Loan_ID</th>\n      <th>Gender</th>\n      <th>Married</th>\n      <th>Dependents</th>\n      <th>Education</th>\n      <th>Self_Employed</th>\n      <th>ApplicantIncome</th>\n      <th>CoapplicantIncome</th>\n      <th>LoanAmount</th>\n      <th>Loan_Amount_Term</th>\n      <th>Credit_History</th>\n      <th>Property_Area</th>\n    </tr>\n  </thead>\n  <tbody>\n    <tr>\n      <th>0</th>\n      <td>LP001015</td>\n      <td>Male</td>\n      <td>Yes</td>\n      <td>0</td>\n      <td>Graduate</td>\n      <td>No</td>\n      <td>5720</td>\n      <td>0</td>\n      <td>110.0</td>\n      <td>360.0</td>\n      <td>1.0</td>\n      <td>Urban</td>\n    </tr>\n    <tr>\n      <th>1</th>\n      <td>LP001022</td>\n      <td>Male</td>\n      <td>Yes</td>\n      <td>1</td>\n      <td>Graduate</td>\n      <td>No</td>\n      <td>3076</td>\n      <td>1500</td>\n      <td>126.0</td>\n      <td>360.0</td>\n      <td>1.0</td>\n      <td>Urban</td>\n    </tr>\n    <tr>\n      <th>2</th>\n      <td>LP001031</td>\n      <td>Male</td>\n      <td>Yes</td>\n      <td>2</td>\n      <td>Graduate</td>\n      <td>No</td>\n      <td>5000</td>\n      <td>1800</td>\n      <td>208.0</td>\n      <td>360.0</td>\n      <td>1.0</td>\n      <td>Urban</td>\n    </tr>\n    <tr>\n      <th>3</th>\n      <td>LP001035</td>\n      <td>Male</td>\n      <td>Yes</td>\n      <td>2</td>\n      <td>Graduate</td>\n      <td>No</td>\n      <td>2340</td>\n      <td>2546</td>\n      <td>100.0</td>\n      <td>360.0</td>\n      <td>NaN</td>\n      <td>Urban</td>\n    </tr>\n    <tr>\n      <th>4</th>\n      <td>LP001051</td>\n      <td>Male</td>\n      <td>No</td>\n      <td>0</td>\n      <td>Not Graduate</td>\n      <td>No</td>\n      <td>3276</td>\n      <td>0</td>\n      <td>78.0</td>\n      <td>360.0</td>\n      <td>1.0</td>\n      <td>Urban</td>\n    </tr>\n  </tbody>\n</table>\n</div>"
     },
     "metadata": {}
    }
   ],
   "execution_count": null
  },
  {
   "cell_type": "markdown",
   "source": "#### Things to take note:\n1. Loan status is not present in the data_test as such, test csv would be used for prediction of unseen data\n2. Conversion to dummy variables would be needed for gender, married, dependents, education, self_employed, loan_status, property area\n ",
   "metadata": {
    "tags": [],
    "cell_id": "00006-974aa41e-e2e6-4e60-a567-cee5d86673dc",
    "deepnote_cell_type": "markdown",
    "deepnote_cell_height": 150.1875
   }
  },
  {
   "cell_type": "markdown",
   "source": "# Data Exploration and Preprocessing",
   "metadata": {
    "formattedRanges": [],
    "is_collapsed": false,
    "tags": [],
    "cell_id": "00007-8d08df96-5cb1-433c-a0f5-5644ccd99a78",
    "deepnote_cell_type": "text-cell-h1"
   }
  },
  {
   "cell_type": "code",
   "metadata": {
    "tags": [],
    "deepnote_to_be_reexecuted": false,
    "source_hash": "de1e323c",
    "execution_start": 1659520867955,
    "execution_millis": 3,
    "cell_id": "00008-caae3ca5-0c64-4fe7-824e-ac9eefc65058",
    "deepnote_cell_type": "code",
    "deepnote_cell_height": 480.90625
   },
   "source": "df.info()",
   "outputs": [
    {
     "name": "stdout",
     "text": "<class 'pandas.core.frame.DataFrame'>\nRangeIndex: 614 entries, 0 to 613\nData columns (total 13 columns):\n #   Column             Non-Null Count  Dtype  \n---  ------             --------------  -----  \n 0   Loan_ID            614 non-null    object \n 1   Gender             601 non-null    object \n 2   Married            611 non-null    object \n 3   Dependents         599 non-null    object \n 4   Education          614 non-null    object \n 5   Self_Employed      582 non-null    object \n 6   ApplicantIncome    614 non-null    int64  \n 7   CoapplicantIncome  614 non-null    float64\n 8   LoanAmount         592 non-null    float64\n 9   Loan_Amount_Term   600 non-null    float64\n 10  Credit_History     564 non-null    float64\n 11  Property_Area      614 non-null    object \n 12  Loan_Status        614 non-null    object \ndtypes: float64(4), int64(1), object(8)\nmemory usage: 62.5+ KB\n",
     "output_type": "stream"
    }
   ],
   "execution_count": null
  },
  {
   "cell_type": "code",
   "metadata": {
    "tags": [],
    "deepnote_to_be_reexecuted": false,
    "source_hash": "15d09156",
    "execution_start": 1659520868005,
    "execution_millis": 3,
    "cell_id": "00009-16e39fe5-2c05-4df4-a584-04233276a1e4",
    "deepnote_cell_type": "code",
    "deepnote_cell_height": 461.203125
   },
   "source": "df_test.info()",
   "outputs": [
    {
     "name": "stdout",
     "text": "<class 'pandas.core.frame.DataFrame'>\nRangeIndex: 367 entries, 0 to 366\nData columns (total 12 columns):\n #   Column             Non-Null Count  Dtype  \n---  ------             --------------  -----  \n 0   Loan_ID            367 non-null    object \n 1   Gender             356 non-null    object \n 2   Married            367 non-null    object \n 3   Dependents         357 non-null    object \n 4   Education          367 non-null    object \n 5   Self_Employed      344 non-null    object \n 6   ApplicantIncome    367 non-null    int64  \n 7   CoapplicantIncome  367 non-null    int64  \n 8   LoanAmount         362 non-null    float64\n 9   Loan_Amount_Term   361 non-null    float64\n 10  Credit_History     338 non-null    float64\n 11  Property_Area      367 non-null    object \ndtypes: float64(3), int64(2), object(7)\nmemory usage: 34.5+ KB\n",
     "output_type": "stream"
    }
   ],
   "execution_count": null
  },
  {
   "cell_type": "markdown",
   "source": "#### Hypotheses",
   "metadata": {
    "tags": [],
    "cell_id": "00010-a3d50aa3-78ee-49ee-b27b-29a58bb4f208",
    "deepnote_cell_type": "markdown",
    "deepnote_cell_height": 54
   }
  },
  {
   "cell_type": "code",
   "metadata": {
    "tags": [],
    "deepnote_to_be_reexecuted": false,
    "source_hash": "1fc99e28",
    "execution_start": 1659520868006,
    "execution_millis": 248,
    "cell_id": "00011-37e2390f-b6d0-45e5-b061-7732c7e6a85b",
    "deepnote_cell_type": "code",
    "deepnote_cell_height": 477,
    "deepnote_output_heights": [
     290
    ]
   },
   "source": "Gender=pd.crosstab(df['Gender'],df['Loan_Status'])\nGender.div(Gender.sum(1).astype(float), axis=0).plot(kind='bar',stacked=True,figsize=(4,4))\nplt.show()\n\n# It can be inferred that the proportion of male and female applicants is more or less the same for both approved and unapproved loans.\n",
   "outputs": [
    {
     "data": {
      "text/plain": "<Figure size 288x288 with 1 Axes>",
      "image/png": "[encoded data removed]"
     },
     "metadata": {
      "needs_background": "light",
      "image/png": {
       "width": 260,
       "height": 288
      }
     },
     "output_type": "display_data"
    }
   ],
   "execution_count": null
  },
  {
   "cell_type": "code",
   "metadata": {
    "tags": [],
    "deepnote_to_be_reexecuted": false,
    "source_hash": "186ea3b0",
    "execution_start": 1659520868272,
    "execution_millis": 765,
    "cell_id": "00012-c3f8599e-f635-4d59-9275-e35264cae176",
    "deepnote_cell_type": "code",
    "deepnote_cell_height": 1515,
    "deepnote_output_heights": [
     270,
     269,
     322,
     271
    ]
   },
   "source": "Married=pd.crosstab(df['Married'],df['Loan_Status'])\nDependents=pd.crosstab(df['Dependents'],df['Loan_Status'])\nEducation=pd.crosstab(df['Education'],df['Loan_Status'])\nSelf_Employed=pd.crosstab(df['Self_Employed'],df['Loan_Status'])\nMarried.div(Married.sum(1).astype(float), axis=0).plot(kind='bar',stacked=True,figsize=(4,4))\nplt.show()\nDependents.div(Dependents.sum(1).astype(float), axis=0).plot(kind='bar',stacked=True,figsize=(4,4))\nplt.show()\nEducation.div(Education.sum(1).astype(float), axis=0).plot(kind='bar',stacked=True,figsize=(4,4))\nplt.show()\nSelf_Employed.div(Self_Employed.sum(1).astype(float), axis=0).plot(kind='bar',stacked=True,figsize=(4,4))\nplt.show()",
   "outputs": [
    {
     "data": {
      "text/plain": "<Figure size 288x288 with 1 Axes>",
      "image/png": "[encoded data removed]"
     },
     "metadata": {
      "needs_background": "light",
      "image/png": {
       "width": 260,
       "height": 268
      }
     },
     "output_type": "display_data"
    },
    {
     "data": {
      "text/plain": "<Figure size 288x288 with 1 Axes>",
      "image/png": "[encoded data removed]"
     },
     "metadata": {
      "needs_background": "light",
      "image/png": {
       "width": 260,
       "height": 267
      }
     },
     "output_type": "display_data"
    },
    {
     "data": {
      "text/plain": "<Figure size 288x288 with 1 Axes>",
      "image/png": "[encoded data removed]"
     },
     "metadata": {
      "needs_background": "light",
      "image/png": {
       "width": 260,
       "height": 320
      }
     },
     "output_type": "display_data"
    },
    {
     "data": {
      "text/plain": "<Figure size 288x288 with 1 Axes>",
      "image/png": "[encoded data removed]"
     },
     "metadata": {
      "needs_background": "light",
      "image/png": {
       "width": 260,
       "height": 269
      }
     },
     "output_type": "display_data"
    }
   ],
   "execution_count": null
  },
  {
   "cell_type": "markdown",
   "source": "- The proportion of married applicants is higher for approved loans.\n- Distribution of applicants with 1 or 3+ dependents is similar across both the categories of Loan_Status.\n- There is nothing significant we can infer from Self_Employed vs Loan_Status plot.",
   "metadata": {
    "tags": [],
    "cell_id": "00013-a335e470-6fbb-4150-9157-20610f169c51",
    "deepnote_cell_type": "markdown",
    "deepnote_cell_height": 120.1875
   }
  },
  {
   "cell_type": "code",
   "metadata": {
    "tags": [],
    "deepnote_to_be_reexecuted": false,
    "source_hash": "6b90ebc2",
    "execution_start": 1659520869043,
    "execution_millis": 972,
    "cell_id": "00014-780ed1aa-b14b-406c-ae66-9122aa47b883",
    "deepnote_cell_type": "code",
    "deepnote_cell_height": 798,
    "deepnote_output_heights": [
     271,
     309
    ]
   },
   "source": "Credit_History=pd.crosstab(df['Credit_History'],df['Loan_Status'])\nProperty_Area=pd.crosstab(df['Property_Area'],df['Loan_Status'])\nCredit_History.div(Credit_History.sum(1).astype(float), axis=0).plot(kind='bar',stacked=True,figsize=(4,4))\nplt.show()\nProperty_Area.div(Property_Area.sum(1).astype(float), axis=0).plot(kind='bar',stacked=True)\nplt.show()",
   "outputs": [
    {
     "data": {
      "text/plain": "<Figure size 288x288 with 1 Axes>",
      "image/png": "[encoded data removed]"
     },
     "metadata": {
      "needs_background": "light",
      "image/png": {
       "width": 260,
       "height": 269
      }
     },
     "output_type": "display_data"
    },
    {
     "data": {
      "text/plain": "<Figure size 432x288 with 1 Axes>",
      "image/png": "[encoded data removed]"
     },
     "metadata": {
      "needs_background": "light",
      "image/png": {
       "width": 372,
       "height": 307
      }
     },
     "output_type": "display_data"
    }
   ],
   "execution_count": null
  },
  {
   "cell_type": "markdown",
   "source": "- It seems people with a credit history as 1 are more likely to get their loans approved.\n- The proportion of loans getting approved in the semi-urban area is higher as compared to that in rural or urban areas.",
   "metadata": {
    "tags": [],
    "cell_id": "00015-b51263a9-27a3-4781-a957-b0b1103ec13a",
    "deepnote_cell_type": "markdown",
    "deepnote_cell_height": 94.796875
   }
  },
  {
   "cell_type": "code",
   "metadata": {
    "tags": [],
    "deepnote_to_be_reexecuted": false,
    "source_hash": "f7d29961",
    "execution_start": 1659520869513,
    "execution_millis": 533,
    "cell_id": "00016-c9d5a593-9644-4fe4-9b30-a808eb473ae0",
    "deepnote_cell_type": "code",
    "deepnote_cell_height": 409.1875,
    "deepnote_output_heights": [
     21.1875,
     265
    ]
   },
   "source": "sns.scatterplot(data=df, x=\"Loan_Status\", y=\"ApplicantIncome\")",
   "outputs": [
    {
     "output_type": "execute_result",
     "execution_count": 9,
     "data": {
      "text/plain": "<AxesSubplot:xlabel='Loan_Status', ylabel='ApplicantIncome'>"
     },
     "metadata": {}
    },
    {
     "data": {
      "text/plain": "<Figure size 432x288 with 1 Axes>",
      "image/png": "[encoded data removed]"
     },
     "metadata": {
      "needs_background": "light",
      "image/png": {
       "width": 401,
       "height": 263
      }
     },
     "output_type": "display_data"
    }
   ],
   "execution_count": null
  },
  {
   "cell_type": "code",
   "metadata": {
    "tags": [],
    "deepnote_to_be_reexecuted": false,
    "source_hash": "2eb6cd14",
    "execution_start": 1659520869688,
    "execution_millis": 365,
    "cell_id": "00017-77dc4fba-bde3-48b2-8b47-ff766967d1f8",
    "deepnote_cell_type": "code",
    "deepnote_cell_height": 409.1875,
    "deepnote_output_heights": [
     21.1875,
     265
    ]
   },
   "source": "sns.scatterplot(data=df, x=\"Loan_Status\", y=\"CoapplicantIncome\")",
   "outputs": [
    {
     "output_type": "execute_result",
     "execution_count": 10,
     "data": {
      "text/plain": "<AxesSubplot:xlabel='Loan_Status', ylabel='CoapplicantIncome'>"
     },
     "metadata": {}
    },
    {
     "data": {
      "text/plain": "<Figure size 432x288 with 1 Axes>",
      "image/png": "[encoded data removed]"
     },
     "metadata": {
      "needs_background": "light",
      "image/png": {
       "width": 401,
       "height": 263
      }
     },
     "output_type": "display_data"
    }
   ],
   "execution_count": null
  },
  {
   "cell_type": "markdown",
   "source": "- It can be inferred that Applicant's income does not affect the chances of loan approval which contradicts our hypothesis in which we assumed that if the applicant's income is high the chances of loan approval will also be high.",
   "metadata": {
    "tags": [],
    "cell_id": "00018-4447911b-92d7-4769-a811-4ed3c0efad50",
    "deepnote_cell_type": "markdown",
    "deepnote_cell_height": 91.796875
   }
  },
  {
   "cell_type": "code",
   "metadata": {
    "tags": [],
    "deepnote_to_be_reexecuted": false,
    "source_hash": "a96f3c22",
    "execution_start": 1659520869897,
    "execution_millis": 172,
    "cell_id": "00019-8e98e7dd-6c27-4f14-8d14-64fff9dc1bb4",
    "deepnote_cell_type": "code",
    "deepnote_cell_height": 520.28125,
    "deepnote_output_heights": [
     null,
     265
    ]
   },
   "source": "sns.countplot(df['Loan_Status'])\n\nprint(f\"The percentage of Y class : {df['Loan_Status'].value_counts()[0] / len(df)}\")\nprint(f\"The percentage of N class : {df['Loan_Status'].value_counts()[1] / len(df)}\")",
   "outputs": [
    {
     "name": "stdout",
     "text": "The percentage of Y class : 0.6872964169381107\nThe percentage of N class : 0.3127035830618892\n/shared-libs/python3.9/py/lib/python3.9/site-packages/seaborn/_decorators.py:36: FutureWarning: Pass the following variable as a keyword arg: x. From version 0.12, the only valid positional argument will be `data`, and passing other arguments without an explicit keyword will result in an error or misinterpretation.\n  warnings.warn(\n",
     "output_type": "stream"
    },
    {
     "data": {
      "text/plain": "<Figure size 432x288 with 1 Axes>",
      "image/png": "[encoded data removed]"
     },
     "metadata": {
      "needs_background": "light",
      "image/png": {
       "width": 389,
       "height": 263
      }
     },
     "output_type": "display_data"
    }
   ],
   "execution_count": null
  },
  {
   "cell_type": "code",
   "metadata": {
    "tags": [],
    "deepnote_to_be_reexecuted": false,
    "source_hash": "3dde5706",
    "execution_start": 1659520870060,
    "execution_millis": 0,
    "cell_id": "00020-b872e063-ba48-4ecd-9d26-5369fd6732ed",
    "deepnote_cell_type": "code",
    "deepnote_cell_height": 94
   },
   "source": " # Change Loan status from Y & N to 1 & 0\ndf['Loan_Status'] = df['Loan_Status'].replace({'N': 0, 'Y': 1})",
   "outputs": [],
   "execution_count": null
  },
  {
   "cell_type": "code",
   "metadata": {
    "tags": [],
    "deepnote_to_be_reexecuted": false,
    "source_hash": "785ca846",
    "execution_start": 1659520870061,
    "execution_millis": 8,
    "cell_id": "00021-71894963-cf2b-4c5f-aabc-b9a9539455ca",
    "deepnote_cell_type": "code",
    "deepnote_cell_height": 113.1875,
    "deepnote_output_heights": [
     21.1875
    ]
   },
   "source": "df['Loan_Status'].unique()",
   "outputs": [
    {
     "output_type": "execute_result",
     "execution_count": 13,
     "data": {
      "text/plain": "array([1, 0])"
     },
     "metadata": {}
    }
   ],
   "execution_count": null
  },
  {
   "cell_type": "code",
   "metadata": {
    "tags": [],
    "deepnote_to_be_reexecuted": false,
    "source_hash": "635e6371",
    "execution_start": 1659520870062,
    "execution_millis": 12,
    "cell_id": "00022-23b7d26a-08e3-4d7f-abd2-7fc5746fb30c",
    "deepnote_cell_type": "code",
    "deepnote_cell_height": 228.359375,
    "deepnote_output_heights": [
     136.359375
    ]
   },
   "source": "df.skew()",
   "outputs": [
    {
     "output_type": "execute_result",
     "execution_count": 14,
     "data": {
      "text/plain": "ApplicantIncome      6.539513\nCoapplicantIncome    7.491531\nLoanAmount           2.677552\nLoan_Amount_Term    -2.362414\nCredit_History      -1.882361\nLoan_Status         -0.809998\ndtype: float64"
     },
     "metadata": {}
    }
   ],
   "execution_count": null
  },
  {
   "cell_type": "code",
   "metadata": {
    "tags": [],
    "deepnote_to_be_reexecuted": false,
    "source_hash": "10af601",
    "execution_start": 1659520870079,
    "execution_millis": 880,
    "cell_id": "00023-b9fc7925-3281-4b13-a136-78f40179b6c2",
    "deepnote_cell_type": "code",
    "deepnote_cell_height": 643.328125,
    "deepnote_output_heights": [
     null,
     368.4375
    ]
   },
   "source": "fig = plt.figure(figsize = (20,14))\nax = fig.gca()\ndf.hist(ax = ax)\n\nplt.show()\n\n# we can see that most of the data are skewed. but it may be a good thing to help easily identify the label class",
   "outputs": [
    {
     "name": "stderr",
     "text": "<ipython-input-15-e476cab0f61e>:3: UserWarning: To output multiple subplots, the figure containing the passed axes is being cleared\n  df.hist(ax = ax)\n",
     "output_type": "stream"
    },
    {
     "data": {
      "text/plain": "<Figure size 1440x1008 with 6 Axes>",
      "image/png": "[encoded data removed]"
     },
     "metadata": {
      "needs_background": "light",
      "image/png": {
       "width": 1162,
       "height": 808
      }
     },
     "output_type": "display_data"
    }
   ],
   "execution_count": null
  },
  {
   "cell_type": "code",
   "metadata": {
    "tags": [],
    "deepnote_to_be_reexecuted": false,
    "source_hash": "89224fbb",
    "execution_start": 1659520870957,
    "execution_millis": 23,
    "cell_id": "00024-1b3a61ef-c64e-45e5-a522-5095aeefa105",
    "deepnote_cell_type": "code",
    "deepnote_cell_height": 549
   },
   "source": "# Describe the numerical data\n\ndf.describe()",
   "outputs": [
    {
     "output_type": "execute_result",
     "execution_count": 16,
     "data": {
      "application/vnd.deepnote.dataframe.v3+json": {
       "column_count": 6,
       "row_count": 8,
       "columns": [
        {
         "name": "ApplicantIncome",
         "dtype": "float64",
         "stats": {
          "unique_count": 8,
          "nan_count": 0,
          "min": "150.0",
          "max": "81000.0",
          "histogram": [
           {
            "bin_start": 150,
            "bin_end": 8235,
            "count": 7
           },
           {
            "bin_start": 8235,
            "bin_end": 16320,
            "count": 0
           },
           {
            "bin_start": 16320,
            "bin_end": 24405,
            "count": 0
           },
           {
            "bin_start": 24405,
            "bin_end": 32490,
            "count": 0
           },
           {
            "bin_start": 32490,
            "bin_end": 40575,
            "count": 0
           },
           {
            "bin_start": 40575,
            "bin_end": 48660,
            "count": 0
           },
           {
            "bin_start": 48660,
            "bin_end": 56745,
            "count": 0
           },
           {
            "bin_start": 56745,
            "bin_end": 64830,
            "count": 0
           },
           {
            "bin_start": 64830,
            "bin_end": 72915,
            "count": 0
           },
           {
            "bin_start": 72915,
            "bin_end": 81000,
            "count": 1
           }
          ]
         }
        },
        {
         "name": "CoapplicantIncome",
         "dtype": "float64",
         "stats": {
          "unique_count": 7,
          "nan_count": 0,
          "min": "0.0",
          "max": "41667.0",
          "histogram": [
           {
            "bin_start": 0,
            "bin_end": 4166.7,
            "count": 7
           },
           {
            "bin_start": 4166.7,
            "bin_end": 8333.4,
            "count": 0
           },
           {
            "bin_start": 8333.4,
            "bin_end": 12500.099999999999,
            "count": 0
           },
           {
            "bin_start": 12500.099999999999,
            "bin_end": 16666.8,
            "count": 0
           },
           {
            "bin_start": 16666.8,
            "bin_end": 20833.5,
            "count": 0
           },
           {
            "bin_start": 20833.5,
            "bin_end": 25000.199999999997,
            "count": 0
           },
           {
            "bin_start": 25000.199999999997,
            "bin_end": 29166.899999999998,
            "count": 0
           },
           {
            "bin_start": 29166.899999999998,
            "bin_end": 33333.6,
            "count": 0
           },
           {
            "bin_start": 33333.6,
            "bin_end": 37500.299999999996,
            "count": 0
           },
           {
            "bin_start": 37500.299999999996,
            "bin_end": 41667,
            "count": 1
           }
          ]
         }
        },
        {
         "name": "LoanAmount",
         "dtype": "float64",
         "stats": {
          "unique_count": 8,
          "nan_count": 0,
          "min": "9.0",
          "max": "700.0",
          "histogram": [
           {
            "bin_start": 9,
            "bin_end": 78.1,
            "count": 1
           },
           {
            "bin_start": 78.1,
            "bin_end": 147.2,
            "count": 4
           },
           {
            "bin_start": 147.2,
            "bin_end": 216.29999999999998,
            "count": 1
           },
           {
            "bin_start": 216.29999999999998,
            "bin_end": 285.4,
            "count": 0
           },
           {
            "bin_start": 285.4,
            "bin_end": 354.5,
            "count": 0
           },
           {
            "bin_start": 354.5,
            "bin_end": 423.59999999999997,
            "count": 0
           },
           {
            "bin_start": 423.59999999999997,
            "bin_end": 492.69999999999993,
            "count": 0
           },
           {
            "bin_start": 492.69999999999993,
            "bin_end": 561.8,
            "count": 0
           },
           {
            "bin_start": 561.8,
            "bin_end": 630.9,
            "count": 1
           },
           {
            "bin_start": 630.9,
            "bin_end": 700,
            "count": 1
           }
          ]
         }
        },
        {
         "name": "Loan_Amount_Term",
         "dtype": "float64",
         "stats": {
          "unique_count": 6,
          "nan_count": 0,
          "min": "12.0",
          "max": "600.0",
          "histogram": [
           {
            "bin_start": 12,
            "bin_end": 70.8,
            "count": 2
           },
           {
            "bin_start": 70.8,
            "bin_end": 129.6,
            "count": 0
           },
           {
            "bin_start": 129.6,
            "bin_end": 188.39999999999998,
            "count": 0
           },
           {
            "bin_start": 188.39999999999998,
            "bin_end": 247.2,
            "count": 0
           },
           {
            "bin_start": 247.2,
            "bin_end": 306,
            "count": 0
           },
           {
            "bin_start": 306,
            "bin_end": 364.79999999999995,
            "count": 4
           },
           {
            "bin_start": 364.79999999999995,
            "bin_end": 423.59999999999997,
            "count": 0
           },
           {
            "bin_start": 423.59999999999997,
            "bin_end": 482.4,
            "count": 1
           },
           {
            "bin_start": 482.4,
            "bin_end": 541.1999999999999,
            "count": 0
           },
           {
            "bin_start": 541.1999999999999,
            "bin_end": 600,
            "count": 1
           }
          ]
         }
        },
        {
         "name": "Credit_History",
         "dtype": "float64",
         "stats": {
          "unique_count": 5,
          "nan_count": 0,
          "min": "0.0",
          "max": "564.0",
          "histogram": [
           {
            "bin_start": 0,
            "bin_end": 56.4,
            "count": 7
           },
           {
            "bin_start": 56.4,
            "bin_end": 112.8,
            "count": 0
           },
           {
            "bin_start": 112.8,
            "bin_end": 169.2,
            "count": 0
           },
           {
            "bin_start": 169.2,
            "bin_end": 225.6,
            "count": 0
           },
           {
            "bin_start": 225.6,
            "bin_end": 282,
            "count": 0
           },
           {
            "bin_start": 282,
            "bin_end": 338.4,
            "count": 0
           },
           {
            "bin_start": 338.4,
            "bin_end": 394.8,
            "count": 0
           },
           {
            "bin_start": 394.8,
            "bin_end": 451.2,
            "count": 0
           },
           {
            "bin_start": 451.2,
            "bin_end": 507.59999999999997,
            "count": 0
           },
           {
            "bin_start": 507.59999999999997,
            "bin_end": 564,
            "count": 1
           }
          ]
         }
        },
        {
         "name": "Loan_Status",
         "dtype": "float64",
         "stats": {
          "unique_count": 5,
          "nan_count": 0,
          "min": "0.0",
          "max": "614.0",
          "histogram": [
           {
            "bin_start": 0,
            "bin_end": 61.4,
            "count": 7
           },
           {
            "bin_start": 61.4,
            "bin_end": 122.8,
            "count": 0
           },
           {
            "bin_start": 122.8,
            "bin_end": 184.2,
            "count": 0
           },
           {
            "bin_start": 184.2,
            "bin_end": 245.6,
            "count": 0
           },
           {
            "bin_start": 245.6,
            "bin_end": 307,
            "count": 0
           },
           {
            "bin_start": 307,
            "bin_end": 368.4,
            "count": 0
           },
           {
            "bin_start": 368.4,
            "bin_end": 429.8,
            "count": 0
           },
           {
            "bin_start": 429.8,
            "bin_end": 491.2,
            "count": 0
           },
           {
            "bin_start": 491.2,
            "bin_end": 552.6,
            "count": 0
           },
           {
            "bin_start": 552.6,
            "bin_end": 614,
            "count": 1
           }
          ]
         }
        },
        {
         "name": "_deepnote_index_column",
         "dtype": "object"
        }
       ],
       "rows": [
        {
         "ApplicantIncome": 614,
         "CoapplicantIncome": 614,
         "LoanAmount": 592,
         "Loan_Amount_Term": 600,
         "Credit_History": 564,
         "Loan_Status": 614,
         "_deepnote_index_column": "count"
        },
        {
         "ApplicantIncome": 5403.459283387622,
         "CoapplicantIncome": 1621.2457980271008,
         "LoanAmount": 146.41216216216216,
         "Loan_Amount_Term": 342,
         "Credit_History": 0.8421985815602837,
         "Loan_Status": 0.6872964169381107,
         "_deepnote_index_column": "mean"
        },
        {
         "ApplicantIncome": 6109.041673387178,
         "CoapplicantIncome": 2926.2483692241885,
         "LoanAmount": 85.58732523570545,
         "Loan_Amount_Term": 65.12040985461256,
         "Credit_History": 0.3648783192364048,
         "Loan_Status": 0.46397268871800085,
         "_deepnote_index_column": "std"
        },
        {
         "ApplicantIncome": 150,
         "CoapplicantIncome": 0,
         "LoanAmount": 9,
         "Loan_Amount_Term": 12,
         "Credit_History": 0,
         "Loan_Status": 0,
         "_deepnote_index_column": "min"
        },
        {
         "ApplicantIncome": 2877.5,
         "CoapplicantIncome": 0,
         "LoanAmount": 100,
         "Loan_Amount_Term": 360,
         "Credit_History": 1,
         "Loan_Status": 0,
         "_deepnote_index_column": "25%"
        },
        {
         "ApplicantIncome": 3812.5,
         "CoapplicantIncome": 1188.5,
         "LoanAmount": 128,
         "Loan_Amount_Term": 360,
         "Credit_History": 1,
         "Loan_Status": 1,
         "_deepnote_index_column": "50%"
        },
        {
         "ApplicantIncome": 5795,
         "CoapplicantIncome": 2297.25,
         "LoanAmount": 168,
         "Loan_Amount_Term": 360,
         "Credit_History": 1,
         "Loan_Status": 1,
         "_deepnote_index_column": "75%"
        },
        {
         "ApplicantIncome": 81000,
         "CoapplicantIncome": 41667,
         "LoanAmount": 700,
         "Loan_Amount_Term": 480,
         "Credit_History": 1,
         "Loan_Status": 1,
         "_deepnote_index_column": "max"
        }
       ]
      },
      "text/plain": "       ApplicantIncome  CoapplicantIncome  LoanAmount  Loan_Amount_Term  \\\ncount       614.000000         614.000000  592.000000         600.00000   \nmean       5403.459283        1621.245798  146.412162         342.00000   \nstd        6109.041673        2926.248369   85.587325          65.12041   \nmin         150.000000           0.000000    9.000000          12.00000   \n25%        2877.500000           0.000000  100.000000         360.00000   \n50%        3812.500000        1188.500000  128.000000         360.00000   \n75%        5795.000000        2297.250000  168.000000         360.00000   \nmax       81000.000000       41667.000000  700.000000         480.00000   \n\n       Credit_History  Loan_Status  \ncount      564.000000   614.000000  \nmean         0.842199     0.687296  \nstd          0.364878     0.463973  \nmin          0.000000     0.000000  \n25%          1.000000     0.000000  \n50%          1.000000     1.000000  \n75%          1.000000     1.000000  \nmax          1.000000     1.000000  ",
      "text/html": "<div>\n<style scoped>\n    .dataframe tbody tr th:only-of-type {\n        vertical-align: middle;\n    }\n\n    .dataframe tbody tr th {\n        vertical-align: top;\n    }\n\n    .dataframe thead th {\n        text-align: right;\n    }\n</style>\n<table border=\"1\" class=\"dataframe\">\n  <thead>\n    <tr style=\"text-align: right;\">\n      <th></th>\n      <th>ApplicantIncome</th>\n      <th>CoapplicantIncome</th>\n      <th>LoanAmount</th>\n      <th>Loan_Amount_Term</th>\n      <th>Credit_History</th>\n      <th>Loan_Status</th>\n    </tr>\n  </thead>\n  <tbody>\n    <tr>\n      <th>count</th>\n      <td>614.000000</td>\n      <td>614.000000</td>\n      <td>592.000000</td>\n      <td>600.00000</td>\n      <td>564.000000</td>\n      <td>614.000000</td>\n    </tr>\n    <tr>\n      <th>mean</th>\n      <td>5403.459283</td>\n      <td>1621.245798</td>\n      <td>146.412162</td>\n      <td>342.00000</td>\n      <td>0.842199</td>\n      <td>0.687296</td>\n    </tr>\n    <tr>\n      <th>std</th>\n      <td>6109.041673</td>\n      <td>2926.248369</td>\n      <td>85.587325</td>\n      <td>65.12041</td>\n      <td>0.364878</td>\n      <td>0.463973</td>\n    </tr>\n    <tr>\n      <th>min</th>\n      <td>150.000000</td>\n      <td>0.000000</td>\n      <td>9.000000</td>\n      <td>12.00000</td>\n      <td>0.000000</td>\n      <td>0.000000</td>\n    </tr>\n    <tr>\n      <th>25%</th>\n      <td>2877.500000</td>\n      <td>0.000000</td>\n      <td>100.000000</td>\n      <td>360.00000</td>\n      <td>1.000000</td>\n      <td>0.000000</td>\n    </tr>\n    <tr>\n      <th>50%</th>\n      <td>3812.500000</td>\n      <td>1188.500000</td>\n      <td>128.000000</td>\n      <td>360.00000</td>\n      <td>1.000000</td>\n      <td>1.000000</td>\n    </tr>\n    <tr>\n      <th>75%</th>\n      <td>5795.000000</td>\n      <td>2297.250000</td>\n      <td>168.000000</td>\n      <td>360.00000</td>\n      <td>1.000000</td>\n      <td>1.000000</td>\n    </tr>\n    <tr>\n      <th>max</th>\n      <td>81000.000000</td>\n      <td>41667.000000</td>\n      <td>700.000000</td>\n      <td>480.00000</td>\n      <td>1.000000</td>\n      <td>1.000000</td>\n    </tr>\n  </tbody>\n</table>\n</div>"
     },
     "metadata": {}
    }
   ],
   "execution_count": null
  },
  {
   "cell_type": "code",
   "metadata": {
    "tags": [],
    "deepnote_to_be_reexecuted": false,
    "source_hash": "690883fa",
    "execution_start": 1659520870980,
    "execution_millis": 12,
    "cell_id": "00025-08f07273-3d29-4832-9241-33db08258757",
    "deepnote_cell_type": "code",
    "deepnote_cell_height": 149.1875,
    "deepnote_output_heights": [
     21.1875
    ]
   },
   "source": "df.duplicated().any()\n\n# we got no duplicated rows",
   "outputs": [
    {
     "output_type": "execute_result",
     "execution_count": 17,
     "data": {
      "text/plain": "False"
     },
     "metadata": {}
    }
   ],
   "execution_count": null
  },
  {
   "cell_type": "code",
   "metadata": {
    "tags": [],
    "deepnote_to_be_reexecuted": false,
    "source_hash": "25d43fa0",
    "execution_start": 1659520870995,
    "execution_millis": 3,
    "cell_id": "00026-a17c71ed-f1cf-47c3-9d99-b13996cded92",
    "deepnote_cell_type": "code",
    "deepnote_cell_height": 170.78125,
    "deepnote_output_heights": [
     78.78125
    ]
   },
   "source": "df.columns",
   "outputs": [
    {
     "output_type": "execute_result",
     "execution_count": 18,
     "data": {
      "text/plain": "Index(['Loan_ID', 'Gender', 'Married', 'Dependents', 'Education',\n       'Self_Employed', 'ApplicantIncome', 'CoapplicantIncome', 'LoanAmount',\n       'Loan_Amount_Term', 'Credit_History', 'Property_Area', 'Loan_Status'],\n      dtype='object')"
     },
     "metadata": {}
    }
   ],
   "execution_count": null
  },
  {
   "cell_type": "code",
   "metadata": {
    "tags": [],
    "deepnote_to_be_reexecuted": false,
    "source_hash": "8ad848c",
    "execution_start": 1659520871053,
    "execution_millis": 526,
    "cell_id": "00027-4093d9ad-be63-4cf1-acf9-2c0a603daf64",
    "deepnote_cell_type": "code",
    "deepnote_cell_height": 922.328125,
    "deepnote_output_heights": [
     null,
     365.484375
    ]
   },
   "source": "categorical = ['Gender','Married','Dependents','Education','Self_Employed', 'Property_Area']\n\nfig, ax = plt.subplots(2,3, figsize=(20, 14))\n\nindex = 0\nfor i in range(0,2):\n    for j in range(0,3):\n        sns.countplot(df[categorical[index]], ax=ax[i, j])\n        index += 1\n\n\nplt.show()",
   "outputs": [
    {
     "name": "stderr",
     "text": "/shared-libs/python3.9/py/lib/python3.9/site-packages/seaborn/_decorators.py:36: FutureWarning: Pass the following variable as a keyword arg: x. From version 0.12, the only valid positional argument will be `data`, and passing other arguments without an explicit keyword will result in an error or misinterpretation.\n  warnings.warn(\n/shared-libs/python3.9/py/lib/python3.9/site-packages/seaborn/_decorators.py:36: FutureWarning: Pass the following variable as a keyword arg: x. From version 0.12, the only valid positional argument will be `data`, and passing other arguments without an explicit keyword will result in an error or misinterpretation.\n  warnings.warn(\n/shared-libs/python3.9/py/lib/python3.9/site-packages/seaborn/_decorators.py:36: FutureWarning: Pass the following variable as a keyword arg: x. From version 0.12, the only valid positional argument will be `data`, and passing other arguments without an explicit keyword will result in an error or misinterpretation.\n  warnings.warn(\n/shared-libs/python3.9/py/lib/python3.9/site-packages/seaborn/_decorators.py:36: FutureWarning: Pass the following variable as a keyword arg: x. From version 0.12, the only valid positional argument will be `data`, and passing other arguments without an explicit keyword will result in an error or misinterpretation.\n  warnings.warn(\n/shared-libs/python3.9/py/lib/python3.9/site-packages/seaborn/_decorators.py:36: FutureWarning: Pass the following variable as a keyword arg: x. From version 0.12, the only valid positional argument will be `data`, and passing other arguments without an explicit keyword will result in an error or misinterpretation.\n  warnings.warn(\n/shared-libs/python3.9/py/lib/python3.9/site-packages/seaborn/_decorators.py:36: FutureWarning: Pass the following variable as a keyword arg: x. From version 0.12, the only valid positional argument will be `data`, and passing other arguments without an explicit keyword will result in an error or misinterpretation.\n  warnings.warn(\n",
     "output_type": "stream"
    },
    {
     "data": {
      "text/plain": "<Figure size 1440x1008 with 6 Axes>",
      "image/png": "[encoded data removed]"
     },
     "metadata": {
      "needs_background": "light",
      "image/png": {
       "width": 1170,
       "height": 807
      }
     },
     "output_type": "display_data"
    }
   ],
   "execution_count": null
  },
  {
   "cell_type": "code",
   "metadata": {
    "tags": [],
    "deepnote_to_be_reexecuted": false,
    "source_hash": "ecf81f1",
    "execution_start": 1659520871586,
    "execution_millis": 0,
    "cell_id": "00028-3ba74723-c20f-48a5-aaaf-133fedf5cadf",
    "deepnote_cell_type": "code",
    "deepnote_cell_height": 76
   },
   "source": "df_ = df[['ApplicantIncome','CoapplicantIncome','LoanAmount','Loan_Amount_Term','Credit_History']]",
   "outputs": [],
   "execution_count": null
  },
  {
   "cell_type": "code",
   "metadata": {
    "tags": [],
    "deepnote_to_be_reexecuted": false,
    "source_hash": "671d5584",
    "execution_start": 1659520871663,
    "execution_millis": 1902,
    "cell_id": "00029-2f866f16-5d89-44f3-a70f-73deca347066",
    "deepnote_cell_type": "code",
    "deepnote_cell_height": 1558.359375,
    "deepnote_output_heights": [
     null,
     611
    ]
   },
   "source": "# Draw the distributions of all variables\nf, axes = plt.subplots(5, 3, figsize=(18, 20))\ncolors = [\"r\", \"g\", \"b\", \"m\", \"c\"]  # m for magenta, c for cyan\n\ncount = 0\n# Start of for loop\nfor var in df_:\n    sns.boxplot(df_[var], orient = \"h\", color = colors[count], ax = axes[count,0])\n    sns.distplot(df_[var], color = colors[count], ax = axes[count,1])\n    sns.violinplot(df_[var], color = colors[count], ax = axes[count,2])\n    count += 1 # same as count = count + 1\n\n\nplt.show()",
   "outputs": [
    {
     "name": "stderr",
     "text": "/shared-libs/python3.9/py/lib/python3.9/site-packages/seaborn/_decorators.py:36: FutureWarning: Pass the following variable as a keyword arg: x. From version 0.12, the only valid positional argument will be `data`, and passing other arguments without an explicit keyword will result in an error or misinterpretation.\n  warnings.warn(\n/shared-libs/python3.9/py/lib/python3.9/site-packages/seaborn/distributions.py:2619: FutureWarning: `distplot` is a deprecated function and will be removed in a future version. Please adapt your code to use either `displot` (a figure-level function with similar flexibility) or `histplot` (an axes-level function for histograms).\n  warnings.warn(msg, FutureWarning)\n/shared-libs/python3.9/py/lib/python3.9/site-packages/seaborn/_decorators.py:36: FutureWarning: Pass the following variable as a keyword arg: x. From version 0.12, the only valid positional argument will be `data`, and passing other arguments without an explicit keyword will result in an error or misinterpretation.\n  warnings.warn(\n/shared-libs/python3.9/py/lib/python3.9/site-packages/seaborn/_decorators.py:36: FutureWarning: Pass the following variable as a keyword arg: x. From version 0.12, the only valid positional argument will be `data`, and passing other arguments without an explicit keyword will result in an error or misinterpretation.\n  warnings.warn(\n/shared-libs/python3.9/py/lib/python3.9/site-packages/seaborn/distributions.py:2619: FutureWarning: `distplot` is a deprecated function and will be removed in a future version. Please adapt your code to use either `displot` (a figure-level function with similar flexibility) or `histplot` (an axes-level function for histograms).\n  warnings.warn(msg, FutureWarning)\n/shared-libs/python3.9/py/lib/python3.9/site-packages/seaborn/_decorators.py:36: FutureWarning: Pass the following variable as a keyword arg: x. From version 0.12, the only valid positional argument will be `data`, and passing other arguments without an explicit keyword will result in an error or misinterpretation.\n  warnings.warn(\n/shared-libs/python3.9/py/lib/python3.9/site-packages/seaborn/_decorators.py:36: FutureWarning: Pass the following variable as a keyword arg: x. From version 0.12, the only valid positional argument will be `data`, and passing other arguments without an explicit keyword will result in an error or misinterpretation.\n  warnings.warn(\n/shared-libs/python3.9/py/lib/python3.9/site-packages/seaborn/distributions.py:2619: FutureWarning: `distplot` is a deprecated function and will be removed in a future version. Please adapt your code to use either `displot` (a figure-level function with similar flexibility) or `histplot` (an axes-level function for histograms).\n  warnings.warn(msg, FutureWarning)\n/shared-libs/python3.9/py/lib/python3.9/site-packages/seaborn/_decorators.py:36: FutureWarning: Pass the following variable as a keyword arg: x. From version 0.12, the only valid positional argument will be `data`, and passing other arguments without an explicit keyword will result in an error or misinterpretation.\n  warnings.warn(\n/shared-libs/python3.9/py/lib/python3.9/site-packages/seaborn/_decorators.py:36: FutureWarning: Pass the following variable as a keyword arg: x. From version 0.12, the only valid positional argument will be `data`, and passing other arguments without an explicit keyword will result in an error or misinterpretation.\n  warnings.warn(\n/shared-libs/python3.9/py/lib/python3.9/site-packages/seaborn/distributions.py:2619: FutureWarning: `distplot` is a deprecated function and will be removed in a future version. Please adapt your code to use either `displot` (a figure-level function with similar flexibility) or `histplot` (an axes-level function for histograms).\n  warnings.warn(msg, FutureWarning)\n/shared-libs/python3.9/py/lib/python3.9/site-packages/seaborn/_decorators.py:36: FutureWarning: Pass the following variable as a keyword arg: x. From version 0.12, the only valid positional argument will be `data`, and passing other arguments without an explicit keyword will result in an error or misinterpretation.\n  warnings.warn(\n/shared-libs/python3.9/py/lib/python3.9/site-packages/seaborn/_decorators.py:36: FutureWarning: Pass the following variable as a keyword arg: x. From version 0.12, the only valid positional argument will be `data`, and passing other arguments without an explicit keyword will result in an error or misinterpretation.\n  warnings.warn(\n/shared-libs/python3.9/py/lib/python3.9/site-packages/seaborn/distributions.py:2619: FutureWarning: `distplot` is a deprecated function and will be removed in a future version. Please adapt your code to use either `displot` (a figure-level function with similar flexibility) or `histplot` (an axes-level function for histograms).\n  warnings.warn(msg, FutureWarning)\n/shared-libs/python3.9/py/lib/python3.9/site-packages/seaborn/_decorators.py:36: FutureWarning: Pass the following variable as a keyword arg: x. From version 0.12, the only valid positional argument will be `data`, and passing other arguments without an explicit keyword will result in an error or misinterpretation.\n  warnings.warn(\n",
     "output_type": "stream"
    },
    {
     "data": {
      "text/plain": "<Figure size 1296x1440 with 15 Axes>",
      "image/png": "[encoded data removed]"
     },
     "metadata": {
      "needs_background": "light",
      "image/png": {
       "width": 1022,
       "height": 1133
      }
     },
     "output_type": "display_data"
    }
   ],
   "execution_count": null
  },
  {
   "cell_type": "markdown",
   "source": "####  Variables that will help us predict whether or not a person will be approved for a loan",
   "metadata": {
    "tags": [],
    "cell_id": "00033-7b96b95b-a503-475f-a63f-2c8b4f3bd0e3",
    "deepnote_cell_type": "markdown",
    "deepnote_cell_height": 54
   }
  },
  {
   "cell_type": "code",
   "metadata": {
    "tags": [],
    "deepnote_to_be_reexecuted": false,
    "source_hash": "4cc7281f",
    "execution_start": 1659520873567,
    "execution_millis": 10,
    "cell_id": "00034-3818eabd-ef0c-4a47-9a7d-d988dc7dfbab",
    "deepnote_cell_type": "code",
    "deepnote_cell_height": 205.578125,
    "deepnote_output_heights": [
     59.578125
    ]
   },
   "source": "# Most correlated values are: 1) Credit_History 2) Property_Area_Semiurban 3) Property_Area_Rural\n\ncorr_df = df.corr()\ncorr_df.columns",
   "outputs": [
    {
     "output_type": "execute_result",
     "execution_count": 22,
     "data": {
      "text/plain": "Index(['ApplicantIncome', 'CoapplicantIncome', 'LoanAmount',\n       'Loan_Amount_Term', 'Credit_History', 'Loan_Status'],\n      dtype='object')"
     },
     "metadata": {}
    }
   ],
   "execution_count": null
  },
  {
   "cell_type": "code",
   "metadata": {
    "tags": [],
    "deepnote_to_be_reexecuted": false,
    "source_hash": "e66cd009",
    "execution_start": 1659520873579,
    "execution_millis": 388737,
    "cell_id": "00035-f4815083-8e12-42fb-8e3c-fd7126ab55d4",
    "deepnote_cell_type": "code",
    "deepnote_cell_height": 94
   },
   "source": "# for _ ,column in enumerate(df.columns):\n#     sns.displot(df[column])",
   "outputs": [],
   "execution_count": null
  },
  {
   "cell_type": "code",
   "metadata": {
    "tags": [],
    "deepnote_to_be_reexecuted": false,
    "source_hash": "59ff271d",
    "execution_start": 1659520873583,
    "execution_millis": 10,
    "cell_id": "00036-fc49e0c2-8db2-4bea-a135-64a8a237e601",
    "deepnote_cell_type": "code",
    "deepnote_cell_height": 398.734375,
    "deepnote_output_heights": [
     270.734375
    ]
   },
   "source": "df.isnull().sum()\n\n#columns with missing cells",
   "outputs": [
    {
     "output_type": "execute_result",
     "execution_count": 24,
     "data": {
      "text/plain": "Loan_ID               0\nGender               13\nMarried               3\nDependents           15\nEducation             0\nSelf_Employed        32\nApplicantIncome       0\nCoapplicantIncome     0\nLoanAmount           22\nLoan_Amount_Term     14\nCredit_History       50\nProperty_Area         0\nLoan_Status           0\ndtype: int64"
     },
     "metadata": {}
    }
   ],
   "execution_count": null
  },
  {
   "cell_type": "code",
   "metadata": {
    "tags": [],
    "deepnote_to_be_reexecuted": false,
    "source_hash": "31b35881",
    "execution_start": 1659520873597,
    "execution_millis": 388729,
    "cell_id": "00037-33e7527b-f6fb-44a5-8ab4-8fd119535d18",
    "deepnote_cell_type": "code",
    "deepnote_cell_height": 76
   },
   "source": "data_train = df.copy()",
   "outputs": [],
   "execution_count": null
  },
  {
   "cell_type": "code",
   "metadata": {
    "tags": [],
    "deepnote_to_be_reexecuted": false,
    "source_hash": "13bdbb3f",
    "execution_start": 1659520873603,
    "execution_millis": 3,
    "cell_id": "00038-b370dffb-8c5d-4795-bae5-48000a1161a6",
    "deepnote_cell_type": "code",
    "deepnote_cell_height": 184
   },
   "source": "# Categorical values \n\n# train dataset \ndata_train['Gender'].fillna(data_train['Gender'].mode()[0], inplace=True)\ndata_train['Married'].fillna(data_train['Married'].mode()[0], inplace=True)\ndata_train['Dependents'].fillna(data_train['Dependents'].mode()[0], inplace=True)\ndata_train['Self_Employed'].fillna(data_train['Self_Employed'].mode()[0], inplace=True)",
   "outputs": [],
   "execution_count": null
  },
  {
   "cell_type": "code",
   "metadata": {
    "tags": [],
    "deepnote_to_be_reexecuted": false,
    "source_hash": "20111e65",
    "execution_start": 1659520873622,
    "execution_millis": 407,
    "cell_id": "00039-cd4771d6-f834-4f9c-a80d-4bd917df4a74",
    "deepnote_cell_type": "code",
    "deepnote_cell_height": 606.1875,
    "deepnote_output_heights": [
     null,
     354
    ]
   },
   "source": "# Example of numerical value histogram why we choose the median instead of the mean\nsns.displot(data_train['LoanAmount'])\nplt.axvline(x=data_train['LoanAmount'].median(),\n            color='red',linewidth=3, label='Median')\nplt.axvline(x=data_train['LoanAmount'].mean(),\n            color='orange',linewidth=3, label='Mean')\nplt.legend()",
   "outputs": [
    {
     "output_type": "execute_result",
     "execution_count": 27,
     "data": {
      "text/plain": "<matplotlib.legend.Legend at 0x7f8a361409d0>"
     },
     "metadata": {}
    },
    {
     "data": {
      "text/plain": "<Figure size 360x360 with 1 Axes>",
      "image/png": "[encoded data removed]"
     },
     "metadata": {
      "needs_background": "light",
      "image/png": {
       "width": 352,
       "height": 352
      }
     },
     "output_type": "display_data"
    }
   ],
   "execution_count": null
  },
  {
   "cell_type": "code",
   "metadata": {
    "tags": [],
    "deepnote_to_be_reexecuted": false,
    "source_hash": "5e7b8311",
    "execution_start": 1659520874039,
    "execution_millis": 367,
    "cell_id": "00040-aefaecbd-a4b7-4682-8af6-86d79d51446f",
    "deepnote_cell_type": "code",
    "deepnote_cell_height": 606.1875,
    "deepnote_output_heights": [
     21.1875,
     354
    ]
   },
   "source": "# Example of numerical value histogram why we choose the median instead of the mean\nsns.displot(data_train['Credit_History'])\nplt.axvline(x=data_train['Credit_History'].median(),\n            color='red',linewidth=3, label='Median')\nplt.axvline(x=data_train['Credit_History'].mean(),\n            color='orange',linewidth=3, label='Mean')\nplt.legend()",
   "outputs": [
    {
     "output_type": "execute_result",
     "execution_count": 28,
     "data": {
      "text/plain": "<matplotlib.legend.Legend at 0x7f8a3600da30>"
     },
     "metadata": {}
    },
    {
     "data": {
      "text/plain": "<Figure size 360x360 with 1 Axes>",
      "image/png": "[encoded data removed]"
     },
     "metadata": {
      "needs_background": "light",
      "image/png": {
       "width": 352,
       "height": 352
      }
     },
     "output_type": "display_data"
    }
   ],
   "execution_count": null
  },
  {
   "cell_type": "code",
   "metadata": {
    "tags": [],
    "deepnote_to_be_reexecuted": false,
    "source_hash": "331b86c1",
    "execution_start": 1659520874415,
    "execution_millis": 462,
    "cell_id": "00041-6841cd75-3f6c-47a1-8a1c-1de6d135eba9",
    "deepnote_cell_type": "code",
    "deepnote_cell_height": 588.1875,
    "deepnote_output_heights": [
     21.1875,
     354
    ]
   },
   "source": "sns.displot(data_train['Loan_Amount_Term'])\nplt.axvline(x=data_train['Loan_Amount_Term'].median(),\n            color='red',linewidth=3, label='Median')\nplt.axvline(x=data_train['Loan_Amount_Term'].mean(),\n            color='orange',linewidth=3, label='Mean')\nplt.legend()",
   "outputs": [
    {
     "output_type": "execute_result",
     "execution_count": 29,
     "data": {
      "text/plain": "<matplotlib.legend.Legend at 0x7f8a36006190>"
     },
     "metadata": {}
    },
    {
     "data": {
      "text/plain": "<Figure size 360x360 with 1 Axes>",
      "image/png": "[encoded data removed]"
     },
     "metadata": {
      "needs_background": "light",
      "image/png": {
       "width": 352,
       "height": 352
      }
     },
     "output_type": "display_data"
    }
   ],
   "execution_count": null
  },
  {
   "cell_type": "code",
   "metadata": {
    "tags": [],
    "deepnote_to_be_reexecuted": false,
    "source_hash": "c89bd59a",
    "execution_start": 1659520874873,
    "execution_millis": 7,
    "cell_id": "00042-dbc77597-2f0d-4494-ae10-1216d457fe77",
    "deepnote_cell_type": "code",
    "deepnote_cell_height": 148
   },
   "source": "# Numberical values \n\ndata_train['Credit_History'].fillna(data_train['Credit_History'].mode()[0], inplace=True)\ndata_train['Loan_Amount_Term'].fillna(data_train['Loan_Amount_Term'].mode()[0], inplace=True)\ndata_train['LoanAmount'].fillna(data_train['LoanAmount'].median(), inplace=True)",
   "outputs": [],
   "execution_count": null
  },
  {
   "cell_type": "code",
   "metadata": {
    "tags": [],
    "deepnote_to_be_reexecuted": false,
    "source_hash": "860c7c94",
    "execution_start": 1659520874892,
    "execution_millis": 3,
    "cell_id": "00043-27c199a1-cb75-4040-9224-a70fed46aa77",
    "deepnote_cell_type": "code",
    "deepnote_cell_height": 362.734375,
    "deepnote_output_heights": [
     270.734375
    ]
   },
   "source": "data_train.isnull().sum()",
   "outputs": [
    {
     "output_type": "execute_result",
     "execution_count": 31,
     "data": {
      "text/plain": "Loan_ID              0\nGender               0\nMarried              0\nDependents           0\nEducation            0\nSelf_Employed        0\nApplicantIncome      0\nCoapplicantIncome    0\nLoanAmount           0\nLoan_Amount_Term     0\nCredit_History       0\nProperty_Area        0\nLoan_Status          0\ndtype: int64"
     },
     "metadata": {}
    }
   ],
   "execution_count": null
  },
  {
   "cell_type": "code",
   "metadata": {
    "tags": [],
    "deepnote_to_be_reexecuted": false,
    "source_hash": "d9a2eb0a",
    "execution_start": 1659520874907,
    "execution_millis": 22,
    "cell_id": "00044-75992fef-bb9c-46b3-8497-b42fd84cb2e7",
    "deepnote_cell_type": "code",
    "deepnote_cell_height": 135
   },
   "source": "dummies = pd.get_dummies(data_train[['Gender','Married','Education','Self_Employed','Property_Area','Dependents']])\ndata_train = pd.concat([dummies, data_train.drop(['Gender','Married','Education','Self_Employed',\\\n                        'Dependents','Property_Area',], axis=1)], axis=1)\ndata_train = data_train.drop('Loan_ID', axis = 1)",
   "outputs": [],
   "execution_count": null
  },
  {
   "cell_type": "code",
   "source": "f, axes = plt.subplots(1, 1, figsize=(20, 10))\nsns.heatmap(data_train.corr(), vmin = -1, vmax = 1, linewidths = 1,\n           annot = True, fmt = \".2f\", annot_kws = {\"size\": 10}, cmap = \"RdBu\")",
   "metadata": {
    "tags": [],
    "deepnote_to_be_reexecuted": false,
    "source_hash": "36295bca",
    "execution_start": 1659521111340,
    "execution_millis": 3280,
    "cell_id": "00045-ffcb3ec8-7b09-44db-a42f-153c6901c5a8",
    "deepnote_cell_type": "code",
    "deepnote_cell_height": 498.46875,
    "deepnote_output_heights": [
     21.1875,
     318.28125
    ]
   },
   "outputs": [
    {
     "output_type": "execute_result",
     "execution_count": 86,
     "data": {
      "text/plain": "<AxesSubplot:>"
     },
     "metadata": {}
    },
    {
     "data": {
      "text/plain": "<Figure size 1440x720 with 2 Axes>",
      "image/png": "[encoded data removed]"
     },
     "metadata": {
      "needs_background": "light",
      "image/png": {
       "width": 1163,
       "height": 698
      }
     },
     "output_type": "display_data"
    }
   ],
   "execution_count": null
  },
  {
   "cell_type": "code",
   "metadata": {
    "tags": [],
    "deepnote_to_be_reexecuted": false,
    "source_hash": "36ee58be",
    "execution_start": 1659520878174,
    "execution_millis": 386902,
    "cell_id": "00047-f7f665e0-6862-4d01-a66a-45c922e5fb9e",
    "deepnote_cell_type": "code",
    "deepnote_cell_height": 552.296875,
    "deepnote_output_heights": [
     424.296875
    ]
   },
   "source": "# Most correlated values are: 1) Credit_History 2) Property_Area_Semiurban 3) Property_Area_Rural\ncorr_train = data_train.corr()\ncorr_train['Loan_Status'].sort_values(ascending=False)",
   "outputs": [
    {
     "output_type": "execute_result",
     "execution_count": 34,
     "data": {
      "text/plain": "Loan_Status                1.000000\nCredit_History             0.540556\nProperty_Area_Semiurban    0.136540\nMarried_Yes                0.091478\nEducation_Graduate         0.085884\nDependents_2               0.062384\nGender_Male                0.017987\nSelf_Employed_No           0.003700\nDependents_0              -0.003044\nSelf_Employed_Yes         -0.003700\nApplicantIncome           -0.004710\nGender_Female             -0.017987\nLoan_Amount_Term          -0.022549\nDependents_3+             -0.026123\nLoanAmount                -0.033214\nDependents_1              -0.038740\nProperty_Area_Urban       -0.043621\nCoapplicantIncome         -0.059187\nEducation_Not Graduate    -0.085884\nMarried_No                -0.091478\nProperty_Area_Rural       -0.100694\nName: Loan_Status, dtype: float64"
     },
     "metadata": {}
    }
   ],
   "execution_count": null
  },
  {
   "cell_type": "markdown",
   "source": "### Applying to Test Data",
   "metadata": {
    "formattedRanges": [],
    "is_collapsed": false,
    "tags": [],
    "cell_id": "00048-337abe6f-e18d-4d32-b199-f2d209ba1fc4",
    "deepnote_cell_type": "text-cell-h3"
   }
  },
  {
   "cell_type": "code",
   "metadata": {
    "tags": [],
    "deepnote_to_be_reexecuted": false,
    "source_hash": "7a60f907",
    "execution_start": 1659520878183,
    "execution_millis": 492,
    "cell_id": "00049-d14acfa0-aa1f-4235-9456-05c186eb82cf",
    "deepnote_cell_type": "code",
    "deepnote_cell_height": 76
   },
   "source": "data_test = df_test.copy()",
   "outputs": [],
   "execution_count": null
  },
  {
   "cell_type": "code",
   "metadata": {
    "tags": [],
    "deepnote_to_be_reexecuted": false,
    "source_hash": "ed56abf9",
    "execution_start": 1659520878229,
    "execution_millis": 1,
    "cell_id": "00050-9e3f19b8-8a51-408d-a97a-05865b4b9825",
    "deepnote_cell_type": "code",
    "deepnote_cell_height": 184
   },
   "source": "# (TEST SET) Filling missing rows with most appropriate value (median or mode)\ndata_test['Gender'].fillna(data_test['Gender'].mode()[0], inplace=True)\ndata_test['Dependents'].fillna(data_test['Dependents'].mode()[0], inplace=True)\ndata_test['Self_Employed'].fillna(data_test['Self_Employed'].mode()[0], inplace=True)\ndata_test['LoanAmount'].fillna(data_test['LoanAmount'].median(), inplace=True)\ndata_test['Loan_Amount_Term'].fillna(data_test['Loan_Amount_Term'].mode()[0], inplace=True)\ndata_test['Credit_History'].fillna(data_test['Credit_History'].mode()[0], inplace=True)",
   "outputs": [],
   "execution_count": null
  },
  {
   "cell_type": "code",
   "metadata": {
    "tags": [],
    "deepnote_to_be_reexecuted": false,
    "source_hash": "4ac0c7d3",
    "execution_start": 1659520966318,
    "execution_millis": 66,
    "cell_id": "00051-a7371e21-9c8c-4824-9323-c86cff5a8a7e",
    "deepnote_cell_type": "code",
    "deepnote_cell_height": 725
   },
   "source": "dummies = pd.get_dummies(data_test[['Gender','Married','Education','Self_Employed','Property_Area','Dependents']])\ndata_test = pd.concat([dummies, data_test.drop(['Gender','Married','Education','Self_Employed',\\\n                        'Dependents','Property_Area',], axis=1)], axis=1)\n\ndata_test = data_test.drop('Loan_ID', axis = 1)\n\ndata_test",
   "outputs": [
    {
     "output_type": "execute_result",
     "execution_count": 38,
     "data": {
      "application/vnd.deepnote.dataframe.v3+json": {
       "column_count": 20,
       "row_count": 367,
       "columns": [
        {
         "name": "Gender_Female",
         "dtype": "uint8",
         "stats": {
          "unique_count": 2,
          "nan_count": 0,
          "min": "0",
          "max": "1",
          "histogram": [
           {
            "bin_start": 0,
            "bin_end": 0.1,
            "count": 297
           },
           {
            "bin_start": 0.1,
            "bin_end": 0.2,
            "count": 0
           },
           {
            "bin_start": 0.2,
            "bin_end": 0.30000000000000004,
            "count": 0
           },
           {
            "bin_start": 0.30000000000000004,
            "bin_end": 0.4,
            "count": 0
           },
           {
            "bin_start": 0.4,
            "bin_end": 0.5,
            "count": 0
           },
           {
            "bin_start": 0.5,
            "bin_end": 0.6000000000000001,
            "count": 0
           },
           {
            "bin_start": 0.6000000000000001,
            "bin_end": 0.7000000000000001,
            "count": 0
           },
           {
            "bin_start": 0.7000000000000001,
            "bin_end": 0.8,
            "count": 0
           },
           {
            "bin_start": 0.8,
            "bin_end": 0.9,
            "count": 0
           },
           {
            "bin_start": 0.9,
            "bin_end": 1,
            "count": 70
           }
          ]
         }
        },
        {
         "name": "Gender_Male",
         "dtype": "uint8",
         "stats": {
          "unique_count": 2,
          "nan_count": 0,
          "min": "0",
          "max": "1",
          "histogram": [
           {
            "bin_start": 0,
            "bin_end": 0.1,
            "count": 70
           },
           {
            "bin_start": 0.1,
            "bin_end": 0.2,
            "count": 0
           },
           {
            "bin_start": 0.2,
            "bin_end": 0.30000000000000004,
            "count": 0
           },
           {
            "bin_start": 0.30000000000000004,
            "bin_end": 0.4,
            "count": 0
           },
           {
            "bin_start": 0.4,
            "bin_end": 0.5,
            "count": 0
           },
           {
            "bin_start": 0.5,
            "bin_end": 0.6000000000000001,
            "count": 0
           },
           {
            "bin_start": 0.6000000000000001,
            "bin_end": 0.7000000000000001,
            "count": 0
           },
           {
            "bin_start": 0.7000000000000001,
            "bin_end": 0.8,
            "count": 0
           },
           {
            "bin_start": 0.8,
            "bin_end": 0.9,
            "count": 0
           },
           {
            "bin_start": 0.9,
            "bin_end": 1,
            "count": 297
           }
          ]
         }
        },
        {
         "name": "Married_No",
         "dtype": "uint8",
         "stats": {
          "unique_count": 2,
          "nan_count": 0,
          "min": "0",
          "max": "1",
          "histogram": [
           {
            "bin_start": 0,
            "bin_end": 0.1,
            "count": 233
           },
           {
            "bin_start": 0.1,
            "bin_end": 0.2,
            "count": 0
           },
           {
            "bin_start": 0.2,
            "bin_end": 0.30000000000000004,
            "count": 0
           },
           {
            "bin_start": 0.30000000000000004,
            "bin_end": 0.4,
            "count": 0
           },
           {
            "bin_start": 0.4,
            "bin_end": 0.5,
            "count": 0
           },
           {
            "bin_start": 0.5,
            "bin_end": 0.6000000000000001,
            "count": 0
           },
           {
            "bin_start": 0.6000000000000001,
            "bin_end": 0.7000000000000001,
            "count": 0
           },
           {
            "bin_start": 0.7000000000000001,
            "bin_end": 0.8,
            "count": 0
           },
           {
            "bin_start": 0.8,
            "bin_end": 0.9,
            "count": 0
           },
           {
            "bin_start": 0.9,
            "bin_end": 1,
            "count": 134
           }
          ]
         }
        },
        {
         "name": "Married_Yes",
         "dtype": "uint8",
         "stats": {
          "unique_count": 2,
          "nan_count": 0,
          "min": "0",
          "max": "1",
          "histogram": [
           {
            "bin_start": 0,
            "bin_end": 0.1,
            "count": 134
           },
           {
            "bin_start": 0.1,
            "bin_end": 0.2,
            "count": 0
           },
           {
            "bin_start": 0.2,
            "bin_end": 0.30000000000000004,
            "count": 0
           },
           {
            "bin_start": 0.30000000000000004,
            "bin_end": 0.4,
            "count": 0
           },
           {
            "bin_start": 0.4,
            "bin_end": 0.5,
            "count": 0
           },
           {
            "bin_start": 0.5,
            "bin_end": 0.6000000000000001,
            "count": 0
           },
           {
            "bin_start": 0.6000000000000001,
            "bin_end": 0.7000000000000001,
            "count": 0
           },
           {
            "bin_start": 0.7000000000000001,
            "bin_end": 0.8,
            "count": 0
           },
           {
            "bin_start": 0.8,
            "bin_end": 0.9,
            "count": 0
           },
           {
            "bin_start": 0.9,
            "bin_end": 1,
            "count": 233
           }
          ]
         }
        },
        {
         "name": "Education_Graduate",
         "dtype": "uint8",
         "stats": {
          "unique_count": 2,
          "nan_count": 0,
          "min": "0",
          "max": "1",
          "histogram": [
           {
            "bin_start": 0,
            "bin_end": 0.1,
            "count": 84
           },
           {
            "bin_start": 0.1,
            "bin_end": 0.2,
            "count": 0
           },
           {
            "bin_start": 0.2,
            "bin_end": 0.30000000000000004,
            "count": 0
           },
           {
            "bin_start": 0.30000000000000004,
            "bin_end": 0.4,
            "count": 0
           },
           {
            "bin_start": 0.4,
            "bin_end": 0.5,
            "count": 0
           },
           {
            "bin_start": 0.5,
            "bin_end": 0.6000000000000001,
            "count": 0
           },
           {
            "bin_start": 0.6000000000000001,
            "bin_end": 0.7000000000000001,
            "count": 0
           },
           {
            "bin_start": 0.7000000000000001,
            "bin_end": 0.8,
            "count": 0
           },
           {
            "bin_start": 0.8,
            "bin_end": 0.9,
            "count": 0
           },
           {
            "bin_start": 0.9,
            "bin_end": 1,
            "count": 283
           }
          ]
         }
        },
        {
         "name": "Education_Not Graduate",
         "dtype": "uint8",
         "stats": {
          "unique_count": 2,
          "nan_count": 0,
          "min": "0",
          "max": "1",
          "histogram": [
           {
            "bin_start": 0,
            "bin_end": 0.1,
            "count": 283
           },
           {
            "bin_start": 0.1,
            "bin_end": 0.2,
            "count": 0
           },
           {
            "bin_start": 0.2,
            "bin_end": 0.30000000000000004,
            "count": 0
           },
           {
            "bin_start": 0.30000000000000004,
            "bin_end": 0.4,
            "count": 0
           },
           {
            "bin_start": 0.4,
            "bin_end": 0.5,
            "count": 0
           },
           {
            "bin_start": 0.5,
            "bin_end": 0.6000000000000001,
            "count": 0
           },
           {
            "bin_start": 0.6000000000000001,
            "bin_end": 0.7000000000000001,
            "count": 0
           },
           {
            "bin_start": 0.7000000000000001,
            "bin_end": 0.8,
            "count": 0
           },
           {
            "bin_start": 0.8,
            "bin_end": 0.9,
            "count": 0
           },
           {
            "bin_start": 0.9,
            "bin_end": 1,
            "count": 84
           }
          ]
         }
        },
        {
         "name": "Self_Employed_No",
         "dtype": "uint8",
         "stats": {
          "unique_count": 2,
          "nan_count": 0,
          "min": "0",
          "max": "1",
          "histogram": [
           {
            "bin_start": 0,
            "bin_end": 0.1,
            "count": 37
           },
           {
            "bin_start": 0.1,
            "bin_end": 0.2,
            "count": 0
           },
           {
            "bin_start": 0.2,
            "bin_end": 0.30000000000000004,
            "count": 0
           },
           {
            "bin_start": 0.30000000000000004,
            "bin_end": 0.4,
            "count": 0
           },
           {
            "bin_start": 0.4,
            "bin_end": 0.5,
            "count": 0
           },
           {
            "bin_start": 0.5,
            "bin_end": 0.6000000000000001,
            "count": 0
           },
           {
            "bin_start": 0.6000000000000001,
            "bin_end": 0.7000000000000001,
            "count": 0
           },
           {
            "bin_start": 0.7000000000000001,
            "bin_end": 0.8,
            "count": 0
           },
           {
            "bin_start": 0.8,
            "bin_end": 0.9,
            "count": 0
           },
           {
            "bin_start": 0.9,
            "bin_end": 1,
            "count": 330
           }
          ]
         }
        },
        {
         "name": "Self_Employed_Yes",
         "dtype": "uint8",
         "stats": {
          "unique_count": 2,
          "nan_count": 0,
          "min": "0",
          "max": "1",
          "histogram": [
           {
            "bin_start": 0,
            "bin_end": 0.1,
            "count": 330
           },
           {
            "bin_start": 0.1,
            "bin_end": 0.2,
            "count": 0
           },
           {
            "bin_start": 0.2,
            "bin_end": 0.30000000000000004,
            "count": 0
           },
           {
            "bin_start": 0.30000000000000004,
            "bin_end": 0.4,
            "count": 0
           },
           {
            "bin_start": 0.4,
            "bin_end": 0.5,
            "count": 0
           },
           {
            "bin_start": 0.5,
            "bin_end": 0.6000000000000001,
            "count": 0
           },
           {
            "bin_start": 0.6000000000000001,
            "bin_end": 0.7000000000000001,
            "count": 0
           },
           {
            "bin_start": 0.7000000000000001,
            "bin_end": 0.8,
            "count": 0
           },
           {
            "bin_start": 0.8,
            "bin_end": 0.9,
            "count": 0
           },
           {
            "bin_start": 0.9,
            "bin_end": 1,
            "count": 37
           }
          ]
         }
        },
        {
         "name": "Property_Area_Rural",
         "dtype": "uint8",
         "stats": {
          "unique_count": 2,
          "nan_count": 0,
          "min": "0",
          "max": "1",
          "histogram": [
           {
            "bin_start": 0,
            "bin_end": 0.1,
            "count": 256
           },
           {
            "bin_start": 0.1,
            "bin_end": 0.2,
            "count": 0
           },
           {
            "bin_start": 0.2,
            "bin_end": 0.30000000000000004,
            "count": 0
           },
           {
            "bin_start": 0.30000000000000004,
            "bin_end": 0.4,
            "count": 0
           },
           {
            "bin_start": 0.4,
            "bin_end": 0.5,
            "count": 0
           },
           {
            "bin_start": 0.5,
            "bin_end": 0.6000000000000001,
            "count": 0
           },
           {
            "bin_start": 0.6000000000000001,
            "bin_end": 0.7000000000000001,
            "count": 0
           },
           {
            "bin_start": 0.7000000000000001,
            "bin_end": 0.8,
            "count": 0
           },
           {
            "bin_start": 0.8,
            "bin_end": 0.9,
            "count": 0
           },
           {
            "bin_start": 0.9,
            "bin_end": 1,
            "count": 111
           }
          ]
         }
        },
        {
         "name": "Property_Area_Semiurban",
         "dtype": "uint8",
         "stats": {
          "unique_count": 2,
          "nan_count": 0,
          "min": "0",
          "max": "1",
          "histogram": [
           {
            "bin_start": 0,
            "bin_end": 0.1,
            "count": 251
           },
           {
            "bin_start": 0.1,
            "bin_end": 0.2,
            "count": 0
           },
           {
            "bin_start": 0.2,
            "bin_end": 0.30000000000000004,
            "count": 0
           },
           {
            "bin_start": 0.30000000000000004,
            "bin_end": 0.4,
            "count": 0
           },
           {
            "bin_start": 0.4,
            "bin_end": 0.5,
            "count": 0
           },
           {
            "bin_start": 0.5,
            "bin_end": 0.6000000000000001,
            "count": 0
           },
           {
            "bin_start": 0.6000000000000001,
            "bin_end": 0.7000000000000001,
            "count": 0
           },
           {
            "bin_start": 0.7000000000000001,
            "bin_end": 0.8,
            "count": 0
           },
           {
            "bin_start": 0.8,
            "bin_end": 0.9,
            "count": 0
           },
           {
            "bin_start": 0.9,
            "bin_end": 1,
            "count": 116
           }
          ]
         }
        },
        {
         "name": "Property_Area_Urban",
         "dtype": "uint8",
         "stats": {
          "unique_count": 2,
          "nan_count": 0,
          "min": "0",
          "max": "1",
          "histogram": [
           {
            "bin_start": 0,
            "bin_end": 0.1,
            "count": 227
           },
           {
            "bin_start": 0.1,
            "bin_end": 0.2,
            "count": 0
           },
           {
            "bin_start": 0.2,
            "bin_end": 0.30000000000000004,
            "count": 0
           },
           {
            "bin_start": 0.30000000000000004,
            "bin_end": 0.4,
            "count": 0
           },
           {
            "bin_start": 0.4,
            "bin_end": 0.5,
            "count": 0
           },
           {
            "bin_start": 0.5,
            "bin_end": 0.6000000000000001,
            "count": 0
           },
           {
            "bin_start": 0.6000000000000001,
            "bin_end": 0.7000000000000001,
            "count": 0
           },
           {
            "bin_start": 0.7000000000000001,
            "bin_end": 0.8,
            "count": 0
           },
           {
            "bin_start": 0.8,
            "bin_end": 0.9,
            "count": 0
           },
           {
            "bin_start": 0.9,
            "bin_end": 1,
            "count": 140
           }
          ]
         }
        },
        {
         "name": "Dependents_0",
         "dtype": "uint8",
         "stats": {
          "unique_count": 2,
          "nan_count": 0,
          "min": "0",
          "max": "1",
          "histogram": [
           {
            "bin_start": 0,
            "bin_end": 0.1,
            "count": 157
           },
           {
            "bin_start": 0.1,
            "bin_end": 0.2,
            "count": 0
           },
           {
            "bin_start": 0.2,
            "bin_end": 0.30000000000000004,
            "count": 0
           },
           {
            "bin_start": 0.30000000000000004,
            "bin_end": 0.4,
            "count": 0
           },
           {
            "bin_start": 0.4,
            "bin_end": 0.5,
            "count": 0
           },
           {
            "bin_start": 0.5,
            "bin_end": 0.6000000000000001,
            "count": 0
           },
           {
            "bin_start": 0.6000000000000001,
            "bin_end": 0.7000000000000001,
            "count": 0
           },
           {
            "bin_start": 0.7000000000000001,
            "bin_end": 0.8,
            "count": 0
           },
           {
            "bin_start": 0.8,
            "bin_end": 0.9,
            "count": 0
           },
           {
            "bin_start": 0.9,
            "bin_end": 1,
            "count": 210
           }
          ]
         }
        },
        {
         "name": "Dependents_1",
         "dtype": "uint8",
         "stats": {
          "unique_count": 2,
          "nan_count": 0,
          "min": "0",
          "max": "1",
          "histogram": [
           {
            "bin_start": 0,
            "bin_end": 0.1,
            "count": 309
           },
           {
            "bin_start": 0.1,
            "bin_end": 0.2,
            "count": 0
           },
           {
            "bin_start": 0.2,
            "bin_end": 0.30000000000000004,
            "count": 0
           },
           {
            "bin_start": 0.30000000000000004,
            "bin_end": 0.4,
            "count": 0
           },
           {
            "bin_start": 0.4,
            "bin_end": 0.5,
            "count": 0
           },
           {
            "bin_start": 0.5,
            "bin_end": 0.6000000000000001,
            "count": 0
           },
           {
            "bin_start": 0.6000000000000001,
            "bin_end": 0.7000000000000001,
            "count": 0
           },
           {
            "bin_start": 0.7000000000000001,
            "bin_end": 0.8,
            "count": 0
           },
           {
            "bin_start": 0.8,
            "bin_end": 0.9,
            "count": 0
           },
           {
            "bin_start": 0.9,
            "bin_end": 1,
            "count": 58
           }
          ]
         }
        },
        {
         "name": "Dependents_2",
         "dtype": "uint8",
         "stats": {
          "unique_count": 2,
          "nan_count": 0,
          "min": "0",
          "max": "1",
          "histogram": [
           {
            "bin_start": 0,
            "bin_end": 0.1,
            "count": 308
           },
           {
            "bin_start": 0.1,
            "bin_end": 0.2,
            "count": 0
           },
           {
            "bin_start": 0.2,
            "bin_end": 0.30000000000000004,
            "count": 0
           },
           {
            "bin_start": 0.30000000000000004,
            "bin_end": 0.4,
            "count": 0
           },
           {
            "bin_start": 0.4,
            "bin_end": 0.5,
            "count": 0
           },
           {
            "bin_start": 0.5,
            "bin_end": 0.6000000000000001,
            "count": 0
           },
           {
            "bin_start": 0.6000000000000001,
            "bin_end": 0.7000000000000001,
            "count": 0
           },
           {
            "bin_start": 0.7000000000000001,
            "bin_end": 0.8,
            "count": 0
           },
           {
            "bin_start": 0.8,
            "bin_end": 0.9,
            "count": 0
           },
           {
            "bin_start": 0.9,
            "bin_end": 1,
            "count": 59
           }
          ]
         }
        },
        {
         "name": "Dependents_3+",
         "dtype": "uint8",
         "stats": {
          "unique_count": 2,
          "nan_count": 0,
          "min": "0",
          "max": "1",
          "histogram": [
           {
            "bin_start": 0,
            "bin_end": 0.1,
            "count": 327
           },
           {
            "bin_start": 0.1,
            "bin_end": 0.2,
            "count": 0
           },
           {
            "bin_start": 0.2,
            "bin_end": 0.30000000000000004,
            "count": 0
           },
           {
            "bin_start": 0.30000000000000004,
            "bin_end": 0.4,
            "count": 0
           },
           {
            "bin_start": 0.4,
            "bin_end": 0.5,
            "count": 0
           },
           {
            "bin_start": 0.5,
            "bin_end": 0.6000000000000001,
            "count": 0
           },
           {
            "bin_start": 0.6000000000000001,
            "bin_end": 0.7000000000000001,
            "count": 0
           },
           {
            "bin_start": 0.7000000000000001,
            "bin_end": 0.8,
            "count": 0
           },
           {
            "bin_start": 0.8,
            "bin_end": 0.9,
            "count": 0
           },
           {
            "bin_start": 0.9,
            "bin_end": 1,
            "count": 40
           }
          ]
         }
        },
        {
         "name": "ApplicantIncome",
         "dtype": "int64",
         "stats": {
          "unique_count": 314,
          "nan_count": 0,
          "min": "0",
          "max": "72529",
          "histogram": [
           {
            "bin_start": 0,
            "bin_end": 7252.9,
            "count": 319
           },
           {
            "bin_start": 7252.9,
            "bin_end": 14505.8,
            "count": 39
           },
           {
            "bin_start": 14505.8,
            "bin_end": 21758.699999999997,
            "count": 5
           },
           {
            "bin_start": 21758.699999999997,
            "bin_end": 29011.6,
            "count": 1
           },
           {
            "bin_start": 29011.6,
            "bin_end": 36264.5,
            "count": 2
           },
           {
            "bin_start": 36264.5,
            "bin_end": 43517.399999999994,
            "count": 0
           },
           {
            "bin_start": 43517.399999999994,
            "bin_end": 50770.299999999996,
            "count": 0
           },
           {
            "bin_start": 50770.299999999996,
            "bin_end": 58023.2,
            "count": 0
           },
           {
            "bin_start": 58023.2,
            "bin_end": 65276.1,
            "count": 0
           },
           {
            "bin_start": 65276.1,
            "bin_end": 72529,
            "count": 1
           }
          ]
         }
        },
        {
         "name": "CoapplicantIncome",
         "dtype": "int64",
         "stats": {
          "unique_count": 194,
          "nan_count": 0,
          "min": "0",
          "max": "24000",
          "histogram": [
           {
            "bin_start": 0,
            "bin_end": 2400,
            "count": 271
           },
           {
            "bin_start": 2400,
            "bin_end": 4800,
            "count": 83
           },
           {
            "bin_start": 4800,
            "bin_end": 7200,
            "count": 6
           },
           {
            "bin_start": 7200,
            "bin_end": 9600,
            "count": 2
           },
           {
            "bin_start": 9600,
            "bin_end": 12000,
            "count": 1
           },
           {
            "bin_start": 12000,
            "bin_end": 14400,
            "count": 1
           },
           {
            "bin_start": 14400,
            "bin_end": 16800,
            "count": 2
           },
           {
            "bin_start": 16800,
            "bin_end": 19200,
            "count": 0
           },
           {
            "bin_start": 19200,
            "bin_end": 21600,
            "count": 0
           },
           {
            "bin_start": 21600,
            "bin_end": 24000,
            "count": 1
           }
          ]
         }
        },
        {
         "name": "LoanAmount",
         "dtype": "float64",
         "stats": {
          "unique_count": 144,
          "nan_count": 0,
          "min": "28.0",
          "max": "550.0",
          "histogram": [
           {
            "bin_start": 28,
            "bin_end": 80.2,
            "count": 46
           },
           {
            "bin_start": 80.2,
            "bin_end": 132.4,
            "count": 165
           },
           {
            "bin_start": 132.4,
            "bin_end": 184.60000000000002,
            "count": 100
           },
           {
            "bin_start": 184.60000000000002,
            "bin_end": 236.8,
            "count": 37
           },
           {
            "bin_start": 236.8,
            "bin_end": 289,
            "count": 8
           },
           {
            "bin_start": 289,
            "bin_end": 341.20000000000005,
            "count": 6
           },
           {
            "bin_start": 341.20000000000005,
            "bin_end": 393.40000000000003,
            "count": 2
           },
           {
            "bin_start": 393.40000000000003,
            "bin_end": 445.6,
            "count": 1
           },
           {
            "bin_start": 445.6,
            "bin_end": 497.8,
            "count": 1
           },
           {
            "bin_start": 497.8,
            "bin_end": 550,
            "count": 1
           }
          ]
         }
        },
        {
         "name": "Loan_Amount_Term",
         "dtype": "float64",
         "stats": {
          "unique_count": 12,
          "nan_count": 0,
          "min": "6.0",
          "max": "480.0",
          "histogram": [
           {
            "bin_start": 6,
            "bin_end": 53.4,
            "count": 3
           },
           {
            "bin_start": 53.4,
            "bin_end": 100.8,
            "count": 4
           },
           {
            "bin_start": 100.8,
            "bin_end": 148.2,
            "count": 1
           },
           {
            "bin_start": 148.2,
            "bin_end": 195.6,
            "count": 22
           },
           {
            "bin_start": 195.6,
            "bin_end": 243,
            "count": 4
           },
           {
            "bin_start": 243,
            "bin_end": 290.4,
            "count": 0
           },
           {
            "bin_start": 290.4,
            "bin_end": 337.8,
            "count": 7
           },
           {
            "bin_start": 337.8,
            "bin_end": 385.2,
            "count": 318
           },
           {
            "bin_start": 385.2,
            "bin_end": 432.59999999999997,
            "count": 0
           },
           {
            "bin_start": 432.59999999999997,
            "bin_end": 480,
            "count": 8
           }
          ]
         }
        },
        {
         "name": "Credit_History",
         "dtype": "float64",
         "stats": {
          "unique_count": 2,
          "nan_count": 0,
          "min": "0.0",
          "max": "1.0",
          "histogram": [
           {
            "bin_start": 0,
            "bin_end": 0.1,
            "count": 59
           },
           {
            "bin_start": 0.1,
            "bin_end": 0.2,
            "count": 0
           },
           {
            "bin_start": 0.2,
            "bin_end": 0.30000000000000004,
            "count": 0
           },
           {
            "bin_start": 0.30000000000000004,
            "bin_end": 0.4,
            "count": 0
           },
           {
            "bin_start": 0.4,
            "bin_end": 0.5,
            "count": 0
           },
           {
            "bin_start": 0.5,
            "bin_end": 0.6000000000000001,
            "count": 0
           },
           {
            "bin_start": 0.6000000000000001,
            "bin_end": 0.7000000000000001,
            "count": 0
           },
           {
            "bin_start": 0.7000000000000001,
            "bin_end": 0.8,
            "count": 0
           },
           {
            "bin_start": 0.8,
            "bin_end": 0.9,
            "count": 0
           },
           {
            "bin_start": 0.9,
            "bin_end": 1,
            "count": 308
           }
          ]
         }
        },
        {
         "name": "_deepnote_index_column",
         "dtype": "int64"
        }
       ],
       "rows": [
        {
         "Gender_Female": 0,
         "Gender_Male": 1,
         "Married_No": 0,
         "Married_Yes": 1,
         "Education_Graduate": 1,
         "Education_Not Graduate": 0,
         "Self_Employed_No": 1,
         "Self_Employed_Yes": 0,
         "Property_Area_Rural": 0,
         "Property_Area_Semiurban": 0,
         "Property_Area_Urban": 1,
         "Dependents_0": 1,
         "Dependents_1": 0,
         "Dependents_2": 0,
         "Dependents_3+": 0,
         "ApplicantIncome": 5720,
         "CoapplicantIncome": 0,
         "LoanAmount": 110,
         "Loan_Amount_Term": 360,
         "Credit_History": 1,
         "_deepnote_index_column": 0
        },
        {
         "Gender_Female": 0,
         "Gender_Male": 1,
         "Married_No": 0,
         "Married_Yes": 1,
         "Education_Graduate": 1,
         "Education_Not Graduate": 0,
         "Self_Employed_No": 1,
         "Self_Employed_Yes": 0,
         "Property_Area_Rural": 0,
         "Property_Area_Semiurban": 0,
         "Property_Area_Urban": 1,
         "Dependents_0": 0,
         "Dependents_1": 1,
         "Dependents_2": 0,
         "Dependents_3+": 0,
         "ApplicantIncome": 3076,
         "CoapplicantIncome": 1500,
         "LoanAmount": 126,
         "Loan_Amount_Term": 360,
         "Credit_History": 1,
         "_deepnote_index_column": 1
        },
        {
         "Gender_Female": 0,
         "Gender_Male": 1,
         "Married_No": 0,
         "Married_Yes": 1,
         "Education_Graduate": 1,
         "Education_Not Graduate": 0,
         "Self_Employed_No": 1,
         "Self_Employed_Yes": 0,
         "Property_Area_Rural": 0,
         "Property_Area_Semiurban": 0,
         "Property_Area_Urban": 1,
         "Dependents_0": 0,
         "Dependents_1": 0,
         "Dependents_2": 1,
         "Dependents_3+": 0,
         "ApplicantIncome": 5000,
         "CoapplicantIncome": 1800,
         "LoanAmount": 208,
         "Loan_Amount_Term": 360,
         "Credit_History": 1,
         "_deepnote_index_column": 2
        },
        {
         "Gender_Female": 0,
         "Gender_Male": 1,
         "Married_No": 0,
         "Married_Yes": 1,
         "Education_Graduate": 1,
         "Education_Not Graduate": 0,
         "Self_Employed_No": 1,
         "Self_Employed_Yes": 0,
         "Property_Area_Rural": 0,
         "Property_Area_Semiurban": 0,
         "Property_Area_Urban": 1,
         "Dependents_0": 0,
         "Dependents_1": 0,
         "Dependents_2": 1,
         "Dependents_3+": 0,
         "ApplicantIncome": 2340,
         "CoapplicantIncome": 2546,
         "LoanAmount": 100,
         "Loan_Amount_Term": 360,
         "Credit_History": 1,
         "_deepnote_index_column": 3
        },
        {
         "Gender_Female": 0,
         "Gender_Male": 1,
         "Married_No": 1,
         "Married_Yes": 0,
         "Education_Graduate": 0,
         "Education_Not Graduate": 1,
         "Self_Employed_No": 1,
         "Self_Employed_Yes": 0,
         "Property_Area_Rural": 0,
         "Property_Area_Semiurban": 0,
         "Property_Area_Urban": 1,
         "Dependents_0": 1,
         "Dependents_1": 0,
         "Dependents_2": 0,
         "Dependents_3+": 0,
         "ApplicantIncome": 3276,
         "CoapplicantIncome": 0,
         "LoanAmount": 78,
         "Loan_Amount_Term": 360,
         "Credit_History": 1,
         "_deepnote_index_column": 4
        },
        {
         "Gender_Female": 0,
         "Gender_Male": 1,
         "Married_No": 0,
         "Married_Yes": 1,
         "Education_Graduate": 0,
         "Education_Not Graduate": 1,
         "Self_Employed_No": 0,
         "Self_Employed_Yes": 1,
         "Property_Area_Rural": 0,
         "Property_Area_Semiurban": 0,
         "Property_Area_Urban": 1,
         "Dependents_0": 1,
         "Dependents_1": 0,
         "Dependents_2": 0,
         "Dependents_3+": 0,
         "ApplicantIncome": 2165,
         "CoapplicantIncome": 3422,
         "LoanAmount": 152,
         "Loan_Amount_Term": 360,
         "Credit_History": 1,
         "_deepnote_index_column": 5
        },
        {
         "Gender_Female": 1,
         "Gender_Male": 0,
         "Married_No": 1,
         "Married_Yes": 0,
         "Education_Graduate": 0,
         "Education_Not Graduate": 1,
         "Self_Employed_No": 1,
         "Self_Employed_Yes": 0,
         "Property_Area_Rural": 0,
         "Property_Area_Semiurban": 1,
         "Property_Area_Urban": 0,
         "Dependents_0": 0,
         "Dependents_1": 1,
         "Dependents_2": 0,
         "Dependents_3+": 0,
         "ApplicantIncome": 2226,
         "CoapplicantIncome": 0,
         "LoanAmount": 59,
         "Loan_Amount_Term": 360,
         "Credit_History": 1,
         "_deepnote_index_column": 6
        },
        {
         "Gender_Female": 0,
         "Gender_Male": 1,
         "Married_No": 0,
         "Married_Yes": 1,
         "Education_Graduate": 0,
         "Education_Not Graduate": 1,
         "Self_Employed_No": 1,
         "Self_Employed_Yes": 0,
         "Property_Area_Rural": 1,
         "Property_Area_Semiurban": 0,
         "Property_Area_Urban": 0,
         "Dependents_0": 0,
         "Dependents_1": 0,
         "Dependents_2": 1,
         "Dependents_3+": 0,
         "ApplicantIncome": 3881,
         "CoapplicantIncome": 0,
         "LoanAmount": 147,
         "Loan_Amount_Term": 360,
         "Credit_History": 0,
         "_deepnote_index_column": 7
        },
        {
         "Gender_Female": 0,
         "Gender_Male": 1,
         "Married_No": 0,
         "Married_Yes": 1,
         "Education_Graduate": 1,
         "Education_Not Graduate": 0,
         "Self_Employed_No": 1,
         "Self_Employed_Yes": 0,
         "Property_Area_Rural": 0,
         "Property_Area_Semiurban": 0,
         "Property_Area_Urban": 1,
         "Dependents_0": 0,
         "Dependents_1": 0,
         "Dependents_2": 1,
         "Dependents_3+": 0,
         "ApplicantIncome": 13633,
         "CoapplicantIncome": 0,
         "LoanAmount": 280,
         "Loan_Amount_Term": 240,
         "Credit_History": 1,
         "_deepnote_index_column": 8
        },
        {
         "Gender_Female": 0,
         "Gender_Male": 1,
         "Married_No": 1,
         "Married_Yes": 0,
         "Education_Graduate": 0,
         "Education_Not Graduate": 1,
         "Self_Employed_No": 1,
         "Self_Employed_Yes": 0,
         "Property_Area_Rural": 0,
         "Property_Area_Semiurban": 1,
         "Property_Area_Urban": 0,
         "Dependents_0": 1,
         "Dependents_1": 0,
         "Dependents_2": 0,
         "Dependents_3+": 0,
         "ApplicantIncome": 2400,
         "CoapplicantIncome": 2400,
         "LoanAmount": 123,
         "Loan_Amount_Term": 360,
         "Credit_History": 1,
         "_deepnote_index_column": 9
        }
       ]
      },
      "text/plain": "     Gender_Female  Gender_Male  Married_No  Married_Yes  Education_Graduate  \\\n0                0            1           0            1                   1   \n1                0            1           0            1                   1   \n2                0            1           0            1                   1   \n3                0            1           0            1                   1   \n4                0            1           1            0                   0   \n..             ...          ...         ...          ...                 ...   \n362              0            1           0            1                   0   \n363              0            1           0            1                   1   \n364              0            1           1            0                   1   \n365              0            1           0            1                   1   \n366              0            1           1            0                   1   \n\n     Education_Not Graduate  Self_Employed_No  Self_Employed_Yes  \\\n0                         0                 1                  0   \n1                         0                 1                  0   \n2                         0                 1                  0   \n3                         0                 1                  0   \n4                         1                 1                  0   \n..                      ...               ...                ...   \n362                       1                 0                  1   \n363                       0                 1                  0   \n364                       0                 1                  0   \n365                       0                 1                  0   \n366                       0                 0                  1   \n\n     Property_Area_Rural  Property_Area_Semiurban  Property_Area_Urban  \\\n0                      0                        0                    1   \n1                      0                        0                    1   \n2                      0                        0                    1   \n3                      0                        0                    1   \n4                      0                        0                    1   \n..                   ...                      ...                  ...   \n362                    0                        0                    1   \n363                    0                        0                    1   \n364                    0                        1                    0   \n365                    1                        0                    0   \n366                    1                        0                    0   \n\n     Dependents_0  Dependents_1  Dependents_2  Dependents_3+  ApplicantIncome  \\\n0               1             0             0              0             5720   \n1               0             1             0              0             3076   \n2               0             0             1              0             5000   \n3               0             0             1              0             2340   \n4               1             0             0              0             3276   \n..            ...           ...           ...            ...              ...   \n362             0             0             0              1             4009   \n363             1             0             0              0             4158   \n364             1             0             0              0             3250   \n365             1             0             0              0             5000   \n366             1             0             0              0             9200   \n\n     CoapplicantIncome  LoanAmount  Loan_Amount_Term  Credit_History  \n0                    0       110.0             360.0             1.0  \n1                 1500       126.0             360.0             1.0  \n2                 1800       208.0             360.0             1.0  \n3                 2546       100.0             360.0             1.0  \n4                    0        78.0             360.0             1.0  \n..                 ...         ...               ...             ...  \n362               1777       113.0             360.0             1.0  \n363                709       115.0             360.0             1.0  \n364               1993       126.0             360.0             1.0  \n365               2393       158.0             360.0             1.0  \n366                  0        98.0             180.0             1.0  \n\n[367 rows x 20 columns]",
      "text/html": "<div>\n<style scoped>\n    .dataframe tbody tr th:only-of-type {\n        vertical-align: middle;\n    }\n\n    .dataframe tbody tr th {\n        vertical-align: top;\n    }\n\n    .dataframe thead th {\n        text-align: right;\n    }\n</style>\n<table border=\"1\" class=\"dataframe\">\n  <thead>\n    <tr style=\"text-align: right;\">\n      <th></th>\n      <th>Gender_Female</th>\n      <th>Gender_Male</th>\n      <th>Married_No</th>\n      <th>Married_Yes</th>\n      <th>Education_Graduate</th>\n      <th>Education_Not Graduate</th>\n      <th>Self_Employed_No</th>\n      <th>Self_Employed_Yes</th>\n      <th>Property_Area_Rural</th>\n      <th>Property_Area_Semiurban</th>\n      <th>Property_Area_Urban</th>\n      <th>Dependents_0</th>\n      <th>Dependents_1</th>\n      <th>Dependents_2</th>\n      <th>Dependents_3+</th>\n      <th>ApplicantIncome</th>\n      <th>CoapplicantIncome</th>\n      <th>LoanAmount</th>\n      <th>Loan_Amount_Term</th>\n      <th>Credit_History</th>\n    </tr>\n  </thead>\n  <tbody>\n    <tr>\n      <th>0</th>\n      <td>0</td>\n      <td>1</td>\n      <td>0</td>\n      <td>1</td>\n      <td>1</td>\n      <td>0</td>\n      <td>1</td>\n      <td>0</td>\n      <td>0</td>\n      <td>0</td>\n      <td>1</td>\n      <td>1</td>\n      <td>0</td>\n      <td>0</td>\n      <td>0</td>\n      <td>5720</td>\n      <td>0</td>\n      <td>110.0</td>\n      <td>360.0</td>\n      <td>1.0</td>\n    </tr>\n    <tr>\n      <th>1</th>\n      <td>0</td>\n      <td>1</td>\n      <td>0</td>\n      <td>1</td>\n      <td>1</td>\n      <td>0</td>\n      <td>1</td>\n      <td>0</td>\n      <td>0</td>\n      <td>0</td>\n      <td>1</td>\n      <td>0</td>\n      <td>1</td>\n      <td>0</td>\n      <td>0</td>\n      <td>3076</td>\n      <td>1500</td>\n      <td>126.0</td>\n      <td>360.0</td>\n      <td>1.0</td>\n    </tr>\n    <tr>\n      <th>2</th>\n      <td>0</td>\n      <td>1</td>\n      <td>0</td>\n      <td>1</td>\n      <td>1</td>\n      <td>0</td>\n      <td>1</td>\n      <td>0</td>\n      <td>0</td>\n      <td>0</td>\n      <td>1</td>\n      <td>0</td>\n      <td>0</td>\n      <td>1</td>\n      <td>0</td>\n      <td>5000</td>\n      <td>1800</td>\n      <td>208.0</td>\n      <td>360.0</td>\n      <td>1.0</td>\n    </tr>\n    <tr>\n      <th>3</th>\n      <td>0</td>\n      <td>1</td>\n      <td>0</td>\n      <td>1</td>\n      <td>1</td>\n      <td>0</td>\n      <td>1</td>\n      <td>0</td>\n      <td>0</td>\n      <td>0</td>\n      <td>1</td>\n      <td>0</td>\n      <td>0</td>\n      <td>1</td>\n      <td>0</td>\n      <td>2340</td>\n      <td>2546</td>\n      <td>100.0</td>\n      <td>360.0</td>\n      <td>1.0</td>\n    </tr>\n    <tr>\n      <th>4</th>\n      <td>0</td>\n      <td>1</td>\n      <td>1</td>\n      <td>0</td>\n      <td>0</td>\n      <td>1</td>\n      <td>1</td>\n      <td>0</td>\n      <td>0</td>\n      <td>0</td>\n      <td>1</td>\n      <td>1</td>\n      <td>0</td>\n      <td>0</td>\n      <td>0</td>\n      <td>3276</td>\n      <td>0</td>\n      <td>78.0</td>\n      <td>360.0</td>\n      <td>1.0</td>\n    </tr>\n    <tr>\n      <th>...</th>\n      <td>...</td>\n      <td>...</td>\n      <td>...</td>\n      <td>...</td>\n      <td>...</td>\n      <td>...</td>\n      <td>...</td>\n      <td>...</td>\n      <td>...</td>\n      <td>...</td>\n      <td>...</td>\n      <td>...</td>\n      <td>...</td>\n      <td>...</td>\n      <td>...</td>\n      <td>...</td>\n      <td>...</td>\n      <td>...</td>\n      <td>...</td>\n      <td>...</td>\n    </tr>\n    <tr>\n      <th>362</th>\n      <td>0</td>\n      <td>1</td>\n      <td>0</td>\n      <td>1</td>\n      <td>0</td>\n      <td>1</td>\n      <td>0</td>\n      <td>1</td>\n      <td>0</td>\n      <td>0</td>\n      <td>1</td>\n      <td>0</td>\n      <td>0</td>\n      <td>0</td>\n      <td>1</td>\n      <td>4009</td>\n      <td>1777</td>\n      <td>113.0</td>\n      <td>360.0</td>\n      <td>1.0</td>\n    </tr>\n    <tr>\n      <th>363</th>\n      <td>0</td>\n      <td>1</td>\n      <td>0</td>\n      <td>1</td>\n      <td>1</td>\n      <td>0</td>\n      <td>1</td>\n      <td>0</td>\n      <td>0</td>\n      <td>0</td>\n      <td>1</td>\n      <td>1</td>\n      <td>0</td>\n      <td>0</td>\n      <td>0</td>\n      <td>4158</td>\n      <td>709</td>\n      <td>115.0</td>\n      <td>360.0</td>\n      <td>1.0</td>\n    </tr>\n    <tr>\n      <th>364</th>\n      <td>0</td>\n      <td>1</td>\n      <td>1</td>\n      <td>0</td>\n      <td>1</td>\n      <td>0</td>\n      <td>1</td>\n      <td>0</td>\n      <td>0</td>\n      <td>1</td>\n      <td>0</td>\n      <td>1</td>\n      <td>0</td>\n      <td>0</td>\n      <td>0</td>\n      <td>3250</td>\n      <td>1993</td>\n      <td>126.0</td>\n      <td>360.0</td>\n      <td>1.0</td>\n    </tr>\n    <tr>\n      <th>365</th>\n      <td>0</td>\n      <td>1</td>\n      <td>0</td>\n      <td>1</td>\n      <td>1</td>\n      <td>0</td>\n      <td>1</td>\n      <td>0</td>\n      <td>1</td>\n      <td>0</td>\n      <td>0</td>\n      <td>1</td>\n      <td>0</td>\n      <td>0</td>\n      <td>0</td>\n      <td>5000</td>\n      <td>2393</td>\n      <td>158.0</td>\n      <td>360.0</td>\n      <td>1.0</td>\n    </tr>\n    <tr>\n      <th>366</th>\n      <td>0</td>\n      <td>1</td>\n      <td>1</td>\n      <td>0</td>\n      <td>1</td>\n      <td>0</td>\n      <td>0</td>\n      <td>1</td>\n      <td>1</td>\n      <td>0</td>\n      <td>0</td>\n      <td>1</td>\n      <td>0</td>\n      <td>0</td>\n      <td>0</td>\n      <td>9200</td>\n      <td>0</td>\n      <td>98.0</td>\n      <td>180.0</td>\n      <td>1.0</td>\n    </tr>\n  </tbody>\n</table>\n<p>367 rows × 20 columns</p>\n</div>"
     },
     "metadata": {}
    }
   ],
   "execution_count": null
  },
  {
   "cell_type": "markdown",
   "source": "## Deciding significant Variables",
   "metadata": {
    "tags": [],
    "cell_id": "00052-bbc3392b-3824-4947-b41a-aa94d3750332",
    "deepnote_cell_type": "markdown",
    "deepnote_cell_height": 70
   }
  },
  {
   "cell_type": "code",
   "metadata": {
    "tags": [],
    "deepnote_to_be_reexecuted": false,
    "source_hash": "55588ea9",
    "execution_start": 1659520966370,
    "execution_millis": 1,
    "cell_id": "00053-514a4f50-fced-404e-a101-5a3a33ee196c",
    "deepnote_cell_type": "code",
    "deepnote_cell_height": 246.359375,
    "deepnote_output_heights": [
     136.359375
    ]
   },
   "source": "df_var = data_train.copy()\ndf_var.columns",
   "outputs": [
    {
     "output_type": "execute_result",
     "execution_count": 39,
     "data": {
      "text/plain": "Index(['Gender_Female', 'Gender_Male', 'Married_No', 'Married_Yes',\n       'Education_Graduate', 'Education_Not Graduate', 'Self_Employed_No',\n       'Self_Employed_Yes', 'Property_Area_Rural', 'Property_Area_Semiurban',\n       'Property_Area_Urban', 'Dependents_0', 'Dependents_1', 'Dependents_2',\n       'Dependents_3+', 'ApplicantIncome', 'CoapplicantIncome', 'LoanAmount',\n       'Loan_Amount_Term', 'Credit_History', 'Loan_Status'],\n      dtype='object')"
     },
     "metadata": {}
    }
   ],
   "execution_count": null
  },
  {
   "cell_type": "code",
   "source": "X = data_train.drop('Loan_Status' , axis = 1)\ny = data_train['Loan_Status']",
   "metadata": {
    "cell_id": "c9758a64387a49cd861dc065b0c5bb25",
    "tags": [],
    "deepnote_to_be_reexecuted": false,
    "source_hash": "90532927",
    "execution_start": 1659520966382,
    "execution_millis": 4,
    "deepnote_cell_type": "code",
    "deepnote_cell_height": 94
   },
   "outputs": [],
   "execution_count": null
  },
  {
   "cell_type": "code",
   "metadata": {
    "tags": [],
    "deepnote_to_be_reexecuted": false,
    "source_hash": "844c57aa",
    "execution_start": 1659520966433,
    "execution_millis": 810,
    "cell_id": "00054-2e80a5c7-75d8-4729-a72d-b4959ca45fbe",
    "deepnote_cell_type": "code",
    "deepnote_cell_height": 770.5,
    "deepnote_output_heights": [
     606.5
    ]
   },
   "source": "import statsmodels.api as sm\n\nregressor_OLS = sm.OLS(endog=y, exog=X).fit()\nregressor_OLS.summary()\n",
   "outputs": [
    {
     "output_type": "execute_result",
     "execution_count": 41,
     "data": {
      "text/plain": "<class 'statsmodels.iolib.summary.Summary'>\n\"\"\"\n                            OLS Regression Results                            \n==============================================================================\nDep. Variable:            Loan_Status   R-squared:                       0.328\nModel:                            OLS   Adj. R-squared:                  0.312\nMethod:                 Least Squares   F-statistic:                     20.87\nDate:                Wed, 03 Aug 2022   Prob (F-statistic):           3.00e-43\nTime:                        10:02:46   Log-Likelihood:                -277.28\nNo. Observations:                 614   AIC:                             584.6\nDf Residuals:                     599   BIC:                             650.9\nDf Model:                          14                                         \nCovariance Type:            nonrobust                                         \n===========================================================================================\n                              coef    std err          t      P>|t|      [0.025      0.975]\n-------------------------------------------------------------------------------------------\nGender_Female               0.0315      0.031      1.015      0.311      -0.029       0.093\nGender_Male                 0.0298      0.027      1.095      0.274      -0.024       0.083\nMarried_No                 -0.0151      0.028     -0.547      0.585      -0.070       0.039\nMarried_Yes                 0.0765      0.026      2.940      0.003       0.025       0.128\nEducation_Graduate          0.0609      0.028      2.184      0.029       0.006       0.116\nEducation_Not Graduate      0.0005      0.027      0.018      0.986      -0.052       0.053\nSelf_Employed_No            0.0298      0.028      1.078      0.282      -0.024       0.084\nSelf_Employed_Yes           0.0316      0.033      0.971      0.332      -0.032       0.095\nProperty_Area_Rural        -0.0361      0.027     -1.333      0.183      -0.089       0.017\nProperty_Area_Semiurban     0.0946      0.025      3.729      0.000       0.045       0.144\nProperty_Area_Urban         0.0028      0.025      0.112      0.911      -0.046       0.052\nDependents_0                0.0248      0.027      0.902      0.367      -0.029       0.079\nDependents_1               -0.0456      0.035     -1.317      0.188      -0.114       0.022\nDependents_2                0.0591      0.036      1.649      0.100      -0.011       0.129\nDependents_3+               0.0231      0.046      0.505      0.614      -0.067       0.113\nApplicantIncome          1.136e-06   3.26e-06      0.348      0.728   -5.28e-06    7.55e-06\nCoapplicantIncome       -1.042e-05   5.69e-06     -1.832      0.067   -2.16e-05     7.5e-07\nLoanAmount                 -0.0003      0.000     -1.037      0.300      -0.001       0.000\nLoan_Amount_Term           -0.0002      0.000     -0.733      0.464      -0.001       0.000\nCredit_History              0.7012      0.044     15.806      0.000       0.614       0.788\n==============================================================================\nOmnibus:                       93.825   Durbin-Watson:                   1.945\nProb(Omnibus):                  0.000   Jarque-Bera (JB):              135.469\nSkew:                          -1.131   Prob(JB):                     3.83e-30\nKurtosis:                       3.421   Cond. No.                     7.70e+19\n==============================================================================\n\nNotes:\n[1] Standard Errors assume that the covariance matrix of the errors is correctly specified.\n[2] The smallest eigenvalue is 6.97e-30. This might indicate that there are\nstrong multicollinearity problems or that the design matrix is singular.\n\"\"\"",
      "text/html": "<table class=\"simpletable\">\n<caption>OLS Regression Results</caption>\n<tr>\n  <th>Dep. Variable:</th>       <td>Loan_Status</td>   <th>  R-squared:         </th> <td>   0.328</td>\n</tr>\n<tr>\n  <th>Model:</th>                   <td>OLS</td>       <th>  Adj. R-squared:    </th> <td>   0.312</td>\n</tr>\n<tr>\n  <th>Method:</th>             <td>Least Squares</td>  <th>  F-statistic:       </th> <td>   20.87</td>\n</tr>\n<tr>\n  <th>Date:</th>             <td>Wed, 03 Aug 2022</td> <th>  Prob (F-statistic):</th> <td>3.00e-43</td>\n</tr>\n<tr>\n  <th>Time:</th>                 <td>10:02:46</td>     <th>  Log-Likelihood:    </th> <td> -277.28</td>\n</tr>\n<tr>\n  <th>No. Observations:</th>      <td>   614</td>      <th>  AIC:               </th> <td>   584.6</td>\n</tr>\n<tr>\n  <th>Df Residuals:</th>          <td>   599</td>      <th>  BIC:               </th> <td>   650.9</td>\n</tr>\n<tr>\n  <th>Df Model:</th>              <td>    14</td>      <th>                     </th>     <td> </td>   \n</tr>\n<tr>\n  <th>Covariance Type:</th>      <td>nonrobust</td>    <th>                     </th>     <td> </td>   \n</tr>\n</table>\n<table class=\"simpletable\">\n<tr>\n             <td></td>                <th>coef</th>     <th>std err</th>      <th>t</th>      <th>P>|t|</th>  <th>[0.025</th>    <th>0.975]</th>  \n</tr>\n<tr>\n  <th>Gender_Female</th>           <td>    0.0315</td> <td>    0.031</td> <td>    1.015</td> <td> 0.311</td> <td>   -0.029</td> <td>    0.093</td>\n</tr>\n<tr>\n  <th>Gender_Male</th>             <td>    0.0298</td> <td>    0.027</td> <td>    1.095</td> <td> 0.274</td> <td>   -0.024</td> <td>    0.083</td>\n</tr>\n<tr>\n  <th>Married_No</th>              <td>   -0.0151</td> <td>    0.028</td> <td>   -0.547</td> <td> 0.585</td> <td>   -0.070</td> <td>    0.039</td>\n</tr>\n<tr>\n  <th>Married_Yes</th>             <td>    0.0765</td> <td>    0.026</td> <td>    2.940</td> <td> 0.003</td> <td>    0.025</td> <td>    0.128</td>\n</tr>\n<tr>\n  <th>Education_Graduate</th>      <td>    0.0609</td> <td>    0.028</td> <td>    2.184</td> <td> 0.029</td> <td>    0.006</td> <td>    0.116</td>\n</tr>\n<tr>\n  <th>Education_Not Graduate</th>  <td>    0.0005</td> <td>    0.027</td> <td>    0.018</td> <td> 0.986</td> <td>   -0.052</td> <td>    0.053</td>\n</tr>\n<tr>\n  <th>Self_Employed_No</th>        <td>    0.0298</td> <td>    0.028</td> <td>    1.078</td> <td> 0.282</td> <td>   -0.024</td> <td>    0.084</td>\n</tr>\n<tr>\n  <th>Self_Employed_Yes</th>       <td>    0.0316</td> <td>    0.033</td> <td>    0.971</td> <td> 0.332</td> <td>   -0.032</td> <td>    0.095</td>\n</tr>\n<tr>\n  <th>Property_Area_Rural</th>     <td>   -0.0361</td> <td>    0.027</td> <td>   -1.333</td> <td> 0.183</td> <td>   -0.089</td> <td>    0.017</td>\n</tr>\n<tr>\n  <th>Property_Area_Semiurban</th> <td>    0.0946</td> <td>    0.025</td> <td>    3.729</td> <td> 0.000</td> <td>    0.045</td> <td>    0.144</td>\n</tr>\n<tr>\n  <th>Property_Area_Urban</th>     <td>    0.0028</td> <td>    0.025</td> <td>    0.112</td> <td> 0.911</td> <td>   -0.046</td> <td>    0.052</td>\n</tr>\n<tr>\n  <th>Dependents_0</th>            <td>    0.0248</td> <td>    0.027</td> <td>    0.902</td> <td> 0.367</td> <td>   -0.029</td> <td>    0.079</td>\n</tr>\n<tr>\n  <th>Dependents_1</th>            <td>   -0.0456</td> <td>    0.035</td> <td>   -1.317</td> <td> 0.188</td> <td>   -0.114</td> <td>    0.022</td>\n</tr>\n<tr>\n  <th>Dependents_2</th>            <td>    0.0591</td> <td>    0.036</td> <td>    1.649</td> <td> 0.100</td> <td>   -0.011</td> <td>    0.129</td>\n</tr>\n<tr>\n  <th>Dependents_3+</th>           <td>    0.0231</td> <td>    0.046</td> <td>    0.505</td> <td> 0.614</td> <td>   -0.067</td> <td>    0.113</td>\n</tr>\n<tr>\n  <th>ApplicantIncome</th>         <td> 1.136e-06</td> <td> 3.26e-06</td> <td>    0.348</td> <td> 0.728</td> <td>-5.28e-06</td> <td> 7.55e-06</td>\n</tr>\n<tr>\n  <th>CoapplicantIncome</th>       <td>-1.042e-05</td> <td> 5.69e-06</td> <td>   -1.832</td> <td> 0.067</td> <td>-2.16e-05</td> <td>  7.5e-07</td>\n</tr>\n<tr>\n  <th>LoanAmount</th>              <td>   -0.0003</td> <td>    0.000</td> <td>   -1.037</td> <td> 0.300</td> <td>   -0.001</td> <td>    0.000</td>\n</tr>\n<tr>\n  <th>Loan_Amount_Term</th>        <td>   -0.0002</td> <td>    0.000</td> <td>   -0.733</td> <td> 0.464</td> <td>   -0.001</td> <td>    0.000</td>\n</tr>\n<tr>\n  <th>Credit_History</th>          <td>    0.7012</td> <td>    0.044</td> <td>   15.806</td> <td> 0.000</td> <td>    0.614</td> <td>    0.788</td>\n</tr>\n</table>\n<table class=\"simpletable\">\n<tr>\n  <th>Omnibus:</th>       <td>93.825</td> <th>  Durbin-Watson:     </th> <td>   1.945</td>\n</tr>\n<tr>\n  <th>Prob(Omnibus):</th> <td> 0.000</td> <th>  Jarque-Bera (JB):  </th> <td> 135.469</td>\n</tr>\n<tr>\n  <th>Skew:</th>          <td>-1.131</td> <th>  Prob(JB):          </th> <td>3.83e-30</td>\n</tr>\n<tr>\n  <th>Kurtosis:</th>      <td> 3.421</td> <th>  Cond. No.          </th> <td>7.70e+19</td>\n</tr>\n</table><br/><br/>Notes:<br/>[1] Standard Errors assume that the covariance matrix of the errors is correctly specified.<br/>[2] The smallest eigenvalue is 6.97e-30. This might indicate that there are<br/>strong multicollinearity problems or that the design matrix is singular."
     },
     "metadata": {}
    }
   ],
   "execution_count": null
  },
  {
   "cell_type": "markdown",
   "source": "Having decided a significance level of 0.05:\nA few factors has been deemed significant enough to affect the loan status:\n1. The proportion of population that got married.\n2. Whether the person applying for loan has an education.\n3. Whether they live in semi urban area.\n4. The credit history of the person appliying for loan.",
   "metadata": {
    "tags": [],
    "cell_id": "00055-b9cf3f95-2961-40ef-9d87-9eb43651714a",
    "deepnote_cell_type": "markdown",
    "deepnote_cell_height": 201.390625
   }
  },
  {
   "cell_type": "code",
   "source": "X = data_train.drop('Loan_Status' , axis = 1)\ny = data_train['Loan_Status']",
   "metadata": {
    "cell_id": "242f91900f5a42aa8e3caf6551c9b294",
    "tags": [],
    "deepnote_to_be_reexecuted": false,
    "source_hash": "90532927",
    "execution_start": 1659520966923,
    "execution_millis": 10,
    "deepnote_cell_type": "code",
    "deepnote_cell_height": 94
   },
   "outputs": [],
   "execution_count": null
  },
  {
   "cell_type": "code",
   "source": "test = X[['Married_Yes','Education_Graduate','Property_Area_Semiurban','Credit_History']]\ntest.head()",
   "metadata": {
    "tags": [],
    "deepnote_to_be_reexecuted": false,
    "source_hash": "d365ad59",
    "execution_start": 1659520966940,
    "execution_millis": 325,
    "cell_id": "00056-43c233cd-8042-4845-991d-eec0300e2231",
    "deepnote_cell_type": "code",
    "deepnote_cell_height": 408
   },
   "outputs": [
    {
     "output_type": "execute_result",
     "execution_count": 43,
     "data": {
      "application/vnd.deepnote.dataframe.v3+json": {
       "column_count": 4,
       "row_count": 5,
       "columns": [
        {
         "name": "Married_Yes",
         "dtype": "uint8",
         "stats": {
          "unique_count": 2,
          "nan_count": 0,
          "min": "0",
          "max": "1",
          "histogram": [
           {
            "bin_start": 0,
            "bin_end": 0.1,
            "count": 2
           },
           {
            "bin_start": 0.1,
            "bin_end": 0.2,
            "count": 0
           },
           {
            "bin_start": 0.2,
            "bin_end": 0.30000000000000004,
            "count": 0
           },
           {
            "bin_start": 0.30000000000000004,
            "bin_end": 0.4,
            "count": 0
           },
           {
            "bin_start": 0.4,
            "bin_end": 0.5,
            "count": 0
           },
           {
            "bin_start": 0.5,
            "bin_end": 0.6000000000000001,
            "count": 0
           },
           {
            "bin_start": 0.6000000000000001,
            "bin_end": 0.7000000000000001,
            "count": 0
           },
           {
            "bin_start": 0.7000000000000001,
            "bin_end": 0.8,
            "count": 0
           },
           {
            "bin_start": 0.8,
            "bin_end": 0.9,
            "count": 0
           },
           {
            "bin_start": 0.9,
            "bin_end": 1,
            "count": 3
           }
          ]
         }
        },
        {
         "name": "Education_Graduate",
         "dtype": "uint8",
         "stats": {
          "unique_count": 2,
          "nan_count": 0,
          "min": "0",
          "max": "1",
          "histogram": [
           {
            "bin_start": 0,
            "bin_end": 0.1,
            "count": 1
           },
           {
            "bin_start": 0.1,
            "bin_end": 0.2,
            "count": 0
           },
           {
            "bin_start": 0.2,
            "bin_end": 0.30000000000000004,
            "count": 0
           },
           {
            "bin_start": 0.30000000000000004,
            "bin_end": 0.4,
            "count": 0
           },
           {
            "bin_start": 0.4,
            "bin_end": 0.5,
            "count": 0
           },
           {
            "bin_start": 0.5,
            "bin_end": 0.6000000000000001,
            "count": 0
           },
           {
            "bin_start": 0.6000000000000001,
            "bin_end": 0.7000000000000001,
            "count": 0
           },
           {
            "bin_start": 0.7000000000000001,
            "bin_end": 0.8,
            "count": 0
           },
           {
            "bin_start": 0.8,
            "bin_end": 0.9,
            "count": 0
           },
           {
            "bin_start": 0.9,
            "bin_end": 1,
            "count": 4
           }
          ]
         }
        },
        {
         "name": "Property_Area_Semiurban",
         "dtype": "uint8",
         "stats": {
          "unique_count": 1,
          "nan_count": 0,
          "min": "0",
          "max": "0",
          "histogram": [
           {
            "bin_start": -0.5,
            "bin_end": -0.4,
            "count": 0
           },
           {
            "bin_start": -0.4,
            "bin_end": -0.3,
            "count": 0
           },
           {
            "bin_start": -0.3,
            "bin_end": -0.19999999999999996,
            "count": 0
           },
           {
            "bin_start": -0.19999999999999996,
            "bin_end": -0.09999999999999998,
            "count": 0
           },
           {
            "bin_start": -0.09999999999999998,
            "bin_end": 0,
            "count": 0
           },
           {
            "bin_start": 0,
            "bin_end": 0.10000000000000009,
            "count": 5
           },
           {
            "bin_start": 0.10000000000000009,
            "bin_end": 0.20000000000000007,
            "count": 0
           },
           {
            "bin_start": 0.20000000000000007,
            "bin_end": 0.30000000000000004,
            "count": 0
           },
           {
            "bin_start": 0.30000000000000004,
            "bin_end": 0.4,
            "count": 0
           },
           {
            "bin_start": 0.4,
            "bin_end": 0.5,
            "count": 0
           }
          ]
         }
        },
        {
         "name": "Credit_History",
         "dtype": "float64",
         "stats": {
          "unique_count": 1,
          "nan_count": 0,
          "min": "1.0",
          "max": "1.0",
          "histogram": [
           {
            "bin_start": 0.5,
            "bin_end": 0.6,
            "count": 0
           },
           {
            "bin_start": 0.6,
            "bin_end": 0.7,
            "count": 0
           },
           {
            "bin_start": 0.7,
            "bin_end": 0.8,
            "count": 0
           },
           {
            "bin_start": 0.8,
            "bin_end": 0.9,
            "count": 0
           },
           {
            "bin_start": 0.9,
            "bin_end": 1,
            "count": 0
           },
           {
            "bin_start": 1,
            "bin_end": 1.1,
            "count": 5
           },
           {
            "bin_start": 1.1,
            "bin_end": 1.2000000000000002,
            "count": 0
           },
           {
            "bin_start": 1.2000000000000002,
            "bin_end": 1.3,
            "count": 0
           },
           {
            "bin_start": 1.3,
            "bin_end": 1.4,
            "count": 0
           },
           {
            "bin_start": 1.4,
            "bin_end": 1.5,
            "count": 0
           }
          ]
         }
        },
        {
         "name": "_deepnote_index_column",
         "dtype": "int64"
        }
       ],
       "rows": [
        {
         "Married_Yes": 0,
         "Education_Graduate": 1,
         "Property_Area_Semiurban": 0,
         "Credit_History": 1,
         "_deepnote_index_column": 0
        },
        {
         "Married_Yes": 1,
         "Education_Graduate": 1,
         "Property_Area_Semiurban": 0,
         "Credit_History": 1,
         "_deepnote_index_column": 1
        },
        {
         "Married_Yes": 1,
         "Education_Graduate": 1,
         "Property_Area_Semiurban": 0,
         "Credit_History": 1,
         "_deepnote_index_column": 2
        },
        {
         "Married_Yes": 1,
         "Education_Graduate": 0,
         "Property_Area_Semiurban": 0,
         "Credit_History": 1,
         "_deepnote_index_column": 3
        },
        {
         "Married_Yes": 0,
         "Education_Graduate": 1,
         "Property_Area_Semiurban": 0,
         "Credit_History": 1,
         "_deepnote_index_column": 4
        }
       ]
      },
      "text/plain": "   Married_Yes  Education_Graduate  Property_Area_Semiurban  Credit_History\n0            0                   1                        0             1.0\n1            1                   1                        0             1.0\n2            1                   1                        0             1.0\n3            1                   0                        0             1.0\n4            0                   1                        0             1.0",
      "text/html": "<div>\n<style scoped>\n    .dataframe tbody tr th:only-of-type {\n        vertical-align: middle;\n    }\n\n    .dataframe tbody tr th {\n        vertical-align: top;\n    }\n\n    .dataframe thead th {\n        text-align: right;\n    }\n</style>\n<table border=\"1\" class=\"dataframe\">\n  <thead>\n    <tr style=\"text-align: right;\">\n      <th></th>\n      <th>Married_Yes</th>\n      <th>Education_Graduate</th>\n      <th>Property_Area_Semiurban</th>\n      <th>Credit_History</th>\n    </tr>\n  </thead>\n  <tbody>\n    <tr>\n      <th>0</th>\n      <td>0</td>\n      <td>1</td>\n      <td>0</td>\n      <td>1.0</td>\n    </tr>\n    <tr>\n      <th>1</th>\n      <td>1</td>\n      <td>1</td>\n      <td>0</td>\n      <td>1.0</td>\n    </tr>\n    <tr>\n      <th>2</th>\n      <td>1</td>\n      <td>1</td>\n      <td>0</td>\n      <td>1.0</td>\n    </tr>\n    <tr>\n      <th>3</th>\n      <td>1</td>\n      <td>0</td>\n      <td>0</td>\n      <td>1.0</td>\n    </tr>\n    <tr>\n      <th>4</th>\n      <td>0</td>\n      <td>1</td>\n      <td>0</td>\n      <td>1.0</td>\n    </tr>\n  </tbody>\n</table>\n</div>"
     },
     "metadata": {}
    }
   ],
   "execution_count": null
  },
  {
   "cell_type": "code",
   "source": "data_test_opt = data_test[['Married_Yes','Education_Graduate','Property_Area_Semiurban','Credit_History']]",
   "metadata": {
    "tags": [],
    "deepnote_to_be_reexecuted": false,
    "source_hash": "777b48ef",
    "execution_start": 1659520966980,
    "execution_millis": 3,
    "cell_id": "00057-7a7dfb0a-c920-47fd-8ebc-ad8aff2d72f6",
    "deepnote_cell_type": "code",
    "deepnote_cell_height": 81
   },
   "outputs": [],
   "execution_count": null
  },
  {
   "cell_type": "markdown",
   "source": "# Machine Learning Model",
   "metadata": {
    "formattedRanges": [],
    "is_collapsed": false,
    "tags": [],
    "cell_id": "00058-f58e5e24-9993-46d1-9f21-84673cbb1e47",
    "deepnote_cell_type": "text-cell-h1"
   }
  },
  {
   "cell_type": "code",
   "source": "from sklearn.model_selection import train_test_split\nx_train, x_cv, y_train, y_cv = train_test_split(test,y, test_size=0.3)",
   "metadata": {
    "tags": [],
    "deepnote_to_be_reexecuted": false,
    "source_hash": "e13b62ec",
    "execution_start": 1659520966991,
    "execution_millis": 131,
    "cell_id": "00059-417ab58c-6e9b-4b84-b2d9-fdcca7b3a1f3",
    "deepnote_cell_type": "code",
    "deepnote_cell_height": 94
   },
   "outputs": [],
   "execution_count": null
  },
  {
   "cell_type": "markdown",
   "source": "Models to try\n- Logistic Regression\n- Support Vector Machines\n- Naive Bayes\n- Nearest Neighbor\n- Decision Trees",
   "metadata": {
    "tags": [],
    "cell_id": "00060-f939d37e-e19d-42eb-b523-52d0cd7989d3",
    "deepnote_cell_type": "markdown",
    "deepnote_cell_height": 204.390625
   }
  },
  {
   "cell_type": "markdown",
   "source": "### Logistic Regression",
   "metadata": {
    "tags": [],
    "cell_id": "00061-4cecf006-9a2b-4edf-bf22-98af3c58edb3",
    "deepnote_cell_type": "markdown",
    "deepnote_cell_height": 62
   }
  },
  {
   "cell_type": "code",
   "source": "from sklearn.metrics import accuracy_score\nfrom sklearn.metrics import f1_score\nfrom sklearn.linear_model import LogisticRegression\n\n\nlr_model = LogisticRegression()\nlr_model.fit(x_train, y_train)\n\nLogisticRegression()",
   "metadata": {
    "tags": [],
    "deepnote_to_be_reexecuted": false,
    "source_hash": "3efa19a1",
    "execution_start": 1659520967172,
    "execution_millis": 150,
    "cell_id": "00062-614fa3f3-13ba-402b-b3fa-f5b29dd0457c",
    "deepnote_cell_type": "code",
    "deepnote_cell_height": 296.375,
    "deepnote_output_heights": [
     60.375
    ]
   },
   "outputs": [
    {
     "output_type": "execute_result",
     "execution_count": 46,
     "data": {
      "text/plain": "LogisticRegression()",
      "text/html": "<style>#sk-container-id-1 {color: black;background-color: white;}#sk-container-id-1 pre{padding: 0;}#sk-container-id-1 div.sk-toggleable {background-color: white;}#sk-container-id-1 label.sk-toggleable__label {cursor: pointer;display: block;width: 100%;margin-bottom: 0;padding: 0.3em;box-sizing: border-box;text-align: center;}#sk-container-id-1 label.sk-toggleable__label-arrow:before {content: \"▸\";float: left;margin-right: 0.25em;color: #696969;}#sk-container-id-1 label.sk-toggleable__label-arrow:hover:before {color: black;}#sk-container-id-1 div.sk-estimator:hover label.sk-toggleable__label-arrow:before {color: black;}#sk-container-id-1 div.sk-toggleable__content {max-height: 0;max-width: 0;overflow: hidden;text-align: left;background-color: #f0f8ff;}#sk-container-id-1 div.sk-toggleable__content pre {margin: 0.2em;color: black;border-radius: 0.25em;background-color: #f0f8ff;}#sk-container-id-1 input.sk-toggleable__control:checked~div.sk-toggleable__content {max-height: 200px;max-width: 100%;overflow: auto;}#sk-container-id-1 input.sk-toggleable__control:checked~label.sk-toggleable__label-arrow:before {content: \"▾\";}#sk-container-id-1 div.sk-estimator input.sk-toggleable__control:checked~label.sk-toggleable__label {background-color: #d4ebff;}#sk-container-id-1 div.sk-label input.sk-toggleable__control:checked~label.sk-toggleable__label {background-color: #d4ebff;}#sk-container-id-1 input.sk-hidden--visually {border: 0;clip: rect(1px 1px 1px 1px);clip: rect(1px, 1px, 1px, 1px);height: 1px;margin: -1px;overflow: hidden;padding: 0;position: absolute;width: 1px;}#sk-container-id-1 div.sk-estimator {font-family: monospace;background-color: #f0f8ff;border: 1px dotted black;border-radius: 0.25em;box-sizing: border-box;margin-bottom: 0.5em;}#sk-container-id-1 div.sk-estimator:hover {background-color: #d4ebff;}#sk-container-id-1 div.sk-parallel-item::after {content: \"\";width: 100%;border-bottom: 1px solid gray;flex-grow: 1;}#sk-container-id-1 div.sk-label:hover label.sk-toggleable__label {background-color: #d4ebff;}#sk-container-id-1 div.sk-serial::before {content: \"\";position: absolute;border-left: 1px solid gray;box-sizing: border-box;top: 0;bottom: 0;left: 50%;z-index: 0;}#sk-container-id-1 div.sk-serial {display: flex;flex-direction: column;align-items: center;background-color: white;padding-right: 0.2em;padding-left: 0.2em;position: relative;}#sk-container-id-1 div.sk-item {position: relative;z-index: 1;}#sk-container-id-1 div.sk-parallel {display: flex;align-items: stretch;justify-content: center;background-color: white;position: relative;}#sk-container-id-1 div.sk-item::before, #sk-container-id-1 div.sk-parallel-item::before {content: \"\";position: absolute;border-left: 1px solid gray;box-sizing: border-box;top: 0;bottom: 0;left: 50%;z-index: -1;}#sk-container-id-1 div.sk-parallel-item {display: flex;flex-direction: column;z-index: 1;position: relative;background-color: white;}#sk-container-id-1 div.sk-parallel-item:first-child::after {align-self: flex-end;width: 50%;}#sk-container-id-1 div.sk-parallel-item:last-child::after {align-self: flex-start;width: 50%;}#sk-container-id-1 div.sk-parallel-item:only-child::after {width: 0;}#sk-container-id-1 div.sk-dashed-wrapped {border: 1px dashed gray;margin: 0 0.4em 0.5em 0.4em;box-sizing: border-box;padding-bottom: 0.4em;background-color: white;}#sk-container-id-1 div.sk-label label {font-family: monospace;font-weight: bold;display: inline-block;line-height: 1.2em;}#sk-container-id-1 div.sk-label-container {text-align: center;}#sk-container-id-1 div.sk-container {/* jupyter's `normalize.less` sets `[hidden] { display: none; }` but bootstrap.min.css set `[hidden] { display: none !important; }` so we also need the `!important` here to be able to override the default hidden behavior on the sphinx rendered scikit-learn.org. See: https://github.com/scikit-learn/scikit-learn/issues/21755 */display: inline-block !important;position: relative;}#sk-container-id-1 div.sk-text-repr-fallback {display: none;}</style><div id=\"sk-container-id-1\" class=\"sk-top-container\"><div class=\"sk-text-repr-fallback\"><pre>LogisticRegression()</pre><b>In a Jupyter environment, please rerun this cell to show the HTML representation or trust the notebook. <br />On GitHub, the HTML representation is unable to render, please try loading this page with nbviewer.org.</b></div><div class=\"sk-container\" hidden><div class=\"sk-item\"><div class=\"sk-estimator sk-toggleable\"><input class=\"sk-toggleable__control sk-hidden--visually\" id=\"sk-estimator-id-1\" type=\"checkbox\" checked><label for=\"sk-estimator-id-1\" class=\"sk-toggleable__label sk-toggleable__label-arrow\">LogisticRegression</label><div class=\"sk-toggleable__content\"><pre>LogisticRegression()</pre></div></div></div></div></div>"
     },
     "metadata": {}
    }
   ],
   "execution_count": null
  },
  {
   "cell_type": "code",
   "source": "pred_cv = lr_model.predict(x_cv)\nprint(f\"Accuracy Score : {accuracy_score(y_cv,pred_cv)}\")\nprint(f\"F1 Score: {f1_score(y_cv,pred_cv)}\")",
   "metadata": {
    "tags": [],
    "deepnote_to_be_reexecuted": false,
    "source_hash": "405981f2",
    "execution_start": 1659520967217,
    "execution_millis": 109,
    "cell_id": "00063-39567929-3bd2-49cb-9fff-75f933687938",
    "deepnote_cell_type": "code",
    "deepnote_cell_height": 162.390625
   },
   "outputs": [
    {
     "name": "stdout",
     "text": "Accuracy Score : 0.8054054054054054\nF1 Score: 0.8741258741258742\n",
     "output_type": "stream"
    }
   ],
   "execution_count": null
  },
  {
   "cell_type": "code",
   "metadata": {
    "tags": [],
    "deepnote_to_be_reexecuted": false,
    "source_hash": "633fac80",
    "execution_start": 1659520967270,
    "execution_millis": 0,
    "cell_id": "00064-e5bb0842-26fa-4034-9374-b17b11b0fd73",
    "deepnote_cell_type": "code",
    "deepnote_cell_height": 112
   },
   "source": "from sklearn.metrics import confusion_matrix\nconfusion_matrix_lr = confusion_matrix(y_cv, pred_cv)\n",
   "outputs": [],
   "execution_count": null
  },
  {
   "cell_type": "code",
   "metadata": {
    "tags": [],
    "deepnote_to_be_reexecuted": false,
    "source_hash": "448049fd",
    "execution_start": 1659520967271,
    "execution_millis": 206,
    "cell_id": "00065-543df074-1274-489f-8ca4-fe273c94058f",
    "deepnote_cell_type": "code",
    "deepnote_cell_height": 485,
    "deepnote_output_heights": [
     280
    ]
   },
   "source": "ax= plt.subplot()\nsns.heatmap(confusion_matrix_lr, annot=True, fmt='g', ax=ax);  #annot=True to annotate cells, ftm='g' to disable scientific notation\n\n# labels, title and ticks\nax.set_xlabel('Predicted labels');ax.set_ylabel('True labels'); \nax.set_title('Confusion Matrix'); \nax.xaxis.set_ticklabels(['Y', 'N']); ax.yaxis.set_ticklabels(['Y', 'N']);",
   "outputs": [
    {
     "data": {
      "text/plain": "<Figure size 432x288 with 2 Axes>",
      "image/png": "[encoded data removed]"
     },
     "metadata": {
      "needs_background": "light",
      "image/png": {
       "width": 366,
       "height": 278
      }
     },
     "output_type": "display_data"
    }
   ],
   "execution_count": null
  },
  {
   "cell_type": "code",
   "source": "# pred_test = model.predict(data_test)\npred_test = lr_model.predict(data_test_opt)\ndata_test_logistic_regression = data_test.copy()\ndata_test_logistic_regression['Loan_Status'] = pred_test\ndata_test_logistic_regression['Loan_Status'] = data_test_logistic_regression['Loan_Status'].replace({0: 'N', 1 : 'Y'})\ndata_test_logistic_regression.head() ",
   "metadata": {
    "tags": [],
    "deepnote_to_be_reexecuted": false,
    "source_hash": "7793ee13",
    "execution_start": 1659520967497,
    "execution_millis": 46,
    "cell_id": "00066-871ed81c-aa14-4e7c-98ca-47ab13f1b56a",
    "deepnote_cell_type": "code",
    "deepnote_cell_height": 502
   },
   "outputs": [
    {
     "output_type": "execute_result",
     "execution_count": 50,
     "data": {
      "application/vnd.deepnote.dataframe.v3+json": {
       "column_count": 21,
       "row_count": 5,
       "columns": [
        {
         "name": "Gender_Female",
         "dtype": "uint8",
         "stats": {
          "unique_count": 1,
          "nan_count": 0,
          "min": "0",
          "max": "0",
          "histogram": [
           {
            "bin_start": -0.5,
            "bin_end": -0.4,
            "count": 0
           },
           {
            "bin_start": -0.4,
            "bin_end": -0.3,
            "count": 0
           },
           {
            "bin_start": -0.3,
            "bin_end": -0.19999999999999996,
            "count": 0
           },
           {
            "bin_start": -0.19999999999999996,
            "bin_end": -0.09999999999999998,
            "count": 0
           },
           {
            "bin_start": -0.09999999999999998,
            "bin_end": 0,
            "count": 0
           },
           {
            "bin_start": 0,
            "bin_end": 0.10000000000000009,
            "count": 5
           },
           {
            "bin_start": 0.10000000000000009,
            "bin_end": 0.20000000000000007,
            "count": 0
           },
           {
            "bin_start": 0.20000000000000007,
            "bin_end": 0.30000000000000004,
            "count": 0
           },
           {
            "bin_start": 0.30000000000000004,
            "bin_end": 0.4,
            "count": 0
           },
           {
            "bin_start": 0.4,
            "bin_end": 0.5,
            "count": 0
           }
          ]
         }
        },
        {
         "name": "Gender_Male",
         "dtype": "uint8",
         "stats": {
          "unique_count": 1,
          "nan_count": 0,
          "min": "1",
          "max": "1",
          "histogram": [
           {
            "bin_start": 0.5,
            "bin_end": 0.6,
            "count": 0
           },
           {
            "bin_start": 0.6,
            "bin_end": 0.7,
            "count": 0
           },
           {
            "bin_start": 0.7,
            "bin_end": 0.8,
            "count": 0
           },
           {
            "bin_start": 0.8,
            "bin_end": 0.9,
            "count": 0
           },
           {
            "bin_start": 0.9,
            "bin_end": 1,
            "count": 0
           },
           {
            "bin_start": 1,
            "bin_end": 1.1,
            "count": 5
           },
           {
            "bin_start": 1.1,
            "bin_end": 1.2000000000000002,
            "count": 0
           },
           {
            "bin_start": 1.2000000000000002,
            "bin_end": 1.3,
            "count": 0
           },
           {
            "bin_start": 1.3,
            "bin_end": 1.4,
            "count": 0
           },
           {
            "bin_start": 1.4,
            "bin_end": 1.5,
            "count": 0
           }
          ]
         }
        },
        {
         "name": "Married_No",
         "dtype": "uint8",
         "stats": {
          "unique_count": 2,
          "nan_count": 0,
          "min": "0",
          "max": "1",
          "histogram": [
           {
            "bin_start": 0,
            "bin_end": 0.1,
            "count": 4
           },
           {
            "bin_start": 0.1,
            "bin_end": 0.2,
            "count": 0
           },
           {
            "bin_start": 0.2,
            "bin_end": 0.30000000000000004,
            "count": 0
           },
           {
            "bin_start": 0.30000000000000004,
            "bin_end": 0.4,
            "count": 0
           },
           {
            "bin_start": 0.4,
            "bin_end": 0.5,
            "count": 0
           },
           {
            "bin_start": 0.5,
            "bin_end": 0.6000000000000001,
            "count": 0
           },
           {
            "bin_start": 0.6000000000000001,
            "bin_end": 0.7000000000000001,
            "count": 0
           },
           {
            "bin_start": 0.7000000000000001,
            "bin_end": 0.8,
            "count": 0
           },
           {
            "bin_start": 0.8,
            "bin_end": 0.9,
            "count": 0
           },
           {
            "bin_start": 0.9,
            "bin_end": 1,
            "count": 1
           }
          ]
         }
        },
        {
         "name": "Married_Yes",
         "dtype": "uint8",
         "stats": {
          "unique_count": 2,
          "nan_count": 0,
          "min": "0",
          "max": "1",
          "histogram": [
           {
            "bin_start": 0,
            "bin_end": 0.1,
            "count": 1
           },
           {
            "bin_start": 0.1,
            "bin_end": 0.2,
            "count": 0
           },
           {
            "bin_start": 0.2,
            "bin_end": 0.30000000000000004,
            "count": 0
           },
           {
            "bin_start": 0.30000000000000004,
            "bin_end": 0.4,
            "count": 0
           },
           {
            "bin_start": 0.4,
            "bin_end": 0.5,
            "count": 0
           },
           {
            "bin_start": 0.5,
            "bin_end": 0.6000000000000001,
            "count": 0
           },
           {
            "bin_start": 0.6000000000000001,
            "bin_end": 0.7000000000000001,
            "count": 0
           },
           {
            "bin_start": 0.7000000000000001,
            "bin_end": 0.8,
            "count": 0
           },
           {
            "bin_start": 0.8,
            "bin_end": 0.9,
            "count": 0
           },
           {
            "bin_start": 0.9,
            "bin_end": 1,
            "count": 4
           }
          ]
         }
        },
        {
         "name": "Education_Graduate",
         "dtype": "uint8",
         "stats": {
          "unique_count": 2,
          "nan_count": 0,
          "min": "0",
          "max": "1",
          "histogram": [
           {
            "bin_start": 0,
            "bin_end": 0.1,
            "count": 1
           },
           {
            "bin_start": 0.1,
            "bin_end": 0.2,
            "count": 0
           },
           {
            "bin_start": 0.2,
            "bin_end": 0.30000000000000004,
            "count": 0
           },
           {
            "bin_start": 0.30000000000000004,
            "bin_end": 0.4,
            "count": 0
           },
           {
            "bin_start": 0.4,
            "bin_end": 0.5,
            "count": 0
           },
           {
            "bin_start": 0.5,
            "bin_end": 0.6000000000000001,
            "count": 0
           },
           {
            "bin_start": 0.6000000000000001,
            "bin_end": 0.7000000000000001,
            "count": 0
           },
           {
            "bin_start": 0.7000000000000001,
            "bin_end": 0.8,
            "count": 0
           },
           {
            "bin_start": 0.8,
            "bin_end": 0.9,
            "count": 0
           },
           {
            "bin_start": 0.9,
            "bin_end": 1,
            "count": 4
           }
          ]
         }
        },
        {
         "name": "Education_Not Graduate",
         "dtype": "uint8",
         "stats": {
          "unique_count": 2,
          "nan_count": 0,
          "min": "0",
          "max": "1",
          "histogram": [
           {
            "bin_start": 0,
            "bin_end": 0.1,
            "count": 4
           },
           {
            "bin_start": 0.1,
            "bin_end": 0.2,
            "count": 0
           },
           {
            "bin_start": 0.2,
            "bin_end": 0.30000000000000004,
            "count": 0
           },
           {
            "bin_start": 0.30000000000000004,
            "bin_end": 0.4,
            "count": 0
           },
           {
            "bin_start": 0.4,
            "bin_end": 0.5,
            "count": 0
           },
           {
            "bin_start": 0.5,
            "bin_end": 0.6000000000000001,
            "count": 0
           },
           {
            "bin_start": 0.6000000000000001,
            "bin_end": 0.7000000000000001,
            "count": 0
           },
           {
            "bin_start": 0.7000000000000001,
            "bin_end": 0.8,
            "count": 0
           },
           {
            "bin_start": 0.8,
            "bin_end": 0.9,
            "count": 0
           },
           {
            "bin_start": 0.9,
            "bin_end": 1,
            "count": 1
           }
          ]
         }
        },
        {
         "name": "Self_Employed_No",
         "dtype": "uint8",
         "stats": {
          "unique_count": 1,
          "nan_count": 0,
          "min": "1",
          "max": "1",
          "histogram": [
           {
            "bin_start": 0.5,
            "bin_end": 0.6,
            "count": 0
           },
           {
            "bin_start": 0.6,
            "bin_end": 0.7,
            "count": 0
           },
           {
            "bin_start": 0.7,
            "bin_end": 0.8,
            "count": 0
           },
           {
            "bin_start": 0.8,
            "bin_end": 0.9,
            "count": 0
           },
           {
            "bin_start": 0.9,
            "bin_end": 1,
            "count": 0
           },
           {
            "bin_start": 1,
            "bin_end": 1.1,
            "count": 5
           },
           {
            "bin_start": 1.1,
            "bin_end": 1.2000000000000002,
            "count": 0
           },
           {
            "bin_start": 1.2000000000000002,
            "bin_end": 1.3,
            "count": 0
           },
           {
            "bin_start": 1.3,
            "bin_end": 1.4,
            "count": 0
           },
           {
            "bin_start": 1.4,
            "bin_end": 1.5,
            "count": 0
           }
          ]
         }
        },
        {
         "name": "Self_Employed_Yes",
         "dtype": "uint8",
         "stats": {
          "unique_count": 1,
          "nan_count": 0,
          "min": "0",
          "max": "0",
          "histogram": [
           {
            "bin_start": -0.5,
            "bin_end": -0.4,
            "count": 0
           },
           {
            "bin_start": -0.4,
            "bin_end": -0.3,
            "count": 0
           },
           {
            "bin_start": -0.3,
            "bin_end": -0.19999999999999996,
            "count": 0
           },
           {
            "bin_start": -0.19999999999999996,
            "bin_end": -0.09999999999999998,
            "count": 0
           },
           {
            "bin_start": -0.09999999999999998,
            "bin_end": 0,
            "count": 0
           },
           {
            "bin_start": 0,
            "bin_end": 0.10000000000000009,
            "count": 5
           },
           {
            "bin_start": 0.10000000000000009,
            "bin_end": 0.20000000000000007,
            "count": 0
           },
           {
            "bin_start": 0.20000000000000007,
            "bin_end": 0.30000000000000004,
            "count": 0
           },
           {
            "bin_start": 0.30000000000000004,
            "bin_end": 0.4,
            "count": 0
           },
           {
            "bin_start": 0.4,
            "bin_end": 0.5,
            "count": 0
           }
          ]
         }
        },
        {
         "name": "Property_Area_Rural",
         "dtype": "uint8",
         "stats": {
          "unique_count": 1,
          "nan_count": 0,
          "min": "0",
          "max": "0",
          "histogram": [
           {
            "bin_start": -0.5,
            "bin_end": -0.4,
            "count": 0
           },
           {
            "bin_start": -0.4,
            "bin_end": -0.3,
            "count": 0
           },
           {
            "bin_start": -0.3,
            "bin_end": -0.19999999999999996,
            "count": 0
           },
           {
            "bin_start": -0.19999999999999996,
            "bin_end": -0.09999999999999998,
            "count": 0
           },
           {
            "bin_start": -0.09999999999999998,
            "bin_end": 0,
            "count": 0
           },
           {
            "bin_start": 0,
            "bin_end": 0.10000000000000009,
            "count": 5
           },
           {
            "bin_start": 0.10000000000000009,
            "bin_end": 0.20000000000000007,
            "count": 0
           },
           {
            "bin_start": 0.20000000000000007,
            "bin_end": 0.30000000000000004,
            "count": 0
           },
           {
            "bin_start": 0.30000000000000004,
            "bin_end": 0.4,
            "count": 0
           },
           {
            "bin_start": 0.4,
            "bin_end": 0.5,
            "count": 0
           }
          ]
         }
        },
        {
         "name": "Property_Area_Semiurban",
         "dtype": "uint8",
         "stats": {
          "unique_count": 1,
          "nan_count": 0,
          "min": "0",
          "max": "0",
          "histogram": [
           {
            "bin_start": -0.5,
            "bin_end": -0.4,
            "count": 0
           },
           {
            "bin_start": -0.4,
            "bin_end": -0.3,
            "count": 0
           },
           {
            "bin_start": -0.3,
            "bin_end": -0.19999999999999996,
            "count": 0
           },
           {
            "bin_start": -0.19999999999999996,
            "bin_end": -0.09999999999999998,
            "count": 0
           },
           {
            "bin_start": -0.09999999999999998,
            "bin_end": 0,
            "count": 0
           },
           {
            "bin_start": 0,
            "bin_end": 0.10000000000000009,
            "count": 5
           },
           {
            "bin_start": 0.10000000000000009,
            "bin_end": 0.20000000000000007,
            "count": 0
           },
           {
            "bin_start": 0.20000000000000007,
            "bin_end": 0.30000000000000004,
            "count": 0
           },
           {
            "bin_start": 0.30000000000000004,
            "bin_end": 0.4,
            "count": 0
           },
           {
            "bin_start": 0.4,
            "bin_end": 0.5,
            "count": 0
           }
          ]
         }
        },
        {
         "name": "Property_Area_Urban",
         "dtype": "uint8",
         "stats": {
          "unique_count": 1,
          "nan_count": 0,
          "min": "1",
          "max": "1",
          "histogram": [
           {
            "bin_start": 0.5,
            "bin_end": 0.6,
            "count": 0
           },
           {
            "bin_start": 0.6,
            "bin_end": 0.7,
            "count": 0
           },
           {
            "bin_start": 0.7,
            "bin_end": 0.8,
            "count": 0
           },
           {
            "bin_start": 0.8,
            "bin_end": 0.9,
            "count": 0
           },
           {
            "bin_start": 0.9,
            "bin_end": 1,
            "count": 0
           },
           {
            "bin_start": 1,
            "bin_end": 1.1,
            "count": 5
           },
           {
            "bin_start": 1.1,
            "bin_end": 1.2000000000000002,
            "count": 0
           },
           {
            "bin_start": 1.2000000000000002,
            "bin_end": 1.3,
            "count": 0
           },
           {
            "bin_start": 1.3,
            "bin_end": 1.4,
            "count": 0
           },
           {
            "bin_start": 1.4,
            "bin_end": 1.5,
            "count": 0
           }
          ]
         }
        },
        {
         "name": "Dependents_0",
         "dtype": "uint8",
         "stats": {
          "unique_count": 2,
          "nan_count": 0,
          "min": "0",
          "max": "1",
          "histogram": [
           {
            "bin_start": 0,
            "bin_end": 0.1,
            "count": 3
           },
           {
            "bin_start": 0.1,
            "bin_end": 0.2,
            "count": 0
           },
           {
            "bin_start": 0.2,
            "bin_end": 0.30000000000000004,
            "count": 0
           },
           {
            "bin_start": 0.30000000000000004,
            "bin_end": 0.4,
            "count": 0
           },
           {
            "bin_start": 0.4,
            "bin_end": 0.5,
            "count": 0
           },
           {
            "bin_start": 0.5,
            "bin_end": 0.6000000000000001,
            "count": 0
           },
           {
            "bin_start": 0.6000000000000001,
            "bin_end": 0.7000000000000001,
            "count": 0
           },
           {
            "bin_start": 0.7000000000000001,
            "bin_end": 0.8,
            "count": 0
           },
           {
            "bin_start": 0.8,
            "bin_end": 0.9,
            "count": 0
           },
           {
            "bin_start": 0.9,
            "bin_end": 1,
            "count": 2
           }
          ]
         }
        },
        {
         "name": "Dependents_1",
         "dtype": "uint8",
         "stats": {
          "unique_count": 2,
          "nan_count": 0,
          "min": "0",
          "max": "1",
          "histogram": [
           {
            "bin_start": 0,
            "bin_end": 0.1,
            "count": 4
           },
           {
            "bin_start": 0.1,
            "bin_end": 0.2,
            "count": 0
           },
           {
            "bin_start": 0.2,
            "bin_end": 0.30000000000000004,
            "count": 0
           },
           {
            "bin_start": 0.30000000000000004,
            "bin_end": 0.4,
            "count": 0
           },
           {
            "bin_start": 0.4,
            "bin_end": 0.5,
            "count": 0
           },
           {
            "bin_start": 0.5,
            "bin_end": 0.6000000000000001,
            "count": 0
           },
           {
            "bin_start": 0.6000000000000001,
            "bin_end": 0.7000000000000001,
            "count": 0
           },
           {
            "bin_start": 0.7000000000000001,
            "bin_end": 0.8,
            "count": 0
           },
           {
            "bin_start": 0.8,
            "bin_end": 0.9,
            "count": 0
           },
           {
            "bin_start": 0.9,
            "bin_end": 1,
            "count": 1
           }
          ]
         }
        },
        {
         "name": "Dependents_2",
         "dtype": "uint8",
         "stats": {
          "unique_count": 2,
          "nan_count": 0,
          "min": "0",
          "max": "1",
          "histogram": [
           {
            "bin_start": 0,
            "bin_end": 0.1,
            "count": 3
           },
           {
            "bin_start": 0.1,
            "bin_end": 0.2,
            "count": 0
           },
           {
            "bin_start": 0.2,
            "bin_end": 0.30000000000000004,
            "count": 0
           },
           {
            "bin_start": 0.30000000000000004,
            "bin_end": 0.4,
            "count": 0
           },
           {
            "bin_start": 0.4,
            "bin_end": 0.5,
            "count": 0
           },
           {
            "bin_start": 0.5,
            "bin_end": 0.6000000000000001,
            "count": 0
           },
           {
            "bin_start": 0.6000000000000001,
            "bin_end": 0.7000000000000001,
            "count": 0
           },
           {
            "bin_start": 0.7000000000000001,
            "bin_end": 0.8,
            "count": 0
           },
           {
            "bin_start": 0.8,
            "bin_end": 0.9,
            "count": 0
           },
           {
            "bin_start": 0.9,
            "bin_end": 1,
            "count": 2
           }
          ]
         }
        },
        {
         "name": "Dependents_3+",
         "dtype": "uint8",
         "stats": {
          "unique_count": 1,
          "nan_count": 0,
          "min": "0",
          "max": "0",
          "histogram": [
           {
            "bin_start": -0.5,
            "bin_end": -0.4,
            "count": 0
           },
           {
            "bin_start": -0.4,
            "bin_end": -0.3,
            "count": 0
           },
           {
            "bin_start": -0.3,
            "bin_end": -0.19999999999999996,
            "count": 0
           },
           {
            "bin_start": -0.19999999999999996,
            "bin_end": -0.09999999999999998,
            "count": 0
           },
           {
            "bin_start": -0.09999999999999998,
            "bin_end": 0,
            "count": 0
           },
           {
            "bin_start": 0,
            "bin_end": 0.10000000000000009,
            "count": 5
           },
           {
            "bin_start": 0.10000000000000009,
            "bin_end": 0.20000000000000007,
            "count": 0
           },
           {
            "bin_start": 0.20000000000000007,
            "bin_end": 0.30000000000000004,
            "count": 0
           },
           {
            "bin_start": 0.30000000000000004,
            "bin_end": 0.4,
            "count": 0
           },
           {
            "bin_start": 0.4,
            "bin_end": 0.5,
            "count": 0
           }
          ]
         }
        },
        {
         "name": "ApplicantIncome",
         "dtype": "int64",
         "stats": {
          "unique_count": 5,
          "nan_count": 0,
          "min": "2340",
          "max": "5720",
          "histogram": [
           {
            "bin_start": 2340,
            "bin_end": 2678,
            "count": 1
           },
           {
            "bin_start": 2678,
            "bin_end": 3016,
            "count": 0
           },
           {
            "bin_start": 3016,
            "bin_end": 3354,
            "count": 2
           },
           {
            "bin_start": 3354,
            "bin_end": 3692,
            "count": 0
           },
           {
            "bin_start": 3692,
            "bin_end": 4030,
            "count": 0
           },
           {
            "bin_start": 4030,
            "bin_end": 4368,
            "count": 0
           },
           {
            "bin_start": 4368,
            "bin_end": 4706,
            "count": 0
           },
           {
            "bin_start": 4706,
            "bin_end": 5044,
            "count": 1
           },
           {
            "bin_start": 5044,
            "bin_end": 5382,
            "count": 0
           },
           {
            "bin_start": 5382,
            "bin_end": 5720,
            "count": 1
           }
          ]
         }
        },
        {
         "name": "CoapplicantIncome",
         "dtype": "int64",
         "stats": {
          "unique_count": 4,
          "nan_count": 0,
          "min": "0",
          "max": "2546",
          "histogram": [
           {
            "bin_start": 0,
            "bin_end": 254.6,
            "count": 2
           },
           {
            "bin_start": 254.6,
            "bin_end": 509.2,
            "count": 0
           },
           {
            "bin_start": 509.2,
            "bin_end": 763.8,
            "count": 0
           },
           {
            "bin_start": 763.8,
            "bin_end": 1018.4,
            "count": 0
           },
           {
            "bin_start": 1018.4,
            "bin_end": 1273,
            "count": 0
           },
           {
            "bin_start": 1273,
            "bin_end": 1527.6,
            "count": 1
           },
           {
            "bin_start": 1527.6,
            "bin_end": 1782.2,
            "count": 0
           },
           {
            "bin_start": 1782.2,
            "bin_end": 2036.8,
            "count": 1
           },
           {
            "bin_start": 2036.8,
            "bin_end": 2291.4,
            "count": 0
           },
           {
            "bin_start": 2291.4,
            "bin_end": 2546,
            "count": 1
           }
          ]
         }
        },
        {
         "name": "LoanAmount",
         "dtype": "float64",
         "stats": {
          "unique_count": 5,
          "nan_count": 0,
          "min": "78.0",
          "max": "208.0",
          "histogram": [
           {
            "bin_start": 78,
            "bin_end": 91,
            "count": 1
           },
           {
            "bin_start": 91,
            "bin_end": 104,
            "count": 1
           },
           {
            "bin_start": 104,
            "bin_end": 117,
            "count": 1
           },
           {
            "bin_start": 117,
            "bin_end": 130,
            "count": 1
           },
           {
            "bin_start": 130,
            "bin_end": 143,
            "count": 0
           },
           {
            "bin_start": 143,
            "bin_end": 156,
            "count": 0
           },
           {
            "bin_start": 156,
            "bin_end": 169,
            "count": 0
           },
           {
            "bin_start": 169,
            "bin_end": 182,
            "count": 0
           },
           {
            "bin_start": 182,
            "bin_end": 195,
            "count": 0
           },
           {
            "bin_start": 195,
            "bin_end": 208,
            "count": 1
           }
          ]
         }
        },
        {
         "name": "Loan_Amount_Term",
         "dtype": "float64",
         "stats": {
          "unique_count": 1,
          "nan_count": 0,
          "min": "360.0",
          "max": "360.0",
          "histogram": [
           {
            "bin_start": 359.5,
            "bin_end": 359.6,
            "count": 0
           },
           {
            "bin_start": 359.6,
            "bin_end": 359.7,
            "count": 0
           },
           {
            "bin_start": 359.7,
            "bin_end": 359.8,
            "count": 0
           },
           {
            "bin_start": 359.8,
            "bin_end": 359.9,
            "count": 0
           },
           {
            "bin_start": 359.9,
            "bin_end": 360,
            "count": 0
           },
           {
            "bin_start": 360,
            "bin_end": 360.1,
            "count": 5
           },
           {
            "bin_start": 360.1,
            "bin_end": 360.2,
            "count": 0
           },
           {
            "bin_start": 360.2,
            "bin_end": 360.3,
            "count": 0
           },
           {
            "bin_start": 360.3,
            "bin_end": 360.4,
            "count": 0
           },
           {
            "bin_start": 360.4,
            "bin_end": 360.5,
            "count": 0
           }
          ]
         }
        },
        {
         "name": "Credit_History",
         "dtype": "float64",
         "stats": {
          "unique_count": 1,
          "nan_count": 0,
          "min": "1.0",
          "max": "1.0",
          "histogram": [
           {
            "bin_start": 0.5,
            "bin_end": 0.6,
            "count": 0
           },
           {
            "bin_start": 0.6,
            "bin_end": 0.7,
            "count": 0
           },
           {
            "bin_start": 0.7,
            "bin_end": 0.8,
            "count": 0
           },
           {
            "bin_start": 0.8,
            "bin_end": 0.9,
            "count": 0
           },
           {
            "bin_start": 0.9,
            "bin_end": 1,
            "count": 0
           },
           {
            "bin_start": 1,
            "bin_end": 1.1,
            "count": 5
           },
           {
            "bin_start": 1.1,
            "bin_end": 1.2000000000000002,
            "count": 0
           },
           {
            "bin_start": 1.2000000000000002,
            "bin_end": 1.3,
            "count": 0
           },
           {
            "bin_start": 1.3,
            "bin_end": 1.4,
            "count": 0
           },
           {
            "bin_start": 1.4,
            "bin_end": 1.5,
            "count": 0
           }
          ]
         }
        },
        {
         "name": "Loan_Status",
         "dtype": "object",
         "stats": {
          "unique_count": 1,
          "nan_count": 0,
          "categories": [
           {
            "name": "Y",
            "count": 5
           }
          ]
         }
        },
        {
         "name": "_deepnote_index_column",
         "dtype": "int64"
        }
       ],
       "rows": [
        {
         "Gender_Female": 0,
         "Gender_Male": 1,
         "Married_No": 0,
         "Married_Yes": 1,
         "Education_Graduate": 1,
         "Education_Not Graduate": 0,
         "Self_Employed_No": 1,
         "Self_Employed_Yes": 0,
         "Property_Area_Rural": 0,
         "Property_Area_Semiurban": 0,
         "Property_Area_Urban": 1,
         "Dependents_0": 1,
         "Dependents_1": 0,
         "Dependents_2": 0,
         "Dependents_3+": 0,
         "ApplicantIncome": 5720,
         "CoapplicantIncome": 0,
         "LoanAmount": 110,
         "Loan_Amount_Term": 360,
         "Credit_History": 1,
         "Loan_Status": "Y",
         "_deepnote_index_column": 0
        },
        {
         "Gender_Female": 0,
         "Gender_Male": 1,
         "Married_No": 0,
         "Married_Yes": 1,
         "Education_Graduate": 1,
         "Education_Not Graduate": 0,
         "Self_Employed_No": 1,
         "Self_Employed_Yes": 0,
         "Property_Area_Rural": 0,
         "Property_Area_Semiurban": 0,
         "Property_Area_Urban": 1,
         "Dependents_0": 0,
         "Dependents_1": 1,
         "Dependents_2": 0,
         "Dependents_3+": 0,
         "ApplicantIncome": 3076,
         "CoapplicantIncome": 1500,
         "LoanAmount": 126,
         "Loan_Amount_Term": 360,
         "Credit_History": 1,
         "Loan_Status": "Y",
         "_deepnote_index_column": 1
        },
        {
         "Gender_Female": 0,
         "Gender_Male": 1,
         "Married_No": 0,
         "Married_Yes": 1,
         "Education_Graduate": 1,
         "Education_Not Graduate": 0,
         "Self_Employed_No": 1,
         "Self_Employed_Yes": 0,
         "Property_Area_Rural": 0,
         "Property_Area_Semiurban": 0,
         "Property_Area_Urban": 1,
         "Dependents_0": 0,
         "Dependents_1": 0,
         "Dependents_2": 1,
         "Dependents_3+": 0,
         "ApplicantIncome": 5000,
         "CoapplicantIncome": 1800,
         "LoanAmount": 208,
         "Loan_Amount_Term": 360,
         "Credit_History": 1,
         "Loan_Status": "Y",
         "_deepnote_index_column": 2
        },
        {
         "Gender_Female": 0,
         "Gender_Male": 1,
         "Married_No": 0,
         "Married_Yes": 1,
         "Education_Graduate": 1,
         "Education_Not Graduate": 0,
         "Self_Employed_No": 1,
         "Self_Employed_Yes": 0,
         "Property_Area_Rural": 0,
         "Property_Area_Semiurban": 0,
         "Property_Area_Urban": 1,
         "Dependents_0": 0,
         "Dependents_1": 0,
         "Dependents_2": 1,
         "Dependents_3+": 0,
         "ApplicantIncome": 2340,
         "CoapplicantIncome": 2546,
         "LoanAmount": 100,
         "Loan_Amount_Term": 360,
         "Credit_History": 1,
         "Loan_Status": "Y",
         "_deepnote_index_column": 3
        },
        {
         "Gender_Female": 0,
         "Gender_Male": 1,
         "Married_No": 1,
         "Married_Yes": 0,
         "Education_Graduate": 0,
         "Education_Not Graduate": 1,
         "Self_Employed_No": 1,
         "Self_Employed_Yes": 0,
         "Property_Area_Rural": 0,
         "Property_Area_Semiurban": 0,
         "Property_Area_Urban": 1,
         "Dependents_0": 1,
         "Dependents_1": 0,
         "Dependents_2": 0,
         "Dependents_3+": 0,
         "ApplicantIncome": 3276,
         "CoapplicantIncome": 0,
         "LoanAmount": 78,
         "Loan_Amount_Term": 360,
         "Credit_History": 1,
         "Loan_Status": "Y",
         "_deepnote_index_column": 4
        }
       ]
      },
      "text/plain": "   Gender_Female  Gender_Male  Married_No  Married_Yes  Education_Graduate  \\\n0              0            1           0            1                   1   \n1              0            1           0            1                   1   \n2              0            1           0            1                   1   \n3              0            1           0            1                   1   \n4              0            1           1            0                   0   \n\n   Education_Not Graduate  Self_Employed_No  Self_Employed_Yes  \\\n0                       0                 1                  0   \n1                       0                 1                  0   \n2                       0                 1                  0   \n3                       0                 1                  0   \n4                       1                 1                  0   \n\n   Property_Area_Rural  Property_Area_Semiurban  ...  Dependents_0  \\\n0                    0                        0  ...             1   \n1                    0                        0  ...             0   \n2                    0                        0  ...             0   \n3                    0                        0  ...             0   \n4                    0                        0  ...             1   \n\n   Dependents_1  Dependents_2  Dependents_3+  ApplicantIncome  \\\n0             0             0              0             5720   \n1             1             0              0             3076   \n2             0             1              0             5000   \n3             0             1              0             2340   \n4             0             0              0             3276   \n\n   CoapplicantIncome  LoanAmount  Loan_Amount_Term  Credit_History  \\\n0                  0       110.0             360.0             1.0   \n1               1500       126.0             360.0             1.0   \n2               1800       208.0             360.0             1.0   \n3               2546       100.0             360.0             1.0   \n4                  0        78.0             360.0             1.0   \n\n   Loan_Status  \n0            Y  \n1            Y  \n2            Y  \n3            Y  \n4            Y  \n\n[5 rows x 21 columns]",
      "text/html": "<div>\n<style scoped>\n    .dataframe tbody tr th:only-of-type {\n        vertical-align: middle;\n    }\n\n    .dataframe tbody tr th {\n        vertical-align: top;\n    }\n\n    .dataframe thead th {\n        text-align: right;\n    }\n</style>\n<table border=\"1\" class=\"dataframe\">\n  <thead>\n    <tr style=\"text-align: right;\">\n      <th></th>\n      <th>Gender_Female</th>\n      <th>Gender_Male</th>\n      <th>Married_No</th>\n      <th>Married_Yes</th>\n      <th>Education_Graduate</th>\n      <th>Education_Not Graduate</th>\n      <th>Self_Employed_No</th>\n      <th>Self_Employed_Yes</th>\n      <th>Property_Area_Rural</th>\n      <th>Property_Area_Semiurban</th>\n      <th>...</th>\n      <th>Dependents_0</th>\n      <th>Dependents_1</th>\n      <th>Dependents_2</th>\n      <th>Dependents_3+</th>\n      <th>ApplicantIncome</th>\n      <th>CoapplicantIncome</th>\n      <th>LoanAmount</th>\n      <th>Loan_Amount_Term</th>\n      <th>Credit_History</th>\n      <th>Loan_Status</th>\n    </tr>\n  </thead>\n  <tbody>\n    <tr>\n      <th>0</th>\n      <td>0</td>\n      <td>1</td>\n      <td>0</td>\n      <td>1</td>\n      <td>1</td>\n      <td>0</td>\n      <td>1</td>\n      <td>0</td>\n      <td>0</td>\n      <td>0</td>\n      <td>...</td>\n      <td>1</td>\n      <td>0</td>\n      <td>0</td>\n      <td>0</td>\n      <td>5720</td>\n      <td>0</td>\n      <td>110.0</td>\n      <td>360.0</td>\n      <td>1.0</td>\n      <td>Y</td>\n    </tr>\n    <tr>\n      <th>1</th>\n      <td>0</td>\n      <td>1</td>\n      <td>0</td>\n      <td>1</td>\n      <td>1</td>\n      <td>0</td>\n      <td>1</td>\n      <td>0</td>\n      <td>0</td>\n      <td>0</td>\n      <td>...</td>\n      <td>0</td>\n      <td>1</td>\n      <td>0</td>\n      <td>0</td>\n      <td>3076</td>\n      <td>1500</td>\n      <td>126.0</td>\n      <td>360.0</td>\n      <td>1.0</td>\n      <td>Y</td>\n    </tr>\n    <tr>\n      <th>2</th>\n      <td>0</td>\n      <td>1</td>\n      <td>0</td>\n      <td>1</td>\n      <td>1</td>\n      <td>0</td>\n      <td>1</td>\n      <td>0</td>\n      <td>0</td>\n      <td>0</td>\n      <td>...</td>\n      <td>0</td>\n      <td>0</td>\n      <td>1</td>\n      <td>0</td>\n      <td>5000</td>\n      <td>1800</td>\n      <td>208.0</td>\n      <td>360.0</td>\n      <td>1.0</td>\n      <td>Y</td>\n    </tr>\n    <tr>\n      <th>3</th>\n      <td>0</td>\n      <td>1</td>\n      <td>0</td>\n      <td>1</td>\n      <td>1</td>\n      <td>0</td>\n      <td>1</td>\n      <td>0</td>\n      <td>0</td>\n      <td>0</td>\n      <td>...</td>\n      <td>0</td>\n      <td>0</td>\n      <td>1</td>\n      <td>0</td>\n      <td>2340</td>\n      <td>2546</td>\n      <td>100.0</td>\n      <td>360.0</td>\n      <td>1.0</td>\n      <td>Y</td>\n    </tr>\n    <tr>\n      <th>4</th>\n      <td>0</td>\n      <td>1</td>\n      <td>1</td>\n      <td>0</td>\n      <td>0</td>\n      <td>1</td>\n      <td>1</td>\n      <td>0</td>\n      <td>0</td>\n      <td>0</td>\n      <td>...</td>\n      <td>1</td>\n      <td>0</td>\n      <td>0</td>\n      <td>0</td>\n      <td>3276</td>\n      <td>0</td>\n      <td>78.0</td>\n      <td>360.0</td>\n      <td>1.0</td>\n      <td>Y</td>\n    </tr>\n  </tbody>\n</table>\n<p>5 rows × 21 columns</p>\n</div>"
     },
     "metadata": {}
    }
   ],
   "execution_count": null
  },
  {
   "cell_type": "code",
   "metadata": {
    "tags": [],
    "deepnote_to_be_reexecuted": false,
    "source_hash": "bb777649",
    "execution_start": 1659520967544,
    "execution_millis": 4412477,
    "cell_id": "00067-c0be42d7-f33c-471c-9ce7-ec8baeb9ef5a",
    "deepnote_cell_type": "code",
    "deepnote_cell_height": 490
   },
   "source": "# i=1\n# mean = 0\n# kf = StratifiedKFold(n_splits=5,random_state=1,shuffle=True)\n# for train_index,test_index in kf.split(X,y):\n#  print (‘\\n{} of kfold {} ‘.format(i,kf.n_splits))\n#  xtr,xvl = X.loc[train_index],X.loc[test_index]\n#  ytr,yvl = y[train_index],y[test_index]\n#  model = LogisticRegression(random_state=1)\n#  model.fit(xtr,ytr)\n#  pred_test=model.predict(xvl)\n#  score=accuracy_score(yvl,pred_test)\n#  mean += score\n#  print (‘accuracy_score’,score)\n#  i+=1\n#  pred_test = model.predict(test)\n#  pred = model.predict_proba(xvl)[:,1]\n \n# print (‘\\n Mean Validation Accuracy’,mean/(i-1))\n\n# submission['Loan_Status']=pred_test\n# submission['Loan_ID']=test_original['Loan_ID']\n# submission['Loan_Status'].replace(0, 'N', inplace=True)\n# submission['Loan_Status'].replace(1, 'Y', inplace=True)\n# pd.DataFrame(submission, columns=['Loan_ID','Loan_Status']).to_csv('Output/Log2.csv')",
   "outputs": [],
   "execution_count": null
  },
  {
   "cell_type": "markdown",
   "source": "### Random Forest Classifier",
   "metadata": {
    "formattedRanges": [],
    "is_collapsed": false,
    "tags": [],
    "cell_id": "00068-17776ac7-a601-4a57-9228-52e2b5537aad",
    "deepnote_cell_type": "text-cell-h3"
   }
  },
  {
   "cell_type": "code",
   "metadata": {
    "tags": [],
    "deepnote_to_be_reexecuted": false,
    "source_hash": "39ef4b5b",
    "execution_start": 1659520967589,
    "execution_millis": 73,
    "cell_id": "00069-afd8cc26-1239-4dad-93ed-f75fca78776b",
    "deepnote_cell_type": "code",
    "deepnote_cell_height": 76
   },
   "source": "from sklearn.ensemble import RandomForestClassifier",
   "outputs": [],
   "execution_count": null
  },
  {
   "cell_type": "code",
   "metadata": {
    "tags": [],
    "deepnote_to_be_reexecuted": false,
    "source_hash": "a898abd3",
    "execution_start": 1659520967705,
    "execution_millis": 105,
    "cell_id": "00070-3517face-7704-4ba3-814e-b3f462dcde8c",
    "deepnote_cell_type": "code",
    "deepnote_cell_height": 188.375,
    "deepnote_output_heights": [
     60.375
    ]
   },
   "source": "# Instantiate and fit the RandomForestClassifier\nforest = RandomForestClassifier()\nforest.fit(x_train, y_train)",
   "outputs": [
    {
     "output_type": "execute_result",
     "execution_count": 53,
     "data": {
      "text/plain": "RandomForestClassifier()",
      "text/html": "<style>#sk-container-id-2 {color: black;background-color: white;}#sk-container-id-2 pre{padding: 0;}#sk-container-id-2 div.sk-toggleable {background-color: white;}#sk-container-id-2 label.sk-toggleable__label {cursor: pointer;display: block;width: 100%;margin-bottom: 0;padding: 0.3em;box-sizing: border-box;text-align: center;}#sk-container-id-2 label.sk-toggleable__label-arrow:before {content: \"▸\";float: left;margin-right: 0.25em;color: #696969;}#sk-container-id-2 label.sk-toggleable__label-arrow:hover:before {color: black;}#sk-container-id-2 div.sk-estimator:hover label.sk-toggleable__label-arrow:before {color: black;}#sk-container-id-2 div.sk-toggleable__content {max-height: 0;max-width: 0;overflow: hidden;text-align: left;background-color: #f0f8ff;}#sk-container-id-2 div.sk-toggleable__content pre {margin: 0.2em;color: black;border-radius: 0.25em;background-color: #f0f8ff;}#sk-container-id-2 input.sk-toggleable__control:checked~div.sk-toggleable__content {max-height: 200px;max-width: 100%;overflow: auto;}#sk-container-id-2 input.sk-toggleable__control:checked~label.sk-toggleable__label-arrow:before {content: \"▾\";}#sk-container-id-2 div.sk-estimator input.sk-toggleable__control:checked~label.sk-toggleable__label {background-color: #d4ebff;}#sk-container-id-2 div.sk-label input.sk-toggleable__control:checked~label.sk-toggleable__label {background-color: #d4ebff;}#sk-container-id-2 input.sk-hidden--visually {border: 0;clip: rect(1px 1px 1px 1px);clip: rect(1px, 1px, 1px, 1px);height: 1px;margin: -1px;overflow: hidden;padding: 0;position: absolute;width: 1px;}#sk-container-id-2 div.sk-estimator {font-family: monospace;background-color: #f0f8ff;border: 1px dotted black;border-radius: 0.25em;box-sizing: border-box;margin-bottom: 0.5em;}#sk-container-id-2 div.sk-estimator:hover {background-color: #d4ebff;}#sk-container-id-2 div.sk-parallel-item::after {content: \"\";width: 100%;border-bottom: 1px solid gray;flex-grow: 1;}#sk-container-id-2 div.sk-label:hover label.sk-toggleable__label {background-color: #d4ebff;}#sk-container-id-2 div.sk-serial::before {content: \"\";position: absolute;border-left: 1px solid gray;box-sizing: border-box;top: 0;bottom: 0;left: 50%;z-index: 0;}#sk-container-id-2 div.sk-serial {display: flex;flex-direction: column;align-items: center;background-color: white;padding-right: 0.2em;padding-left: 0.2em;position: relative;}#sk-container-id-2 div.sk-item {position: relative;z-index: 1;}#sk-container-id-2 div.sk-parallel {display: flex;align-items: stretch;justify-content: center;background-color: white;position: relative;}#sk-container-id-2 div.sk-item::before, #sk-container-id-2 div.sk-parallel-item::before {content: \"\";position: absolute;border-left: 1px solid gray;box-sizing: border-box;top: 0;bottom: 0;left: 50%;z-index: -1;}#sk-container-id-2 div.sk-parallel-item {display: flex;flex-direction: column;z-index: 1;position: relative;background-color: white;}#sk-container-id-2 div.sk-parallel-item:first-child::after {align-self: flex-end;width: 50%;}#sk-container-id-2 div.sk-parallel-item:last-child::after {align-self: flex-start;width: 50%;}#sk-container-id-2 div.sk-parallel-item:only-child::after {width: 0;}#sk-container-id-2 div.sk-dashed-wrapped {border: 1px dashed gray;margin: 0 0.4em 0.5em 0.4em;box-sizing: border-box;padding-bottom: 0.4em;background-color: white;}#sk-container-id-2 div.sk-label label {font-family: monospace;font-weight: bold;display: inline-block;line-height: 1.2em;}#sk-container-id-2 div.sk-label-container {text-align: center;}#sk-container-id-2 div.sk-container {/* jupyter's `normalize.less` sets `[hidden] { display: none; }` but bootstrap.min.css set `[hidden] { display: none !important; }` so we also need the `!important` here to be able to override the default hidden behavior on the sphinx rendered scikit-learn.org. See: https://github.com/scikit-learn/scikit-learn/issues/21755 */display: inline-block !important;position: relative;}#sk-container-id-2 div.sk-text-repr-fallback {display: none;}</style><div id=\"sk-container-id-2\" class=\"sk-top-container\"><div class=\"sk-text-repr-fallback\"><pre>RandomForestClassifier()</pre><b>In a Jupyter environment, please rerun this cell to show the HTML representation or trust the notebook. <br />On GitHub, the HTML representation is unable to render, please try loading this page with nbviewer.org.</b></div><div class=\"sk-container\" hidden><div class=\"sk-item\"><div class=\"sk-estimator sk-toggleable\"><input class=\"sk-toggleable__control sk-hidden--visually\" id=\"sk-estimator-id-2\" type=\"checkbox\" checked><label for=\"sk-estimator-id-2\" class=\"sk-toggleable__label sk-toggleable__label-arrow\">RandomForestClassifier</label><div class=\"sk-toggleable__content\"><pre>RandomForestClassifier()</pre></div></div></div></div></div>"
     },
     "metadata": {}
    }
   ],
   "execution_count": null
  },
  {
   "cell_type": "code",
   "source": "# Make predictions for the test set\npred_rfc = forest.predict(x_cv)\nprint(f\"Accuracy Score : {accuracy_score(y_cv,pred_rfc)}\")\nprint(f\"F1 Score: {f1_score(y_cv,pred_rfc)}\")",
   "metadata": {
    "tags": [],
    "deepnote_to_be_reexecuted": false,
    "source_hash": "2da92890",
    "execution_start": 1659520967814,
    "execution_millis": 20,
    "cell_id": "00071-b3ea62f2-e481-439f-8ed5-887f1ce3efd1",
    "deepnote_cell_type": "code",
    "deepnote_cell_height": 180.390625
   },
   "outputs": [
    {
     "name": "stdout",
     "text": "Accuracy Score : 0.8054054054054054\nF1 Score: 0.8741258741258742\n",
     "output_type": "stream"
    }
   ],
   "execution_count": null
  },
  {
   "cell_type": "code",
   "source": "confusion_matrix_rf = confusion_matrix(y_cv, pred_rfc)\n\nax= plt.subplot()\nsns.heatmap(confusion_matrix_rf, annot=True, fmt='g', ax=ax);  #annot=True to annotate cells, ftm='g' to disable scientific notation\n\n# labels, title and ticks\nax.set_xlabel('Predicted labels');ax.set_ylabel('True labels'); \nax.set_title('Confusion Matrix'); \nax.xaxis.set_ticklabels(['Y', 'N']); ax.yaxis.set_ticklabels(['Y', 'N']);\n",
   "metadata": {
    "tags": [],
    "deepnote_to_be_reexecuted": false,
    "source_hash": "4f97b456",
    "execution_start": 1659520967840,
    "execution_millis": 257,
    "cell_id": "00072-31e190da-973e-4393-82a9-190bd4147925",
    "deepnote_cell_type": "code",
    "deepnote_cell_height": 539,
    "deepnote_output_heights": [
     280
    ]
   },
   "outputs": [
    {
     "data": {
      "text/plain": "<Figure size 432x288 with 2 Axes>",
      "image/png": "[encoded data removed]"
     },
     "metadata": {
      "needs_background": "light",
      "image/png": {
       "width": 366,
       "height": 278
      }
     },
     "output_type": "display_data"
    }
   ],
   "execution_count": null
  },
  {
   "cell_type": "code",
   "source": "# pred_test_rf = forest.predict(data_test)\npred_test_rf = forest.predict(data_test_opt)\ndata_test_random_forest = data_test.copy()\ndata_test_random_forest['Loan_Status'] = pred_test_rf\ndata_test_random_forest['Loan_Status'] = data_test_random_forest['Loan_Status'].replace({0: 'N', 1 : 'Y'})\ndata_test_random_forest.head() ",
   "metadata": {
    "tags": [],
    "deepnote_to_be_reexecuted": false,
    "source_hash": "aa702726",
    "execution_start": 1659520968103,
    "execution_millis": 84,
    "cell_id": "00073-5b151fb6-5046-4923-9fc7-3dcd7f47a15b",
    "deepnote_cell_type": "code",
    "deepnote_cell_height": 502
   },
   "outputs": [
    {
     "output_type": "execute_result",
     "execution_count": 56,
     "data": {
      "application/vnd.deepnote.dataframe.v3+json": {
       "column_count": 21,
       "row_count": 5,
       "columns": [
        {
         "name": "Gender_Female",
         "dtype": "uint8",
         "stats": {
          "unique_count": 1,
          "nan_count": 0,
          "min": "0",
          "max": "0",
          "histogram": [
           {
            "bin_start": -0.5,
            "bin_end": -0.4,
            "count": 0
           },
           {
            "bin_start": -0.4,
            "bin_end": -0.3,
            "count": 0
           },
           {
            "bin_start": -0.3,
            "bin_end": -0.19999999999999996,
            "count": 0
           },
           {
            "bin_start": -0.19999999999999996,
            "bin_end": -0.09999999999999998,
            "count": 0
           },
           {
            "bin_start": -0.09999999999999998,
            "bin_end": 0,
            "count": 0
           },
           {
            "bin_start": 0,
            "bin_end": 0.10000000000000009,
            "count": 5
           },
           {
            "bin_start": 0.10000000000000009,
            "bin_end": 0.20000000000000007,
            "count": 0
           },
           {
            "bin_start": 0.20000000000000007,
            "bin_end": 0.30000000000000004,
            "count": 0
           },
           {
            "bin_start": 0.30000000000000004,
            "bin_end": 0.4,
            "count": 0
           },
           {
            "bin_start": 0.4,
            "bin_end": 0.5,
            "count": 0
           }
          ]
         }
        },
        {
         "name": "Gender_Male",
         "dtype": "uint8",
         "stats": {
          "unique_count": 1,
          "nan_count": 0,
          "min": "1",
          "max": "1",
          "histogram": [
           {
            "bin_start": 0.5,
            "bin_end": 0.6,
            "count": 0
           },
           {
            "bin_start": 0.6,
            "bin_end": 0.7,
            "count": 0
           },
           {
            "bin_start": 0.7,
            "bin_end": 0.8,
            "count": 0
           },
           {
            "bin_start": 0.8,
            "bin_end": 0.9,
            "count": 0
           },
           {
            "bin_start": 0.9,
            "bin_end": 1,
            "count": 0
           },
           {
            "bin_start": 1,
            "bin_end": 1.1,
            "count": 5
           },
           {
            "bin_start": 1.1,
            "bin_end": 1.2000000000000002,
            "count": 0
           },
           {
            "bin_start": 1.2000000000000002,
            "bin_end": 1.3,
            "count": 0
           },
           {
            "bin_start": 1.3,
            "bin_end": 1.4,
            "count": 0
           },
           {
            "bin_start": 1.4,
            "bin_end": 1.5,
            "count": 0
           }
          ]
         }
        },
        {
         "name": "Married_No",
         "dtype": "uint8",
         "stats": {
          "unique_count": 2,
          "nan_count": 0,
          "min": "0",
          "max": "1",
          "histogram": [
           {
            "bin_start": 0,
            "bin_end": 0.1,
            "count": 4
           },
           {
            "bin_start": 0.1,
            "bin_end": 0.2,
            "count": 0
           },
           {
            "bin_start": 0.2,
            "bin_end": 0.30000000000000004,
            "count": 0
           },
           {
            "bin_start": 0.30000000000000004,
            "bin_end": 0.4,
            "count": 0
           },
           {
            "bin_start": 0.4,
            "bin_end": 0.5,
            "count": 0
           },
           {
            "bin_start": 0.5,
            "bin_end": 0.6000000000000001,
            "count": 0
           },
           {
            "bin_start": 0.6000000000000001,
            "bin_end": 0.7000000000000001,
            "count": 0
           },
           {
            "bin_start": 0.7000000000000001,
            "bin_end": 0.8,
            "count": 0
           },
           {
            "bin_start": 0.8,
            "bin_end": 0.9,
            "count": 0
           },
           {
            "bin_start": 0.9,
            "bin_end": 1,
            "count": 1
           }
          ]
         }
        },
        {
         "name": "Married_Yes",
         "dtype": "uint8",
         "stats": {
          "unique_count": 2,
          "nan_count": 0,
          "min": "0",
          "max": "1",
          "histogram": [
           {
            "bin_start": 0,
            "bin_end": 0.1,
            "count": 1
           },
           {
            "bin_start": 0.1,
            "bin_end": 0.2,
            "count": 0
           },
           {
            "bin_start": 0.2,
            "bin_end": 0.30000000000000004,
            "count": 0
           },
           {
            "bin_start": 0.30000000000000004,
            "bin_end": 0.4,
            "count": 0
           },
           {
            "bin_start": 0.4,
            "bin_end": 0.5,
            "count": 0
           },
           {
            "bin_start": 0.5,
            "bin_end": 0.6000000000000001,
            "count": 0
           },
           {
            "bin_start": 0.6000000000000001,
            "bin_end": 0.7000000000000001,
            "count": 0
           },
           {
            "bin_start": 0.7000000000000001,
            "bin_end": 0.8,
            "count": 0
           },
           {
            "bin_start": 0.8,
            "bin_end": 0.9,
            "count": 0
           },
           {
            "bin_start": 0.9,
            "bin_end": 1,
            "count": 4
           }
          ]
         }
        },
        {
         "name": "Education_Graduate",
         "dtype": "uint8",
         "stats": {
          "unique_count": 2,
          "nan_count": 0,
          "min": "0",
          "max": "1",
          "histogram": [
           {
            "bin_start": 0,
            "bin_end": 0.1,
            "count": 1
           },
           {
            "bin_start": 0.1,
            "bin_end": 0.2,
            "count": 0
           },
           {
            "bin_start": 0.2,
            "bin_end": 0.30000000000000004,
            "count": 0
           },
           {
            "bin_start": 0.30000000000000004,
            "bin_end": 0.4,
            "count": 0
           },
           {
            "bin_start": 0.4,
            "bin_end": 0.5,
            "count": 0
           },
           {
            "bin_start": 0.5,
            "bin_end": 0.6000000000000001,
            "count": 0
           },
           {
            "bin_start": 0.6000000000000001,
            "bin_end": 0.7000000000000001,
            "count": 0
           },
           {
            "bin_start": 0.7000000000000001,
            "bin_end": 0.8,
            "count": 0
           },
           {
            "bin_start": 0.8,
            "bin_end": 0.9,
            "count": 0
           },
           {
            "bin_start": 0.9,
            "bin_end": 1,
            "count": 4
           }
          ]
         }
        },
        {
         "name": "Education_Not Graduate",
         "dtype": "uint8",
         "stats": {
          "unique_count": 2,
          "nan_count": 0,
          "min": "0",
          "max": "1",
          "histogram": [
           {
            "bin_start": 0,
            "bin_end": 0.1,
            "count": 4
           },
           {
            "bin_start": 0.1,
            "bin_end": 0.2,
            "count": 0
           },
           {
            "bin_start": 0.2,
            "bin_end": 0.30000000000000004,
            "count": 0
           },
           {
            "bin_start": 0.30000000000000004,
            "bin_end": 0.4,
            "count": 0
           },
           {
            "bin_start": 0.4,
            "bin_end": 0.5,
            "count": 0
           },
           {
            "bin_start": 0.5,
            "bin_end": 0.6000000000000001,
            "count": 0
           },
           {
            "bin_start": 0.6000000000000001,
            "bin_end": 0.7000000000000001,
            "count": 0
           },
           {
            "bin_start": 0.7000000000000001,
            "bin_end": 0.8,
            "count": 0
           },
           {
            "bin_start": 0.8,
            "bin_end": 0.9,
            "count": 0
           },
           {
            "bin_start": 0.9,
            "bin_end": 1,
            "count": 1
           }
          ]
         }
        },
        {
         "name": "Self_Employed_No",
         "dtype": "uint8",
         "stats": {
          "unique_count": 1,
          "nan_count": 0,
          "min": "1",
          "max": "1",
          "histogram": [
           {
            "bin_start": 0.5,
            "bin_end": 0.6,
            "count": 0
           },
           {
            "bin_start": 0.6,
            "bin_end": 0.7,
            "count": 0
           },
           {
            "bin_start": 0.7,
            "bin_end": 0.8,
            "count": 0
           },
           {
            "bin_start": 0.8,
            "bin_end": 0.9,
            "count": 0
           },
           {
            "bin_start": 0.9,
            "bin_end": 1,
            "count": 0
           },
           {
            "bin_start": 1,
            "bin_end": 1.1,
            "count": 5
           },
           {
            "bin_start": 1.1,
            "bin_end": 1.2000000000000002,
            "count": 0
           },
           {
            "bin_start": 1.2000000000000002,
            "bin_end": 1.3,
            "count": 0
           },
           {
            "bin_start": 1.3,
            "bin_end": 1.4,
            "count": 0
           },
           {
            "bin_start": 1.4,
            "bin_end": 1.5,
            "count": 0
           }
          ]
         }
        },
        {
         "name": "Self_Employed_Yes",
         "dtype": "uint8",
         "stats": {
          "unique_count": 1,
          "nan_count": 0,
          "min": "0",
          "max": "0",
          "histogram": [
           {
            "bin_start": -0.5,
            "bin_end": -0.4,
            "count": 0
           },
           {
            "bin_start": -0.4,
            "bin_end": -0.3,
            "count": 0
           },
           {
            "bin_start": -0.3,
            "bin_end": -0.19999999999999996,
            "count": 0
           },
           {
            "bin_start": -0.19999999999999996,
            "bin_end": -0.09999999999999998,
            "count": 0
           },
           {
            "bin_start": -0.09999999999999998,
            "bin_end": 0,
            "count": 0
           },
           {
            "bin_start": 0,
            "bin_end": 0.10000000000000009,
            "count": 5
           },
           {
            "bin_start": 0.10000000000000009,
            "bin_end": 0.20000000000000007,
            "count": 0
           },
           {
            "bin_start": 0.20000000000000007,
            "bin_end": 0.30000000000000004,
            "count": 0
           },
           {
            "bin_start": 0.30000000000000004,
            "bin_end": 0.4,
            "count": 0
           },
           {
            "bin_start": 0.4,
            "bin_end": 0.5,
            "count": 0
           }
          ]
         }
        },
        {
         "name": "Property_Area_Rural",
         "dtype": "uint8",
         "stats": {
          "unique_count": 1,
          "nan_count": 0,
          "min": "0",
          "max": "0",
          "histogram": [
           {
            "bin_start": -0.5,
            "bin_end": -0.4,
            "count": 0
           },
           {
            "bin_start": -0.4,
            "bin_end": -0.3,
            "count": 0
           },
           {
            "bin_start": -0.3,
            "bin_end": -0.19999999999999996,
            "count": 0
           },
           {
            "bin_start": -0.19999999999999996,
            "bin_end": -0.09999999999999998,
            "count": 0
           },
           {
            "bin_start": -0.09999999999999998,
            "bin_end": 0,
            "count": 0
           },
           {
            "bin_start": 0,
            "bin_end": 0.10000000000000009,
            "count": 5
           },
           {
            "bin_start": 0.10000000000000009,
            "bin_end": 0.20000000000000007,
            "count": 0
           },
           {
            "bin_start": 0.20000000000000007,
            "bin_end": 0.30000000000000004,
            "count": 0
           },
           {
            "bin_start": 0.30000000000000004,
            "bin_end": 0.4,
            "count": 0
           },
           {
            "bin_start": 0.4,
            "bin_end": 0.5,
            "count": 0
           }
          ]
         }
        },
        {
         "name": "Property_Area_Semiurban",
         "dtype": "uint8",
         "stats": {
          "unique_count": 1,
          "nan_count": 0,
          "min": "0",
          "max": "0",
          "histogram": [
           {
            "bin_start": -0.5,
            "bin_end": -0.4,
            "count": 0
           },
           {
            "bin_start": -0.4,
            "bin_end": -0.3,
            "count": 0
           },
           {
            "bin_start": -0.3,
            "bin_end": -0.19999999999999996,
            "count": 0
           },
           {
            "bin_start": -0.19999999999999996,
            "bin_end": -0.09999999999999998,
            "count": 0
           },
           {
            "bin_start": -0.09999999999999998,
            "bin_end": 0,
            "count": 0
           },
           {
            "bin_start": 0,
            "bin_end": 0.10000000000000009,
            "count": 5
           },
           {
            "bin_start": 0.10000000000000009,
            "bin_end": 0.20000000000000007,
            "count": 0
           },
           {
            "bin_start": 0.20000000000000007,
            "bin_end": 0.30000000000000004,
            "count": 0
           },
           {
            "bin_start": 0.30000000000000004,
            "bin_end": 0.4,
            "count": 0
           },
           {
            "bin_start": 0.4,
            "bin_end": 0.5,
            "count": 0
           }
          ]
         }
        },
        {
         "name": "Property_Area_Urban",
         "dtype": "uint8",
         "stats": {
          "unique_count": 1,
          "nan_count": 0,
          "min": "1",
          "max": "1",
          "histogram": [
           {
            "bin_start": 0.5,
            "bin_end": 0.6,
            "count": 0
           },
           {
            "bin_start": 0.6,
            "bin_end": 0.7,
            "count": 0
           },
           {
            "bin_start": 0.7,
            "bin_end": 0.8,
            "count": 0
           },
           {
            "bin_start": 0.8,
            "bin_end": 0.9,
            "count": 0
           },
           {
            "bin_start": 0.9,
            "bin_end": 1,
            "count": 0
           },
           {
            "bin_start": 1,
            "bin_end": 1.1,
            "count": 5
           },
           {
            "bin_start": 1.1,
            "bin_end": 1.2000000000000002,
            "count": 0
           },
           {
            "bin_start": 1.2000000000000002,
            "bin_end": 1.3,
            "count": 0
           },
           {
            "bin_start": 1.3,
            "bin_end": 1.4,
            "count": 0
           },
           {
            "bin_start": 1.4,
            "bin_end": 1.5,
            "count": 0
           }
          ]
         }
        },
        {
         "name": "Dependents_0",
         "dtype": "uint8",
         "stats": {
          "unique_count": 2,
          "nan_count": 0,
          "min": "0",
          "max": "1",
          "histogram": [
           {
            "bin_start": 0,
            "bin_end": 0.1,
            "count": 3
           },
           {
            "bin_start": 0.1,
            "bin_end": 0.2,
            "count": 0
           },
           {
            "bin_start": 0.2,
            "bin_end": 0.30000000000000004,
            "count": 0
           },
           {
            "bin_start": 0.30000000000000004,
            "bin_end": 0.4,
            "count": 0
           },
           {
            "bin_start": 0.4,
            "bin_end": 0.5,
            "count": 0
           },
           {
            "bin_start": 0.5,
            "bin_end": 0.6000000000000001,
            "count": 0
           },
           {
            "bin_start": 0.6000000000000001,
            "bin_end": 0.7000000000000001,
            "count": 0
           },
           {
            "bin_start": 0.7000000000000001,
            "bin_end": 0.8,
            "count": 0
           },
           {
            "bin_start": 0.8,
            "bin_end": 0.9,
            "count": 0
           },
           {
            "bin_start": 0.9,
            "bin_end": 1,
            "count": 2
           }
          ]
         }
        },
        {
         "name": "Dependents_1",
         "dtype": "uint8",
         "stats": {
          "unique_count": 2,
          "nan_count": 0,
          "min": "0",
          "max": "1",
          "histogram": [
           {
            "bin_start": 0,
            "bin_end": 0.1,
            "count": 4
           },
           {
            "bin_start": 0.1,
            "bin_end": 0.2,
            "count": 0
           },
           {
            "bin_start": 0.2,
            "bin_end": 0.30000000000000004,
            "count": 0
           },
           {
            "bin_start": 0.30000000000000004,
            "bin_end": 0.4,
            "count": 0
           },
           {
            "bin_start": 0.4,
            "bin_end": 0.5,
            "count": 0
           },
           {
            "bin_start": 0.5,
            "bin_end": 0.6000000000000001,
            "count": 0
           },
           {
            "bin_start": 0.6000000000000001,
            "bin_end": 0.7000000000000001,
            "count": 0
           },
           {
            "bin_start": 0.7000000000000001,
            "bin_end": 0.8,
            "count": 0
           },
           {
            "bin_start": 0.8,
            "bin_end": 0.9,
            "count": 0
           },
           {
            "bin_start": 0.9,
            "bin_end": 1,
            "count": 1
           }
          ]
         }
        },
        {
         "name": "Dependents_2",
         "dtype": "uint8",
         "stats": {
          "unique_count": 2,
          "nan_count": 0,
          "min": "0",
          "max": "1",
          "histogram": [
           {
            "bin_start": 0,
            "bin_end": 0.1,
            "count": 3
           },
           {
            "bin_start": 0.1,
            "bin_end": 0.2,
            "count": 0
           },
           {
            "bin_start": 0.2,
            "bin_end": 0.30000000000000004,
            "count": 0
           },
           {
            "bin_start": 0.30000000000000004,
            "bin_end": 0.4,
            "count": 0
           },
           {
            "bin_start": 0.4,
            "bin_end": 0.5,
            "count": 0
           },
           {
            "bin_start": 0.5,
            "bin_end": 0.6000000000000001,
            "count": 0
           },
           {
            "bin_start": 0.6000000000000001,
            "bin_end": 0.7000000000000001,
            "count": 0
           },
           {
            "bin_start": 0.7000000000000001,
            "bin_end": 0.8,
            "count": 0
           },
           {
            "bin_start": 0.8,
            "bin_end": 0.9,
            "count": 0
           },
           {
            "bin_start": 0.9,
            "bin_end": 1,
            "count": 2
           }
          ]
         }
        },
        {
         "name": "Dependents_3+",
         "dtype": "uint8",
         "stats": {
          "unique_count": 1,
          "nan_count": 0,
          "min": "0",
          "max": "0",
          "histogram": [
           {
            "bin_start": -0.5,
            "bin_end": -0.4,
            "count": 0
           },
           {
            "bin_start": -0.4,
            "bin_end": -0.3,
            "count": 0
           },
           {
            "bin_start": -0.3,
            "bin_end": -0.19999999999999996,
            "count": 0
           },
           {
            "bin_start": -0.19999999999999996,
            "bin_end": -0.09999999999999998,
            "count": 0
           },
           {
            "bin_start": -0.09999999999999998,
            "bin_end": 0,
            "count": 0
           },
           {
            "bin_start": 0,
            "bin_end": 0.10000000000000009,
            "count": 5
           },
           {
            "bin_start": 0.10000000000000009,
            "bin_end": 0.20000000000000007,
            "count": 0
           },
           {
            "bin_start": 0.20000000000000007,
            "bin_end": 0.30000000000000004,
            "count": 0
           },
           {
            "bin_start": 0.30000000000000004,
            "bin_end": 0.4,
            "count": 0
           },
           {
            "bin_start": 0.4,
            "bin_end": 0.5,
            "count": 0
           }
          ]
         }
        },
        {
         "name": "ApplicantIncome",
         "dtype": "int64",
         "stats": {
          "unique_count": 5,
          "nan_count": 0,
          "min": "2340",
          "max": "5720",
          "histogram": [
           {
            "bin_start": 2340,
            "bin_end": 2678,
            "count": 1
           },
           {
            "bin_start": 2678,
            "bin_end": 3016,
            "count": 0
           },
           {
            "bin_start": 3016,
            "bin_end": 3354,
            "count": 2
           },
           {
            "bin_start": 3354,
            "bin_end": 3692,
            "count": 0
           },
           {
            "bin_start": 3692,
            "bin_end": 4030,
            "count": 0
           },
           {
            "bin_start": 4030,
            "bin_end": 4368,
            "count": 0
           },
           {
            "bin_start": 4368,
            "bin_end": 4706,
            "count": 0
           },
           {
            "bin_start": 4706,
            "bin_end": 5044,
            "count": 1
           },
           {
            "bin_start": 5044,
            "bin_end": 5382,
            "count": 0
           },
           {
            "bin_start": 5382,
            "bin_end": 5720,
            "count": 1
           }
          ]
         }
        },
        {
         "name": "CoapplicantIncome",
         "dtype": "int64",
         "stats": {
          "unique_count": 4,
          "nan_count": 0,
          "min": "0",
          "max": "2546",
          "histogram": [
           {
            "bin_start": 0,
            "bin_end": 254.6,
            "count": 2
           },
           {
            "bin_start": 254.6,
            "bin_end": 509.2,
            "count": 0
           },
           {
            "bin_start": 509.2,
            "bin_end": 763.8,
            "count": 0
           },
           {
            "bin_start": 763.8,
            "bin_end": 1018.4,
            "count": 0
           },
           {
            "bin_start": 1018.4,
            "bin_end": 1273,
            "count": 0
           },
           {
            "bin_start": 1273,
            "bin_end": 1527.6,
            "count": 1
           },
           {
            "bin_start": 1527.6,
            "bin_end": 1782.2,
            "count": 0
           },
           {
            "bin_start": 1782.2,
            "bin_end": 2036.8,
            "count": 1
           },
           {
            "bin_start": 2036.8,
            "bin_end": 2291.4,
            "count": 0
           },
           {
            "bin_start": 2291.4,
            "bin_end": 2546,
            "count": 1
           }
          ]
         }
        },
        {
         "name": "LoanAmount",
         "dtype": "float64",
         "stats": {
          "unique_count": 5,
          "nan_count": 0,
          "min": "78.0",
          "max": "208.0",
          "histogram": [
           {
            "bin_start": 78,
            "bin_end": 91,
            "count": 1
           },
           {
            "bin_start": 91,
            "bin_end": 104,
            "count": 1
           },
           {
            "bin_start": 104,
            "bin_end": 117,
            "count": 1
           },
           {
            "bin_start": 117,
            "bin_end": 130,
            "count": 1
           },
           {
            "bin_start": 130,
            "bin_end": 143,
            "count": 0
           },
           {
            "bin_start": 143,
            "bin_end": 156,
            "count": 0
           },
           {
            "bin_start": 156,
            "bin_end": 169,
            "count": 0
           },
           {
            "bin_start": 169,
            "bin_end": 182,
            "count": 0
           },
           {
            "bin_start": 182,
            "bin_end": 195,
            "count": 0
           },
           {
            "bin_start": 195,
            "bin_end": 208,
            "count": 1
           }
          ]
         }
        },
        {
         "name": "Loan_Amount_Term",
         "dtype": "float64",
         "stats": {
          "unique_count": 1,
          "nan_count": 0,
          "min": "360.0",
          "max": "360.0",
          "histogram": [
           {
            "bin_start": 359.5,
            "bin_end": 359.6,
            "count": 0
           },
           {
            "bin_start": 359.6,
            "bin_end": 359.7,
            "count": 0
           },
           {
            "bin_start": 359.7,
            "bin_end": 359.8,
            "count": 0
           },
           {
            "bin_start": 359.8,
            "bin_end": 359.9,
            "count": 0
           },
           {
            "bin_start": 359.9,
            "bin_end": 360,
            "count": 0
           },
           {
            "bin_start": 360,
            "bin_end": 360.1,
            "count": 5
           },
           {
            "bin_start": 360.1,
            "bin_end": 360.2,
            "count": 0
           },
           {
            "bin_start": 360.2,
            "bin_end": 360.3,
            "count": 0
           },
           {
            "bin_start": 360.3,
            "bin_end": 360.4,
            "count": 0
           },
           {
            "bin_start": 360.4,
            "bin_end": 360.5,
            "count": 0
           }
          ]
         }
        },
        {
         "name": "Credit_History",
         "dtype": "float64",
         "stats": {
          "unique_count": 1,
          "nan_count": 0,
          "min": "1.0",
          "max": "1.0",
          "histogram": [
           {
            "bin_start": 0.5,
            "bin_end": 0.6,
            "count": 0
           },
           {
            "bin_start": 0.6,
            "bin_end": 0.7,
            "count": 0
           },
           {
            "bin_start": 0.7,
            "bin_end": 0.8,
            "count": 0
           },
           {
            "bin_start": 0.8,
            "bin_end": 0.9,
            "count": 0
           },
           {
            "bin_start": 0.9,
            "bin_end": 1,
            "count": 0
           },
           {
            "bin_start": 1,
            "bin_end": 1.1,
            "count": 5
           },
           {
            "bin_start": 1.1,
            "bin_end": 1.2000000000000002,
            "count": 0
           },
           {
            "bin_start": 1.2000000000000002,
            "bin_end": 1.3,
            "count": 0
           },
           {
            "bin_start": 1.3,
            "bin_end": 1.4,
            "count": 0
           },
           {
            "bin_start": 1.4,
            "bin_end": 1.5,
            "count": 0
           }
          ]
         }
        },
        {
         "name": "Loan_Status",
         "dtype": "object",
         "stats": {
          "unique_count": 1,
          "nan_count": 0,
          "categories": [
           {
            "name": "Y",
            "count": 5
           }
          ]
         }
        },
        {
         "name": "_deepnote_index_column",
         "dtype": "int64"
        }
       ],
       "rows": [
        {
         "Gender_Female": 0,
         "Gender_Male": 1,
         "Married_No": 0,
         "Married_Yes": 1,
         "Education_Graduate": 1,
         "Education_Not Graduate": 0,
         "Self_Employed_No": 1,
         "Self_Employed_Yes": 0,
         "Property_Area_Rural": 0,
         "Property_Area_Semiurban": 0,
         "Property_Area_Urban": 1,
         "Dependents_0": 1,
         "Dependents_1": 0,
         "Dependents_2": 0,
         "Dependents_3+": 0,
         "ApplicantIncome": 5720,
         "CoapplicantIncome": 0,
         "LoanAmount": 110,
         "Loan_Amount_Term": 360,
         "Credit_History": 1,
         "Loan_Status": "Y",
         "_deepnote_index_column": 0
        },
        {
         "Gender_Female": 0,
         "Gender_Male": 1,
         "Married_No": 0,
         "Married_Yes": 1,
         "Education_Graduate": 1,
         "Education_Not Graduate": 0,
         "Self_Employed_No": 1,
         "Self_Employed_Yes": 0,
         "Property_Area_Rural": 0,
         "Property_Area_Semiurban": 0,
         "Property_Area_Urban": 1,
         "Dependents_0": 0,
         "Dependents_1": 1,
         "Dependents_2": 0,
         "Dependents_3+": 0,
         "ApplicantIncome": 3076,
         "CoapplicantIncome": 1500,
         "LoanAmount": 126,
         "Loan_Amount_Term": 360,
         "Credit_History": 1,
         "Loan_Status": "Y",
         "_deepnote_index_column": 1
        },
        {
         "Gender_Female": 0,
         "Gender_Male": 1,
         "Married_No": 0,
         "Married_Yes": 1,
         "Education_Graduate": 1,
         "Education_Not Graduate": 0,
         "Self_Employed_No": 1,
         "Self_Employed_Yes": 0,
         "Property_Area_Rural": 0,
         "Property_Area_Semiurban": 0,
         "Property_Area_Urban": 1,
         "Dependents_0": 0,
         "Dependents_1": 0,
         "Dependents_2": 1,
         "Dependents_3+": 0,
         "ApplicantIncome": 5000,
         "CoapplicantIncome": 1800,
         "LoanAmount": 208,
         "Loan_Amount_Term": 360,
         "Credit_History": 1,
         "Loan_Status": "Y",
         "_deepnote_index_column": 2
        },
        {
         "Gender_Female": 0,
         "Gender_Male": 1,
         "Married_No": 0,
         "Married_Yes": 1,
         "Education_Graduate": 1,
         "Education_Not Graduate": 0,
         "Self_Employed_No": 1,
         "Self_Employed_Yes": 0,
         "Property_Area_Rural": 0,
         "Property_Area_Semiurban": 0,
         "Property_Area_Urban": 1,
         "Dependents_0": 0,
         "Dependents_1": 0,
         "Dependents_2": 1,
         "Dependents_3+": 0,
         "ApplicantIncome": 2340,
         "CoapplicantIncome": 2546,
         "LoanAmount": 100,
         "Loan_Amount_Term": 360,
         "Credit_History": 1,
         "Loan_Status": "Y",
         "_deepnote_index_column": 3
        },
        {
         "Gender_Female": 0,
         "Gender_Male": 1,
         "Married_No": 1,
         "Married_Yes": 0,
         "Education_Graduate": 0,
         "Education_Not Graduate": 1,
         "Self_Employed_No": 1,
         "Self_Employed_Yes": 0,
         "Property_Area_Rural": 0,
         "Property_Area_Semiurban": 0,
         "Property_Area_Urban": 1,
         "Dependents_0": 1,
         "Dependents_1": 0,
         "Dependents_2": 0,
         "Dependents_3+": 0,
         "ApplicantIncome": 3276,
         "CoapplicantIncome": 0,
         "LoanAmount": 78,
         "Loan_Amount_Term": 360,
         "Credit_History": 1,
         "Loan_Status": "Y",
         "_deepnote_index_column": 4
        }
       ]
      },
      "text/plain": "   Gender_Female  Gender_Male  Married_No  Married_Yes  Education_Graduate  \\\n0              0            1           0            1                   1   \n1              0            1           0            1                   1   \n2              0            1           0            1                   1   \n3              0            1           0            1                   1   \n4              0            1           1            0                   0   \n\n   Education_Not Graduate  Self_Employed_No  Self_Employed_Yes  \\\n0                       0                 1                  0   \n1                       0                 1                  0   \n2                       0                 1                  0   \n3                       0                 1                  0   \n4                       1                 1                  0   \n\n   Property_Area_Rural  Property_Area_Semiurban  ...  Dependents_0  \\\n0                    0                        0  ...             1   \n1                    0                        0  ...             0   \n2                    0                        0  ...             0   \n3                    0                        0  ...             0   \n4                    0                        0  ...             1   \n\n   Dependents_1  Dependents_2  Dependents_3+  ApplicantIncome  \\\n0             0             0              0             5720   \n1             1             0              0             3076   \n2             0             1              0             5000   \n3             0             1              0             2340   \n4             0             0              0             3276   \n\n   CoapplicantIncome  LoanAmount  Loan_Amount_Term  Credit_History  \\\n0                  0       110.0             360.0             1.0   \n1               1500       126.0             360.0             1.0   \n2               1800       208.0             360.0             1.0   \n3               2546       100.0             360.0             1.0   \n4                  0        78.0             360.0             1.0   \n\n   Loan_Status  \n0            Y  \n1            Y  \n2            Y  \n3            Y  \n4            Y  \n\n[5 rows x 21 columns]",
      "text/html": "<div>\n<style scoped>\n    .dataframe tbody tr th:only-of-type {\n        vertical-align: middle;\n    }\n\n    .dataframe tbody tr th {\n        vertical-align: top;\n    }\n\n    .dataframe thead th {\n        text-align: right;\n    }\n</style>\n<table border=\"1\" class=\"dataframe\">\n  <thead>\n    <tr style=\"text-align: right;\">\n      <th></th>\n      <th>Gender_Female</th>\n      <th>Gender_Male</th>\n      <th>Married_No</th>\n      <th>Married_Yes</th>\n      <th>Education_Graduate</th>\n      <th>Education_Not Graduate</th>\n      <th>Self_Employed_No</th>\n      <th>Self_Employed_Yes</th>\n      <th>Property_Area_Rural</th>\n      <th>Property_Area_Semiurban</th>\n      <th>...</th>\n      <th>Dependents_0</th>\n      <th>Dependents_1</th>\n      <th>Dependents_2</th>\n      <th>Dependents_3+</th>\n      <th>ApplicantIncome</th>\n      <th>CoapplicantIncome</th>\n      <th>LoanAmount</th>\n      <th>Loan_Amount_Term</th>\n      <th>Credit_History</th>\n      <th>Loan_Status</th>\n    </tr>\n  </thead>\n  <tbody>\n    <tr>\n      <th>0</th>\n      <td>0</td>\n      <td>1</td>\n      <td>0</td>\n      <td>1</td>\n      <td>1</td>\n      <td>0</td>\n      <td>1</td>\n      <td>0</td>\n      <td>0</td>\n      <td>0</td>\n      <td>...</td>\n      <td>1</td>\n      <td>0</td>\n      <td>0</td>\n      <td>0</td>\n      <td>5720</td>\n      <td>0</td>\n      <td>110.0</td>\n      <td>360.0</td>\n      <td>1.0</td>\n      <td>Y</td>\n    </tr>\n    <tr>\n      <th>1</th>\n      <td>0</td>\n      <td>1</td>\n      <td>0</td>\n      <td>1</td>\n      <td>1</td>\n      <td>0</td>\n      <td>1</td>\n      <td>0</td>\n      <td>0</td>\n      <td>0</td>\n      <td>...</td>\n      <td>0</td>\n      <td>1</td>\n      <td>0</td>\n      <td>0</td>\n      <td>3076</td>\n      <td>1500</td>\n      <td>126.0</td>\n      <td>360.0</td>\n      <td>1.0</td>\n      <td>Y</td>\n    </tr>\n    <tr>\n      <th>2</th>\n      <td>0</td>\n      <td>1</td>\n      <td>0</td>\n      <td>1</td>\n      <td>1</td>\n      <td>0</td>\n      <td>1</td>\n      <td>0</td>\n      <td>0</td>\n      <td>0</td>\n      <td>...</td>\n      <td>0</td>\n      <td>0</td>\n      <td>1</td>\n      <td>0</td>\n      <td>5000</td>\n      <td>1800</td>\n      <td>208.0</td>\n      <td>360.0</td>\n      <td>1.0</td>\n      <td>Y</td>\n    </tr>\n    <tr>\n      <th>3</th>\n      <td>0</td>\n      <td>1</td>\n      <td>0</td>\n      <td>1</td>\n      <td>1</td>\n      <td>0</td>\n      <td>1</td>\n      <td>0</td>\n      <td>0</td>\n      <td>0</td>\n      <td>...</td>\n      <td>0</td>\n      <td>0</td>\n      <td>1</td>\n      <td>0</td>\n      <td>2340</td>\n      <td>2546</td>\n      <td>100.0</td>\n      <td>360.0</td>\n      <td>1.0</td>\n      <td>Y</td>\n    </tr>\n    <tr>\n      <th>4</th>\n      <td>0</td>\n      <td>1</td>\n      <td>1</td>\n      <td>0</td>\n      <td>0</td>\n      <td>1</td>\n      <td>1</td>\n      <td>0</td>\n      <td>0</td>\n      <td>0</td>\n      <td>...</td>\n      <td>1</td>\n      <td>0</td>\n      <td>0</td>\n      <td>0</td>\n      <td>3276</td>\n      <td>0</td>\n      <td>78.0</td>\n      <td>360.0</td>\n      <td>1.0</td>\n      <td>Y</td>\n    </tr>\n  </tbody>\n</table>\n<p>5 rows × 21 columns</p>\n</div>"
     },
     "metadata": {}
    }
   ],
   "execution_count": null
  },
  {
   "cell_type": "code",
   "source": "",
   "metadata": {
    "deepnote_to_be_reexecuted": false,
    "source_hash": "b623e53d",
    "execution_start": 1659520968189,
    "cell_id": "00074-9a5f3c91-0a52-4cff-8a39-30c987956f9b",
    "execution_millis": 4410335,
    "deepnote_cell_type": "visualization"
   },
   "outputs": [],
   "execution_count": null
  },
  {
   "cell_type": "markdown",
   "source": "### Support Vector Machine",
   "metadata": {
    "formattedRanges": [],
    "is_collapsed": false,
    "tags": [],
    "cell_id": "00075-1ac4aa3c-56db-46bc-a509-f49483072524",
    "deepnote_cell_type": "text-cell-h3"
   }
  },
  {
   "cell_type": "code",
   "metadata": {
    "tags": [],
    "deepnote_to_be_reexecuted": false,
    "source_hash": "efe1854",
    "execution_start": 1659520968193,
    "execution_millis": 317644,
    "cell_id": "00076-098c3184-f5e9-45a7-9ccd-446718fdc35f",
    "deepnote_cell_type": "code",
    "deepnote_cell_height": 76
   },
   "source": "from sklearn import svm",
   "outputs": [],
   "execution_count": null
  },
  {
   "cell_type": "code",
   "metadata": {
    "tags": [],
    "deepnote_to_be_reexecuted": false,
    "source_hash": "ca05094d",
    "execution_start": 1659520968198,
    "execution_millis": 14,
    "cell_id": "00077-34628da6-0f3a-4051-855d-030f2796e2e0",
    "deepnote_cell_type": "code",
    "deepnote_cell_height": 188.375,
    "deepnote_output_heights": [
     60.375
    ]
   },
   "source": "# creating an SVM Classifier\nclf = svm.SVC(kernel='linear')\nclf.fit(x_train, y_train)",
   "outputs": [
    {
     "output_type": "execute_result",
     "execution_count": 58,
     "data": {
      "text/plain": "SVC(kernel='linear')",
      "text/html": "<style>#sk-container-id-3 {color: black;background-color: white;}#sk-container-id-3 pre{padding: 0;}#sk-container-id-3 div.sk-toggleable {background-color: white;}#sk-container-id-3 label.sk-toggleable__label {cursor: pointer;display: block;width: 100%;margin-bottom: 0;padding: 0.3em;box-sizing: border-box;text-align: center;}#sk-container-id-3 label.sk-toggleable__label-arrow:before {content: \"▸\";float: left;margin-right: 0.25em;color: #696969;}#sk-container-id-3 label.sk-toggleable__label-arrow:hover:before {color: black;}#sk-container-id-3 div.sk-estimator:hover label.sk-toggleable__label-arrow:before {color: black;}#sk-container-id-3 div.sk-toggleable__content {max-height: 0;max-width: 0;overflow: hidden;text-align: left;background-color: #f0f8ff;}#sk-container-id-3 div.sk-toggleable__content pre {margin: 0.2em;color: black;border-radius: 0.25em;background-color: #f0f8ff;}#sk-container-id-3 input.sk-toggleable__control:checked~div.sk-toggleable__content {max-height: 200px;max-width: 100%;overflow: auto;}#sk-container-id-3 input.sk-toggleable__control:checked~label.sk-toggleable__label-arrow:before {content: \"▾\";}#sk-container-id-3 div.sk-estimator input.sk-toggleable__control:checked~label.sk-toggleable__label {background-color: #d4ebff;}#sk-container-id-3 div.sk-label input.sk-toggleable__control:checked~label.sk-toggleable__label {background-color: #d4ebff;}#sk-container-id-3 input.sk-hidden--visually {border: 0;clip: rect(1px 1px 1px 1px);clip: rect(1px, 1px, 1px, 1px);height: 1px;margin: -1px;overflow: hidden;padding: 0;position: absolute;width: 1px;}#sk-container-id-3 div.sk-estimator {font-family: monospace;background-color: #f0f8ff;border: 1px dotted black;border-radius: 0.25em;box-sizing: border-box;margin-bottom: 0.5em;}#sk-container-id-3 div.sk-estimator:hover {background-color: #d4ebff;}#sk-container-id-3 div.sk-parallel-item::after {content: \"\";width: 100%;border-bottom: 1px solid gray;flex-grow: 1;}#sk-container-id-3 div.sk-label:hover label.sk-toggleable__label {background-color: #d4ebff;}#sk-container-id-3 div.sk-serial::before {content: \"\";position: absolute;border-left: 1px solid gray;box-sizing: border-box;top: 0;bottom: 0;left: 50%;z-index: 0;}#sk-container-id-3 div.sk-serial {display: flex;flex-direction: column;align-items: center;background-color: white;padding-right: 0.2em;padding-left: 0.2em;position: relative;}#sk-container-id-3 div.sk-item {position: relative;z-index: 1;}#sk-container-id-3 div.sk-parallel {display: flex;align-items: stretch;justify-content: center;background-color: white;position: relative;}#sk-container-id-3 div.sk-item::before, #sk-container-id-3 div.sk-parallel-item::before {content: \"\";position: absolute;border-left: 1px solid gray;box-sizing: border-box;top: 0;bottom: 0;left: 50%;z-index: -1;}#sk-container-id-3 div.sk-parallel-item {display: flex;flex-direction: column;z-index: 1;position: relative;background-color: white;}#sk-container-id-3 div.sk-parallel-item:first-child::after {align-self: flex-end;width: 50%;}#sk-container-id-3 div.sk-parallel-item:last-child::after {align-self: flex-start;width: 50%;}#sk-container-id-3 div.sk-parallel-item:only-child::after {width: 0;}#sk-container-id-3 div.sk-dashed-wrapped {border: 1px dashed gray;margin: 0 0.4em 0.5em 0.4em;box-sizing: border-box;padding-bottom: 0.4em;background-color: white;}#sk-container-id-3 div.sk-label label {font-family: monospace;font-weight: bold;display: inline-block;line-height: 1.2em;}#sk-container-id-3 div.sk-label-container {text-align: center;}#sk-container-id-3 div.sk-container {/* jupyter's `normalize.less` sets `[hidden] { display: none; }` but bootstrap.min.css set `[hidden] { display: none !important; }` so we also need the `!important` here to be able to override the default hidden behavior on the sphinx rendered scikit-learn.org. See: https://github.com/scikit-learn/scikit-learn/issues/21755 */display: inline-block !important;position: relative;}#sk-container-id-3 div.sk-text-repr-fallback {display: none;}</style><div id=\"sk-container-id-3\" class=\"sk-top-container\"><div class=\"sk-text-repr-fallback\"><pre>SVC(kernel=&#x27;linear&#x27;)</pre><b>In a Jupyter environment, please rerun this cell to show the HTML representation or trust the notebook. <br />On GitHub, the HTML representation is unable to render, please try loading this page with nbviewer.org.</b></div><div class=\"sk-container\" hidden><div class=\"sk-item\"><div class=\"sk-estimator sk-toggleable\"><input class=\"sk-toggleable__control sk-hidden--visually\" id=\"sk-estimator-id-3\" type=\"checkbox\" checked><label for=\"sk-estimator-id-3\" class=\"sk-toggleable__label sk-toggleable__label-arrow\">SVC</label><div class=\"sk-toggleable__content\"><pre>SVC(kernel=&#x27;linear&#x27;)</pre></div></div></div></div></div>"
     },
     "metadata": {}
    }
   ],
   "execution_count": null
  },
  {
   "cell_type": "code",
   "metadata": {
    "tags": [],
    "deepnote_to_be_reexecuted": false,
    "source_hash": "e2cd43c4",
    "execution_start": 1659520968215,
    "execution_millis": 7,
    "cell_id": "00078-6e2ccaca-3e49-45a9-8c21-dc364cd69542",
    "deepnote_cell_type": "code",
    "deepnote_cell_height": 180.390625
   },
   "source": "# Make predictions for the test set\npred_svm = clf.predict(x_cv)\nprint(f\"Accuracy Score : {accuracy_score(y_cv,pred_svm)}\")\nprint(f\"F1 Score: {f1_score(y_cv,pred_svm)}\")",
   "outputs": [
    {
     "name": "stdout",
     "text": "Accuracy Score : 0.8054054054054054\nF1 Score: 0.8741258741258742\n",
     "output_type": "stream"
    }
   ],
   "execution_count": null
  },
  {
   "cell_type": "code",
   "metadata": {
    "tags": [],
    "deepnote_to_be_reexecuted": false,
    "source_hash": "ac0b6f14",
    "execution_start": 1659520968226,
    "execution_millis": 440,
    "cell_id": "00079-e5b95139-c578-48ff-a7c9-db95a25a2b09",
    "deepnote_cell_type": "code",
    "deepnote_cell_height": 521,
    "deepnote_output_heights": [
     280
    ]
   },
   "source": "confusion_matrix_svm = confusion_matrix(y_cv, pred_svm)\n\nax= plt.subplot()\nsns.heatmap(confusion_matrix_rf, annot=True, fmt='g', ax=ax);  #annot=True to annotate cells, ftm='g' to disable scientific notation\n\n# labels, title and ticks\nax.set_xlabel('Predicted labels');ax.set_ylabel('True labels'); \nax.set_title('Confusion Matrix'); \nax.xaxis.set_ticklabels(['Y', 'N']); ax.yaxis.set_ticklabels(['Y', 'N']);",
   "outputs": [
    {
     "data": {
      "text/plain": "<Figure size 432x288 with 2 Axes>",
      "image/png": "[encoded data removed]"
     },
     "metadata": {
      "needs_background": "light",
      "image/png": {
       "width": 366,
       "height": 278
      }
     },
     "output_type": "display_data"
    }
   ],
   "execution_count": null
  },
  {
   "cell_type": "code",
   "source": "\npred_test_svm = clf.predict(data_test_opt)\ndata_test_svm = data_test.copy()\ndata_test_svm['Loan_Status'] = pred_test_svm\ndata_test_svm['Loan_Status'] = data_test_svm['Loan_Status'].replace({0: 'N', 1 : 'Y'})\ndata_test_svm.head() ",
   "metadata": {
    "tags": [],
    "deepnote_to_be_reexecuted": false,
    "source_hash": "1fa50881",
    "execution_start": 1659520968659,
    "execution_millis": 9,
    "cell_id": "00080-365603fa-07a1-4ed5-9ddf-27285bdd3281",
    "deepnote_cell_type": "code",
    "deepnote_cell_height": 497
   },
   "outputs": [
    {
     "output_type": "execute_result",
     "execution_count": 61,
     "data": {
      "application/vnd.deepnote.dataframe.v3+json": {
       "column_count": 21,
       "row_count": 5,
       "columns": [
        {
         "name": "Gender_Female",
         "dtype": "uint8",
         "stats": {
          "unique_count": 1,
          "nan_count": 0,
          "min": "0",
          "max": "0",
          "histogram": [
           {
            "bin_start": -0.5,
            "bin_end": -0.4,
            "count": 0
           },
           {
            "bin_start": -0.4,
            "bin_end": -0.3,
            "count": 0
           },
           {
            "bin_start": -0.3,
            "bin_end": -0.19999999999999996,
            "count": 0
           },
           {
            "bin_start": -0.19999999999999996,
            "bin_end": -0.09999999999999998,
            "count": 0
           },
           {
            "bin_start": -0.09999999999999998,
            "bin_end": 0,
            "count": 0
           },
           {
            "bin_start": 0,
            "bin_end": 0.10000000000000009,
            "count": 5
           },
           {
            "bin_start": 0.10000000000000009,
            "bin_end": 0.20000000000000007,
            "count": 0
           },
           {
            "bin_start": 0.20000000000000007,
            "bin_end": 0.30000000000000004,
            "count": 0
           },
           {
            "bin_start": 0.30000000000000004,
            "bin_end": 0.4,
            "count": 0
           },
           {
            "bin_start": 0.4,
            "bin_end": 0.5,
            "count": 0
           }
          ]
         }
        },
        {
         "name": "Gender_Male",
         "dtype": "uint8",
         "stats": {
          "unique_count": 1,
          "nan_count": 0,
          "min": "1",
          "max": "1",
          "histogram": [
           {
            "bin_start": 0.5,
            "bin_end": 0.6,
            "count": 0
           },
           {
            "bin_start": 0.6,
            "bin_end": 0.7,
            "count": 0
           },
           {
            "bin_start": 0.7,
            "bin_end": 0.8,
            "count": 0
           },
           {
            "bin_start": 0.8,
            "bin_end": 0.9,
            "count": 0
           },
           {
            "bin_start": 0.9,
            "bin_end": 1,
            "count": 0
           },
           {
            "bin_start": 1,
            "bin_end": 1.1,
            "count": 5
           },
           {
            "bin_start": 1.1,
            "bin_end": 1.2000000000000002,
            "count": 0
           },
           {
            "bin_start": 1.2000000000000002,
            "bin_end": 1.3,
            "count": 0
           },
           {
            "bin_start": 1.3,
            "bin_end": 1.4,
            "count": 0
           },
           {
            "bin_start": 1.4,
            "bin_end": 1.5,
            "count": 0
           }
          ]
         }
        },
        {
         "name": "Married_No",
         "dtype": "uint8",
         "stats": {
          "unique_count": 2,
          "nan_count": 0,
          "min": "0",
          "max": "1",
          "histogram": [
           {
            "bin_start": 0,
            "bin_end": 0.1,
            "count": 4
           },
           {
            "bin_start": 0.1,
            "bin_end": 0.2,
            "count": 0
           },
           {
            "bin_start": 0.2,
            "bin_end": 0.30000000000000004,
            "count": 0
           },
           {
            "bin_start": 0.30000000000000004,
            "bin_end": 0.4,
            "count": 0
           },
           {
            "bin_start": 0.4,
            "bin_end": 0.5,
            "count": 0
           },
           {
            "bin_start": 0.5,
            "bin_end": 0.6000000000000001,
            "count": 0
           },
           {
            "bin_start": 0.6000000000000001,
            "bin_end": 0.7000000000000001,
            "count": 0
           },
           {
            "bin_start": 0.7000000000000001,
            "bin_end": 0.8,
            "count": 0
           },
           {
            "bin_start": 0.8,
            "bin_end": 0.9,
            "count": 0
           },
           {
            "bin_start": 0.9,
            "bin_end": 1,
            "count": 1
           }
          ]
         }
        },
        {
         "name": "Married_Yes",
         "dtype": "uint8",
         "stats": {
          "unique_count": 2,
          "nan_count": 0,
          "min": "0",
          "max": "1",
          "histogram": [
           {
            "bin_start": 0,
            "bin_end": 0.1,
            "count": 1
           },
           {
            "bin_start": 0.1,
            "bin_end": 0.2,
            "count": 0
           },
           {
            "bin_start": 0.2,
            "bin_end": 0.30000000000000004,
            "count": 0
           },
           {
            "bin_start": 0.30000000000000004,
            "bin_end": 0.4,
            "count": 0
           },
           {
            "bin_start": 0.4,
            "bin_end": 0.5,
            "count": 0
           },
           {
            "bin_start": 0.5,
            "bin_end": 0.6000000000000001,
            "count": 0
           },
           {
            "bin_start": 0.6000000000000001,
            "bin_end": 0.7000000000000001,
            "count": 0
           },
           {
            "bin_start": 0.7000000000000001,
            "bin_end": 0.8,
            "count": 0
           },
           {
            "bin_start": 0.8,
            "bin_end": 0.9,
            "count": 0
           },
           {
            "bin_start": 0.9,
            "bin_end": 1,
            "count": 4
           }
          ]
         }
        },
        {
         "name": "Education_Graduate",
         "dtype": "uint8",
         "stats": {
          "unique_count": 2,
          "nan_count": 0,
          "min": "0",
          "max": "1",
          "histogram": [
           {
            "bin_start": 0,
            "bin_end": 0.1,
            "count": 1
           },
           {
            "bin_start": 0.1,
            "bin_end": 0.2,
            "count": 0
           },
           {
            "bin_start": 0.2,
            "bin_end": 0.30000000000000004,
            "count": 0
           },
           {
            "bin_start": 0.30000000000000004,
            "bin_end": 0.4,
            "count": 0
           },
           {
            "bin_start": 0.4,
            "bin_end": 0.5,
            "count": 0
           },
           {
            "bin_start": 0.5,
            "bin_end": 0.6000000000000001,
            "count": 0
           },
           {
            "bin_start": 0.6000000000000001,
            "bin_end": 0.7000000000000001,
            "count": 0
           },
           {
            "bin_start": 0.7000000000000001,
            "bin_end": 0.8,
            "count": 0
           },
           {
            "bin_start": 0.8,
            "bin_end": 0.9,
            "count": 0
           },
           {
            "bin_start": 0.9,
            "bin_end": 1,
            "count": 4
           }
          ]
         }
        },
        {
         "name": "Education_Not Graduate",
         "dtype": "uint8",
         "stats": {
          "unique_count": 2,
          "nan_count": 0,
          "min": "0",
          "max": "1",
          "histogram": [
           {
            "bin_start": 0,
            "bin_end": 0.1,
            "count": 4
           },
           {
            "bin_start": 0.1,
            "bin_end": 0.2,
            "count": 0
           },
           {
            "bin_start": 0.2,
            "bin_end": 0.30000000000000004,
            "count": 0
           },
           {
            "bin_start": 0.30000000000000004,
            "bin_end": 0.4,
            "count": 0
           },
           {
            "bin_start": 0.4,
            "bin_end": 0.5,
            "count": 0
           },
           {
            "bin_start": 0.5,
            "bin_end": 0.6000000000000001,
            "count": 0
           },
           {
            "bin_start": 0.6000000000000001,
            "bin_end": 0.7000000000000001,
            "count": 0
           },
           {
            "bin_start": 0.7000000000000001,
            "bin_end": 0.8,
            "count": 0
           },
           {
            "bin_start": 0.8,
            "bin_end": 0.9,
            "count": 0
           },
           {
            "bin_start": 0.9,
            "bin_end": 1,
            "count": 1
           }
          ]
         }
        },
        {
         "name": "Self_Employed_No",
         "dtype": "uint8",
         "stats": {
          "unique_count": 1,
          "nan_count": 0,
          "min": "1",
          "max": "1",
          "histogram": [
           {
            "bin_start": 0.5,
            "bin_end": 0.6,
            "count": 0
           },
           {
            "bin_start": 0.6,
            "bin_end": 0.7,
            "count": 0
           },
           {
            "bin_start": 0.7,
            "bin_end": 0.8,
            "count": 0
           },
           {
            "bin_start": 0.8,
            "bin_end": 0.9,
            "count": 0
           },
           {
            "bin_start": 0.9,
            "bin_end": 1,
            "count": 0
           },
           {
            "bin_start": 1,
            "bin_end": 1.1,
            "count": 5
           },
           {
            "bin_start": 1.1,
            "bin_end": 1.2000000000000002,
            "count": 0
           },
           {
            "bin_start": 1.2000000000000002,
            "bin_end": 1.3,
            "count": 0
           },
           {
            "bin_start": 1.3,
            "bin_end": 1.4,
            "count": 0
           },
           {
            "bin_start": 1.4,
            "bin_end": 1.5,
            "count": 0
           }
          ]
         }
        },
        {
         "name": "Self_Employed_Yes",
         "dtype": "uint8",
         "stats": {
          "unique_count": 1,
          "nan_count": 0,
          "min": "0",
          "max": "0",
          "histogram": [
           {
            "bin_start": -0.5,
            "bin_end": -0.4,
            "count": 0
           },
           {
            "bin_start": -0.4,
            "bin_end": -0.3,
            "count": 0
           },
           {
            "bin_start": -0.3,
            "bin_end": -0.19999999999999996,
            "count": 0
           },
           {
            "bin_start": -0.19999999999999996,
            "bin_end": -0.09999999999999998,
            "count": 0
           },
           {
            "bin_start": -0.09999999999999998,
            "bin_end": 0,
            "count": 0
           },
           {
            "bin_start": 0,
            "bin_end": 0.10000000000000009,
            "count": 5
           },
           {
            "bin_start": 0.10000000000000009,
            "bin_end": 0.20000000000000007,
            "count": 0
           },
           {
            "bin_start": 0.20000000000000007,
            "bin_end": 0.30000000000000004,
            "count": 0
           },
           {
            "bin_start": 0.30000000000000004,
            "bin_end": 0.4,
            "count": 0
           },
           {
            "bin_start": 0.4,
            "bin_end": 0.5,
            "count": 0
           }
          ]
         }
        },
        {
         "name": "Property_Area_Rural",
         "dtype": "uint8",
         "stats": {
          "unique_count": 1,
          "nan_count": 0,
          "min": "0",
          "max": "0",
          "histogram": [
           {
            "bin_start": -0.5,
            "bin_end": -0.4,
            "count": 0
           },
           {
            "bin_start": -0.4,
            "bin_end": -0.3,
            "count": 0
           },
           {
            "bin_start": -0.3,
            "bin_end": -0.19999999999999996,
            "count": 0
           },
           {
            "bin_start": -0.19999999999999996,
            "bin_end": -0.09999999999999998,
            "count": 0
           },
           {
            "bin_start": -0.09999999999999998,
            "bin_end": 0,
            "count": 0
           },
           {
            "bin_start": 0,
            "bin_end": 0.10000000000000009,
            "count": 5
           },
           {
            "bin_start": 0.10000000000000009,
            "bin_end": 0.20000000000000007,
            "count": 0
           },
           {
            "bin_start": 0.20000000000000007,
            "bin_end": 0.30000000000000004,
            "count": 0
           },
           {
            "bin_start": 0.30000000000000004,
            "bin_end": 0.4,
            "count": 0
           },
           {
            "bin_start": 0.4,
            "bin_end": 0.5,
            "count": 0
           }
          ]
         }
        },
        {
         "name": "Property_Area_Semiurban",
         "dtype": "uint8",
         "stats": {
          "unique_count": 1,
          "nan_count": 0,
          "min": "0",
          "max": "0",
          "histogram": [
           {
            "bin_start": -0.5,
            "bin_end": -0.4,
            "count": 0
           },
           {
            "bin_start": -0.4,
            "bin_end": -0.3,
            "count": 0
           },
           {
            "bin_start": -0.3,
            "bin_end": -0.19999999999999996,
            "count": 0
           },
           {
            "bin_start": -0.19999999999999996,
            "bin_end": -0.09999999999999998,
            "count": 0
           },
           {
            "bin_start": -0.09999999999999998,
            "bin_end": 0,
            "count": 0
           },
           {
            "bin_start": 0,
            "bin_end": 0.10000000000000009,
            "count": 5
           },
           {
            "bin_start": 0.10000000000000009,
            "bin_end": 0.20000000000000007,
            "count": 0
           },
           {
            "bin_start": 0.20000000000000007,
            "bin_end": 0.30000000000000004,
            "count": 0
           },
           {
            "bin_start": 0.30000000000000004,
            "bin_end": 0.4,
            "count": 0
           },
           {
            "bin_start": 0.4,
            "bin_end": 0.5,
            "count": 0
           }
          ]
         }
        },
        {
         "name": "Property_Area_Urban",
         "dtype": "uint8",
         "stats": {
          "unique_count": 1,
          "nan_count": 0,
          "min": "1",
          "max": "1",
          "histogram": [
           {
            "bin_start": 0.5,
            "bin_end": 0.6,
            "count": 0
           },
           {
            "bin_start": 0.6,
            "bin_end": 0.7,
            "count": 0
           },
           {
            "bin_start": 0.7,
            "bin_end": 0.8,
            "count": 0
           },
           {
            "bin_start": 0.8,
            "bin_end": 0.9,
            "count": 0
           },
           {
            "bin_start": 0.9,
            "bin_end": 1,
            "count": 0
           },
           {
            "bin_start": 1,
            "bin_end": 1.1,
            "count": 5
           },
           {
            "bin_start": 1.1,
            "bin_end": 1.2000000000000002,
            "count": 0
           },
           {
            "bin_start": 1.2000000000000002,
            "bin_end": 1.3,
            "count": 0
           },
           {
            "bin_start": 1.3,
            "bin_end": 1.4,
            "count": 0
           },
           {
            "bin_start": 1.4,
            "bin_end": 1.5,
            "count": 0
           }
          ]
         }
        },
        {
         "name": "Dependents_0",
         "dtype": "uint8",
         "stats": {
          "unique_count": 2,
          "nan_count": 0,
          "min": "0",
          "max": "1",
          "histogram": [
           {
            "bin_start": 0,
            "bin_end": 0.1,
            "count": 3
           },
           {
            "bin_start": 0.1,
            "bin_end": 0.2,
            "count": 0
           },
           {
            "bin_start": 0.2,
            "bin_end": 0.30000000000000004,
            "count": 0
           },
           {
            "bin_start": 0.30000000000000004,
            "bin_end": 0.4,
            "count": 0
           },
           {
            "bin_start": 0.4,
            "bin_end": 0.5,
            "count": 0
           },
           {
            "bin_start": 0.5,
            "bin_end": 0.6000000000000001,
            "count": 0
           },
           {
            "bin_start": 0.6000000000000001,
            "bin_end": 0.7000000000000001,
            "count": 0
           },
           {
            "bin_start": 0.7000000000000001,
            "bin_end": 0.8,
            "count": 0
           },
           {
            "bin_start": 0.8,
            "bin_end": 0.9,
            "count": 0
           },
           {
            "bin_start": 0.9,
            "bin_end": 1,
            "count": 2
           }
          ]
         }
        },
        {
         "name": "Dependents_1",
         "dtype": "uint8",
         "stats": {
          "unique_count": 2,
          "nan_count": 0,
          "min": "0",
          "max": "1",
          "histogram": [
           {
            "bin_start": 0,
            "bin_end": 0.1,
            "count": 4
           },
           {
            "bin_start": 0.1,
            "bin_end": 0.2,
            "count": 0
           },
           {
            "bin_start": 0.2,
            "bin_end": 0.30000000000000004,
            "count": 0
           },
           {
            "bin_start": 0.30000000000000004,
            "bin_end": 0.4,
            "count": 0
           },
           {
            "bin_start": 0.4,
            "bin_end": 0.5,
            "count": 0
           },
           {
            "bin_start": 0.5,
            "bin_end": 0.6000000000000001,
            "count": 0
           },
           {
            "bin_start": 0.6000000000000001,
            "bin_end": 0.7000000000000001,
            "count": 0
           },
           {
            "bin_start": 0.7000000000000001,
            "bin_end": 0.8,
            "count": 0
           },
           {
            "bin_start": 0.8,
            "bin_end": 0.9,
            "count": 0
           },
           {
            "bin_start": 0.9,
            "bin_end": 1,
            "count": 1
           }
          ]
         }
        },
        {
         "name": "Dependents_2",
         "dtype": "uint8",
         "stats": {
          "unique_count": 2,
          "nan_count": 0,
          "min": "0",
          "max": "1",
          "histogram": [
           {
            "bin_start": 0,
            "bin_end": 0.1,
            "count": 3
           },
           {
            "bin_start": 0.1,
            "bin_end": 0.2,
            "count": 0
           },
           {
            "bin_start": 0.2,
            "bin_end": 0.30000000000000004,
            "count": 0
           },
           {
            "bin_start": 0.30000000000000004,
            "bin_end": 0.4,
            "count": 0
           },
           {
            "bin_start": 0.4,
            "bin_end": 0.5,
            "count": 0
           },
           {
            "bin_start": 0.5,
            "bin_end": 0.6000000000000001,
            "count": 0
           },
           {
            "bin_start": 0.6000000000000001,
            "bin_end": 0.7000000000000001,
            "count": 0
           },
           {
            "bin_start": 0.7000000000000001,
            "bin_end": 0.8,
            "count": 0
           },
           {
            "bin_start": 0.8,
            "bin_end": 0.9,
            "count": 0
           },
           {
            "bin_start": 0.9,
            "bin_end": 1,
            "count": 2
           }
          ]
         }
        },
        {
         "name": "Dependents_3+",
         "dtype": "uint8",
         "stats": {
          "unique_count": 1,
          "nan_count": 0,
          "min": "0",
          "max": "0",
          "histogram": [
           {
            "bin_start": -0.5,
            "bin_end": -0.4,
            "count": 0
           },
           {
            "bin_start": -0.4,
            "bin_end": -0.3,
            "count": 0
           },
           {
            "bin_start": -0.3,
            "bin_end": -0.19999999999999996,
            "count": 0
           },
           {
            "bin_start": -0.19999999999999996,
            "bin_end": -0.09999999999999998,
            "count": 0
           },
           {
            "bin_start": -0.09999999999999998,
            "bin_end": 0,
            "count": 0
           },
           {
            "bin_start": 0,
            "bin_end": 0.10000000000000009,
            "count": 5
           },
           {
            "bin_start": 0.10000000000000009,
            "bin_end": 0.20000000000000007,
            "count": 0
           },
           {
            "bin_start": 0.20000000000000007,
            "bin_end": 0.30000000000000004,
            "count": 0
           },
           {
            "bin_start": 0.30000000000000004,
            "bin_end": 0.4,
            "count": 0
           },
           {
            "bin_start": 0.4,
            "bin_end": 0.5,
            "count": 0
           }
          ]
         }
        },
        {
         "name": "ApplicantIncome",
         "dtype": "int64",
         "stats": {
          "unique_count": 5,
          "nan_count": 0,
          "min": "2340",
          "max": "5720",
          "histogram": [
           {
            "bin_start": 2340,
            "bin_end": 2678,
            "count": 1
           },
           {
            "bin_start": 2678,
            "bin_end": 3016,
            "count": 0
           },
           {
            "bin_start": 3016,
            "bin_end": 3354,
            "count": 2
           },
           {
            "bin_start": 3354,
            "bin_end": 3692,
            "count": 0
           },
           {
            "bin_start": 3692,
            "bin_end": 4030,
            "count": 0
           },
           {
            "bin_start": 4030,
            "bin_end": 4368,
            "count": 0
           },
           {
            "bin_start": 4368,
            "bin_end": 4706,
            "count": 0
           },
           {
            "bin_start": 4706,
            "bin_end": 5044,
            "count": 1
           },
           {
            "bin_start": 5044,
            "bin_end": 5382,
            "count": 0
           },
           {
            "bin_start": 5382,
            "bin_end": 5720,
            "count": 1
           }
          ]
         }
        },
        {
         "name": "CoapplicantIncome",
         "dtype": "int64",
         "stats": {
          "unique_count": 4,
          "nan_count": 0,
          "min": "0",
          "max": "2546",
          "histogram": [
           {
            "bin_start": 0,
            "bin_end": 254.6,
            "count": 2
           },
           {
            "bin_start": 254.6,
            "bin_end": 509.2,
            "count": 0
           },
           {
            "bin_start": 509.2,
            "bin_end": 763.8,
            "count": 0
           },
           {
            "bin_start": 763.8,
            "bin_end": 1018.4,
            "count": 0
           },
           {
            "bin_start": 1018.4,
            "bin_end": 1273,
            "count": 0
           },
           {
            "bin_start": 1273,
            "bin_end": 1527.6,
            "count": 1
           },
           {
            "bin_start": 1527.6,
            "bin_end": 1782.2,
            "count": 0
           },
           {
            "bin_start": 1782.2,
            "bin_end": 2036.8,
            "count": 1
           },
           {
            "bin_start": 2036.8,
            "bin_end": 2291.4,
            "count": 0
           },
           {
            "bin_start": 2291.4,
            "bin_end": 2546,
            "count": 1
           }
          ]
         }
        },
        {
         "name": "LoanAmount",
         "dtype": "float64",
         "stats": {
          "unique_count": 5,
          "nan_count": 0,
          "min": "78.0",
          "max": "208.0",
          "histogram": [
           {
            "bin_start": 78,
            "bin_end": 91,
            "count": 1
           },
           {
            "bin_start": 91,
            "bin_end": 104,
            "count": 1
           },
           {
            "bin_start": 104,
            "bin_end": 117,
            "count": 1
           },
           {
            "bin_start": 117,
            "bin_end": 130,
            "count": 1
           },
           {
            "bin_start": 130,
            "bin_end": 143,
            "count": 0
           },
           {
            "bin_start": 143,
            "bin_end": 156,
            "count": 0
           },
           {
            "bin_start": 156,
            "bin_end": 169,
            "count": 0
           },
           {
            "bin_start": 169,
            "bin_end": 182,
            "count": 0
           },
           {
            "bin_start": 182,
            "bin_end": 195,
            "count": 0
           },
           {
            "bin_start": 195,
            "bin_end": 208,
            "count": 1
           }
          ]
         }
        },
        {
         "name": "Loan_Amount_Term",
         "dtype": "float64",
         "stats": {
          "unique_count": 1,
          "nan_count": 0,
          "min": "360.0",
          "max": "360.0",
          "histogram": [
           {
            "bin_start": 359.5,
            "bin_end": 359.6,
            "count": 0
           },
           {
            "bin_start": 359.6,
            "bin_end": 359.7,
            "count": 0
           },
           {
            "bin_start": 359.7,
            "bin_end": 359.8,
            "count": 0
           },
           {
            "bin_start": 359.8,
            "bin_end": 359.9,
            "count": 0
           },
           {
            "bin_start": 359.9,
            "bin_end": 360,
            "count": 0
           },
           {
            "bin_start": 360,
            "bin_end": 360.1,
            "count": 5
           },
           {
            "bin_start": 360.1,
            "bin_end": 360.2,
            "count": 0
           },
           {
            "bin_start": 360.2,
            "bin_end": 360.3,
            "count": 0
           },
           {
            "bin_start": 360.3,
            "bin_end": 360.4,
            "count": 0
           },
           {
            "bin_start": 360.4,
            "bin_end": 360.5,
            "count": 0
           }
          ]
         }
        },
        {
         "name": "Credit_History",
         "dtype": "float64",
         "stats": {
          "unique_count": 1,
          "nan_count": 0,
          "min": "1.0",
          "max": "1.0",
          "histogram": [
           {
            "bin_start": 0.5,
            "bin_end": 0.6,
            "count": 0
           },
           {
            "bin_start": 0.6,
            "bin_end": 0.7,
            "count": 0
           },
           {
            "bin_start": 0.7,
            "bin_end": 0.8,
            "count": 0
           },
           {
            "bin_start": 0.8,
            "bin_end": 0.9,
            "count": 0
           },
           {
            "bin_start": 0.9,
            "bin_end": 1,
            "count": 0
           },
           {
            "bin_start": 1,
            "bin_end": 1.1,
            "count": 5
           },
           {
            "bin_start": 1.1,
            "bin_end": 1.2000000000000002,
            "count": 0
           },
           {
            "bin_start": 1.2000000000000002,
            "bin_end": 1.3,
            "count": 0
           },
           {
            "bin_start": 1.3,
            "bin_end": 1.4,
            "count": 0
           },
           {
            "bin_start": 1.4,
            "bin_end": 1.5,
            "count": 0
           }
          ]
         }
        },
        {
         "name": "Loan_Status",
         "dtype": "object",
         "stats": {
          "unique_count": 1,
          "nan_count": 0,
          "categories": [
           {
            "name": "Y",
            "count": 5
           }
          ]
         }
        },
        {
         "name": "_deepnote_index_column",
         "dtype": "int64"
        }
       ],
       "rows": [
        {
         "Gender_Female": 0,
         "Gender_Male": 1,
         "Married_No": 0,
         "Married_Yes": 1,
         "Education_Graduate": 1,
         "Education_Not Graduate": 0,
         "Self_Employed_No": 1,
         "Self_Employed_Yes": 0,
         "Property_Area_Rural": 0,
         "Property_Area_Semiurban": 0,
         "Property_Area_Urban": 1,
         "Dependents_0": 1,
         "Dependents_1": 0,
         "Dependents_2": 0,
         "Dependents_3+": 0,
         "ApplicantIncome": 5720,
         "CoapplicantIncome": 0,
         "LoanAmount": 110,
         "Loan_Amount_Term": 360,
         "Credit_History": 1,
         "Loan_Status": "Y",
         "_deepnote_index_column": 0
        },
        {
         "Gender_Female": 0,
         "Gender_Male": 1,
         "Married_No": 0,
         "Married_Yes": 1,
         "Education_Graduate": 1,
         "Education_Not Graduate": 0,
         "Self_Employed_No": 1,
         "Self_Employed_Yes": 0,
         "Property_Area_Rural": 0,
         "Property_Area_Semiurban": 0,
         "Property_Area_Urban": 1,
         "Dependents_0": 0,
         "Dependents_1": 1,
         "Dependents_2": 0,
         "Dependents_3+": 0,
         "ApplicantIncome": 3076,
         "CoapplicantIncome": 1500,
         "LoanAmount": 126,
         "Loan_Amount_Term": 360,
         "Credit_History": 1,
         "Loan_Status": "Y",
         "_deepnote_index_column": 1
        },
        {
         "Gender_Female": 0,
         "Gender_Male": 1,
         "Married_No": 0,
         "Married_Yes": 1,
         "Education_Graduate": 1,
         "Education_Not Graduate": 0,
         "Self_Employed_No": 1,
         "Self_Employed_Yes": 0,
         "Property_Area_Rural": 0,
         "Property_Area_Semiurban": 0,
         "Property_Area_Urban": 1,
         "Dependents_0": 0,
         "Dependents_1": 0,
         "Dependents_2": 1,
         "Dependents_3+": 0,
         "ApplicantIncome": 5000,
         "CoapplicantIncome": 1800,
         "LoanAmount": 208,
         "Loan_Amount_Term": 360,
         "Credit_History": 1,
         "Loan_Status": "Y",
         "_deepnote_index_column": 2
        },
        {
         "Gender_Female": 0,
         "Gender_Male": 1,
         "Married_No": 0,
         "Married_Yes": 1,
         "Education_Graduate": 1,
         "Education_Not Graduate": 0,
         "Self_Employed_No": 1,
         "Self_Employed_Yes": 0,
         "Property_Area_Rural": 0,
         "Property_Area_Semiurban": 0,
         "Property_Area_Urban": 1,
         "Dependents_0": 0,
         "Dependents_1": 0,
         "Dependents_2": 1,
         "Dependents_3+": 0,
         "ApplicantIncome": 2340,
         "CoapplicantIncome": 2546,
         "LoanAmount": 100,
         "Loan_Amount_Term": 360,
         "Credit_History": 1,
         "Loan_Status": "Y",
         "_deepnote_index_column": 3
        },
        {
         "Gender_Female": 0,
         "Gender_Male": 1,
         "Married_No": 1,
         "Married_Yes": 0,
         "Education_Graduate": 0,
         "Education_Not Graduate": 1,
         "Self_Employed_No": 1,
         "Self_Employed_Yes": 0,
         "Property_Area_Rural": 0,
         "Property_Area_Semiurban": 0,
         "Property_Area_Urban": 1,
         "Dependents_0": 1,
         "Dependents_1": 0,
         "Dependents_2": 0,
         "Dependents_3+": 0,
         "ApplicantIncome": 3276,
         "CoapplicantIncome": 0,
         "LoanAmount": 78,
         "Loan_Amount_Term": 360,
         "Credit_History": 1,
         "Loan_Status": "Y",
         "_deepnote_index_column": 4
        }
       ]
      },
      "text/plain": "   Gender_Female  Gender_Male  Married_No  Married_Yes  Education_Graduate  \\\n0              0            1           0            1                   1   \n1              0            1           0            1                   1   \n2              0            1           0            1                   1   \n3              0            1           0            1                   1   \n4              0            1           1            0                   0   \n\n   Education_Not Graduate  Self_Employed_No  Self_Employed_Yes  \\\n0                       0                 1                  0   \n1                       0                 1                  0   \n2                       0                 1                  0   \n3                       0                 1                  0   \n4                       1                 1                  0   \n\n   Property_Area_Rural  Property_Area_Semiurban  ...  Dependents_0  \\\n0                    0                        0  ...             1   \n1                    0                        0  ...             0   \n2                    0                        0  ...             0   \n3                    0                        0  ...             0   \n4                    0                        0  ...             1   \n\n   Dependents_1  Dependents_2  Dependents_3+  ApplicantIncome  \\\n0             0             0              0             5720   \n1             1             0              0             3076   \n2             0             1              0             5000   \n3             0             1              0             2340   \n4             0             0              0             3276   \n\n   CoapplicantIncome  LoanAmount  Loan_Amount_Term  Credit_History  \\\n0                  0       110.0             360.0             1.0   \n1               1500       126.0             360.0             1.0   \n2               1800       208.0             360.0             1.0   \n3               2546       100.0             360.0             1.0   \n4                  0        78.0             360.0             1.0   \n\n   Loan_Status  \n0            Y  \n1            Y  \n2            Y  \n3            Y  \n4            Y  \n\n[5 rows x 21 columns]",
      "text/html": "<div>\n<style scoped>\n    .dataframe tbody tr th:only-of-type {\n        vertical-align: middle;\n    }\n\n    .dataframe tbody tr th {\n        vertical-align: top;\n    }\n\n    .dataframe thead th {\n        text-align: right;\n    }\n</style>\n<table border=\"1\" class=\"dataframe\">\n  <thead>\n    <tr style=\"text-align: right;\">\n      <th></th>\n      <th>Gender_Female</th>\n      <th>Gender_Male</th>\n      <th>Married_No</th>\n      <th>Married_Yes</th>\n      <th>Education_Graduate</th>\n      <th>Education_Not Graduate</th>\n      <th>Self_Employed_No</th>\n      <th>Self_Employed_Yes</th>\n      <th>Property_Area_Rural</th>\n      <th>Property_Area_Semiurban</th>\n      <th>...</th>\n      <th>Dependents_0</th>\n      <th>Dependents_1</th>\n      <th>Dependents_2</th>\n      <th>Dependents_3+</th>\n      <th>ApplicantIncome</th>\n      <th>CoapplicantIncome</th>\n      <th>LoanAmount</th>\n      <th>Loan_Amount_Term</th>\n      <th>Credit_History</th>\n      <th>Loan_Status</th>\n    </tr>\n  </thead>\n  <tbody>\n    <tr>\n      <th>0</th>\n      <td>0</td>\n      <td>1</td>\n      <td>0</td>\n      <td>1</td>\n      <td>1</td>\n      <td>0</td>\n      <td>1</td>\n      <td>0</td>\n      <td>0</td>\n      <td>0</td>\n      <td>...</td>\n      <td>1</td>\n      <td>0</td>\n      <td>0</td>\n      <td>0</td>\n      <td>5720</td>\n      <td>0</td>\n      <td>110.0</td>\n      <td>360.0</td>\n      <td>1.0</td>\n      <td>Y</td>\n    </tr>\n    <tr>\n      <th>1</th>\n      <td>0</td>\n      <td>1</td>\n      <td>0</td>\n      <td>1</td>\n      <td>1</td>\n      <td>0</td>\n      <td>1</td>\n      <td>0</td>\n      <td>0</td>\n      <td>0</td>\n      <td>...</td>\n      <td>0</td>\n      <td>1</td>\n      <td>0</td>\n      <td>0</td>\n      <td>3076</td>\n      <td>1500</td>\n      <td>126.0</td>\n      <td>360.0</td>\n      <td>1.0</td>\n      <td>Y</td>\n    </tr>\n    <tr>\n      <th>2</th>\n      <td>0</td>\n      <td>1</td>\n      <td>0</td>\n      <td>1</td>\n      <td>1</td>\n      <td>0</td>\n      <td>1</td>\n      <td>0</td>\n      <td>0</td>\n      <td>0</td>\n      <td>...</td>\n      <td>0</td>\n      <td>0</td>\n      <td>1</td>\n      <td>0</td>\n      <td>5000</td>\n      <td>1800</td>\n      <td>208.0</td>\n      <td>360.0</td>\n      <td>1.0</td>\n      <td>Y</td>\n    </tr>\n    <tr>\n      <th>3</th>\n      <td>0</td>\n      <td>1</td>\n      <td>0</td>\n      <td>1</td>\n      <td>1</td>\n      <td>0</td>\n      <td>1</td>\n      <td>0</td>\n      <td>0</td>\n      <td>0</td>\n      <td>...</td>\n      <td>0</td>\n      <td>0</td>\n      <td>1</td>\n      <td>0</td>\n      <td>2340</td>\n      <td>2546</td>\n      <td>100.0</td>\n      <td>360.0</td>\n      <td>1.0</td>\n      <td>Y</td>\n    </tr>\n    <tr>\n      <th>4</th>\n      <td>0</td>\n      <td>1</td>\n      <td>1</td>\n      <td>0</td>\n      <td>0</td>\n      <td>1</td>\n      <td>1</td>\n      <td>0</td>\n      <td>0</td>\n      <td>0</td>\n      <td>...</td>\n      <td>1</td>\n      <td>0</td>\n      <td>0</td>\n      <td>0</td>\n      <td>3276</td>\n      <td>0</td>\n      <td>78.0</td>\n      <td>360.0</td>\n      <td>1.0</td>\n      <td>Y</td>\n    </tr>\n  </tbody>\n</table>\n<p>5 rows × 21 columns</p>\n</div>"
     },
     "metadata": {}
    }
   ],
   "execution_count": null
  },
  {
   "cell_type": "markdown",
   "source": "### K-Nearest Neighbour",
   "metadata": {
    "formattedRanges": [],
    "is_collapsed": false,
    "tags": [],
    "cell_id": "00081-684d6fc3-2478-4381-99b3-c8da8978f685",
    "deepnote_cell_type": "text-cell-h3"
   }
  },
  {
   "cell_type": "code",
   "metadata": {
    "tags": [],
    "deepnote_to_be_reexecuted": false,
    "source_hash": "f8c3fe6d",
    "execution_start": 1659520968660,
    "execution_millis": 1,
    "cell_id": "00082-25fd7534-6438-4d11-8af4-edbecf9c597e",
    "deepnote_cell_type": "code",
    "deepnote_cell_height": 94
   },
   "source": "from sklearn.neighbors import KNeighborsClassifier\n",
   "outputs": [],
   "execution_count": null
  },
  {
   "cell_type": "code",
   "metadata": {
    "tags": [],
    "deepnote_to_be_reexecuted": false,
    "source_hash": "8f68908e",
    "execution_start": 1659520968661,
    "execution_millis": 7,
    "cell_id": "00083-5c3dc071-ffcb-4e31-b68f-c570fa8e77cb",
    "deepnote_cell_type": "code",
    "deepnote_cell_height": 170.375,
    "deepnote_output_heights": [
     60.375
    ]
   },
   "source": "knn = KNeighborsClassifier(n_neighbors=5)\nknn.fit(x_train, y_train)",
   "outputs": [
    {
     "output_type": "execute_result",
     "execution_count": 63,
     "data": {
      "text/plain": "KNeighborsClassifier()",
      "text/html": "<style>#sk-container-id-4 {color: black;background-color: white;}#sk-container-id-4 pre{padding: 0;}#sk-container-id-4 div.sk-toggleable {background-color: white;}#sk-container-id-4 label.sk-toggleable__label {cursor: pointer;display: block;width: 100%;margin-bottom: 0;padding: 0.3em;box-sizing: border-box;text-align: center;}#sk-container-id-4 label.sk-toggleable__label-arrow:before {content: \"▸\";float: left;margin-right: 0.25em;color: #696969;}#sk-container-id-4 label.sk-toggleable__label-arrow:hover:before {color: black;}#sk-container-id-4 div.sk-estimator:hover label.sk-toggleable__label-arrow:before {color: black;}#sk-container-id-4 div.sk-toggleable__content {max-height: 0;max-width: 0;overflow: hidden;text-align: left;background-color: #f0f8ff;}#sk-container-id-4 div.sk-toggleable__content pre {margin: 0.2em;color: black;border-radius: 0.25em;background-color: #f0f8ff;}#sk-container-id-4 input.sk-toggleable__control:checked~div.sk-toggleable__content {max-height: 200px;max-width: 100%;overflow: auto;}#sk-container-id-4 input.sk-toggleable__control:checked~label.sk-toggleable__label-arrow:before {content: \"▾\";}#sk-container-id-4 div.sk-estimator input.sk-toggleable__control:checked~label.sk-toggleable__label {background-color: #d4ebff;}#sk-container-id-4 div.sk-label input.sk-toggleable__control:checked~label.sk-toggleable__label {background-color: #d4ebff;}#sk-container-id-4 input.sk-hidden--visually {border: 0;clip: rect(1px 1px 1px 1px);clip: rect(1px, 1px, 1px, 1px);height: 1px;margin: -1px;overflow: hidden;padding: 0;position: absolute;width: 1px;}#sk-container-id-4 div.sk-estimator {font-family: monospace;background-color: #f0f8ff;border: 1px dotted black;border-radius: 0.25em;box-sizing: border-box;margin-bottom: 0.5em;}#sk-container-id-4 div.sk-estimator:hover {background-color: #d4ebff;}#sk-container-id-4 div.sk-parallel-item::after {content: \"\";width: 100%;border-bottom: 1px solid gray;flex-grow: 1;}#sk-container-id-4 div.sk-label:hover label.sk-toggleable__label {background-color: #d4ebff;}#sk-container-id-4 div.sk-serial::before {content: \"\";position: absolute;border-left: 1px solid gray;box-sizing: border-box;top: 0;bottom: 0;left: 50%;z-index: 0;}#sk-container-id-4 div.sk-serial {display: flex;flex-direction: column;align-items: center;background-color: white;padding-right: 0.2em;padding-left: 0.2em;position: relative;}#sk-container-id-4 div.sk-item {position: relative;z-index: 1;}#sk-container-id-4 div.sk-parallel {display: flex;align-items: stretch;justify-content: center;background-color: white;position: relative;}#sk-container-id-4 div.sk-item::before, #sk-container-id-4 div.sk-parallel-item::before {content: \"\";position: absolute;border-left: 1px solid gray;box-sizing: border-box;top: 0;bottom: 0;left: 50%;z-index: -1;}#sk-container-id-4 div.sk-parallel-item {display: flex;flex-direction: column;z-index: 1;position: relative;background-color: white;}#sk-container-id-4 div.sk-parallel-item:first-child::after {align-self: flex-end;width: 50%;}#sk-container-id-4 div.sk-parallel-item:last-child::after {align-self: flex-start;width: 50%;}#sk-container-id-4 div.sk-parallel-item:only-child::after {width: 0;}#sk-container-id-4 div.sk-dashed-wrapped {border: 1px dashed gray;margin: 0 0.4em 0.5em 0.4em;box-sizing: border-box;padding-bottom: 0.4em;background-color: white;}#sk-container-id-4 div.sk-label label {font-family: monospace;font-weight: bold;display: inline-block;line-height: 1.2em;}#sk-container-id-4 div.sk-label-container {text-align: center;}#sk-container-id-4 div.sk-container {/* jupyter's `normalize.less` sets `[hidden] { display: none; }` but bootstrap.min.css set `[hidden] { display: none !important; }` so we also need the `!important` here to be able to override the default hidden behavior on the sphinx rendered scikit-learn.org. See: https://github.com/scikit-learn/scikit-learn/issues/21755 */display: inline-block !important;position: relative;}#sk-container-id-4 div.sk-text-repr-fallback {display: none;}</style><div id=\"sk-container-id-4\" class=\"sk-top-container\"><div class=\"sk-text-repr-fallback\"><pre>KNeighborsClassifier()</pre><b>In a Jupyter environment, please rerun this cell to show the HTML representation or trust the notebook. <br />On GitHub, the HTML representation is unable to render, please try loading this page with nbviewer.org.</b></div><div class=\"sk-container\" hidden><div class=\"sk-item\"><div class=\"sk-estimator sk-toggleable\"><input class=\"sk-toggleable__control sk-hidden--visually\" id=\"sk-estimator-id-4\" type=\"checkbox\" checked><label for=\"sk-estimator-id-4\" class=\"sk-toggleable__label sk-toggleable__label-arrow\">KNeighborsClassifier</label><div class=\"sk-toggleable__content\"><pre>KNeighborsClassifier()</pre></div></div></div></div></div>"
     },
     "metadata": {}
    }
   ],
   "execution_count": null
  },
  {
   "cell_type": "code",
   "metadata": {
    "tags": [],
    "deepnote_to_be_reexecuted": false,
    "source_hash": "1d303e52",
    "execution_start": 1659520968662,
    "execution_millis": 6,
    "cell_id": "00084-3c62e7fc-9739-4c64-8f5b-17f3665d5aec",
    "deepnote_cell_type": "code",
    "deepnote_cell_height": 180.390625
   },
   "source": "# Make predictions for the test set\npred_knn = knn.predict(x_cv)\nprint(f\"Accuracy Score : {accuracy_score(y_cv,pred_knn)}\")\nprint(f\"F1 Score: {f1_score(y_cv,pred_knn)}\")",
   "outputs": [
    {
     "name": "stdout",
     "text": "Accuracy Score : 0.8054054054054054\nF1 Score: 0.8741258741258742\n",
     "output_type": "stream"
    }
   ],
   "execution_count": null
  },
  {
   "cell_type": "code",
   "metadata": {
    "tags": [],
    "deepnote_to_be_reexecuted": false,
    "source_hash": "3d2fcc56",
    "execution_start": 1659520968663,
    "execution_millis": 317,
    "cell_id": "00085-9427b398-182c-44b0-a71b-56ec4452c9b3",
    "deepnote_cell_type": "code",
    "deepnote_cell_height": 202
   },
   "source": "error = []\n\n# Calculating error for K values between 1 and 40\nfor i in range(1, 40):\n    knn = KNeighborsClassifier(n_neighbors=i)\n    knn.fit(x_train, y_train)\n    pred_i = knn.predict(x_cv)\n    error.append(np.mean(pred_i != y_cv))",
   "outputs": [],
   "execution_count": null
  },
  {
   "cell_type": "code",
   "metadata": {
    "tags": [],
    "deepnote_to_be_reexecuted": false,
    "source_hash": "533114b3",
    "execution_start": 1659520968987,
    "execution_millis": 219,
    "cell_id": "00086-17a06152-065d-4eb7-bbce-d4e4ba4d3f22",
    "deepnote_cell_type": "code",
    "deepnote_cell_height": 516.71875,
    "deepnote_output_heights": [
     21.1875,
     282.53125
    ]
   },
   "source": "plt.figure(figsize=(12, 6))\nplt.plot(range(1, 40), error, color='red', linestyle='dashed', marker='o',\n         markerfacecolor='blue', markersize=10)\nplt.title('Error Rate K Value')\nplt.xlabel('K Value')\nplt.ylabel('Mean Error')",
   "outputs": [
    {
     "output_type": "execute_result",
     "execution_count": 66,
     "data": {
      "text/plain": "Text(0, 0.5, 'Mean Error')"
     },
     "metadata": {}
    },
    {
     "data": {
      "text/plain": "<Figure size 864x432 with 1 Axes>",
      "image/png": "[encoded data removed]"
     },
     "metadata": {
      "needs_background": "light",
      "image/png": {
       "width": 727,
       "height": 387
      }
     },
     "output_type": "display_data"
    }
   ],
   "execution_count": null
  },
  {
   "cell_type": "code",
   "source": "knn = KNeighborsClassifier(n_neighbors=6)\nknn.fit(x_train, y_train)",
   "metadata": {
    "tags": [],
    "deepnote_to_be_reexecuted": false,
    "source_hash": "6a676c95",
    "execution_start": 1659520969211,
    "execution_millis": 10,
    "cell_id": "00087-4b00b2fc-916a-4719-b094-980917147fee",
    "deepnote_cell_type": "code",
    "deepnote_cell_height": 170.375,
    "deepnote_output_heights": [
     60.375
    ]
   },
   "outputs": [
    {
     "output_type": "execute_result",
     "execution_count": 67,
     "data": {
      "text/plain": "KNeighborsClassifier(n_neighbors=6)",
      "text/html": "<style>#sk-container-id-5 {color: black;background-color: white;}#sk-container-id-5 pre{padding: 0;}#sk-container-id-5 div.sk-toggleable {background-color: white;}#sk-container-id-5 label.sk-toggleable__label {cursor: pointer;display: block;width: 100%;margin-bottom: 0;padding: 0.3em;box-sizing: border-box;text-align: center;}#sk-container-id-5 label.sk-toggleable__label-arrow:before {content: \"▸\";float: left;margin-right: 0.25em;color: #696969;}#sk-container-id-5 label.sk-toggleable__label-arrow:hover:before {color: black;}#sk-container-id-5 div.sk-estimator:hover label.sk-toggleable__label-arrow:before {color: black;}#sk-container-id-5 div.sk-toggleable__content {max-height: 0;max-width: 0;overflow: hidden;text-align: left;background-color: #f0f8ff;}#sk-container-id-5 div.sk-toggleable__content pre {margin: 0.2em;color: black;border-radius: 0.25em;background-color: #f0f8ff;}#sk-container-id-5 input.sk-toggleable__control:checked~div.sk-toggleable__content {max-height: 200px;max-width: 100%;overflow: auto;}#sk-container-id-5 input.sk-toggleable__control:checked~label.sk-toggleable__label-arrow:before {content: \"▾\";}#sk-container-id-5 div.sk-estimator input.sk-toggleable__control:checked~label.sk-toggleable__label {background-color: #d4ebff;}#sk-container-id-5 div.sk-label input.sk-toggleable__control:checked~label.sk-toggleable__label {background-color: #d4ebff;}#sk-container-id-5 input.sk-hidden--visually {border: 0;clip: rect(1px 1px 1px 1px);clip: rect(1px, 1px, 1px, 1px);height: 1px;margin: -1px;overflow: hidden;padding: 0;position: absolute;width: 1px;}#sk-container-id-5 div.sk-estimator {font-family: monospace;background-color: #f0f8ff;border: 1px dotted black;border-radius: 0.25em;box-sizing: border-box;margin-bottom: 0.5em;}#sk-container-id-5 div.sk-estimator:hover {background-color: #d4ebff;}#sk-container-id-5 div.sk-parallel-item::after {content: \"\";width: 100%;border-bottom: 1px solid gray;flex-grow: 1;}#sk-container-id-5 div.sk-label:hover label.sk-toggleable__label {background-color: #d4ebff;}#sk-container-id-5 div.sk-serial::before {content: \"\";position: absolute;border-left: 1px solid gray;box-sizing: border-box;top: 0;bottom: 0;left: 50%;z-index: 0;}#sk-container-id-5 div.sk-serial {display: flex;flex-direction: column;align-items: center;background-color: white;padding-right: 0.2em;padding-left: 0.2em;position: relative;}#sk-container-id-5 div.sk-item {position: relative;z-index: 1;}#sk-container-id-5 div.sk-parallel {display: flex;align-items: stretch;justify-content: center;background-color: white;position: relative;}#sk-container-id-5 div.sk-item::before, #sk-container-id-5 div.sk-parallel-item::before {content: \"\";position: absolute;border-left: 1px solid gray;box-sizing: border-box;top: 0;bottom: 0;left: 50%;z-index: -1;}#sk-container-id-5 div.sk-parallel-item {display: flex;flex-direction: column;z-index: 1;position: relative;background-color: white;}#sk-container-id-5 div.sk-parallel-item:first-child::after {align-self: flex-end;width: 50%;}#sk-container-id-5 div.sk-parallel-item:last-child::after {align-self: flex-start;width: 50%;}#sk-container-id-5 div.sk-parallel-item:only-child::after {width: 0;}#sk-container-id-5 div.sk-dashed-wrapped {border: 1px dashed gray;margin: 0 0.4em 0.5em 0.4em;box-sizing: border-box;padding-bottom: 0.4em;background-color: white;}#sk-container-id-5 div.sk-label label {font-family: monospace;font-weight: bold;display: inline-block;line-height: 1.2em;}#sk-container-id-5 div.sk-label-container {text-align: center;}#sk-container-id-5 div.sk-container {/* jupyter's `normalize.less` sets `[hidden] { display: none; }` but bootstrap.min.css set `[hidden] { display: none !important; }` so we also need the `!important` here to be able to override the default hidden behavior on the sphinx rendered scikit-learn.org. See: https://github.com/scikit-learn/scikit-learn/issues/21755 */display: inline-block !important;position: relative;}#sk-container-id-5 div.sk-text-repr-fallback {display: none;}</style><div id=\"sk-container-id-5\" class=\"sk-top-container\"><div class=\"sk-text-repr-fallback\"><pre>KNeighborsClassifier(n_neighbors=6)</pre><b>In a Jupyter environment, please rerun this cell to show the HTML representation or trust the notebook. <br />On GitHub, the HTML representation is unable to render, please try loading this page with nbviewer.org.</b></div><div class=\"sk-container\" hidden><div class=\"sk-item\"><div class=\"sk-estimator sk-toggleable\"><input class=\"sk-toggleable__control sk-hidden--visually\" id=\"sk-estimator-id-5\" type=\"checkbox\" checked><label for=\"sk-estimator-id-5\" class=\"sk-toggleable__label sk-toggleable__label-arrow\">KNeighborsClassifier</label><div class=\"sk-toggleable__content\"><pre>KNeighborsClassifier(n_neighbors=6)</pre></div></div></div></div></div>"
     },
     "metadata": {}
    }
   ],
   "execution_count": null
  },
  {
   "cell_type": "code",
   "source": "# Make predictions for the test set\npred_knn = knn.predict(x_cv)\nprint(f\"Accuracy Score : {accuracy_score(y_cv,pred_knn)}\")\nprint(f\"F1 Score: {f1_score(y_cv,pred_knn)}\")",
   "metadata": {
    "tags": [],
    "deepnote_to_be_reexecuted": false,
    "source_hash": "1d303e52",
    "execution_start": 1659520969225,
    "execution_millis": 17,
    "cell_id": "00088-bf4d0644-3a0b-4203-bdce-3256e04bfd47",
    "deepnote_cell_type": "code",
    "deepnote_cell_height": 180.390625
   },
   "outputs": [
    {
     "name": "stdout",
     "text": "Accuracy Score : 0.8054054054054054\nF1 Score: 0.8723404255319148\n",
     "output_type": "stream"
    }
   ],
   "execution_count": null
  },
  {
   "cell_type": "code",
   "source": "confusion_matrix_knn = confusion_matrix(y_cv, pred_knn)\n\nax= plt.subplot()\nsns.heatmap(confusion_matrix_knn, annot=True, fmt='g', ax=ax);  #annot=True to annotate cells, ftm='g' to disable scientific notation\n\n# labels, title and ticks\nax.set_xlabel('Predicted labels');ax.set_ylabel('True labels'); \nax.set_title('Confusion Matrix'); \nax.xaxis.set_ticklabels(['Y', 'N']); ax.yaxis.set_ticklabels(['Y', 'N']);",
   "metadata": {
    "tags": [],
    "deepnote_to_be_reexecuted": false,
    "source_hash": "955da97",
    "execution_start": 1659520969249,
    "execution_millis": 858,
    "cell_id": "00089-9527ac78-0295-4bc7-a081-248a61a72d1a",
    "deepnote_cell_type": "code",
    "deepnote_cell_height": 521,
    "deepnote_output_heights": [
     280
    ]
   },
   "outputs": [
    {
     "data": {
      "text/plain": "<Figure size 432x288 with 2 Axes>",
      "image/png": "[encoded data removed]"
     },
     "metadata": {
      "needs_background": "light",
      "image/png": {
       "width": 366,
       "height": 278
      }
     },
     "output_type": "display_data"
    }
   ],
   "execution_count": null
  },
  {
   "cell_type": "code",
   "source": "# pred_test_knn = knn12.predict(data_test)\npred_test_knn = knn.predict(data_test_opt)\n\ndata_test_knn = data_test.copy()\ndata_test_knn['Loan_Status'] = pred_test_knn\ndata_test_knn['Loan_Status'] = data_test_knn['Loan_Status'].replace({0: 'N', 1 : 'Y'})\ndata_test_knn.head()\n",
   "metadata": {
    "tags": [],
    "deepnote_to_be_reexecuted": false,
    "source_hash": "ce6e2a0d",
    "execution_start": 1659520969479,
    "execution_millis": 654,
    "cell_id": "00090-11d929dc-fc71-4070-a4cd-a5f7d3fe0a93",
    "deepnote_cell_type": "code",
    "deepnote_cell_height": 533
   },
   "outputs": [
    {
     "output_type": "execute_result",
     "execution_count": 70,
     "data": {
      "application/vnd.deepnote.dataframe.v3+json": {
       "column_count": 21,
       "row_count": 5,
       "columns": [
        {
         "name": "Gender_Female",
         "dtype": "uint8",
         "stats": {
          "unique_count": 1,
          "nan_count": 0,
          "min": "0",
          "max": "0",
          "histogram": [
           {
            "bin_start": -0.5,
            "bin_end": -0.4,
            "count": 0
           },
           {
            "bin_start": -0.4,
            "bin_end": -0.3,
            "count": 0
           },
           {
            "bin_start": -0.3,
            "bin_end": -0.19999999999999996,
            "count": 0
           },
           {
            "bin_start": -0.19999999999999996,
            "bin_end": -0.09999999999999998,
            "count": 0
           },
           {
            "bin_start": -0.09999999999999998,
            "bin_end": 0,
            "count": 0
           },
           {
            "bin_start": 0,
            "bin_end": 0.10000000000000009,
            "count": 5
           },
           {
            "bin_start": 0.10000000000000009,
            "bin_end": 0.20000000000000007,
            "count": 0
           },
           {
            "bin_start": 0.20000000000000007,
            "bin_end": 0.30000000000000004,
            "count": 0
           },
           {
            "bin_start": 0.30000000000000004,
            "bin_end": 0.4,
            "count": 0
           },
           {
            "bin_start": 0.4,
            "bin_end": 0.5,
            "count": 0
           }
          ]
         }
        },
        {
         "name": "Gender_Male",
         "dtype": "uint8",
         "stats": {
          "unique_count": 1,
          "nan_count": 0,
          "min": "1",
          "max": "1",
          "histogram": [
           {
            "bin_start": 0.5,
            "bin_end": 0.6,
            "count": 0
           },
           {
            "bin_start": 0.6,
            "bin_end": 0.7,
            "count": 0
           },
           {
            "bin_start": 0.7,
            "bin_end": 0.8,
            "count": 0
           },
           {
            "bin_start": 0.8,
            "bin_end": 0.9,
            "count": 0
           },
           {
            "bin_start": 0.9,
            "bin_end": 1,
            "count": 0
           },
           {
            "bin_start": 1,
            "bin_end": 1.1,
            "count": 5
           },
           {
            "bin_start": 1.1,
            "bin_end": 1.2000000000000002,
            "count": 0
           },
           {
            "bin_start": 1.2000000000000002,
            "bin_end": 1.3,
            "count": 0
           },
           {
            "bin_start": 1.3,
            "bin_end": 1.4,
            "count": 0
           },
           {
            "bin_start": 1.4,
            "bin_end": 1.5,
            "count": 0
           }
          ]
         }
        },
        {
         "name": "Married_No",
         "dtype": "uint8",
         "stats": {
          "unique_count": 2,
          "nan_count": 0,
          "min": "0",
          "max": "1",
          "histogram": [
           {
            "bin_start": 0,
            "bin_end": 0.1,
            "count": 4
           },
           {
            "bin_start": 0.1,
            "bin_end": 0.2,
            "count": 0
           },
           {
            "bin_start": 0.2,
            "bin_end": 0.30000000000000004,
            "count": 0
           },
           {
            "bin_start": 0.30000000000000004,
            "bin_end": 0.4,
            "count": 0
           },
           {
            "bin_start": 0.4,
            "bin_end": 0.5,
            "count": 0
           },
           {
            "bin_start": 0.5,
            "bin_end": 0.6000000000000001,
            "count": 0
           },
           {
            "bin_start": 0.6000000000000001,
            "bin_end": 0.7000000000000001,
            "count": 0
           },
           {
            "bin_start": 0.7000000000000001,
            "bin_end": 0.8,
            "count": 0
           },
           {
            "bin_start": 0.8,
            "bin_end": 0.9,
            "count": 0
           },
           {
            "bin_start": 0.9,
            "bin_end": 1,
            "count": 1
           }
          ]
         }
        },
        {
         "name": "Married_Yes",
         "dtype": "uint8",
         "stats": {
          "unique_count": 2,
          "nan_count": 0,
          "min": "0",
          "max": "1",
          "histogram": [
           {
            "bin_start": 0,
            "bin_end": 0.1,
            "count": 1
           },
           {
            "bin_start": 0.1,
            "bin_end": 0.2,
            "count": 0
           },
           {
            "bin_start": 0.2,
            "bin_end": 0.30000000000000004,
            "count": 0
           },
           {
            "bin_start": 0.30000000000000004,
            "bin_end": 0.4,
            "count": 0
           },
           {
            "bin_start": 0.4,
            "bin_end": 0.5,
            "count": 0
           },
           {
            "bin_start": 0.5,
            "bin_end": 0.6000000000000001,
            "count": 0
           },
           {
            "bin_start": 0.6000000000000001,
            "bin_end": 0.7000000000000001,
            "count": 0
           },
           {
            "bin_start": 0.7000000000000001,
            "bin_end": 0.8,
            "count": 0
           },
           {
            "bin_start": 0.8,
            "bin_end": 0.9,
            "count": 0
           },
           {
            "bin_start": 0.9,
            "bin_end": 1,
            "count": 4
           }
          ]
         }
        },
        {
         "name": "Education_Graduate",
         "dtype": "uint8",
         "stats": {
          "unique_count": 2,
          "nan_count": 0,
          "min": "0",
          "max": "1",
          "histogram": [
           {
            "bin_start": 0,
            "bin_end": 0.1,
            "count": 1
           },
           {
            "bin_start": 0.1,
            "bin_end": 0.2,
            "count": 0
           },
           {
            "bin_start": 0.2,
            "bin_end": 0.30000000000000004,
            "count": 0
           },
           {
            "bin_start": 0.30000000000000004,
            "bin_end": 0.4,
            "count": 0
           },
           {
            "bin_start": 0.4,
            "bin_end": 0.5,
            "count": 0
           },
           {
            "bin_start": 0.5,
            "bin_end": 0.6000000000000001,
            "count": 0
           },
           {
            "bin_start": 0.6000000000000001,
            "bin_end": 0.7000000000000001,
            "count": 0
           },
           {
            "bin_start": 0.7000000000000001,
            "bin_end": 0.8,
            "count": 0
           },
           {
            "bin_start": 0.8,
            "bin_end": 0.9,
            "count": 0
           },
           {
            "bin_start": 0.9,
            "bin_end": 1,
            "count": 4
           }
          ]
         }
        },
        {
         "name": "Education_Not Graduate",
         "dtype": "uint8",
         "stats": {
          "unique_count": 2,
          "nan_count": 0,
          "min": "0",
          "max": "1",
          "histogram": [
           {
            "bin_start": 0,
            "bin_end": 0.1,
            "count": 4
           },
           {
            "bin_start": 0.1,
            "bin_end": 0.2,
            "count": 0
           },
           {
            "bin_start": 0.2,
            "bin_end": 0.30000000000000004,
            "count": 0
           },
           {
            "bin_start": 0.30000000000000004,
            "bin_end": 0.4,
            "count": 0
           },
           {
            "bin_start": 0.4,
            "bin_end": 0.5,
            "count": 0
           },
           {
            "bin_start": 0.5,
            "bin_end": 0.6000000000000001,
            "count": 0
           },
           {
            "bin_start": 0.6000000000000001,
            "bin_end": 0.7000000000000001,
            "count": 0
           },
           {
            "bin_start": 0.7000000000000001,
            "bin_end": 0.8,
            "count": 0
           },
           {
            "bin_start": 0.8,
            "bin_end": 0.9,
            "count": 0
           },
           {
            "bin_start": 0.9,
            "bin_end": 1,
            "count": 1
           }
          ]
         }
        },
        {
         "name": "Self_Employed_No",
         "dtype": "uint8",
         "stats": {
          "unique_count": 1,
          "nan_count": 0,
          "min": "1",
          "max": "1",
          "histogram": [
           {
            "bin_start": 0.5,
            "bin_end": 0.6,
            "count": 0
           },
           {
            "bin_start": 0.6,
            "bin_end": 0.7,
            "count": 0
           },
           {
            "bin_start": 0.7,
            "bin_end": 0.8,
            "count": 0
           },
           {
            "bin_start": 0.8,
            "bin_end": 0.9,
            "count": 0
           },
           {
            "bin_start": 0.9,
            "bin_end": 1,
            "count": 0
           },
           {
            "bin_start": 1,
            "bin_end": 1.1,
            "count": 5
           },
           {
            "bin_start": 1.1,
            "bin_end": 1.2000000000000002,
            "count": 0
           },
           {
            "bin_start": 1.2000000000000002,
            "bin_end": 1.3,
            "count": 0
           },
           {
            "bin_start": 1.3,
            "bin_end": 1.4,
            "count": 0
           },
           {
            "bin_start": 1.4,
            "bin_end": 1.5,
            "count": 0
           }
          ]
         }
        },
        {
         "name": "Self_Employed_Yes",
         "dtype": "uint8",
         "stats": {
          "unique_count": 1,
          "nan_count": 0,
          "min": "0",
          "max": "0",
          "histogram": [
           {
            "bin_start": -0.5,
            "bin_end": -0.4,
            "count": 0
           },
           {
            "bin_start": -0.4,
            "bin_end": -0.3,
            "count": 0
           },
           {
            "bin_start": -0.3,
            "bin_end": -0.19999999999999996,
            "count": 0
           },
           {
            "bin_start": -0.19999999999999996,
            "bin_end": -0.09999999999999998,
            "count": 0
           },
           {
            "bin_start": -0.09999999999999998,
            "bin_end": 0,
            "count": 0
           },
           {
            "bin_start": 0,
            "bin_end": 0.10000000000000009,
            "count": 5
           },
           {
            "bin_start": 0.10000000000000009,
            "bin_end": 0.20000000000000007,
            "count": 0
           },
           {
            "bin_start": 0.20000000000000007,
            "bin_end": 0.30000000000000004,
            "count": 0
           },
           {
            "bin_start": 0.30000000000000004,
            "bin_end": 0.4,
            "count": 0
           },
           {
            "bin_start": 0.4,
            "bin_end": 0.5,
            "count": 0
           }
          ]
         }
        },
        {
         "name": "Property_Area_Rural",
         "dtype": "uint8",
         "stats": {
          "unique_count": 1,
          "nan_count": 0,
          "min": "0",
          "max": "0",
          "histogram": [
           {
            "bin_start": -0.5,
            "bin_end": -0.4,
            "count": 0
           },
           {
            "bin_start": -0.4,
            "bin_end": -0.3,
            "count": 0
           },
           {
            "bin_start": -0.3,
            "bin_end": -0.19999999999999996,
            "count": 0
           },
           {
            "bin_start": -0.19999999999999996,
            "bin_end": -0.09999999999999998,
            "count": 0
           },
           {
            "bin_start": -0.09999999999999998,
            "bin_end": 0,
            "count": 0
           },
           {
            "bin_start": 0,
            "bin_end": 0.10000000000000009,
            "count": 5
           },
           {
            "bin_start": 0.10000000000000009,
            "bin_end": 0.20000000000000007,
            "count": 0
           },
           {
            "bin_start": 0.20000000000000007,
            "bin_end": 0.30000000000000004,
            "count": 0
           },
           {
            "bin_start": 0.30000000000000004,
            "bin_end": 0.4,
            "count": 0
           },
           {
            "bin_start": 0.4,
            "bin_end": 0.5,
            "count": 0
           }
          ]
         }
        },
        {
         "name": "Property_Area_Semiurban",
         "dtype": "uint8",
         "stats": {
          "unique_count": 1,
          "nan_count": 0,
          "min": "0",
          "max": "0",
          "histogram": [
           {
            "bin_start": -0.5,
            "bin_end": -0.4,
            "count": 0
           },
           {
            "bin_start": -0.4,
            "bin_end": -0.3,
            "count": 0
           },
           {
            "bin_start": -0.3,
            "bin_end": -0.19999999999999996,
            "count": 0
           },
           {
            "bin_start": -0.19999999999999996,
            "bin_end": -0.09999999999999998,
            "count": 0
           },
           {
            "bin_start": -0.09999999999999998,
            "bin_end": 0,
            "count": 0
           },
           {
            "bin_start": 0,
            "bin_end": 0.10000000000000009,
            "count": 5
           },
           {
            "bin_start": 0.10000000000000009,
            "bin_end": 0.20000000000000007,
            "count": 0
           },
           {
            "bin_start": 0.20000000000000007,
            "bin_end": 0.30000000000000004,
            "count": 0
           },
           {
            "bin_start": 0.30000000000000004,
            "bin_end": 0.4,
            "count": 0
           },
           {
            "bin_start": 0.4,
            "bin_end": 0.5,
            "count": 0
           }
          ]
         }
        },
        {
         "name": "Property_Area_Urban",
         "dtype": "uint8",
         "stats": {
          "unique_count": 1,
          "nan_count": 0,
          "min": "1",
          "max": "1",
          "histogram": [
           {
            "bin_start": 0.5,
            "bin_end": 0.6,
            "count": 0
           },
           {
            "bin_start": 0.6,
            "bin_end": 0.7,
            "count": 0
           },
           {
            "bin_start": 0.7,
            "bin_end": 0.8,
            "count": 0
           },
           {
            "bin_start": 0.8,
            "bin_end": 0.9,
            "count": 0
           },
           {
            "bin_start": 0.9,
            "bin_end": 1,
            "count": 0
           },
           {
            "bin_start": 1,
            "bin_end": 1.1,
            "count": 5
           },
           {
            "bin_start": 1.1,
            "bin_end": 1.2000000000000002,
            "count": 0
           },
           {
            "bin_start": 1.2000000000000002,
            "bin_end": 1.3,
            "count": 0
           },
           {
            "bin_start": 1.3,
            "bin_end": 1.4,
            "count": 0
           },
           {
            "bin_start": 1.4,
            "bin_end": 1.5,
            "count": 0
           }
          ]
         }
        },
        {
         "name": "Dependents_0",
         "dtype": "uint8",
         "stats": {
          "unique_count": 2,
          "nan_count": 0,
          "min": "0",
          "max": "1",
          "histogram": [
           {
            "bin_start": 0,
            "bin_end": 0.1,
            "count": 3
           },
           {
            "bin_start": 0.1,
            "bin_end": 0.2,
            "count": 0
           },
           {
            "bin_start": 0.2,
            "bin_end": 0.30000000000000004,
            "count": 0
           },
           {
            "bin_start": 0.30000000000000004,
            "bin_end": 0.4,
            "count": 0
           },
           {
            "bin_start": 0.4,
            "bin_end": 0.5,
            "count": 0
           },
           {
            "bin_start": 0.5,
            "bin_end": 0.6000000000000001,
            "count": 0
           },
           {
            "bin_start": 0.6000000000000001,
            "bin_end": 0.7000000000000001,
            "count": 0
           },
           {
            "bin_start": 0.7000000000000001,
            "bin_end": 0.8,
            "count": 0
           },
           {
            "bin_start": 0.8,
            "bin_end": 0.9,
            "count": 0
           },
           {
            "bin_start": 0.9,
            "bin_end": 1,
            "count": 2
           }
          ]
         }
        },
        {
         "name": "Dependents_1",
         "dtype": "uint8",
         "stats": {
          "unique_count": 2,
          "nan_count": 0,
          "min": "0",
          "max": "1",
          "histogram": [
           {
            "bin_start": 0,
            "bin_end": 0.1,
            "count": 4
           },
           {
            "bin_start": 0.1,
            "bin_end": 0.2,
            "count": 0
           },
           {
            "bin_start": 0.2,
            "bin_end": 0.30000000000000004,
            "count": 0
           },
           {
            "bin_start": 0.30000000000000004,
            "bin_end": 0.4,
            "count": 0
           },
           {
            "bin_start": 0.4,
            "bin_end": 0.5,
            "count": 0
           },
           {
            "bin_start": 0.5,
            "bin_end": 0.6000000000000001,
            "count": 0
           },
           {
            "bin_start": 0.6000000000000001,
            "bin_end": 0.7000000000000001,
            "count": 0
           },
           {
            "bin_start": 0.7000000000000001,
            "bin_end": 0.8,
            "count": 0
           },
           {
            "bin_start": 0.8,
            "bin_end": 0.9,
            "count": 0
           },
           {
            "bin_start": 0.9,
            "bin_end": 1,
            "count": 1
           }
          ]
         }
        },
        {
         "name": "Dependents_2",
         "dtype": "uint8",
         "stats": {
          "unique_count": 2,
          "nan_count": 0,
          "min": "0",
          "max": "1",
          "histogram": [
           {
            "bin_start": 0,
            "bin_end": 0.1,
            "count": 3
           },
           {
            "bin_start": 0.1,
            "bin_end": 0.2,
            "count": 0
           },
           {
            "bin_start": 0.2,
            "bin_end": 0.30000000000000004,
            "count": 0
           },
           {
            "bin_start": 0.30000000000000004,
            "bin_end": 0.4,
            "count": 0
           },
           {
            "bin_start": 0.4,
            "bin_end": 0.5,
            "count": 0
           },
           {
            "bin_start": 0.5,
            "bin_end": 0.6000000000000001,
            "count": 0
           },
           {
            "bin_start": 0.6000000000000001,
            "bin_end": 0.7000000000000001,
            "count": 0
           },
           {
            "bin_start": 0.7000000000000001,
            "bin_end": 0.8,
            "count": 0
           },
           {
            "bin_start": 0.8,
            "bin_end": 0.9,
            "count": 0
           },
           {
            "bin_start": 0.9,
            "bin_end": 1,
            "count": 2
           }
          ]
         }
        },
        {
         "name": "Dependents_3+",
         "dtype": "uint8",
         "stats": {
          "unique_count": 1,
          "nan_count": 0,
          "min": "0",
          "max": "0",
          "histogram": [
           {
            "bin_start": -0.5,
            "bin_end": -0.4,
            "count": 0
           },
           {
            "bin_start": -0.4,
            "bin_end": -0.3,
            "count": 0
           },
           {
            "bin_start": -0.3,
            "bin_end": -0.19999999999999996,
            "count": 0
           },
           {
            "bin_start": -0.19999999999999996,
            "bin_end": -0.09999999999999998,
            "count": 0
           },
           {
            "bin_start": -0.09999999999999998,
            "bin_end": 0,
            "count": 0
           },
           {
            "bin_start": 0,
            "bin_end": 0.10000000000000009,
            "count": 5
           },
           {
            "bin_start": 0.10000000000000009,
            "bin_end": 0.20000000000000007,
            "count": 0
           },
           {
            "bin_start": 0.20000000000000007,
            "bin_end": 0.30000000000000004,
            "count": 0
           },
           {
            "bin_start": 0.30000000000000004,
            "bin_end": 0.4,
            "count": 0
           },
           {
            "bin_start": 0.4,
            "bin_end": 0.5,
            "count": 0
           }
          ]
         }
        },
        {
         "name": "ApplicantIncome",
         "dtype": "int64",
         "stats": {
          "unique_count": 5,
          "nan_count": 0,
          "min": "2340",
          "max": "5720",
          "histogram": [
           {
            "bin_start": 2340,
            "bin_end": 2678,
            "count": 1
           },
           {
            "bin_start": 2678,
            "bin_end": 3016,
            "count": 0
           },
           {
            "bin_start": 3016,
            "bin_end": 3354,
            "count": 2
           },
           {
            "bin_start": 3354,
            "bin_end": 3692,
            "count": 0
           },
           {
            "bin_start": 3692,
            "bin_end": 4030,
            "count": 0
           },
           {
            "bin_start": 4030,
            "bin_end": 4368,
            "count": 0
           },
           {
            "bin_start": 4368,
            "bin_end": 4706,
            "count": 0
           },
           {
            "bin_start": 4706,
            "bin_end": 5044,
            "count": 1
           },
           {
            "bin_start": 5044,
            "bin_end": 5382,
            "count": 0
           },
           {
            "bin_start": 5382,
            "bin_end": 5720,
            "count": 1
           }
          ]
         }
        },
        {
         "name": "CoapplicantIncome",
         "dtype": "int64",
         "stats": {
          "unique_count": 4,
          "nan_count": 0,
          "min": "0",
          "max": "2546",
          "histogram": [
           {
            "bin_start": 0,
            "bin_end": 254.6,
            "count": 2
           },
           {
            "bin_start": 254.6,
            "bin_end": 509.2,
            "count": 0
           },
           {
            "bin_start": 509.2,
            "bin_end": 763.8,
            "count": 0
           },
           {
            "bin_start": 763.8,
            "bin_end": 1018.4,
            "count": 0
           },
           {
            "bin_start": 1018.4,
            "bin_end": 1273,
            "count": 0
           },
           {
            "bin_start": 1273,
            "bin_end": 1527.6,
            "count": 1
           },
           {
            "bin_start": 1527.6,
            "bin_end": 1782.2,
            "count": 0
           },
           {
            "bin_start": 1782.2,
            "bin_end": 2036.8,
            "count": 1
           },
           {
            "bin_start": 2036.8,
            "bin_end": 2291.4,
            "count": 0
           },
           {
            "bin_start": 2291.4,
            "bin_end": 2546,
            "count": 1
           }
          ]
         }
        },
        {
         "name": "LoanAmount",
         "dtype": "float64",
         "stats": {
          "unique_count": 5,
          "nan_count": 0,
          "min": "78.0",
          "max": "208.0",
          "histogram": [
           {
            "bin_start": 78,
            "bin_end": 91,
            "count": 1
           },
           {
            "bin_start": 91,
            "bin_end": 104,
            "count": 1
           },
           {
            "bin_start": 104,
            "bin_end": 117,
            "count": 1
           },
           {
            "bin_start": 117,
            "bin_end": 130,
            "count": 1
           },
           {
            "bin_start": 130,
            "bin_end": 143,
            "count": 0
           },
           {
            "bin_start": 143,
            "bin_end": 156,
            "count": 0
           },
           {
            "bin_start": 156,
            "bin_end": 169,
            "count": 0
           },
           {
            "bin_start": 169,
            "bin_end": 182,
            "count": 0
           },
           {
            "bin_start": 182,
            "bin_end": 195,
            "count": 0
           },
           {
            "bin_start": 195,
            "bin_end": 208,
            "count": 1
           }
          ]
         }
        },
        {
         "name": "Loan_Amount_Term",
         "dtype": "float64",
         "stats": {
          "unique_count": 1,
          "nan_count": 0,
          "min": "360.0",
          "max": "360.0",
          "histogram": [
           {
            "bin_start": 359.5,
            "bin_end": 359.6,
            "count": 0
           },
           {
            "bin_start": 359.6,
            "bin_end": 359.7,
            "count": 0
           },
           {
            "bin_start": 359.7,
            "bin_end": 359.8,
            "count": 0
           },
           {
            "bin_start": 359.8,
            "bin_end": 359.9,
            "count": 0
           },
           {
            "bin_start": 359.9,
            "bin_end": 360,
            "count": 0
           },
           {
            "bin_start": 360,
            "bin_end": 360.1,
            "count": 5
           },
           {
            "bin_start": 360.1,
            "bin_end": 360.2,
            "count": 0
           },
           {
            "bin_start": 360.2,
            "bin_end": 360.3,
            "count": 0
           },
           {
            "bin_start": 360.3,
            "bin_end": 360.4,
            "count": 0
           },
           {
            "bin_start": 360.4,
            "bin_end": 360.5,
            "count": 0
           }
          ]
         }
        },
        {
         "name": "Credit_History",
         "dtype": "float64",
         "stats": {
          "unique_count": 1,
          "nan_count": 0,
          "min": "1.0",
          "max": "1.0",
          "histogram": [
           {
            "bin_start": 0.5,
            "bin_end": 0.6,
            "count": 0
           },
           {
            "bin_start": 0.6,
            "bin_end": 0.7,
            "count": 0
           },
           {
            "bin_start": 0.7,
            "bin_end": 0.8,
            "count": 0
           },
           {
            "bin_start": 0.8,
            "bin_end": 0.9,
            "count": 0
           },
           {
            "bin_start": 0.9,
            "bin_end": 1,
            "count": 0
           },
           {
            "bin_start": 1,
            "bin_end": 1.1,
            "count": 5
           },
           {
            "bin_start": 1.1,
            "bin_end": 1.2000000000000002,
            "count": 0
           },
           {
            "bin_start": 1.2000000000000002,
            "bin_end": 1.3,
            "count": 0
           },
           {
            "bin_start": 1.3,
            "bin_end": 1.4,
            "count": 0
           },
           {
            "bin_start": 1.4,
            "bin_end": 1.5,
            "count": 0
           }
          ]
         }
        },
        {
         "name": "Loan_Status",
         "dtype": "object",
         "stats": {
          "unique_count": 2,
          "nan_count": 0,
          "categories": [
           {
            "name": "Y",
            "count": 4
           },
           {
            "name": "N",
            "count": 1
           }
          ]
         }
        },
        {
         "name": "_deepnote_index_column",
         "dtype": "int64"
        }
       ],
       "rows": [
        {
         "Gender_Female": 0,
         "Gender_Male": 1,
         "Married_No": 0,
         "Married_Yes": 1,
         "Education_Graduate": 1,
         "Education_Not Graduate": 0,
         "Self_Employed_No": 1,
         "Self_Employed_Yes": 0,
         "Property_Area_Rural": 0,
         "Property_Area_Semiurban": 0,
         "Property_Area_Urban": 1,
         "Dependents_0": 1,
         "Dependents_1": 0,
         "Dependents_2": 0,
         "Dependents_3+": 0,
         "ApplicantIncome": 5720,
         "CoapplicantIncome": 0,
         "LoanAmount": 110,
         "Loan_Amount_Term": 360,
         "Credit_History": 1,
         "Loan_Status": "Y",
         "_deepnote_index_column": 0
        },
        {
         "Gender_Female": 0,
         "Gender_Male": 1,
         "Married_No": 0,
         "Married_Yes": 1,
         "Education_Graduate": 1,
         "Education_Not Graduate": 0,
         "Self_Employed_No": 1,
         "Self_Employed_Yes": 0,
         "Property_Area_Rural": 0,
         "Property_Area_Semiurban": 0,
         "Property_Area_Urban": 1,
         "Dependents_0": 0,
         "Dependents_1": 1,
         "Dependents_2": 0,
         "Dependents_3+": 0,
         "ApplicantIncome": 3076,
         "CoapplicantIncome": 1500,
         "LoanAmount": 126,
         "Loan_Amount_Term": 360,
         "Credit_History": 1,
         "Loan_Status": "Y",
         "_deepnote_index_column": 1
        },
        {
         "Gender_Female": 0,
         "Gender_Male": 1,
         "Married_No": 0,
         "Married_Yes": 1,
         "Education_Graduate": 1,
         "Education_Not Graduate": 0,
         "Self_Employed_No": 1,
         "Self_Employed_Yes": 0,
         "Property_Area_Rural": 0,
         "Property_Area_Semiurban": 0,
         "Property_Area_Urban": 1,
         "Dependents_0": 0,
         "Dependents_1": 0,
         "Dependents_2": 1,
         "Dependents_3+": 0,
         "ApplicantIncome": 5000,
         "CoapplicantIncome": 1800,
         "LoanAmount": 208,
         "Loan_Amount_Term": 360,
         "Credit_History": 1,
         "Loan_Status": "Y",
         "_deepnote_index_column": 2
        },
        {
         "Gender_Female": 0,
         "Gender_Male": 1,
         "Married_No": 0,
         "Married_Yes": 1,
         "Education_Graduate": 1,
         "Education_Not Graduate": 0,
         "Self_Employed_No": 1,
         "Self_Employed_Yes": 0,
         "Property_Area_Rural": 0,
         "Property_Area_Semiurban": 0,
         "Property_Area_Urban": 1,
         "Dependents_0": 0,
         "Dependents_1": 0,
         "Dependents_2": 1,
         "Dependents_3+": 0,
         "ApplicantIncome": 2340,
         "CoapplicantIncome": 2546,
         "LoanAmount": 100,
         "Loan_Amount_Term": 360,
         "Credit_History": 1,
         "Loan_Status": "Y",
         "_deepnote_index_column": 3
        },
        {
         "Gender_Female": 0,
         "Gender_Male": 1,
         "Married_No": 1,
         "Married_Yes": 0,
         "Education_Graduate": 0,
         "Education_Not Graduate": 1,
         "Self_Employed_No": 1,
         "Self_Employed_Yes": 0,
         "Property_Area_Rural": 0,
         "Property_Area_Semiurban": 0,
         "Property_Area_Urban": 1,
         "Dependents_0": 1,
         "Dependents_1": 0,
         "Dependents_2": 0,
         "Dependents_3+": 0,
         "ApplicantIncome": 3276,
         "CoapplicantIncome": 0,
         "LoanAmount": 78,
         "Loan_Amount_Term": 360,
         "Credit_History": 1,
         "Loan_Status": "N",
         "_deepnote_index_column": 4
        }
       ]
      },
      "text/plain": "   Gender_Female  Gender_Male  Married_No  Married_Yes  Education_Graduate  \\\n0              0            1           0            1                   1   \n1              0            1           0            1                   1   \n2              0            1           0            1                   1   \n3              0            1           0            1                   1   \n4              0            1           1            0                   0   \n\n   Education_Not Graduate  Self_Employed_No  Self_Employed_Yes  \\\n0                       0                 1                  0   \n1                       0                 1                  0   \n2                       0                 1                  0   \n3                       0                 1                  0   \n4                       1                 1                  0   \n\n   Property_Area_Rural  Property_Area_Semiurban  ...  Dependents_0  \\\n0                    0                        0  ...             1   \n1                    0                        0  ...             0   \n2                    0                        0  ...             0   \n3                    0                        0  ...             0   \n4                    0                        0  ...             1   \n\n   Dependents_1  Dependents_2  Dependents_3+  ApplicantIncome  \\\n0             0             0              0             5720   \n1             1             0              0             3076   \n2             0             1              0             5000   \n3             0             1              0             2340   \n4             0             0              0             3276   \n\n   CoapplicantIncome  LoanAmount  Loan_Amount_Term  Credit_History  \\\n0                  0       110.0             360.0             1.0   \n1               1500       126.0             360.0             1.0   \n2               1800       208.0             360.0             1.0   \n3               2546       100.0             360.0             1.0   \n4                  0        78.0             360.0             1.0   \n\n   Loan_Status  \n0            Y  \n1            Y  \n2            Y  \n3            Y  \n4            N  \n\n[5 rows x 21 columns]",
      "text/html": "<div>\n<style scoped>\n    .dataframe tbody tr th:only-of-type {\n        vertical-align: middle;\n    }\n\n    .dataframe tbody tr th {\n        vertical-align: top;\n    }\n\n    .dataframe thead th {\n        text-align: right;\n    }\n</style>\n<table border=\"1\" class=\"dataframe\">\n  <thead>\n    <tr style=\"text-align: right;\">\n      <th></th>\n      <th>Gender_Female</th>\n      <th>Gender_Male</th>\n      <th>Married_No</th>\n      <th>Married_Yes</th>\n      <th>Education_Graduate</th>\n      <th>Education_Not Graduate</th>\n      <th>Self_Employed_No</th>\n      <th>Self_Employed_Yes</th>\n      <th>Property_Area_Rural</th>\n      <th>Property_Area_Semiurban</th>\n      <th>...</th>\n      <th>Dependents_0</th>\n      <th>Dependents_1</th>\n      <th>Dependents_2</th>\n      <th>Dependents_3+</th>\n      <th>ApplicantIncome</th>\n      <th>CoapplicantIncome</th>\n      <th>LoanAmount</th>\n      <th>Loan_Amount_Term</th>\n      <th>Credit_History</th>\n      <th>Loan_Status</th>\n    </tr>\n  </thead>\n  <tbody>\n    <tr>\n      <th>0</th>\n      <td>0</td>\n      <td>1</td>\n      <td>0</td>\n      <td>1</td>\n      <td>1</td>\n      <td>0</td>\n      <td>1</td>\n      <td>0</td>\n      <td>0</td>\n      <td>0</td>\n      <td>...</td>\n      <td>1</td>\n      <td>0</td>\n      <td>0</td>\n      <td>0</td>\n      <td>5720</td>\n      <td>0</td>\n      <td>110.0</td>\n      <td>360.0</td>\n      <td>1.0</td>\n      <td>Y</td>\n    </tr>\n    <tr>\n      <th>1</th>\n      <td>0</td>\n      <td>1</td>\n      <td>0</td>\n      <td>1</td>\n      <td>1</td>\n      <td>0</td>\n      <td>1</td>\n      <td>0</td>\n      <td>0</td>\n      <td>0</td>\n      <td>...</td>\n      <td>0</td>\n      <td>1</td>\n      <td>0</td>\n      <td>0</td>\n      <td>3076</td>\n      <td>1500</td>\n      <td>126.0</td>\n      <td>360.0</td>\n      <td>1.0</td>\n      <td>Y</td>\n    </tr>\n    <tr>\n      <th>2</th>\n      <td>0</td>\n      <td>1</td>\n      <td>0</td>\n      <td>1</td>\n      <td>1</td>\n      <td>0</td>\n      <td>1</td>\n      <td>0</td>\n      <td>0</td>\n      <td>0</td>\n      <td>...</td>\n      <td>0</td>\n      <td>0</td>\n      <td>1</td>\n      <td>0</td>\n      <td>5000</td>\n      <td>1800</td>\n      <td>208.0</td>\n      <td>360.0</td>\n      <td>1.0</td>\n      <td>Y</td>\n    </tr>\n    <tr>\n      <th>3</th>\n      <td>0</td>\n      <td>1</td>\n      <td>0</td>\n      <td>1</td>\n      <td>1</td>\n      <td>0</td>\n      <td>1</td>\n      <td>0</td>\n      <td>0</td>\n      <td>0</td>\n      <td>...</td>\n      <td>0</td>\n      <td>0</td>\n      <td>1</td>\n      <td>0</td>\n      <td>2340</td>\n      <td>2546</td>\n      <td>100.0</td>\n      <td>360.0</td>\n      <td>1.0</td>\n      <td>Y</td>\n    </tr>\n    <tr>\n      <th>4</th>\n      <td>0</td>\n      <td>1</td>\n      <td>1</td>\n      <td>0</td>\n      <td>0</td>\n      <td>1</td>\n      <td>1</td>\n      <td>0</td>\n      <td>0</td>\n      <td>0</td>\n      <td>...</td>\n      <td>1</td>\n      <td>0</td>\n      <td>0</td>\n      <td>0</td>\n      <td>3276</td>\n      <td>0</td>\n      <td>78.0</td>\n      <td>360.0</td>\n      <td>1.0</td>\n      <td>N</td>\n    </tr>\n  </tbody>\n</table>\n<p>5 rows × 21 columns</p>\n</div>"
     },
     "metadata": {}
    }
   ],
   "execution_count": null
  },
  {
   "cell_type": "markdown",
   "source": "# Pycaret",
   "metadata": {
    "formattedRanges": [],
    "is_collapsed": false,
    "tags": [],
    "cell_id": "00091-8fe94d0f-990f-4314-8f95-a161606497e7",
    "deepnote_cell_type": "text-cell-h1"
   }
  },
  {
   "cell_type": "code",
   "metadata": {
    "tags": [],
    "deepnote_to_be_reexecuted": false,
    "source_hash": "a8690d93",
    "execution_start": 1659520969551,
    "execution_millis": 2,
    "cell_id": "00092-be072151-71d6-43cc-a907-7f190fec9f1b",
    "deepnote_cell_type": "code",
    "deepnote_cell_height": 94
   },
   "source": "# import pycaret\n# from pycaret.classification import *",
   "outputs": [],
   "execution_count": null
  },
  {
   "cell_type": "code",
   "metadata": {
    "tags": [],
    "deepnote_to_be_reexecuted": false,
    "source_hash": "ef48f582",
    "execution_start": 1659520969561,
    "execution_millis": 2,
    "cell_id": "00093-6e9da31f-b240-4abb-b8f6-e38b2fa3eb40",
    "deepnote_cell_type": "code",
    "deepnote_cell_height": 94
   },
   "source": "# df_caert = df.copy()\n",
   "outputs": [],
   "execution_count": null
  },
  {
   "cell_type": "code",
   "metadata": {
    "tags": [],
    "deepnote_to_be_reexecuted": false,
    "source_hash": "72e750b",
    "execution_start": 1659520969566,
    "execution_millis": 2,
    "cell_id": "00094-ad10de47-4087-4c71-9f5e-2f180aa679f7",
    "deepnote_cell_type": "code",
    "deepnote_cell_height": 76
   },
   "source": "# df_caert.head()",
   "outputs": [],
   "execution_count": null
  },
  {
   "cell_type": "code",
   "metadata": {
    "tags": [],
    "deepnote_to_be_reexecuted": false,
    "source_hash": "3a0d9b3e",
    "execution_start": 1659520969616,
    "execution_millis": 5997350,
    "cell_id": "00095-420bb143-0378-4102-980e-b020eb59952b",
    "deepnote_cell_type": "code",
    "deepnote_cell_height": 76
   },
   "source": "# classify = setup(data = df_caert, target = 'Loan_Status')",
   "outputs": [],
   "execution_count": null
  },
  {
   "cell_type": "code",
   "metadata": {
    "tags": [],
    "deepnote_to_be_reexecuted": false,
    "source_hash": "232bd642",
    "execution_start": 1659520969617,
    "execution_millis": 5997349,
    "cell_id": "00096-00babeeb-f564-4547-b1b5-0c8982e84095",
    "deepnote_cell_type": "code",
    "deepnote_cell_height": 76
   },
   "source": "# compare_models()",
   "outputs": [],
   "execution_count": null
  },
  {
   "cell_type": "code",
   "metadata": {
    "tags": [],
    "deepnote_to_be_reexecuted": false,
    "source_hash": "476478ef",
    "execution_start": 1659520969619,
    "execution_millis": 5997342,
    "cell_id": "00097-01ff5b89-1baa-4254-89d4-7b2914b07e1e",
    "deepnote_cell_type": "code",
    "deepnote_cell_height": 76
   },
   "source": "# compare_models(n_select = 3, sort='F1')",
   "outputs": [],
   "execution_count": null
  },
  {
   "cell_type": "markdown",
   "source": "<a style='text-decoration:none;line-height:16px;display:flex;color:#5B5B62;padding:10px;justify-content:end;' href='https://deepnote.com?utm_source=created-in-deepnote-cell&projectId=ca6491d5-dcd8-4f08-8e98-375cf39044bb' target=\"_blank\">\n<img alt='Created in deepnote.com' style='display:inline;max-height:16px;margin:0px;margin-right:7.5px;' src='data:image/svg+xml;base64,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' > </img>\nCreated in <span style='font-weight:600;margin-left:4px;'>Deepnote</span></a>",
   "metadata": {
    "tags": [],
    "created_in_deepnote_cell": true,
    "deepnote_cell_type": "markdown"
   }
  }
 ],
 "nbformat": 4,
 "nbformat_minor": 2,
 "metadata": {
  "orig_nbformat": 2,
  "deepnote": {},
  "deepnote_notebook_id": "d67e91ed-2f0e-4170-a08b-30478a650db3",
  "deepnote_execution_queue": []
 }
}